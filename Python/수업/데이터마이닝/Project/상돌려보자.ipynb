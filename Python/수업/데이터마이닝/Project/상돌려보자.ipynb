{
 "cells": [
  {
   "cell_type": "code",
   "execution_count": 60,
   "outputs": [],
   "source": [
    "import urllib.request\n",
    "import pandas\n",
    "import xml.etree.ElementTree as ET\n",
    "\n",
    "import seaborn as sns\n",
    "import pandas as pd\n",
    "import numpy as np\n",
    "from IPython.display import display\n",
    "import matplotlib.pyplot as plt\n",
    "from datetime import timedelta\n",
    "\n",
    "# 한글 폰트 설정\n",
    "from matplotlib import font_manager, rc\n",
    "font_name = font_manager.FontProperties(fname=\"c:/Windows/Fonts/malgun.ttf\").get_name()\n",
    "rc('font', family=font_name)"
   ],
   "metadata": {
    "collapsed": false,
    "pycharm": {
     "name": "#%%\n"
    }
   }
  },
  {
   "cell_type": "code",
   "execution_count": 61,
   "outputs": [],
   "source": [
    "def query_sender(date, date_1, last_year, kinds):\n",
    "    url='http://www.garak.co.kr/publicdata/dataOpen.do?id=2956&passwd=qwert1324!&' \\\n",
    "    'dataid=data4&pagesize=1000&pageidx=1&portal.templet=false&'\n",
    "\n",
    "    kinds = urllib.parse.quote(kinds)\n",
    "    code_info='p_ymd=' + date+'&p_jymd='+date_1+'&d_cd=2&p_jjymd='+last_year\n",
    "    code_info_2='&p_pos_gubun=9&pum_nm='+kinds\n",
    "\n",
    "    request = urllib.request.Request(url+code_info+code_info_2)\n",
    "    request.get_method=lambda :'GET'\n",
    "    response_body=urllib.request.urlopen(request).read()\n",
    "    u=str(response_body,'utf-8')\n",
    "    return u"
   ],
   "metadata": {
    "collapsed": false,
    "pycharm": {
     "name": "#%%\n"
    }
   }
  },
  {
   "cell_type": "code",
   "execution_count": 62,
   "outputs": [],
   "source": [
    "def xml_to_item_list(xml_string, date):\n",
    "    result=[]\n",
    "    root = ET.fromstring(xml_string)\n",
    "    for child in root:\n",
    "        item_list=[]\n",
    "        item_list.append(date)\n",
    "        for list in child:\n",
    "            if list.tag in ['PUM_NM_A', 'AV_P_A', 'PAV_P_A', 'PAV_PY_A', 'E_NAME']:\n",
    "                item_list.append(list.text)\n",
    "                #print(list.text)\n",
    "        result.append(item_list)\n",
    "\n",
    "    return result"
   ],
   "metadata": {
    "collapsed": false,
    "pycharm": {
     "name": "#%%\n"
    }
   }
  },
  {
   "cell_type": "code",
   "execution_count": 63,
   "outputs": [
    {
     "data": {
      "text/plain": "          날짜     품목명    평균가격  전일평균가격    전년가격 등급  평균기온  강수량\n1   20170101  대파(일반)  1937.3  2164.0     0.0  상   4.3  0.0\n6   20170103  대파(일반)  2164.0     0.0  1926.0  상   5.1  0.0\n10  20170104  대파(일반)  2100.0  2164.0  2126.0  상   4.4  0.0\n14  20170105  대파(일반)  2100.0  2100.0  1848.0  상   7.5  0.5\n18  20170106  대파(일반)  2100.0  2100.0  1865.0  상   7.2  0.2",
      "text/html": "<div>\n<style scoped>\n    .dataframe tbody tr th:only-of-type {\n        vertical-align: middle;\n    }\n\n    .dataframe tbody tr th {\n        vertical-align: top;\n    }\n\n    .dataframe thead th {\n        text-align: right;\n    }\n</style>\n<table border=\"1\" class=\"dataframe\">\n  <thead>\n    <tr style=\"text-align: right;\">\n      <th></th>\n      <th>날짜</th>\n      <th>품목명</th>\n      <th>평균가격</th>\n      <th>전일평균가격</th>\n      <th>전년가격</th>\n      <th>등급</th>\n      <th>평균기온</th>\n      <th>강수량</th>\n    </tr>\n  </thead>\n  <tbody>\n    <tr>\n      <th>1</th>\n      <td>20170101</td>\n      <td>대파(일반)</td>\n      <td>1937.3</td>\n      <td>2164.0</td>\n      <td>0.0</td>\n      <td>상</td>\n      <td>4.3</td>\n      <td>0.0</td>\n    </tr>\n    <tr>\n      <th>6</th>\n      <td>20170103</td>\n      <td>대파(일반)</td>\n      <td>2164.0</td>\n      <td>0.0</td>\n      <td>1926.0</td>\n      <td>상</td>\n      <td>5.1</td>\n      <td>0.0</td>\n    </tr>\n    <tr>\n      <th>10</th>\n      <td>20170104</td>\n      <td>대파(일반)</td>\n      <td>2100.0</td>\n      <td>2164.0</td>\n      <td>2126.0</td>\n      <td>상</td>\n      <td>4.4</td>\n      <td>0.0</td>\n    </tr>\n    <tr>\n      <th>14</th>\n      <td>20170105</td>\n      <td>대파(일반)</td>\n      <td>2100.0</td>\n      <td>2100.0</td>\n      <td>1848.0</td>\n      <td>상</td>\n      <td>7.5</td>\n      <td>0.5</td>\n    </tr>\n    <tr>\n      <th>18</th>\n      <td>20170106</td>\n      <td>대파(일반)</td>\n      <td>2100.0</td>\n      <td>2100.0</td>\n      <td>1865.0</td>\n      <td>상</td>\n      <td>7.2</td>\n      <td>0.2</td>\n    </tr>\n  </tbody>\n</table>\n</div>"
     },
     "metadata": {},
     "output_type": "display_data"
    }
   ],
   "source": [
    "# 상 데이터만 먼저 사용\n",
    "df = pd.read_csv('./data/good.csv', index_col = 0)\n",
    "display(df.head())"
   ],
   "metadata": {
    "collapsed": false,
    "pycharm": {
     "name": "#%%\n"
    }
   }
  },
  {
   "cell_type": "markdown",
   "source": [
    "### LSTM 모델링"
   ],
   "metadata": {
    "collapsed": false
   }
  },
  {
   "cell_type": "code",
   "execution_count": 64,
   "outputs": [
    {
     "data": {
      "text/plain": "               품목명    평균가격  전일평균가격    전년가격 등급  평균기온  강수량\n날짜                                                      \n2017-01-01  대파(일반)  1937.3  2164.0     0.0  상   4.3  0.0\n2017-01-03  대파(일반)  2164.0     0.0  1926.0  상   5.1  0.0\n2017-01-04  대파(일반)  2100.0  2164.0  2126.0  상   4.4  0.0\n2017-01-05  대파(일반)  2100.0  2100.0  1848.0  상   7.5  0.5\n2017-01-06  대파(일반)  2100.0  2100.0  1865.0  상   7.2  0.2\n...            ...     ...     ...     ... ..   ...  ...\n2021-05-23  대파(일반)  1937.3  1883.0  1546.0  상  19.7  0.0\n2021-05-24  대파(일반)  1804.0     0.0     0.0  상  17.6  0.0\n2021-05-25  대파(일반)  2153.0  1804.0  1614.0  상  17.3  0.0\n2021-05-26  대파(일반)  2152.0  2153.0  1623.0  상  17.1  0.7\n2021-05-27  대파(일반)  1554.0  2152.0  1639.0  상  16.9  0.6\n\n[1581 rows x 7 columns]",
      "text/html": "<div>\n<style scoped>\n    .dataframe tbody tr th:only-of-type {\n        vertical-align: middle;\n    }\n\n    .dataframe tbody tr th {\n        vertical-align: top;\n    }\n\n    .dataframe thead th {\n        text-align: right;\n    }\n</style>\n<table border=\"1\" class=\"dataframe\">\n  <thead>\n    <tr style=\"text-align: right;\">\n      <th></th>\n      <th>품목명</th>\n      <th>평균가격</th>\n      <th>전일평균가격</th>\n      <th>전년가격</th>\n      <th>등급</th>\n      <th>평균기온</th>\n      <th>강수량</th>\n    </tr>\n    <tr>\n      <th>날짜</th>\n      <th></th>\n      <th></th>\n      <th></th>\n      <th></th>\n      <th></th>\n      <th></th>\n      <th></th>\n    </tr>\n  </thead>\n  <tbody>\n    <tr>\n      <th>2017-01-01</th>\n      <td>대파(일반)</td>\n      <td>1937.3</td>\n      <td>2164.0</td>\n      <td>0.0</td>\n      <td>상</td>\n      <td>4.3</td>\n      <td>0.0</td>\n    </tr>\n    <tr>\n      <th>2017-01-03</th>\n      <td>대파(일반)</td>\n      <td>2164.0</td>\n      <td>0.0</td>\n      <td>1926.0</td>\n      <td>상</td>\n      <td>5.1</td>\n      <td>0.0</td>\n    </tr>\n    <tr>\n      <th>2017-01-04</th>\n      <td>대파(일반)</td>\n      <td>2100.0</td>\n      <td>2164.0</td>\n      <td>2126.0</td>\n      <td>상</td>\n      <td>4.4</td>\n      <td>0.0</td>\n    </tr>\n    <tr>\n      <th>2017-01-05</th>\n      <td>대파(일반)</td>\n      <td>2100.0</td>\n      <td>2100.0</td>\n      <td>1848.0</td>\n      <td>상</td>\n      <td>7.5</td>\n      <td>0.5</td>\n    </tr>\n    <tr>\n      <th>2017-01-06</th>\n      <td>대파(일반)</td>\n      <td>2100.0</td>\n      <td>2100.0</td>\n      <td>1865.0</td>\n      <td>상</td>\n      <td>7.2</td>\n      <td>0.2</td>\n    </tr>\n    <tr>\n      <th>...</th>\n      <td>...</td>\n      <td>...</td>\n      <td>...</td>\n      <td>...</td>\n      <td>...</td>\n      <td>...</td>\n      <td>...</td>\n    </tr>\n    <tr>\n      <th>2021-05-23</th>\n      <td>대파(일반)</td>\n      <td>1937.3</td>\n      <td>1883.0</td>\n      <td>1546.0</td>\n      <td>상</td>\n      <td>19.7</td>\n      <td>0.0</td>\n    </tr>\n    <tr>\n      <th>2021-05-24</th>\n      <td>대파(일반)</td>\n      <td>1804.0</td>\n      <td>0.0</td>\n      <td>0.0</td>\n      <td>상</td>\n      <td>17.6</td>\n      <td>0.0</td>\n    </tr>\n    <tr>\n      <th>2021-05-25</th>\n      <td>대파(일반)</td>\n      <td>2153.0</td>\n      <td>1804.0</td>\n      <td>1614.0</td>\n      <td>상</td>\n      <td>17.3</td>\n      <td>0.0</td>\n    </tr>\n    <tr>\n      <th>2021-05-26</th>\n      <td>대파(일반)</td>\n      <td>2152.0</td>\n      <td>2153.0</td>\n      <td>1623.0</td>\n      <td>상</td>\n      <td>17.1</td>\n      <td>0.7</td>\n    </tr>\n    <tr>\n      <th>2021-05-27</th>\n      <td>대파(일반)</td>\n      <td>1554.0</td>\n      <td>2152.0</td>\n      <td>1639.0</td>\n      <td>상</td>\n      <td>16.9</td>\n      <td>0.6</td>\n    </tr>\n  </tbody>\n</table>\n<p>1581 rows × 7 columns</p>\n</div>"
     },
     "metadata": {},
     "output_type": "display_data"
    }
   ],
   "source": [
    "# 굳이 csv로 저장 하지 않아도 되지만, 여러번 실험하기 위해 계속 데이터를 불러와서\n",
    "# 자르고 나누고 하는 것 보다 정제된 데이터를 저장해야 겠다 생각하여 상 데이터를 저장해놓은\n",
    "# best.csv 파일이다.\n",
    "\n",
    "df['날짜'] = df['날짜'].apply(lambda x: pd.to_datetime(str(x), format='%Y%m%d'))\n",
    "df = df.set_index('날짜')\n",
    "\n",
    "display(df)"
   ],
   "metadata": {
    "collapsed": false,
    "pycharm": {
     "name": "#%%\n"
    }
   }
  },
  {
   "cell_type": "code",
   "execution_count": 65,
   "outputs": [],
   "source": [
    "import matplotlib as mpl\n",
    "mpl.rcParams['figure.figsize'] = (8,6)\n",
    "mpl.rcParams['axes.grid'] = False\n",
    "mpl.rcParams['axes.unicode_minus'] = False\n",
    "\n"
   ],
   "metadata": {
    "collapsed": false,
    "pycharm": {
     "name": "#%%\n"
    }
   }
  },
  {
   "cell_type": "code",
   "execution_count": 66,
   "outputs": [
    {
     "name": "stdout",
     "output_type": "stream",
     "text": [
      "<class 'pandas.core.frame.DataFrame'>\n",
      "DatetimeIndex: 1581 entries, 2017-01-01 to 2021-05-27\n",
      "Data columns (total 7 columns):\n",
      " #   Column  Non-Null Count  Dtype  \n",
      "---  ------  --------------  -----  \n",
      " 0   품목명     1581 non-null   object \n",
      " 1   평균가격    1581 non-null   float64\n",
      " 2   전일평균가격  1581 non-null   float64\n",
      " 3   전년가격    1581 non-null   float64\n",
      " 4   등급      1581 non-null   object \n",
      " 5   평균기온    1581 non-null   float64\n",
      " 6   강수량     1581 non-null   float64\n",
      "dtypes: float64(5), object(2)\n",
      "memory usage: 98.8+ KB\n"
     ]
    }
   ],
   "source": [
    "df.info()"
   ],
   "metadata": {
    "collapsed": false,
    "pycharm": {
     "name": "#%%\n"
    }
   }
  },
  {
   "cell_type": "code",
   "execution_count": 67,
   "outputs": [
    {
     "data": {
      "text/plain": "<AxesSubplot:xlabel='날짜'>"
     },
     "execution_count": 67,
     "metadata": {},
     "output_type": "execute_result"
    },
    {
     "data": {
      "text/plain": "<Figure size 576x432 with 1 Axes>",
      "image/png": "[encoded data removed]"
     },
     "metadata": {
      "needs_background": "light"
     },
     "output_type": "display_data"
    }
   ],
   "source": [
    "plt.rc('font', family='Malgun Gothic')\n",
    "df['평균가격'].plot()"
   ],
   "metadata": {
    "collapsed": false,
    "pycharm": {
     "name": "#%%\n"
    }
   }
  },
  {
   "cell_type": "code",
   "execution_count": 68,
   "outputs": [
    {
     "data": {
      "text/plain": "<AxesSubplot:xlabel='날짜'>"
     },
     "execution_count": 68,
     "metadata": {},
     "output_type": "execute_result"
    },
    {
     "data": {
      "text/plain": "<Figure size 576x432 with 1 Axes>",
      "image/png": "[encoded data removed]"
     },
     "metadata": {
      "needs_background": "light"
     },
     "output_type": "display_data"
    }
   ],
   "source": [
    "plt.rc('font', family='Malgun Gothic')\n",
    "df['평균기온'].plot()\n"
   ],
   "metadata": {
    "collapsed": false,
    "pycharm": {
     "name": "#%%\n"
    }
   }
  },
  {
   "cell_type": "markdown",
   "source": [
    "### 데이터 정규화"
   ],
   "metadata": {
    "collapsed": false
   }
  },
  {
   "cell_type": "code",
   "execution_count": 69,
   "outputs": [
    {
     "name": "stdout",
     "output_type": "stream",
     "text": [
      "          평균가격      평균기온       강수량\n",
      "0     0.220979  0.331565  0.000000\n",
      "1     0.266842  0.352785  0.000000\n",
      "2     0.253894  0.334218  0.000000\n",
      "3     0.253894  0.416446  0.001639\n",
      "4     0.253894  0.408488  0.000656\n",
      "...        ...       ...       ...\n",
      "1576  0.220979  0.740053  0.000000\n",
      "1577  0.194012  0.684350  0.000000\n",
      "1578  0.264617  0.676393  0.000000\n",
      "1579  0.264414  0.671088  0.002295\n",
      "1580  0.143435  0.665782  0.001967\n",
      "\n",
      "[1581 rows x 3 columns]\n"
     ]
    }
   ],
   "source": [
    "from sklearn.preprocessing import MinMaxScaler\n",
    "\n",
    "df.sort_index(ascending=False).reset_index(drop=True)\n",
    "\n",
    "scaler1 = MinMaxScaler()\n",
    "scaler2 = MinMaxScaler()\n",
    "scaler3 = MinMaxScaler()\n",
    "scale_cols=['평균가격','평균기온','강수량']\n",
    "dfs1 = scaler1.fit_transform(df[['평균가격']])\n",
    "dfs2 = scaler2.fit_transform(df[['평균기온']])\n",
    "dfs3 = scaler3.fit_transform(df[['강수량']])\n",
    "\n",
    "df_scaled = pd.DataFrame()\n",
    "df_scaled=pd.DataFrame(dfs1)\n",
    "df_scaled.columns=['평균가격']\n",
    "df_scaled['평균기온'] = pd.DataFrame(dfs2)\n",
    "df_scaled['강수량'] = pd.DataFrame(dfs3)\n",
    "\n",
    "print(df_scaled)"
   ],
   "metadata": {
    "collapsed": false,
    "pycharm": {
     "name": "#%%\n"
    }
   }
  },
  {
   "cell_type": "code",
   "execution_count": 70,
   "outputs": [
    {
     "data": {
      "text/plain": "          평균가격      평균기온       강수량\n0     0.220979  0.331565  0.000000\n1     0.266842  0.352785  0.000000\n2     0.253894  0.334218  0.000000\n3     0.253894  0.416446  0.001639\n4     0.253894  0.408488  0.000656\n...        ...       ...       ...\n1576  0.220979  0.740053  0.000000\n1577  0.194012  0.684350  0.000000\n1578  0.264617  0.676393  0.000000\n1579  0.264414  0.671088  0.002295\n1580  0.143435  0.665782  0.001967\n\n[1581 rows x 3 columns]",
      "text/html": "<div>\n<style scoped>\n    .dataframe tbody tr th:only-of-type {\n        vertical-align: middle;\n    }\n\n    .dataframe tbody tr th {\n        vertical-align: top;\n    }\n\n    .dataframe thead th {\n        text-align: right;\n    }\n</style>\n<table border=\"1\" class=\"dataframe\">\n  <thead>\n    <tr style=\"text-align: right;\">\n      <th></th>\n      <th>평균가격</th>\n      <th>평균기온</th>\n      <th>강수량</th>\n    </tr>\n  </thead>\n  <tbody>\n    <tr>\n      <th>0</th>\n      <td>0.220979</td>\n      <td>0.331565</td>\n      <td>0.000000</td>\n    </tr>\n    <tr>\n      <th>1</th>\n      <td>0.266842</td>\n      <td>0.352785</td>\n      <td>0.000000</td>\n    </tr>\n    <tr>\n      <th>2</th>\n      <td>0.253894</td>\n      <td>0.334218</td>\n      <td>0.000000</td>\n    </tr>\n    <tr>\n      <th>3</th>\n      <td>0.253894</td>\n      <td>0.416446</td>\n      <td>0.001639</td>\n    </tr>\n    <tr>\n      <th>4</th>\n      <td>0.253894</td>\n      <td>0.408488</td>\n      <td>0.000656</td>\n    </tr>\n    <tr>\n      <th>...</th>\n      <td>...</td>\n      <td>...</td>\n      <td>...</td>\n    </tr>\n    <tr>\n      <th>1576</th>\n      <td>0.220979</td>\n      <td>0.740053</td>\n      <td>0.000000</td>\n    </tr>\n    <tr>\n      <th>1577</th>\n      <td>0.194012</td>\n      <td>0.684350</td>\n      <td>0.000000</td>\n    </tr>\n    <tr>\n      <th>1578</th>\n      <td>0.264617</td>\n      <td>0.676393</td>\n      <td>0.000000</td>\n    </tr>\n    <tr>\n      <th>1579</th>\n      <td>0.264414</td>\n      <td>0.671088</td>\n      <td>0.002295</td>\n    </tr>\n    <tr>\n      <th>1580</th>\n      <td>0.143435</td>\n      <td>0.665782</td>\n      <td>0.001967</td>\n    </tr>\n  </tbody>\n</table>\n<p>1581 rows × 3 columns</p>\n</div>"
     },
     "metadata": {},
     "output_type": "display_data"
    }
   ],
   "source": [
    "df_scaled.columns = scale_cols\n",
    "\n",
    "display(df_scaled)"
   ],
   "metadata": {
    "collapsed": false,
    "pycharm": {
     "name": "#%%\n"
    }
   }
  },
  {
   "cell_type": "markdown",
   "source": [
    "### 시계열 데이터의 데이터셋 분리"
   ],
   "metadata": {
    "collapsed": false
   }
  },
  {
   "cell_type": "code",
   "execution_count": 71,
   "outputs": [],
   "source": [
    "TEST_SIZE = 200\n",
    "WINDOW_SIZE = 20\n",
    "\n",
    "train = df_scaled[:-TEST_SIZE]\n",
    "test= df_scaled[-TEST_SIZE:]"
   ],
   "metadata": {
    "collapsed": false,
    "pycharm": {
     "name": "#%%\n"
    }
   }
  },
  {
   "cell_type": "code",
   "execution_count": 72,
   "outputs": [],
   "source": [
    "#\n",
    "def make_dataset(data, label, window_size = 20):\n",
    "    feature_list = []\n",
    "    label_list = []\n",
    "    for i in range(len(data) - window_size):\n",
    "        feature_list.append(np.array(data.iloc[i:i+window_size]))\n",
    "        label_list.append(np.array(label.iloc[i+window_size]))\n",
    "    return np.array(feature_list),np.array(label_list)"
   ],
   "metadata": {
    "collapsed": false,
    "pycharm": {
     "name": "#%%\n"
    }
   }
  },
  {
   "cell_type": "code",
   "execution_count": 73,
   "outputs": [
    {
     "name": "stdout",
     "output_type": "stream",
     "text": [
      "(1088, 20, 2) (273, 20, 2)\n"
     ]
    }
   ],
   "source": [
    "from sklearn.model_selection import train_test_split\n",
    "\n",
    "feature_cols = ['평균기온', '강수량']\n",
    "label_cols = ['평균가격']\n",
    "\n",
    "train_feature = train[feature_cols]\n",
    "train_label = train[label_cols]\n",
    "\n",
    "train_feature, train_label = make_dataset(train_feature,train_label,20)\n",
    "\n",
    "x_train, x_valid, y_train, y_valid = train_test_split(train_feature, train_label, test_size=0.2)\n",
    "print(x_train.shape, x_valid.shape)\n"
   ],
   "metadata": {
    "collapsed": false,
    "pycharm": {
     "name": "#%%\n"
    }
   }
  },
  {
   "cell_type": "code",
   "execution_count": 75,
   "outputs": [
    {
     "data": {
      "text/plain": "((200, 2), (200, 1))"
     },
     "execution_count": 75,
     "metadata": {},
     "output_type": "execute_result"
    }
   ],
   "source": [
    "test_feature = test[feature_cols]\n",
    "test_label = test[label_cols]\n",
    "\n",
    "test_feature.shape, test_label.shape"
   ],
   "metadata": {
    "collapsed": false,
    "pycharm": {
     "name": "#%%\n"
    }
   }
  },
  {
   "cell_type": "code",
   "execution_count": 76,
   "outputs": [
    {
     "data": {
      "text/plain": "((180, 20, 2), (180, 1))"
     },
     "execution_count": 76,
     "metadata": {},
     "output_type": "execute_result"
    }
   ],
   "source": [
    "test_feature, test_label = make_dataset(test_feature, test_label, 20)\n",
    "test_feature.shape, test_label.shape"
   ],
   "metadata": {
    "collapsed": false,
    "pycharm": {
     "name": "#%%\n"
    }
   }
  },
  {
   "cell_type": "markdown",
   "source": [
    "### 모형 학습"
   ],
   "metadata": {
    "collapsed": false
   }
  },
  {
   "cell_type": "code",
   "execution_count": 77,
   "outputs": [],
   "source": [
    "from tensorflow.keras.models import Sequential\n",
    "from tensorflow.keras.layers import Dense\n",
    "from tensorflow.keras.callbacks import EarlyStopping\n",
    "from tensorflow.keras.layers import LSTM\n",
    "import tensorflow as tf\n",
    "\n",
    "tf.random.set_seed(715)"
   ],
   "metadata": {
    "collapsed": false,
    "pycharm": {
     "name": "#%%\n"
    }
   }
  },
  {
   "cell_type": "code",
   "execution_count": 78,
   "outputs": [],
   "source": [
    "lstmodel = Sequential()\n",
    "lstmodel.add(LSTM(16,\n",
    "               input_shape=(train_feature.shape[1], train_feature.shape[2]),\n",
    "               activation='relu',\n",
    "               return_sequences=False))\n",
    "\n",
    "lstmodel.add(Dense(1))"
   ],
   "metadata": {
    "collapsed": false,
    "pycharm": {
     "name": "#%%\n"
    }
   }
  },
  {
   "cell_type": "code",
   "execution_count": 79,
   "outputs": [
    {
     "name": "stdout",
     "output_type": "stream",
     "text": [
      "20\n",
      "2\n"
     ]
    }
   ],
   "source": [
    "print(train_feature.shape[1])\n",
    "print(train_feature.shape[2])"
   ],
   "metadata": {
    "collapsed": false,
    "pycharm": {
     "name": "#%%\n"
    }
   }
  },
  {
   "cell_type": "code",
   "execution_count": 80,
   "outputs": [
    {
     "name": "stdout",
     "output_type": "stream",
     "text": [
      "Epoch 1/200\n",
      "68/68 [==============================] - 1s 5ms/step - loss: 0.0084 - val_loss: 0.0068\b\b\b\b\b\b\b\b\b\b\b\b\b\b\b\b\b\b\b\b\b\b\b\b\b\b\b\b\b\b\b\b\b\b\b\b\b\b\b\b\b\b\b\b\b\b\b\b\b\b\b\b\b\b\b\b\b\b\b\b\b\b\b\b\b\b\b\b\b\b\b\b\b\b\b\b\b\b\b\b\b\b\b\b\b\b\b\b\b\b\b\b\b\b\b\b\b\b\b\b\b\b\b\b\b\b\b\b\b\b\b\b\b\b\b\b\b\b\b\b\b\b\b\b\b\b\b\b\b\b\b\b\b\b\b\b\b\b\b\b\b\b\b\b\b\b\b\b\b\b\b\b\b\b\b\b\b\b\b\b\b\b\b\b\b\b\b\b\b\b\b\b\b\b\b\b\b\b\b\b\b\b\b\b\b\b\b\b\b\b\b\b\b\b\b\b\b\b\b\b\b\b\b\b\b\b\b\b\b\b\b\b\b\b\b\b\b\b\b\b\b\b\b\b\b\b\b\b\b\b\b\n",
      "Epoch 2/200\n",
      "68/68 [==============================] - 0s 3ms/step - loss: 0.0071 - val_loss: 0.0068\b\b\b\b\b\b\b\b\b\b\b\b\b\b\b\b\b\b\b\b\b\b\b\b\b\b\b\b\b\b\b\b\b\b\b\b\b\b\b\b\b\b\b\b\b\b\b\b\b\b\b\b\b\b\b\b\b\b\b\b\b\b\b\b\b\b\b\b\b\b\b\b\b\b\b\b\b\b\b\b\b\b\b\b\b\b\b\b\b\b\b\b\b\b\b\b\b\b\b\b\b\b\b\b\b\b\b\b\b\b\b\b\b\b\b\b\b\b\b\b\b\b\b\b\b\b\b\b\b\b\b\b\b\b\b\b\b\b\b\b\b\b\b\b\b\b\b\b\b\b\b\b\b\b\b\b\b\b\b\b\b\b\b\b\b\b\b\b\b\b\b\b\b\b\b\b\b\b\b\b\b\b\b\b\b\b\b\b\b\b\b\b\b\b\b\b\b\b\b\b\b\b\b\b\b\b\b\b\b\b\b\b\b\b\b\b\b\b\b\b\b\b\b\b\b\b\b\b\b\n",
      "Epoch 3/200\n",
      "68/68 [==============================] - 0s 3ms/step - loss: 0.0065 - val_loss: 0.0067\b\b\b\b\b\b\b\b\b\b\b\b\b\b\b\b\b\b\b\b\b\b\b\b\b\b\b\b\b\b\b\b\b\b\b\b\b\b\b\b\b\b\b\b\b\b\b\b\b\b\b\b\b\b\b\b\b\b\b\b\b\b\b\b\b\b\b\b\b\b\b\b\b\b\b\b\b\b\b\b\b\b\b\b\b\b\b\b\b\b\b\b\b\b\b\b\b\b\b\b\b\b\b\b\b\b\b\b\b\b\b\b\b\b\b\b\b\b\b\b\b\b\b\b\b\b\b\b\b\b\b\b\b\b\b\b\b\b\b\b\b\b\b\b\b\b\b\b\b\b\b\b\b\b\b\b\b\b\b\b\b\b\b\b\b\b\b\b\b\b\b\b\b\b\b\b\b\b\b\b\b\b\b\b\b\b\b\b\b\b\b\b\b\b\b\b\b\b\b\b\b\b\b\b\b\b\b\b\b\b\b\b\b\b\b\b\b\b\b\b\b\b\b\b\b\b\b\b\b\n",
      "Epoch 4/200\n",
      "68/68 [==============================] - 0s 3ms/step - loss: 0.0064 - val_loss: 0.0064\b\b\b\b\b\b\b\b\b\b\b\b\b\b\b\b\b\b\b\b\b\b\b\b\b\b\b\b\b\b\b\b\b\b\b\b\b\b\b\b\b\b\b\b\b\b\b\b\b\b\b\b\b\b\b\b\b\b\b\b\b\b\b\b\b\b\b\b\b\b\b\b\b\b\b\b\b\b\b\b\b\b\b\b\b\b\b\b\b\b\b\b\b\b\b\b\b\b\b\b\b\b\b\b\b\b\b\b\b\b\b\b\b\b\b\b\b\b\b\b\b\b\b\b\b\b\b\b\b\b\b\b\b\b\b\b\b\b\b\b\b\b\b\b\b\b\b\b\b\b\b\b\b\b\b\b\b\b\b\b\b\b\b\b\b\b\b\b\b\b\b\b\b\b\b\b\b\b\b\b\b\b\b\b\b\b\b\b\b\b\b\b\b\b\b\b\b\b\b\b\b\b\b\b\b\b\b\b\b\b\b\b\b\b\b\b\b\b\b\b\b\b\b\b\b\b\b\b\b\n",
      "Epoch 5/200\n",
      "68/68 [==============================] - 0s 3ms/step - loss: 0.0054 - val_loss: 0.0060\b\b\b\b\b\b\b\b\b\b\b\b\b\b\b\b\b\b\b\b\b\b\b\b\b\b\b\b\b\b\b\b\b\b\b\b\b\b\b\b\b\b\b\b\b\b\b\b\b\b\b\b\b\b\b\b\b\b\b\b\b\b\b\b\b\b\b\b\b\b\b\b\b\b\b\b\b\b\b\b\b\b\b\b\b\b\b\b\b\b\b\b\b\b\b\b\b\b\b\b\b\b\b\b\b\b\b\b\b\b\b\b\b\b\b\b\b\b\b\b\b\b\b\b\b\b\b\b\b\b\b\b\b\b\b\b\b\b\b\b\b\b\b\b\b\b\b\b\b\b\b\b\b\b\b\b\b\b\b\b\b\b\b\b\b\b\b\b\b\b\b\b\b\b\b\b\b\b\b\b\b\b\b\b\b\b\b\b\b\b\b\b\b\b\b\b\b\b\b\b\b\b\b\b\b\b\b\b\b\b\b\b\b\b\b\b\b\b\b\b\b\b\b\b\b\b\b\b\b\n",
      "Epoch 6/200\n",
      "68/68 [==============================] - 0s 3ms/step - loss: 0.0063 - val_loss: 0.0062\b\b\b\b\b\b\b\b\b\b\b\b\b\b\b\b\b\b\b\b\b\b\b\b\b\b\b\b\b\b\b\b\b\b\b\b\b\b\b\b\b\b\b\b\b\b\b\b\b\b\b\b\b\b\b\b\b\b\b\b\b\b\b\b\b\b\b\b\b\b\b\b\b\b\b\b\b\b\b\b\b\b\b\b\b\b\b\b\b\b\b\b\b\b\b\b\b\b\b\b\b\b\b\b\b\b\b\b\b\b\b\b\b\b\b\b\b\b\b\b\b\b\b\b\b\b\b\b\b\b\b\b\b\b\b\b\b\b\b\b\b\b\b\b\b\b\b\b\b\b\b\b\b\b\b\b\b\b\b\b\b\b\b\b\b\b\b\b\b\b\b\b\b\b\b\b\b\b\b\b\b\b\b\b\b\b\b\b\b\b\b\b\b\b\b\b\b\b\b\b\b\b\b\b\b\b\b\b\b\b\b\b\b\b\b\b\b\b\b\b\b\b\b\b\b\b\b\b\b\n",
      "Epoch 7/200\n",
      "68/68 [==============================] - 0s 3ms/step - loss: 0.0058 - val_loss: 0.0063\b\b\b\b\b\b\b\b\b\b\b\b\b\b\b\b\b\b\b\b\b\b\b\b\b\b\b\b\b\b\b\b\b\b\b\b\b\b\b\b\b\b\b\b\b\b\b\b\b\b\b\b\b\b\b\b\b\b\b\b\b\b\b\b\b\b\b\b\b\b\b\b\b\b\b\b\b\b\b\b\b\b\b\b\b\b\b\b\b\b\b\b\b\b\b\b\b\b\b\b\b\b\b\b\b\b\b\b\b\b\b\b\b\b\b\b\b\b\b\b\b\b\b\b\b\b\b\b\b\b\b\b\b\b\b\b\b\b\b\b\b\b\b\b\b\b\b\b\b\b\b\b\b\b\b\b\b\b\b\b\b\b\b\b\b\b\b\b\b\b\b\b\b\b\b\b\b\b\b\b\b\b\b\b\b\b\b\b\b\b\b\b\b\b\b\b\b\b\b\b\b\b\b\b\b\b\b\b\b\b\b\b\b\b\b\b\b\b\b\b\b\b\b\b\b\b\b\b\b\n",
      "Epoch 8/200\n",
      "68/68 [==============================] - 0s 3ms/step - loss: 0.0061 - val_loss: 0.0063\b\b\b\b\b\b\b\b\b\b\b\b\b\b\b\b\b\b\b\b\b\b\b\b\b\b\b\b\b\b\b\b\b\b\b\b\b\b\b\b\b\b\b\b\b\b\b\b\b\b\b\b\b\b\b\b\b\b\b\b\b\b\b\b\b\b\b\b\b\b\b\b\b\b\b\b\b\b\b\b\b\b\b\b\b\b\b\b\b\b\b\b\b\b\b\b\b\b\b\b\b\b\b\b\b\b\b\b\b\b\b\b\b\b\b\b\b\b\b\b\b\b\b\b\b\b\b\b\b\b\b\b\b\b\b\b\b\b\b\b\b\b\b\b\b\b\b\b\b\b\b\b\b\b\b\b\b\b\b\b\b\b\b\b\b\b\b\b\b\b\b\b\b\b\b\b\b\b\b\b\b\b\b\b\b\b\b\b\b\b\b\b\b\b\b\b\b\b\b\b\b\b\b\b\b\b\b\b\b\b\b\b\b\b\b\b\b\b\b\b\b\b\b\b\b\b\b\b\b\n",
      "Epoch 9/200\n",
      "68/68 [==============================] - 0s 3ms/step - loss: 0.0051 - val_loss: 0.0056\b\b\b\b\b\b\b\b\b\b\b\b\b\b\b\b\b\b\b\b\b\b\b\b\b\b\b\b\b\b\b\b\b\b\b\b\b\b\b\b\b\b\b\b\b\b\b\b\b\b\b\b\b\b\b\b\b\b\b\b\b\b\b\b\b\b\b\b\b\b\b\b\b\b\b\b\b\b\b\b\b\b\b\b\b\b\b\b\b\b\b\b\b\b\b\b\b\b\b\b\b\b\b\b\b\b\b\b\b\b\b\b\b\b\b\b\b\b\b\b\b\b\b\b\b\b\b\b\b\b\b\b\b\b\b\b\b\b\b\b\b\b\b\b\b\b\b\b\b\b\b\b\b\b\b\b\b\b\b\b\b\b\b\b\b\b\b\b\b\b\b\b\b\b\b\b\b\b\b\b\b\b\b\b\b\b\b\b\b\b\b\b\b\b\b\b\b\b\b\b\b\b\b\b\b\b\b\b\b\b\b\b\b\b\b\b\b\b\b\b\b\b\b\b\b\b\b\b\b\n",
      "Epoch 10/200\n",
      "68/68 [==============================] - 0s 3ms/step - loss: 0.0050 - val_loss: 0.0062\b\b\b\b\b\b\b\b\b\b\b\b\b\b\b\b\b\b\b\b\b\b\b\b\b\b\b\b\b\b\b\b\b\b\b\b\b\b\b\b\b\b\b\b\b\b\b\b\b\b\b\b\b\b\b\b\b\b\b\b\b\b\b\b\b\b\b\b\b\b\b\b\b\b\b\b\b\b\b\b\b\b\b\b\b\b\b\b\b\b\b\b\b\b\b\b\b\b\b\b\b\b\b\b\b\b\b\b\b\b\b\b\b\b\b\b\b\b\b\b\b\b\b\b\b\b\b\b\b\b\b\b\b\b\b\b\b\b\b\b\b\b\b\b\b\b\b\b\b\b\b\b\b\b\b\b\b\b\b\b\b\b\b\b\b\b\b\b\b\b\b\b\b\b\b\b\b\b\b\b\b\b\b\b\b\b\b\b\b\b\b\b\b\b\b\b\b\b\b\b\b\b\b\b\b\b\b\b\b\b\b\b\b\b\b\b\b\b\b\b\b\b\b\b\b\b\b\b\b\n",
      "Epoch 11/200\n",
      "68/68 [==============================] - 0s 3ms/step - loss: 0.0056 - val_loss: 0.0056\b\b\b\b\b\b\b\b\b\b\b\b\b\b\b\b\b\b\b\b\b\b\b\b\b\b\b\b\b\b\b\b\b\b\b\b\b\b\b\b\b\b\b\b\b\b\b\b\b\b\b\b\b\b\b\b\b\b\b\b\b\b\b\b\b\b\b\b\b\b\b\b\b\b\b\b\b\b\b\b\b\b\b\b\b\b\b\b\b\b\b\b\b\b\b\b\b\b\b\b\b\b\b\b\b\b\b\b\b\b\b\b\b\b\b\b\b\b\b\b\b\b\b\b\b\b\b\b\b\b\b\b\b\b\b\b\b\b\b\b\b\b\b\b\b\b\b\b\b\b\b\b\b\b\b\b\b\b\b\b\b\b\b\b\b\b\b\b\b\b\b\b\b\b\b\b\b\b\b\b\b\b\b\b\b\b\b\b\b\b\b\b\b\b\b\b\b\b\b\b\b\b\b\b\b\b\b\b\b\b\b\b\b\b\b\b\b\b\b\b\b\b\b\b\b\b\b\b\b\n",
      "Epoch 12/200\n",
      "68/68 [==============================] - 0s 3ms/step - loss: 0.0053 - val_loss: 0.0064\b\b\b\b\b\b\b\b\b\b\b\b\b\b\b\b\b\b\b\b\b\b\b\b\b\b\b\b\b\b\b\b\b\b\b\b\b\b\b\b\b\b\b\b\b\b\b\b\b\b\b\b\b\b\b\b\b\b\b\b\b\b\b\b\b\b\b\b\b\b\b\b\b\b\b\b\b\b\b\b\b\b\b\b\b\b\b\b\b\b\b\b\b\b\b\b\b\b\b\b\b\b\b\b\b\b\b\b\b\b\b\b\b\b\b\b\b\b\b\b\b\b\b\b\b\b\b\b\b\b\b\b\b\b\b\b\b\b\b\b\b\b\b\b\b\b\b\b\b\b\b\b\b\b\b\b\b\b\b\b\b\b\b\b\b\b\b\b\b\b\b\b\b\b\b\b\b\b\b\b\b\b\b\b\b\b\b\b\b\b\b\b\b\b\b\b\b\b\b\b\b\b\b\b\b\b\b\b\b\b\b\b\b\b\b\b\b\b\b\b\b\b\b\b\b\b\b\b\b\n",
      "Epoch 13/200\n",
      "68/68 [==============================] - 0s 3ms/step - loss: 0.0054 - val_loss: 0.0054\b\b\b\b\b\b\b\b\b\b\b\b\b\b\b\b\b\b\b\b\b\b\b\b\b\b\b\b\b\b\b\b\b\b\b\b\b\b\b\b\b\b\b\b\b\b\b\b\b\b\b\b\b\b\b\b\b\b\b\b\b\b\b\b\b\b\b\b\b\b\b\b\b\b\b\b\b\b\b\b\b\b\b\b\b\b\b\b\b\b\b\b\b\b\b\b\b\b\b\b\b\b\b\b\b\b\b\b\b\b\b\b\b\b\b\b\b\b\b\b\b\b\b\b\b\b\b\b\b\b\b\b\b\b\b\b\b\b\b\b\b\b\b\b\b\b\b\b\b\b\b\b\b\b\b\b\b\b\b\b\b\b\b\b\b\b\b\b\b\b\b\b\b\b\b\b\b\b\b\b\b\b\b\b\b\b\b\b\b\b\b\b\b\b\b\b\b\b\b\b\b\b\b\b\b\b\b\b\b\b\b\b\b\b\b\b\b\b\b\b\b\b\b\b\b\b\b\b\b\n",
      "Epoch 14/200\n",
      "68/68 [==============================] - 0s 3ms/step - loss: 0.0058 - val_loss: 0.0053\b\b\b\b\b\b\b\b\b\b\b\b\b\b\b\b\b\b\b\b\b\b\b\b\b\b\b\b\b\b\b\b\b\b\b\b\b\b\b\b\b\b\b\b\b\b\b\b\b\b\b\b\b\b\b\b\b\b\b\b\b\b\b\b\b\b\b\b\b\b\b\b\b\b\b\b\b\b\b\b\b\b\b\b\b\b\b\b\b\b\b\b\b\b\b\b\b\b\b\b\b\b\b\b\b\b\b\b\b\b\b\b\b\b\b\b\b\b\b\b\b\b\b\b\b\b\b\b\b\b\b\b\b\b\b\b\b\b\b\b\b\b\b\b\b\b\b\b\b\b\b\b\b\b\b\b\b\b\b\b\b\b\b\b\b\b\b\b\b\b\b\b\b\b\b\b\b\b\b\b\b\b\b\b\b\b\b\b\b\b\b\b\b\b\b\b\b\b\b\b\b\b\b\b\b\b\b\b\b\b\b\b\b\b\b\b\b\b\b\b\b\b\b\b\b\b\b\b\b\n",
      "Epoch 15/200\n",
      "68/68 [==============================] - 0s 3ms/step - loss: 0.0049 - val_loss: 0.0055\b\b\b\b\b\b\b\b\b\b\b\b\b\b\b\b\b\b\b\b\b\b\b\b\b\b\b\b\b\b\b\b\b\b\b\b\b\b\b\b\b\b\b\b\b\b\b\b\b\b\b\b\b\b\b\b\b\b\b\b\b\b\b\b\b\b\b\b\b\b\b\b\b\b\b\b\b\b\b\b\b\b\b\b\b\b\b\b\b\b\b\b\b\b\b\b\b\b\b\b\b\b\b\b\b\b\b\b\b\b\b\b\b\b\b\b\b\b\b\b\b\b\b\b\b\b\b\b\b\b\b\b\b\b\b\b\b\b\b\b\b\b\b\b\b\b\b\b\b\b\b\b\b\b\b\b\b\b\b\b\b\b\b\b\b\b\b\b\b\b\b\b\b\b\b\b\b\b\b\b\b\b\b\b\b\b\b\b\b\b\b\b\b\b\b\b\b\b\b\b\b\b\b\b\b\b\b\b\b\b\b\b\b\b\b\b\b\b\b\b\b\b\b\b\b\b\b\b\b\n",
      "Epoch 16/200\n",
      "68/68 [==============================] - 0s 3ms/step - loss: 0.0055 - val_loss: 0.0052\b\b\b\b\b\b\b\b\b\b\b\b\b\b\b\b\b\b\b\b\b\b\b\b\b\b\b\b\b\b\b\b\b\b\b\b\b\b\b\b\b\b\b\b\b\b\b\b\b\b\b\b\b\b\b\b\b\b\b\b\b\b\b\b\b\b\b\b\b\b\b\b\b\b\b\b\b\b\b\b\b\b\b\b\b\b\b\b\b\b\b\b\b\b\b\b\b\b\b\b\b\b\b\b\b\b\b\b\b\b\b\b\b\b\b\b\b\b\b\b\b\b\b\b\b\b\b\b\b\b\b\b\b\b\b\b\b\b\b\b\b\b\b\b\b\b\b\b\b\b\b\b\b\b\b\b\b\b\b\b\b\b\b\b\b\b\b\b\b\b\b\b\b\b\b\b\b\b\b\b\b\b\b\b\b\b\b\b\b\b\b\b\b\b\b\b\b\b\b\b\b\b\b\b\b\b\b\b\b\b\b\b\b\b\b\b\b\b\b\b\b\b\b\b\b\b\b\b\b\n",
      "Epoch 17/200\n",
      "68/68 [==============================] - 0s 3ms/step - loss: 0.0056 - val_loss: 0.0054\b\b\b\b\b\b\b\b\b\b\b\b\b\b\b\b\b\b\b\b\b\b\b\b\b\b\b\b\b\b\b\b\b\b\b\b\b\b\b\b\b\b\b\b\b\b\b\b\b\b\b\b\b\b\b\b\b\b\b\b\b\b\b\b\b\b\b\b\b\b\b\b\b\b\b\b\b\b\b\b\b\b\b\b\b\b\b\b\b\b\b\b\b\b\b\b\b\b\b\b\b\b\b\b\b\b\b\b\b\b\b\b\b\b\b\b\b\b\b\b\b\b\b\b\b\b\b\b\b\b\b\b\b\b\b\b\b\b\b\b\b\b\b\b\b\b\b\b\b\b\b\b\b\b\b\b\b\b\b\b\b\b\b\b\b\b\b\b\b\b\b\b\b\b\b\b\b\b\b\b\b\b\b\b\b\b\b\b\b\b\b\b\b\b\b\b\b\b\b\b\b\b\b\b\b\b\b\b\b\b\b\b\b\b\b\b\b\b\b\b\b\b\b\b\b\b\b\b\b\n",
      "Epoch 18/200\n",
      "68/68 [==============================] - 0s 3ms/step - loss: 0.0053 - val_loss: 0.0056\b\b\b\b\b\b\b\b\b\b\b\b\b\b\b\b\b\b\b\b\b\b\b\b\b\b\b\b\b\b\b\b\b\b\b\b\b\b\b\b\b\b\b\b\b\b\b\b\b\b\b\b\b\b\b\b\b\b\b\b\b\b\b\b\b\b\b\b\b\b\b\b\b\b\b\b\b\b\b\b\b\b\b\b\b\b\b\b\b\b\b\b\b\b\b\b\b\b\b\b\b\b\b\b\b\b\b\b\b\b\b\b\b\b\b\b\b\b\b\b\b\b\b\b\b\b\b\b\b\b\b\b\b\b\b\b\b\b\b\b\b\b\b\b\b\b\b\b\b\b\b\b\b\b\b\b\b\b\b\b\b\b\b\b\b\b\b\b\b\b\b\b\b\b\b\b\b\b\b\b\b\b\b\b\b\b\b\b\b\b\b\b\b\b\b\b\b\b\b\b\b\b\b\b\b\b\b\b\b\b\b\b\b\b\b\b\b\b\b\b\b\b\b\b\b\b\b\b\b\n",
      "Epoch 19/200\n",
      "68/68 [==============================] - 0s 3ms/step - loss: 0.0057 - val_loss: 0.0059\b\b\b\b\b\b\b\b\b\b\b\b\b\b\b\b\b\b\b\b\b\b\b\b\b\b\b\b\b\b\b\b\b\b\b\b\b\b\b\b\b\b\b\b\b\b\b\b\b\b\b\b\b\b\b\b\b\b\b\b\b\b\b\b\b\b\b\b\b\b\b\b\b\b\b\b\b\b\b\b\b\b\b\b\b\b\b\b\b\b\b\b\b\b\b\b\b\b\b\b\b\b\b\b\b\b\b\b\b\b\b\b\b\b\b\b\b\b\b\b\b\b\b\b\b\b\b\b\b\b\b\b\b\b\b\b\b\b\b\b\b\b\b\b\b\b\b\b\b\b\b\b\b\b\b\b\b\b\b\b\b\b\b\b\b\b\b\b\b\b\b\b\b\b\b\b\b\b\b\b\b\b\b\b\b\b\b\b\b\b\b\b\b\b\b\b\b\b\b\b\b\b\b\b\b\b\b\b\b\b\b\b\b\b\b\b\b\b\b\b\b\b\b\b\b\b\b\b\b\n",
      "Epoch 20/200\n",
      "68/68 [==============================] - 0s 3ms/step - loss: 0.0052 - val_loss: 0.0052\b\b\b\b\b\b\b\b\b\b\b\b\b\b\b\b\b\b\b\b\b\b\b\b\b\b\b\b\b\b\b\b\b\b\b\b\b\b\b\b\b\b\b\b\b\b\b\b\b\b\b\b\b\b\b\b\b\b\b\b\b\b\b\b\b\b\b\b\b\b\b\b\b\b\b\b\b\b\b\b\b\b\b\b\b\b\b\b\b\b\b\b\b\b\b\b\b\b\b\b\b\b\b\b\b\b\b\b\b\b\b\b\b\b\b\b\b\b\b\b\b\b\b\b\b\b\b\b\b\b\b\b\b\b\b\b\b\b\b\b\b\b\b\b\b\b\b\b\b\b\b\b\b\b\b\b\b\b\b\b\b\b\b\b\b\b\b\b\b\b\b\b\b\b\b\b\b\b\b\b\b\b\b\b\b\b\b\b\b\b\b\b\b\b\b\b\b\b\b\b\b\b\b\b\b\b\b\b\b\b\b\b\b\b\b\b\b\b\b\b\b\b\b\b\b\b\b\b\b\n",
      "Epoch 21/200\n",
      "68/68 [==============================] - 0s 3ms/step - loss: 0.0053 - val_loss: 0.0051\b\b\b\b\b\b\b\b\b\b\b\b\b\b\b\b\b\b\b\b\b\b\b\b\b\b\b\b\b\b\b\b\b\b\b\b\b\b\b\b\b\b\b\b\b\b\b\b\b\b\b\b\b\b\b\b\b\b\b\b\b\b\b\b\b\b\b\b\b\b\b\b\b\b\b\b\b\b\b\b\b\b\b\b\b\b\b\b\b\b\b\b\b\b\b\b\b\b\b\b\b\b\b\b\b\b\b\b\b\b\b\b\b\b\b\b\b\b\b\b\b\b\b\b\b\b\b\b\b\b\b\b\b\b\b\b\b\b\b\b\b\b\b\b\b\b\b\b\b\b\b\b\b\b\b\b\b\b\b\b\b\b\b\b\b\b\b\b\b\b\b\b\b\b\b\b\b\b\b\b\b\b\b\b\b\b\b\b\b\b\b\b\b\b\b\b\b\b\b\b\b\b\b\b\b\b\b\b\b\b\b\b\b\b\b\b\b\b\b\b\b\b\b\b\b\b\b\b\b\n",
      "Epoch 22/200\n",
      "68/68 [==============================] - 0s 3ms/step - loss: 0.0053 - val_loss: 0.0051\b\b\b\b\b\b\b\b\b\b\b\b\b\b\b\b\b\b\b\b\b\b\b\b\b\b\b\b\b\b\b\b\b\b\b\b\b\b\b\b\b\b\b\b\b\b\b\b\b\b\b\b\b\b\b\b\b\b\b\b\b\b\b\b\b\b\b\b\b\b\b\b\b\b\b\b\b\b\b\b\b\b\b\b\b\b\b\b\b\b\b\b\b\b\b\b\b\b\b\b\b\b\b\b\b\b\b\b\b\b\b\b\b\b\b\b\b\b\b\b\b\b\b\b\b\b\b\b\b\b\b\b\b\b\b\b\b\b\b\b\b\b\b\b\b\b\b\b\b\b\b\b\b\b\b\b\b\b\b\b\b\b\b\b\b\b\b\b\b\b\b\b\b\b\b\b\b\b\b\b\b\b\b\b\b\b\b\b\b\b\b\b\b\b\b\b\b\b\b\b\b\b\b\b\b\b\b\b\b\b\b\b\b\b\b\b\b\b\b\b\b\b\b\b\b\b\b\b\b\n",
      "Epoch 23/200\n",
      "68/68 [==============================] - 0s 3ms/step - loss: 0.0052 - val_loss: 0.0054\b\b\b\b\b\b\b\b\b\b\b\b\b\b\b\b\b\b\b\b\b\b\b\b\b\b\b\b\b\b\b\b\b\b\b\b\b\b\b\b\b\b\b\b\b\b\b\b\b\b\b\b\b\b\b\b\b\b\b\b\b\b\b\b\b\b\b\b\b\b\b\b\b\b\b\b\b\b\b\b\b\b\b\b\b\b\b\b\b\b\b\b\b\b\b\b\b\b\b\b\b\b\b\b\b\b\b\b\b\b\b\b\b\b\b\b\b\b\b\b\b\b\b\b\b\b\b\b\b\b\b\b\b\b\b\b\b\b\b\b\b\b\b\b\b\b\b\b\b\b\b\b\b\b\b\b\b\b\b\b\b\b\b\b\b\b\b\b\b\b\b\b\b\b\b\b\b\b\b\b\b\b\b\b\b\b\b\b\b\b\b\b\b\b\b\b\b\b\b\b\b\b\b\b\b\b\b\b\b\b\b\b\b\b\b\b\b\b\b\b\b\b\b\b\b\b\b\b\b\n",
      "Epoch 24/200\n",
      "68/68 [==============================] - 0s 3ms/step - loss: 0.0049 - val_loss: 0.0051\b\b\b\b\b\b\b\b\b\b\b\b\b\b\b\b\b\b\b\b\b\b\b\b\b\b\b\b\b\b\b\b\b\b\b\b\b\b\b\b\b\b\b\b\b\b\b\b\b\b\b\b\b\b\b\b\b\b\b\b\b\b\b\b\b\b\b\b\b\b\b\b\b\b\b\b\b\b\b\b\b\b\b\b\b\b\b\b\b\b\b\b\b\b\b\b\b\b\b\b\b\b\b\b\b\b\b\b\b\b\b\b\b\b\b\b\b\b\b\b\b\b\b\b\b\b\b\b\b\b\b\b\b\b\b\b\b\b\b\b\b\b\b\b\b\b\b\b\b\b\b\b\b\b\b\b\b\b\b\b\b\b\b\b\b\b\b\b\b\b\b\b\b\b\b\b\b\b\b\b\b\b\b\b\b\b\b\b\b\b\b\b\b\b\b\b\b\b\b\b\b\b\b\b\b\b\b\b\b\b\b\b\b\b\b\b\b\b\b\b\b\b\b\b\b\b\b\b\b\n",
      "Epoch 25/200\n",
      "68/68 [==============================] - 0s 3ms/step - loss: 0.0052 - val_loss: 0.0053\b\b\b\b\b\b\b\b\b\b\b\b\b\b\b\b\b\b\b\b\b\b\b\b\b\b\b\b\b\b\b\b\b\b\b\b\b\b\b\b\b\b\b\b\b\b\b\b\b\b\b\b\b\b\b\b\b\b\b\b\b\b\b\b\b\b\b\b\b\b\b\b\b\b\b\b\b\b\b\b\b\b\b\b\b\b\b\b\b\b\b\b\b\b\b\b\b\b\b\b\b\b\b\b\b\b\b\b\b\b\b\b\b\b\b\b\b\b\b\b\b\b\b\b\b\b\b\b\b\b\b\b\b\b\b\b\b\b\b\b\b\b\b\b\b\b\b\b\b\b\b\b\b\b\b\b\b\b\b\b\b\b\b\b\b\b\b\b\b\b\b\b\b\b\b\b\b\b\b\b\b\b\b\b\b\b\b\b\b\b\b\b\b\b\b\b\b\b\b\b\b\b\b\b\b\b\b\b\b\b\b\b\b\b\b\b\b\b\b\b\b\b\b\b\b\b\b\b\b\n",
      "Epoch 26/200\n",
      "68/68 [==============================] - 0s 3ms/step - loss: 0.0051 - val_loss: 0.0051\b\b\b\b\b\b\b\b\b\b\b\b\b\b\b\b\b\b\b\b\b\b\b\b\b\b\b\b\b\b\b\b\b\b\b\b\b\b\b\b\b\b\b\b\b\b\b\b\b\b\b\b\b\b\b\b\b\b\b\b\b\b\b\b\b\b\b\b\b\b\b\b\b\b\b\b\b\b\b\b\b\b\b\b\b\b\b\b\b\b\b\b\b\b\b\b\b\b\b\b\b\b\b\b\b\b\b\b\b\b\b\b\b\b\b\b\b\b\b\b\b\b\b\b\b\b\b\b\b\b\b\b\b\b\b\b\b\b\b\b\b\b\b\b\b\b\b\b\b\b\b\b\b\b\b\b\b\b\b\b\b\b\b\b\b\b\b\b\b\b\b\b\b\b\b\b\b\b\b\b\b\b\b\b\b\b\b\b\b\b\b\b\b\b\b\b\b\b\b\b\b\b\b\b\b\b\b\b\b\b\b\b\b\b\b\b\b\b\b\b\b\b\b\b\b\b\b\b\b\n",
      "Epoch 27/200\n",
      "68/68 [==============================] - 0s 3ms/step - loss: 0.0053 - val_loss: 0.0053\b\b\b\b\b\b\b\b\b\b\b\b\b\b\b\b\b\b\b\b\b\b\b\b\b\b\b\b\b\b\b\b\b\b\b\b\b\b\b\b\b\b\b\b\b\b\b\b\b\b\b\b\b\b\b\b\b\b\b\b\b\b\b\b\b\b\b\b\b\b\b\b\b\b\b\b\b\b\b\b\b\b\b\b\b\b\b\b\b\b\b\b\b\b\b\b\b\b\b\b\b\b\b\b\b\b\b\b\b\b\b\b\b\b\b\b\b\b\b\b\b\b\b\b\b\b\b\b\b\b\b\b\b\b\b\b\b\b\b\b\b\b\b\b\b\b\b\b\b\b\b\b\b\b\b\b\b\b\b\b\b\b\b\b\b\b\b\b\b\b\b\b\b\b\b\b\b\b\b\b\b\b\b\b\b\b\b\b\b\b\b\b\b\b\b\b\b\b\b\b\b\b\b\b\b\b\b\b\b\b\b\b\b\b\b\b\b\b\b\b\b\b\b\b\b\b\b\b\b\n",
      "Epoch 28/200\n",
      "68/68 [==============================] - 0s 3ms/step - loss: 0.0057 - val_loss: 0.0051\b\b\b\b\b\b\b\b\b\b\b\b\b\b\b\b\b\b\b\b\b\b\b\b\b\b\b\b\b\b\b\b\b\b\b\b\b\b\b\b\b\b\b\b\b\b\b\b\b\b\b\b\b\b\b\b\b\b\b\b\b\b\b\b\b\b\b\b\b\b\b\b\b\b\b\b\b\b\b\b\b\b\b\b\b\b\b\b\b\b\b\b\b\b\b\b\b\b\b\b\b\b\b\b\b\b\b\b\b\b\b\b\b\b\b\b\b\b\b\b\b\b\b\b\b\b\b\b\b\b\b\b\b\b\b\b\b\b\b\b\b\b\b\b\b\b\b\b\b\b\b\b\b\b\b\b\b\b\b\b\b\b\b\b\b\b\b\b\b\b\b\b\b\b\b\b\b\b\b\b\b\b\b\b\b\b\b\b\b\b\b\b\b\b\b\b\b\b\b\b\b\b\b\b\b\b\b\b\b\b\b\b\b\b\b\b\b\b\b\b\b\b\b\b\b\b\b\b\b\n",
      "Epoch 29/200\n",
      "68/68 [==============================] - 0s 3ms/step - loss: 0.0051 - val_loss: 0.0056\b\b\b\b\b\b\b\b\b\b\b\b\b\b\b\b\b\b\b\b\b\b\b\b\b\b\b\b\b\b\b\b\b\b\b\b\b\b\b\b\b\b\b\b\b\b\b\b\b\b\b\b\b\b\b\b\b\b\b\b\b\b\b\b\b\b\b\b\b\b\b\b\b\b\b\b\b\b\b\b\b\b\b\b\b\b\b\b\b\b\b\b\b\b\b\b\b\b\b\b\b\b\b\b\b\b\b\b\b\b\b\b\b\b\b\b\b\b\b\b\b\b\b\b\b\b\b\b\b\b\b\b\b\b\b\b\b\b\b\b\b\b\b\b\b\b\b\b\b\b\b\b\b\b\b\b\b\b\b\b\b\b\b\b\b\b\b\b\b\b\b\b\b\b\b\b\b\b\b\b\b\b\b\b\b\b\b\b\b\b\b\b\b\b\b\b\b\b\b\b\b\b\b\b\b\b\b\b\b\b\b\b\b\b\b\b\b\b\b\b\b\b\b\b\b\b\b\b\b\n",
      "Epoch 30/200\n",
      "68/68 [==============================] - 0s 3ms/step - loss: 0.0052 - val_loss: 0.0051\b\b\b\b\b\b\b\b\b\b\b\b\b\b\b\b\b\b\b\b\b\b\b\b\b\b\b\b\b\b\b\b\b\b\b\b\b\b\b\b\b\b\b\b\b\b\b\b\b\b\b\b\b\b\b\b\b\b\b\b\b\b\b\b\b\b\b\b\b\b\b\b\b\b\b\b\b\b\b\b\b\b\b\b\b\b\b\b\b\b\b\b\b\b\b\b\b\b\b\b\b\b\b\b\b\b\b\b\b\b\b\b\b\b\b\b\b\b\b\b\b\b\b\b\b\b\b\b\b\b\b\b\b\b\b\b\b\b\b\b\b\b\b\b\b\b\b\b\b\b\b\b\b\b\b\b\b\b\b\b\b\b\b\b\b\b\b\b\b\b\b\b\b\b\b\b\b\b\b\b\b\b\b\b\b\b\b\b\b\b\b\b\b\b\b\b\b\b\b\b\b\b\b\b\b\b\b\b\b\b\b\b\b\b\b\b\b\b\b\b\b\b\b\b\b\b\b\b\b\n",
      "Epoch 31/200\n",
      "68/68 [==============================] - 0s 3ms/step - loss: 0.0047 - val_loss: 0.0064\b\b\b\b\b\b\b\b\b\b\b\b\b\b\b\b\b\b\b\b\b\b\b\b\b\b\b\b\b\b\b\b\b\b\b\b\b\b\b\b\b\b\b\b\b\b\b\b\b\b\b\b\b\b\b\b\b\b\b\b\b\b\b\b\b\b\b\b\b\b\b\b\b\b\b\b\b\b\b\b\b\b\b\b\b\b\b\b\b\b\b\b\b\b\b\b\b\b\b\b\b\b\b\b\b\b\b\b\b\b\b\b\b\b\b\b\b\b\b\b\b\b\b\b\b\b\b\b\b\b\b\b\b\b\b\b\b\b\b\b\b\b\b\b\b\b\b\b\b\b\b\b\b\b\b\b\b\b\b\b\b\b\b\b\b\b\b\b\b\b\b\b\b\b\b\b\b\b\b\b\b\b\b\b\b\b\b\b\b\b\b\b\b\b\b\b\b\b\b\b\b\b\b\b\b\b\b\b\b\b\b\b\b\b\b\b\b\b\b\b\b\b\b\b\b\b\b\b\b\n",
      "Epoch 32/200\n",
      "68/68 [==============================] - 0s 3ms/step - loss: 0.0058 - val_loss: 0.0050\b\b\b\b\b\b\b\b\b\b\b\b\b\b\b\b\b\b\b\b\b\b\b\b\b\b\b\b\b\b\b\b\b\b\b\b\b\b\b\b\b\b\b\b\b\b\b\b\b\b\b\b\b\b\b\b\b\b\b\b\b\b\b\b\b\b\b\b\b\b\b\b\b\b\b\b\b\b\b\b\b\b\b\b\b\b\b\b\b\b\b\b\b\b\b\b\b\b\b\b\b\b\b\b\b\b\b\b\b\b\b\b\b\b\b\b\b\b\b\b\b\b\b\b\b\b\b\b\b\b\b\b\b\b\b\b\b\b\b\b\b\b\b\b\b\b\b\b\b\b\b\b\b\b\b\b\b\b\b\b\b\b\b\b\b\b\b\b\b\b\b\b\b\b\b\b\b\b\b\b\b\b\b\b\b\b\b\b\b\b\b\b\b\b\b\b\b\b\b\b\b\b\b\b\b\b\b\b\b\b\b\b\b\b\b\b\b\b\b\b\b\b\b\b\b\b\b\b\b\n",
      "Epoch 33/200\n",
      "68/68 [==============================] - 0s 3ms/step - loss: 0.0052 - val_loss: 0.0050\b\b\b\b\b\b\b\b\b\b\b\b\b\b\b\b\b\b\b\b\b\b\b\b\b\b\b\b\b\b\b\b\b\b\b\b\b\b\b\b\b\b\b\b\b\b\b\b\b\b\b\b\b\b\b\b\b\b\b\b\b\b\b\b\b\b\b\b\b\b\b\b\b\b\b\b\b\b\b\b\b\b\b\b\b\b\b\b\b\b\b\b\b\b\b\b\b\b\b\b\b\b\b\b\b\b\b\b\b\b\b\b\b\b\b\b\b\b\b\b\b\b\b\b\b\b\b\b\b\b\b\b\b\b\b\b\b\b\b\b\b\b\b\b\b\b\b\b\b\b\b\b\b\b\b\b\b\b\b\b\b\b\b\b\b\b\b\b\b\b\b\b\b\b\b\b\b\b\b\b\b\b\b\b\b\b\b\b\b\b\b\b\b\b\b\b\b\b\b\b\b\b\b\b\b\b\b\b\b\b\b\b\b\b\b\b\b\b\b\b\b\b\b\b\b\b\b\b\b\n",
      "Epoch 34/200\n",
      "68/68 [==============================] - 0s 3ms/step - loss: 0.0051 - val_loss: 0.0052\b\b\b\b\b\b\b\b\b\b\b\b\b\b\b\b\b\b\b\b\b\b\b\b\b\b\b\b\b\b\b\b\b\b\b\b\b\b\b\b\b\b\b\b\b\b\b\b\b\b\b\b\b\b\b\b\b\b\b\b\b\b\b\b\b\b\b\b\b\b\b\b\b\b\b\b\b\b\b\b\b\b\b\b\b\b\b\b\b\b\b\b\b\b\b\b\b\b\b\b\b\b\b\b\b\b\b\b\b\b\b\b\b\b\b\b\b\b\b\b\b\b\b\b\b\b\b\b\b\b\b\b\b\b\b\b\b\b\b\b\b\b\b\b\b\b\b\b\b\b\b\b\b\b\b\b\b\b\b\b\b\b\b\b\b\b\b\b\b\b\b\b\b\b\b\b\b\b\b\b\b\b\b\b\b\b\b\b\b\b\b\b\b\b\b\b\b\b\b\b\b\b\b\b\b\b\b\b\b\b\b\b\b\b\b\b\b\b\b\b\b\b\b\b\b\b\b\b\b\n",
      "Epoch 35/200\n",
      "68/68 [==============================] - 0s 3ms/step - loss: 0.0052 - val_loss: 0.0052\b\b\b\b\b\b\b\b\b\b\b\b\b\b\b\b\b\b\b\b\b\b\b\b\b\b\b\b\b\b\b\b\b\b\b\b\b\b\b\b\b\b\b\b\b\b\b\b\b\b\b\b\b\b\b\b\b\b\b\b\b\b\b\b\b\b\b\b\b\b\b\b\b\b\b\b\b\b\b\b\b\b\b\b\b\b\b\b\b\b\b\b\b\b\b\b\b\b\b\b\b\b\b\b\b\b\b\b\b\b\b\b\b\b\b\b\b\b\b\b\b\b\b\b\b\b\b\b\b\b\b\b\b\b\b\b\b\b\b\b\b\b\b\b\b\b\b\b\b\b\b\b\b\b\b\b\b\b\b\b\b\b\b\b\b\b\b\b\b\b\b\b\b\b\b\b\b\b\b\b\b\b\b\b\b\b\b\b\b\b\b\b\b\b\b\b\b\b\b\b\b\b\b\b\b\b\b\b\b\b\b\b\b\b\b\b\b\b\b\b\b\b\b\b\b\b\b\b\b\n",
      "Epoch 36/200\n",
      "68/68 [==============================] - 0s 3ms/step - loss: 0.0054 - val_loss: 0.0051\b\b\b\b\b\b\b\b\b\b\b\b\b\b\b\b\b\b\b\b\b\b\b\b\b\b\b\b\b\b\b\b\b\b\b\b\b\b\b\b\b\b\b\b\b\b\b\b\b\b\b\b\b\b\b\b\b\b\b\b\b\b\b\b\b\b\b\b\b\b\b\b\b\b\b\b\b\b\b\b\b\b\b\b\b\b\b\b\b\b\b\b\b\b\b\b\b\b\b\b\b\b\b\b\b\b\b\b\b\b\b\b\b\b\b\b\b\b\b\b\b\b\b\b\b\b\b\b\b\b\b\b\b\b\b\b\b\b\b\b\b\b\b\b\b\b\b\b\b\b\b\b\b\b\b\b\b\b\b\b\b\b\b\b\b\b\b\b\b\b\b\b\b\b\b\b\b\b\b\b\b\b\b\b\b\b\b\b\b\b\b\b\b\b\b\b\b\b\b\b\b\b\b\b\b\b\b\b\b\b\b\b\b\b\b\b\b\b\b\b\b\b\b\b\b\b\b\b\b\n",
      "Epoch 37/200\n",
      "68/68 [==============================] - 0s 3ms/step - loss: 0.0053 - val_loss: 0.0052\b\b\b\b\b\b\b\b\b\b\b\b\b\b\b\b\b\b\b\b\b\b\b\b\b\b\b\b\b\b\b\b\b\b\b\b\b\b\b\b\b\b\b\b\b\b\b\b\b\b\b\b\b\b\b\b\b\b\b\b\b\b\b\b\b\b\b\b\b\b\b\b\b\b\b\b\b\b\b\b\b\b\b\b\b\b\b\b\b\b\b\b\b\b\b\b\b\b\b\b\b\b\b\b\b\b\b\b\b\b\b\b\b\b\b\b\b\b\b\b\b\b\b\b\b\b\b\b\b\b\b\b\b\b\b\b\b\b\b\b\b\b\b\b\b\b\b\b\b\b\b\b\b\b\b\b\b\b\b\b\b\b\b\b\b\b\b\b\b\b\b\b\b\b\b\b\b\b\b\b\b\b\b\b\b\b\b\b\b\b\b\b\b\b\b\b\b\b\b\b\b\b\b\b\b\b\b\b\b\b\b\b\b\b\b\b\b\b\b\b\b\b\b\b\b\b\b\b\b\n",
      "Epoch 38/200\n",
      "68/68 [==============================] - 0s 3ms/step - loss: 0.0048 - val_loss: 0.0050\b\b\b\b\b\b\b\b\b\b\b\b\b\b\b\b\b\b\b\b\b\b\b\b\b\b\b\b\b\b\b\b\b\b\b\b\b\b\b\b\b\b\b\b\b\b\b\b\b\b\b\b\b\b\b\b\b\b\b\b\b\b\b\b\b\b\b\b\b\b\b\b\b\b\b\b\b\b\b\b\b\b\b\b\b\b\b\b\b\b\b\b\b\b\b\b\b\b\b\b\b\b\b\b\b\b\b\b\b\b\b\b\b\b\b\b\b\b\b\b\b\b\b\b\b\b\b\b\b\b\b\b\b\b\b\b\b\b\b\b\b\b\b\b\b\b\b\b\b\b\b\b\b\b\b\b\b\b\b\b\b\b\b\b\b\b\n",
      "Epoch 39/200\n",
      "68/68 [==============================] - 0s 3ms/step - loss: 0.0047 - val_loss: 0.0051\b\b\b\b\b\b\b\b\b\b\b\b\b\b\b\b\b\b\b\b\b\b\b\b\b\b\b\b\b\b\b\b\b\b\b\b\b\b\b\b\b\b\b\b\b\b\b\b\b\b\b\b\b\b\b\b\b\b\b\b\b\b\b\b\b\b\b\b\b\b\b\b\b\b\b\b\b\b\b\b\b\b\b\b\b\b\b\b\b\b\b\b\b\b\b\b\b\b\b\b\b\b\b\b\b\b\b\b\b\b\b\b\b\b\b\b\b\b\b\b\b\b\b\b\b\b\b\b\b\b\b\b\b\b\b\b\b\b\b\b\b\b\b\b\b\b\b\b\b\b\b\b\b\b\b\b\b\b\b\b\b\b\b\b\b\b\n",
      "Epoch 40/200\n",
      "68/68 [==============================] - 0s 3ms/step - loss: 0.0049 - val_loss: 0.0050\b\b\b\b\b\b\b\b\b\b\b\b\b\b\b\b\b\b\b\b\b\b\b\b\b\b\b\b\b\b\b\b\b\b\b\b\b\b\b\b\b\b\b\b\b\b\b\b\b\b\b\b\b\b\b\b\b\b\b\b\b\b\b\b\b\b\b\b\b\b\b\b\b\b\b\b\b\b\b\b\b\b\b\b\b\b\b\b\b\b\b\b\b\b\b\b\b\b\b\b\b\b\b\b\b\b\b\b\b\b\b\b\b\b\b\b\b\b\b\b\b\b\b\b\b\b\b\b\b\b\b\b\b\b\b\b\b\b\b\b\b\b\b\b\b\b\b\b\b\b\b\b\b\b\b\b\b\b\b\b\b\b\b\b\b\b\b\b\b\b\b\b\b\b\b\b\b\b\b\b\b\b\b\b\b\b\b\b\b\b\b\b\b\b\b\b\b\b\b\b\b\b\b\b\b\b\b\b\b\b\b\b\b\b\b\b\b\b\b\b\b\b\b\b\b\b\b\b\b\n",
      "Epoch 41/200\n",
      "68/68 [==============================] - 0s 3ms/step - loss: 0.0053 - val_loss: 0.0051\b\b\b\b\b\b\b\b\b\b\b\b\b\b\b\b\b\b\b\b\b\b\b\b\b\b\b\b\b\b\b\b\b\b\b\b\b\b\b\b\b\b\b\b\b\b\b\b\b\b\b\b\b\b\b\b\b\b\b\b\b\b\b\b\b\b\b\b\b\b\b\b\b\b\b\b\b\b\b\b\b\b\b\b\b\b\b\b\b\b\b\b\b\b\b\b\b\b\b\b\b\b\b\b\b\b\b\b\b\b\b\b\b\b\b\b\b\b\b\b\b\b\b\b\b\b\b\b\b\b\b\b\b\b\b\b\b\b\b\b\b\b\b\b\b\b\b\b\b\b\b\b\b\b\b\b\b\b\b\b\b\b\b\b\b\b\n",
      "Epoch 42/200\n",
      "68/68 [==============================] - 0s 3ms/step - loss: 0.0048 - val_loss: 0.0050\b\b\b\b\b\b\b\b\b\b\b\b\b\b\b\b\b\b\b\b\b\b\b\b\b\b\b\b\b\b\b\b\b\b\b\b\b\b\b\b\b\b\b\b\b\b\b\b\b\b\b\b\b\b\b\b\b\b\b\b\b\b\b\b\b\b\b\b\b\b\b\b\b\b\b\b\b\b\b\b\b\b\b\b\b\b\b\b\b\b\b\b\b\b\b\b\b\b\b\b\b\b\b\b\b\b\b\b\b\b\b\b\b\b\b\b\b\b\b\b\b\b\b\b\b\b\b\b\b\b\b\b\b\b\b\b\b\b\b\b\b\b\b\b\b\b\b\b\b\b\b\b\b\b\b\b\b\b\b\b\b\b\b\b\b\b\b\b\b\b\b\b\b\b\b\b\b\b\b\b\b\b\b\b\b\b\b\b\b\b\b\b\b\b\b\b\b\b\b\b\b\b\b\b\b\b\b\b\b\b\b\b\b\b\b\b\b\b\b\b\b\b\b\b\b\b\b\b\b\n",
      "Epoch 43/200\n",
      "68/68 [==============================] - 0s 3ms/step - loss: 0.0050 - val_loss: 0.0050\b\b\b\b\b\b\b\b\b\b\b\b\b\b\b\b\b\b\b\b\b\b\b\b\b\b\b\b\b\b\b\b\b\b\b\b\b\b\b\b\b\b\b\b\b\b\b\b\b\b\b\b\b\b\b\b\b\b\b\b\b\b\b\b\b\b\b\b\b\b\b\b\b\b\b\b\b\b\b\b\b\b\b\b\b\b\b\b\b\b\b\b\b\b\b\b\b\b\b\b\b\b\b\b\b\b\b\b\b\b\b\b\b\b\b\b\b\b\b\b\b\b\b\b\b\b\b\b\b\b\b\b\b\b\b\b\b\b\b\b\b\b\b\b\b\b\b\b\b\b\b\b\b\b\b\b\b\b\b\b\b\b\b\b\b\b\n",
      "Epoch 44/200\n",
      "68/68 [==============================] - 0s 3ms/step - loss: 0.0049 - val_loss: 0.0052\b\b\b\b\b\b\b\b\b\b\b\b\b\b\b\b\b\b\b\b\b\b\b\b\b\b\b\b\b\b\b\b\b\b\b\b\b\b\b\b\b\b\b\b\b\b\b\b\b\b\b\b\b\b\b\b\b\b\b\b\b\b\b\b\b\b\b\b\b\b\b\b\b\b\b\b\b\b\b\b\b\b\b\b\b\b\b\b\b\b\b\b\b\b\b\b\b\b\b\b\b\b\b\b\b\b\b\b\b\b\b\b\b\b\b\b\b\b\b\b\b\b\b\b\b\b\b\b\b\b\b\b\b\b\b\b\b\b\b\b\b\b\b\b\b\b\b\b\b\b\b\b\b\b\b\b\b\b\b\b\b\b\b\b\b\b\n",
      "Epoch 45/200\n",
      "68/68 [==============================] - 0s 3ms/step - loss: 0.0054 - val_loss: 0.0056\b\b\b\b\b\b\b\b\b\b\b\b\b\b\b\b\b\b\b\b\b\b\b\b\b\b\b\b\b\b\b\b\b\b\b\b\b\b\b\b\b\b\b\b\b\b\b\b\b\b\b\b\b\b\b\b\b\b\b\b\b\b\b\b\b\b\b\b\b\b\b\b\b\b\b\b\b\b\b\b\b\b\b\b\b\b\b\b\b\b\b\b\b\b\b\b\b\b\b\b\b\b\b\b\b\b\b\b\b\b\b\b\b\b\b\b\b\b\b\b\b\b\b\b\b\b\b\b\b\b\b\b\b\b\b\b\b\b\b\b\b\b\b\b\b\b\b\b\b\b\b\b\b\b\b\b\b\b\b\b\b\b\b\b\b\b\n",
      "Epoch 46/200\n",
      "68/68 [==============================] - 0s 3ms/step - loss: 0.0052 - val_loss: 0.0052\b\b\b\b\b\b\b\b\b\b\b\b\b\b\b\b\b\b\b\b\b\b\b\b\b\b\b\b\b\b\b\b\b\b\b\b\b\b\b\b\b\b\b\b\b\b\b\b\b\b\b\b\b\b\b\b\b\b\b\b\b\b\b\b\b\b\b\b\b\b\b\b\b\b\b\b\b\b\b\b\b\b\b\b\b\b\b\b\b\b\b\b\b\b\b\b\b\b\b\b\b\b\b\b\b\b\b\b\b\b\b\b\b\b\b\b\b\b\b\b\b\b\b\b\b\b\b\b\b\b\b\b\b\b\b\b\b\b\b\b\b\b\b\b\b\b\b\b\b\b\b\b\b\b\b\b\b\b\b\b\b\b\b\b\b\b\b\b\b\b\b\b\b\b\b\b\b\b\b\b\b\b\b\b\b\b\b\b\b\b\b\b\b\b\b\b\b\b\b\b\b\b\b\b\b\b\b\b\b\b\b\b\b\b\b\b\b\b\b\b\b\b\b\b\b\b\b\b\b\n",
      "Epoch 47/200\n",
      "68/68 [==============================] - 0s 3ms/step - loss: 0.0055 - val_loss: 0.0056\b\b\b\b\b\b\b\b\b\b\b\b\b\b\b\b\b\b\b\b\b\b\b\b\b\b\b\b\b\b\b\b\b\b\b\b\b\b\b\b\b\b\b\b\b\b\b\b\b\b\b\b\b\b\b\b\b\b\b\b\b\b\b\b\b\b\b\b\b\b\b\b\b\b\b\b\b\b\b\b\b\b\b\b\b\b\b\b\b\b\b\b\b\b\b\b\b\b\b\b\b\b\b\b\b\b\b\b\b\b\b\b\b\b\b\b\b\b\b\b\b\b\b\b\b\b\b\b\b\b\b\b\b\b\b\b\b\b\b\b\b\b\b\b\b\b\b\b\b\b\b\b\b\b\b\b\b\b\b\b\b\b\b\b\b\b\b\b\b\b\b\b\b\b\b\b\b\b\b\b\b\b\b\b\b\b\b\b\b\b\b\b\b\b\b\b\b\b\b\b\b\b\b\b\b\b\b\b\b\b\b\b\b\b\b\b\b\b\b\b\b\b\b\b\b\b\b\b\b\n",
      "Epoch 48/200\n",
      "68/68 [==============================] - 0s 3ms/step - loss: 0.0056 - val_loss: 0.0050\b\b\b\b\b\b\b\b\b\b\b\b\b\b\b\b\b\b\b\b\b\b\b\b\b\b\b\b\b\b\b\b\b\b\b\b\b\b\b\b\b\b\b\b\b\b\b\b\b\b\b\b\b\b\b\b\b\b\b\b\b\b\b\b\b\b\b\b\b\b\b\b\b\b\b\b\b\b\b\b\b\b\b\b\b\b\b\b\b\b\b\b\b\b\b\b\b\b\b\b\b\b\b\b\b\b\b\b\b\b\b\b\b\b\b\b\b\b\b\b\b\b\b\b\b\b\b\b\b\b\b\b\b\b\b\b\b\b\b\b\b\b\b\b\b\b\b\b\b\b\b\b\b\b\b\b\b\b\b\b\b\b\b\b\b\b\n"
     ]
    }
   ],
   "source": [
    "lstmodel.compile(loss='mean_squared_logarithmic_error', optimizer='adam')\n",
    "early_stop = EarlyStopping(monitor='val_loss', patience=5)\n",
    "\n",
    "\n",
    "history = lstmodel.fit(x_train, y_train,\n",
    "                    epochs=200,\n",
    "                    batch_size=16,\n",
    "                    validation_data=(x_valid, y_valid),\n",
    "                    callbacks=early_stop)\n",
    "\n"
   ],
   "metadata": {
    "collapsed": false,
    "pycharm": {
     "name": "#%%\n"
    }
   }
  },
  {
   "cell_type": "code",
   "execution_count": 81,
   "outputs": [
    {
     "name": "stdout",
     "output_type": "stream",
     "text": [
      "[[[0.45888594 0.        ]\n",
      "  [0.48541114 0.        ]\n",
      "  [0.47480106 0.        ]\n",
      "  ...\n",
      "  [0.49071618 0.        ]\n",
      "  [0.46419098 0.        ]\n",
      "  [0.39257294 0.        ]]\n",
      "\n",
      " [[0.48541114 0.        ]\n",
      "  [0.47480106 0.        ]\n",
      "  [0.45888594 0.        ]\n",
      "  ...\n",
      "  [0.46419098 0.        ]\n",
      "  [0.39257294 0.        ]\n",
      "  [0.39787798 0.00196721]]\n",
      "\n",
      " [[0.47480106 0.        ]\n",
      "  [0.45888594 0.        ]\n",
      "  [0.50397878 0.        ]\n",
      "  ...\n",
      "  [0.39257294 0.        ]\n",
      "  [0.39787798 0.00196721]\n",
      "  [0.38461538 0.        ]]\n",
      "\n",
      " ...\n",
      "\n",
      " [[0.5862069  0.        ]\n",
      "  [0.60742706 0.        ]\n",
      "  [0.65782493 0.        ]\n",
      "  ...\n",
      "  [0.69230769 0.        ]\n",
      "  [0.74005305 0.        ]\n",
      "  [0.68435013 0.        ]]\n",
      "\n",
      " [[0.60742706 0.        ]\n",
      "  [0.65782493 0.        ]\n",
      "  [0.62068966 0.        ]\n",
      "  ...\n",
      "  [0.74005305 0.        ]\n",
      "  [0.68435013 0.        ]\n",
      "  [0.67639257 0.        ]]\n",
      "\n",
      " [[0.65782493 0.        ]\n",
      "  [0.62068966 0.        ]\n",
      "  [0.65251989 0.        ]\n",
      "  ...\n",
      "  [0.68435013 0.        ]\n",
      "  [0.67639257 0.        ]\n",
      "  [0.67108753 0.00229508]]]\n",
      "(180, 20, 2)\n"
     ]
    }
   ],
   "source": [
    "print(test_feature)\n",
    "print(test_feature.shape)"
   ],
   "metadata": {
    "collapsed": false,
    "pycharm": {
     "name": "#%%\n"
    }
   }
  },
  {
   "cell_type": "code",
   "execution_count": 82,
   "outputs": [
    {
     "data": {
      "text/plain": "(180, 1)"
     },
     "execution_count": 82,
     "metadata": {},
     "output_type": "execute_result"
    }
   ],
   "source": [
    "pred= lstmodel.predict(test_feature)\n",
    "\n",
    "pred.shape\n"
   ],
   "metadata": {
    "collapsed": false,
    "pycharm": {
     "name": "#%%\n"
    }
   }
  },
  {
   "cell_type": "code",
   "execution_count": 83,
   "outputs": [
    {
     "data": {
      "text/plain": "<Figure size 576x432 with 1 Axes>",
      "image/png": "[encoded data removed]"
     },
     "metadata": {
      "needs_background": "light"
     },
     "output_type": "display_data"
    }
   ],
   "source": [
    "def plot_train_history(history, title):\n",
    "    loss = history.history['loss']\n",
    "    val_loss = history.history['val_loss']\n",
    "\n",
    "    epochs = range(len(loss))\n",
    "\n",
    "    plt.figure()\n",
    "\n",
    "    plt.plot(epochs, loss, 'b', label = 'Training loss')\n",
    "    plt.plot(epochs, val_loss, 'r', label = 'Validation loss')\n",
    "    plt.title(title)\n",
    "    plt.legend()\n",
    "\n",
    "    plt.show()\n",
    "\n",
    "plot_train_history(history, 'Multi-Step Training and validation loss')"
   ],
   "metadata": {
    "collapsed": false,
    "pycharm": {
     "name": "#%%\n"
    }
   }
  },
  {
   "cell_type": "code",
   "execution_count": 84,
   "outputs": [
    {
     "name": "stdout",
     "output_type": "stream",
     "text": [
      "Train Score:  0.005037629045546055\n",
      "Validation Score:  0.005003057885915041\n"
     ]
    }
   ],
   "source": [
    "trainScore = lstmodel.evaluate(x_train, y_train, verbose=0)\n",
    "print('Train Score: ',trainScore)\n",
    "\n",
    "valScore = lstmodel.evaluate(x_valid, y_valid, verbose=0)\n",
    "print('Validation Score: ',valScore)"
   ],
   "metadata": {
    "collapsed": false,
    "pycharm": {
     "name": "#%%\n"
    }
   }
  },
  {
   "cell_type": "markdown",
   "source": [
    "### 테스트 해 보기\n",
    "최신 데이터를 다운로드 하여 input 데이터를 넣어 보고 예측해보기!"
   ],
   "metadata": {
    "collapsed": false
   }
  },
  {
   "cell_type": "code",
   "execution_count": 85,
   "outputs": [
    {
     "data": {
      "text/plain": "     지점  지점명          일시  평균기온(°C)  일강수량(mm)\n0   268  진도군  2021-05-06      14.7       NaN\n1   268  진도군  2021-05-07      16.6       NaN\n2   268  진도군  2021-05-08      15.2       NaN\n3   268  진도군  2021-05-09      16.4       NaN\n4   268  진도군  2021-05-10      18.2       NaN\n5   268  진도군  2021-05-11      19.7       NaN\n6   268  진도군  2021-05-12      20.0       NaN\n7   268  진도군  2021-05-13      19.0       NaN\n8   268  진도군  2021-05-14      20.4       0.0\n9   268  진도군  2021-05-15      21.7      20.5\n10  268  진도군  2021-05-16      19.9      45.6\n11  268  진도군  2021-05-17      15.1       0.8\n12  268  진도군  2021-05-18      16.2       NaN\n13  268  진도군  2021-05-19      19.4       NaN\n14  268  진도군  2021-05-20      16.2      13.0\n15  268  진도군  2021-05-21      16.7       NaN\n16  268  진도군  2021-05-22      17.9       NaN\n17  268  진도군  2021-05-23      19.7       0.0\n18  268  진도군  2021-05-24      17.6       0.0\n19  268  진도군  2021-05-25      17.3       NaN\n20  268  진도군  2021-05-26      17.1       0.7\n21  268  진도군  2021-05-27      16.9       0.6\n22  268  진도군  2021-05-28      18.7       0.0\n23  268  진도군  2021-05-29      18.2       NaN\n24  268  진도군  2021-05-30      20.3       NaN\n25  268  진도군  2021-05-31      21.2       NaN\n26  268  진도군  2021-06-01      21.9       NaN\n27  268  진도군  2021-06-02      22.6       NaN\n28  268  진도군  2021-06-03      20.7      17.4\n29  268  진도군  2021-06-04      18.7       0.7\n30  268  진도군  2021-06-05      20.4       NaN\n31  268  진도군  2021-06-06      21.7       NaN",
      "text/html": "<div>\n<style scoped>\n    .dataframe tbody tr th:only-of-type {\n        vertical-align: middle;\n    }\n\n    .dataframe tbody tr th {\n        vertical-align: top;\n    }\n\n    .dataframe thead th {\n        text-align: right;\n    }\n</style>\n<table border=\"1\" class=\"dataframe\">\n  <thead>\n    <tr style=\"text-align: right;\">\n      <th></th>\n      <th>지점</th>\n      <th>지점명</th>\n      <th>일시</th>\n      <th>평균기온(°C)</th>\n      <th>일강수량(mm)</th>\n    </tr>\n  </thead>\n  <tbody>\n    <tr>\n      <th>0</th>\n      <td>268</td>\n      <td>진도군</td>\n      <td>2021-05-06</td>\n      <td>14.7</td>\n      <td>NaN</td>\n    </tr>\n    <tr>\n      <th>1</th>\n      <td>268</td>\n      <td>진도군</td>\n      <td>2021-05-07</td>\n      <td>16.6</td>\n      <td>NaN</td>\n    </tr>\n    <tr>\n      <th>2</th>\n      <td>268</td>\n      <td>진도군</td>\n      <td>2021-05-08</td>\n      <td>15.2</td>\n      <td>NaN</td>\n    </tr>\n    <tr>\n      <th>3</th>\n      <td>268</td>\n      <td>진도군</td>\n      <td>2021-05-09</td>\n      <td>16.4</td>\n      <td>NaN</td>\n    </tr>\n    <tr>\n      <th>4</th>\n      <td>268</td>\n      <td>진도군</td>\n      <td>2021-05-10</td>\n      <td>18.2</td>\n      <td>NaN</td>\n    </tr>\n    <tr>\n      <th>5</th>\n      <td>268</td>\n      <td>진도군</td>\n      <td>2021-05-11</td>\n      <td>19.7</td>\n      <td>NaN</td>\n    </tr>\n    <tr>\n      <th>6</th>\n      <td>268</td>\n      <td>진도군</td>\n      <td>2021-05-12</td>\n      <td>20.0</td>\n      <td>NaN</td>\n    </tr>\n    <tr>\n      <th>7</th>\n      <td>268</td>\n      <td>진도군</td>\n      <td>2021-05-13</td>\n      <td>19.0</td>\n      <td>NaN</td>\n    </tr>\n    <tr>\n      <th>8</th>\n      <td>268</td>\n      <td>진도군</td>\n      <td>2021-05-14</td>\n      <td>20.4</td>\n      <td>0.0</td>\n    </tr>\n    <tr>\n      <th>9</th>\n      <td>268</td>\n      <td>진도군</td>\n      <td>2021-05-15</td>\n      <td>21.7</td>\n      <td>20.5</td>\n    </tr>\n    <tr>\n      <th>10</th>\n      <td>268</td>\n      <td>진도군</td>\n      <td>2021-05-16</td>\n      <td>19.9</td>\n      <td>45.6</td>\n    </tr>\n    <tr>\n      <th>11</th>\n      <td>268</td>\n      <td>진도군</td>\n      <td>2021-05-17</td>\n      <td>15.1</td>\n      <td>0.8</td>\n    </tr>\n    <tr>\n      <th>12</th>\n      <td>268</td>\n      <td>진도군</td>\n      <td>2021-05-18</td>\n      <td>16.2</td>\n      <td>NaN</td>\n    </tr>\n    <tr>\n      <th>13</th>\n      <td>268</td>\n      <td>진도군</td>\n      <td>2021-05-19</td>\n      <td>19.4</td>\n      <td>NaN</td>\n    </tr>\n    <tr>\n      <th>14</th>\n      <td>268</td>\n      <td>진도군</td>\n      <td>2021-05-20</td>\n      <td>16.2</td>\n      <td>13.0</td>\n    </tr>\n    <tr>\n      <th>15</th>\n      <td>268</td>\n      <td>진도군</td>\n      <td>2021-05-21</td>\n      <td>16.7</td>\n      <td>NaN</td>\n    </tr>\n    <tr>\n      <th>16</th>\n      <td>268</td>\n      <td>진도군</td>\n      <td>2021-05-22</td>\n      <td>17.9</td>\n      <td>NaN</td>\n    </tr>\n    <tr>\n      <th>17</th>\n      <td>268</td>\n      <td>진도군</td>\n      <td>2021-05-23</td>\n      <td>19.7</td>\n      <td>0.0</td>\n    </tr>\n    <tr>\n      <th>18</th>\n      <td>268</td>\n      <td>진도군</td>\n      <td>2021-05-24</td>\n      <td>17.6</td>\n      <td>0.0</td>\n    </tr>\n    <tr>\n      <th>19</th>\n      <td>268</td>\n      <td>진도군</td>\n      <td>2021-05-25</td>\n      <td>17.3</td>\n      <td>NaN</td>\n    </tr>\n    <tr>\n      <th>20</th>\n      <td>268</td>\n      <td>진도군</td>\n      <td>2021-05-26</td>\n      <td>17.1</td>\n      <td>0.7</td>\n    </tr>\n    <tr>\n      <th>21</th>\n      <td>268</td>\n      <td>진도군</td>\n      <td>2021-05-27</td>\n      <td>16.9</td>\n      <td>0.6</td>\n    </tr>\n    <tr>\n      <th>22</th>\n      <td>268</td>\n      <td>진도군</td>\n      <td>2021-05-28</td>\n      <td>18.7</td>\n      <td>0.0</td>\n    </tr>\n    <tr>\n      <th>23</th>\n      <td>268</td>\n      <td>진도군</td>\n      <td>2021-05-29</td>\n      <td>18.2</td>\n      <td>NaN</td>\n    </tr>\n    <tr>\n      <th>24</th>\n      <td>268</td>\n      <td>진도군</td>\n      <td>2021-05-30</td>\n      <td>20.3</td>\n      <td>NaN</td>\n    </tr>\n    <tr>\n      <th>25</th>\n      <td>268</td>\n      <td>진도군</td>\n      <td>2021-05-31</td>\n      <td>21.2</td>\n      <td>NaN</td>\n    </tr>\n    <tr>\n      <th>26</th>\n      <td>268</td>\n      <td>진도군</td>\n      <td>2021-06-01</td>\n      <td>21.9</td>\n      <td>NaN</td>\n    </tr>\n    <tr>\n      <th>27</th>\n      <td>268</td>\n      <td>진도군</td>\n      <td>2021-06-02</td>\n      <td>22.6</td>\n      <td>NaN</td>\n    </tr>\n    <tr>\n      <th>28</th>\n      <td>268</td>\n      <td>진도군</td>\n      <td>2021-06-03</td>\n      <td>20.7</td>\n      <td>17.4</td>\n    </tr>\n    <tr>\n      <th>29</th>\n      <td>268</td>\n      <td>진도군</td>\n      <td>2021-06-04</td>\n      <td>18.7</td>\n      <td>0.7</td>\n    </tr>\n    <tr>\n      <th>30</th>\n      <td>268</td>\n      <td>진도군</td>\n      <td>2021-06-05</td>\n      <td>20.4</td>\n      <td>NaN</td>\n    </tr>\n    <tr>\n      <th>31</th>\n      <td>268</td>\n      <td>진도군</td>\n      <td>2021-06-06</td>\n      <td>21.7</td>\n      <td>NaN</td>\n    </tr>\n  </tbody>\n</table>\n</div>"
     },
     "metadata": {},
     "output_type": "display_data"
    }
   ],
   "source": [
    "test = pd.read_csv('./data/testdata2.csv', encoding='CP949')\n",
    "display(test)\n",
    "\n",
    "# 날씨 데이터의 NaN 값을 0으로 바꿔준다.\n",
    "test=test.fillna(0)"
   ],
   "metadata": {
    "collapsed": false,
    "pycharm": {
     "name": "#%%\n"
    }
   }
  },
  {
   "cell_type": "code",
   "execution_count": 86,
   "outputs": [
    {
     "data": {
      "text/plain": "    평균기온(°C)  일강수량(mm)\n0   0.000000  0.000000\n1   0.240506  0.000000\n2   0.063291  0.000000\n3   0.215190  0.000000\n4   0.443038  0.000000\n5   0.632911  0.000000\n6   0.670886  0.000000\n7   0.544304  0.000000\n8   0.721519  0.000000\n9   0.886076  0.449561\n10  0.658228  1.000000\n11  0.050633  0.017544\n12  0.189873  0.000000\n13  0.594937  0.000000\n14  0.189873  0.285088\n15  0.253165  0.000000\n16  0.405063  0.000000\n17  0.632911  0.000000\n18  0.367089  0.000000\n19  0.329114  0.000000\n20  0.303797  0.015351\n21  0.278481  0.013158\n22  0.506329  0.000000\n23  0.443038  0.000000\n24  0.708861  0.000000\n25  0.822785  0.000000\n26  0.911392  0.000000\n27  1.000000  0.000000\n28  0.759494  0.381579\n29  0.506329  0.015351\n30  0.721519  0.000000\n31  0.886076  0.000000",
      "text/html": "<div>\n<style scoped>\n    .dataframe tbody tr th:only-of-type {\n        vertical-align: middle;\n    }\n\n    .dataframe tbody tr th {\n        vertical-align: top;\n    }\n\n    .dataframe thead th {\n        text-align: right;\n    }\n</style>\n<table border=\"1\" class=\"dataframe\">\n  <thead>\n    <tr style=\"text-align: right;\">\n      <th></th>\n      <th>평균기온(°C)</th>\n      <th>일강수량(mm)</th>\n    </tr>\n  </thead>\n  <tbody>\n    <tr>\n      <th>0</th>\n      <td>0.000000</td>\n      <td>0.000000</td>\n    </tr>\n    <tr>\n      <th>1</th>\n      <td>0.240506</td>\n      <td>0.000000</td>\n    </tr>\n    <tr>\n      <th>2</th>\n      <td>0.063291</td>\n      <td>0.000000</td>\n    </tr>\n    <tr>\n      <th>3</th>\n      <td>0.215190</td>\n      <td>0.000000</td>\n    </tr>\n    <tr>\n      <th>4</th>\n      <td>0.443038</td>\n      <td>0.000000</td>\n    </tr>\n    <tr>\n      <th>5</th>\n      <td>0.632911</td>\n      <td>0.000000</td>\n    </tr>\n    <tr>\n      <th>6</th>\n      <td>0.670886</td>\n      <td>0.000000</td>\n    </tr>\n    <tr>\n      <th>7</th>\n      <td>0.544304</td>\n      <td>0.000000</td>\n    </tr>\n    <tr>\n      <th>8</th>\n      <td>0.721519</td>\n      <td>0.000000</td>\n    </tr>\n    <tr>\n      <th>9</th>\n      <td>0.886076</td>\n      <td>0.449561</td>\n    </tr>\n    <tr>\n      <th>10</th>\n      <td>0.658228</td>\n      <td>1.000000</td>\n    </tr>\n    <tr>\n      <th>11</th>\n      <td>0.050633</td>\n      <td>0.017544</td>\n    </tr>\n    <tr>\n      <th>12</th>\n      <td>0.189873</td>\n      <td>0.000000</td>\n    </tr>\n    <tr>\n      <th>13</th>\n      <td>0.594937</td>\n      <td>0.000000</td>\n    </tr>\n    <tr>\n      <th>14</th>\n      <td>0.189873</td>\n      <td>0.285088</td>\n    </tr>\n    <tr>\n      <th>15</th>\n      <td>0.253165</td>\n      <td>0.000000</td>\n    </tr>\n    <tr>\n      <th>16</th>\n      <td>0.405063</td>\n      <td>0.000000</td>\n    </tr>\n    <tr>\n      <th>17</th>\n      <td>0.632911</td>\n      <td>0.000000</td>\n    </tr>\n    <tr>\n      <th>18</th>\n      <td>0.367089</td>\n      <td>0.000000</td>\n    </tr>\n    <tr>\n      <th>19</th>\n      <td>0.329114</td>\n      <td>0.000000</td>\n    </tr>\n    <tr>\n      <th>20</th>\n      <td>0.303797</td>\n      <td>0.015351</td>\n    </tr>\n    <tr>\n      <th>21</th>\n      <td>0.278481</td>\n      <td>0.013158</td>\n    </tr>\n    <tr>\n      <th>22</th>\n      <td>0.506329</td>\n      <td>0.000000</td>\n    </tr>\n    <tr>\n      <th>23</th>\n      <td>0.443038</td>\n      <td>0.000000</td>\n    </tr>\n    <tr>\n      <th>24</th>\n      <td>0.708861</td>\n      <td>0.000000</td>\n    </tr>\n    <tr>\n      <th>25</th>\n      <td>0.822785</td>\n      <td>0.000000</td>\n    </tr>\n    <tr>\n      <th>26</th>\n      <td>0.911392</td>\n      <td>0.000000</td>\n    </tr>\n    <tr>\n      <th>27</th>\n      <td>1.000000</td>\n      <td>0.000000</td>\n    </tr>\n    <tr>\n      <th>28</th>\n      <td>0.759494</td>\n      <td>0.381579</td>\n    </tr>\n    <tr>\n      <th>29</th>\n      <td>0.506329</td>\n      <td>0.015351</td>\n    </tr>\n    <tr>\n      <th>30</th>\n      <td>0.721519</td>\n      <td>0.000000</td>\n    </tr>\n    <tr>\n      <th>31</th>\n      <td>0.886076</td>\n      <td>0.000000</td>\n    </tr>\n  </tbody>\n</table>\n</div>"
     },
     "metadata": {},
     "output_type": "display_data"
    }
   ],
   "source": [
    "# 정규화\n",
    "from sklearn.preprocessing import MinMaxScaler\n",
    "\n",
    "test.sort_index(ascending=False).reset_index(drop=True)\n",
    "\n",
    "scaler = MinMaxScaler()\n",
    "scale_cols=['평균기온(°C)','일강수량(mm)']\n",
    "test_scaled=scaler.fit_transform(test[scale_cols])\n",
    "test_scaled = pd.DataFrame(test_scaled)\n",
    "test_scaled.columns = scale_cols\n",
    "\n",
    "display(test_scaled)"
   ],
   "metadata": {
    "collapsed": false,
    "pycharm": {
     "name": "#%%\n"
    }
   }
  },
  {
   "cell_type": "code",
   "execution_count": 87,
   "outputs": [
    {
     "data": {
      "text/plain": "array([[[0.        , 0.        ],\n        [0.24050633, 0.        ],\n        [0.06329114, 0.        ],\n        [0.21518987, 0.        ],\n        [0.44303797, 0.        ],\n        [0.63291139, 0.        ],\n        [0.67088608, 0.        ],\n        [0.5443038 , 0.        ],\n        [0.72151899, 0.        ],\n        [0.88607595, 0.4495614 ],\n        [0.65822785, 1.        ],\n        [0.05063291, 0.01754386],\n        [0.18987342, 0.        ],\n        [0.59493671, 0.        ],\n        [0.18987342, 0.28508772],\n        [0.25316456, 0.        ],\n        [0.40506329, 0.        ],\n        [0.63291139, 0.        ],\n        [0.36708861, 0.        ],\n        [0.32911392, 0.        ]],\n\n       [[0.24050633, 0.        ],\n        [0.06329114, 0.        ],\n        [0.21518987, 0.        ],\n        [0.44303797, 0.        ],\n        [0.63291139, 0.        ],\n        [0.67088608, 0.        ],\n        [0.5443038 , 0.        ],\n        [0.72151899, 0.        ],\n        [0.88607595, 0.4495614 ],\n        [0.65822785, 1.        ],\n        [0.05063291, 0.01754386],\n        [0.18987342, 0.        ],\n        [0.59493671, 0.        ],\n        [0.18987342, 0.28508772],\n        [0.25316456, 0.        ],\n        [0.40506329, 0.        ],\n        [0.63291139, 0.        ],\n        [0.36708861, 0.        ],\n        [0.32911392, 0.        ],\n        [0.30379747, 0.01535088]],\n\n       [[0.06329114, 0.        ],\n        [0.21518987, 0.        ],\n        [0.44303797, 0.        ],\n        [0.63291139, 0.        ],\n        [0.67088608, 0.        ],\n        [0.5443038 , 0.        ],\n        [0.72151899, 0.        ],\n        [0.88607595, 0.4495614 ],\n        [0.65822785, 1.        ],\n        [0.05063291, 0.01754386],\n        [0.18987342, 0.        ],\n        [0.59493671, 0.        ],\n        [0.18987342, 0.28508772],\n        [0.25316456, 0.        ],\n        [0.40506329, 0.        ],\n        [0.63291139, 0.        ],\n        [0.36708861, 0.        ],\n        [0.32911392, 0.        ],\n        [0.30379747, 0.01535088],\n        [0.27848101, 0.01315789]],\n\n       [[0.21518987, 0.        ],\n        [0.44303797, 0.        ],\n        [0.63291139, 0.        ],\n        [0.67088608, 0.        ],\n        [0.5443038 , 0.        ],\n        [0.72151899, 0.        ],\n        [0.88607595, 0.4495614 ],\n        [0.65822785, 1.        ],\n        [0.05063291, 0.01754386],\n        [0.18987342, 0.        ],\n        [0.59493671, 0.        ],\n        [0.18987342, 0.28508772],\n        [0.25316456, 0.        ],\n        [0.40506329, 0.        ],\n        [0.63291139, 0.        ],\n        [0.36708861, 0.        ],\n        [0.32911392, 0.        ],\n        [0.30379747, 0.01535088],\n        [0.27848101, 0.01315789],\n        [0.50632911, 0.        ]],\n\n       [[0.44303797, 0.        ],\n        [0.63291139, 0.        ],\n        [0.67088608, 0.        ],\n        [0.5443038 , 0.        ],\n        [0.72151899, 0.        ],\n        [0.88607595, 0.4495614 ],\n        [0.65822785, 1.        ],\n        [0.05063291, 0.01754386],\n        [0.18987342, 0.        ],\n        [0.59493671, 0.        ],\n        [0.18987342, 0.28508772],\n        [0.25316456, 0.        ],\n        [0.40506329, 0.        ],\n        [0.63291139, 0.        ],\n        [0.36708861, 0.        ],\n        [0.32911392, 0.        ],\n        [0.30379747, 0.01535088],\n        [0.27848101, 0.01315789],\n        [0.50632911, 0.        ],\n        [0.44303797, 0.        ]],\n\n       [[0.63291139, 0.        ],\n        [0.67088608, 0.        ],\n        [0.5443038 , 0.        ],\n        [0.72151899, 0.        ],\n        [0.88607595, 0.4495614 ],\n        [0.65822785, 1.        ],\n        [0.05063291, 0.01754386],\n        [0.18987342, 0.        ],\n        [0.59493671, 0.        ],\n        [0.18987342, 0.28508772],\n        [0.25316456, 0.        ],\n        [0.40506329, 0.        ],\n        [0.63291139, 0.        ],\n        [0.36708861, 0.        ],\n        [0.32911392, 0.        ],\n        [0.30379747, 0.01535088],\n        [0.27848101, 0.01315789],\n        [0.50632911, 0.        ],\n        [0.44303797, 0.        ],\n        [0.70886076, 0.        ]],\n\n       [[0.67088608, 0.        ],\n        [0.5443038 , 0.        ],\n        [0.72151899, 0.        ],\n        [0.88607595, 0.4495614 ],\n        [0.65822785, 1.        ],\n        [0.05063291, 0.01754386],\n        [0.18987342, 0.        ],\n        [0.59493671, 0.        ],\n        [0.18987342, 0.28508772],\n        [0.25316456, 0.        ],\n        [0.40506329, 0.        ],\n        [0.63291139, 0.        ],\n        [0.36708861, 0.        ],\n        [0.32911392, 0.        ],\n        [0.30379747, 0.01535088],\n        [0.27848101, 0.01315789],\n        [0.50632911, 0.        ],\n        [0.44303797, 0.        ],\n        [0.70886076, 0.        ],\n        [0.82278481, 0.        ]],\n\n       [[0.5443038 , 0.        ],\n        [0.72151899, 0.        ],\n        [0.88607595, 0.4495614 ],\n        [0.65822785, 1.        ],\n        [0.05063291, 0.01754386],\n        [0.18987342, 0.        ],\n        [0.59493671, 0.        ],\n        [0.18987342, 0.28508772],\n        [0.25316456, 0.        ],\n        [0.40506329, 0.        ],\n        [0.63291139, 0.        ],\n        [0.36708861, 0.        ],\n        [0.32911392, 0.        ],\n        [0.30379747, 0.01535088],\n        [0.27848101, 0.01315789],\n        [0.50632911, 0.        ],\n        [0.44303797, 0.        ],\n        [0.70886076, 0.        ],\n        [0.82278481, 0.        ],\n        [0.91139241, 0.        ]],\n\n       [[0.72151899, 0.        ],\n        [0.88607595, 0.4495614 ],\n        [0.65822785, 1.        ],\n        [0.05063291, 0.01754386],\n        [0.18987342, 0.        ],\n        [0.59493671, 0.        ],\n        [0.18987342, 0.28508772],\n        [0.25316456, 0.        ],\n        [0.40506329, 0.        ],\n        [0.63291139, 0.        ],\n        [0.36708861, 0.        ],\n        [0.32911392, 0.        ],\n        [0.30379747, 0.01535088],\n        [0.27848101, 0.01315789],\n        [0.50632911, 0.        ],\n        [0.44303797, 0.        ],\n        [0.70886076, 0.        ],\n        [0.82278481, 0.        ],\n        [0.91139241, 0.        ],\n        [1.        , 0.        ]],\n\n       [[0.88607595, 0.4495614 ],\n        [0.65822785, 1.        ],\n        [0.05063291, 0.01754386],\n        [0.18987342, 0.        ],\n        [0.59493671, 0.        ],\n        [0.18987342, 0.28508772],\n        [0.25316456, 0.        ],\n        [0.40506329, 0.        ],\n        [0.63291139, 0.        ],\n        [0.36708861, 0.        ],\n        [0.32911392, 0.        ],\n        [0.30379747, 0.01535088],\n        [0.27848101, 0.01315789],\n        [0.50632911, 0.        ],\n        [0.44303797, 0.        ],\n        [0.70886076, 0.        ],\n        [0.82278481, 0.        ],\n        [0.91139241, 0.        ],\n        [1.        , 0.        ],\n        [0.75949367, 0.38157895]],\n\n       [[0.65822785, 1.        ],\n        [0.05063291, 0.01754386],\n        [0.18987342, 0.        ],\n        [0.59493671, 0.        ],\n        [0.18987342, 0.28508772],\n        [0.25316456, 0.        ],\n        [0.40506329, 0.        ],\n        [0.63291139, 0.        ],\n        [0.36708861, 0.        ],\n        [0.32911392, 0.        ],\n        [0.30379747, 0.01535088],\n        [0.27848101, 0.01315789],\n        [0.50632911, 0.        ],\n        [0.44303797, 0.        ],\n        [0.70886076, 0.        ],\n        [0.82278481, 0.        ],\n        [0.91139241, 0.        ],\n        [1.        , 0.        ],\n        [0.75949367, 0.38157895],\n        [0.50632911, 0.01535088]],\n\n       [[0.05063291, 0.01754386],\n        [0.18987342, 0.        ],\n        [0.59493671, 0.        ],\n        [0.18987342, 0.28508772],\n        [0.25316456, 0.        ],\n        [0.40506329, 0.        ],\n        [0.63291139, 0.        ],\n        [0.36708861, 0.        ],\n        [0.32911392, 0.        ],\n        [0.30379747, 0.01535088],\n        [0.27848101, 0.01315789],\n        [0.50632911, 0.        ],\n        [0.44303797, 0.        ],\n        [0.70886076, 0.        ],\n        [0.82278481, 0.        ],\n        [0.91139241, 0.        ],\n        [1.        , 0.        ],\n        [0.75949367, 0.38157895],\n        [0.50632911, 0.01535088],\n        [0.72151899, 0.        ]]])"
     },
     "metadata": {},
     "output_type": "display_data"
    }
   ],
   "source": [
    "feature_list = []\n",
    "\n",
    "for i in range(len(test_scaled) - 20):\n",
    "    feature_list.append(np.array(test_scaled.iloc[i:i+20]))\n",
    "\n",
    "test_input = np.array(feature_list)\n",
    "display(test_input)"
   ],
   "metadata": {
    "collapsed": false,
    "pycharm": {
     "name": "#%%\n"
    }
   }
  },
  {
   "cell_type": "code",
   "execution_count": 88,
   "outputs": [
    {
     "data": {
      "text/plain": "(12, 1)"
     },
     "execution_count": 88,
     "metadata": {},
     "output_type": "execute_result"
    }
   ],
   "source": [
    "test_pred = lstmodel.predict(test_input)\n",
    "test_pred.shape"
   ],
   "metadata": {
    "collapsed": false,
    "pycharm": {
     "name": "#%%\n"
    }
   }
  },
  {
   "cell_type": "code",
   "execution_count": 89,
   "outputs": [
    {
     "name": "stdout",
     "output_type": "stream",
     "text": [
      "[[2334.112 ]\n",
      " [2320.7473]\n",
      " [2370.0938]\n",
      " [2417.1658]\n",
      " [2515.735 ]\n",
      " [2495.287 ]\n",
      " [2343.2156]\n",
      " [2058.4214]\n",
      " [1758.657 ]\n",
      " [1682.7927]\n",
      " [1445.7566]\n",
      " [1255.3796]]\n"
     ]
    }
   ],
   "source": [
    "result = scaler1.inverse_transform(test_pred)\n",
    "print(result)"
   ],
   "metadata": {
    "collapsed": false,
    "pycharm": {
     "name": "#%%\n"
    }
   }
  },
  {
   "cell_type": "code",
   "execution_count": 90,
   "outputs": [
    {
     "data": {
      "text/plain": "         날짜     품목명  평균가격  전일평균가격  전년가격 등급\n1  20210526  대파(일반)  3601    3662  1868  특\n2  20210526  대파(일반)  2152    2153  1623  상\n3  20210526  대파(일반)  1572    1676  1496  중\n4  20210526  대파(일반)  1180    1392  1208  하\n1  20210527  대파(일반)  3699    3601  1952  특\n2  20210527  대파(일반)  1554    2152  1639  상\n3  20210527  대파(일반)  1247    1572  1500  중\n4  20210527  대파(일반)  1110    1180  1257  하\n1  20210528  대파(일반)  3755    3699  1992  특\n2  20210528  대파(일반)  1594    1554  1628  상\n3  20210528  대파(일반)  1242    1247  1523  중\n4  20210528  대파(일반)  1094    1110  1167  하\n1  20210529  대파(일반)  2317    3755  1769  특\n2  20210529  대파(일반)  1649    1594  1600  상\n3  20210529  대파(일반)  1272    1242  1450  중\n4  20210529  대파(일반)  1084    1094  1176  하\n1  20210530  대파(일반)     0    2317  1672  특\n2  20210530  대파(일반)     0    1649  1600  상\n3  20210530  대파(일반)     0    1272  1444  중\n4  20210530  대파(일반)     0    1084  1179  하\n1  20210531  대파(일반)  2202       0     0  특\n2  20210531  대파(일반)  1648       0     0  상\n3  20210531  대파(일반)  1306       0     0  중\n4  20210531  대파(일반)  1024       0     0  하\n1  20210601  대파(일반)  2892    2202  2044  특\n2  20210601  대파(일반)  1806    1648  1469  상\n3  20210601  대파(일반)  1362    1306  1083  중\n4  20210601  대파(일반)  1054    1024   985  하\n1  20210602  대파(일반)  2837    2892  1992  특\n2  20210602  대파(일반)  1728    1806  1530  상\n3  20210602  대파(일반)  1417    1362  1215  중\n4  20210602  대파(일반)  1062    1054   982  하\n1  20210603  대파(일반)  2355    2837  1855  특\n2  20210603  대파(일반)  1613    1728  1482  상\n3  20210603  대파(일반)  1209    1417  1358  중\n4  20210603  대파(일반)  1039    1062   946  하\n1  20210604  대파(일반)  2268    2355  1865  특\n2  20210604  대파(일반)  1369    1613  1476  상\n3  20210604  대파(일반)  1209    1209  1319  중\n4  20210604  대파(일반)   985    1039   970  하\n1  20210605  대파(일반)  1785    2268  1974  특\n2  20210605  대파(일반)  1352    1369  1518  상\n3  20210605  대파(일반)  1250    1209  1221  중\n4  20210605  대파(일반)   944     985   974  하\n1  20210606  대파(일반)     0    1785  1930  특\n2  20210606  대파(일반)     0    1352  1425  상\n3  20210606  대파(일반)     0    1250  1188  중\n4  20210606  대파(일반)     0     944   960  하",
      "text/html": "<div>\n<style scoped>\n    .dataframe tbody tr th:only-of-type {\n        vertical-align: middle;\n    }\n\n    .dataframe tbody tr th {\n        vertical-align: top;\n    }\n\n    .dataframe thead th {\n        text-align: right;\n    }\n</style>\n<table border=\"1\" class=\"dataframe\">\n  <thead>\n    <tr style=\"text-align: right;\">\n      <th></th>\n      <th>날짜</th>\n      <th>품목명</th>\n      <th>평균가격</th>\n      <th>전일평균가격</th>\n      <th>전년가격</th>\n      <th>등급</th>\n    </tr>\n  </thead>\n  <tbody>\n    <tr>\n      <th>1</th>\n      <td>20210526</td>\n      <td>대파(일반)</td>\n      <td>3601</td>\n      <td>3662</td>\n      <td>1868</td>\n      <td>특</td>\n    </tr>\n    <tr>\n      <th>2</th>\n      <td>20210526</td>\n      <td>대파(일반)</td>\n      <td>2152</td>\n      <td>2153</td>\n      <td>1623</td>\n      <td>상</td>\n    </tr>\n    <tr>\n      <th>3</th>\n      <td>20210526</td>\n      <td>대파(일반)</td>\n      <td>1572</td>\n      <td>1676</td>\n      <td>1496</td>\n      <td>중</td>\n    </tr>\n    <tr>\n      <th>4</th>\n      <td>20210526</td>\n      <td>대파(일반)</td>\n      <td>1180</td>\n      <td>1392</td>\n      <td>1208</td>\n      <td>하</td>\n    </tr>\n    <tr>\n      <th>1</th>\n      <td>20210527</td>\n      <td>대파(일반)</td>\n      <td>3699</td>\n      <td>3601</td>\n      <td>1952</td>\n      <td>특</td>\n    </tr>\n    <tr>\n      <th>2</th>\n      <td>20210527</td>\n      <td>대파(일반)</td>\n      <td>1554</td>\n      <td>2152</td>\n      <td>1639</td>\n      <td>상</td>\n    </tr>\n    <tr>\n      <th>3</th>\n      <td>20210527</td>\n      <td>대파(일반)</td>\n      <td>1247</td>\n      <td>1572</td>\n      <td>1500</td>\n      <td>중</td>\n    </tr>\n    <tr>\n      <th>4</th>\n      <td>20210527</td>\n      <td>대파(일반)</td>\n      <td>1110</td>\n      <td>1180</td>\n      <td>1257</td>\n      <td>하</td>\n    </tr>\n    <tr>\n      <th>1</th>\n      <td>20210528</td>\n      <td>대파(일반)</td>\n      <td>3755</td>\n      <td>3699</td>\n      <td>1992</td>\n      <td>특</td>\n    </tr>\n    <tr>\n      <th>2</th>\n      <td>20210528</td>\n      <td>대파(일반)</td>\n      <td>1594</td>\n      <td>1554</td>\n      <td>1628</td>\n      <td>상</td>\n    </tr>\n    <tr>\n      <th>3</th>\n      <td>20210528</td>\n      <td>대파(일반)</td>\n      <td>1242</td>\n      <td>1247</td>\n      <td>1523</td>\n      <td>중</td>\n    </tr>\n    <tr>\n      <th>4</th>\n      <td>20210528</td>\n      <td>대파(일반)</td>\n      <td>1094</td>\n      <td>1110</td>\n      <td>1167</td>\n      <td>하</td>\n    </tr>\n    <tr>\n      <th>1</th>\n      <td>20210529</td>\n      <td>대파(일반)</td>\n      <td>2317</td>\n      <td>3755</td>\n      <td>1769</td>\n      <td>특</td>\n    </tr>\n    <tr>\n      <th>2</th>\n      <td>20210529</td>\n      <td>대파(일반)</td>\n      <td>1649</td>\n      <td>1594</td>\n      <td>1600</td>\n      <td>상</td>\n    </tr>\n    <tr>\n      <th>3</th>\n      <td>20210529</td>\n      <td>대파(일반)</td>\n      <td>1272</td>\n      <td>1242</td>\n      <td>1450</td>\n      <td>중</td>\n    </tr>\n    <tr>\n      <th>4</th>\n      <td>20210529</td>\n      <td>대파(일반)</td>\n      <td>1084</td>\n      <td>1094</td>\n      <td>1176</td>\n      <td>하</td>\n    </tr>\n    <tr>\n      <th>1</th>\n      <td>20210530</td>\n      <td>대파(일반)</td>\n      <td>0</td>\n      <td>2317</td>\n      <td>1672</td>\n      <td>특</td>\n    </tr>\n    <tr>\n      <th>2</th>\n      <td>20210530</td>\n      <td>대파(일반)</td>\n      <td>0</td>\n      <td>1649</td>\n      <td>1600</td>\n      <td>상</td>\n    </tr>\n    <tr>\n      <th>3</th>\n      <td>20210530</td>\n      <td>대파(일반)</td>\n      <td>0</td>\n      <td>1272</td>\n      <td>1444</td>\n      <td>중</td>\n    </tr>\n    <tr>\n      <th>4</th>\n      <td>20210530</td>\n      <td>대파(일반)</td>\n      <td>0</td>\n      <td>1084</td>\n      <td>1179</td>\n      <td>하</td>\n    </tr>\n    <tr>\n      <th>1</th>\n      <td>20210531</td>\n      <td>대파(일반)</td>\n      <td>2202</td>\n      <td>0</td>\n      <td>0</td>\n      <td>특</td>\n    </tr>\n    <tr>\n      <th>2</th>\n      <td>20210531</td>\n      <td>대파(일반)</td>\n      <td>1648</td>\n      <td>0</td>\n      <td>0</td>\n      <td>상</td>\n    </tr>\n    <tr>\n      <th>3</th>\n      <td>20210531</td>\n      <td>대파(일반)</td>\n      <td>1306</td>\n      <td>0</td>\n      <td>0</td>\n      <td>중</td>\n    </tr>\n    <tr>\n      <th>4</th>\n      <td>20210531</td>\n      <td>대파(일반)</td>\n      <td>1024</td>\n      <td>0</td>\n      <td>0</td>\n      <td>하</td>\n    </tr>\n    <tr>\n      <th>1</th>\n      <td>20210601</td>\n      <td>대파(일반)</td>\n      <td>2892</td>\n      <td>2202</td>\n      <td>2044</td>\n      <td>특</td>\n    </tr>\n    <tr>\n      <th>2</th>\n      <td>20210601</td>\n      <td>대파(일반)</td>\n      <td>1806</td>\n      <td>1648</td>\n      <td>1469</td>\n      <td>상</td>\n    </tr>\n    <tr>\n      <th>3</th>\n      <td>20210601</td>\n      <td>대파(일반)</td>\n      <td>1362</td>\n      <td>1306</td>\n      <td>1083</td>\n      <td>중</td>\n    </tr>\n    <tr>\n      <th>4</th>\n      <td>20210601</td>\n      <td>대파(일반)</td>\n      <td>1054</td>\n      <td>1024</td>\n      <td>985</td>\n      <td>하</td>\n    </tr>\n    <tr>\n      <th>1</th>\n      <td>20210602</td>\n      <td>대파(일반)</td>\n      <td>2837</td>\n      <td>2892</td>\n      <td>1992</td>\n      <td>특</td>\n    </tr>\n    <tr>\n      <th>2</th>\n      <td>20210602</td>\n      <td>대파(일반)</td>\n      <td>1728</td>\n      <td>1806</td>\n      <td>1530</td>\n      <td>상</td>\n    </tr>\n    <tr>\n      <th>3</th>\n      <td>20210602</td>\n      <td>대파(일반)</td>\n      <td>1417</td>\n      <td>1362</td>\n      <td>1215</td>\n      <td>중</td>\n    </tr>\n    <tr>\n      <th>4</th>\n      <td>20210602</td>\n      <td>대파(일반)</td>\n      <td>1062</td>\n      <td>1054</td>\n      <td>982</td>\n      <td>하</td>\n    </tr>\n    <tr>\n      <th>1</th>\n      <td>20210603</td>\n      <td>대파(일반)</td>\n      <td>2355</td>\n      <td>2837</td>\n      <td>1855</td>\n      <td>특</td>\n    </tr>\n    <tr>\n      <th>2</th>\n      <td>20210603</td>\n      <td>대파(일반)</td>\n      <td>1613</td>\n      <td>1728</td>\n      <td>1482</td>\n      <td>상</td>\n    </tr>\n    <tr>\n      <th>3</th>\n      <td>20210603</td>\n      <td>대파(일반)</td>\n      <td>1209</td>\n      <td>1417</td>\n      <td>1358</td>\n      <td>중</td>\n    </tr>\n    <tr>\n      <th>4</th>\n      <td>20210603</td>\n      <td>대파(일반)</td>\n      <td>1039</td>\n      <td>1062</td>\n      <td>946</td>\n      <td>하</td>\n    </tr>\n    <tr>\n      <th>1</th>\n      <td>20210604</td>\n      <td>대파(일반)</td>\n      <td>2268</td>\n      <td>2355</td>\n      <td>1865</td>\n      <td>특</td>\n    </tr>\n    <tr>\n      <th>2</th>\n      <td>20210604</td>\n      <td>대파(일반)</td>\n      <td>1369</td>\n      <td>1613</td>\n      <td>1476</td>\n      <td>상</td>\n    </tr>\n    <tr>\n      <th>3</th>\n      <td>20210604</td>\n      <td>대파(일반)</td>\n      <td>1209</td>\n      <td>1209</td>\n      <td>1319</td>\n      <td>중</td>\n    </tr>\n    <tr>\n      <th>4</th>\n      <td>20210604</td>\n      <td>대파(일반)</td>\n      <td>985</td>\n      <td>1039</td>\n      <td>970</td>\n      <td>하</td>\n    </tr>\n    <tr>\n      <th>1</th>\n      <td>20210605</td>\n      <td>대파(일반)</td>\n      <td>1785</td>\n      <td>2268</td>\n      <td>1974</td>\n      <td>특</td>\n    </tr>\n    <tr>\n      <th>2</th>\n      <td>20210605</td>\n      <td>대파(일반)</td>\n      <td>1352</td>\n      <td>1369</td>\n      <td>1518</td>\n      <td>상</td>\n    </tr>\n    <tr>\n      <th>3</th>\n      <td>20210605</td>\n      <td>대파(일반)</td>\n      <td>1250</td>\n      <td>1209</td>\n      <td>1221</td>\n      <td>중</td>\n    </tr>\n    <tr>\n      <th>4</th>\n      <td>20210605</td>\n      <td>대파(일반)</td>\n      <td>944</td>\n      <td>985</td>\n      <td>974</td>\n      <td>하</td>\n    </tr>\n    <tr>\n      <th>1</th>\n      <td>20210606</td>\n      <td>대파(일반)</td>\n      <td>0</td>\n      <td>1785</td>\n      <td>1930</td>\n      <td>특</td>\n    </tr>\n    <tr>\n      <th>2</th>\n      <td>20210606</td>\n      <td>대파(일반)</td>\n      <td>0</td>\n      <td>1352</td>\n      <td>1425</td>\n      <td>상</td>\n    </tr>\n    <tr>\n      <th>3</th>\n      <td>20210606</td>\n      <td>대파(일반)</td>\n      <td>0</td>\n      <td>1250</td>\n      <td>1188</td>\n      <td>중</td>\n    </tr>\n    <tr>\n      <th>4</th>\n      <td>20210606</td>\n      <td>대파(일반)</td>\n      <td>0</td>\n      <td>944</td>\n      <td>960</td>\n      <td>하</td>\n    </tr>\n  </tbody>\n</table>\n</div>"
     },
     "metadata": {},
     "output_type": "display_data"
    }
   ],
   "source": [
    "flag=False\n",
    "# 여기로 쿼리를 불러와서 확인하기!\n",
    "for date in pandas.date_range(start='20210526', end='20210606'):\n",
    "\n",
    "    date1 = str(date.strftime(\"%Y%m%d\"))\n",
    "    date2 = str((date-timedelta(days=1)).strftime(\"%Y%m%d\"))\n",
    "    date3 = str((date-timedelta(days=365)).strftime(\"%Y%m%d\"))\n",
    "    query1=query_sender(date1,\n",
    "                       date2,\n",
    "                       date3,\n",
    "                       '대파')\n",
    "\n",
    "    i_list1=xml_to_item_list(query1, date1)\n",
    "    check = pd.DataFrame(i_list1)\n",
    "    check=check.drop(check.index[0])\n",
    "    if not flag:\n",
    "        flag = True\n",
    "        col=['날짜', '품목명', '평균가격', '전일평균가격', '전년가격', '등급']\n",
    "        check.columns=col\n",
    "        check.to_csv('./data/check.csv',encoding='utf-8-sig')\n",
    "    else:\n",
    "        check.to_csv('./data/check.csv',encoding='utf-8-sig',mode='a', header=False)\n",
    "\n",
    "check = pd.read_csv('./data/check.csv', index_col=0)\n",
    "display(check)"
   ],
   "metadata": {
    "collapsed": false,
    "pycharm": {
     "name": "#%%\n"
    }
   }
  },
  {
   "cell_type": "code",
   "execution_count": 92,
   "outputs": [
    {
     "name": "stdout",
     "output_type": "stream",
     "text": [
      "## groupby (등급) ##\n"
     ]
    },
    {
     "name": "stderr",
     "output_type": "stream",
     "text": [
      "c:\\201814471\\setup\\envs\\py37\\lib\\site-packages\\ipykernel_launcher.py:6: SettingWithCopyWarning: \n",
      "A value is trying to be set on a copy of a slice from a DataFrame.\n",
      "Try using .loc[row_indexer,col_indexer] = value instead\n",
      "\n",
      "See the caveats in the documentation: https://pandas.pydata.org/pandas-docs/stable/user_guide/indexing.html#returning-a-view-versus-a-copy\n",
      "  \n"
     ]
    },
    {
     "data": {
      "text/plain": "         날짜     품목명  평균가격  전일평균가격  전년가격 등급           결과\n2  20210526  대파(일반)  2152    2153  1623  상  2334.112061\n2  20210527  대파(일반)  1554    2152  1639  상  2320.747314\n2  20210528  대파(일반)  1594    1554  1628  상  2370.093750\n2  20210529  대파(일반)  1649    1594  1600  상  2417.165771\n2  20210530  대파(일반)     0    1649  1600  상  2515.735107\n2  20210531  대파(일반)  1648       0     0  상  2495.287109\n2  20210601  대파(일반)  1806    1648  1469  상  2343.215576\n2  20210602  대파(일반)  1728    1806  1530  상  2058.421387\n2  20210603  대파(일반)  1613    1728  1482  상  1758.656982\n2  20210604  대파(일반)  1369    1613  1476  상  1682.792725\n2  20210605  대파(일반)  1352    1369  1518  상  1445.756592\n2  20210606  대파(일반)     0    1352  1425  상  1255.379639",
      "text/html": "<div>\n<style scoped>\n    .dataframe tbody tr th:only-of-type {\n        vertical-align: middle;\n    }\n\n    .dataframe tbody tr th {\n        vertical-align: top;\n    }\n\n    .dataframe thead th {\n        text-align: right;\n    }\n</style>\n<table border=\"1\" class=\"dataframe\">\n  <thead>\n    <tr style=\"text-align: right;\">\n      <th></th>\n      <th>날짜</th>\n      <th>품목명</th>\n      <th>평균가격</th>\n      <th>전일평균가격</th>\n      <th>전년가격</th>\n      <th>등급</th>\n      <th>결과</th>\n    </tr>\n  </thead>\n  <tbody>\n    <tr>\n      <th>2</th>\n      <td>20210526</td>\n      <td>대파(일반)</td>\n      <td>2152</td>\n      <td>2153</td>\n      <td>1623</td>\n      <td>상</td>\n      <td>2334.112061</td>\n    </tr>\n    <tr>\n      <th>2</th>\n      <td>20210527</td>\n      <td>대파(일반)</td>\n      <td>1554</td>\n      <td>2152</td>\n      <td>1639</td>\n      <td>상</td>\n      <td>2320.747314</td>\n    </tr>\n    <tr>\n      <th>2</th>\n      <td>20210528</td>\n      <td>대파(일반)</td>\n      <td>1594</td>\n      <td>1554</td>\n      <td>1628</td>\n      <td>상</td>\n      <td>2370.093750</td>\n    </tr>\n    <tr>\n      <th>2</th>\n      <td>20210529</td>\n      <td>대파(일반)</td>\n      <td>1649</td>\n      <td>1594</td>\n      <td>1600</td>\n      <td>상</td>\n      <td>2417.165771</td>\n    </tr>\n    <tr>\n      <th>2</th>\n      <td>20210530</td>\n      <td>대파(일반)</td>\n      <td>0</td>\n      <td>1649</td>\n      <td>1600</td>\n      <td>상</td>\n      <td>2515.735107</td>\n    </tr>\n    <tr>\n      <th>2</th>\n      <td>20210531</td>\n      <td>대파(일반)</td>\n      <td>1648</td>\n      <td>0</td>\n      <td>0</td>\n      <td>상</td>\n      <td>2495.287109</td>\n    </tr>\n    <tr>\n      <th>2</th>\n      <td>20210601</td>\n      <td>대파(일반)</td>\n      <td>1806</td>\n      <td>1648</td>\n      <td>1469</td>\n      <td>상</td>\n      <td>2343.215576</td>\n    </tr>\n    <tr>\n      <th>2</th>\n      <td>20210602</td>\n      <td>대파(일반)</td>\n      <td>1728</td>\n      <td>1806</td>\n      <td>1530</td>\n      <td>상</td>\n      <td>2058.421387</td>\n    </tr>\n    <tr>\n      <th>2</th>\n      <td>20210603</td>\n      <td>대파(일반)</td>\n      <td>1613</td>\n      <td>1728</td>\n      <td>1482</td>\n      <td>상</td>\n      <td>1758.656982</td>\n    </tr>\n    <tr>\n      <th>2</th>\n      <td>20210604</td>\n      <td>대파(일반)</td>\n      <td>1369</td>\n      <td>1613</td>\n      <td>1476</td>\n      <td>상</td>\n      <td>1682.792725</td>\n    </tr>\n    <tr>\n      <th>2</th>\n      <td>20210605</td>\n      <td>대파(일반)</td>\n      <td>1352</td>\n      <td>1369</td>\n      <td>1518</td>\n      <td>상</td>\n      <td>1445.756592</td>\n    </tr>\n    <tr>\n      <th>2</th>\n      <td>20210606</td>\n      <td>대파(일반)</td>\n      <td>0</td>\n      <td>1352</td>\n      <td>1425</td>\n      <td>상</td>\n      <td>1255.379639</td>\n    </tr>\n  </tbody>\n</table>\n</div>"
     },
     "metadata": {},
     "output_type": "display_data"
    }
   ],
   "source": [
    "print('## groupby (등급) ##')\n",
    "cgrouped = check.groupby('등급')\n",
    "\n",
    "#그룹 확인\n",
    "result_g = cgrouped.get_group(name='상')\n",
    "result_g['결과'] = result\n",
    "display(result_g)\n"
   ],
   "metadata": {
    "collapsed": false,
    "pycharm": {
     "name": "#%%\n"
    }
   }
  },
  {
   "cell_type": "code",
   "execution_count": 91,
   "outputs": [],
   "source": [],
   "metadata": {
    "collapsed": false,
    "pycharm": {
     "name": "#%%\n"
    }
   }
  },
  {
   "cell_type": "code",
   "execution_count": 91,
   "outputs": [],
   "source": [],
   "metadata": {
    "collapsed": false,
    "pycharm": {
     "name": "#%%\n"
    }
   }
  }
 ],
 "metadata": {
  "kernelspec": {
   "display_name": "Python 3",
   "language": "python",
   "name": "python3"
  },
  "language_info": {
   "codemirror_mode": {
    "name": "ipython",
    "version": 3
   },
   "file_extension": ".py",
   "mimetype": "text/x-python",
   "name": "python",
   "nbconvert_exporter": "python",
   "pygments_lexer": "ipython3",
   "version": "3.7.10"
  }
 },
 "nbformat": 4,
 "nbformat_minor": 1
}