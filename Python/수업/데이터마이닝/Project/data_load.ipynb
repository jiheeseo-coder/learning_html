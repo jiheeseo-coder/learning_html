{
 "cells": [
  {
   "cell_type": "code",
   "execution_count": 33,
   "metadata": {
    "collapsed": true,
    "pycharm": {
     "name": "#%%\n"
    }
   },
   "outputs": [],
   "source": [
    "import urllib.request\n",
    "\n",
    "\n"
   ]
  },
  {
   "cell_type": "code",
   "execution_count": 34,
   "outputs": [],
   "source": [
    "# url='http://www.garak.co.kr/publicdata/dataOpen.do?id=2956&passwd=qwert1324!&' \\\n",
    "#     'dataid=data4&pagesize=10&pageidx=1&portal.templet=false&' \\\n",
    "#     'p_ymd=20210430&p_jymd=20210429&d_cd=2&p_jjymd=20200527' \\\n",
    "#     '&p_pos_gubun=1&pum_nm='\n",
    "#\n",
    "# pum_nm=urllib.parse.quote(\"사과\")\n",
    "#\n",
    "#\n",
    "# request = urllib.request.Request(url+pum_nm)\n",
    "# request.get_method = lambda :'GET'\n",
    "# response_body = urllib.request.urlopen(request).read()\n",
    "# u=str(response_body, \"utf-8\")\n",
    "# print(u)"
   ],
   "metadata": {
    "collapsed": false,
    "pycharm": {
     "name": "#%%\n"
    }
   }
  },
  {
   "cell_type": "code",
   "execution_count": 35,
   "outputs": [],
   "source": [
    "import pandas\n",
    "\n",
    "\n",
    "def query_sender(date, date_1, last_year, kinds):\n",
    "    url='http://www.garak.co.kr/publicdata/dataOpen.do?id=2956&passwd=qwert1324!&' \\\n",
    "    'dataid=data4&pagesize=1000&pageidx=1&portal.templet=false&'\n",
    "\n",
    "    kinds = urllib.parse.quote(kinds)\n",
    "    code_info='p_ymd=' + date+'&p_jymd='+date_1+'&d_cd=2&p_jjymd='+last_year\n",
    "    code_info_2='&p_pos_gubun=9&pum_nm='+kinds\n",
    "\n",
    "    request = urllib.request.Request(url+code_info+code_info_2)\n",
    "    request.get_method=lambda :'GET'\n",
    "    response_body=urllib.request.urlopen(request).read()\n",
    "    u=str(response_body,'utf-8')\n",
    "    return u"
   ],
   "metadata": {
    "collapsed": false,
    "pycharm": {
     "name": "#%%\n"
    }
   }
  },
  {
   "cell_type": "code",
   "execution_count": 36,
   "outputs": [
    {
     "name": "stdout",
     "output_type": "stream",
     "text": [
      "\r\n",
      "\r\n",
      "\r\n",
      "\r\n",
      "\r\n",
      "\r\n",
      "\r\n",
      "\r\n",
      "\r\n",
      "\r\n",
      "\r\n",
      "<lists>\n",
      "<list_total_count>4</list_total_count>\n",
      "<list>\n",
      "<PUM_NM_A><![CDATA[대파(일반)]]></PUM_NM_A>\n",
      "<PUM_CD><![CDATA[24501]]></PUM_CD>\n",
      "<G_NAME_A><![CDATA[특]]></G_NAME_A>\n",
      "<UNIT_QTY><![CDATA[   1]]></UNIT_QTY>\n",
      "<U_NAME><![CDATA[   1키로단]]></U_NAME>\n",
      "<AV_P_A><![CDATA[3662]]></AV_P_A>\n",
      "<PAV_P_A><![CDATA[3047]]></PAV_P_A>\n",
      "<PAV_PY_A><![CDATA[1900]]></PAV_PY_A>\n",
      "<A_B><![CDATA[120.183787331801772234985231375123071874]]></A_B>\n",
      "<A_C><![CDATA[192.736842105263157894736842105263157895]]></A_C>\n",
      "<E_NAME><![CDATA[특]]></E_NAME>\n",
      "<F_NAME><![CDATA[키로단]]></F_NAME>\n",
      "<GRADE_CD><![CDATA[0]]></GRADE_CD>\n",
      "<UNIT_CD><![CDATA[29]]></UNIT_CD>\n",
      "</list>\n",
      "<list>\n",
      "<PUM_NM_A><![CDATA[대파(일반)]]></PUM_NM_A>\n",
      "<PUM_CD><![CDATA[24501]]></PUM_CD>\n",
      "<G_NAME_A><![CDATA[상]]></G_NAME_A>\n",
      "<UNIT_QTY><![CDATA[   1]]></UNIT_QTY>\n",
      "<U_NAME><![CDATA[   1키로단]]></U_NAME>\n",
      "<AV_P_A><![CDATA[2153]]></AV_P_A>\n",
      "<PAV_P_A><![CDATA[1804]]></PAV_P_A>\n",
      "<PAV_PY_A><![CDATA[1614]]></PAV_PY_A>\n",
      "<A_B><![CDATA[119.345898004434589800443458980044345898]]></A_B>\n",
      "<A_C><![CDATA[133.395291201982651796778190830235439901]]></A_C>\n",
      "<E_NAME><![CDATA[상]]></E_NAME>\n",
      "<F_NAME><![CDATA[키로단]]></F_NAME>\n",
      "<GRADE_CD><![CDATA[1]]></GRADE_CD>\n",
      "<UNIT_CD><![CDATA[29]]></UNIT_CD>\n",
      "</list>\n",
      "<list>\n",
      "<PUM_NM_A><![CDATA[대파(일반)]]></PUM_NM_A>\n",
      "<PUM_CD><![CDATA[24501]]></PUM_CD>\n",
      "<G_NAME_A><![CDATA[중]]></G_NAME_A>\n",
      "<UNIT_QTY><![CDATA[   1]]></UNIT_QTY>\n",
      "<U_NAME><![CDATA[   1키로단]]></U_NAME>\n",
      "<AV_P_A><![CDATA[1676]]></AV_P_A>\n",
      "<PAV_P_A><![CDATA[1540]]></PAV_P_A>\n",
      "<PAV_PY_A><![CDATA[1420]]></PAV_PY_A>\n",
      "<A_B><![CDATA[108.831168831168831168831168831168831169]]></A_B>\n",
      "<A_C><![CDATA[118.02816901408450704225352112676056338]]></A_C>\n",
      "<E_NAME><![CDATA[중]]></E_NAME>\n",
      "<F_NAME><![CDATA[키로단]]></F_NAME>\n",
      "<GRADE_CD><![CDATA[2]]></GRADE_CD>\n",
      "<UNIT_CD><![CDATA[29]]></UNIT_CD>\n",
      "</list>\n",
      "<list>\n",
      "<PUM_NM_A><![CDATA[대파(일반)]]></PUM_NM_A>\n",
      "<PUM_CD><![CDATA[24501]]></PUM_CD>\n",
      "<G_NAME_A><![CDATA[하]]></G_NAME_A>\n",
      "<UNIT_QTY><![CDATA[   1]]></UNIT_QTY>\n",
      "<U_NAME><![CDATA[   1키로단]]></U_NAME>\n",
      "<AV_P_A><![CDATA[1392]]></AV_P_A>\n",
      "<PAV_P_A><![CDATA[1451]]></PAV_P_A>\n",
      "<PAV_PY_A><![CDATA[1089]]></PAV_PY_A>\n",
      "<A_B><![CDATA[95.9338387319090282563749138525155065472]]></A_B>\n",
      "<A_C><![CDATA[127.82369146005509641873278236914600551]]></A_C>\n",
      "<E_NAME><![CDATA[하]]></E_NAME>\n",
      "<F_NAME><![CDATA[키로단]]></F_NAME>\n",
      "<GRADE_CD><![CDATA[3]]></GRADE_CD>\n",
      "<UNIT_CD><![CDATA[29]]></UNIT_CD>\n",
      "</list>\n",
      "</lists>\n",
      "\r\n",
      "\r\n",
      "\n"
     ]
    }
   ],
   "source": [
    "# 우왕 그럼 여기에 for문 넣어서 날짜별로 싹 가져올 수 있겠다 5년치면 꽤 큰데???\n",
    "# 그렇게 가져와서 csv에 저장하기, 아님 굳이 저장하지 않고 바로 학습에 써먹을 수도 있겠죠?\n",
    "# 하지만 EDA 뭐시기도 해야 하니 그냥 CSV에 저장하도록 하자\n",
    "s=query_sender('20210525', '20210524', '20200525', '대파')\n",
    "print(s)"
   ],
   "metadata": {
    "collapsed": false,
    "pycharm": {
     "name": "#%%\n"
    }
   }
  },
  {
   "cell_type": "code",
   "execution_count": 37,
   "outputs": [
    {
     "name": "stdout",
     "output_type": "stream",
     "text": [
      "\r\n",
      "\r\n",
      "\r\n",
      "\r\n",
      "\r\n",
      "\r\n",
      "\r\n",
      "\r\n",
      "\r\n",
      "\r\n",
      "\r\n",
      "<lists>\n",
      "<list_total_count>4</list_total_count>\n",
      "<list>\n",
      "<PUM_NM_A><![CDATA[대파(일반)]]></PUM_NM_A>\n",
      "<PUM_CD><![CDATA[24501]]></PUM_CD>\n",
      "<G_NAME_A><![CDATA[특]]></G_NAME_A>\n",
      "<UNIT_QTY><![CDATA[   1]]></UNIT_QTY>\n",
      "<U_NAME><![CDATA[   1키로단]]></U_NAME>\n",
      "<AV_P_A><![CDATA[0]]></AV_P_A>\n",
      "<PAV_P_A><![CDATA[2833]]></PAV_P_A>\n",
      "<PAV_PY_A><![CDATA[0]]></PAV_PY_A>\n",
      "<A_B><![CDATA[0]]></A_B>\n",
      "<A_C><![CDATA[0]]></A_C>\n",
      "<E_NAME><![CDATA[특]]></E_NAME>\n",
      "<F_NAME><![CDATA[키로단]]></F_NAME>\n",
      "<GRADE_CD><![CDATA[0]]></GRADE_CD>\n",
      "<UNIT_CD><![CDATA[29]]></UNIT_CD>\n",
      "</list>\n",
      "<list>\n",
      "<PUM_NM_A><![CDATA[대파(일반)]]></PUM_NM_A>\n",
      "<PUM_CD><![CDATA[24501]]></PUM_CD>\n",
      "<G_NAME_A><![CDATA[상]]></G_NAME_A>\n",
      "<UNIT_QTY><![CDATA[   1]]></UNIT_QTY>\n",
      "<U_NAME><![CDATA[   1키로단]]></U_NAME>\n",
      "<AV_P_A><![CDATA[0]]></AV_P_A>\n",
      "<PAV_P_A><![CDATA[2164]]></PAV_P_A>\n",
      "<PAV_PY_A><![CDATA[0]]></PAV_PY_A>\n",
      "<A_B><![CDATA[0]]></A_B>\n",
      "<A_C><![CDATA[0]]></A_C>\n",
      "<E_NAME><![CDATA[상]]></E_NAME>\n",
      "<F_NAME><![CDATA[키로단]]></F_NAME>\n",
      "<GRADE_CD><![CDATA[1]]></GRADE_CD>\n",
      "<UNIT_CD><![CDATA[29]]></UNIT_CD>\n",
      "</list>\n",
      "<list>\n",
      "<PUM_NM_A><![CDATA[대파(일반)]]></PUM_NM_A>\n",
      "<PUM_CD><![CDATA[24501]]></PUM_CD>\n",
      "<G_NAME_A><![CDATA[중]]></G_NAME_A>\n",
      "<UNIT_QTY><![CDATA[   1]]></UNIT_QTY>\n",
      "<U_NAME><![CDATA[   1키로단]]></U_NAME>\n",
      "<AV_P_A><![CDATA[0]]></AV_P_A>\n",
      "<PAV_P_A><![CDATA[1747]]></PAV_P_A>\n",
      "<PAV_PY_A><![CDATA[0]]></PAV_PY_A>\n",
      "<A_B><![CDATA[0]]></A_B>\n",
      "<A_C><![CDATA[0]]></A_C>\n",
      "<E_NAME><![CDATA[중]]></E_NAME>\n",
      "<F_NAME><![CDATA[키로단]]></F_NAME>\n",
      "<GRADE_CD><![CDATA[2]]></GRADE_CD>\n",
      "<UNIT_CD><![CDATA[29]]></UNIT_CD>\n",
      "</list>\n",
      "<list>\n",
      "<PUM_NM_A><![CDATA[대파(일반)]]></PUM_NM_A>\n",
      "<PUM_CD><![CDATA[24501]]></PUM_CD>\n",
      "<G_NAME_A><![CDATA[하]]></G_NAME_A>\n",
      "<UNIT_QTY><![CDATA[   1]]></UNIT_QTY>\n",
      "<U_NAME><![CDATA[   1키로단]]></U_NAME>\n",
      "<AV_P_A><![CDATA[0]]></AV_P_A>\n",
      "<PAV_P_A><![CDATA[1214]]></PAV_P_A>\n",
      "<PAV_PY_A><![CDATA[0]]></PAV_PY_A>\n",
      "<A_B><![CDATA[0]]></A_B>\n",
      "<A_C><![CDATA[0]]></A_C>\n",
      "<E_NAME><![CDATA[하]]></E_NAME>\n",
      "<F_NAME><![CDATA[키로단]]></F_NAME>\n",
      "<GRADE_CD><![CDATA[3]]></GRADE_CD>\n",
      "<UNIT_CD><![CDATA[29]]></UNIT_CD>\n",
      "</list>\n",
      "</lists>\n",
      "\r\n",
      "\r\n",
      "\n"
     ]
    }
   ],
   "source": [
    "test1=query_sender('20170101', '20161231', '20160101', '대파')\n",
    "print(test1)"
   ],
   "metadata": {
    "collapsed": false,
    "pycharm": {
     "name": "#%%\n"
    }
   }
  },
  {
   "cell_type": "code",
   "execution_count": 38,
   "outputs": [],
   "source": [
    "import xml.etree.ElementTree as ET\n",
    "from IPython.display import display\n",
    "from xml.etree.ElementTree import parse, Element"
   ],
   "metadata": {
    "collapsed": false,
    "pycharm": {
     "name": "#%%\n"
    }
   }
  },
  {
   "cell_type": "code",
   "execution_count": 39,
   "outputs": [],
   "source": [
    "# def xml_to_item_list(xml_string, local_name, timecode):\n",
    "#     result = []\n",
    "#     root=ET.fromstring(xml_string)\n",
    "#     elements=root.findall('body/items/item')\n",
    "#     for item in elements:\n",
    "#         try:\n",
    "#             item_list=[]\n",
    "#             item_list.append(timecode)\n",
    "#             item_list.append((item.find('')))"
   ],
   "metadata": {
    "collapsed": false,
    "pycharm": {
     "name": "#%%\n"
    }
   }
  },
  {
   "cell_type": "code",
   "execution_count": 40,
   "outputs": [
    {
     "name": "stdout",
     "output_type": "stream",
     "text": [
      "[]\n"
     ]
    }
   ],
   "source": [
    "result=[]\n",
    "root=ET.fromstring(test1)\n",
    "elements=root.findall('lists/list')\n",
    "for item in elements:\n",
    "    try:\n",
    "        item_list=[]\n",
    "        item_list.append('20210527')\n",
    "        item_list.append(item.find('PUM_NM_A').text)\n",
    "        item_list.append(item.find('AV_P_A').text)\n",
    "        item_list.append(item.find('PAV_P_A').text)\n",
    "        item_list.append(item.find('PAV_PY_A').text)\n",
    "        item_list.append(item.find('F_NAME').text)\n",
    "        item_list.append(item.find('UNIT_CD').text)\n",
    "        result.append(item_list)\n",
    "    except Exception as e:\n",
    "        print(\"This row will be ignored\", item_list)\n",
    "\n",
    "print(result)"
   ],
   "metadata": {
    "collapsed": false,
    "pycharm": {
     "name": "#%%\n"
    }
   }
  },
  {
   "cell_type": "code",
   "execution_count": 41,
   "outputs": [
    {
     "name": "stdout",
     "output_type": "stream",
     "text": [
      "lists\n",
      "{}\n"
     ]
    }
   ],
   "source": [
    "print(root.tag)\n",
    "print(root.attrib)"
   ],
   "metadata": {
    "collapsed": false,
    "pycharm": {
     "name": "#%%\n"
    }
   }
  },
  {
   "cell_type": "code",
   "execution_count": 42,
   "outputs": [
    {
     "name": "stdout",
     "output_type": "stream",
     "text": [
      "list_total_count {}\n",
      "list {}\n",
      "\t 1 :  PUM_NM_A {} 대파(일반)\n",
      "\t 2 :  PUM_CD {} 24501\n",
      "\t 3 :  G_NAME_A {} 특\n",
      "\t 4 :  UNIT_QTY {}    1\n",
      "\t 5 :  U_NAME {}    1키로단\n",
      "\t 6 :  AV_P_A {} 0\n",
      "\t 7 :  PAV_P_A {} 2833\n",
      "\t 8 :  PAV_PY_A {} 0\n",
      "\t 9 :  A_B {} 0\n",
      "\t 10 :  A_C {} 0\n",
      "\t 11 :  E_NAME {} 특\n",
      "\t 12 :  F_NAME {} 키로단\n",
      "\t 13 :  GRADE_CD {} 0\n",
      "\t 14 :  UNIT_CD {} 29\n",
      "list {}\n",
      "\t 1 :  PUM_NM_A {} 대파(일반)\n",
      "\t 2 :  PUM_CD {} 24501\n",
      "\t 3 :  G_NAME_A {} 상\n",
      "\t 4 :  UNIT_QTY {}    1\n",
      "\t 5 :  U_NAME {}    1키로단\n",
      "\t 6 :  AV_P_A {} 0\n",
      "\t 7 :  PAV_P_A {} 2164\n",
      "\t 8 :  PAV_PY_A {} 0\n",
      "\t 9 :  A_B {} 0\n",
      "\t 10 :  A_C {} 0\n",
      "\t 11 :  E_NAME {} 상\n",
      "\t 12 :  F_NAME {} 키로단\n",
      "\t 13 :  GRADE_CD {} 1\n",
      "\t 14 :  UNIT_CD {} 29\n",
      "list {}\n",
      "\t 1 :  PUM_NM_A {} 대파(일반)\n",
      "\t 2 :  PUM_CD {} 24501\n",
      "\t 3 :  G_NAME_A {} 중\n",
      "\t 4 :  UNIT_QTY {}    1\n",
      "\t 5 :  U_NAME {}    1키로단\n",
      "\t 6 :  AV_P_A {} 0\n",
      "\t 7 :  PAV_P_A {} 1747\n",
      "\t 8 :  PAV_PY_A {} 0\n",
      "\t 9 :  A_B {} 0\n",
      "\t 10 :  A_C {} 0\n",
      "\t 11 :  E_NAME {} 중\n",
      "\t 12 :  F_NAME {} 키로단\n",
      "\t 13 :  GRADE_CD {} 2\n",
      "\t 14 :  UNIT_CD {} 29\n",
      "list {}\n",
      "\t 1 :  PUM_NM_A {} 대파(일반)\n",
      "\t 2 :  PUM_CD {} 24501\n",
      "\t 3 :  G_NAME_A {} 하\n",
      "\t 4 :  UNIT_QTY {}    1\n",
      "\t 5 :  U_NAME {}    1키로단\n",
      "\t 6 :  AV_P_A {} 0\n",
      "\t 7 :  PAV_P_A {} 1214\n",
      "\t 8 :  PAV_PY_A {} 0\n",
      "\t 9 :  A_B {} 0\n",
      "\t 10 :  A_C {} 0\n",
      "\t 11 :  E_NAME {} 하\n",
      "\t 12 :  F_NAME {} 키로단\n",
      "\t 13 :  GRADE_CD {} 3\n",
      "\t 14 :  UNIT_CD {} 29\n"
     ]
    }
   ],
   "source": [
    "for child in root:\n",
    "    count = 0\n",
    "    print(child.tag, child.attrib)\n",
    "    list=[]\n",
    "    for list in child:\n",
    "        count += 1\n",
    "        print(\"\\t\",count,\": \",list.tag, list.attrib, list.text)"
   ],
   "metadata": {
    "collapsed": false,
    "pycharm": {
     "name": "#%%\n"
    }
   }
  },
  {
   "cell_type": "code",
   "execution_count": 43,
   "outputs": [
    {
     "name": "stdout",
     "output_type": "stream",
     "text": [
      "대파(일반)\n"
     ]
    }
   ],
   "source": [
    "print(root[1][0].text)"
   ],
   "metadata": {
    "collapsed": false,
    "pycharm": {
     "name": "#%%\n"
    }
   }
  },
  {
   "cell_type": "code",
   "execution_count": 44,
   "outputs": [
    {
     "ename": "AttributeError",
     "evalue": "'list' object has no attribute 'text'",
     "output_type": "error",
     "traceback": [
      "\u001B[1;31m---------------------------------------------------------------------------\u001B[0m",
      "\u001B[1;31mAttributeError\u001B[0m                            Traceback (most recent call last)",
      "\u001B[1;32m<ipython-input-44-616858373595>\u001B[0m in \u001B[0;36m<module>\u001B[1;34m\u001B[0m\n\u001B[0;32m      1\u001B[0m \u001B[0mtest\u001B[0m\u001B[1;33m=\u001B[0m\u001B[0mroot\u001B[0m\u001B[1;33m.\u001B[0m\u001B[0mfindall\u001B[0m\u001B[1;33m(\u001B[0m\u001B[1;34m'./list//'\u001B[0m\u001B[1;33m)\u001B[0m\u001B[1;33m\u001B[0m\u001B[1;33m\u001B[0m\u001B[0m\n\u001B[1;32m----> 2\u001B[1;33m \u001B[0mprint\u001B[0m\u001B[1;33m(\u001B[0m\u001B[0mtest\u001B[0m\u001B[1;33m.\u001B[0m\u001B[0mtext\u001B[0m\u001B[1;33m)\u001B[0m\u001B[1;33m\u001B[0m\u001B[1;33m\u001B[0m\u001B[0m\n\u001B[0m\u001B[0;32m      3\u001B[0m \u001B[1;33m\u001B[0m\u001B[0m\n",
      "\u001B[1;31mAttributeError\u001B[0m: 'list' object has no attribute 'text'"
     ]
    }
   ],
   "source": [
    "test=root.findall('./list//')\n",
    "print(test.text)"
   ],
   "metadata": {
    "collapsed": false,
    "pycharm": {
     "name": "#%%\n"
    }
   }
  },
  {
   "cell_type": "code",
   "execution_count": 45,
   "outputs": [],
   "source": [
    "def xml_to_item_list(xml_string, date):\n",
    "    result=[]\n",
    "    root = ET.fromstring(xml_string)\n",
    "    for child in root:\n",
    "        item_list=[]\n",
    "        item_list.append(date)\n",
    "        for list in child:\n",
    "            if list.tag in ['PUM_NM_A', 'AV_P_A', 'PAV_P_A', 'PAV_PY_A', 'F_NAME', 'UNIT_CD']:\n",
    "                item_list.append(list.text)\n",
    "                #print(list.text)\n",
    "        result.append(item_list)\n",
    "\n",
    "    return result\n",
    "\n",
    "#하나인 행은 삭제하지 뭐"
   ],
   "metadata": {
    "collapsed": false,
    "pycharm": {
     "name": "#%%\n"
    }
   }
  },
  {
   "cell_type": "code",
   "execution_count": 46,
   "outputs": [
    {
     "data": {
      "text/plain": "[['20210525'],\n ['20210525', '대파(일반)', '3662', '3047', '1900', '키로단', '29'],\n ['20210525', '대파(일반)', '2153', '1804', '1614', '키로단', '29'],\n ['20210525', '대파(일반)', '1676', '1540', '1420', '키로단', '29'],\n ['20210525', '대파(일반)', '1392', '1451', '1089', '키로단', '29']]"
     },
     "metadata": {},
     "output_type": "display_data"
    }
   ],
   "source": [
    "item=xml_to_item_list(s, '20210525')\n",
    "display(item)"
   ],
   "metadata": {
    "collapsed": false,
    "pycharm": {
     "name": "#%%\n"
    }
   }
  },
  {
   "cell_type": "code",
   "execution_count": 47,
   "outputs": [],
   "source": [
    "import pandas as pd\n"
   ],
   "metadata": {
    "collapsed": false,
    "pycharm": {
     "name": "#%%\n"
    }
   }
  },
  {
   "cell_type": "code",
   "execution_count": 48,
   "outputs": [
    {
     "data": {
      "text/plain": "         날짜     품목명  평균가격  전일평균가격  전년가격 거래단위  중량단위\n1  20210525  대파(일반)  3662    3047  1900  키로단    29\n2  20210525  대파(일반)  2153    1804  1614  키로단    29\n3  20210525  대파(일반)  1676    1540  1420  키로단    29\n4  20210525  대파(일반)  1392    1451  1089  키로단    29",
      "text/html": "<div>\n<style scoped>\n    .dataframe tbody tr th:only-of-type {\n        vertical-align: middle;\n    }\n\n    .dataframe tbody tr th {\n        vertical-align: top;\n    }\n\n    .dataframe thead th {\n        text-align: right;\n    }\n</style>\n<table border=\"1\" class=\"dataframe\">\n  <thead>\n    <tr style=\"text-align: right;\">\n      <th></th>\n      <th>날짜</th>\n      <th>품목명</th>\n      <th>평균가격</th>\n      <th>전일평균가격</th>\n      <th>전년가격</th>\n      <th>거래단위</th>\n      <th>중량단위</th>\n    </tr>\n  </thead>\n  <tbody>\n    <tr>\n      <th>1</th>\n      <td>20210525</td>\n      <td>대파(일반)</td>\n      <td>3662</td>\n      <td>3047</td>\n      <td>1900</td>\n      <td>키로단</td>\n      <td>29</td>\n    </tr>\n    <tr>\n      <th>2</th>\n      <td>20210525</td>\n      <td>대파(일반)</td>\n      <td>2153</td>\n      <td>1804</td>\n      <td>1614</td>\n      <td>키로단</td>\n      <td>29</td>\n    </tr>\n    <tr>\n      <th>3</th>\n      <td>20210525</td>\n      <td>대파(일반)</td>\n      <td>1676</td>\n      <td>1540</td>\n      <td>1420</td>\n      <td>키로단</td>\n      <td>29</td>\n    </tr>\n    <tr>\n      <th>4</th>\n      <td>20210525</td>\n      <td>대파(일반)</td>\n      <td>1392</td>\n      <td>1451</td>\n      <td>1089</td>\n      <td>키로단</td>\n      <td>29</td>\n    </tr>\n  </tbody>\n</table>\n</div>"
     },
     "metadata": {},
     "output_type": "display_data"
    }
   ],
   "source": [
    "col=['날짜', '품목명', '평균가격', '전일평균가격', '전년가격', '거래단위', '중량단위']\n",
    "df = pd.DataFrame(item)\n",
    "\n",
    "#del df['Unnamed: 0']\n",
    "df.columns=col\n",
    "\n",
    "df.to_csv('./data/test.csv',encoding='utf-8-sig')\n",
    "df2 = pd.read_csv('./data/test.csv', index_col=0)\n",
    "display(df2)"
   ],
   "metadata": {
    "collapsed": false,
    "pycharm": {
     "name": "#%%\n"
    }
   }
  },
  {
   "cell_type": "code",
   "execution_count": 52,
   "outputs": [
    {
     "data": {
      "text/plain": "[[Timestamp('2019-04-16 00:00:00', freq='D')],\n [Timestamp('2019-04-16 00:00:00', freq='D'),\n  '대파(일반)',\n  '1300',\n  '1300',\n  '1427',\n  '키로단',\n  '29'],\n [Timestamp('2019-04-16 00:00:00', freq='D'),\n  '대파(일반)',\n  '1137',\n  '1208',\n  '1088',\n  '키로단',\n  '29'],\n [Timestamp('2019-04-16 00:00:00', freq='D'),\n  '대파(일반)',\n  '826',\n  '785',\n  '708',\n  '키로단',\n  '29'],\n [Timestamp('2019-04-16 00:00:00', freq='D'),\n  '대파(일반)',\n  '707',\n  '700',\n  '543',\n  '키로단',\n  '29']]"
     },
     "metadata": {},
     "output_type": "display_data"
    },
    {
     "data": {
      "text/plain": "[[Timestamp('2019-04-17 00:00:00', freq='D')],\n [Timestamp('2019-04-17 00:00:00', freq='D'),\n  '대파(일반)',\n  '1300',\n  '1300',\n  '1351',\n  '키로단',\n  '29'],\n [Timestamp('2019-04-17 00:00:00', freq='D'),\n  '대파(일반)',\n  '1066',\n  '1137',\n  '1181',\n  '키로단',\n  '29'],\n [Timestamp('2019-04-17 00:00:00', freq='D'),\n  '대파(일반)',\n  '798',\n  '826',\n  '780',\n  '키로단',\n  '29'],\n [Timestamp('2019-04-17 00:00:00', freq='D'),\n  '대파(일반)',\n  '724',\n  '707',\n  '568',\n  '키로단',\n  '29']]"
     },
     "metadata": {},
     "output_type": "display_data"
    },
    {
     "data": {
      "text/plain": "[[Timestamp('2019-04-18 00:00:00', freq='D')],\n [Timestamp('2019-04-18 00:00:00', freq='D'),\n  '대파(일반)',\n  '1286',\n  '1300',\n  '1369',\n  '키로단',\n  '29'],\n [Timestamp('2019-04-18 00:00:00', freq='D'),\n  '대파(일반)',\n  '921',\n  '1066',\n  '1179',\n  '키로단',\n  '29'],\n [Timestamp('2019-04-18 00:00:00', freq='D'),\n  '대파(일반)',\n  '773',\n  '798',\n  '773',\n  '키로단',\n  '29'],\n [Timestamp('2019-04-18 00:00:00', freq='D'),\n  '대파(일반)',\n  '623',\n  '724',\n  '548',\n  '키로단',\n  '29']]"
     },
     "metadata": {},
     "output_type": "display_data"
    },
    {
     "data": {
      "text/plain": "[[Timestamp('2019-04-19 00:00:00', freq='D')],\n [Timestamp('2019-04-19 00:00:00', freq='D'),\n  '대파(일반)',\n  '1288',\n  '1286',\n  '1500',\n  '키로단',\n  '29'],\n [Timestamp('2019-04-19 00:00:00', freq='D'),\n  '대파(일반)',\n  '913',\n  '921',\n  '1121',\n  '키로단',\n  '29'],\n [Timestamp('2019-04-19 00:00:00', freq='D'),\n  '대파(일반)',\n  '771',\n  '773',\n  '708',\n  '키로단',\n  '29'],\n [Timestamp('2019-04-19 00:00:00', freq='D'),\n  '대파(일반)',\n  '598',\n  '623',\n  '535',\n  '키로단',\n  '29']]"
     },
     "metadata": {},
     "output_type": "display_data"
    },
    {
     "data": {
      "text/plain": "[[Timestamp('2019-04-20 00:00:00', freq='D')],\n [Timestamp('2019-04-20 00:00:00', freq='D'),\n  '대파(일반)',\n  '1288',\n  '1288',\n  '1500',\n  '키로단',\n  '29'],\n [Timestamp('2019-04-20 00:00:00', freq='D'),\n  '대파(일반)',\n  '913',\n  '913',\n  '1268',\n  '키로단',\n  '29'],\n [Timestamp('2019-04-20 00:00:00', freq='D'),\n  '대파(일반)',\n  '771',\n  '771',\n  '784',\n  '키로단',\n  '29'],\n [Timestamp('2019-04-20 00:00:00', freq='D'),\n  '대파(일반)',\n  '598',\n  '598',\n  '595',\n  '키로단',\n  '29']]"
     },
     "metadata": {},
     "output_type": "display_data"
    },
    {
     "data": {
      "text/plain": "[[Timestamp('2019-04-21 00:00:00', freq='D')],\n [Timestamp('2019-04-21 00:00:00', freq='D'),\n  '대파(일반)',\n  '0',\n  '1288',\n  '1500',\n  '키로단',\n  '29'],\n [Timestamp('2019-04-21 00:00:00', freq='D'),\n  '대파(일반)',\n  '0',\n  '913',\n  '1212',\n  '키로단',\n  '29'],\n [Timestamp('2019-04-21 00:00:00', freq='D'),\n  '대파(일반)',\n  '0',\n  '771',\n  '741',\n  '키로단',\n  '29'],\n [Timestamp('2019-04-21 00:00:00', freq='D'),\n  '대파(일반)',\n  '0',\n  '598',\n  '641',\n  '키로단',\n  '29']]"
     },
     "metadata": {},
     "output_type": "display_data"
    },
    {
     "data": {
      "text/plain": "[[Timestamp('2019-04-22 00:00:00', freq='D')],\n [Timestamp('2019-04-22 00:00:00', freq='D'),\n  '대파(일반)',\n  '1302',\n  '0',\n  '1300',\n  '키로단',\n  '29'],\n [Timestamp('2019-04-22 00:00:00', freq='D'),\n  '대파(일반)',\n  '1077',\n  '0',\n  '1150',\n  '키로단',\n  '29'],\n [Timestamp('2019-04-22 00:00:00', freq='D'),\n  '대파(일반)',\n  '809',\n  '0',\n  '771',\n  '키로단',\n  '29'],\n [Timestamp('2019-04-22 00:00:00', freq='D'),\n  '대파(일반)',\n  '639',\n  '0',\n  '600',\n  '키로단',\n  '29']]"
     },
     "metadata": {},
     "output_type": "display_data"
    },
    {
     "data": {
      "text/plain": "[[Timestamp('2019-04-23 00:00:00', freq='D')],\n [Timestamp('2019-04-23 00:00:00', freq='D'),\n  '대파(일반)',\n  '1419',\n  '1302',\n  '1200',\n  '키로단',\n  '29'],\n [Timestamp('2019-04-23 00:00:00', freq='D'),\n  '대파(일반)',\n  '1155',\n  '1077',\n  '1038',\n  '키로단',\n  '29'],\n [Timestamp('2019-04-23 00:00:00', freq='D'),\n  '대파(일반)',\n  '863',\n  '809',\n  '757',\n  '키로단',\n  '29'],\n [Timestamp('2019-04-23 00:00:00', freq='D'),\n  '대파(일반)',\n  '663',\n  '639',\n  '590',\n  '키로단',\n  '29']]"
     },
     "metadata": {},
     "output_type": "display_data"
    },
    {
     "data": {
      "text/plain": "[[Timestamp('2019-04-24 00:00:00', freq='D')],\n [Timestamp('2019-04-24 00:00:00', freq='D'),\n  '대파(일반)',\n  '1472',\n  '1419',\n  '1428',\n  '키로단',\n  '29'],\n [Timestamp('2019-04-24 00:00:00', freq='D'),\n  '대파(일반)',\n  '1193',\n  '1155',\n  '1190',\n  '키로단',\n  '29'],\n [Timestamp('2019-04-24 00:00:00', freq='D'),\n  '대파(일반)',\n  '894',\n  '863',\n  '831',\n  '키로단',\n  '29'],\n [Timestamp('2019-04-24 00:00:00', freq='D'),\n  '대파(일반)',\n  '651',\n  '663',\n  '594',\n  '키로단',\n  '29']]"
     },
     "metadata": {},
     "output_type": "display_data"
    },
    {
     "data": {
      "text/plain": "[[Timestamp('2019-04-25 00:00:00', freq='D')],\n [Timestamp('2019-04-25 00:00:00', freq='D'),\n  '대파(일반)',\n  '1353',\n  '1472',\n  '1421',\n  '키로단',\n  '29'],\n [Timestamp('2019-04-25 00:00:00', freq='D'),\n  '대파(일반)',\n  '1095',\n  '1193',\n  '1400',\n  '키로단',\n  '29'],\n [Timestamp('2019-04-25 00:00:00', freq='D'),\n  '대파(일반)',\n  '768',\n  '894',\n  '1054',\n  '키로단',\n  '29'],\n [Timestamp('2019-04-25 00:00:00', freq='D'),\n  '대파(일반)',\n  '562',\n  '651',\n  '598',\n  '키로단',\n  '29']]"
     },
     "metadata": {},
     "output_type": "display_data"
    },
    {
     "data": {
      "text/plain": "[[Timestamp('2019-04-26 00:00:00', freq='D')],\n [Timestamp('2019-04-26 00:00:00', freq='D'),\n  '대파(일반)',\n  '1307',\n  '1353',\n  '1544',\n  '키로단',\n  '29'],\n [Timestamp('2019-04-26 00:00:00', freq='D'),\n  '대파(일반)',\n  '982',\n  '1095',\n  '1487',\n  '키로단',\n  '29'],\n [Timestamp('2019-04-26 00:00:00', freq='D'),\n  '대파(일반)',\n  '798',\n  '768',\n  '1246',\n  '키로단',\n  '29'],\n [Timestamp('2019-04-26 00:00:00', freq='D'),\n  '대파(일반)',\n  '549',\n  '562',\n  '582',\n  '키로단',\n  '29']]"
     },
     "metadata": {},
     "output_type": "display_data"
    },
    {
     "data": {
      "text/plain": "[[Timestamp('2019-04-27 00:00:00', freq='D')],\n [Timestamp('2019-04-27 00:00:00', freq='D'),\n  '대파(일반)',\n  '1303',\n  '1307',\n  '1548',\n  '키로단',\n  '29'],\n [Timestamp('2019-04-27 00:00:00', freq='D'),\n  '대파(일반)',\n  '1012',\n  '982',\n  '1500',\n  '키로단',\n  '29'],\n [Timestamp('2019-04-27 00:00:00', freq='D'),\n  '대파(일반)',\n  '822',\n  '798',\n  '1318',\n  '키로단',\n  '29'],\n [Timestamp('2019-04-27 00:00:00', freq='D'),\n  '대파(일반)',\n  '528',\n  '549',\n  '624',\n  '키로단',\n  '29']]"
     },
     "metadata": {},
     "output_type": "display_data"
    },
    {
     "data": {
      "text/plain": "[[Timestamp('2019-04-28 00:00:00', freq='D')],\n [Timestamp('2019-04-28 00:00:00', freq='D'),\n  '대파(일반)',\n  '0',\n  '1303',\n  '1502',\n  '키로단',\n  '29'],\n [Timestamp('2019-04-28 00:00:00', freq='D'),\n  '대파(일반)',\n  '0',\n  '1012',\n  '1434',\n  '키로단',\n  '29'],\n [Timestamp('2019-04-28 00:00:00', freq='D'),\n  '대파(일반)',\n  '0',\n  '822',\n  '1243',\n  '키로단',\n  '29'],\n [Timestamp('2019-04-28 00:00:00', freq='D'),\n  '대파(일반)',\n  '0',\n  '528',\n  '715',\n  '키로단',\n  '29']]"
     },
     "metadata": {},
     "output_type": "display_data"
    },
    {
     "data": {
      "text/plain": "[[Timestamp('2019-04-29 00:00:00', freq='D')],\n [Timestamp('2019-04-29 00:00:00', freq='D'),\n  '대파(일반)',\n  '1300',\n  '0',\n  '0',\n  '키로단',\n  '29'],\n [Timestamp('2019-04-29 00:00:00', freq='D'),\n  '대파(일반)',\n  '1232',\n  '0',\n  '0',\n  '키로단',\n  '29'],\n [Timestamp('2019-04-29 00:00:00', freq='D'),\n  '대파(일반)',\n  '962',\n  '0',\n  '0',\n  '키로단',\n  '29'],\n [Timestamp('2019-04-29 00:00:00', freq='D'),\n  '대파(일반)',\n  '680',\n  '0',\n  '0',\n  '키로단',\n  '29']]"
     },
     "metadata": {},
     "output_type": "display_data"
    },
    {
     "data": {
      "text/plain": "[[Timestamp('2019-04-30 00:00:00', freq='D')],\n [Timestamp('2019-04-30 00:00:00', freq='D'),\n  '대파(일반)',\n  '1777',\n  '1300',\n  '1928',\n  '키로단',\n  '29'],\n [Timestamp('2019-04-30 00:00:00', freq='D'),\n  '대파(일반)',\n  '1228',\n  '1232',\n  '1458',\n  '키로단',\n  '29'],\n [Timestamp('2019-04-30 00:00:00', freq='D'),\n  '대파(일반)',\n  '829',\n  '962',\n  '1065',\n  '키로단',\n  '29'],\n [Timestamp('2019-04-30 00:00:00', freq='D'),\n  '대파(일반)',\n  '592',\n  '680',\n  '863',\n  '키로단',\n  '29']]"
     },
     "metadata": {},
     "output_type": "display_data"
    },
    {
     "data": {
      "text/plain": "[[Timestamp('2019-05-01 00:00:00', freq='D')],\n [Timestamp('2019-05-01 00:00:00', freq='D'),\n  '대파(일반)',\n  '1806',\n  '1777',\n  '1865',\n  '키로단',\n  '29'],\n [Timestamp('2019-05-01 00:00:00', freq='D'),\n  '대파(일반)',\n  '1184',\n  '1228',\n  '1442',\n  '키로단',\n  '29'],\n [Timestamp('2019-05-01 00:00:00', freq='D'),\n  '대파(일반)',\n  '783',\n  '829',\n  '1065',\n  '키로단',\n  '29'],\n [Timestamp('2019-05-01 00:00:00', freq='D'),\n  '대파(일반)',\n  '597',\n  '592',\n  '802',\n  '키로단',\n  '29']]"
     },
     "metadata": {},
     "output_type": "display_data"
    },
    {
     "data": {
      "text/plain": "[[Timestamp('2019-05-02 00:00:00', freq='D')],\n [Timestamp('2019-05-02 00:00:00', freq='D'),\n  '대파(일반)',\n  '1700',\n  '1806',\n  '1576',\n  '키로단',\n  '29'],\n [Timestamp('2019-05-02 00:00:00', freq='D'),\n  '대파(일반)',\n  '1254',\n  '1184',\n  '1387',\n  '키로단',\n  '29'],\n [Timestamp('2019-05-02 00:00:00', freq='D'),\n  '대파(일반)',\n  '958',\n  '783',\n  '926',\n  '키로단',\n  '29'],\n [Timestamp('2019-05-02 00:00:00', freq='D'),\n  '대파(일반)',\n  '769',\n  '597',\n  '635',\n  '키로단',\n  '29']]"
     },
     "metadata": {},
     "output_type": "display_data"
    },
    {
     "data": {
      "text/plain": "[[Timestamp('2019-05-03 00:00:00', freq='D')],\n [Timestamp('2019-05-03 00:00:00', freq='D'),\n  '대파(일반)',\n  '1667',\n  '1700',\n  '1671',\n  '키로단',\n  '29'],\n [Timestamp('2019-05-03 00:00:00', freq='D'),\n  '대파(일반)',\n  '1247',\n  '1254',\n  '956',\n  '키로단',\n  '29'],\n [Timestamp('2019-05-03 00:00:00', freq='D'),\n  '대파(일반)',\n  '1005',\n  '958',\n  '655',\n  '키로단',\n  '29'],\n [Timestamp('2019-05-03 00:00:00', freq='D'),\n  '대파(일반)',\n  '844',\n  '769',\n  '551',\n  '키로단',\n  '29']]"
     },
     "metadata": {},
     "output_type": "display_data"
    },
    {
     "data": {
      "text/plain": "[[Timestamp('2019-05-04 00:00:00', freq='D')],\n [Timestamp('2019-05-04 00:00:00', freq='D'),\n  '대파(일반)',\n  '1682',\n  '1667',\n  '1748',\n  '키로단',\n  '29'],\n [Timestamp('2019-05-04 00:00:00', freq='D'),\n  '대파(일반)',\n  '1225',\n  '1247',\n  '1505',\n  '키로단',\n  '29'],\n [Timestamp('2019-05-04 00:00:00', freq='D'),\n  '대파(일반)',\n  '977',\n  '1005',\n  '781',\n  '키로단',\n  '29'],\n [Timestamp('2019-05-04 00:00:00', freq='D'),\n  '대파(일반)',\n  '867',\n  '844',\n  '542',\n  '키로단',\n  '29']]"
     },
     "metadata": {},
     "output_type": "display_data"
    },
    {
     "data": {
      "text/plain": "[[Timestamp('2019-05-05 00:00:00', freq='D')],\n [Timestamp('2019-05-05 00:00:00', freq='D'),\n  '대파(일반)',\n  '0',\n  '1682',\n  '1761',\n  '키로단',\n  '29'],\n [Timestamp('2019-05-05 00:00:00', freq='D'),\n  '대파(일반)',\n  '0',\n  '1225',\n  '1513',\n  '키로단',\n  '29'],\n [Timestamp('2019-05-05 00:00:00', freq='D'),\n  '대파(일반)',\n  '0',\n  '977',\n  '990',\n  '키로단',\n  '29'],\n [Timestamp('2019-05-05 00:00:00', freq='D'),\n  '대파(일반)',\n  '0',\n  '867',\n  '548',\n  '키로단',\n  '29']]"
     },
     "metadata": {},
     "output_type": "display_data"
    },
    {
     "data": {
      "text/plain": "[[Timestamp('2019-05-06 00:00:00', freq='D')],\n [Timestamp('2019-05-06 00:00:00', freq='D'),\n  '대파(일반)',\n  '1631',\n  '0',\n  '1703',\n  '키로단',\n  '29'],\n [Timestamp('2019-05-06 00:00:00', freq='D'),\n  '대파(일반)',\n  '1379',\n  '0',\n  '1299',\n  '키로단',\n  '29'],\n [Timestamp('2019-05-06 00:00:00', freq='D'),\n  '대파(일반)',\n  '1082',\n  '0',\n  '682',\n  '키로단',\n  '29'],\n [Timestamp('2019-05-06 00:00:00', freq='D'),\n  '대파(일반)',\n  '884',\n  '0',\n  '523',\n  '키로단',\n  '29']]"
     },
     "metadata": {},
     "output_type": "display_data"
    },
    {
     "data": {
      "text/plain": "[[Timestamp('2019-05-07 00:00:00', freq='D')],\n [Timestamp('2019-05-07 00:00:00', freq='D'),\n  '대파(일반)',\n  '1604',\n  '1631',\n  '1800',\n  '키로단',\n  '29'],\n [Timestamp('2019-05-07 00:00:00', freq='D'),\n  '대파(일반)',\n  '1276',\n  '1379',\n  '1309',\n  '키로단',\n  '29'],\n [Timestamp('2019-05-07 00:00:00', freq='D'),\n  '대파(일반)',\n  '938',\n  '1082',\n  '714',\n  '키로단',\n  '29'],\n [Timestamp('2019-05-07 00:00:00', freq='D'),\n  '대파(일반)',\n  '757',\n  '884',\n  '647',\n  '키로단',\n  '29']]"
     },
     "metadata": {},
     "output_type": "display_data"
    },
    {
     "data": {
      "text/plain": "[[Timestamp('2019-05-08 00:00:00', freq='D')],\n [Timestamp('2019-05-08 00:00:00', freq='D'),\n  '대파(일반)',\n  '1500',\n  '1604',\n  '2300',\n  '키로단',\n  '29'],\n [Timestamp('2019-05-08 00:00:00', freq='D'),\n  '대파(일반)',\n  '1142',\n  '1276',\n  '1302',\n  '키로단',\n  '29'],\n [Timestamp('2019-05-08 00:00:00', freq='D'),\n  '대파(일반)',\n  '913',\n  '938',\n  '776',\n  '키로단',\n  '29'],\n [Timestamp('2019-05-08 00:00:00', freq='D'),\n  '대파(일반)',\n  '718',\n  '757',\n  '660',\n  '키로단',\n  '29']]"
     },
     "metadata": {},
     "output_type": "display_data"
    },
    {
     "data": {
      "text/plain": "[[Timestamp('2019-05-09 00:00:00', freq='D')],\n [Timestamp('2019-05-09 00:00:00', freq='D'),\n  '대파(일반)',\n  '1437',\n  '1500',\n  '3955',\n  '키로단',\n  '29'],\n [Timestamp('2019-05-09 00:00:00', freq='D'),\n  '대파(일반)',\n  '1130',\n  '1142',\n  '1501',\n  '키로단',\n  '29'],\n [Timestamp('2019-05-09 00:00:00', freq='D'),\n  '대파(일반)',\n  '874',\n  '913',\n  '1075',\n  '키로단',\n  '29'],\n [Timestamp('2019-05-09 00:00:00', freq='D'),\n  '대파(일반)',\n  '639',\n  '718',\n  '706',\n  '키로단',\n  '29']]"
     },
     "metadata": {},
     "output_type": "display_data"
    },
    {
     "data": {
      "text/plain": "[[Timestamp('2019-05-10 00:00:00', freq='D')],\n [Timestamp('2019-05-10 00:00:00', freq='D'),\n  '대파(일반)',\n  '1503',\n  '1437',\n  '3504',\n  '키로단',\n  '29'],\n [Timestamp('2019-05-10 00:00:00', freq='D'),\n  '대파(일반)',\n  '1014',\n  '1130',\n  '1480',\n  '키로단',\n  '29'],\n [Timestamp('2019-05-10 00:00:00', freq='D'),\n  '대파(일반)',\n  '774',\n  '874',\n  '1157',\n  '키로단',\n  '29'],\n [Timestamp('2019-05-10 00:00:00', freq='D'),\n  '대파(일반)',\n  '668',\n  '639',\n  '755',\n  '키로단',\n  '29']]"
     },
     "metadata": {},
     "output_type": "display_data"
    },
    {
     "data": {
      "text/plain": "[[Timestamp('2019-05-11 00:00:00', freq='D')],\n [Timestamp('2019-05-11 00:00:00', freq='D'),\n  '대파(일반)',\n  '1592',\n  '1503',\n  '1897',\n  '키로단',\n  '29'],\n [Timestamp('2019-05-11 00:00:00', freq='D'),\n  '대파(일반)',\n  '990',\n  '1014',\n  '1418',\n  '키로단',\n  '29'],\n [Timestamp('2019-05-11 00:00:00', freq='D'),\n  '대파(일반)',\n  '804',\n  '774',\n  '955',\n  '키로단',\n  '29'],\n [Timestamp('2019-05-11 00:00:00', freq='D'),\n  '대파(일반)',\n  '701',\n  '668',\n  '694',\n  '키로단',\n  '29']]"
     },
     "metadata": {},
     "output_type": "display_data"
    },
    {
     "data": {
      "text/plain": "[[Timestamp('2019-05-12 00:00:00', freq='D')],\n [Timestamp('2019-05-12 00:00:00', freq='D'),\n  '대파(일반)',\n  '0',\n  '1592',\n  '1579',\n  '키로단',\n  '29'],\n [Timestamp('2019-05-12 00:00:00', freq='D'),\n  '대파(일반)',\n  '0',\n  '990',\n  '1413',\n  '키로단',\n  '29'],\n [Timestamp('2019-05-12 00:00:00', freq='D'),\n  '대파(일반)',\n  '0',\n  '804',\n  '890',\n  '키로단',\n  '29'],\n [Timestamp('2019-05-12 00:00:00', freq='D'),\n  '대파(일반)',\n  '0',\n  '701',\n  '685',\n  '키로단',\n  '29']]"
     },
     "metadata": {},
     "output_type": "display_data"
    },
    {
     "data": {
      "text/plain": "[[Timestamp('2019-05-13 00:00:00', freq='D')],\n [Timestamp('2019-05-13 00:00:00', freq='D'),\n  '대파(일반)',\n  '1557',\n  '0',\n  '1500',\n  '키로단',\n  '29'],\n [Timestamp('2019-05-13 00:00:00', freq='D'),\n  '대파(일반)',\n  '1238',\n  '0',\n  '1450',\n  '키로단',\n  '29'],\n [Timestamp('2019-05-13 00:00:00', freq='D'),\n  '대파(일반)',\n  '830',\n  '0',\n  '1091',\n  '키로단',\n  '29'],\n [Timestamp('2019-05-13 00:00:00', freq='D'),\n  '대파(일반)',\n  '700',\n  '0',\n  '691',\n  '키로단',\n  '29']]"
     },
     "metadata": {},
     "output_type": "display_data"
    },
    {
     "data": {
      "text/plain": "[[Timestamp('2019-05-14 00:00:00', freq='D')],\n [Timestamp('2019-05-14 00:00:00', freq='D'),\n  '대파(일반)',\n  '1695',\n  '1557',\n  '1600',\n  '키로단',\n  '29'],\n [Timestamp('2019-05-14 00:00:00', freq='D'),\n  '대파(일반)',\n  '1133',\n  '1238',\n  '1283',\n  '키로단',\n  '29'],\n [Timestamp('2019-05-14 00:00:00', freq='D'),\n  '대파(일반)',\n  '820',\n  '830',\n  '834',\n  '키로단',\n  '29'],\n [Timestamp('2019-05-14 00:00:00', freq='D'),\n  '대파(일반)',\n  '690',\n  '700',\n  '700',\n  '키로단',\n  '29']]"
     },
     "metadata": {},
     "output_type": "display_data"
    },
    {
     "data": {
      "text/plain": "[[Timestamp('2019-05-15 00:00:00', freq='D')],\n [Timestamp('2019-05-15 00:00:00', freq='D'),\n  '대파(일반)',\n  '1751',\n  '1695',\n  '1603',\n  '키로단',\n  '29'],\n [Timestamp('2019-05-15 00:00:00', freq='D'),\n  '대파(일반)',\n  '1340',\n  '1133',\n  '1401',\n  '키로단',\n  '29'],\n [Timestamp('2019-05-15 00:00:00', freq='D'),\n  '대파(일반)',\n  '991',\n  '820',\n  '991',\n  '키로단',\n  '29'],\n [Timestamp('2019-05-15 00:00:00', freq='D'),\n  '대파(일반)',\n  '717',\n  '690',\n  '712',\n  '키로단',\n  '29']]"
     },
     "metadata": {},
     "output_type": "display_data"
    },
    {
     "data": {
      "text/plain": "[[Timestamp('2019-05-16 00:00:00', freq='D')],\n [Timestamp('2019-05-16 00:00:00', freq='D'),\n  '대파(일반)',\n  '1785',\n  '1751',\n  '1695',\n  '키로단',\n  '29'],\n [Timestamp('2019-05-16 00:00:00', freq='D'),\n  '대파(일반)',\n  '1341',\n  '1340',\n  '1418',\n  '키로단',\n  '29'],\n [Timestamp('2019-05-16 00:00:00', freq='D'),\n  '대파(일반)',\n  '1002',\n  '991',\n  '964',\n  '키로단',\n  '29'],\n [Timestamp('2019-05-16 00:00:00', freq='D'),\n  '대파(일반)',\n  '750',\n  '717',\n  '704',\n  '키로단',\n  '29']]"
     },
     "metadata": {},
     "output_type": "display_data"
    },
    {
     "data": {
      "text/plain": "[[Timestamp('2019-05-17 00:00:00', freq='D')],\n [Timestamp('2019-05-17 00:00:00', freq='D'),\n  '대파(일반)',\n  '1800',\n  '1785',\n  '1700',\n  '키로단',\n  '29'],\n [Timestamp('2019-05-17 00:00:00', freq='D'),\n  '대파(일반)',\n  '1208',\n  '1341',\n  '1322',\n  '키로단',\n  '29'],\n [Timestamp('2019-05-17 00:00:00', freq='D'),\n  '대파(일반)',\n  '855',\n  '1002',\n  '923',\n  '키로단',\n  '29'],\n [Timestamp('2019-05-17 00:00:00', freq='D'),\n  '대파(일반)',\n  '713',\n  '750',\n  '688',\n  '키로단',\n  '29']]"
     },
     "metadata": {},
     "output_type": "display_data"
    },
    {
     "data": {
      "text/plain": "[[Timestamp('2019-05-18 00:00:00', freq='D')],\n [Timestamp('2019-05-18 00:00:00', freq='D'),\n  '대파(일반)',\n  '2005',\n  '1800',\n  '1447',\n  '키로단',\n  '29'],\n [Timestamp('2019-05-18 00:00:00', freq='D'),\n  '대파(일반)',\n  '1527',\n  '1208',\n  '1389',\n  '키로단',\n  '29'],\n [Timestamp('2019-05-18 00:00:00', freq='D'),\n  '대파(일반)',\n  '993',\n  '855',\n  '1076',\n  '키로단',\n  '29'],\n [Timestamp('2019-05-18 00:00:00', freq='D'),\n  '대파(일반)',\n  '760',\n  '713',\n  '659',\n  '키로단',\n  '29']]"
     },
     "metadata": {},
     "output_type": "display_data"
    },
    {
     "data": {
      "text/plain": "[[Timestamp('2019-05-19 00:00:00', freq='D')],\n [Timestamp('2019-05-19 00:00:00', freq='D'),\n  '대파(일반)',\n  '0',\n  '2005',\n  '1500',\n  '키로단',\n  '29'],\n [Timestamp('2019-05-19 00:00:00', freq='D'),\n  '대파(일반)',\n  '0',\n  '1527',\n  '1450',\n  '키로단',\n  '29'],\n [Timestamp('2019-05-19 00:00:00', freq='D'),\n  '대파(일반)',\n  '0',\n  '993',\n  '931',\n  '키로단',\n  '29'],\n [Timestamp('2019-05-19 00:00:00', freq='D'),\n  '대파(일반)',\n  '0',\n  '760',\n  '630',\n  '키로단',\n  '29']]"
     },
     "metadata": {},
     "output_type": "display_data"
    },
    {
     "data": {
      "text/plain": "[[Timestamp('2019-05-20 00:00:00', freq='D')],\n [Timestamp('2019-05-20 00:00:00', freq='D'),\n  '대파(일반)',\n  '2500',\n  '0',\n  '1500',\n  '키로단',\n  '29'],\n [Timestamp('2019-05-20 00:00:00', freq='D'),\n  '대파(일반)',\n  '2155',\n  '0',\n  '941',\n  '키로단',\n  '29'],\n [Timestamp('2019-05-20 00:00:00', freq='D'),\n  '대파(일반)',\n  '1297',\n  '0',\n  '700',\n  '키로단',\n  '29'],\n [Timestamp('2019-05-20 00:00:00', freq='D'),\n  '대파(일반)',\n  '781',\n  '0',\n  '589',\n  '키로단',\n  '29']]"
     },
     "metadata": {},
     "output_type": "display_data"
    },
    {
     "data": {
      "text/plain": "[[Timestamp('2019-05-21 00:00:00', freq='D')],\n [Timestamp('2019-05-21 00:00:00', freq='D'),\n  '대파(일반)',\n  '2500',\n  '2500',\n  '1908',\n  '키로단',\n  '29'],\n [Timestamp('2019-05-21 00:00:00', freq='D'),\n  '대파(일반)',\n  '1883',\n  '2155',\n  '1290',\n  '키로단',\n  '29'],\n [Timestamp('2019-05-21 00:00:00', freq='D'),\n  '대파(일반)',\n  '1397',\n  '1297',\n  '776',\n  '키로단',\n  '29'],\n [Timestamp('2019-05-21 00:00:00', freq='D'),\n  '대파(일반)',\n  '919',\n  '781',\n  '700',\n  '키로단',\n  '29']]"
     },
     "metadata": {},
     "output_type": "display_data"
    },
    {
     "data": {
      "text/plain": "[[Timestamp('2019-05-22 00:00:00', freq='D')],\n [Timestamp('2019-05-22 00:00:00', freq='D'),\n  '대파(일반)',\n  '2400',\n  '2500',\n  '2052',\n  '키로단',\n  '29'],\n [Timestamp('2019-05-22 00:00:00', freq='D'),\n  '대파(일반)',\n  '1613',\n  '1883',\n  '1333',\n  '키로단',\n  '29'],\n [Timestamp('2019-05-22 00:00:00', freq='D'),\n  '대파(일반)',\n  '1184',\n  '1397',\n  '979',\n  '키로단',\n  '29'],\n [Timestamp('2019-05-22 00:00:00', freq='D'),\n  '대파(일반)',\n  '971',\n  '919',\n  '696',\n  '키로단',\n  '29']]"
     },
     "metadata": {},
     "output_type": "display_data"
    },
    {
     "data": {
      "text/plain": "[[Timestamp('2019-05-23 00:00:00', freq='D')],\n [Timestamp('2019-05-23 00:00:00', freq='D'),\n  '대파(일반)',\n  '2416',\n  '2400',\n  '2173',\n  '키로단',\n  '29'],\n [Timestamp('2019-05-23 00:00:00', freq='D'),\n  '대파(일반)',\n  '1504',\n  '1613',\n  '1370',\n  '키로단',\n  '29'],\n [Timestamp('2019-05-23 00:00:00', freq='D'),\n  '대파(일반)',\n  '1089',\n  '1184',\n  '1072',\n  '키로단',\n  '29'],\n [Timestamp('2019-05-23 00:00:00', freq='D'),\n  '대파(일반)',\n  '972',\n  '971',\n  '787',\n  '키로단',\n  '29']]"
     },
     "metadata": {},
     "output_type": "display_data"
    },
    {
     "data": {
      "text/plain": "[[Timestamp('2019-05-24 00:00:00', freq='D')],\n [Timestamp('2019-05-24 00:00:00', freq='D'),\n  '대파(일반)',\n  '2426',\n  '2416',\n  '2167',\n  '키로단',\n  '29'],\n [Timestamp('2019-05-24 00:00:00', freq='D'),\n  '대파(일반)',\n  '1679',\n  '1504',\n  '1535',\n  '키로단',\n  '29'],\n [Timestamp('2019-05-24 00:00:00', freq='D'),\n  '대파(일반)',\n  '1203',\n  '1089',\n  '1040',\n  '키로단',\n  '29'],\n [Timestamp('2019-05-24 00:00:00', freq='D'),\n  '대파(일반)',\n  '950',\n  '972',\n  '888',\n  '키로단',\n  '29']]"
     },
     "metadata": {},
     "output_type": "display_data"
    },
    {
     "data": {
      "text/plain": "[[Timestamp('2019-05-25 00:00:00', freq='D')],\n [Timestamp('2019-05-25 00:00:00', freq='D'),\n  '대파(일반)',\n  '2400',\n  '2426',\n  '2299',\n  '키로단',\n  '29'],\n [Timestamp('2019-05-25 00:00:00', freq='D'),\n  '대파(일반)',\n  '1802',\n  '1679',\n  '1452',\n  '키로단',\n  '29'],\n [Timestamp('2019-05-25 00:00:00', freq='D'),\n  '대파(일반)',\n  '1379',\n  '1203',\n  '1206',\n  '키로단',\n  '29'],\n [Timestamp('2019-05-25 00:00:00', freq='D'),\n  '대파(일반)',\n  '951',\n  '950',\n  '883',\n  '키로단',\n  '29']]"
     },
     "metadata": {},
     "output_type": "display_data"
    },
    {
     "data": {
      "text/plain": "[[Timestamp('2019-05-26 00:00:00', freq='D')],\n [Timestamp('2019-05-26 00:00:00', freq='D'),\n  '대파(일반)',\n  '0',\n  '2400',\n  '2303',\n  '키로단',\n  '29'],\n [Timestamp('2019-05-26 00:00:00', freq='D'),\n  '대파(일반)',\n  '0',\n  '1802',\n  '1430',\n  '키로단',\n  '29'],\n [Timestamp('2019-05-26 00:00:00', freq='D'),\n  '대파(일반)',\n  '0',\n  '1379',\n  '1197',\n  '키로단',\n  '29'],\n [Timestamp('2019-05-26 00:00:00', freq='D'),\n  '대파(일반)',\n  '0',\n  '951',\n  '905',\n  '키로단',\n  '29']]"
     },
     "metadata": {},
     "output_type": "display_data"
    },
    {
     "data": {
      "text/plain": "[[Timestamp('2019-05-27 00:00:00', freq='D')],\n [Timestamp('2019-05-27 00:00:00', freq='D'),\n  '대파(일반)',\n  '2219',\n  '0',\n  '2265',\n  '키로단',\n  '29'],\n [Timestamp('2019-05-27 00:00:00', freq='D'),\n  '대파(일반)',\n  '1684',\n  '0',\n  '1446',\n  '키로단',\n  '29'],\n [Timestamp('2019-05-27 00:00:00', freq='D'),\n  '대파(일반)',\n  '1394',\n  '0',\n  '1117',\n  '키로단',\n  '29'],\n [Timestamp('2019-05-27 00:00:00', freq='D'),\n  '대파(일반)',\n  '1037',\n  '0',\n  '887',\n  '키로단',\n  '29']]"
     },
     "metadata": {},
     "output_type": "display_data"
    },
    {
     "data": {
      "text/plain": "[[Timestamp('2019-05-28 00:00:00', freq='D')],\n [Timestamp('2019-05-28 00:00:00', freq='D'),\n  '대파(일반)',\n  '2396',\n  '2219',\n  '1800',\n  '키로단',\n  '29'],\n [Timestamp('2019-05-28 00:00:00', freq='D'),\n  '대파(일반)',\n  '1752',\n  '1684',\n  '1465',\n  '키로단',\n  '29'],\n [Timestamp('2019-05-28 00:00:00', freq='D'),\n  '대파(일반)',\n  '1380',\n  '1394',\n  '1055',\n  '키로단',\n  '29'],\n [Timestamp('2019-05-28 00:00:00', freq='D'),\n  '대파(일반)',\n  '898',\n  '1037',\n  '842',\n  '키로단',\n  '29']]"
     },
     "metadata": {},
     "output_type": "display_data"
    },
    {
     "data": {
      "text/plain": "[[Timestamp('2019-05-29 00:00:00', freq='D')],\n [Timestamp('2019-05-29 00:00:00', freq='D'),\n  '대파(일반)',\n  '2426',\n  '2396',\n  '1717',\n  '키로단',\n  '29'],\n [Timestamp('2019-05-29 00:00:00', freq='D'),\n  '대파(일반)',\n  '1845',\n  '1752',\n  '1401',\n  '키로단',\n  '29'],\n [Timestamp('2019-05-29 00:00:00', freq='D'),\n  '대파(일반)',\n  '1404',\n  '1380',\n  '1109',\n  '키로단',\n  '29'],\n [Timestamp('2019-05-29 00:00:00', freq='D'),\n  '대파(일반)',\n  '940',\n  '898',\n  '863',\n  '키로단',\n  '29']]"
     },
     "metadata": {},
     "output_type": "display_data"
    },
    {
     "data": {
      "text/plain": "[[Timestamp('2019-05-30 00:00:00', freq='D')],\n [Timestamp('2019-05-30 00:00:00', freq='D'),\n  '대파(일반)',\n  '2487',\n  '2426',\n  '1671',\n  '키로단',\n  '29'],\n [Timestamp('2019-05-30 00:00:00', freq='D'),\n  '대파(일반)',\n  '1998',\n  '1845',\n  '1429',\n  '키로단',\n  '29'],\n [Timestamp('2019-05-30 00:00:00', freq='D'),\n  '대파(일반)',\n  '1448',\n  '1404',\n  '1191',\n  '키로단',\n  '29'],\n [Timestamp('2019-05-30 00:00:00', freq='D'),\n  '대파(일반)',\n  '1110',\n  '940',\n  '912',\n  '키로단',\n  '29']]"
     },
     "metadata": {},
     "output_type": "display_data"
    },
    {
     "data": {
      "text/plain": "[[Timestamp('2019-05-31 00:00:00', freq='D')],\n [Timestamp('2019-05-31 00:00:00', freq='D'),\n  '대파(일반)',\n  '2479',\n  '2487',\n  '1764',\n  '키로단',\n  '29'],\n [Timestamp('2019-05-31 00:00:00', freq='D'),\n  '대파(일반)',\n  '1980',\n  '1998',\n  '1422',\n  '키로단',\n  '29'],\n [Timestamp('2019-05-31 00:00:00', freq='D'),\n  '대파(일반)',\n  '1434',\n  '1448',\n  '1195',\n  '키로단',\n  '29'],\n [Timestamp('2019-05-31 00:00:00', freq='D'),\n  '대파(일반)',\n  '1132',\n  '1110',\n  '749',\n  '키로단',\n  '29']]"
     },
     "metadata": {},
     "output_type": "display_data"
    },
    {
     "data": {
      "text/plain": "[[Timestamp('2019-06-01 00:00:00', freq='D')],\n [Timestamp('2019-06-01 00:00:00', freq='D'),\n  '대파(일반)',\n  '2423',\n  '2479',\n  '1989',\n  '키로단',\n  '29'],\n [Timestamp('2019-06-01 00:00:00', freq='D'),\n  '대파(일반)',\n  '1890',\n  '1980',\n  '1383',\n  '키로단',\n  '29'],\n [Timestamp('2019-06-01 00:00:00', freq='D'),\n  '대파(일반)',\n  '1433',\n  '1434',\n  '1028',\n  '키로단',\n  '29'],\n [Timestamp('2019-06-01 00:00:00', freq='D'),\n  '대파(일반)',\n  '1174',\n  '1132',\n  '661',\n  '키로단',\n  '29']]"
     },
     "metadata": {},
     "output_type": "display_data"
    },
    {
     "data": {
      "text/plain": "[[Timestamp('2019-06-02 00:00:00', freq='D')],\n [Timestamp('2019-06-02 00:00:00', freq='D'),\n  '대파(일반)',\n  '0',\n  '2423',\n  '2000',\n  '키로단',\n  '29'],\n [Timestamp('2019-06-02 00:00:00', freq='D'),\n  '대파(일반)',\n  '0',\n  '1890',\n  '1502',\n  '키로단',\n  '29'],\n [Timestamp('2019-06-02 00:00:00', freq='D'),\n  '대파(일반)',\n  '0',\n  '1433',\n  '912',\n  '키로단',\n  '29'],\n [Timestamp('2019-06-02 00:00:00', freq='D'),\n  '대파(일반)',\n  '0',\n  '1174',\n  '704',\n  '키로단',\n  '29']]"
     },
     "metadata": {},
     "output_type": "display_data"
    },
    {
     "data": {
      "text/plain": "[[Timestamp('2019-06-03 00:00:00', freq='D')],\n [Timestamp('2019-06-03 00:00:00', freq='D'),\n  '대파(일반)',\n  '2290',\n  '0',\n  '1600',\n  '키로단',\n  '29'],\n [Timestamp('2019-06-03 00:00:00', freq='D'),\n  '대파(일반)',\n  '1934',\n  '0',\n  '1447',\n  '키로단',\n  '29'],\n [Timestamp('2019-06-03 00:00:00', freq='D'),\n  '대파(일반)',\n  '1568',\n  '0',\n  '919',\n  '키로단',\n  '29'],\n [Timestamp('2019-06-03 00:00:00', freq='D'),\n  '대파(일반)',\n  '1202',\n  '0',\n  '700',\n  '키로단',\n  '29']]"
     },
     "metadata": {},
     "output_type": "display_data"
    },
    {
     "data": {
      "text/plain": "[[Timestamp('2019-06-04 00:00:00', freq='D')],\n [Timestamp('2019-06-04 00:00:00', freq='D'),\n  '대파(일반)',\n  '2265',\n  '2290',\n  '2200',\n  '키로단',\n  '29'],\n [Timestamp('2019-06-04 00:00:00', freq='D'),\n  '대파(일반)',\n  '1928',\n  '1934',\n  '1519',\n  '키로단',\n  '29'],\n [Timestamp('2019-06-04 00:00:00', freq='D'),\n  '대파(일반)',\n  '1609',\n  '1568',\n  '961',\n  '키로단',\n  '29'],\n [Timestamp('2019-06-04 00:00:00', freq='D'),\n  '대파(일반)',\n  '1273',\n  '1202',\n  '800',\n  '키로단',\n  '29']]"
     },
     "metadata": {},
     "output_type": "display_data"
    },
    {
     "data": {
      "text/plain": "[[Timestamp('2019-06-05 00:00:00', freq='D')],\n [Timestamp('2019-06-05 00:00:00', freq='D'),\n  '대파(일반)',\n  '2232',\n  '2265',\n  '1884',\n  '키로단',\n  '29'],\n [Timestamp('2019-06-05 00:00:00', freq='D'),\n  '대파(일반)',\n  '1843',\n  '1928',\n  '1407',\n  '키로단',\n  '29'],\n [Timestamp('2019-06-05 00:00:00', freq='D'),\n  '대파(일반)',\n  '1616',\n  '1609',\n  '1282',\n  '키로단',\n  '29'],\n [Timestamp('2019-06-05 00:00:00', freq='D'),\n  '대파(일반)',\n  '1439',\n  '1273',\n  '976',\n  '키로단',\n  '29']]"
     },
     "metadata": {},
     "output_type": "display_data"
    },
    {
     "data": {
      "text/plain": "[[Timestamp('2019-06-06 00:00:00', freq='D')],\n [Timestamp('2019-06-06 00:00:00', freq='D'),\n  '대파(일반)',\n  '2202',\n  '2232',\n  '1960',\n  '키로단',\n  '29'],\n [Timestamp('2019-06-06 00:00:00', freq='D'),\n  '대파(일반)',\n  '1742',\n  '1843',\n  '1417',\n  '키로단',\n  '29'],\n [Timestamp('2019-06-06 00:00:00', freq='D'),\n  '대파(일반)',\n  '1541',\n  '1616',\n  '1195',\n  '키로단',\n  '29'],\n [Timestamp('2019-06-06 00:00:00', freq='D'),\n  '대파(일반)',\n  '1284',\n  '1439',\n  '884',\n  '키로단',\n  '29']]"
     },
     "metadata": {},
     "output_type": "display_data"
    },
    {
     "data": {
      "text/plain": "[[Timestamp('2019-06-07 00:00:00', freq='D')],\n [Timestamp('2019-06-07 00:00:00', freq='D'),\n  '대파(일반)',\n  '2117',\n  '2202',\n  '2000',\n  '키로단',\n  '29'],\n [Timestamp('2019-06-07 00:00:00', freq='D'),\n  '대파(일반)',\n  '1745',\n  '1742',\n  '1354',\n  '키로단',\n  '29'],\n [Timestamp('2019-06-07 00:00:00', freq='D'),\n  '대파(일반)',\n  '1489',\n  '1541',\n  '1008',\n  '키로단',\n  '29'],\n [Timestamp('2019-06-07 00:00:00', freq='D'),\n  '대파(일반)',\n  '1215',\n  '1284',\n  '756',\n  '키로단',\n  '29']]"
     },
     "metadata": {},
     "output_type": "display_data"
    },
    {
     "data": {
      "text/plain": "[[Timestamp('2019-06-08 00:00:00', freq='D')],\n [Timestamp('2019-06-08 00:00:00', freq='D'),\n  '대파(일반)',\n  '2200',\n  '2117',\n  '1906',\n  '키로단',\n  '29'],\n [Timestamp('2019-06-08 00:00:00', freq='D'),\n  '대파(일반)',\n  '1877',\n  '1745',\n  '1405',\n  '키로단',\n  '29'],\n [Timestamp('2019-06-08 00:00:00', freq='D'),\n  '대파(일반)',\n  '1579',\n  '1489',\n  '975',\n  '키로단',\n  '29'],\n [Timestamp('2019-06-08 00:00:00', freq='D'),\n  '대파(일반)',\n  '1374',\n  '1215',\n  '786',\n  '키로단',\n  '29']]"
     },
     "metadata": {},
     "output_type": "display_data"
    },
    {
     "data": {
      "text/plain": "[[Timestamp('2019-06-09 00:00:00', freq='D')],\n [Timestamp('2019-06-09 00:00:00', freq='D'),\n  '대파(일반)',\n  '0',\n  '2200',\n  '1944',\n  '키로단',\n  '29'],\n [Timestamp('2019-06-09 00:00:00', freq='D'),\n  '대파(일반)',\n  '0',\n  '1877',\n  '1418',\n  '키로단',\n  '29'],\n [Timestamp('2019-06-09 00:00:00', freq='D'),\n  '대파(일반)',\n  '0',\n  '1579',\n  '930',\n  '키로단',\n  '29'],\n [Timestamp('2019-06-09 00:00:00', freq='D'),\n  '대파(일반)',\n  '0',\n  '1374',\n  '796',\n  '키로단',\n  '29']]"
     },
     "metadata": {},
     "output_type": "display_data"
    },
    {
     "data": {
      "text/plain": "[[Timestamp('2019-06-10 00:00:00', freq='D')],\n [Timestamp('2019-06-10 00:00:00', freq='D'),\n  '대파(일반)',\n  '2264',\n  '0',\n  '2000',\n  '키로단',\n  '29'],\n [Timestamp('2019-06-10 00:00:00', freq='D'),\n  '대파(일반)',\n  '1972',\n  '0',\n  '1209',\n  '키로단',\n  '29'],\n [Timestamp('2019-06-10 00:00:00', freq='D'),\n  '대파(일반)',\n  '1711',\n  '0',\n  '866',\n  '키로단',\n  '29'],\n [Timestamp('2019-06-10 00:00:00', freq='D'),\n  '대파(일반)',\n  '1417',\n  '0',\n  '816',\n  '키로단',\n  '29']]"
     },
     "metadata": {},
     "output_type": "display_data"
    },
    {
     "data": {
      "text/plain": "[[Timestamp('2019-06-11 00:00:00', freq='D')],\n [Timestamp('2019-06-11 00:00:00', freq='D'),\n  '대파(일반)',\n  '2350',\n  '2264',\n  '2200',\n  '키로단',\n  '29'],\n [Timestamp('2019-06-11 00:00:00', freq='D'),\n  '대파(일반)',\n  '1897',\n  '1972',\n  '1424',\n  '키로단',\n  '29'],\n [Timestamp('2019-06-11 00:00:00', freq='D'),\n  '대파(일반)',\n  '1613',\n  '1711',\n  '1127',\n  '키로단',\n  '29'],\n [Timestamp('2019-06-11 00:00:00', freq='D'),\n  '대파(일반)',\n  '1393',\n  '1417',\n  '897',\n  '키로단',\n  '29']]"
     },
     "metadata": {},
     "output_type": "display_data"
    },
    {
     "data": {
      "text/plain": "[[Timestamp('2019-06-12 00:00:00', freq='D')],\n [Timestamp('2019-06-12 00:00:00', freq='D'),\n  '대파(일반)',\n  '2335',\n  '2350',\n  '2102',\n  '키로단',\n  '29'],\n [Timestamp('2019-06-12 00:00:00', freq='D'),\n  '대파(일반)',\n  '1714',\n  '1897',\n  '1314',\n  '키로단',\n  '29'],\n [Timestamp('2019-06-12 00:00:00', freq='D'),\n  '대파(일반)',\n  '1582',\n  '1613',\n  '1002',\n  '키로단',\n  '29'],\n [Timestamp('2019-06-12 00:00:00', freq='D'),\n  '대파(일반)',\n  '1341',\n  '1393',\n  '867',\n  '키로단',\n  '29']]"
     },
     "metadata": {},
     "output_type": "display_data"
    },
    {
     "data": {
      "text/plain": "[[Timestamp('2019-06-13 00:00:00', freq='D')],\n [Timestamp('2019-06-13 00:00:00', freq='D'),\n  '대파(일반)',\n  '1854',\n  '2335',\n  '1756',\n  '키로단',\n  '29'],\n [Timestamp('2019-06-13 00:00:00', freq='D'),\n  '대파(일반)',\n  '1657',\n  '1714',\n  '1331',\n  '키로단',\n  '29'],\n [Timestamp('2019-06-13 00:00:00', freq='D'),\n  '대파(일반)',\n  '1539',\n  '1582',\n  '1076',\n  '키로단',\n  '29'],\n [Timestamp('2019-06-13 00:00:00', freq='D'),\n  '대파(일반)',\n  '1319',\n  '1341',\n  '872',\n  '키로단',\n  '29']]"
     },
     "metadata": {},
     "output_type": "display_data"
    },
    {
     "data": {
      "text/plain": "[[Timestamp('2019-06-14 00:00:00', freq='D')],\n [Timestamp('2019-06-14 00:00:00', freq='D'),\n  '대파(일반)',\n  '1764',\n  '1854',\n  '1634',\n  '키로단',\n  '29'],\n [Timestamp('2019-06-14 00:00:00', freq='D'),\n  '대파(일반)',\n  '1660',\n  '1657',\n  '1306',\n  '키로단',\n  '29'],\n [Timestamp('2019-06-14 00:00:00', freq='D'),\n  '대파(일반)',\n  '1495',\n  '1539',\n  '1092',\n  '키로단',\n  '29'],\n [Timestamp('2019-06-14 00:00:00', freq='D'),\n  '대파(일반)',\n  '1267',\n  '1319',\n  '875',\n  '키로단',\n  '29']]"
     },
     "metadata": {},
     "output_type": "display_data"
    },
    {
     "data": {
      "text/plain": "[[Timestamp('2019-06-15 00:00:00', freq='D')],\n [Timestamp('2019-06-15 00:00:00', freq='D'),\n  '대파(일반)',\n  '1782',\n  '1764',\n  '1571',\n  '키로단',\n  '29'],\n [Timestamp('2019-06-15 00:00:00', freq='D'),\n  '대파(일반)',\n  '1605',\n  '1660',\n  '1285',\n  '키로단',\n  '29'],\n [Timestamp('2019-06-15 00:00:00', freq='D'),\n  '대파(일반)',\n  '1429',\n  '1495',\n  '1067',\n  '키로단',\n  '29'],\n [Timestamp('2019-06-15 00:00:00', freq='D'),\n  '대파(일반)',\n  '1253',\n  '1267',\n  '887',\n  '키로단',\n  '29']]"
     },
     "metadata": {},
     "output_type": "display_data"
    },
    {
     "data": {
      "text/plain": "[[Timestamp('2019-06-16 00:00:00', freq='D')],\n [Timestamp('2019-06-16 00:00:00', freq='D'),\n  '대파(일반)',\n  '0',\n  '1782',\n  '1644',\n  '키로단',\n  '29'],\n [Timestamp('2019-06-16 00:00:00', freq='D'),\n  '대파(일반)',\n  '0',\n  '1605',\n  '1372',\n  '키로단',\n  '29'],\n [Timestamp('2019-06-16 00:00:00', freq='D'),\n  '대파(일반)',\n  '0',\n  '1429',\n  '1162',\n  '키로단',\n  '29'],\n [Timestamp('2019-06-16 00:00:00', freq='D'),\n  '대파(일반)',\n  '0',\n  '1253',\n  '845',\n  '키로단',\n  '29']]"
     },
     "metadata": {},
     "output_type": "display_data"
    },
    {
     "data": {
      "text/plain": "[[Timestamp('2019-06-17 00:00:00', freq='D')],\n [Timestamp('2019-06-17 00:00:00', freq='D'),\n  '대파(일반)',\n  '2098',\n  '0',\n  '1648',\n  '키로단',\n  '29'],\n [Timestamp('2019-06-17 00:00:00', freq='D'),\n  '대파(일반)',\n  '1609',\n  '0',\n  '1372',\n  '키로단',\n  '29'],\n [Timestamp('2019-06-17 00:00:00', freq='D'),\n  '대파(일반)',\n  '1308',\n  '0',\n  '1209',\n  '키로단',\n  '29'],\n [Timestamp('2019-06-17 00:00:00', freq='D'),\n  '대파(일반)',\n  '1200',\n  '0',\n  '763',\n  '키로단',\n  '29']]"
     },
     "metadata": {},
     "output_type": "display_data"
    },
    {
     "data": {
      "text/plain": "[[Timestamp('2019-06-18 00:00:00', freq='D')],\n [Timestamp('2019-06-18 00:00:00', freq='D'),\n  '대파(일반)',\n  '1983',\n  '2098',\n  '1800',\n  '키로단',\n  '29'],\n [Timestamp('2019-06-18 00:00:00', freq='D'),\n  '대파(일반)',\n  '1520',\n  '1609',\n  '1180',\n  '키로단',\n  '29'],\n [Timestamp('2019-06-18 00:00:00', freq='D'),\n  '대파(일반)',\n  '1314',\n  '1308',\n  '1023',\n  '키로단',\n  '29'],\n [Timestamp('2019-06-18 00:00:00', freq='D'),\n  '대파(일반)',\n  '1207',\n  '1200',\n  '845',\n  '키로단',\n  '29']]"
     },
     "metadata": {},
     "output_type": "display_data"
    },
    {
     "data": {
      "text/plain": "[[Timestamp('2019-06-19 00:00:00', freq='D')],\n [Timestamp('2019-06-19 00:00:00', freq='D'),\n  '대파(일반)',\n  '1983',\n  '1983',\n  '1714',\n  '키로단',\n  '29'],\n [Timestamp('2019-06-19 00:00:00', freq='D'),\n  '대파(일반)',\n  '1444',\n  '1520',\n  '1334',\n  '키로단',\n  '29'],\n [Timestamp('2019-06-19 00:00:00', freq='D'),\n  '대파(일반)',\n  '1272',\n  '1314',\n  '1061',\n  '키로단',\n  '29'],\n [Timestamp('2019-06-19 00:00:00', freq='D'),\n  '대파(일반)',\n  '1012',\n  '1207',\n  '677',\n  '키로단',\n  '29']]"
     },
     "metadata": {},
     "output_type": "display_data"
    },
    {
     "data": {
      "text/plain": "[[Timestamp('2019-06-20 00:00:00', freq='D')],\n [Timestamp('2019-06-20 00:00:00', freq='D'),\n  '대파(일반)',\n  '1937',\n  '1983',\n  '1577',\n  '키로단',\n  '29'],\n [Timestamp('2019-06-20 00:00:00', freq='D'),\n  '대파(일반)',\n  '1661',\n  '1444',\n  '1330',\n  '키로단',\n  '29'],\n [Timestamp('2019-06-20 00:00:00', freq='D'),\n  '대파(일반)',\n  '1320',\n  '1272',\n  '969',\n  '키로단',\n  '29'],\n [Timestamp('2019-06-20 00:00:00', freq='D'),\n  '대파(일반)',\n  '935',\n  '1012',\n  '675',\n  '키로단',\n  '29']]"
     },
     "metadata": {},
     "output_type": "display_data"
    },
    {
     "data": {
      "text/plain": "[[Timestamp('2019-06-21 00:00:00', freq='D')],\n [Timestamp('2019-06-21 00:00:00', freq='D'),\n  '대파(일반)',\n  '1846',\n  '1937',\n  '1582',\n  '키로단',\n  '29'],\n [Timestamp('2019-06-21 00:00:00', freq='D'),\n  '대파(일반)',\n  '1700',\n  '1661',\n  '1330',\n  '키로단',\n  '29'],\n [Timestamp('2019-06-21 00:00:00', freq='D'),\n  '대파(일반)',\n  '1427',\n  '1320',\n  '998',\n  '키로단',\n  '29'],\n [Timestamp('2019-06-21 00:00:00', freq='D'),\n  '대파(일반)',\n  '1057',\n  '935',\n  '817',\n  '키로단',\n  '29']]"
     },
     "metadata": {},
     "output_type": "display_data"
    },
    {
     "data": {
      "text/plain": "[[Timestamp('2019-06-22 00:00:00', freq='D')],\n [Timestamp('2019-06-22 00:00:00', freq='D'),\n  '대파(일반)',\n  '1803',\n  '1846',\n  '1733',\n  '키로단',\n  '29'],\n [Timestamp('2019-06-22 00:00:00', freq='D'),\n  '대파(일반)',\n  '1607',\n  '1700',\n  '1330',\n  '키로단',\n  '29'],\n [Timestamp('2019-06-22 00:00:00', freq='D'),\n  '대파(일반)',\n  '1436',\n  '1427',\n  '1067',\n  '키로단',\n  '29'],\n [Timestamp('2019-06-22 00:00:00', freq='D'),\n  '대파(일반)',\n  '1075',\n  '1057',\n  '781',\n  '키로단',\n  '29']]"
     },
     "metadata": {},
     "output_type": "display_data"
    },
    {
     "data": {
      "text/plain": "[[Timestamp('2019-06-23 00:00:00', freq='D')],\n [Timestamp('2019-06-23 00:00:00', freq='D'),\n  '대파(일반)',\n  '0',\n  '1803',\n  '1917',\n  '키로단',\n  '29'],\n [Timestamp('2019-06-23 00:00:00', freq='D'),\n  '대파(일반)',\n  '0',\n  '1607',\n  '1600',\n  '키로단',\n  '29'],\n [Timestamp('2019-06-23 00:00:00', freq='D'),\n  '대파(일반)',\n  '0',\n  '1436',\n  '1067',\n  '키로단',\n  '29'],\n [Timestamp('2019-06-23 00:00:00', freq='D'),\n  '대파(일반)',\n  '0',\n  '1075',\n  '805',\n  '키로단',\n  '29']]"
     },
     "metadata": {},
     "output_type": "display_data"
    },
    {
     "data": {
      "text/plain": "[[Timestamp('2019-06-24 00:00:00', freq='D')],\n [Timestamp('2019-06-24 00:00:00', freq='D'),\n  '대파(일반)',\n  '1973',\n  '0',\n  '1957',\n  '키로단',\n  '29'],\n [Timestamp('2019-06-24 00:00:00', freq='D'),\n  '대파(일반)',\n  '1530',\n  '0',\n  '1600',\n  '키로단',\n  '29'],\n [Timestamp('2019-06-24 00:00:00', freq='D'),\n  '대파(일반)',\n  '1222',\n  '0',\n  '1259',\n  '키로단',\n  '29'],\n [Timestamp('2019-06-24 00:00:00', freq='D'),\n  '대파(일반)',\n  '923',\n  '0',\n  '856',\n  '키로단',\n  '29']]"
     },
     "metadata": {},
     "output_type": "display_data"
    },
    {
     "data": {
      "text/plain": "[[Timestamp('2019-06-25 00:00:00', freq='D')],\n [Timestamp('2019-06-25 00:00:00', freq='D'),\n  '대파(일반)',\n  '1852',\n  '1973',\n  '1800',\n  '키로단',\n  '29'],\n [Timestamp('2019-06-25 00:00:00', freq='D'),\n  '대파(일반)',\n  '1528',\n  '1530',\n  '1445',\n  '키로단',\n  '29'],\n [Timestamp('2019-06-25 00:00:00', freq='D'),\n  '대파(일반)',\n  '1226',\n  '1222',\n  '1039',\n  '키로단',\n  '29'],\n [Timestamp('2019-06-25 00:00:00', freq='D'),\n  '대파(일반)',\n  '849',\n  '923',\n  '861',\n  '키로단',\n  '29']]"
     },
     "metadata": {},
     "output_type": "display_data"
    },
    {
     "data": {
      "text/plain": "[[Timestamp('2019-06-26 00:00:00', freq='D')],\n [Timestamp('2019-06-26 00:00:00', freq='D'),\n  '대파(일반)',\n  '1731',\n  '1852',\n  '1783',\n  '키로단',\n  '29'],\n [Timestamp('2019-06-26 00:00:00', freq='D'),\n  '대파(일반)',\n  '1524',\n  '1528',\n  '1504',\n  '키로단',\n  '29'],\n [Timestamp('2019-06-26 00:00:00', freq='D'),\n  '대파(일반)',\n  '1204',\n  '1226',\n  '1138',\n  '키로단',\n  '29'],\n [Timestamp('2019-06-26 00:00:00', freq='D'),\n  '대파(일반)',\n  '841',\n  '849',\n  '876',\n  '키로단',\n  '29']]"
     },
     "metadata": {},
     "output_type": "display_data"
    },
    {
     "data": {
      "text/plain": "[[Timestamp('2019-06-27 00:00:00', freq='D')],\n [Timestamp('2019-06-27 00:00:00', freq='D'),\n  '대파(일반)',\n  '1757',\n  '1731',\n  '1883',\n  '키로단',\n  '29'],\n [Timestamp('2019-06-27 00:00:00', freq='D'),\n  '대파(일반)',\n  '1535',\n  '1524',\n  '1520',\n  '키로단',\n  '29'],\n [Timestamp('2019-06-27 00:00:00', freq='D'),\n  '대파(일반)',\n  '1137',\n  '1204',\n  '1089',\n  '키로단',\n  '29'],\n [Timestamp('2019-06-27 00:00:00', freq='D'),\n  '대파(일반)',\n  '819',\n  '841',\n  '894',\n  '키로단',\n  '29']]"
     },
     "metadata": {},
     "output_type": "display_data"
    },
    {
     "data": {
      "text/plain": "[[Timestamp('2019-06-28 00:00:00', freq='D')],\n [Timestamp('2019-06-28 00:00:00', freq='D'),\n  '대파(일반)',\n  '1843',\n  '1757',\n  '1922',\n  '키로단',\n  '29'],\n [Timestamp('2019-06-28 00:00:00', freq='D'),\n  '대파(일반)',\n  '1623',\n  '1535',\n  '1370',\n  '키로단',\n  '29'],\n [Timestamp('2019-06-28 00:00:00', freq='D'),\n  '대파(일반)',\n  '1171',\n  '1137',\n  '1078',\n  '키로단',\n  '29'],\n [Timestamp('2019-06-28 00:00:00', freq='D'),\n  '대파(일반)',\n  '820',\n  '819',\n  '944',\n  '키로단',\n  '29']]"
     },
     "metadata": {},
     "output_type": "display_data"
    },
    {
     "data": {
      "text/plain": "[[Timestamp('2019-06-29 00:00:00', freq='D')],\n [Timestamp('2019-06-29 00:00:00', freq='D'),\n  '대파(일반)',\n  '1818',\n  '1843',\n  '1813',\n  '키로단',\n  '29'],\n [Timestamp('2019-06-29 00:00:00', freq='D'),\n  '대파(일반)',\n  '1551',\n  '1623',\n  '1500',\n  '키로단',\n  '29'],\n [Timestamp('2019-06-29 00:00:00', freq='D'),\n  '대파(일반)',\n  '1203',\n  '1171',\n  '1276',\n  '키로단',\n  '29'],\n [Timestamp('2019-06-29 00:00:00', freq='D'),\n  '대파(일반)',\n  '1115',\n  '820',\n  '969',\n  '키로단',\n  '29']]"
     },
     "metadata": {},
     "output_type": "display_data"
    },
    {
     "data": {
      "text/plain": "[[Timestamp('2019-06-30 00:00:00', freq='D')],\n [Timestamp('2019-06-30 00:00:00', freq='D'),\n  '대파(일반)',\n  '0',\n  '1818',\n  '1878',\n  '키로단',\n  '29'],\n [Timestamp('2019-06-30 00:00:00', freq='D'),\n  '대파(일반)',\n  '0',\n  '1551',\n  '1500',\n  '키로단',\n  '29'],\n [Timestamp('2019-06-30 00:00:00', freq='D'),\n  '대파(일반)',\n  '0',\n  '1203',\n  '1260',\n  '키로단',\n  '29'],\n [Timestamp('2019-06-30 00:00:00', freq='D'),\n  '대파(일반)',\n  '0',\n  '1115',\n  '941',\n  '키로단',\n  '29']]"
     },
     "metadata": {},
     "output_type": "display_data"
    },
    {
     "data": {
      "text/plain": "[[Timestamp('2019-07-01 00:00:00', freq='D')],\n [Timestamp('2019-07-01 00:00:00', freq='D'),\n  '대파(일반)',\n  '1947',\n  '0',\n  '1800',\n  '키로단',\n  '29'],\n [Timestamp('2019-07-01 00:00:00', freq='D'),\n  '대파(일반)',\n  '1591',\n  '0',\n  '1330',\n  '키로단',\n  '29'],\n [Timestamp('2019-07-01 00:00:00', freq='D'),\n  '대파(일반)',\n  '1300',\n  '0',\n  '995',\n  '키로단',\n  '29'],\n [Timestamp('2019-07-01 00:00:00', freq='D'),\n  '대파(일반)',\n  '1106',\n  '0',\n  '871',\n  '키로단',\n  '29']]"
     },
     "metadata": {},
     "output_type": "display_data"
    },
    {
     "data": {
      "text/plain": "[[Timestamp('2019-07-02 00:00:00', freq='D')],\n [Timestamp('2019-07-02 00:00:00', freq='D'),\n  '대파(일반)',\n  '2047',\n  '1947',\n  '2000',\n  '키로단',\n  '29'],\n [Timestamp('2019-07-02 00:00:00', freq='D'),\n  '대파(일반)',\n  '1467',\n  '1591',\n  '1391',\n  '키로단',\n  '29'],\n [Timestamp('2019-07-02 00:00:00', freq='D'),\n  '대파(일반)',\n  '1146',\n  '1300',\n  '1023',\n  '키로단',\n  '29'],\n [Timestamp('2019-07-02 00:00:00', freq='D'),\n  '대파(일반)',\n  '946',\n  '1106',\n  '896',\n  '키로단',\n  '29']]"
     },
     "metadata": {},
     "output_type": "display_data"
    },
    {
     "data": {
      "text/plain": "[[Timestamp('2019-07-03 00:00:00', freq='D')],\n [Timestamp('2019-07-03 00:00:00', freq='D'),\n  '대파(일반)',\n  '2223',\n  '2047',\n  '2152',\n  '키로단',\n  '29'],\n [Timestamp('2019-07-03 00:00:00', freq='D'),\n  '대파(일반)',\n  '1541',\n  '1467',\n  '1437',\n  '키로단',\n  '29'],\n [Timestamp('2019-07-03 00:00:00', freq='D'),\n  '대파(일반)',\n  '1088',\n  '1146',\n  '1053',\n  '키로단',\n  '29'],\n [Timestamp('2019-07-03 00:00:00', freq='D'),\n  '대파(일반)',\n  '921',\n  '946',\n  '814',\n  '키로단',\n  '29']]"
     },
     "metadata": {},
     "output_type": "display_data"
    },
    {
     "data": {
      "text/plain": "[[Timestamp('2019-07-04 00:00:00', freq='D')],\n [Timestamp('2019-07-04 00:00:00', freq='D'),\n  '대파(일반)',\n  '2183',\n  '2223',\n  '2140',\n  '키로단',\n  '29'],\n [Timestamp('2019-07-04 00:00:00', freq='D'),\n  '대파(일반)',\n  '1601',\n  '1541',\n  '1359',\n  '키로단',\n  '29'],\n [Timestamp('2019-07-04 00:00:00', freq='D'),\n  '대파(일반)',\n  '1213',\n  '1088',\n  '1058',\n  '키로단',\n  '29'],\n [Timestamp('2019-07-04 00:00:00', freq='D'),\n  '대파(일반)',\n  '1022',\n  '921',\n  '799',\n  '키로단',\n  '29']]"
     },
     "metadata": {},
     "output_type": "display_data"
    },
    {
     "data": {
      "text/plain": "[[Timestamp('2019-07-05 00:00:00', freq='D')],\n [Timestamp('2019-07-05 00:00:00', freq='D'),\n  '대파(일반)',\n  '2112',\n  '2183',\n  '1950',\n  '키로단',\n  '29'],\n [Timestamp('2019-07-05 00:00:00', freq='D'),\n  '대파(일반)',\n  '1553',\n  '1601',\n  '1352',\n  '키로단',\n  '29'],\n [Timestamp('2019-07-05 00:00:00', freq='D'),\n  '대파(일반)',\n  '1203',\n  '1213',\n  '1146',\n  '키로단',\n  '29'],\n [Timestamp('2019-07-05 00:00:00', freq='D'),\n  '대파(일반)',\n  '1014',\n  '1022',\n  '860',\n  '키로단',\n  '29']]"
     },
     "metadata": {},
     "output_type": "display_data"
    },
    {
     "data": {
      "text/plain": "[[Timestamp('2019-07-06 00:00:00', freq='D')],\n [Timestamp('2019-07-06 00:00:00', freq='D'),\n  '대파(일반)',\n  '2134',\n  '2112',\n  '1954',\n  '키로단',\n  '29'],\n [Timestamp('2019-07-06 00:00:00', freq='D'),\n  '대파(일반)',\n  '1637',\n  '1553',\n  '1344',\n  '키로단',\n  '29'],\n [Timestamp('2019-07-06 00:00:00', freq='D'),\n  '대파(일반)',\n  '1195',\n  '1203',\n  '1118',\n  '키로단',\n  '29'],\n [Timestamp('2019-07-06 00:00:00', freq='D'),\n  '대파(일반)',\n  '956',\n  '1014',\n  '804',\n  '키로단',\n  '29']]"
     },
     "metadata": {},
     "output_type": "display_data"
    },
    {
     "data": {
      "text/plain": "[[Timestamp('2019-07-07 00:00:00', freq='D')],\n [Timestamp('2019-07-07 00:00:00', freq='D'),\n  '대파(일반)',\n  '0',\n  '2134',\n  '2000',\n  '키로단',\n  '29'],\n [Timestamp('2019-07-07 00:00:00', freq='D'),\n  '대파(일반)',\n  '0',\n  '1637',\n  '1156',\n  '키로단',\n  '29'],\n [Timestamp('2019-07-07 00:00:00', freq='D'),\n  '대파(일반)',\n  '0',\n  '1195',\n  '1026',\n  '키로단',\n  '29'],\n [Timestamp('2019-07-07 00:00:00', freq='D'),\n  '대파(일반)',\n  '0',\n  '956',\n  '712',\n  '키로단',\n  '29']]"
     },
     "metadata": {},
     "output_type": "display_data"
    },
    {
     "data": {
      "text/plain": "[[Timestamp('2019-07-08 00:00:00', freq='D')],\n [Timestamp('2019-07-08 00:00:00', freq='D'),\n  '대파(일반)',\n  '2583',\n  '0',\n  '0',\n  '키로단',\n  '29'],\n [Timestamp('2019-07-08 00:00:00', freq='D'),\n  '대파(일반)',\n  '1686',\n  '0',\n  '0',\n  '키로단',\n  '29'],\n [Timestamp('2019-07-08 00:00:00', freq='D'),\n  '대파(일반)',\n  '1206',\n  '0',\n  '0',\n  '키로단',\n  '29'],\n [Timestamp('2019-07-08 00:00:00', freq='D'),\n  '대파(일반)',\n  '943',\n  '0',\n  '0',\n  '키로단',\n  '29']]"
     },
     "metadata": {},
     "output_type": "display_data"
    },
    {
     "data": {
      "text/plain": "[[Timestamp('2019-07-09 00:00:00', freq='D')],\n [Timestamp('2019-07-09 00:00:00', freq='D'),\n  '대파(일반)',\n  '2271',\n  '2583',\n  '1800',\n  '키로단',\n  '29'],\n [Timestamp('2019-07-09 00:00:00', freq='D'),\n  '대파(일반)',\n  '1714',\n  '1686',\n  '1350',\n  '키로단',\n  '29'],\n [Timestamp('2019-07-09 00:00:00', freq='D'),\n  '대파(일반)',\n  '1214',\n  '1206',\n  '952',\n  '키로단',\n  '29'],\n [Timestamp('2019-07-09 00:00:00', freq='D'),\n  '대파(일반)',\n  '968',\n  '943',\n  '691',\n  '키로단',\n  '29']]"
     },
     "metadata": {},
     "output_type": "display_data"
    },
    {
     "data": {
      "text/plain": "[[Timestamp('2019-07-10 00:00:00', freq='D')],\n [Timestamp('2019-07-10 00:00:00', freq='D'),\n  '대파(일반)',\n  '2302',\n  '2271',\n  '2006',\n  '키로단',\n  '29'],\n [Timestamp('2019-07-10 00:00:00', freq='D'),\n  '대파(일반)',\n  '1700',\n  '1714',\n  '1366',\n  '키로단',\n  '29'],\n [Timestamp('2019-07-10 00:00:00', freq='D'),\n  '대파(일반)',\n  '1204',\n  '1214',\n  '1144',\n  '키로단',\n  '29'],\n [Timestamp('2019-07-10 00:00:00', freq='D'),\n  '대파(일반)',\n  '887',\n  '968',\n  '799',\n  '키로단',\n  '29']]"
     },
     "metadata": {},
     "output_type": "display_data"
    },
    {
     "data": {
      "text/plain": "[[Timestamp('2019-07-11 00:00:00', freq='D')],\n [Timestamp('2019-07-11 00:00:00', freq='D'),\n  '대파(일반)',\n  '2384',\n  '2302',\n  '2127',\n  '키로단',\n  '29'],\n [Timestamp('2019-07-11 00:00:00', freq='D'),\n  '대파(일반)',\n  '1824',\n  '1700',\n  '1436',\n  '키로단',\n  '29'],\n [Timestamp('2019-07-11 00:00:00', freq='D'),\n  '대파(일반)',\n  '1280',\n  '1204',\n  '1249',\n  '키로단',\n  '29'],\n [Timestamp('2019-07-11 00:00:00', freq='D'),\n  '대파(일반)',\n  '891',\n  '887',\n  '1009',\n  '키로단',\n  '29']]"
     },
     "metadata": {},
     "output_type": "display_data"
    },
    {
     "data": {
      "text/plain": "[[Timestamp('2019-07-12 00:00:00', freq='D')],\n [Timestamp('2019-07-12 00:00:00', freq='D'),\n  '대파(일반)',\n  '2271',\n  '2384',\n  '2089',\n  '키로단',\n  '29'],\n [Timestamp('2019-07-12 00:00:00', freq='D'),\n  '대파(일반)',\n  '1885',\n  '1824',\n  '1405',\n  '키로단',\n  '29'],\n [Timestamp('2019-07-12 00:00:00', freq='D'),\n  '대파(일반)',\n  '1434',\n  '1280',\n  '1183',\n  '키로단',\n  '29'],\n [Timestamp('2019-07-12 00:00:00', freq='D'),\n  '대파(일반)',\n  '1128',\n  '891',\n  '890',\n  '키로단',\n  '29']]"
     },
     "metadata": {},
     "output_type": "display_data"
    },
    {
     "data": {
      "text/plain": "[[Timestamp('2019-07-13 00:00:00', freq='D')],\n [Timestamp('2019-07-13 00:00:00', freq='D'),\n  '대파(일반)',\n  '2157',\n  '2271',\n  '2089',\n  '키로단',\n  '29'],\n [Timestamp('2019-07-13 00:00:00', freq='D'),\n  '대파(일반)',\n  '1731',\n  '1885',\n  '1393',\n  '키로단',\n  '29'],\n [Timestamp('2019-07-13 00:00:00', freq='D'),\n  '대파(일반)',\n  '1398',\n  '1434',\n  '1172',\n  '키로단',\n  '29'],\n [Timestamp('2019-07-13 00:00:00', freq='D'),\n  '대파(일반)',\n  '1226',\n  '1128',\n  '886',\n  '키로단',\n  '29']]"
     },
     "metadata": {},
     "output_type": "display_data"
    },
    {
     "data": {
      "text/plain": "[[Timestamp('2019-07-14 00:00:00', freq='D')],\n [Timestamp('2019-07-14 00:00:00', freq='D'),\n  '대파(일반)',\n  '0',\n  '2157',\n  '2105',\n  '키로단',\n  '29'],\n [Timestamp('2019-07-14 00:00:00', freq='D'),\n  '대파(일반)',\n  '0',\n  '1731',\n  '1485',\n  '키로단',\n  '29'],\n [Timestamp('2019-07-14 00:00:00', freq='D'),\n  '대파(일반)',\n  '0',\n  '1398',\n  '1236',\n  '키로단',\n  '29'],\n [Timestamp('2019-07-14 00:00:00', freq='D'),\n  '대파(일반)',\n  '0',\n  '1226',\n  '928',\n  '키로단',\n  '29']]"
     },
     "metadata": {},
     "output_type": "display_data"
    },
    {
     "data": {
      "text/plain": "[[Timestamp('2019-07-15 00:00:00', freq='D')],\n [Timestamp('2019-07-15 00:00:00', freq='D'),\n  '대파(일반)',\n  '2585',\n  '0',\n  '0',\n  '키로단',\n  '29'],\n [Timestamp('2019-07-15 00:00:00', freq='D'),\n  '대파(일반)',\n  '1850',\n  '0',\n  '0',\n  '키로단',\n  '29'],\n [Timestamp('2019-07-15 00:00:00', freq='D'),\n  '대파(일반)',\n  '1416',\n  '0',\n  '0',\n  '키로단',\n  '29'],\n [Timestamp('2019-07-15 00:00:00', freq='D'),\n  '대파(일반)',\n  '1267',\n  '0',\n  '0',\n  '키로단',\n  '29']]"
     },
     "metadata": {},
     "output_type": "display_data"
    },
    {
     "data": {
      "text/plain": "[[Timestamp('2019-07-16 00:00:00', freq='D')],\n [Timestamp('2019-07-16 00:00:00', freq='D'),\n  '대파(일반)',\n  '2455',\n  '2585',\n  '1943',\n  '키로단',\n  '29'],\n [Timestamp('2019-07-16 00:00:00', freq='D'),\n  '대파(일반)',\n  '1674',\n  '1850',\n  '1346',\n  '키로단',\n  '29'],\n [Timestamp('2019-07-16 00:00:00', freq='D'),\n  '대파(일반)',\n  '1321',\n  '1416',\n  '1128',\n  '키로단',\n  '29'],\n [Timestamp('2019-07-16 00:00:00', freq='D'),\n  '대파(일반)',\n  '1074',\n  '1267',\n  '922',\n  '키로단',\n  '29']]"
     },
     "metadata": {},
     "output_type": "display_data"
    },
    {
     "data": {
      "text/plain": "[[Timestamp('2019-07-17 00:00:00', freq='D')],\n [Timestamp('2019-07-17 00:00:00', freq='D'),\n  '대파(일반)',\n  '2030',\n  '2455',\n  '1940',\n  '키로단',\n  '29'],\n [Timestamp('2019-07-17 00:00:00', freq='D'),\n  '대파(일반)',\n  '1614',\n  '1674',\n  '1337',\n  '키로단',\n  '29'],\n [Timestamp('2019-07-17 00:00:00', freq='D'),\n  '대파(일반)',\n  '1338',\n  '1321',\n  '1049',\n  '키로단',\n  '29'],\n [Timestamp('2019-07-17 00:00:00', freq='D'),\n  '대파(일반)',\n  '973',\n  '1074',\n  '870',\n  '키로단',\n  '29']]"
     },
     "metadata": {},
     "output_type": "display_data"
    },
    {
     "data": {
      "text/plain": "[[Timestamp('2019-07-18 00:00:00', freq='D')],\n [Timestamp('2019-07-18 00:00:00', freq='D'),\n  '대파(일반)',\n  '1859',\n  '2030',\n  '1859',\n  '키로단',\n  '29'],\n [Timestamp('2019-07-18 00:00:00', freq='D'),\n  '대파(일반)',\n  '1622',\n  '1614',\n  '1316',\n  '키로단',\n  '29'],\n [Timestamp('2019-07-18 00:00:00', freq='D'),\n  '대파(일반)',\n  '1414',\n  '1338',\n  '1010',\n  '키로단',\n  '29'],\n [Timestamp('2019-07-18 00:00:00', freq='D'),\n  '대파(일반)',\n  '933',\n  '973',\n  '794',\n  '키로단',\n  '29']]"
     },
     "metadata": {},
     "output_type": "display_data"
    },
    {
     "data": {
      "text/plain": "[[Timestamp('2019-07-19 00:00:00', freq='D')],\n [Timestamp('2019-07-19 00:00:00', freq='D'),\n  '대파(일반)',\n  '1829',\n  '1859',\n  '1803',\n  '키로단',\n  '29'],\n [Timestamp('2019-07-19 00:00:00', freq='D'),\n  '대파(일반)',\n  '1577',\n  '1622',\n  '1347',\n  '키로단',\n  '29'],\n [Timestamp('2019-07-19 00:00:00', freq='D'),\n  '대파(일반)',\n  '1374',\n  '1414',\n  '914',\n  '키로단',\n  '29'],\n [Timestamp('2019-07-19 00:00:00', freq='D'),\n  '대파(일반)',\n  '943',\n  '933',\n  '668',\n  '키로단',\n  '29']]"
     },
     "metadata": {},
     "output_type": "display_data"
    },
    {
     "data": {
      "text/plain": "[[Timestamp('2019-07-20 00:00:00', freq='D')],\n [Timestamp('2019-07-20 00:00:00', freq='D'),\n  '대파(일반)',\n  '1645',\n  '1829',\n  '1894',\n  '키로단',\n  '29'],\n [Timestamp('2019-07-20 00:00:00', freq='D'),\n  '대파(일반)',\n  '1498',\n  '1577',\n  '1260',\n  '키로단',\n  '29'],\n [Timestamp('2019-07-20 00:00:00', freq='D'),\n  '대파(일반)',\n  '1107',\n  '1374',\n  '938',\n  '키로단',\n  '29'],\n [Timestamp('2019-07-20 00:00:00', freq='D'),\n  '대파(일반)',\n  '805',\n  '943',\n  '610',\n  '키로단',\n  '29']]"
     },
     "metadata": {},
     "output_type": "display_data"
    },
    {
     "data": {
      "text/plain": "[[Timestamp('2019-07-21 00:00:00', freq='D')],\n [Timestamp('2019-07-21 00:00:00', freq='D'),\n  '대파(일반)',\n  '0',\n  '1645',\n  '1934',\n  '키로단',\n  '29'],\n [Timestamp('2019-07-21 00:00:00', freq='D'),\n  '대파(일반)',\n  '0',\n  '1498',\n  '1233',\n  '키로단',\n  '29'],\n [Timestamp('2019-07-21 00:00:00', freq='D'),\n  '대파(일반)',\n  '0',\n  '1107',\n  '1045',\n  '키로단',\n  '29'],\n [Timestamp('2019-07-21 00:00:00', freq='D'),\n  '대파(일반)',\n  '0',\n  '805',\n  '706',\n  '키로단',\n  '29']]"
     },
     "metadata": {},
     "output_type": "display_data"
    },
    {
     "data": {
      "text/plain": "[[Timestamp('2019-07-22 00:00:00', freq='D')],\n [Timestamp('2019-07-22 00:00:00', freq='D'),\n  '대파(일반)',\n  '2200',\n  '0',\n  '0',\n  '키로단',\n  '29'],\n [Timestamp('2019-07-22 00:00:00', freq='D'),\n  '대파(일반)',\n  '1924',\n  '0',\n  '0',\n  '키로단',\n  '29'],\n [Timestamp('2019-07-22 00:00:00', freq='D'),\n  '대파(일반)',\n  '1354',\n  '0',\n  '0',\n  '키로단',\n  '29'],\n [Timestamp('2019-07-22 00:00:00', freq='D'),\n  '대파(일반)',\n  '854',\n  '0',\n  '0',\n  '키로단',\n  '29']]"
     },
     "metadata": {},
     "output_type": "display_data"
    },
    {
     "data": {
      "text/plain": "[[Timestamp('2019-07-23 00:00:00', freq='D')],\n [Timestamp('2019-07-23 00:00:00', freq='D'),\n  '대파(일반)',\n  '2099',\n  '2200',\n  '2200',\n  '키로단',\n  '29'],\n [Timestamp('2019-07-23 00:00:00', freq='D'),\n  '대파(일반)',\n  '1643',\n  '1924',\n  '1370',\n  '키로단',\n  '29'],\n [Timestamp('2019-07-23 00:00:00', freq='D'),\n  '대파(일반)',\n  '1174',\n  '1354',\n  '985',\n  '키로단',\n  '29'],\n [Timestamp('2019-07-23 00:00:00', freq='D'),\n  '대파(일반)',\n  '896',\n  '854',\n  '840',\n  '키로단',\n  '29']]"
     },
     "metadata": {},
     "output_type": "display_data"
    },
    {
     "data": {
      "text/plain": "[[Timestamp('2019-07-24 00:00:00', freq='D')],\n [Timestamp('2019-07-24 00:00:00', freq='D'),\n  '대파(일반)',\n  '1882',\n  '2099',\n  '2134',\n  '키로단',\n  '29'],\n [Timestamp('2019-07-24 00:00:00', freq='D'),\n  '대파(일반)',\n  '1514',\n  '1643',\n  '1417',\n  '키로단',\n  '29'],\n [Timestamp('2019-07-24 00:00:00', freq='D'),\n  '대파(일반)',\n  '1167',\n  '1174',\n  '1109',\n  '키로단',\n  '29'],\n [Timestamp('2019-07-24 00:00:00', freq='D'),\n  '대파(일반)',\n  '901',\n  '896',\n  '869',\n  '키로단',\n  '29']]"
     },
     "metadata": {},
     "output_type": "display_data"
    },
    {
     "data": {
      "text/plain": "[[Timestamp('2019-07-25 00:00:00', freq='D')],\n [Timestamp('2019-07-25 00:00:00', freq='D'),\n  '대파(일반)',\n  '1780',\n  '1882',\n  '2010',\n  '키로단',\n  '29'],\n [Timestamp('2019-07-25 00:00:00', freq='D'),\n  '대파(일반)',\n  '1325',\n  '1514',\n  '1417',\n  '키로단',\n  '29'],\n [Timestamp('2019-07-25 00:00:00', freq='D'),\n  '대파(일반)',\n  '1181',\n  '1167',\n  '1126',\n  '키로단',\n  '29'],\n [Timestamp('2019-07-25 00:00:00', freq='D'),\n  '대파(일반)',\n  '948',\n  '901',\n  '862',\n  '키로단',\n  '29']]"
     },
     "metadata": {},
     "output_type": "display_data"
    },
    {
     "data": {
      "text/plain": "[[Timestamp('2019-07-26 00:00:00', freq='D')],\n [Timestamp('2019-07-26 00:00:00', freq='D'),\n  '대파(일반)',\n  '1800',\n  '1780',\n  '1921',\n  '키로단',\n  '29'],\n [Timestamp('2019-07-26 00:00:00', freq='D'),\n  '대파(일반)',\n  '1483',\n  '1325',\n  '1271',\n  '키로단',\n  '29'],\n [Timestamp('2019-07-26 00:00:00', freq='D'),\n  '대파(일반)',\n  '1180',\n  '1181',\n  '1097',\n  '키로단',\n  '29'],\n [Timestamp('2019-07-26 00:00:00', freq='D'),\n  '대파(일반)',\n  '990',\n  '948',\n  '839',\n  '키로단',\n  '29']]"
     },
     "metadata": {},
     "output_type": "display_data"
    },
    {
     "data": {
      "text/plain": "[[Timestamp('2019-07-27 00:00:00', freq='D')],\n [Timestamp('2019-07-27 00:00:00', freq='D'),\n  '대파(일반)',\n  '1800',\n  '1800',\n  '2102',\n  '키로단',\n  '29'],\n [Timestamp('2019-07-27 00:00:00', freq='D'),\n  '대파(일반)',\n  '1635',\n  '1483',\n  '1339',\n  '키로단',\n  '29'],\n [Timestamp('2019-07-27 00:00:00', freq='D'),\n  '대파(일반)',\n  '1395',\n  '1180',\n  '1095',\n  '키로단',\n  '29'],\n [Timestamp('2019-07-27 00:00:00', freq='D'),\n  '대파(일반)',\n  '1005',\n  '990',\n  '902',\n  '키로단',\n  '29']]"
     },
     "metadata": {},
     "output_type": "display_data"
    },
    {
     "data": {
      "text/plain": "[[Timestamp('2019-07-28 00:00:00', freq='D')],\n [Timestamp('2019-07-28 00:00:00', freq='D'),\n  '대파(일반)',\n  '0',\n  '1800',\n  '2200',\n  '키로단',\n  '29'],\n [Timestamp('2019-07-28 00:00:00', freq='D'),\n  '대파(일반)',\n  '0',\n  '1635',\n  '1496',\n  '키로단',\n  '29'],\n [Timestamp('2019-07-28 00:00:00', freq='D'),\n  '대파(일반)',\n  '0',\n  '1395',\n  '1072',\n  '키로단',\n  '29'],\n [Timestamp('2019-07-28 00:00:00', freq='D'),\n  '대파(일반)',\n  '0',\n  '1005',\n  '906',\n  '키로단',\n  '29']]"
     },
     "metadata": {},
     "output_type": "display_data"
    },
    {
     "data": {
      "text/plain": "[[Timestamp('2019-07-29 00:00:00', freq='D')],\n [Timestamp('2019-07-29 00:00:00', freq='D'),\n  '대파(일반)',\n  '2585',\n  '0',\n  '0',\n  '키로단',\n  '29'],\n [Timestamp('2019-07-29 00:00:00', freq='D'),\n  '대파(일반)',\n  '2068',\n  '0',\n  '0',\n  '키로단',\n  '29'],\n [Timestamp('2019-07-29 00:00:00', freq='D'),\n  '대파(일반)',\n  '1392',\n  '0',\n  '0',\n  '키로단',\n  '29'],\n [Timestamp('2019-07-29 00:00:00', freq='D'),\n  '대파(일반)',\n  '1170',\n  '0',\n  '0',\n  '키로단',\n  '29']]"
     },
     "metadata": {},
     "output_type": "display_data"
    },
    {
     "data": {
      "text/plain": "[[Timestamp('2019-07-30 00:00:00', freq='D')],\n [Timestamp('2019-07-30 00:00:00', freq='D'),\n  '대파(일반)',\n  '2479',\n  '2585',\n  '2600',\n  '키로단',\n  '29'],\n [Timestamp('2019-07-30 00:00:00', freq='D'),\n  '대파(일반)',\n  '1902',\n  '2068',\n  '1964',\n  '키로단',\n  '29'],\n [Timestamp('2019-07-30 00:00:00', freq='D'),\n  '대파(일반)',\n  '1499',\n  '1392',\n  '1615',\n  '키로단',\n  '29'],\n [Timestamp('2019-07-30 00:00:00', freq='D'),\n  '대파(일반)',\n  '1190',\n  '1170',\n  '930',\n  '키로단',\n  '29']]"
     },
     "metadata": {},
     "output_type": "display_data"
    },
    {
     "data": {
      "text/plain": "[[Timestamp('2019-07-31 00:00:00', freq='D')],\n [Timestamp('2019-07-31 00:00:00', freq='D'),\n  '대파(일반)',\n  '2294',\n  '2479',\n  '2600',\n  '키로단',\n  '29'],\n [Timestamp('2019-07-31 00:00:00', freq='D'),\n  '대파(일반)',\n  '1831',\n  '1902',\n  '1976',\n  '키로단',\n  '29'],\n [Timestamp('2019-07-31 00:00:00', freq='D'),\n  '대파(일반)',\n  '1519',\n  '1499',\n  '1507',\n  '키로단',\n  '29'],\n [Timestamp('2019-07-31 00:00:00', freq='D'),\n  '대파(일반)',\n  '1166',\n  '1190',\n  '1057',\n  '키로단',\n  '29']]"
     },
     "metadata": {},
     "output_type": "display_data"
    },
    {
     "data": {
      "text/plain": "[[Timestamp('2019-08-01 00:00:00', freq='D')],\n [Timestamp('2019-08-01 00:00:00', freq='D'),\n  '대파(일반)',\n  '2736',\n  '2294',\n  '2300',\n  '키로단',\n  '29'],\n [Timestamp('2019-08-01 00:00:00', freq='D'),\n  '대파(일반)',\n  '2125',\n  '1831',\n  '1838',\n  '키로단',\n  '29'],\n [Timestamp('2019-08-01 00:00:00', freq='D'),\n  '대파(일반)',\n  '1520',\n  '1519',\n  '1348',\n  '키로단',\n  '29'],\n [Timestamp('2019-08-01 00:00:00', freq='D'),\n  '대파(일반)',\n  '1113',\n  '1166',\n  '1008',\n  '키로단',\n  '29']]"
     },
     "metadata": {},
     "output_type": "display_data"
    },
    {
     "data": {
      "text/plain": "[[Timestamp('2019-08-02 00:00:00', freq='D')],\n [Timestamp('2019-08-02 00:00:00', freq='D'),\n  '대파(일반)',\n  '2763',\n  '2736',\n  '2389',\n  '키로단',\n  '29'],\n [Timestamp('2019-08-02 00:00:00', freq='D'),\n  '대파(일반)',\n  '2142',\n  '2125',\n  '1512',\n  '키로단',\n  '29'],\n [Timestamp('2019-08-02 00:00:00', freq='D'),\n  '대파(일반)',\n  '1561',\n  '1520',\n  '1110',\n  '키로단',\n  '29'],\n [Timestamp('2019-08-02 00:00:00', freq='D'),\n  '대파(일반)',\n  '1188',\n  '1113',\n  '982',\n  '키로단',\n  '29']]"
     },
     "metadata": {},
     "output_type": "display_data"
    },
    {
     "data": {
      "text/plain": "[[Timestamp('2019-08-03 00:00:00', freq='D')],\n [Timestamp('2019-08-03 00:00:00', freq='D'),\n  '대파(일반)',\n  '2490',\n  '2763',\n  '2365',\n  '키로단',\n  '29'],\n [Timestamp('2019-08-03 00:00:00', freq='D'),\n  '대파(일반)',\n  '1900',\n  '2142',\n  '1347',\n  '키로단',\n  '29'],\n [Timestamp('2019-08-03 00:00:00', freq='D'),\n  '대파(일반)',\n  '1544',\n  '1561',\n  '1126',\n  '키로단',\n  '29'],\n [Timestamp('2019-08-03 00:00:00', freq='D'),\n  '대파(일반)',\n  '1317',\n  '1188',\n  '960',\n  '키로단',\n  '29']]"
     },
     "metadata": {},
     "output_type": "display_data"
    },
    {
     "data": {
      "text/plain": "[[Timestamp('2019-08-04 00:00:00', freq='D')],\n [Timestamp('2019-08-04 00:00:00', freq='D'),\n  '대파(일반)',\n  '2288',\n  '2490',\n  '2244',\n  '키로단',\n  '29'],\n [Timestamp('2019-08-04 00:00:00', freq='D'),\n  '대파(일반)',\n  '1887',\n  '1900',\n  '1364',\n  '키로단',\n  '29'],\n [Timestamp('2019-08-04 00:00:00', freq='D'),\n  '대파(일반)',\n  '1583',\n  '1544',\n  '1147',\n  '키로단',\n  '29'],\n [Timestamp('2019-08-04 00:00:00', freq='D'),\n  '대파(일반)',\n  '1368',\n  '1317',\n  '1006',\n  '키로단',\n  '29']]"
     },
     "metadata": {},
     "output_type": "display_data"
    },
    {
     "data": {
      "text/plain": "[[Timestamp('2019-08-05 00:00:00', freq='D')],\n [Timestamp('2019-08-05 00:00:00', freq='D'),\n  '대파(일반)',\n  '2337',\n  '2288',\n  '0',\n  '키로단',\n  '29'],\n [Timestamp('2019-08-05 00:00:00', freq='D'),\n  '대파(일반)',\n  '1938',\n  '1887',\n  '0',\n  '키로단',\n  '29'],\n [Timestamp('2019-08-05 00:00:00', freq='D'),\n  '대파(일반)',\n  '1505',\n  '1583',\n  '0',\n  '키로단',\n  '29'],\n [Timestamp('2019-08-05 00:00:00', freq='D'),\n  '대파(일반)',\n  '1180',\n  '1368',\n  '0',\n  '키로단',\n  '29']]"
     },
     "metadata": {},
     "output_type": "display_data"
    },
    {
     "data": {
      "text/plain": "[[Timestamp('2019-08-06 00:00:00', freq='D')],\n [Timestamp('2019-08-06 00:00:00', freq='D'),\n  '대파(일반)',\n  '2331',\n  '2337',\n  '2000',\n  '키로단',\n  '29'],\n [Timestamp('2019-08-06 00:00:00', freq='D'),\n  '대파(일반)',\n  '1923',\n  '1938',\n  '1573',\n  '키로단',\n  '29'],\n [Timestamp('2019-08-06 00:00:00', freq='D'),\n  '대파(일반)',\n  '1541',\n  '1505',\n  '1234',\n  '키로단',\n  '29'],\n [Timestamp('2019-08-06 00:00:00', freq='D'),\n  '대파(일반)',\n  '1112',\n  '1180',\n  '1053',\n  '키로단',\n  '29']]"
     },
     "metadata": {},
     "output_type": "display_data"
    },
    {
     "data": {
      "text/plain": "[[Timestamp('2019-08-07 00:00:00', freq='D')],\n [Timestamp('2019-08-07 00:00:00', freq='D'),\n  '대파(일반)',\n  '2310',\n  '2331',\n  '2003',\n  '키로단',\n  '29'],\n [Timestamp('2019-08-07 00:00:00', freq='D'),\n  '대파(일반)',\n  '1899',\n  '1923',\n  '1432',\n  '키로단',\n  '29'],\n [Timestamp('2019-08-07 00:00:00', freq='D'),\n  '대파(일반)',\n  '1460',\n  '1541',\n  '1140',\n  '키로단',\n  '29'],\n [Timestamp('2019-08-07 00:00:00', freq='D'),\n  '대파(일반)',\n  '979',\n  '1112',\n  '1048',\n  '키로단',\n  '29']]"
     },
     "metadata": {},
     "output_type": "display_data"
    },
    {
     "data": {
      "text/plain": "[[Timestamp('2019-08-08 00:00:00', freq='D')],\n [Timestamp('2019-08-08 00:00:00', freq='D'),\n  '대파(일반)',\n  '2542',\n  '2310',\n  '1960',\n  '키로단',\n  '29'],\n [Timestamp('2019-08-08 00:00:00', freq='D'),\n  '대파(일반)',\n  '1704',\n  '1899',\n  '1591',\n  '키로단',\n  '29'],\n [Timestamp('2019-08-08 00:00:00', freq='D'),\n  '대파(일반)',\n  '1407',\n  '1460',\n  '1218',\n  '키로단',\n  '29'],\n [Timestamp('2019-08-08 00:00:00', freq='D'),\n  '대파(일반)',\n  '914',\n  '979',\n  '1073',\n  '키로단',\n  '29']]"
     },
     "metadata": {},
     "output_type": "display_data"
    },
    {
     "data": {
      "text/plain": "[[Timestamp('2019-08-09 00:00:00', freq='D')],\n [Timestamp('2019-08-09 00:00:00', freq='D'),\n  '대파(일반)',\n  '2704',\n  '2542',\n  '1858',\n  '키로단',\n  '29'],\n [Timestamp('2019-08-09 00:00:00', freq='D'),\n  '대파(일반)',\n  '1826',\n  '1704',\n  '1577',\n  '키로단',\n  '29'],\n [Timestamp('2019-08-09 00:00:00', freq='D'),\n  '대파(일반)',\n  '1460',\n  '1407',\n  '1367',\n  '키로단',\n  '29'],\n [Timestamp('2019-08-09 00:00:00', freq='D'),\n  '대파(일반)',\n  '1045',\n  '914',\n  '1130',\n  '키로단',\n  '29']]"
     },
     "metadata": {},
     "output_type": "display_data"
    },
    {
     "data": {
      "text/plain": "[[Timestamp('2019-08-10 00:00:00', freq='D')],\n [Timestamp('2019-08-10 00:00:00', freq='D'),\n  '대파(일반)',\n  '2424',\n  '2704',\n  '2063',\n  '키로단',\n  '29'],\n [Timestamp('2019-08-10 00:00:00', freq='D'),\n  '대파(일반)',\n  '1861',\n  '1826',\n  '1530',\n  '키로단',\n  '29'],\n [Timestamp('2019-08-10 00:00:00', freq='D'),\n  '대파(일반)',\n  '1404',\n  '1460',\n  '1282',\n  '키로단',\n  '29'],\n [Timestamp('2019-08-10 00:00:00', freq='D'),\n  '대파(일반)',\n  '1119',\n  '1045',\n  '1030',\n  '키로단',\n  '29']]"
     },
     "metadata": {},
     "output_type": "display_data"
    },
    {
     "data": {
      "text/plain": "[[Timestamp('2019-08-11 00:00:00', freq='D')],\n [Timestamp('2019-08-11 00:00:00', freq='D'),\n  '대파(일반)',\n  '2172',\n  '2424',\n  '2361',\n  '키로단',\n  '29'],\n [Timestamp('2019-08-11 00:00:00', freq='D'),\n  '대파(일반)',\n  '1808',\n  '1861',\n  '1690',\n  '키로단',\n  '29'],\n [Timestamp('2019-08-11 00:00:00', freq='D'),\n  '대파(일반)',\n  '1420',\n  '1404',\n  '1417',\n  '키로단',\n  '29'],\n [Timestamp('2019-08-11 00:00:00', freq='D'),\n  '대파(일반)',\n  '1158',\n  '1119',\n  '1051',\n  '키로단',\n  '29']]"
     },
     "metadata": {},
     "output_type": "display_data"
    },
    {
     "data": {
      "text/plain": "[[Timestamp('2019-08-12 00:00:00', freq='D')],\n [Timestamp('2019-08-12 00:00:00', freq='D'),\n  '대파(일반)',\n  '2134',\n  '2172',\n  '0',\n  '키로단',\n  '29'],\n [Timestamp('2019-08-12 00:00:00', freq='D'),\n  '대파(일반)',\n  '1672',\n  '1808',\n  '0',\n  '키로단',\n  '29'],\n [Timestamp('2019-08-12 00:00:00', freq='D'),\n  '대파(일반)',\n  '1472',\n  '1420',\n  '0',\n  '키로단',\n  '29'],\n [Timestamp('2019-08-12 00:00:00', freq='D'),\n  '대파(일반)',\n  '1181',\n  '1158',\n  '0',\n  '키로단',\n  '29']]"
     },
     "metadata": {},
     "output_type": "display_data"
    },
    {
     "data": {
      "text/plain": "[[Timestamp('2019-08-13 00:00:00', freq='D')],\n [Timestamp('2019-08-13 00:00:00', freq='D'),\n  '대파(일반)',\n  '2075',\n  '2134',\n  '2600',\n  '키로단',\n  '29'],\n [Timestamp('2019-08-13 00:00:00', freq='D'),\n  '대파(일반)',\n  '1697',\n  '1672',\n  '2046',\n  '키로단',\n  '29'],\n [Timestamp('2019-08-13 00:00:00', freq='D'),\n  '대파(일반)',\n  '1504',\n  '1472',\n  '1520',\n  '키로단',\n  '29'],\n [Timestamp('2019-08-13 00:00:00', freq='D'),\n  '대파(일반)',\n  '1262',\n  '1181',\n  '1364',\n  '키로단',\n  '29']]"
     },
     "metadata": {},
     "output_type": "display_data"
    },
    {
     "data": {
      "text/plain": "[[Timestamp('2019-08-14 00:00:00', freq='D')],\n [Timestamp('2019-08-14 00:00:00', freq='D'),\n  '대파(일반)',\n  '2037',\n  '2075',\n  '2626',\n  '키로단',\n  '29'],\n [Timestamp('2019-08-14 00:00:00', freq='D'),\n  '대파(일반)',\n  '1719',\n  '1697',\n  '1874',\n  '키로단',\n  '29'],\n [Timestamp('2019-08-14 00:00:00', freq='D'),\n  '대파(일반)',\n  '1497',\n  '1504',\n  '1540',\n  '키로단',\n  '29'],\n [Timestamp('2019-08-14 00:00:00', freq='D'),\n  '대파(일반)',\n  '1211',\n  '1262',\n  '1427',\n  '키로단',\n  '29']]"
     },
     "metadata": {},
     "output_type": "display_data"
    },
    {
     "data": {
      "text/plain": "[[Timestamp('2019-08-15 00:00:00', freq='D')],\n [Timestamp('2019-08-15 00:00:00', freq='D'),\n  '대파(일반)',\n  '1911',\n  '2037',\n  '2491',\n  '키로단',\n  '29'],\n [Timestamp('2019-08-15 00:00:00', freq='D'),\n  '대파(일반)',\n  '1565',\n  '1719',\n  '1842',\n  '키로단',\n  '29'],\n [Timestamp('2019-08-15 00:00:00', freq='D'),\n  '대파(일반)',\n  '1347',\n  '1497',\n  '1527',\n  '키로단',\n  '29'],\n [Timestamp('2019-08-15 00:00:00', freq='D'),\n  '대파(일반)',\n  '1057',\n  '1211',\n  '1362',\n  '키로단',\n  '29']]"
     },
     "metadata": {},
     "output_type": "display_data"
    },
    {
     "data": {
      "text/plain": "[[Timestamp('2019-08-16 00:00:00', freq='D')],\n [Timestamp('2019-08-16 00:00:00', freq='D'),\n  '대파(일반)',\n  '1987',\n  '1911',\n  '2454',\n  '키로단',\n  '29'],\n [Timestamp('2019-08-16 00:00:00', freq='D'),\n  '대파(일반)',\n  '1489',\n  '1565',\n  '1928',\n  '키로단',\n  '29'],\n [Timestamp('2019-08-16 00:00:00', freq='D'),\n  '대파(일반)',\n  '1378',\n  '1347',\n  '1503',\n  '키로단',\n  '29'],\n [Timestamp('2019-08-16 00:00:00', freq='D'),\n  '대파(일반)',\n  '1107',\n  '1057',\n  '1146',\n  '키로단',\n  '29']]"
     },
     "metadata": {},
     "output_type": "display_data"
    },
    {
     "data": {
      "text/plain": "[[Timestamp('2019-08-17 00:00:00', freq='D')],\n [Timestamp('2019-08-17 00:00:00', freq='D'),\n  '대파(일반)',\n  '2170',\n  '1987',\n  '2408',\n  '키로단',\n  '29'],\n [Timestamp('2019-08-17 00:00:00', freq='D'),\n  '대파(일반)',\n  '1754',\n  '1489',\n  '1879',\n  '키로단',\n  '29'],\n [Timestamp('2019-08-17 00:00:00', freq='D'),\n  '대파(일반)',\n  '1397',\n  '1378',\n  '1504',\n  '키로단',\n  '29'],\n [Timestamp('2019-08-17 00:00:00', freq='D'),\n  '대파(일반)',\n  '1190',\n  '1107',\n  '1217',\n  '키로단',\n  '29']]"
     },
     "metadata": {},
     "output_type": "display_data"
    },
    {
     "data": {
      "text/plain": "[[Timestamp('2019-08-18 00:00:00', freq='D')],\n [Timestamp('2019-08-18 00:00:00', freq='D'),\n  '대파(일반)',\n  '0',\n  '2170',\n  '2392',\n  '키로단',\n  '29'],\n [Timestamp('2019-08-18 00:00:00', freq='D'),\n  '대파(일반)',\n  '0',\n  '1754',\n  '1818',\n  '키로단',\n  '29'],\n [Timestamp('2019-08-18 00:00:00', freq='D'),\n  '대파(일반)',\n  '0',\n  '1397',\n  '1449',\n  '키로단',\n  '29'],\n [Timestamp('2019-08-18 00:00:00', freq='D'),\n  '대파(일반)',\n  '0',\n  '1190',\n  '1369',\n  '키로단',\n  '29']]"
     },
     "metadata": {},
     "output_type": "display_data"
    },
    {
     "data": {
      "text/plain": "[[Timestamp('2019-08-19 00:00:00', freq='D')],\n [Timestamp('2019-08-19 00:00:00', freq='D'),\n  '대파(일반)',\n  '2191',\n  '0',\n  '0',\n  '키로단',\n  '29'],\n [Timestamp('2019-08-19 00:00:00', freq='D'),\n  '대파(일반)',\n  '1755',\n  '0',\n  '0',\n  '키로단',\n  '29'],\n [Timestamp('2019-08-19 00:00:00', freq='D'),\n  '대파(일반)',\n  '1436',\n  '0',\n  '0',\n  '키로단',\n  '29'],\n [Timestamp('2019-08-19 00:00:00', freq='D'),\n  '대파(일반)',\n  '1249',\n  '0',\n  '0',\n  '키로단',\n  '29']]"
     },
     "metadata": {},
     "output_type": "display_data"
    },
    {
     "data": {
      "text/plain": "[[Timestamp('2019-08-20 00:00:00', freq='D')],\n [Timestamp('2019-08-20 00:00:00', freq='D'),\n  '대파(일반)',\n  '2221',\n  '2191',\n  '2700',\n  '키로단',\n  '29'],\n [Timestamp('2019-08-20 00:00:00', freq='D'),\n  '대파(일반)',\n  '2089',\n  '1755',\n  '1906',\n  '키로단',\n  '29'],\n [Timestamp('2019-08-20 00:00:00', freq='D'),\n  '대파(일반)',\n  '1605',\n  '1436',\n  '1526',\n  '키로단',\n  '29'],\n [Timestamp('2019-08-20 00:00:00', freq='D'),\n  '대파(일반)',\n  '1266',\n  '1249',\n  '1410',\n  '키로단',\n  '29']]"
     },
     "metadata": {},
     "output_type": "display_data"
    },
    {
     "data": {
      "text/plain": "[[Timestamp('2019-08-21 00:00:00', freq='D')],\n [Timestamp('2019-08-21 00:00:00', freq='D'),\n  '대파(일반)',\n  '2215',\n  '2221',\n  '3236',\n  '키로단',\n  '29'],\n [Timestamp('2019-08-21 00:00:00', freq='D'),\n  '대파(일반)',\n  '2200',\n  '2089',\n  '1989',\n  '키로단',\n  '29'],\n [Timestamp('2019-08-21 00:00:00', freq='D'),\n  '대파(일반)',\n  '1765',\n  '1605',\n  '1586',\n  '키로단',\n  '29'],\n [Timestamp('2019-08-21 00:00:00', freq='D'),\n  '대파(일반)',\n  '1167',\n  '1266',\n  '1411',\n  '키로단',\n  '29']]"
     },
     "metadata": {},
     "output_type": "display_data"
    },
    {
     "data": {
      "text/plain": "[[Timestamp('2019-08-22 00:00:00', freq='D')],\n [Timestamp('2019-08-22 00:00:00', freq='D'),\n  '대파(일반)',\n  '2211',\n  '2215',\n  '3300',\n  '키로단',\n  '29'],\n [Timestamp('2019-08-22 00:00:00', freq='D'),\n  '대파(일반)',\n  '2121',\n  '2200',\n  '2238',\n  '키로단',\n  '29'],\n [Timestamp('2019-08-22 00:00:00', freq='D'),\n  '대파(일반)',\n  '1428',\n  '1765',\n  '1706',\n  '키로단',\n  '29'],\n [Timestamp('2019-08-22 00:00:00', freq='D'),\n  '대파(일반)',\n  '1035',\n  '1167',\n  '1458',\n  '키로단',\n  '29']]"
     },
     "metadata": {},
     "output_type": "display_data"
    },
    {
     "data": {
      "text/plain": "[[Timestamp('2019-08-23 00:00:00', freq='D')],\n [Timestamp('2019-08-23 00:00:00', freq='D'),\n  '대파(일반)',\n  '1904',\n  '2211',\n  '3415',\n  '키로단',\n  '29'],\n [Timestamp('2019-08-23 00:00:00', freq='D'),\n  '대파(일반)',\n  '1487',\n  '2121',\n  '2491',\n  '키로단',\n  '29'],\n [Timestamp('2019-08-23 00:00:00', freq='D'),\n  '대파(일반)',\n  '1292',\n  '1428',\n  '1820',\n  '키로단',\n  '29'],\n [Timestamp('2019-08-23 00:00:00', freq='D'),\n  '대파(일반)',\n  '906',\n  '1035',\n  '1516',\n  '키로단',\n  '29']]"
     },
     "metadata": {},
     "output_type": "display_data"
    },
    {
     "data": {
      "text/plain": "[[Timestamp('2019-08-24 00:00:00', freq='D')],\n [Timestamp('2019-08-24 00:00:00', freq='D'),\n  '대파(일반)',\n  '1963',\n  '1904',\n  '4090',\n  '키로단',\n  '29'],\n [Timestamp('2019-08-24 00:00:00', freq='D'),\n  '대파(일반)',\n  '1421',\n  '1487',\n  '2789',\n  '키로단',\n  '29'],\n [Timestamp('2019-08-24 00:00:00', freq='D'),\n  '대파(일반)',\n  '1142',\n  '1292',\n  '1816',\n  '키로단',\n  '29'],\n [Timestamp('2019-08-24 00:00:00', freq='D'),\n  '대파(일반)',\n  '796',\n  '906',\n  '1556',\n  '키로단',\n  '29']]"
     },
     "metadata": {},
     "output_type": "display_data"
    },
    {
     "data": {
      "text/plain": "[[Timestamp('2019-08-25 00:00:00', freq='D')],\n [Timestamp('2019-08-25 00:00:00', freq='D'),\n  '대파(일반)',\n  '0',\n  '1963',\n  '4551',\n  '키로단',\n  '29'],\n [Timestamp('2019-08-25 00:00:00', freq='D'),\n  '대파(일반)',\n  '0',\n  '1421',\n  '2926',\n  '키로단',\n  '29'],\n [Timestamp('2019-08-25 00:00:00', freq='D'),\n  '대파(일반)',\n  '0',\n  '1142',\n  '1846',\n  '키로단',\n  '29'],\n [Timestamp('2019-08-25 00:00:00', freq='D'),\n  '대파(일반)',\n  '0',\n  '796',\n  '1564',\n  '키로단',\n  '29']]"
     },
     "metadata": {},
     "output_type": "display_data"
    },
    {
     "data": {
      "text/plain": "[[Timestamp('2019-08-26 00:00:00', freq='D')],\n [Timestamp('2019-08-26 00:00:00', freq='D'),\n  '대파(일반)',\n  '2045',\n  '0',\n  '0',\n  '키로단',\n  '29'],\n [Timestamp('2019-08-26 00:00:00', freq='D'),\n  '대파(일반)',\n  '1439',\n  '0',\n  '0',\n  '키로단',\n  '29'],\n [Timestamp('2019-08-26 00:00:00', freq='D'),\n  '대파(일반)',\n  '1174',\n  '0',\n  '0',\n  '키로단',\n  '29'],\n [Timestamp('2019-08-26 00:00:00', freq='D'),\n  '대파(일반)',\n  '1006',\n  '0',\n  '0',\n  '키로단',\n  '29']]"
     },
     "metadata": {},
     "output_type": "display_data"
    },
    {
     "data": {
      "text/plain": "[[Timestamp('2019-08-27 00:00:00', freq='D')],\n [Timestamp('2019-08-27 00:00:00', freq='D'),\n  '대파(일반)',\n  '1950',\n  '2045',\n  '3500',\n  '키로단',\n  '29'],\n [Timestamp('2019-08-27 00:00:00', freq='D'),\n  '대파(일반)',\n  '1652',\n  '1439',\n  '3119',\n  '키로단',\n  '29'],\n [Timestamp('2019-08-27 00:00:00', freq='D'),\n  '대파(일반)',\n  '1382',\n  '1174',\n  '2344',\n  '키로단',\n  '29'],\n [Timestamp('2019-08-27 00:00:00', freq='D'),\n  '대파(일반)',\n  '1067',\n  '1006',\n  '1494',\n  '키로단',\n  '29']]"
     },
     "metadata": {},
     "output_type": "display_data"
    },
    {
     "data": {
      "text/plain": "[[Timestamp('2019-08-28 00:00:00', freq='D')],\n [Timestamp('2019-08-28 00:00:00', freq='D'),\n  '대파(일반)',\n  '1843',\n  '1950',\n  '3875',\n  '키로단',\n  '29'],\n [Timestamp('2019-08-28 00:00:00', freq='D'),\n  '대파(일반)',\n  '1650',\n  '1652',\n  '2891',\n  '키로단',\n  '29'],\n [Timestamp('2019-08-28 00:00:00', freq='D'),\n  '대파(일반)',\n  '1433',\n  '1382',\n  '2161',\n  '키로단',\n  '29'],\n [Timestamp('2019-08-28 00:00:00', freq='D'),\n  '대파(일반)',\n  '1116',\n  '1067',\n  '1618',\n  '키로단',\n  '29']]"
     },
     "metadata": {},
     "output_type": "display_data"
    },
    {
     "data": {
      "text/plain": "[[Timestamp('2019-08-29 00:00:00', freq='D')],\n [Timestamp('2019-08-29 00:00:00', freq='D'),\n  '대파(일반)',\n  '1759',\n  '1843',\n  '3882',\n  '키로단',\n  '29'],\n [Timestamp('2019-08-29 00:00:00', freq='D'),\n  '대파(일반)',\n  '1650',\n  '1650',\n  '2582',\n  '키로단',\n  '29'],\n [Timestamp('2019-08-29 00:00:00', freq='D'),\n  '대파(일반)',\n  '1307',\n  '1433',\n  '2170',\n  '키로단',\n  '29'],\n [Timestamp('2019-08-29 00:00:00', freq='D'),\n  '대파(일반)',\n  '1047',\n  '1116',\n  '1708',\n  '키로단',\n  '29']]"
     },
     "metadata": {},
     "output_type": "display_data"
    },
    {
     "data": {
      "text/plain": "[[Timestamp('2019-08-30 00:00:00', freq='D')],\n [Timestamp('2019-08-30 00:00:00', freq='D'),\n  '대파(일반)',\n  '1896',\n  '1759',\n  '3916',\n  '키로단',\n  '29'],\n [Timestamp('2019-08-30 00:00:00', freq='D'),\n  '대파(일반)',\n  '1551',\n  '1650',\n  '2694',\n  '키로단',\n  '29'],\n [Timestamp('2019-08-30 00:00:00', freq='D'),\n  '대파(일반)',\n  '1192',\n  '1307',\n  '2221',\n  '키로단',\n  '29'],\n [Timestamp('2019-08-30 00:00:00', freq='D'),\n  '대파(일반)',\n  '935',\n  '1047',\n  '1651',\n  '키로단',\n  '29']]"
     },
     "metadata": {},
     "output_type": "display_data"
    },
    {
     "data": {
      "text/plain": "[[Timestamp('2019-08-31 00:00:00', freq='D')],\n [Timestamp('2019-08-31 00:00:00', freq='D'),\n  '대파(일반)',\n  '1935',\n  '1896',\n  '4098',\n  '키로단',\n  '29'],\n [Timestamp('2019-08-31 00:00:00', freq='D'),\n  '대파(일반)',\n  '1476',\n  '1551',\n  '3179',\n  '키로단',\n  '29'],\n [Timestamp('2019-08-31 00:00:00', freq='D'),\n  '대파(일반)',\n  '1187',\n  '1192',\n  '2235',\n  '키로단',\n  '29'],\n [Timestamp('2019-08-31 00:00:00', freq='D'),\n  '대파(일반)',\n  '910',\n  '935',\n  '1572',\n  '키로단',\n  '29']]"
     },
     "metadata": {},
     "output_type": "display_data"
    },
    {
     "data": {
      "text/plain": "[[Timestamp('2019-09-01 00:00:00', freq='D')],\n [Timestamp('2019-09-01 00:00:00', freq='D'),\n  '대파(일반)',\n  '0',\n  '1935',\n  '4108',\n  '키로단',\n  '29'],\n [Timestamp('2019-09-01 00:00:00', freq='D'),\n  '대파(일반)',\n  '0',\n  '1476',\n  '3336',\n  '키로단',\n  '29'],\n [Timestamp('2019-09-01 00:00:00', freq='D'),\n  '대파(일반)',\n  '0',\n  '1187',\n  '2691',\n  '키로단',\n  '29'],\n [Timestamp('2019-09-01 00:00:00', freq='D'),\n  '대파(일반)',\n  '0',\n  '910',\n  '1731',\n  '키로단',\n  '29']]"
     },
     "metadata": {},
     "output_type": "display_data"
    },
    {
     "data": {
      "text/plain": "[[Timestamp('2019-09-02 00:00:00', freq='D')],\n [Timestamp('2019-09-02 00:00:00', freq='D'),\n  '대파(일반)',\n  '2172',\n  '0',\n  '4000',\n  '키로단',\n  '29'],\n [Timestamp('2019-09-02 00:00:00', freq='D'),\n  '대파(일반)',\n  '1778',\n  '0',\n  '3275',\n  '키로단',\n  '29'],\n [Timestamp('2019-09-02 00:00:00', freq='D'),\n  '대파(일반)',\n  '1407',\n  '0',\n  '2977',\n  '키로단',\n  '29'],\n [Timestamp('2019-09-02 00:00:00', freq='D'),\n  '대파(일반)',\n  '1000',\n  '0',\n  '2181',\n  '키로단',\n  '29']]"
     },
     "metadata": {},
     "output_type": "display_data"
    },
    {
     "data": {
      "text/plain": "[[Timestamp('2019-09-03 00:00:00', freq='D')],\n [Timestamp('2019-09-03 00:00:00', freq='D'),\n  '대파(일반)',\n  '2100',\n  '2172',\n  '4000',\n  '키로단',\n  '29'],\n [Timestamp('2019-09-03 00:00:00', freq='D'),\n  '대파(일반)',\n  '1699',\n  '1778',\n  '3275',\n  '키로단',\n  '29'],\n [Timestamp('2019-09-03 00:00:00', freq='D'),\n  '대파(일반)',\n  '1475',\n  '1407',\n  '2977',\n  '키로단',\n  '29'],\n [Timestamp('2019-09-03 00:00:00', freq='D'),\n  '대파(일반)',\n  '1111',\n  '1000',\n  '2181',\n  '키로단',\n  '29']]"
     },
     "metadata": {},
     "output_type": "display_data"
    },
    {
     "data": {
      "text/plain": "[[Timestamp('2019-09-04 00:00:00', freq='D')],\n [Timestamp('2019-09-04 00:00:00', freq='D'),\n  '대파(일반)',\n  '2019',\n  '2100',\n  '4000',\n  '키로단',\n  '29'],\n [Timestamp('2019-09-04 00:00:00', freq='D'),\n  '대파(일반)',\n  '1660',\n  '1699',\n  '3275',\n  '키로단',\n  '29'],\n [Timestamp('2019-09-04 00:00:00', freq='D'),\n  '대파(일반)',\n  '1406',\n  '1475',\n  '2977',\n  '키로단',\n  '29'],\n [Timestamp('2019-09-04 00:00:00', freq='D'),\n  '대파(일반)',\n  '1096',\n  '1111',\n  '2181',\n  '키로단',\n  '29']]"
     },
     "metadata": {},
     "output_type": "display_data"
    },
    {
     "data": {
      "text/plain": "[[Timestamp('2019-09-05 00:00:00', freq='D')],\n [Timestamp('2019-09-05 00:00:00', freq='D'),\n  '대파(일반)',\n  '1984',\n  '2019',\n  '4000',\n  '키로단',\n  '29'],\n [Timestamp('2019-09-05 00:00:00', freq='D'),\n  '대파(일반)',\n  '1564',\n  '1660',\n  '3275',\n  '키로단',\n  '29'],\n [Timestamp('2019-09-05 00:00:00', freq='D'),\n  '대파(일반)',\n  '1416',\n  '1406',\n  '2977',\n  '키로단',\n  '29'],\n [Timestamp('2019-09-05 00:00:00', freq='D'),\n  '대파(일반)',\n  '1090',\n  '1096',\n  '2181',\n  '키로단',\n  '29']]"
     },
     "metadata": {},
     "output_type": "display_data"
    },
    {
     "data": {
      "text/plain": "[[Timestamp('2019-09-06 00:00:00', freq='D')],\n [Timestamp('2019-09-06 00:00:00', freq='D'),\n  '대파(일반)',\n  '2049',\n  '1984',\n  '4000',\n  '키로단',\n  '29'],\n [Timestamp('2019-09-06 00:00:00', freq='D'),\n  '대파(일반)',\n  '1628',\n  '1564',\n  '3275',\n  '키로단',\n  '29'],\n [Timestamp('2019-09-06 00:00:00', freq='D'),\n  '대파(일반)',\n  '1389',\n  '1416',\n  '2977',\n  '키로단',\n  '29'],\n [Timestamp('2019-09-06 00:00:00', freq='D'),\n  '대파(일반)',\n  '941',\n  '1090',\n  '2181',\n  '키로단',\n  '29']]"
     },
     "metadata": {},
     "output_type": "display_data"
    },
    {
     "data": {
      "text/plain": "[[Timestamp('2019-09-07 00:00:00', freq='D')],\n [Timestamp('2019-09-07 00:00:00', freq='D'),\n  '대파(일반)',\n  '2033',\n  '2049',\n  '4000',\n  '키로단',\n  '29'],\n [Timestamp('2019-09-07 00:00:00', freq='D'),\n  '대파(일반)',\n  '1556',\n  '1628',\n  '3275',\n  '키로단',\n  '29'],\n [Timestamp('2019-09-07 00:00:00', freq='D'),\n  '대파(일반)',\n  '1017',\n  '1389',\n  '2977',\n  '키로단',\n  '29'],\n [Timestamp('2019-09-07 00:00:00', freq='D'),\n  '대파(일반)',\n  '842',\n  '941',\n  '2181',\n  '키로단',\n  '29']]"
     },
     "metadata": {},
     "output_type": "display_data"
    },
    {
     "data": {
      "text/plain": "[[Timestamp('2019-09-08 00:00:00', freq='D')],\n [Timestamp('2019-09-08 00:00:00', freq='D'),\n  '대파(일반)',\n  '0',\n  '2033',\n  '4000',\n  '키로단',\n  '29'],\n [Timestamp('2019-09-08 00:00:00', freq='D'),\n  '대파(일반)',\n  '0',\n  '1556',\n  '3275',\n  '키로단',\n  '29'],\n [Timestamp('2019-09-08 00:00:00', freq='D'),\n  '대파(일반)',\n  '0',\n  '1017',\n  '2977',\n  '키로단',\n  '29'],\n [Timestamp('2019-09-08 00:00:00', freq='D'),\n  '대파(일반)',\n  '0',\n  '842',\n  '2181',\n  '키로단',\n  '29']]"
     },
     "metadata": {},
     "output_type": "display_data"
    },
    {
     "data": {
      "text/plain": "[[Timestamp('2019-09-09 00:00:00', freq='D')],\n [Timestamp('2019-09-09 00:00:00', freq='D'),\n  '대파(일반)',\n  '2339',\n  '0',\n  '4000',\n  '키로단',\n  '29'],\n [Timestamp('2019-09-09 00:00:00', freq='D'),\n  '대파(일반)',\n  '1382',\n  '0',\n  '3275',\n  '키로단',\n  '29'],\n [Timestamp('2019-09-09 00:00:00', freq='D'),\n  '대파(일반)',\n  '815',\n  '0',\n  '2977',\n  '키로단',\n  '29'],\n [Timestamp('2019-09-09 00:00:00', freq='D'),\n  '대파(일반)',\n  '639',\n  '0',\n  '2181',\n  '키로단',\n  '29']]"
     },
     "metadata": {},
     "output_type": "display_data"
    },
    {
     "data": {
      "text/plain": "[[Timestamp('2019-09-10 00:00:00', freq='D')],\n [Timestamp('2019-09-10 00:00:00', freq='D'),\n  '대파(일반)',\n  '2375',\n  '2339',\n  '3673',\n  '키로단',\n  '29'],\n [Timestamp('2019-09-10 00:00:00', freq='D'),\n  '대파(일반)',\n  '1689',\n  '1382',\n  '2987',\n  '키로단',\n  '29'],\n [Timestamp('2019-09-10 00:00:00', freq='D'),\n  '대파(일반)',\n  '1359',\n  '815',\n  '2258',\n  '키로단',\n  '29'],\n [Timestamp('2019-09-10 00:00:00', freq='D'),\n  '대파(일반)',\n  '737',\n  '639',\n  '1802',\n  '키로단',\n  '29']]"
     },
     "metadata": {},
     "output_type": "display_data"
    },
    {
     "data": {
      "text/plain": "[[Timestamp('2019-09-11 00:00:00', freq='D')],\n [Timestamp('2019-09-11 00:00:00', freq='D'),\n  '대파(일반)',\n  '2454',\n  '2375',\n  '3600',\n  '키로단',\n  '29'],\n [Timestamp('2019-09-11 00:00:00', freq='D'),\n  '대파(일반)',\n  '2056',\n  '1689',\n  '2883',\n  '키로단',\n  '29'],\n [Timestamp('2019-09-11 00:00:00', freq='D'),\n  '대파(일반)',\n  '1570',\n  '1359',\n  '2211',\n  '키로단',\n  '29'],\n [Timestamp('2019-09-11 00:00:00', freq='D'),\n  '대파(일반)',\n  '1304',\n  '737',\n  '1806',\n  '키로단',\n  '29']]"
     },
     "metadata": {},
     "output_type": "display_data"
    },
    {
     "data": {
      "text/plain": "[[Timestamp('2019-09-12 00:00:00', freq='D')],\n [Timestamp('2019-09-12 00:00:00', freq='D'),\n  '대파(일반)',\n  '2684',\n  '2454',\n  '3498',\n  '키로단',\n  '29'],\n [Timestamp('2019-09-12 00:00:00', freq='D'),\n  '대파(일반)',\n  '2228',\n  '2056',\n  '2747',\n  '키로단',\n  '29'],\n [Timestamp('2019-09-12 00:00:00', freq='D'),\n  '대파(일반)',\n  '1747',\n  '1570',\n  '2257',\n  '키로단',\n  '29'],\n [Timestamp('2019-09-12 00:00:00', freq='D'),\n  '대파(일반)',\n  '1182',\n  '1304',\n  '1882',\n  '키로단',\n  '29']]"
     },
     "metadata": {},
     "output_type": "display_data"
    },
    {
     "data": {
      "text/plain": "[[Timestamp('2019-09-13 00:00:00', freq='D')],\n [Timestamp('2019-09-13 00:00:00', freq='D'),\n  '대파(일반)',\n  '0',\n  '2684',\n  '3352',\n  '키로단',\n  '29'],\n [Timestamp('2019-09-13 00:00:00', freq='D'),\n  '대파(일반)',\n  '0',\n  '2228',\n  '2758',\n  '키로단',\n  '29'],\n [Timestamp('2019-09-13 00:00:00', freq='D'),\n  '대파(일반)',\n  '0',\n  '1747',\n  '2334',\n  '키로단',\n  '29'],\n [Timestamp('2019-09-13 00:00:00', freq='D'),\n  '대파(일반)',\n  '0',\n  '1182',\n  '1942',\n  '키로단',\n  '29']]"
     },
     "metadata": {},
     "output_type": "display_data"
    },
    {
     "data": {
      "text/plain": "[[Timestamp('2019-09-14 00:00:00', freq='D')],\n [Timestamp('2019-09-14 00:00:00', freq='D'),\n  '대파(일반)',\n  '2684',\n  '0',\n  '3526',\n  '키로단',\n  '29'],\n [Timestamp('2019-09-14 00:00:00', freq='D'),\n  '대파(일반)',\n  '2228',\n  '0',\n  '2711',\n  '키로단',\n  '29'],\n [Timestamp('2019-09-14 00:00:00', freq='D'),\n  '대파(일반)',\n  '1747',\n  '0',\n  '2484',\n  '키로단',\n  '29'],\n [Timestamp('2019-09-14 00:00:00', freq='D'),\n  '대파(일반)',\n  '1182',\n  '0',\n  '1917',\n  '키로단',\n  '29']]"
     },
     "metadata": {},
     "output_type": "display_data"
    },
    {
     "data": {
      "text/plain": "[[Timestamp('2019-09-15 00:00:00', freq='D')],\n [Timestamp('2019-09-15 00:00:00', freq='D'),\n  '대파(일반)',\n  '0',\n  '2684',\n  '3564',\n  '키로단',\n  '29'],\n [Timestamp('2019-09-15 00:00:00', freq='D'),\n  '대파(일반)',\n  '0',\n  '2228',\n  '2824',\n  '키로단',\n  '29'],\n [Timestamp('2019-09-15 00:00:00', freq='D'),\n  '대파(일반)',\n  '0',\n  '1747',\n  '2369',\n  '키로단',\n  '29'],\n [Timestamp('2019-09-15 00:00:00', freq='D'),\n  '대파(일반)',\n  '0',\n  '1182',\n  '1872',\n  '키로단',\n  '29']]"
     },
     "metadata": {},
     "output_type": "display_data"
    },
    {
     "data": {
      "text/plain": "[[Timestamp('2019-09-16 00:00:00', freq='D')],\n [Timestamp('2019-09-16 00:00:00', freq='D'),\n  '대파(일반)',\n  '2372',\n  '0',\n  '3500',\n  '키로단',\n  '29'],\n [Timestamp('2019-09-16 00:00:00', freq='D'),\n  '대파(일반)',\n  '1792',\n  '0',\n  '2815',\n  '키로단',\n  '29'],\n [Timestamp('2019-09-16 00:00:00', freq='D'),\n  '대파(일반)',\n  '1237',\n  '0',\n  '2250',\n  '키로단',\n  '29'],\n [Timestamp('2019-09-16 00:00:00', freq='D'),\n  '대파(일반)',\n  '953',\n  '0',\n  '1802',\n  '키로단',\n  '29']]"
     },
     "metadata": {},
     "output_type": "display_data"
    },
    {
     "data": {
      "text/plain": "[[Timestamp('2019-09-17 00:00:00', freq='D')],\n [Timestamp('2019-09-17 00:00:00', freq='D'),\n  '대파(일반)',\n  '2270',\n  '2372',\n  '3692',\n  '키로단',\n  '29'],\n [Timestamp('2019-09-17 00:00:00', freq='D'),\n  '대파(일반)',\n  '2158',\n  '1792',\n  '2998',\n  '키로단',\n  '29'],\n [Timestamp('2019-09-17 00:00:00', freq='D'),\n  '대파(일반)',\n  '1426',\n  '1237',\n  '2262',\n  '키로단',\n  '29'],\n [Timestamp('2019-09-17 00:00:00', freq='D'),\n  '대파(일반)',\n  '983',\n  '953',\n  '1658',\n  '키로단',\n  '29']]"
     },
     "metadata": {},
     "output_type": "display_data"
    },
    {
     "data": {
      "text/plain": "[[Timestamp('2019-09-18 00:00:00', freq='D')],\n [Timestamp('2019-09-18 00:00:00', freq='D'),\n  '대파(일반)',\n  '2336',\n  '2270',\n  '3617',\n  '키로단',\n  '29'],\n [Timestamp('2019-09-18 00:00:00', freq='D'),\n  '대파(일반)',\n  '2084',\n  '2158',\n  '2679',\n  '키로단',\n  '29'],\n [Timestamp('2019-09-18 00:00:00', freq='D'),\n  '대파(일반)',\n  '1481',\n  '1426',\n  '2138',\n  '키로단',\n  '29'],\n [Timestamp('2019-09-18 00:00:00', freq='D'),\n  '대파(일반)',\n  '1008',\n  '983',\n  '1753',\n  '키로단',\n  '29']]"
     },
     "metadata": {},
     "output_type": "display_data"
    },
    {
     "data": {
      "text/plain": "[[Timestamp('2019-09-19 00:00:00', freq='D')],\n [Timestamp('2019-09-19 00:00:00', freq='D'),\n  '대파(일반)',\n  '2128',\n  '2336',\n  '3588',\n  '키로단',\n  '29'],\n [Timestamp('2019-09-19 00:00:00', freq='D'),\n  '대파(일반)',\n  '1782',\n  '2084',\n  '2694',\n  '키로단',\n  '29'],\n [Timestamp('2019-09-19 00:00:00', freq='D'),\n  '대파(일반)',\n  '1301',\n  '1481',\n  '2194',\n  '키로단',\n  '29'],\n [Timestamp('2019-09-19 00:00:00', freq='D'),\n  '대파(일반)',\n  '976',\n  '1008',\n  '1754',\n  '키로단',\n  '29']]"
     },
     "metadata": {},
     "output_type": "display_data"
    },
    {
     "data": {
      "text/plain": "[[Timestamp('2019-09-20 00:00:00', freq='D')],\n [Timestamp('2019-09-20 00:00:00', freq='D'),\n  '대파(일반)',\n  '2219',\n  '2128',\n  '3776',\n  '키로단',\n  '29'],\n [Timestamp('2019-09-20 00:00:00', freq='D'),\n  '대파(일반)',\n  '1845',\n  '1782',\n  '2910',\n  '키로단',\n  '29'],\n [Timestamp('2019-09-20 00:00:00', freq='D'),\n  '대파(일반)',\n  '1255',\n  '1301',\n  '2384',\n  '키로단',\n  '29'],\n [Timestamp('2019-09-20 00:00:00', freq='D'),\n  '대파(일반)',\n  '886',\n  '976',\n  '1479',\n  '키로단',\n  '29']]"
     },
     "metadata": {},
     "output_type": "display_data"
    },
    {
     "data": {
      "text/plain": "[[Timestamp('2019-09-21 00:00:00', freq='D')],\n [Timestamp('2019-09-21 00:00:00', freq='D'),\n  '대파(일반)',\n  '2217',\n  '2219',\n  '10749',\n  '키로단',\n  '29'],\n [Timestamp('2019-09-21 00:00:00', freq='D'),\n  '대파(일반)',\n  '1749',\n  '1845',\n  '2971',\n  '키로단',\n  '29'],\n [Timestamp('2019-09-21 00:00:00', freq='D'),\n  '대파(일반)',\n  '1267',\n  '1255',\n  '2371',\n  '키로단',\n  '29'],\n [Timestamp('2019-09-21 00:00:00', freq='D'),\n  '대파(일반)',\n  '905',\n  '886',\n  '1584',\n  '키로단',\n  '29']]"
     },
     "metadata": {},
     "output_type": "display_data"
    },
    {
     "data": {
      "text/plain": "[[Timestamp('2019-09-22 00:00:00', freq='D')],\n [Timestamp('2019-09-22 00:00:00', freq='D'),\n  '대파(일반)',\n  '0',\n  '2217',\n  '4119',\n  '키로단',\n  '29'],\n [Timestamp('2019-09-22 00:00:00', freq='D'),\n  '대파(일반)',\n  '0',\n  '1749',\n  '2951',\n  '키로단',\n  '29'],\n [Timestamp('2019-09-22 00:00:00', freq='D'),\n  '대파(일반)',\n  '0',\n  '1267',\n  '2495',\n  '키로단',\n  '29'],\n [Timestamp('2019-09-22 00:00:00', freq='D'),\n  '대파(일반)',\n  '0',\n  '905',\n  '1675',\n  '키로단',\n  '29']]"
     },
     "metadata": {},
     "output_type": "display_data"
    },
    {
     "data": {
      "text/plain": "[[Timestamp('2019-09-23 00:00:00', freq='D')],\n [Timestamp('2019-09-23 00:00:00', freq='D'),\n  '대파(일반)',\n  '2977',\n  '0',\n  '0',\n  '키로단',\n  '29'],\n [Timestamp('2019-09-23 00:00:00', freq='D'),\n  '대파(일반)',\n  '1857',\n  '0',\n  '0',\n  '키로단',\n  '29'],\n [Timestamp('2019-09-23 00:00:00', freq='D'),\n  '대파(일반)',\n  '1428',\n  '0',\n  '0',\n  '키로단',\n  '29'],\n [Timestamp('2019-09-23 00:00:00', freq='D'),\n  '대파(일반)',\n  '904',\n  '0',\n  '0',\n  '키로단',\n  '29']]"
     },
     "metadata": {},
     "output_type": "display_data"
    },
    {
     "data": {
      "text/plain": "[[Timestamp('2019-09-24 00:00:00', freq='D')],\n [Timestamp('2019-09-24 00:00:00', freq='D'),\n  '대파(일반)',\n  '2698',\n  '2977',\n  '0',\n  '키로단',\n  '29'],\n [Timestamp('2019-09-24 00:00:00', freq='D'),\n  '대파(일반)',\n  '2102',\n  '1857',\n  '0',\n  '키로단',\n  '29'],\n [Timestamp('2019-09-24 00:00:00', freq='D'),\n  '대파(일반)',\n  '1544',\n  '1428',\n  '0',\n  '키로단',\n  '29'],\n [Timestamp('2019-09-24 00:00:00', freq='D'),\n  '대파(일반)',\n  '1124',\n  '904',\n  '0',\n  '키로단',\n  '29']]"
     },
     "metadata": {},
     "output_type": "display_data"
    },
    {
     "data": {
      "text/plain": "[[Timestamp('2019-09-25 00:00:00', freq='D')],\n [Timestamp('2019-09-25 00:00:00', freq='D'),\n  '대파(일반)',\n  '2353',\n  '2698',\n  '0',\n  '키로단',\n  '29'],\n [Timestamp('2019-09-25 00:00:00', freq='D'),\n  '대파(일반)',\n  '2159',\n  '2102',\n  '0',\n  '키로단',\n  '29'],\n [Timestamp('2019-09-25 00:00:00', freq='D'),\n  '대파(일반)',\n  '1428',\n  '1544',\n  '0',\n  '키로단',\n  '29'],\n [Timestamp('2019-09-25 00:00:00', freq='D'),\n  '대파(일반)',\n  '1040',\n  '1124',\n  '0',\n  '키로단',\n  '29']]"
     },
     "metadata": {},
     "output_type": "display_data"
    },
    {
     "data": {
      "text/plain": "[[Timestamp('2019-09-26 00:00:00', freq='D')],\n [Timestamp('2019-09-26 00:00:00', freq='D'),\n  '대파(일반)',\n  '2200',\n  '2353',\n  '0',\n  '키로단',\n  '29'],\n [Timestamp('2019-09-26 00:00:00', freq='D'),\n  '대파(일반)',\n  '1931',\n  '2159',\n  '0',\n  '키로단',\n  '29'],\n [Timestamp('2019-09-26 00:00:00', freq='D'),\n  '대파(일반)',\n  '1174',\n  '1428',\n  '0',\n  '키로단',\n  '29'],\n [Timestamp('2019-09-26 00:00:00', freq='D'),\n  '대파(일반)',\n  '939',\n  '1040',\n  '0',\n  '키로단',\n  '29']]"
     },
     "metadata": {},
     "output_type": "display_data"
    },
    {
     "data": {
      "text/plain": "[[Timestamp('2019-09-27 00:00:00', freq='D')],\n [Timestamp('2019-09-27 00:00:00', freq='D'),\n  '대파(일반)',\n  '2200',\n  '2200',\n  '2200',\n  '키로단',\n  '29'],\n [Timestamp('2019-09-27 00:00:00', freq='D'),\n  '대파(일반)',\n  '1870',\n  '1931',\n  '2113',\n  '키로단',\n  '29'],\n [Timestamp('2019-09-27 00:00:00', freq='D'),\n  '대파(일반)',\n  '1181',\n  '1174',\n  '1867',\n  '키로단',\n  '29'],\n [Timestamp('2019-09-27 00:00:00', freq='D'),\n  '대파(일반)',\n  '944',\n  '939',\n  '1500',\n  '키로단',\n  '29']]"
     },
     "metadata": {},
     "output_type": "display_data"
    },
    {
     "data": {
      "text/plain": "[[Timestamp('2019-09-28 00:00:00', freq='D')],\n [Timestamp('2019-09-28 00:00:00', freq='D'),\n  '대파(일반)',\n  '2200',\n  '2200',\n  '3598',\n  '키로단',\n  '29'],\n [Timestamp('2019-09-28 00:00:00', freq='D'),\n  '대파(일반)',\n  '1978',\n  '1870',\n  '2883',\n  '키로단',\n  '29'],\n [Timestamp('2019-09-28 00:00:00', freq='D'),\n  '대파(일반)',\n  '1150',\n  '1181',\n  '2411',\n  '키로단',\n  '29'],\n [Timestamp('2019-09-28 00:00:00', freq='D'),\n  '대파(일반)',\n  '970',\n  '944',\n  '1924',\n  '키로단',\n  '29']]"
     },
     "metadata": {},
     "output_type": "display_data"
    },
    {
     "data": {
      "text/plain": "[[Timestamp('2019-09-29 00:00:00', freq='D')],\n [Timestamp('2019-09-29 00:00:00', freq='D'),\n  '대파(일반)',\n  '2200',\n  '2200',\n  '3465',\n  '키로단',\n  '29'],\n [Timestamp('2019-09-29 00:00:00', freq='D'),\n  '대파(일반)',\n  '1762',\n  '1978',\n  '2931',\n  '키로단',\n  '29'],\n [Timestamp('2019-09-29 00:00:00', freq='D'),\n  '대파(일반)',\n  '1041',\n  '1150',\n  '2419',\n  '키로단',\n  '29'],\n [Timestamp('2019-09-29 00:00:00', freq='D'),\n  '대파(일반)',\n  '964',\n  '970',\n  '1889',\n  '키로단',\n  '29']]"
     },
     "metadata": {},
     "output_type": "display_data"
    },
    {
     "data": {
      "text/plain": "[[Timestamp('2019-09-30 00:00:00', freq='D')],\n [Timestamp('2019-09-30 00:00:00', freq='D'),\n  '대파(일반)',\n  '2291',\n  '2200',\n  '3500',\n  '키로단',\n  '29'],\n [Timestamp('2019-09-30 00:00:00', freq='D'),\n  '대파(일반)',\n  '1668',\n  '1762',\n  '3220',\n  '키로단',\n  '29'],\n [Timestamp('2019-09-30 00:00:00', freq='D'),\n  '대파(일반)',\n  '1233',\n  '1041',\n  '2080',\n  '키로단',\n  '29'],\n [Timestamp('2019-09-30 00:00:00', freq='D'),\n  '대파(일반)',\n  '881',\n  '964',\n  '1734',\n  '키로단',\n  '29']]"
     },
     "metadata": {},
     "output_type": "display_data"
    },
    {
     "data": {
      "text/plain": "[[Timestamp('2019-10-01 00:00:00', freq='D')],\n [Timestamp('2019-10-01 00:00:00', freq='D'),\n  '대파(일반)',\n  '2264',\n  '2291',\n  '4000',\n  '키로단',\n  '29'],\n [Timestamp('2019-10-01 00:00:00', freq='D'),\n  '대파(일반)',\n  '1742',\n  '1668',\n  '3567',\n  '키로단',\n  '29'],\n [Timestamp('2019-10-01 00:00:00', freq='D'),\n  '대파(일반)',\n  '1222',\n  '1233',\n  '2467',\n  '키로단',\n  '29'],\n [Timestamp('2019-10-01 00:00:00', freq='D'),\n  '대파(일반)',\n  '932',\n  '881',\n  '2055',\n  '키로단',\n  '29']]"
     },
     "metadata": {},
     "output_type": "display_data"
    },
    {
     "data": {
      "text/plain": "[[Timestamp('2019-10-02 00:00:00', freq='D')],\n [Timestamp('2019-10-02 00:00:00', freq='D'),\n  '대파(일반)',\n  '2188',\n  '2264',\n  '3943',\n  '키로단',\n  '29'],\n [Timestamp('2019-10-02 00:00:00', freq='D'),\n  '대파(일반)',\n  '1736',\n  '1742',\n  '2887',\n  '키로단',\n  '29'],\n [Timestamp('2019-10-02 00:00:00', freq='D'),\n  '대파(일반)',\n  '1305',\n  '1222',\n  '2219',\n  '키로단',\n  '29'],\n [Timestamp('2019-10-02 00:00:00', freq='D'),\n  '대파(일반)',\n  '1038',\n  '932',\n  '1984',\n  '키로단',\n  '29']]"
     },
     "metadata": {},
     "output_type": "display_data"
    },
    {
     "data": {
      "text/plain": "[[Timestamp('2019-10-03 00:00:00', freq='D')],\n [Timestamp('2019-10-03 00:00:00', freq='D'),\n  '대파(일반)',\n  '1971',\n  '2188',\n  '3351',\n  '키로단',\n  '29'],\n [Timestamp('2019-10-03 00:00:00', freq='D'),\n  '대파(일반)',\n  '1590',\n  '1736',\n  '2362',\n  '키로단',\n  '29'],\n [Timestamp('2019-10-03 00:00:00', freq='D'),\n  '대파(일반)',\n  '1279',\n  '1305',\n  '2191',\n  '키로단',\n  '29'],\n [Timestamp('2019-10-03 00:00:00', freq='D'),\n  '대파(일반)',\n  '1109',\n  '1038',\n  '1905',\n  '키로단',\n  '29']]"
     },
     "metadata": {},
     "output_type": "display_data"
    },
    {
     "data": {
      "text/plain": "[[Timestamp('2019-10-04 00:00:00', freq='D')],\n [Timestamp('2019-10-04 00:00:00', freq='D'),\n  '대파(일반)',\n  '2170',\n  '1971',\n  '3251',\n  '키로단',\n  '29'],\n [Timestamp('2019-10-04 00:00:00', freq='D'),\n  '대파(일반)',\n  '1647',\n  '1590',\n  '2328',\n  '키로단',\n  '29'],\n [Timestamp('2019-10-04 00:00:00', freq='D'),\n  '대파(일반)',\n  '1267',\n  '1279',\n  '2133',\n  '키로단',\n  '29'],\n [Timestamp('2019-10-04 00:00:00', freq='D'),\n  '대파(일반)',\n  '1048',\n  '1109',\n  '1665',\n  '키로단',\n  '29']]"
     },
     "metadata": {},
     "output_type": "display_data"
    },
    {
     "data": {
      "text/plain": "[[Timestamp('2019-10-05 00:00:00', freq='D')],\n [Timestamp('2019-10-05 00:00:00', freq='D'),\n  '대파(일반)',\n  '2251',\n  '2170',\n  '3168',\n  '키로단',\n  '29'],\n [Timestamp('2019-10-05 00:00:00', freq='D'),\n  '대파(일반)',\n  '1771',\n  '1647',\n  '2339',\n  '키로단',\n  '29'],\n [Timestamp('2019-10-05 00:00:00', freq='D'),\n  '대파(일반)',\n  '1487',\n  '1267',\n  '1916',\n  '키로단',\n  '29'],\n [Timestamp('2019-10-05 00:00:00', freq='D'),\n  '대파(일반)',\n  '835',\n  '1048',\n  '1294',\n  '키로단',\n  '29']]"
     },
     "metadata": {},
     "output_type": "display_data"
    },
    {
     "data": {
      "text/plain": "[[Timestamp('2019-10-06 00:00:00', freq='D')],\n [Timestamp('2019-10-06 00:00:00', freq='D'),\n  '대파(일반)',\n  '0',\n  '2251',\n  '3389',\n  '키로단',\n  '29'],\n [Timestamp('2019-10-06 00:00:00', freq='D'),\n  '대파(일반)',\n  '0',\n  '1771',\n  '2369',\n  '키로단',\n  '29'],\n [Timestamp('2019-10-06 00:00:00', freq='D'),\n  '대파(일반)',\n  '0',\n  '1487',\n  '2029',\n  '키로단',\n  '29'],\n [Timestamp('2019-10-06 00:00:00', freq='D'),\n  '대파(일반)',\n  '0',\n  '835',\n  '1274',\n  '키로단',\n  '29']]"
     },
     "metadata": {},
     "output_type": "display_data"
    },
    {
     "data": {
      "text/plain": "[[Timestamp('2019-10-07 00:00:00', freq='D')],\n [Timestamp('2019-10-07 00:00:00', freq='D'),\n  '대파(일반)',\n  '2154',\n  '0',\n  '3543',\n  '키로단',\n  '29'],\n [Timestamp('2019-10-07 00:00:00', freq='D'),\n  '대파(일반)',\n  '1772',\n  '0',\n  '2449',\n  '키로단',\n  '29'],\n [Timestamp('2019-10-07 00:00:00', freq='D'),\n  '대파(일반)',\n  '1412',\n  '0',\n  '2072',\n  '키로단',\n  '29'],\n [Timestamp('2019-10-07 00:00:00', freq='D'),\n  '대파(일반)',\n  '1092',\n  '0',\n  '1311',\n  '키로단',\n  '29']]"
     },
     "metadata": {},
     "output_type": "display_data"
    },
    {
     "data": {
      "text/plain": "[[Timestamp('2019-10-08 00:00:00', freq='D')],\n [Timestamp('2019-10-08 00:00:00', freq='D'),\n  '대파(일반)',\n  '2158',\n  '2154',\n  '3664',\n  '키로단',\n  '29'],\n [Timestamp('2019-10-08 00:00:00', freq='D'),\n  '대파(일반)',\n  '1704',\n  '1772',\n  '2861',\n  '키로단',\n  '29'],\n [Timestamp('2019-10-08 00:00:00', freq='D'),\n  '대파(일반)',\n  '1320',\n  '1412',\n  '2030',\n  '키로단',\n  '29'],\n [Timestamp('2019-10-08 00:00:00', freq='D'),\n  '대파(일반)',\n  '1127',\n  '1092',\n  '1479',\n  '키로단',\n  '29']]"
     },
     "metadata": {},
     "output_type": "display_data"
    },
    {
     "data": {
      "text/plain": "[[Timestamp('2019-10-09 00:00:00', freq='D')],\n [Timestamp('2019-10-09 00:00:00', freq='D'),\n  '대파(일반)',\n  '2138',\n  '2158',\n  '3504',\n  '키로단',\n  '29'],\n [Timestamp('2019-10-09 00:00:00', freq='D'),\n  '대파(일반)',\n  '1626',\n  '1704',\n  '2777',\n  '키로단',\n  '29'],\n [Timestamp('2019-10-09 00:00:00', freq='D'),\n  '대파(일반)',\n  '1272',\n  '1320',\n  '2129',\n  '키로단',\n  '29'],\n [Timestamp('2019-10-09 00:00:00', freq='D'),\n  '대파(일반)',\n  '1151',\n  '1127',\n  '1539',\n  '키로단',\n  '29']]"
     },
     "metadata": {},
     "output_type": "display_data"
    },
    {
     "data": {
      "text/plain": "[[Timestamp('2019-10-10 00:00:00', freq='D')],\n [Timestamp('2019-10-10 00:00:00', freq='D'),\n  '대파(일반)',\n  '2133',\n  '2138',\n  '3121',\n  '키로단',\n  '29'],\n [Timestamp('2019-10-10 00:00:00', freq='D'),\n  '대파(일반)',\n  '1612',\n  '1626',\n  '2614',\n  '키로단',\n  '29'],\n [Timestamp('2019-10-10 00:00:00', freq='D'),\n  '대파(일반)',\n  '1237',\n  '1272',\n  '1982',\n  '키로단',\n  '29'],\n [Timestamp('2019-10-10 00:00:00', freq='D'),\n  '대파(일반)',\n  '1189',\n  '1151',\n  '1719',\n  '키로단',\n  '29']]"
     },
     "metadata": {},
     "output_type": "display_data"
    },
    {
     "data": {
      "text/plain": "[[Timestamp('2019-10-11 00:00:00', freq='D')],\n [Timestamp('2019-10-11 00:00:00', freq='D'),\n  '대파(일반)',\n  '2200',\n  '2133',\n  '2905',\n  '키로단',\n  '29'],\n [Timestamp('2019-10-11 00:00:00', freq='D'),\n  '대파(일반)',\n  '2200',\n  '1612',\n  '2224',\n  '키로단',\n  '29'],\n [Timestamp('2019-10-11 00:00:00', freq='D'),\n  '대파(일반)',\n  '1595',\n  '1237',\n  '1788',\n  '키로단',\n  '29'],\n [Timestamp('2019-10-11 00:00:00', freq='D'),\n  '대파(일반)',\n  '1159',\n  '1189',\n  '1550',\n  '키로단',\n  '29']]"
     },
     "metadata": {},
     "output_type": "display_data"
    },
    {
     "data": {
      "text/plain": "[[Timestamp('2019-10-12 00:00:00', freq='D')],\n [Timestamp('2019-10-12 00:00:00', freq='D'),\n  '대파(일반)',\n  '2200',\n  '2200',\n  '2713',\n  '키로단',\n  '29'],\n [Timestamp('2019-10-12 00:00:00', freq='D'),\n  '대파(일반)',\n  '2200',\n  '2200',\n  '2011',\n  '키로단',\n  '29'],\n [Timestamp('2019-10-12 00:00:00', freq='D'),\n  '대파(일반)',\n  '1877',\n  '1595',\n  '1621',\n  '키로단',\n  '29'],\n [Timestamp('2019-10-12 00:00:00', freq='D'),\n  '대파(일반)',\n  '1146',\n  '1159',\n  '1381',\n  '키로단',\n  '29']]"
     },
     "metadata": {},
     "output_type": "display_data"
    },
    {
     "data": {
      "text/plain": "[[Timestamp('2019-10-13 00:00:00', freq='D')],\n [Timestamp('2019-10-13 00:00:00', freq='D'),\n  '대파(일반)',\n  '0',\n  '2200',\n  '2567',\n  '키로단',\n  '29'],\n [Timestamp('2019-10-13 00:00:00', freq='D'),\n  '대파(일반)',\n  '0',\n  '2200',\n  '1942',\n  '키로단',\n  '29'],\n [Timestamp('2019-10-13 00:00:00', freq='D'),\n  '대파(일반)',\n  '0',\n  '1877',\n  '1476',\n  '키로단',\n  '29'],\n [Timestamp('2019-10-13 00:00:00', freq='D'),\n  '대파(일반)',\n  '0',\n  '1146',\n  '1370',\n  '키로단',\n  '29']]"
     },
     "metadata": {},
     "output_type": "display_data"
    },
    {
     "data": {
      "text/plain": "[[Timestamp('2019-10-14 00:00:00', freq='D')],\n [Timestamp('2019-10-14 00:00:00', freq='D'),\n  '대파(일반)',\n  '2060',\n  '0',\n  '0',\n  '키로단',\n  '29'],\n [Timestamp('2019-10-14 00:00:00', freq='D'),\n  '대파(일반)',\n  '1660',\n  '0',\n  '0',\n  '키로단',\n  '29'],\n [Timestamp('2019-10-14 00:00:00', freq='D'),\n  '대파(일반)',\n  '1211',\n  '0',\n  '0',\n  '키로단',\n  '29'],\n [Timestamp('2019-10-14 00:00:00', freq='D'),\n  '대파(일반)',\n  '1010',\n  '0',\n  '0',\n  '키로단',\n  '29']]"
     },
     "metadata": {},
     "output_type": "display_data"
    },
    {
     "data": {
      "text/plain": "[[Timestamp('2019-10-15 00:00:00', freq='D')],\n [Timestamp('2019-10-15 00:00:00', freq='D'),\n  '대파(일반)',\n  '2200',\n  '2060',\n  '2463',\n  '키로단',\n  '29'],\n [Timestamp('2019-10-15 00:00:00', freq='D'),\n  '대파(일반)',\n  '1957',\n  '1660',\n  '1957',\n  '키로단',\n  '29'],\n [Timestamp('2019-10-15 00:00:00', freq='D'),\n  '대파(일반)',\n  '1396',\n  '1211',\n  '1587',\n  '키로단',\n  '29'],\n [Timestamp('2019-10-15 00:00:00', freq='D'),\n  '대파(일반)',\n  '1125',\n  '1010',\n  '1270',\n  '키로단',\n  '29']]"
     },
     "metadata": {},
     "output_type": "display_data"
    },
    {
     "data": {
      "text/plain": "[[Timestamp('2019-10-16 00:00:00', freq='D')],\n [Timestamp('2019-10-16 00:00:00', freq='D'),\n  '대파(일반)',\n  '2200',\n  '2200',\n  '2394',\n  '키로단',\n  '29'],\n [Timestamp('2019-10-16 00:00:00', freq='D'),\n  '대파(일반)',\n  '2034',\n  '1957',\n  '1917',\n  '키로단',\n  '29'],\n [Timestamp('2019-10-16 00:00:00', freq='D'),\n  '대파(일반)',\n  '1361',\n  '1396',\n  '1575',\n  '키로단',\n  '29'],\n [Timestamp('2019-10-16 00:00:00', freq='D'),\n  '대파(일반)',\n  '1075',\n  '1125',\n  '1279',\n  '키로단',\n  '29']]"
     },
     "metadata": {},
     "output_type": "display_data"
    },
    {
     "data": {
      "text/plain": "[[Timestamp('2019-10-17 00:00:00', freq='D')],\n [Timestamp('2019-10-17 00:00:00', freq='D'),\n  '대파(일반)',\n  '2200',\n  '2200',\n  '2671',\n  '키로단',\n  '29'],\n [Timestamp('2019-10-17 00:00:00', freq='D'),\n  '대파(일반)',\n  '1716',\n  '2034',\n  '1969',\n  '키로단',\n  '29'],\n [Timestamp('2019-10-17 00:00:00', freq='D'),\n  '대파(일반)',\n  '1210',\n  '1361',\n  '1519',\n  '키로단',\n  '29'],\n [Timestamp('2019-10-17 00:00:00', freq='D'),\n  '대파(일반)',\n  '971',\n  '1075',\n  '1199',\n  '키로단',\n  '29']]"
     },
     "metadata": {},
     "output_type": "display_data"
    },
    {
     "data": {
      "text/plain": "[[Timestamp('2019-10-18 00:00:00', freq='D')],\n [Timestamp('2019-10-18 00:00:00', freq='D'),\n  '대파(일반)',\n  '1935',\n  '2200',\n  '2696',\n  '키로단',\n  '29'],\n [Timestamp('2019-10-18 00:00:00', freq='D'),\n  '대파(일반)',\n  '1488',\n  '1716',\n  '1799',\n  '키로단',\n  '29'],\n [Timestamp('2019-10-18 00:00:00', freq='D'),\n  '대파(일반)',\n  '1221',\n  '1210',\n  '1368',\n  '키로단',\n  '29'],\n [Timestamp('2019-10-18 00:00:00', freq='D'),\n  '대파(일반)',\n  '904',\n  '971',\n  '977',\n  '키로단',\n  '29']]"
     },
     "metadata": {},
     "output_type": "display_data"
    },
    {
     "data": {
      "text/plain": "[[Timestamp('2019-10-19 00:00:00', freq='D')],\n [Timestamp('2019-10-19 00:00:00', freq='D'),\n  '대파(일반)',\n  '2016',\n  '1935',\n  '2421',\n  '키로단',\n  '29'],\n [Timestamp('2019-10-19 00:00:00', freq='D'),\n  '대파(일반)',\n  '1491',\n  '1488',\n  '1750',\n  '키로단',\n  '29'],\n [Timestamp('2019-10-19 00:00:00', freq='D'),\n  '대파(일반)',\n  '1238',\n  '1221',\n  '1442',\n  '키로단',\n  '29'],\n [Timestamp('2019-10-19 00:00:00', freq='D'),\n  '대파(일반)',\n  '868',\n  '904',\n  '1016',\n  '키로단',\n  '29']]"
     },
     "metadata": {},
     "output_type": "display_data"
    },
    {
     "data": {
      "text/plain": "[[Timestamp('2019-10-20 00:00:00', freq='D')],\n [Timestamp('2019-10-20 00:00:00', freq='D'),\n  '대파(일반)',\n  '0',\n  '2016',\n  '2597',\n  '키로단',\n  '29'],\n [Timestamp('2019-10-20 00:00:00', freq='D'),\n  '대파(일반)',\n  '0',\n  '1491',\n  '1891',\n  '키로단',\n  '29'],\n [Timestamp('2019-10-20 00:00:00', freq='D'),\n  '대파(일반)',\n  '0',\n  '1238',\n  '1504',\n  '키로단',\n  '29'],\n [Timestamp('2019-10-20 00:00:00', freq='D'),\n  '대파(일반)',\n  '0',\n  '868',\n  '1302',\n  '키로단',\n  '29']]"
     },
     "metadata": {},
     "output_type": "display_data"
    },
    {
     "data": {
      "text/plain": "[[Timestamp('2019-10-21 00:00:00', freq='D')],\n [Timestamp('2019-10-21 00:00:00', freq='D'),\n  '대파(일반)',\n  '2119',\n  '0',\n  '0',\n  '키로단',\n  '29'],\n [Timestamp('2019-10-21 00:00:00', freq='D'),\n  '대파(일반)',\n  '1510',\n  '0',\n  '0',\n  '키로단',\n  '29'],\n [Timestamp('2019-10-21 00:00:00', freq='D'),\n  '대파(일반)',\n  '956',\n  '0',\n  '0',\n  '키로단',\n  '29'],\n [Timestamp('2019-10-21 00:00:00', freq='D'),\n  '대파(일반)',\n  '625',\n  '0',\n  '0',\n  '키로단',\n  '29']]"
     },
     "metadata": {},
     "output_type": "display_data"
    },
    {
     "data": {
      "text/plain": "[[Timestamp('2019-10-22 00:00:00', freq='D')],\n [Timestamp('2019-10-22 00:00:00', freq='D'),\n  '대파(일반)',\n  '2092',\n  '2119',\n  '2591',\n  '키로단',\n  '29'],\n [Timestamp('2019-10-22 00:00:00', freq='D'),\n  '대파(일반)',\n  '1550',\n  '1510',\n  '2070',\n  '키로단',\n  '29'],\n [Timestamp('2019-10-22 00:00:00', freq='D'),\n  '대파(일반)',\n  '1237',\n  '956',\n  '1381',\n  '키로단',\n  '29'],\n [Timestamp('2019-10-22 00:00:00', freq='D'),\n  '대파(일반)',\n  '825',\n  '625',\n  '1103',\n  '키로단',\n  '29']]"
     },
     "metadata": {},
     "output_type": "display_data"
    },
    {
     "data": {
      "text/plain": "[[Timestamp('2019-10-23 00:00:00', freq='D')],\n [Timestamp('2019-10-23 00:00:00', freq='D'),\n  '대파(일반)',\n  '2007',\n  '2092',\n  '2584',\n  '키로단',\n  '29'],\n [Timestamp('2019-10-23 00:00:00', freq='D'),\n  '대파(일반)',\n  '1626',\n  '1550',\n  '2014',\n  '키로단',\n  '29'],\n [Timestamp('2019-10-23 00:00:00', freq='D'),\n  '대파(일반)',\n  '1320',\n  '1237',\n  '1501',\n  '키로단',\n  '29'],\n [Timestamp('2019-10-23 00:00:00', freq='D'),\n  '대파(일반)',\n  '959',\n  '825',\n  '1116',\n  '키로단',\n  '29']]"
     },
     "metadata": {},
     "output_type": "display_data"
    },
    {
     "data": {
      "text/plain": "[[Timestamp('2019-10-24 00:00:00', freq='D')],\n [Timestamp('2019-10-24 00:00:00', freq='D'),\n  '대파(일반)',\n  '1927',\n  '2007',\n  '2585',\n  '키로단',\n  '29'],\n [Timestamp('2019-10-24 00:00:00', freq='D'),\n  '대파(일반)',\n  '1700',\n  '1626',\n  '1931',\n  '키로단',\n  '29'],\n [Timestamp('2019-10-24 00:00:00', freq='D'),\n  '대파(일반)',\n  '1329',\n  '1320',\n  '1482',\n  '키로단',\n  '29'],\n [Timestamp('2019-10-24 00:00:00', freq='D'),\n  '대파(일반)',\n  '856',\n  '959',\n  '1142',\n  '키로단',\n  '29']]"
     },
     "metadata": {},
     "output_type": "display_data"
    },
    {
     "data": {
      "text/plain": "[[Timestamp('2019-10-25 00:00:00', freq='D')],\n [Timestamp('2019-10-25 00:00:00', freq='D'),\n  '대파(일반)',\n  '1905',\n  '1927',\n  '2767',\n  '키로단',\n  '29'],\n [Timestamp('2019-10-25 00:00:00', freq='D'),\n  '대파(일반)',\n  '1642',\n  '1700',\n  '1948',\n  '키로단',\n  '29'],\n [Timestamp('2019-10-25 00:00:00', freq='D'),\n  '대파(일반)',\n  '1319',\n  '1329',\n  '1413',\n  '키로단',\n  '29'],\n [Timestamp('2019-10-25 00:00:00', freq='D'),\n  '대파(일반)',\n  '737',\n  '856',\n  '1173',\n  '키로단',\n  '29']]"
     },
     "metadata": {},
     "output_type": "display_data"
    },
    {
     "data": {
      "text/plain": "[[Timestamp('2019-10-26 00:00:00', freq='D')],\n [Timestamp('2019-10-26 00:00:00', freq='D'),\n  '대파(일반)',\n  '1872',\n  '1905',\n  '2702',\n  '키로단',\n  '29'],\n [Timestamp('2019-10-26 00:00:00', freq='D'),\n  '대파(일반)',\n  '1419',\n  '1642',\n  '1858',\n  '키로단',\n  '29'],\n [Timestamp('2019-10-26 00:00:00', freq='D'),\n  '대파(일반)',\n  '1189',\n  '1319',\n  '1366',\n  '키로단',\n  '29'],\n [Timestamp('2019-10-26 00:00:00', freq='D'),\n  '대파(일반)',\n  '717',\n  '737',\n  '1188',\n  '키로단',\n  '29']]"
     },
     "metadata": {},
     "output_type": "display_data"
    },
    {
     "data": {
      "text/plain": "[[Timestamp('2019-10-27 00:00:00', freq='D')],\n [Timestamp('2019-10-27 00:00:00', freq='D'),\n  '대파(일반)',\n  '0',\n  '1872',\n  '2435',\n  '키로단',\n  '29'],\n [Timestamp('2019-10-27 00:00:00', freq='D'),\n  '대파(일반)',\n  '0',\n  '1419',\n  '1661',\n  '키로단',\n  '29'],\n [Timestamp('2019-10-27 00:00:00', freq='D'),\n  '대파(일반)',\n  '0',\n  '1189',\n  '1396',\n  '키로단',\n  '29'],\n [Timestamp('2019-10-27 00:00:00', freq='D'),\n  '대파(일반)',\n  '0',\n  '717',\n  '1202',\n  '키로단',\n  '29']]"
     },
     "metadata": {},
     "output_type": "display_data"
    },
    {
     "data": {
      "text/plain": "[[Timestamp('2019-10-28 00:00:00', freq='D')],\n [Timestamp('2019-10-28 00:00:00', freq='D'),\n  '대파(일반)',\n  '2196',\n  '0',\n  '0',\n  '키로단',\n  '29'],\n [Timestamp('2019-10-28 00:00:00', freq='D'),\n  '대파(일반)',\n  '1500',\n  '0',\n  '0',\n  '키로단',\n  '29'],\n [Timestamp('2019-10-28 00:00:00', freq='D'),\n  '대파(일반)',\n  '989',\n  '0',\n  '0',\n  '키로단',\n  '29'],\n [Timestamp('2019-10-28 00:00:00', freq='D'),\n  '대파(일반)',\n  '726',\n  '0',\n  '0',\n  '키로단',\n  '29']]"
     },
     "metadata": {},
     "output_type": "display_data"
    },
    {
     "data": {
      "text/plain": "[[Timestamp('2019-10-29 00:00:00', freq='D')],\n [Timestamp('2019-10-29 00:00:00', freq='D'),\n  '대파(일반)',\n  '2202',\n  '2196',\n  '2472',\n  '키로단',\n  '29'],\n [Timestamp('2019-10-29 00:00:00', freq='D'),\n  '대파(일반)',\n  '1794',\n  '1500',\n  '2150',\n  '키로단',\n  '29'],\n [Timestamp('2019-10-29 00:00:00', freq='D'),\n  '대파(일반)',\n  '1357',\n  '989',\n  '1687',\n  '키로단',\n  '29'],\n [Timestamp('2019-10-29 00:00:00', freq='D'),\n  '대파(일반)',\n  '785',\n  '726',\n  '1210',\n  '키로단',\n  '29']]"
     },
     "metadata": {},
     "output_type": "display_data"
    },
    {
     "data": {
      "text/plain": "[[Timestamp('2019-10-30 00:00:00', freq='D')],\n [Timestamp('2019-10-30 00:00:00', freq='D'),\n  '대파(일반)',\n  '2169',\n  '2202',\n  '3902',\n  '키로단',\n  '29'],\n [Timestamp('2019-10-30 00:00:00', freq='D'),\n  '대파(일반)',\n  '1747',\n  '1794',\n  '2395',\n  '키로단',\n  '29'],\n [Timestamp('2019-10-30 00:00:00', freq='D'),\n  '대파(일반)',\n  '1290',\n  '1357',\n  '1623',\n  '키로단',\n  '29'],\n [Timestamp('2019-10-30 00:00:00', freq='D'),\n  '대파(일반)',\n  '853',\n  '785',\n  '1252',\n  '키로단',\n  '29']]"
     },
     "metadata": {},
     "output_type": "display_data"
    },
    {
     "data": {
      "text/plain": "[[Timestamp('2019-10-31 00:00:00', freq='D')],\n [Timestamp('2019-10-31 00:00:00', freq='D'),\n  '대파(일반)',\n  '2296',\n  '2169',\n  '3775',\n  '키로단',\n  '29'],\n [Timestamp('2019-10-31 00:00:00', freq='D'),\n  '대파(일반)',\n  '1600',\n  '1747',\n  '2237',\n  '키로단',\n  '29'],\n [Timestamp('2019-10-31 00:00:00', freq='D'),\n  '대파(일반)',\n  '1072',\n  '1290',\n  '1533',\n  '키로단',\n  '29'],\n [Timestamp('2019-10-31 00:00:00', freq='D'),\n  '대파(일반)',\n  '862',\n  '853',\n  '1355',\n  '키로단',\n  '29']]"
     },
     "metadata": {},
     "output_type": "display_data"
    },
    {
     "data": {
      "text/plain": "[[Timestamp('2019-11-01 00:00:00', freq='D')],\n [Timestamp('2019-11-01 00:00:00', freq='D'),\n  '대파(일반)',\n  '2446',\n  '2296',\n  '2435',\n  '키로단',\n  '29'],\n [Timestamp('2019-11-01 00:00:00', freq='D'),\n  '대파(일반)',\n  '1587',\n  '1600',\n  '1882',\n  '키로단',\n  '29'],\n [Timestamp('2019-11-01 00:00:00', freq='D'),\n  '대파(일반)',\n  '1065',\n  '1072',\n  '1450',\n  '키로단',\n  '29'],\n [Timestamp('2019-11-01 00:00:00', freq='D'),\n  '대파(일반)',\n  '847',\n  '862',\n  '1203',\n  '키로단',\n  '29']]"
     },
     "metadata": {},
     "output_type": "display_data"
    },
    {
     "data": {
      "text/plain": "[[Timestamp('2019-11-02 00:00:00', freq='D')],\n [Timestamp('2019-11-02 00:00:00', freq='D'),\n  '대파(일반)',\n  '2240',\n  '2446',\n  '2489',\n  '키로단',\n  '29'],\n [Timestamp('2019-11-02 00:00:00', freq='D'),\n  '대파(일반)',\n  '1443',\n  '1587',\n  '1806',\n  '키로단',\n  '29'],\n [Timestamp('2019-11-02 00:00:00', freq='D'),\n  '대파(일반)',\n  '1223',\n  '1065',\n  '1397',\n  '키로단',\n  '29'],\n [Timestamp('2019-11-02 00:00:00', freq='D'),\n  '대파(일반)',\n  '935',\n  '847',\n  '1200',\n  '키로단',\n  '29']]"
     },
     "metadata": {},
     "output_type": "display_data"
    },
    {
     "data": {
      "text/plain": "[[Timestamp('2019-11-03 00:00:00', freq='D')],\n [Timestamp('2019-11-03 00:00:00', freq='D'),\n  '대파(일반)',\n  '0',\n  '2240',\n  '2562',\n  '키로단',\n  '29'],\n [Timestamp('2019-11-03 00:00:00', freq='D'),\n  '대파(일반)',\n  '0',\n  '1443',\n  '1742',\n  '키로단',\n  '29'],\n [Timestamp('2019-11-03 00:00:00', freq='D'),\n  '대파(일반)',\n  '0',\n  '1223',\n  '1516',\n  '키로단',\n  '29'],\n [Timestamp('2019-11-03 00:00:00', freq='D'),\n  '대파(일반)',\n  '0',\n  '935',\n  '1231',\n  '키로단',\n  '29']]"
     },
     "metadata": {},
     "output_type": "display_data"
    },
    {
     "data": {
      "text/plain": "[[Timestamp('2019-11-04 00:00:00', freq='D')],\n [Timestamp('2019-11-04 00:00:00', freq='D'),\n  '대파(일반)',\n  '2238',\n  '0',\n  '0',\n  '키로단',\n  '29'],\n [Timestamp('2019-11-04 00:00:00', freq='D'),\n  '대파(일반)',\n  '1582',\n  '0',\n  '0',\n  '키로단',\n  '29'],\n [Timestamp('2019-11-04 00:00:00', freq='D'),\n  '대파(일반)',\n  '1030',\n  '0',\n  '0',\n  '키로단',\n  '29'],\n [Timestamp('2019-11-04 00:00:00', freq='D'),\n  '대파(일반)',\n  '849',\n  '0',\n  '0',\n  '키로단',\n  '29']]"
     },
     "metadata": {},
     "output_type": "display_data"
    },
    {
     "data": {
      "text/plain": "[[Timestamp('2019-11-05 00:00:00', freq='D')],\n [Timestamp('2019-11-05 00:00:00', freq='D'),\n  '대파(일반)',\n  '2168',\n  '2238',\n  '2733',\n  '키로단',\n  '29'],\n [Timestamp('2019-11-05 00:00:00', freq='D'),\n  '대파(일반)',\n  '1403',\n  '1582',\n  '1668',\n  '키로단',\n  '29'],\n [Timestamp('2019-11-05 00:00:00', freq='D'),\n  '대파(일반)',\n  '1194',\n  '1030',\n  '1200',\n  '키로단',\n  '29'],\n [Timestamp('2019-11-05 00:00:00', freq='D'),\n  '대파(일반)',\n  '893',\n  '849',\n  '1046',\n  '키로단',\n  '29']]"
     },
     "metadata": {},
     "output_type": "display_data"
    },
    {
     "data": {
      "text/plain": "[[Timestamp('2019-11-06 00:00:00', freq='D')],\n [Timestamp('2019-11-06 00:00:00', freq='D'),\n  '대파(일반)',\n  '1956',\n  '2168',\n  '2666',\n  '키로단',\n  '29'],\n [Timestamp('2019-11-06 00:00:00', freq='D'),\n  '대파(일반)',\n  '1442',\n  '1403',\n  '1577',\n  '키로단',\n  '29'],\n [Timestamp('2019-11-06 00:00:00', freq='D'),\n  '대파(일반)',\n  '1279',\n  '1194',\n  '1224',\n  '키로단',\n  '29'],\n [Timestamp('2019-11-06 00:00:00', freq='D'),\n  '대파(일반)',\n  '895',\n  '893',\n  '1036',\n  '키로단',\n  '29']]"
     },
     "metadata": {},
     "output_type": "display_data"
    },
    {
     "data": {
      "text/plain": "[[Timestamp('2019-11-07 00:00:00', freq='D')],\n [Timestamp('2019-11-07 00:00:00', freq='D'),\n  '대파(일반)',\n  '1748',\n  '1956',\n  '2549',\n  '키로단',\n  '29'],\n [Timestamp('2019-11-07 00:00:00', freq='D'),\n  '대파(일반)',\n  '1398',\n  '1442',\n  '1509',\n  '키로단',\n  '29'],\n [Timestamp('2019-11-07 00:00:00', freq='D'),\n  '대파(일반)',\n  '1139',\n  '1279',\n  '1220',\n  '키로단',\n  '29'],\n [Timestamp('2019-11-07 00:00:00', freq='D'),\n  '대파(일반)',\n  '854',\n  '895',\n  '1060',\n  '키로단',\n  '29']]"
     },
     "metadata": {},
     "output_type": "display_data"
    },
    {
     "data": {
      "text/plain": "[[Timestamp('2019-11-08 00:00:00', freq='D')],\n [Timestamp('2019-11-08 00:00:00', freq='D'),\n  '대파(일반)',\n  '1604',\n  '1748',\n  '2478',\n  '키로단',\n  '29'],\n [Timestamp('2019-11-08 00:00:00', freq='D'),\n  '대파(일반)',\n  '1206',\n  '1398',\n  '1547',\n  '키로단',\n  '29'],\n [Timestamp('2019-11-08 00:00:00', freq='D'),\n  '대파(일반)',\n  '1095',\n  '1139',\n  '1238',\n  '키로단',\n  '29'],\n [Timestamp('2019-11-08 00:00:00', freq='D'),\n  '대파(일반)',\n  '827',\n  '854',\n  '1032',\n  '키로단',\n  '29']]"
     },
     "metadata": {},
     "output_type": "display_data"
    },
    {
     "data": {
      "text/plain": "[[Timestamp('2019-11-09 00:00:00', freq='D')],\n [Timestamp('2019-11-09 00:00:00', freq='D'),\n  '대파(일반)',\n  '1624',\n  '1604',\n  '2769',\n  '키로단',\n  '29'],\n [Timestamp('2019-11-09 00:00:00', freq='D'),\n  '대파(일반)',\n  '1203',\n  '1206',\n  '1821',\n  '키로단',\n  '29'],\n [Timestamp('2019-11-09 00:00:00', freq='D'),\n  '대파(일반)',\n  '1072',\n  '1095',\n  '1366',\n  '키로단',\n  '29'],\n [Timestamp('2019-11-09 00:00:00', freq='D'),\n  '대파(일반)',\n  '804',\n  '827',\n  '1032',\n  '키로단',\n  '29']]"
     },
     "metadata": {},
     "output_type": "display_data"
    },
    {
     "data": {
      "text/plain": "[[Timestamp('2019-11-10 00:00:00', freq='D')],\n [Timestamp('2019-11-10 00:00:00', freq='D'),\n  '대파(일반)',\n  '0',\n  '1624',\n  '2870',\n  '키로단',\n  '29'],\n [Timestamp('2019-11-10 00:00:00', freq='D'),\n  '대파(일반)',\n  '0',\n  '1203',\n  '1926',\n  '키로단',\n  '29'],\n [Timestamp('2019-11-10 00:00:00', freq='D'),\n  '대파(일반)',\n  '0',\n  '1072',\n  '1444',\n  '키로단',\n  '29'],\n [Timestamp('2019-11-10 00:00:00', freq='D'),\n  '대파(일반)',\n  '0',\n  '804',\n  '1169',\n  '키로단',\n  '29']]"
     },
     "metadata": {},
     "output_type": "display_data"
    },
    {
     "data": {
      "text/plain": "[[Timestamp('2019-11-11 00:00:00', freq='D')],\n [Timestamp('2019-11-11 00:00:00', freq='D'),\n  '대파(일반)',\n  '2200',\n  '0',\n  '0',\n  '키로단',\n  '29'],\n [Timestamp('2019-11-11 00:00:00', freq='D'),\n  '대파(일반)',\n  '1529',\n  '0',\n  '0',\n  '키로단',\n  '29'],\n [Timestamp('2019-11-11 00:00:00', freq='D'),\n  '대파(일반)',\n  '895',\n  '0',\n  '0',\n  '키로단',\n  '29'],\n [Timestamp('2019-11-11 00:00:00', freq='D'),\n  '대파(일반)',\n  '728',\n  '0',\n  '0',\n  '키로단',\n  '29']]"
     },
     "metadata": {},
     "output_type": "display_data"
    },
    {
     "data": {
      "text/plain": "[[Timestamp('2019-11-12 00:00:00', freq='D')],\n [Timestamp('2019-11-12 00:00:00', freq='D'),\n  '대파(일반)',\n  '2051',\n  '2200',\n  '2907',\n  '키로단',\n  '29'],\n [Timestamp('2019-11-12 00:00:00', freq='D'),\n  '대파(일반)',\n  '1235',\n  '1529',\n  '2004',\n  '키로단',\n  '29'],\n [Timestamp('2019-11-12 00:00:00', freq='D'),\n  '대파(일반)',\n  '1011',\n  '895',\n  '1468',\n  '키로단',\n  '29'],\n [Timestamp('2019-11-12 00:00:00', freq='D'),\n  '대파(일반)',\n  '740',\n  '728',\n  '1166',\n  '키로단',\n  '29']]"
     },
     "metadata": {},
     "output_type": "display_data"
    },
    {
     "data": {
      "text/plain": "[[Timestamp('2019-11-13 00:00:00', freq='D')],\n [Timestamp('2019-11-13 00:00:00', freq='D'),\n  '대파(일반)',\n  '2061',\n  '2051',\n  '2711',\n  '키로단',\n  '29'],\n [Timestamp('2019-11-13 00:00:00', freq='D'),\n  '대파(일반)',\n  '1890',\n  '1235',\n  '2087',\n  '키로단',\n  '29'],\n [Timestamp('2019-11-13 00:00:00', freq='D'),\n  '대파(일반)',\n  '1192',\n  '1011',\n  '1528',\n  '키로단',\n  '29'],\n [Timestamp('2019-11-13 00:00:00', freq='D'),\n  '대파(일반)',\n  '864',\n  '740',\n  '1171',\n  '키로단',\n  '29']]"
     },
     "metadata": {},
     "output_type": "display_data"
    },
    {
     "data": {
      "text/plain": "[[Timestamp('2019-11-14 00:00:00', freq='D')],\n [Timestamp('2019-11-14 00:00:00', freq='D'),\n  '대파(일반)',\n  '2045',\n  '2061',\n  '2464',\n  '키로단',\n  '29'],\n [Timestamp('2019-11-14 00:00:00', freq='D'),\n  '대파(일반)',\n  '1744',\n  '1890',\n  '1986',\n  '키로단',\n  '29'],\n [Timestamp('2019-11-14 00:00:00', freq='D'),\n  '대파(일반)',\n  '1158',\n  '1192',\n  '1398',\n  '키로단',\n  '29'],\n [Timestamp('2019-11-14 00:00:00', freq='D'),\n  '대파(일반)',\n  '956',\n  '864',\n  '1200',\n  '키로단',\n  '29']]"
     },
     "metadata": {},
     "output_type": "display_data"
    },
    {
     "data": {
      "text/plain": "[[Timestamp('2019-11-15 00:00:00', freq='D')],\n [Timestamp('2019-11-15 00:00:00', freq='D'),\n  '대파(일반)',\n  '1959',\n  '2045',\n  '2508',\n  '키로단',\n  '29'],\n [Timestamp('2019-11-15 00:00:00', freq='D'),\n  '대파(일반)',\n  '1291',\n  '1744',\n  '1844',\n  '키로단',\n  '29'],\n [Timestamp('2019-11-15 00:00:00', freq='D'),\n  '대파(일반)',\n  '1135',\n  '1158',\n  '1370',\n  '키로단',\n  '29'],\n [Timestamp('2019-11-15 00:00:00', freq='D'),\n  '대파(일반)',\n  '879',\n  '956',\n  '1206',\n  '키로단',\n  '29']]"
     },
     "metadata": {},
     "output_type": "display_data"
    },
    {
     "data": {
      "text/plain": "[[Timestamp('2019-11-16 00:00:00', freq='D')],\n [Timestamp('2019-11-16 00:00:00', freq='D'),\n  '대파(일반)',\n  '2146',\n  '1959',\n  '2569',\n  '키로단',\n  '29'],\n [Timestamp('2019-11-16 00:00:00', freq='D'),\n  '대파(일반)',\n  '1369',\n  '1291',\n  '1978',\n  '키로단',\n  '29'],\n [Timestamp('2019-11-16 00:00:00', freq='D'),\n  '대파(일반)',\n  '1183',\n  '1135',\n  '1508',\n  '키로단',\n  '29'],\n [Timestamp('2019-11-16 00:00:00', freq='D'),\n  '대파(일반)',\n  '819',\n  '879',\n  '1295',\n  '키로단',\n  '29']]"
     },
     "metadata": {},
     "output_type": "display_data"
    },
    {
     "data": {
      "text/plain": "[[Timestamp('2019-11-17 00:00:00', freq='D')],\n [Timestamp('2019-11-17 00:00:00', freq='D'),\n  '대파(일반)',\n  '0',\n  '2146',\n  '2404',\n  '키로단',\n  '29'],\n [Timestamp('2019-11-17 00:00:00', freq='D'),\n  '대파(일반)',\n  '0',\n  '1369',\n  '1909',\n  '키로단',\n  '29'],\n [Timestamp('2019-11-17 00:00:00', freq='D'),\n  '대파(일반)',\n  '0',\n  '1183',\n  '1528',\n  '키로단',\n  '29'],\n [Timestamp('2019-11-17 00:00:00', freq='D'),\n  '대파(일반)',\n  '0',\n  '819',\n  '1303',\n  '키로단',\n  '29']]"
     },
     "metadata": {},
     "output_type": "display_data"
    },
    {
     "data": {
      "text/plain": "[[Timestamp('2019-11-18 00:00:00', freq='D')],\n [Timestamp('2019-11-18 00:00:00', freq='D'),\n  '대파(일반)',\n  '2149',\n  '0',\n  '0',\n  '키로단',\n  '29'],\n [Timestamp('2019-11-18 00:00:00', freq='D'),\n  '대파(일반)',\n  '1551',\n  '0',\n  '0',\n  '키로단',\n  '29'],\n [Timestamp('2019-11-18 00:00:00', freq='D'),\n  '대파(일반)',\n  '1056',\n  '0',\n  '0',\n  '키로단',\n  '29'],\n [Timestamp('2019-11-18 00:00:00', freq='D'),\n  '대파(일반)',\n  '929',\n  '0',\n  '0',\n  '키로단',\n  '29']]"
     },
     "metadata": {},
     "output_type": "display_data"
    },
    {
     "data": {
      "text/plain": "[[Timestamp('2019-11-19 00:00:00', freq='D')],\n [Timestamp('2019-11-19 00:00:00', freq='D'),\n  '대파(일반)',\n  '2019',\n  '2149',\n  '2462',\n  '키로단',\n  '29'],\n [Timestamp('2019-11-19 00:00:00', freq='D'),\n  '대파(일반)',\n  '1728',\n  '1551',\n  '1872',\n  '키로단',\n  '29'],\n [Timestamp('2019-11-19 00:00:00', freq='D'),\n  '대파(일반)',\n  '1174',\n  '1056',\n  '1481',\n  '키로단',\n  '29'],\n [Timestamp('2019-11-19 00:00:00', freq='D'),\n  '대파(일반)',\n  '996',\n  '929',\n  '1232',\n  '키로단',\n  '29']]"
     },
     "metadata": {},
     "output_type": "display_data"
    },
    {
     "data": {
      "text/plain": "[[Timestamp('2019-11-20 00:00:00', freq='D')],\n [Timestamp('2019-11-20 00:00:00', freq='D'),\n  '대파(일반)',\n  '1966',\n  '2019',\n  '2449',\n  '키로단',\n  '29'],\n [Timestamp('2019-11-20 00:00:00', freq='D'),\n  '대파(일반)',\n  '1600',\n  '1728',\n  '2026',\n  '키로단',\n  '29'],\n [Timestamp('2019-11-20 00:00:00', freq='D'),\n  '대파(일반)',\n  '1202',\n  '1174',\n  '1457',\n  '키로단',\n  '29'],\n [Timestamp('2019-11-20 00:00:00', freq='D'),\n  '대파(일반)',\n  '1025',\n  '996',\n  '1118',\n  '키로단',\n  '29']]"
     },
     "metadata": {},
     "output_type": "display_data"
    },
    {
     "data": {
      "text/plain": "[[Timestamp('2019-11-21 00:00:00', freq='D')],\n [Timestamp('2019-11-21 00:00:00', freq='D'),\n  '대파(일반)',\n  '1924',\n  '1966',\n  '2423',\n  '키로단',\n  '29'],\n [Timestamp('2019-11-21 00:00:00', freq='D'),\n  '대파(일반)',\n  '1397',\n  '1600',\n  '2056',\n  '키로단',\n  '29'],\n [Timestamp('2019-11-21 00:00:00', freq='D'),\n  '대파(일반)',\n  '1257',\n  '1202',\n  '1408',\n  '키로단',\n  '29'],\n [Timestamp('2019-11-21 00:00:00', freq='D'),\n  '대파(일반)',\n  '1081',\n  '1025',\n  '1054',\n  '키로단',\n  '29']]"
     },
     "metadata": {},
     "output_type": "display_data"
    },
    {
     "data": {
      "text/plain": "[[Timestamp('2019-11-22 00:00:00', freq='D')],\n [Timestamp('2019-11-22 00:00:00', freq='D'),\n  '대파(일반)',\n  '1974',\n  '1924',\n  '2394',\n  '키로단',\n  '29'],\n [Timestamp('2019-11-22 00:00:00', freq='D'),\n  '대파(일반)',\n  '1372',\n  '1397',\n  '1842',\n  '키로단',\n  '29'],\n [Timestamp('2019-11-22 00:00:00', freq='D'),\n  '대파(일반)',\n  '1184',\n  '1257',\n  '1381',\n  '키로단',\n  '29'],\n [Timestamp('2019-11-22 00:00:00', freq='D'),\n  '대파(일반)',\n  '1019',\n  '1081',\n  '1075',\n  '키로단',\n  '29']]"
     },
     "metadata": {},
     "output_type": "display_data"
    },
    {
     "data": {
      "text/plain": "[[Timestamp('2019-11-23 00:00:00', freq='D')],\n [Timestamp('2019-11-23 00:00:00', freq='D'),\n  '대파(일반)',\n  '2081',\n  '1974',\n  '2419',\n  '키로단',\n  '29'],\n [Timestamp('2019-11-23 00:00:00', freq='D'),\n  '대파(일반)',\n  '1690',\n  '1372',\n  '1718',\n  '키로단',\n  '29'],\n [Timestamp('2019-11-23 00:00:00', freq='D'),\n  '대파(일반)',\n  '1145',\n  '1184',\n  '1436',\n  '키로단',\n  '29'],\n [Timestamp('2019-11-23 00:00:00', freq='D'),\n  '대파(일반)',\n  '1026',\n  '1019',\n  '1111',\n  '키로단',\n  '29']]"
     },
     "metadata": {},
     "output_type": "display_data"
    },
    {
     "data": {
      "text/plain": "[[Timestamp('2019-11-24 00:00:00', freq='D')],\n [Timestamp('2019-11-24 00:00:00', freq='D'),\n  '대파(일반)',\n  '0',\n  '2081',\n  '2459',\n  '키로단',\n  '29'],\n [Timestamp('2019-11-24 00:00:00', freq='D'),\n  '대파(일반)',\n  '0',\n  '1690',\n  '1665',\n  '키로단',\n  '29'],\n [Timestamp('2019-11-24 00:00:00', freq='D'),\n  '대파(일반)',\n  '0',\n  '1145',\n  '1451',\n  '키로단',\n  '29'],\n [Timestamp('2019-11-24 00:00:00', freq='D'),\n  '대파(일반)',\n  '0',\n  '1026',\n  '1048',\n  '키로단',\n  '29']]"
     },
     "metadata": {},
     "output_type": "display_data"
    },
    {
     "data": {
      "text/plain": "[[Timestamp('2019-11-25 00:00:00', freq='D')],\n [Timestamp('2019-11-25 00:00:00', freq='D'),\n  '대파(일반)',\n  '2207',\n  '0',\n  '0',\n  '키로단',\n  '29'],\n [Timestamp('2019-11-25 00:00:00', freq='D'),\n  '대파(일반)',\n  '1521',\n  '0',\n  '0',\n  '키로단',\n  '29'],\n [Timestamp('2019-11-25 00:00:00', freq='D'),\n  '대파(일반)',\n  '1067',\n  '0',\n  '0',\n  '키로단',\n  '29'],\n [Timestamp('2019-11-25 00:00:00', freq='D'),\n  '대파(일반)',\n  '886',\n  '0',\n  '0',\n  '키로단',\n  '29']]"
     },
     "metadata": {},
     "output_type": "display_data"
    },
    {
     "data": {
      "text/plain": "[[Timestamp('2019-11-26 00:00:00', freq='D')],\n [Timestamp('2019-11-26 00:00:00', freq='D'),\n  '대파(일반)',\n  '2115',\n  '2207',\n  '2275',\n  '키로단',\n  '29'],\n [Timestamp('2019-11-26 00:00:00', freq='D'),\n  '대파(일반)',\n  '1663',\n  '1521',\n  '1545',\n  '키로단',\n  '29'],\n [Timestamp('2019-11-26 00:00:00', freq='D'),\n  '대파(일반)',\n  '1247',\n  '1067',\n  '1195',\n  '키로단',\n  '29'],\n [Timestamp('2019-11-26 00:00:00', freq='D'),\n  '대파(일반)',\n  '896',\n  '886',\n  '1029',\n  '키로단',\n  '29']]"
     },
     "metadata": {},
     "output_type": "display_data"
    },
    {
     "data": {
      "text/plain": "[[Timestamp('2019-11-27 00:00:00', freq='D')],\n [Timestamp('2019-11-27 00:00:00', freq='D'),\n  '대파(일반)',\n  '2205',\n  '2115',\n  '2405',\n  '키로단',\n  '29'],\n [Timestamp('2019-11-27 00:00:00', freq='D'),\n  '대파(일반)',\n  '1651',\n  '1663',\n  '1829',\n  '키로단',\n  '29'],\n [Timestamp('2019-11-27 00:00:00', freq='D'),\n  '대파(일반)',\n  '1211',\n  '1247',\n  '1326',\n  '키로단',\n  '29'],\n [Timestamp('2019-11-27 00:00:00', freq='D'),\n  '대파(일반)',\n  '832',\n  '896',\n  '1048',\n  '키로단',\n  '29']]"
     },
     "metadata": {},
     "output_type": "display_data"
    },
    {
     "data": {
      "text/plain": "[[Timestamp('2019-11-28 00:00:00', freq='D')],\n [Timestamp('2019-11-28 00:00:00', freq='D'),\n  '대파(일반)',\n  '2318',\n  '2205',\n  '2350',\n  '키로단',\n  '29'],\n [Timestamp('2019-11-28 00:00:00', freq='D'),\n  '대파(일반)',\n  '1643',\n  '1651',\n  '1923',\n  '키로단',\n  '29'],\n [Timestamp('2019-11-28 00:00:00', freq='D'),\n  '대파(일반)',\n  '1126',\n  '1211',\n  '1413',\n  '키로단',\n  '29'],\n [Timestamp('2019-11-28 00:00:00', freq='D'),\n  '대파(일반)',\n  '817',\n  '832',\n  '1014',\n  '키로단',\n  '29']]"
     },
     "metadata": {},
     "output_type": "display_data"
    },
    {
     "data": {
      "text/plain": "[[Timestamp('2019-11-29 00:00:00', freq='D')],\n [Timestamp('2019-11-29 00:00:00', freq='D'),\n  '대파(일반)',\n  '2500',\n  '2318',\n  '2347',\n  '키로단',\n  '29'],\n [Timestamp('2019-11-29 00:00:00', freq='D'),\n  '대파(일반)',\n  '1862',\n  '1643',\n  '1907',\n  '키로단',\n  '29'],\n [Timestamp('2019-11-29 00:00:00', freq='D'),\n  '대파(일반)',\n  '1250',\n  '1126',\n  '1347',\n  '키로단',\n  '29'],\n [Timestamp('2019-11-29 00:00:00', freq='D'),\n  '대파(일반)',\n  '812',\n  '817',\n  '975',\n  '키로단',\n  '29']]"
     },
     "metadata": {},
     "output_type": "display_data"
    },
    {
     "data": {
      "text/plain": "[[Timestamp('2019-11-30 00:00:00', freq='D')],\n [Timestamp('2019-11-30 00:00:00', freq='D'),\n  '대파(일반)',\n  '2500',\n  '2500',\n  '2423',\n  '키로단',\n  '29'],\n [Timestamp('2019-11-30 00:00:00', freq='D'),\n  '대파(일반)',\n  '1925',\n  '1862',\n  '1931',\n  '키로단',\n  '29'],\n [Timestamp('2019-11-30 00:00:00', freq='D'),\n  '대파(일반)',\n  '1052',\n  '1250',\n  '1223',\n  '키로단',\n  '29'],\n [Timestamp('2019-11-30 00:00:00', freq='D'),\n  '대파(일반)',\n  '786',\n  '812',\n  '963',\n  '키로단',\n  '29']]"
     },
     "metadata": {},
     "output_type": "display_data"
    },
    {
     "data": {
      "text/plain": "[[Timestamp('2019-12-01 00:00:00', freq='D')],\n [Timestamp('2019-12-01 00:00:00', freq='D'),\n  '대파(일반)',\n  '0',\n  '2500',\n  '2657',\n  '키로단',\n  '29'],\n [Timestamp('2019-12-01 00:00:00', freq='D'),\n  '대파(일반)',\n  '0',\n  '1925',\n  '1882',\n  '키로단',\n  '29'],\n [Timestamp('2019-12-01 00:00:00', freq='D'),\n  '대파(일반)',\n  '0',\n  '1052',\n  '1297',\n  '키로단',\n  '29'],\n [Timestamp('2019-12-01 00:00:00', freq='D'),\n  '대파(일반)',\n  '0',\n  '786',\n  '1014',\n  '키로단',\n  '29']]"
     },
     "metadata": {},
     "output_type": "display_data"
    },
    {
     "data": {
      "text/plain": "[[Timestamp('2019-12-02 00:00:00', freq='D')],\n [Timestamp('2019-12-02 00:00:00', freq='D'),\n  '대파(일반)',\n  '2399',\n  '0',\n  '0',\n  '키로단',\n  '29'],\n [Timestamp('2019-12-02 00:00:00', freq='D'),\n  '대파(일반)',\n  '1508',\n  '0',\n  '0',\n  '키로단',\n  '29'],\n [Timestamp('2019-12-02 00:00:00', freq='D'),\n  '대파(일반)',\n  '972',\n  '0',\n  '0',\n  '키로단',\n  '29'],\n [Timestamp('2019-12-02 00:00:00', freq='D'),\n  '대파(일반)',\n  '795',\n  '0',\n  '0',\n  '키로단',\n  '29']]"
     },
     "metadata": {},
     "output_type": "display_data"
    },
    {
     "data": {
      "text/plain": "[[Timestamp('2019-12-03 00:00:00', freq='D')],\n [Timestamp('2019-12-03 00:00:00', freq='D'),\n  '대파(일반)',\n  '2438',\n  '2399',\n  '2858',\n  '키로단',\n  '29'],\n [Timestamp('2019-12-03 00:00:00', freq='D'),\n  '대파(일반)',\n  '1571',\n  '1508',\n  '2124',\n  '키로단',\n  '29'],\n [Timestamp('2019-12-03 00:00:00', freq='D'),\n  '대파(일반)',\n  '1072',\n  '972',\n  '1517',\n  '키로단',\n  '29'],\n [Timestamp('2019-12-03 00:00:00', freq='D'),\n  '대파(일반)',\n  '855',\n  '795',\n  '1199',\n  '키로단',\n  '29']]"
     },
     "metadata": {},
     "output_type": "display_data"
    },
    {
     "data": {
      "text/plain": "[[Timestamp('2019-12-04 00:00:00', freq='D')],\n [Timestamp('2019-12-04 00:00:00', freq='D'),\n  '대파(일반)',\n  '2426',\n  '2438',\n  '2776',\n  '키로단',\n  '29'],\n [Timestamp('2019-12-04 00:00:00', freq='D'),\n  '대파(일반)',\n  '1570',\n  '1571',\n  '2199',\n  '키로단',\n  '29'],\n [Timestamp('2019-12-04 00:00:00', freq='D'),\n  '대파(일반)',\n  '1119',\n  '1072',\n  '1656',\n  '키로단',\n  '29'],\n [Timestamp('2019-12-04 00:00:00', freq='D'),\n  '대파(일반)',\n  '865',\n  '855',\n  '1221',\n  '키로단',\n  '29']]"
     },
     "metadata": {},
     "output_type": "display_data"
    },
    {
     "data": {
      "text/plain": "[[Timestamp('2019-12-05 00:00:00', freq='D')],\n [Timestamp('2019-12-05 00:00:00', freq='D'),\n  '대파(일반)',\n  '2230',\n  '2426',\n  '2541',\n  '키로단',\n  '29'],\n [Timestamp('2019-12-05 00:00:00', freq='D'),\n  '대파(일반)',\n  '1681',\n  '1570',\n  '2118',\n  '키로단',\n  '29'],\n [Timestamp('2019-12-05 00:00:00', freq='D'),\n  '대파(일반)',\n  '1454',\n  '1119',\n  '1616',\n  '키로단',\n  '29'],\n [Timestamp('2019-12-05 00:00:00', freq='D'),\n  '대파(일반)',\n  '883',\n  '865',\n  '1235',\n  '키로단',\n  '29']]"
     },
     "metadata": {},
     "output_type": "display_data"
    },
    {
     "data": {
      "text/plain": "[[Timestamp('2019-12-06 00:00:00', freq='D')],\n [Timestamp('2019-12-06 00:00:00', freq='D'),\n  '대파(일반)',\n  '2048',\n  '2230',\n  '2479',\n  '키로단',\n  '29'],\n [Timestamp('2019-12-06 00:00:00', freq='D'),\n  '대파(일반)',\n  '1659',\n  '1681',\n  '2108',\n  '키로단',\n  '29'],\n [Timestamp('2019-12-06 00:00:00', freq='D'),\n  '대파(일반)',\n  '1524',\n  '1454',\n  '1573',\n  '키로단',\n  '29'],\n [Timestamp('2019-12-06 00:00:00', freq='D'),\n  '대파(일반)',\n  '994',\n  '883',\n  '1245',\n  '키로단',\n  '29']]"
     },
     "metadata": {},
     "output_type": "display_data"
    },
    {
     "data": {
      "text/plain": "[[Timestamp('2019-12-07 00:00:00', freq='D')],\n [Timestamp('2019-12-07 00:00:00', freq='D'),\n  '대파(일반)',\n  '1968',\n  '2048',\n  '2423',\n  '키로단',\n  '29'],\n [Timestamp('2019-12-07 00:00:00', freq='D'),\n  '대파(일반)',\n  '1585',\n  '1659',\n  '2082',\n  '키로단',\n  '29'],\n [Timestamp('2019-12-07 00:00:00', freq='D'),\n  '대파(일반)',\n  '1346',\n  '1524',\n  '1433',\n  '키로단',\n  '29'],\n [Timestamp('2019-12-07 00:00:00', freq='D'),\n  '대파(일반)',\n  '914',\n  '994',\n  '1218',\n  '키로단',\n  '29']]"
     },
     "metadata": {},
     "output_type": "display_data"
    },
    {
     "data": {
      "text/plain": "[[Timestamp('2019-12-08 00:00:00', freq='D')],\n [Timestamp('2019-12-08 00:00:00', freq='D'),\n  '대파(일반)',\n  '0',\n  '1968',\n  '2299',\n  '키로단',\n  '29'],\n [Timestamp('2019-12-08 00:00:00', freq='D'),\n  '대파(일반)',\n  '0',\n  '1585',\n  '1811',\n  '키로단',\n  '29'],\n [Timestamp('2019-12-08 00:00:00', freq='D'),\n  '대파(일반)',\n  '0',\n  '1346',\n  '1318',\n  '키로단',\n  '29'],\n [Timestamp('2019-12-08 00:00:00', freq='D'),\n  '대파(일반)',\n  '0',\n  '914',\n  '1200',\n  '키로단',\n  '29']]"
     },
     "metadata": {},
     "output_type": "display_data"
    },
    {
     "data": {
      "text/plain": "[[Timestamp('2019-12-09 00:00:00', freq='D')],\n [Timestamp('2019-12-09 00:00:00', freq='D'),\n  '대파(일반)',\n  '2682',\n  '0',\n  '0',\n  '키로단',\n  '29'],\n [Timestamp('2019-12-09 00:00:00', freq='D'),\n  '대파(일반)',\n  '1514',\n  '0',\n  '0',\n  '키로단',\n  '29'],\n [Timestamp('2019-12-09 00:00:00', freq='D'),\n  '대파(일반)',\n  '1005',\n  '0',\n  '0',\n  '키로단',\n  '29'],\n [Timestamp('2019-12-09 00:00:00', freq='D'),\n  '대파(일반)',\n  '781',\n  '0',\n  '0',\n  '키로단',\n  '29']]"
     },
     "metadata": {},
     "output_type": "display_data"
    },
    {
     "data": {
      "text/plain": "[[Timestamp('2019-12-10 00:00:00', freq='D')],\n [Timestamp('2019-12-10 00:00:00', freq='D'),\n  '대파(일반)',\n  '2232',\n  '2682',\n  '2634',\n  '키로단',\n  '29'],\n [Timestamp('2019-12-10 00:00:00', freq='D'),\n  '대파(일반)',\n  '1524',\n  '1514',\n  '1928',\n  '키로단',\n  '29'],\n [Timestamp('2019-12-10 00:00:00', freq='D'),\n  '대파(일반)',\n  '1186',\n  '1005',\n  '1519',\n  '키로단',\n  '29'],\n [Timestamp('2019-12-10 00:00:00', freq='D'),\n  '대파(일반)',\n  '654',\n  '781',\n  '1307',\n  '키로단',\n  '29']]"
     },
     "metadata": {},
     "output_type": "display_data"
    },
    {
     "data": {
      "text/plain": "[[Timestamp('2019-12-11 00:00:00', freq='D')],\n [Timestamp('2019-12-11 00:00:00', freq='D'),\n  '대파(일반)',\n  '2086',\n  '2232',\n  '2558',\n  '키로단',\n  '29'],\n [Timestamp('2019-12-11 00:00:00', freq='D'),\n  '대파(일반)',\n  '1579',\n  '1524',\n  '2103',\n  '키로단',\n  '29'],\n [Timestamp('2019-12-11 00:00:00', freq='D'),\n  '대파(일반)',\n  '1351',\n  '1186',\n  '1532',\n  '키로단',\n  '29'],\n [Timestamp('2019-12-11 00:00:00', freq='D'),\n  '대파(일반)',\n  '724',\n  '654',\n  '1224',\n  '키로단',\n  '29']]"
     },
     "metadata": {},
     "output_type": "display_data"
    },
    {
     "data": {
      "text/plain": "[[Timestamp('2019-12-12 00:00:00', freq='D')],\n [Timestamp('2019-12-12 00:00:00', freq='D'),\n  '대파(일반)',\n  '2178',\n  '2086',\n  '2522',\n  '키로단',\n  '29'],\n [Timestamp('2019-12-12 00:00:00', freq='D'),\n  '대파(일반)',\n  '1600',\n  '1579',\n  '2117',\n  '키로단',\n  '29'],\n [Timestamp('2019-12-12 00:00:00', freq='D'),\n  '대파(일반)',\n  '1369',\n  '1351',\n  '1397',\n  '키로단',\n  '29'],\n [Timestamp('2019-12-12 00:00:00', freq='D'),\n  '대파(일반)',\n  '897',\n  '724',\n  '1106',\n  '키로단',\n  '29']]"
     },
     "metadata": {},
     "output_type": "display_data"
    },
    {
     "data": {
      "text/plain": "[[Timestamp('2019-12-13 00:00:00', freq='D')],\n [Timestamp('2019-12-13 00:00:00', freq='D'),\n  '대파(일반)',\n  '2013',\n  '2178',\n  '2556',\n  '키로단',\n  '29'],\n [Timestamp('2019-12-13 00:00:00', freq='D'),\n  '대파(일반)',\n  '1600',\n  '1600',\n  '1853',\n  '키로단',\n  '29'],\n [Timestamp('2019-12-13 00:00:00', freq='D'),\n  '대파(일반)',\n  '1295',\n  '1369',\n  '1185',\n  '키로단',\n  '29'],\n [Timestamp('2019-12-13 00:00:00', freq='D'),\n  '대파(일반)',\n  '869',\n  '897',\n  '1094',\n  '키로단',\n  '29']]"
     },
     "metadata": {},
     "output_type": "display_data"
    },
    {
     "data": {
      "text/plain": "[[Timestamp('2019-12-14 00:00:00', freq='D')],\n [Timestamp('2019-12-14 00:00:00', freq='D'),\n  '대파(일반)',\n  '1878',\n  '2013',\n  '2556',\n  '키로단',\n  '29'],\n [Timestamp('2019-12-14 00:00:00', freq='D'),\n  '대파(일반)',\n  '1575',\n  '1600',\n  '1853',\n  '키로단',\n  '29'],\n [Timestamp('2019-12-14 00:00:00', freq='D'),\n  '대파(일반)',\n  '1286',\n  '1295',\n  '1185',\n  '키로단',\n  '29'],\n [Timestamp('2019-12-14 00:00:00', freq='D'),\n  '대파(일반)',\n  '837',\n  '869',\n  '1094',\n  '키로단',\n  '29']]"
     },
     "metadata": {},
     "output_type": "display_data"
    },
    {
     "data": {
      "text/plain": "[[Timestamp('2019-12-15 00:00:00', freq='D')],\n [Timestamp('2019-12-15 00:00:00', freq='D'),\n  '대파(일반)',\n  '0',\n  '1878',\n  '2556',\n  '키로단',\n  '29'],\n [Timestamp('2019-12-15 00:00:00', freq='D'),\n  '대파(일반)',\n  '0',\n  '1575',\n  '1853',\n  '키로단',\n  '29'],\n [Timestamp('2019-12-15 00:00:00', freq='D'),\n  '대파(일반)',\n  '0',\n  '1286',\n  '1185',\n  '키로단',\n  '29'],\n [Timestamp('2019-12-15 00:00:00', freq='D'),\n  '대파(일반)',\n  '0',\n  '837',\n  '1094',\n  '키로단',\n  '29']]"
     },
     "metadata": {},
     "output_type": "display_data"
    },
    {
     "data": {
      "text/plain": "[[Timestamp('2019-12-16 00:00:00', freq='D')],\n [Timestamp('2019-12-16 00:00:00', freq='D'),\n  '대파(일반)',\n  '2343',\n  '0',\n  '2200',\n  '키로단',\n  '29'],\n [Timestamp('2019-12-16 00:00:00', freq='D'),\n  '대파(일반)',\n  '1446',\n  '0',\n  '1726',\n  '키로단',\n  '29'],\n [Timestamp('2019-12-16 00:00:00', freq='D'),\n  '대파(일반)',\n  '1021',\n  '0',\n  '1298',\n  '키로단',\n  '29'],\n [Timestamp('2019-12-16 00:00:00', freq='D'),\n  '대파(일반)',\n  '636',\n  '0',\n  '1119',\n  '키로단',\n  '29']]"
     },
     "metadata": {},
     "output_type": "display_data"
    },
    {
     "data": {
      "text/plain": "[[Timestamp('2019-12-17 00:00:00', freq='D')],\n [Timestamp('2019-12-17 00:00:00', freq='D'),\n  '대파(일반)',\n  '2149',\n  '2343',\n  '2945',\n  '키로단',\n  '29'],\n [Timestamp('2019-12-17 00:00:00', freq='D'),\n  '대파(일반)',\n  '1609',\n  '1446',\n  '1707',\n  '키로단',\n  '29'],\n [Timestamp('2019-12-17 00:00:00', freq='D'),\n  '대파(일반)',\n  '1290',\n  '1021',\n  '1170',\n  '키로단',\n  '29'],\n [Timestamp('2019-12-17 00:00:00', freq='D'),\n  '대파(일반)',\n  '711',\n  '636',\n  '1009',\n  '키로단',\n  '29']]"
     },
     "metadata": {},
     "output_type": "display_data"
    },
    {
     "data": {
      "text/plain": "[[Timestamp('2019-12-18 00:00:00', freq='D')],\n [Timestamp('2019-12-18 00:00:00', freq='D'),\n  '대파(일반)',\n  '2015',\n  '2149',\n  '2584',\n  '키로단',\n  '29'],\n [Timestamp('2019-12-18 00:00:00', freq='D'),\n  '대파(일반)',\n  '1620',\n  '1609',\n  '1946',\n  '키로단',\n  '29'],\n [Timestamp('2019-12-18 00:00:00', freq='D'),\n  '대파(일반)',\n  '1449',\n  '1290',\n  '1253',\n  '키로단',\n  '29'],\n [Timestamp('2019-12-18 00:00:00', freq='D'),\n  '대파(일반)',\n  '800',\n  '711',\n  '1013',\n  '키로단',\n  '29']]"
     },
     "metadata": {},
     "output_type": "display_data"
    },
    {
     "data": {
      "text/plain": "[[Timestamp('2019-12-19 00:00:00', freq='D')],\n [Timestamp('2019-12-19 00:00:00', freq='D'),\n  '대파(일반)',\n  '1929',\n  '2015',\n  '2344',\n  '키로단',\n  '29'],\n [Timestamp('2019-12-19 00:00:00', freq='D'),\n  '대파(일반)',\n  '1566',\n  '1620',\n  '1889',\n  '키로단',\n  '29'],\n [Timestamp('2019-12-19 00:00:00', freq='D'),\n  '대파(일반)',\n  '1400',\n  '1449',\n  '1303',\n  '키로단',\n  '29'],\n [Timestamp('2019-12-19 00:00:00', freq='D'),\n  '대파(일반)',\n  '960',\n  '800',\n  '981',\n  '키로단',\n  '29']]"
     },
     "metadata": {},
     "output_type": "display_data"
    },
    {
     "data": {
      "text/plain": "[[Timestamp('2019-12-20 00:00:00', freq='D')],\n [Timestamp('2019-12-20 00:00:00', freq='D'),\n  '대파(일반)',\n  '1961',\n  '1929',\n  '2377',\n  '키로단',\n  '29'],\n [Timestamp('2019-12-20 00:00:00', freq='D'),\n  '대파(일반)',\n  '1509',\n  '1566',\n  '1650',\n  '키로단',\n  '29'],\n [Timestamp('2019-12-20 00:00:00', freq='D'),\n  '대파(일반)',\n  '1318',\n  '1400',\n  '1170',\n  '키로단',\n  '29'],\n [Timestamp('2019-12-20 00:00:00', freq='D'),\n  '대파(일반)',\n  '850',\n  '960',\n  '850',\n  '키로단',\n  '29']]"
     },
     "metadata": {},
     "output_type": "display_data"
    },
    {
     "data": {
      "text/plain": "[[Timestamp('2019-12-21 00:00:00', freq='D')],\n [Timestamp('2019-12-21 00:00:00', freq='D'),\n  '대파(일반)',\n  '2040',\n  '1961',\n  '2428',\n  '키로단',\n  '29'],\n [Timestamp('2019-12-21 00:00:00', freq='D'),\n  '대파(일반)',\n  '1600',\n  '1509',\n  '1533',\n  '키로단',\n  '29'],\n [Timestamp('2019-12-21 00:00:00', freq='D'),\n  '대파(일반)',\n  '1377',\n  '1318',\n  '1133',\n  '키로단',\n  '29'],\n [Timestamp('2019-12-21 00:00:00', freq='D'),\n  '대파(일반)',\n  '859',\n  '850',\n  '850',\n  '키로단',\n  '29']]"
     },
     "metadata": {},
     "output_type": "display_data"
    },
    {
     "data": {
      "text/plain": "[[Timestamp('2019-12-22 00:00:00', freq='D')],\n [Timestamp('2019-12-22 00:00:00', freq='D'),\n  '대파(일반)',\n  '0',\n  '2040',\n  '2300',\n  '키로단',\n  '29'],\n [Timestamp('2019-12-22 00:00:00', freq='D'),\n  '대파(일반)',\n  '0',\n  '1600',\n  '1511',\n  '키로단',\n  '29'],\n [Timestamp('2019-12-22 00:00:00', freq='D'),\n  '대파(일반)',\n  '0',\n  '1377',\n  '1220',\n  '키로단',\n  '29'],\n [Timestamp('2019-12-22 00:00:00', freq='D'),\n  '대파(일반)',\n  '0',\n  '859',\n  '921',\n  '키로단',\n  '29']]"
     },
     "metadata": {},
     "output_type": "display_data"
    },
    {
     "data": {
      "text/plain": "[[Timestamp('2019-12-23 00:00:00', freq='D')],\n [Timestamp('2019-12-23 00:00:00', freq='D'),\n  '대파(일반)',\n  '2434',\n  '0',\n  '0',\n  '키로단',\n  '29'],\n [Timestamp('2019-12-23 00:00:00', freq='D'),\n  '대파(일반)',\n  '1487',\n  '0',\n  '0',\n  '키로단',\n  '29'],\n [Timestamp('2019-12-23 00:00:00', freq='D'),\n  '대파(일반)',\n  '1199',\n  '0',\n  '0',\n  '키로단',\n  '29'],\n [Timestamp('2019-12-23 00:00:00', freq='D'),\n  '대파(일반)',\n  '946',\n  '0',\n  '0',\n  '키로단',\n  '29']]"
     },
     "metadata": {},
     "output_type": "display_data"
    },
    {
     "data": {
      "text/plain": "[[Timestamp('2019-12-24 00:00:00', freq='D')],\n [Timestamp('2019-12-24 00:00:00', freq='D'),\n  '대파(일반)',\n  '2117',\n  '2434',\n  '2639',\n  '키로단',\n  '29'],\n [Timestamp('2019-12-24 00:00:00', freq='D'),\n  '대파(일반)',\n  '1547',\n  '1487',\n  '1364',\n  '키로단',\n  '29'],\n [Timestamp('2019-12-24 00:00:00', freq='D'),\n  '대파(일반)',\n  '1345',\n  '1199',\n  '1108',\n  '키로단',\n  '29'],\n [Timestamp('2019-12-24 00:00:00', freq='D'),\n  '대파(일반)',\n  '930',\n  '946',\n  '969',\n  '키로단',\n  '29']]"
     },
     "metadata": {},
     "output_type": "display_data"
    },
    {
     "data": {
      "text/plain": "[[Timestamp('2019-12-25 00:00:00', freq='D')],\n [Timestamp('2019-12-25 00:00:00', freq='D'),\n  '대파(일반)',\n  '1850',\n  '2117',\n  '2539',\n  '키로단',\n  '29'],\n [Timestamp('2019-12-25 00:00:00', freq='D'),\n  '대파(일반)',\n  '1520',\n  '1547',\n  '1492',\n  '키로단',\n  '29'],\n [Timestamp('2019-12-25 00:00:00', freq='D'),\n  '대파(일반)',\n  '1452',\n  '1345',\n  '1157',\n  '키로단',\n  '29'],\n [Timestamp('2019-12-25 00:00:00', freq='D'),\n  '대파(일반)',\n  '977',\n  '930',\n  '979',\n  '키로단',\n  '29']]"
     },
     "metadata": {},
     "output_type": "display_data"
    },
    {
     "data": {
      "text/plain": "[[Timestamp('2019-12-26 00:00:00', freq='D')],\n [Timestamp('2019-12-26 00:00:00', freq='D'),\n  '대파(일반)',\n  '1839',\n  '1850',\n  '2250',\n  '키로단',\n  '29'],\n [Timestamp('2019-12-26 00:00:00', freq='D'),\n  '대파(일반)',\n  '1500',\n  '1520',\n  '1535',\n  '키로단',\n  '29'],\n [Timestamp('2019-12-26 00:00:00', freq='D'),\n  '대파(일반)',\n  '1338',\n  '1452',\n  '1226',\n  '키로단',\n  '29'],\n [Timestamp('2019-12-26 00:00:00', freq='D'),\n  '대파(일반)',\n  '926',\n  '977',\n  '991',\n  '키로단',\n  '29']]"
     },
     "metadata": {},
     "output_type": "display_data"
    },
    {
     "data": {
      "text/plain": "[[Timestamp('2019-12-27 00:00:00', freq='D')],\n [Timestamp('2019-12-27 00:00:00', freq='D'),\n  '대파(일반)',\n  '1773',\n  '1839',\n  '2230',\n  '키로단',\n  '29'],\n [Timestamp('2019-12-27 00:00:00', freq='D'),\n  '대파(일반)',\n  '1500',\n  '1500',\n  '1443',\n  '키로단',\n  '29'],\n [Timestamp('2019-12-27 00:00:00', freq='D'),\n  '대파(일반)',\n  '1190',\n  '1338',\n  '1240',\n  '키로단',\n  '29'],\n [Timestamp('2019-12-27 00:00:00', freq='D'),\n  '대파(일반)',\n  '878',\n  '926',\n  '989',\n  '키로단',\n  '29']]"
     },
     "metadata": {},
     "output_type": "display_data"
    },
    {
     "data": {
      "text/plain": "[[Timestamp('2019-12-28 00:00:00', freq='D')],\n [Timestamp('2019-12-28 00:00:00', freq='D'),\n  '대파(일반)',\n  '1957',\n  '1773',\n  '2109',\n  '키로단',\n  '29'],\n [Timestamp('2019-12-28 00:00:00', freq='D'),\n  '대파(일반)',\n  '1500',\n  '1500',\n  '1431',\n  '키로단',\n  '29'],\n [Timestamp('2019-12-28 00:00:00', freq='D'),\n  '대파(일반)',\n  '1249',\n  '1190',\n  '1278',\n  '키로단',\n  '29'],\n [Timestamp('2019-12-28 00:00:00', freq='D'),\n  '대파(일반)',\n  '872',\n  '878',\n  '1016',\n  '키로단',\n  '29']]"
     },
     "metadata": {},
     "output_type": "display_data"
    },
    {
     "data": {
      "text/plain": "[[Timestamp('2019-12-29 00:00:00', freq='D')],\n [Timestamp('2019-12-29 00:00:00', freq='D'),\n  '대파(일반)',\n  '0',\n  '1957',\n  '2036',\n  '키로단',\n  '29'],\n [Timestamp('2019-12-29 00:00:00', freq='D'),\n  '대파(일반)',\n  '0',\n  '1500',\n  '1488',\n  '키로단',\n  '29'],\n [Timestamp('2019-12-29 00:00:00', freq='D'),\n  '대파(일반)',\n  '0',\n  '1249',\n  '1268',\n  '키로단',\n  '29'],\n [Timestamp('2019-12-29 00:00:00', freq='D'),\n  '대파(일반)',\n  '0',\n  '872',\n  '1040',\n  '키로단',\n  '29']]"
     },
     "metadata": {},
     "output_type": "display_data"
    },
    {
     "data": {
      "text/plain": "[[Timestamp('2019-12-30 00:00:00', freq='D')],\n [Timestamp('2019-12-30 00:00:00', freq='D'),\n  '대파(일반)',\n  '2396',\n  '0',\n  '0',\n  '키로단',\n  '29'],\n [Timestamp('2019-12-30 00:00:00', freq='D'),\n  '대파(일반)',\n  '1654',\n  '0',\n  '0',\n  '키로단',\n  '29'],\n [Timestamp('2019-12-30 00:00:00', freq='D'),\n  '대파(일반)',\n  '1277',\n  '0',\n  '0',\n  '키로단',\n  '29'],\n [Timestamp('2019-12-30 00:00:00', freq='D'),\n  '대파(일반)',\n  '1128',\n  '0',\n  '0',\n  '키로단',\n  '29']]"
     },
     "metadata": {},
     "output_type": "display_data"
    },
    {
     "data": {
      "text/plain": "[[Timestamp('2019-12-31 00:00:00', freq='D')],\n [Timestamp('2019-12-31 00:00:00', freq='D'),\n  '대파(일반)',\n  '2282',\n  '2396',\n  '2856',\n  '키로단',\n  '29'],\n [Timestamp('2019-12-31 00:00:00', freq='D'),\n  '대파(일반)',\n  '1622',\n  '1654',\n  '1753',\n  '키로단',\n  '29'],\n [Timestamp('2019-12-31 00:00:00', freq='D'),\n  '대파(일반)',\n  '1429',\n  '1277',\n  '1180',\n  '키로단',\n  '29'],\n [Timestamp('2019-12-31 00:00:00', freq='D'),\n  '대파(일반)',\n  '1152',\n  '1128',\n  '893',\n  '키로단',\n  '29']]"
     },
     "metadata": {},
     "output_type": "display_data"
    },
    {
     "data": {
      "text/plain": "[[Timestamp('2020-01-01 00:00:00', freq='D')],\n [Timestamp('2020-01-01 00:00:00', freq='D'),\n  '대파(일반)',\n  '0',\n  '2282',\n  '0',\n  '키로단',\n  '29'],\n [Timestamp('2020-01-01 00:00:00', freq='D'),\n  '대파(일반)',\n  '0',\n  '1622',\n  '0',\n  '키로단',\n  '29'],\n [Timestamp('2020-01-01 00:00:00', freq='D'),\n  '대파(일반)',\n  '0',\n  '1429',\n  '0',\n  '키로단',\n  '29'],\n [Timestamp('2020-01-01 00:00:00', freq='D'),\n  '대파(일반)',\n  '0',\n  '1152',\n  '0',\n  '키로단',\n  '29']]"
     },
     "metadata": {},
     "output_type": "display_data"
    },
    {
     "data": {
      "text/plain": "[[Timestamp('2020-01-02 00:00:00', freq='D')],\n [Timestamp('2020-01-02 00:00:00', freq='D'),\n  '대파(일반)',\n  '2282',\n  '0',\n  '0',\n  '키로단',\n  '29'],\n [Timestamp('2020-01-02 00:00:00', freq='D'),\n  '대파(일반)',\n  '1622',\n  '0',\n  '0',\n  '키로단',\n  '29'],\n [Timestamp('2020-01-02 00:00:00', freq='D'),\n  '대파(일반)',\n  '1429',\n  '0',\n  '0',\n  '키로단',\n  '29'],\n [Timestamp('2020-01-02 00:00:00', freq='D'),\n  '대파(일반)',\n  '1152',\n  '0',\n  '0',\n  '키로단',\n  '29']]"
     },
     "metadata": {},
     "output_type": "display_data"
    },
    {
     "data": {
      "text/plain": "[[Timestamp('2020-01-03 00:00:00', freq='D')],\n [Timestamp('2020-01-03 00:00:00', freq='D'),\n  '대파(일반)',\n  '2282',\n  '2282',\n  '2778',\n  '키로단',\n  '29'],\n [Timestamp('2020-01-03 00:00:00', freq='D'),\n  '대파(일반)',\n  '1622',\n  '1622',\n  '1781',\n  '키로단',\n  '29'],\n [Timestamp('2020-01-03 00:00:00', freq='D'),\n  '대파(일반)',\n  '1429',\n  '1429',\n  '1318',\n  '키로단',\n  '29'],\n [Timestamp('2020-01-03 00:00:00', freq='D'),\n  '대파(일반)',\n  '1152',\n  '1152',\n  '910',\n  '키로단',\n  '29']]"
     },
     "metadata": {},
     "output_type": "display_data"
    },
    {
     "data": {
      "text/plain": "[[Timestamp('2020-01-04 00:00:00', freq='D')],\n [Timestamp('2020-01-04 00:00:00', freq='D'),\n  '대파(일반)',\n  '1961',\n  '2282',\n  '2772',\n  '키로단',\n  '29'],\n [Timestamp('2020-01-04 00:00:00', freq='D'),\n  '대파(일반)',\n  '1603',\n  '1622',\n  '1852',\n  '키로단',\n  '29'],\n [Timestamp('2020-01-04 00:00:00', freq='D'),\n  '대파(일반)',\n  '1268',\n  '1429',\n  '1339',\n  '키로단',\n  '29'],\n [Timestamp('2020-01-04 00:00:00', freq='D'),\n  '대파(일반)',\n  '994',\n  '1152',\n  '941',\n  '키로단',\n  '29']]"
     },
     "metadata": {},
     "output_type": "display_data"
    },
    {
     "data": {
      "text/plain": "[[Timestamp('2020-01-05 00:00:00', freq='D')],\n [Timestamp('2020-01-05 00:00:00', freq='D'),\n  '대파(일반)',\n  '0',\n  '1961',\n  '2387',\n  '키로단',\n  '29'],\n [Timestamp('2020-01-05 00:00:00', freq='D'),\n  '대파(일반)',\n  '0',\n  '1603',\n  '1763',\n  '키로단',\n  '29'],\n [Timestamp('2020-01-05 00:00:00', freq='D'),\n  '대파(일반)',\n  '0',\n  '1268',\n  '1329',\n  '키로단',\n  '29'],\n [Timestamp('2020-01-05 00:00:00', freq='D'),\n  '대파(일반)',\n  '0',\n  '994',\n  '1062',\n  '키로단',\n  '29']]"
     },
     "metadata": {},
     "output_type": "display_data"
    },
    {
     "data": {
      "text/plain": "[[Timestamp('2020-01-06 00:00:00', freq='D')],\n [Timestamp('2020-01-06 00:00:00', freq='D'),\n  '대파(일반)',\n  '2155',\n  '0',\n  '0',\n  '키로단',\n  '29'],\n [Timestamp('2020-01-06 00:00:00', freq='D'),\n  '대파(일반)',\n  '1486',\n  '0',\n  '0',\n  '키로단',\n  '29'],\n [Timestamp('2020-01-06 00:00:00', freq='D'),\n  '대파(일반)',\n  '1190',\n  '0',\n  '0',\n  '키로단',\n  '29'],\n [Timestamp('2020-01-06 00:00:00', freq='D'),\n  '대파(일반)',\n  '1007',\n  '0',\n  '0',\n  '키로단',\n  '29']]"
     },
     "metadata": {},
     "output_type": "display_data"
    },
    {
     "data": {
      "text/plain": "[[Timestamp('2020-01-07 00:00:00', freq='D')],\n [Timestamp('2020-01-07 00:00:00', freq='D'),\n  '대파(일반)',\n  '3008',\n  '2155',\n  '2309',\n  '키로단',\n  '29'],\n [Timestamp('2020-01-07 00:00:00', freq='D'),\n  '대파(일반)',\n  '1498',\n  '1486',\n  '1380',\n  '키로단',\n  '29'],\n [Timestamp('2020-01-07 00:00:00', freq='D'),\n  '대파(일반)',\n  '1141',\n  '1190',\n  '1263',\n  '키로단',\n  '29'],\n [Timestamp('2020-01-07 00:00:00', freq='D'),\n  '대파(일반)',\n  '1016',\n  '1007',\n  '1061',\n  '키로단',\n  '29']]"
     },
     "metadata": {},
     "output_type": "display_data"
    },
    {
     "data": {
      "text/plain": "[[Timestamp('2020-01-08 00:00:00', freq='D')],\n [Timestamp('2020-01-08 00:00:00', freq='D'),\n  '대파(일반)',\n  '2311',\n  '3008',\n  '2160',\n  '키로단',\n  '29'],\n [Timestamp('2020-01-08 00:00:00', freq='D'),\n  '대파(일반)',\n  '1484',\n  '1498',\n  '1584',\n  '키로단',\n  '29'],\n [Timestamp('2020-01-08 00:00:00', freq='D'),\n  '대파(일반)',\n  '1172',\n  '1141',\n  '1251',\n  '키로단',\n  '29'],\n [Timestamp('2020-01-08 00:00:00', freq='D'),\n  '대파(일반)',\n  '1029',\n  '1016',\n  '994',\n  '키로단',\n  '29']]"
     },
     "metadata": {},
     "output_type": "display_data"
    },
    {
     "data": {
      "text/plain": "[[Timestamp('2020-01-09 00:00:00', freq='D')],\n [Timestamp('2020-01-09 00:00:00', freq='D'),\n  '대파(일반)',\n  '2500',\n  '2311',\n  '1965',\n  '키로단',\n  '29'],\n [Timestamp('2020-01-09 00:00:00', freq='D'),\n  '대파(일반)',\n  '1887',\n  '1484',\n  '1559',\n  '키로단',\n  '29'],\n [Timestamp('2020-01-09 00:00:00', freq='D'),\n  '대파(일반)',\n  '1311',\n  '1172',\n  '1271',\n  '키로단',\n  '29'],\n [Timestamp('2020-01-09 00:00:00', freq='D'),\n  '대파(일반)',\n  '1119',\n  '1029',\n  '988',\n  '키로단',\n  '29']]"
     },
     "metadata": {},
     "output_type": "display_data"
    },
    {
     "data": {
      "text/plain": "[[Timestamp('2020-01-10 00:00:00', freq='D')],\n [Timestamp('2020-01-10 00:00:00', freq='D'),\n  '대파(일반)',\n  '2500',\n  '2500',\n  '1897',\n  '키로단',\n  '29'],\n [Timestamp('2020-01-10 00:00:00', freq='D'),\n  '대파(일반)',\n  '1872',\n  '1887',\n  '1337',\n  '키로단',\n  '29'],\n [Timestamp('2020-01-10 00:00:00', freq='D'),\n  '대파(일반)',\n  '1269',\n  '1311',\n  '1161',\n  '키로단',\n  '29'],\n [Timestamp('2020-01-10 00:00:00', freq='D'),\n  '대파(일반)',\n  '1007',\n  '1119',\n  '903',\n  '키로단',\n  '29']]"
     },
     "metadata": {},
     "output_type": "display_data"
    },
    {
     "data": {
      "text/plain": "[[Timestamp('2020-01-11 00:00:00', freq='D')],\n [Timestamp('2020-01-11 00:00:00', freq='D'),\n  '대파(일반)',\n  '1806',\n  '2500',\n  '1858',\n  '키로단',\n  '29'],\n [Timestamp('2020-01-11 00:00:00', freq='D'),\n  '대파(일반)',\n  '1266',\n  '1872',\n  '1391',\n  '키로단',\n  '29'],\n [Timestamp('2020-01-11 00:00:00', freq='D'),\n  '대파(일반)',\n  '1117',\n  '1269',\n  '1081',\n  '키로단',\n  '29'],\n [Timestamp('2020-01-11 00:00:00', freq='D'),\n  '대파(일반)',\n  '923',\n  '1007',\n  '882',\n  '키로단',\n  '29']]"
     },
     "metadata": {},
     "output_type": "display_data"
    },
    {
     "data": {
      "text/plain": "[[Timestamp('2020-01-12 00:00:00', freq='D')],\n [Timestamp('2020-01-12 00:00:00', freq='D'),\n  '대파(일반)',\n  '0',\n  '1806',\n  '1904',\n  '키로단',\n  '29'],\n [Timestamp('2020-01-12 00:00:00', freq='D'),\n  '대파(일반)',\n  '0',\n  '1266',\n  '1562',\n  '키로단',\n  '29'],\n [Timestamp('2020-01-12 00:00:00', freq='D'),\n  '대파(일반)',\n  '0',\n  '1117',\n  '1192',\n  '키로단',\n  '29'],\n [Timestamp('2020-01-12 00:00:00', freq='D'),\n  '대파(일반)',\n  '0',\n  '923',\n  '879',\n  '키로단',\n  '29']]"
     },
     "metadata": {},
     "output_type": "display_data"
    },
    {
     "data": {
      "text/plain": "[[Timestamp('2020-01-13 00:00:00', freq='D')],\n [Timestamp('2020-01-13 00:00:00', freq='D'),\n  '대파(일반)',\n  '1837',\n  '0',\n  '0',\n  '키로단',\n  '29'],\n [Timestamp('2020-01-13 00:00:00', freq='D'),\n  '대파(일반)',\n  '1191',\n  '0',\n  '0',\n  '키로단',\n  '29'],\n [Timestamp('2020-01-13 00:00:00', freq='D'),\n  '대파(일반)',\n  '990',\n  '0',\n  '0',\n  '키로단',\n  '29'],\n [Timestamp('2020-01-13 00:00:00', freq='D'),\n  '대파(일반)',\n  '866',\n  '0',\n  '0',\n  '키로단',\n  '29']]"
     },
     "metadata": {},
     "output_type": "display_data"
    },
    {
     "data": {
      "text/plain": "[[Timestamp('2020-01-14 00:00:00', freq='D')],\n [Timestamp('2020-01-14 00:00:00', freq='D'),\n  '대파(일반)',\n  '1891',\n  '1837',\n  '1800',\n  '키로단',\n  '29'],\n [Timestamp('2020-01-14 00:00:00', freq='D'),\n  '대파(일반)',\n  '1267',\n  '1191',\n  '1307',\n  '키로단',\n  '29'],\n [Timestamp('2020-01-14 00:00:00', freq='D'),\n  '대파(일반)',\n  '982',\n  '990',\n  '1089',\n  '키로단',\n  '29'],\n [Timestamp('2020-01-14 00:00:00', freq='D'),\n  '대파(일반)',\n  '849',\n  '866',\n  '892',\n  '키로단',\n  '29']]"
     },
     "metadata": {},
     "output_type": "display_data"
    },
    {
     "data": {
      "text/plain": "[[Timestamp('2020-01-15 00:00:00', freq='D')],\n [Timestamp('2020-01-15 00:00:00', freq='D'),\n  '대파(일반)',\n  '2349',\n  '1891',\n  '1897',\n  '키로단',\n  '29'],\n [Timestamp('2020-01-15 00:00:00', freq='D'),\n  '대파(일반)',\n  '1280',\n  '1267',\n  '1511',\n  '키로단',\n  '29'],\n [Timestamp('2020-01-15 00:00:00', freq='D'),\n  '대파(일반)',\n  '1078',\n  '982',\n  '1182',\n  '키로단',\n  '29'],\n [Timestamp('2020-01-15 00:00:00', freq='D'),\n  '대파(일반)',\n  '852',\n  '849',\n  '885',\n  '키로단',\n  '29']]"
     },
     "metadata": {},
     "output_type": "display_data"
    },
    {
     "data": {
      "text/plain": "[[Timestamp('2020-01-16 00:00:00', freq='D')],\n [Timestamp('2020-01-16 00:00:00', freq='D'),\n  '대파(일반)',\n  '1949',\n  '2349',\n  '2005',\n  '키로단',\n  '29'],\n [Timestamp('2020-01-16 00:00:00', freq='D'),\n  '대파(일반)',\n  '1205',\n  '1280',\n  '1459',\n  '키로단',\n  '29'],\n [Timestamp('2020-01-16 00:00:00', freq='D'),\n  '대파(일반)',\n  '1088',\n  '1078',\n  '1153',\n  '키로단',\n  '29'],\n [Timestamp('2020-01-16 00:00:00', freq='D'),\n  '대파(일반)',\n  '872',\n  '852',\n  '890',\n  '키로단',\n  '29']]"
     },
     "metadata": {},
     "output_type": "display_data"
    },
    {
     "data": {
      "text/plain": "[[Timestamp('2020-01-17 00:00:00', freq='D')],\n [Timestamp('2020-01-17 00:00:00', freq='D'),\n  '대파(일반)',\n  '1950',\n  '1949',\n  '2116',\n  '키로단',\n  '29'],\n [Timestamp('2020-01-17 00:00:00', freq='D'),\n  '대파(일반)',\n  '1595',\n  '1205',\n  '1355',\n  '키로단',\n  '29'],\n [Timestamp('2020-01-17 00:00:00', freq='D'),\n  '대파(일반)',\n  '1127',\n  '1088',\n  '1117',\n  '키로단',\n  '29'],\n [Timestamp('2020-01-17 00:00:00', freq='D'),\n  '대파(일반)',\n  '865',\n  '872',\n  '891',\n  '키로단',\n  '29']]"
     },
     "metadata": {},
     "output_type": "display_data"
    },
    {
     "data": {
      "text/plain": "[[Timestamp('2020-01-18 00:00:00', freq='D')],\n [Timestamp('2020-01-18 00:00:00', freq='D'),\n  '대파(일반)',\n  '1951',\n  '1950',\n  '2023',\n  '키로단',\n  '29'],\n [Timestamp('2020-01-18 00:00:00', freq='D'),\n  '대파(일반)',\n  '1605',\n  '1595',\n  '1387',\n  '키로단',\n  '29'],\n [Timestamp('2020-01-18 00:00:00', freq='D'),\n  '대파(일반)',\n  '1157',\n  '1127',\n  '1213',\n  '키로단',\n  '29'],\n [Timestamp('2020-01-18 00:00:00', freq='D'),\n  '대파(일반)',\n  '849',\n  '865',\n  '908',\n  '키로단',\n  '29']]"
     },
     "metadata": {},
     "output_type": "display_data"
    },
    {
     "data": {
      "text/plain": "[[Timestamp('2020-01-19 00:00:00', freq='D')],\n [Timestamp('2020-01-19 00:00:00', freq='D'),\n  '대파(일반)',\n  '0',\n  '1951',\n  '1804',\n  '키로단',\n  '29'],\n [Timestamp('2020-01-19 00:00:00', freq='D'),\n  '대파(일반)',\n  '0',\n  '1605',\n  '1330',\n  '키로단',\n  '29'],\n [Timestamp('2020-01-19 00:00:00', freq='D'),\n  '대파(일반)',\n  '0',\n  '1157',\n  '1103',\n  '키로단',\n  '29'],\n [Timestamp('2020-01-19 00:00:00', freq='D'),\n  '대파(일반)',\n  '0',\n  '849',\n  '796',\n  '키로단',\n  '29']]"
     },
     "metadata": {},
     "output_type": "display_data"
    },
    {
     "data": {
      "text/plain": "[[Timestamp('2020-01-20 00:00:00', freq='D')],\n [Timestamp('2020-01-20 00:00:00', freq='D'),\n  '대파(일반)',\n  '1605',\n  '0',\n  '0',\n  '키로단',\n  '29'],\n [Timestamp('2020-01-20 00:00:00', freq='D'),\n  '대파(일반)',\n  '1138',\n  '0',\n  '0',\n  '키로단',\n  '29'],\n [Timestamp('2020-01-20 00:00:00', freq='D'),\n  '대파(일반)',\n  '934',\n  '0',\n  '0',\n  '키로단',\n  '29'],\n [Timestamp('2020-01-20 00:00:00', freq='D'),\n  '대파(일반)',\n  '785',\n  '0',\n  '0',\n  '키로단',\n  '29']]"
     },
     "metadata": {},
     "output_type": "display_data"
    },
    {
     "data": {
      "text/plain": "[[Timestamp('2020-01-21 00:00:00', freq='D')],\n [Timestamp('2020-01-21 00:00:00', freq='D'),\n  '대파(일반)',\n  '1534',\n  '1605',\n  '2118',\n  '키로단',\n  '29'],\n [Timestamp('2020-01-21 00:00:00', freq='D'),\n  '대파(일반)',\n  '1208',\n  '1138',\n  '1156',\n  '키로단',\n  '29'],\n [Timestamp('2020-01-21 00:00:00', freq='D'),\n  '대파(일반)',\n  '1034',\n  '934',\n  '900',\n  '키로단',\n  '29'],\n [Timestamp('2020-01-21 00:00:00', freq='D'),\n  '대파(일반)',\n  '809',\n  '785',\n  '731',\n  '키로단',\n  '29']]"
     },
     "metadata": {},
     "output_type": "display_data"
    },
    {
     "data": {
      "text/plain": "[[Timestamp('2020-01-22 00:00:00', freq='D')],\n [Timestamp('2020-01-22 00:00:00', freq='D'),\n  '대파(일반)',\n  '1660',\n  '1534',\n  '1905',\n  '키로단',\n  '29'],\n [Timestamp('2020-01-22 00:00:00', freq='D'),\n  '대파(일반)',\n  '1448',\n  '1208',\n  '1323',\n  '키로단',\n  '29'],\n [Timestamp('2020-01-22 00:00:00', freq='D'),\n  '대파(일반)',\n  '1050',\n  '1034',\n  '984',\n  '키로단',\n  '29'],\n [Timestamp('2020-01-22 00:00:00', freq='D'),\n  '대파(일반)',\n  '838',\n  '809',\n  '765',\n  '키로단',\n  '29']]"
     },
     "metadata": {},
     "output_type": "display_data"
    },
    {
     "data": {
      "text/plain": "[[Timestamp('2020-01-23 00:00:00', freq='D')],\n [Timestamp('2020-01-23 00:00:00', freq='D'),\n  '대파(일반)',\n  '1664',\n  '1660',\n  '2107',\n  '키로단',\n  '29'],\n [Timestamp('2020-01-23 00:00:00', freq='D'),\n  '대파(일반)',\n  '1526',\n  '1448',\n  '1454',\n  '키로단',\n  '29'],\n [Timestamp('2020-01-23 00:00:00', freq='D'),\n  '대파(일반)',\n  '953',\n  '1050',\n  '1035',\n  '키로단',\n  '29'],\n [Timestamp('2020-01-23 00:00:00', freq='D'),\n  '대파(일반)',\n  '807',\n  '838',\n  '710',\n  '키로단',\n  '29']]"
     },
     "metadata": {},
     "output_type": "display_data"
    },
    {
     "data": {
      "text/plain": "[[Timestamp('2020-01-24 00:00:00', freq='D')],\n [Timestamp('2020-01-24 00:00:00', freq='D'),\n  '대파(일반)',\n  '1563',\n  '1664',\n  '2258',\n  '키로단',\n  '29'],\n [Timestamp('2020-01-24 00:00:00', freq='D'),\n  '대파(일반)',\n  '1117',\n  '1526',\n  '1542',\n  '키로단',\n  '29'],\n [Timestamp('2020-01-24 00:00:00', freq='D'),\n  '대파(일반)',\n  '836',\n  '953',\n  '972',\n  '키로단',\n  '29'],\n [Timestamp('2020-01-24 00:00:00', freq='D'),\n  '대파(일반)',\n  '769',\n  '807',\n  '668',\n  '키로단',\n  '29']]"
     },
     "metadata": {},
     "output_type": "display_data"
    },
    {
     "data": {
      "text/plain": "[[Timestamp('2020-01-25 00:00:00', freq='D')],\n [Timestamp('2020-01-25 00:00:00', freq='D'),\n  '대파(일반)',\n  '0',\n  '1563',\n  '3099',\n  '키로단',\n  '29'],\n [Timestamp('2020-01-25 00:00:00', freq='D'),\n  '대파(일반)',\n  '0',\n  '1117',\n  '1363',\n  '키로단',\n  '29'],\n [Timestamp('2020-01-25 00:00:00', freq='D'),\n  '대파(일반)',\n  '0',\n  '836',\n  '852',\n  '키로단',\n  '29'],\n [Timestamp('2020-01-25 00:00:00', freq='D'),\n  '대파(일반)',\n  '0',\n  '769',\n  '707',\n  '키로단',\n  '29']]"
     },
     "metadata": {},
     "output_type": "display_data"
    },
    {
     "data": {
      "text/plain": "[[Timestamp('2020-01-26 00:00:00', freq='D')],\n [Timestamp('2020-01-26 00:00:00', freq='D'),\n  '대파(일반)',\n  '0',\n  '0',\n  '3077',\n  '키로단',\n  '29'],\n [Timestamp('2020-01-26 00:00:00', freq='D'),\n  '대파(일반)',\n  '0',\n  '0',\n  '1338',\n  '키로단',\n  '29'],\n [Timestamp('2020-01-26 00:00:00', freq='D'),\n  '대파(일반)',\n  '0',\n  '0',\n  '838',\n  '키로단',\n  '29'],\n [Timestamp('2020-01-26 00:00:00', freq='D'),\n  '대파(일반)',\n  '0',\n  '0',\n  '704',\n  '키로단',\n  '29']]"
     },
     "metadata": {},
     "output_type": "display_data"
    },
    {
     "data": {
      "text/plain": "[[Timestamp('2020-01-27 00:00:00', freq='D')],\n [Timestamp('2020-01-27 00:00:00', freq='D'),\n  '대파(일반)',\n  '0',\n  '0',\n  '2200',\n  '키로단',\n  '29'],\n [Timestamp('2020-01-27 00:00:00', freq='D'),\n  '대파(일반)',\n  '0',\n  '0',\n  '1197',\n  '키로단',\n  '29'],\n [Timestamp('2020-01-27 00:00:00', freq='D'),\n  '대파(일반)',\n  '0',\n  '0',\n  '788',\n  '키로단',\n  '29'],\n [Timestamp('2020-01-27 00:00:00', freq='D'),\n  '대파(일반)',\n  '0',\n  '0',\n  '700',\n  '키로단',\n  '29']]"
     },
     "metadata": {},
     "output_type": "display_data"
    },
    {
     "data": {
      "text/plain": "[[Timestamp('2020-01-28 00:00:00', freq='D')],\n [Timestamp('2020-01-28 00:00:00', freq='D'),\n  '대파(일반)',\n  '1720',\n  '0',\n  '2011',\n  '키로단',\n  '29'],\n [Timestamp('2020-01-28 00:00:00', freq='D'),\n  '대파(일반)',\n  '1162',\n  '0',\n  '1257',\n  '키로단',\n  '29'],\n [Timestamp('2020-01-28 00:00:00', freq='D'),\n  '대파(일반)',\n  '972',\n  '0',\n  '858',\n  '키로단',\n  '29'],\n [Timestamp('2020-01-28 00:00:00', freq='D'),\n  '대파(일반)',\n  '757',\n  '0',\n  '717',\n  '키로단',\n  '29']]"
     },
     "metadata": {},
     "output_type": "display_data"
    },
    {
     "data": {
      "text/plain": "[[Timestamp('2020-01-29 00:00:00', freq='D')],\n [Timestamp('2020-01-29 00:00:00', freq='D'),\n  '대파(일반)',\n  '1616',\n  '1720',\n  '2075',\n  '키로단',\n  '29'],\n [Timestamp('2020-01-29 00:00:00', freq='D'),\n  '대파(일반)',\n  '1158',\n  '1162',\n  '1432',\n  '키로단',\n  '29'],\n [Timestamp('2020-01-29 00:00:00', freq='D'),\n  '대파(일반)',\n  '917',\n  '972',\n  '867',\n  '키로단',\n  '29'],\n [Timestamp('2020-01-29 00:00:00', freq='D'),\n  '대파(일반)',\n  '740',\n  '757',\n  '657',\n  '키로단',\n  '29']]"
     },
     "metadata": {},
     "output_type": "display_data"
    },
    {
     "data": {
      "text/plain": "[[Timestamp('2020-01-30 00:00:00', freq='D')],\n [Timestamp('2020-01-30 00:00:00', freq='D'),\n  '대파(일반)',\n  '1545',\n  '1616',\n  '2099',\n  '키로단',\n  '29'],\n [Timestamp('2020-01-30 00:00:00', freq='D'),\n  '대파(일반)',\n  '1158',\n  '1158',\n  '1458',\n  '키로단',\n  '29'],\n [Timestamp('2020-01-30 00:00:00', freq='D'),\n  '대파(일반)',\n  '1158',\n  '917',\n  '896',\n  '키로단',\n  '29'],\n [Timestamp('2020-01-30 00:00:00', freq='D'),\n  '대파(일반)',\n  '682',\n  '740',\n  '657',\n  '키로단',\n  '29']]"
     },
     "metadata": {},
     "output_type": "display_data"
    },
    {
     "data": {
      "text/plain": "[[Timestamp('2020-01-31 00:00:00', freq='D')],\n [Timestamp('2020-01-31 00:00:00', freq='D'),\n  '대파(일반)',\n  '1532',\n  '1545',\n  '2162',\n  '키로단',\n  '29'],\n [Timestamp('2020-01-31 00:00:00', freq='D'),\n  '대파(일반)',\n  '1158',\n  '1158',\n  '1239',\n  '키로단',\n  '29'],\n [Timestamp('2020-01-31 00:00:00', freq='D'),\n  '대파(일반)',\n  '1016',\n  '1158',\n  '1025',\n  '키로단',\n  '29'],\n [Timestamp('2020-01-31 00:00:00', freq='D'),\n  '대파(일반)',\n  '612',\n  '682',\n  '799',\n  '키로단',\n  '29']]"
     },
     "metadata": {},
     "output_type": "display_data"
    },
    {
     "data": {
      "text/plain": "[[Timestamp('2020-02-01 00:00:00', freq='D')],\n [Timestamp('2020-02-01 00:00:00', freq='D'),\n  '대파(일반)',\n  '1406',\n  '1532',\n  '2211',\n  '키로단',\n  '29'],\n [Timestamp('2020-02-01 00:00:00', freq='D'),\n  '대파(일반)',\n  '979',\n  '1158',\n  '1350',\n  '키로단',\n  '29'],\n [Timestamp('2020-02-01 00:00:00', freq='D'),\n  '대파(일반)',\n  '721',\n  '1016',\n  '1045',\n  '키로단',\n  '29'],\n [Timestamp('2020-02-01 00:00:00', freq='D'),\n  '대파(일반)',\n  '590',\n  '612',\n  '836',\n  '키로단',\n  '29']]"
     },
     "metadata": {},
     "output_type": "display_data"
    },
    {
     "data": {
      "text/plain": "[[Timestamp('2020-02-02 00:00:00', freq='D')],\n [Timestamp('2020-02-02 00:00:00', freq='D'),\n  '대파(일반)',\n  '0',\n  '1406',\n  '1890',\n  '키로단',\n  '29'],\n [Timestamp('2020-02-02 00:00:00', freq='D'),\n  '대파(일반)',\n  '0',\n  '979',\n  '1369',\n  '키로단',\n  '29'],\n [Timestamp('2020-02-02 00:00:00', freq='D'),\n  '대파(일반)',\n  '0',\n  '721',\n  '1195',\n  '키로단',\n  '29'],\n [Timestamp('2020-02-02 00:00:00', freq='D'),\n  '대파(일반)',\n  '0',\n  '590',\n  '870',\n  '키로단',\n  '29']]"
     },
     "metadata": {},
     "output_type": "display_data"
    },
    {
     "data": {
      "text/plain": "[[Timestamp('2020-02-03 00:00:00', freq='D')],\n [Timestamp('2020-02-03 00:00:00', freq='D'),\n  '대파(일반)',\n  '1733',\n  '0',\n  '0',\n  '키로단',\n  '29'],\n [Timestamp('2020-02-03 00:00:00', freq='D'),\n  '대파(일반)',\n  '1230',\n  '0',\n  '0',\n  '키로단',\n  '29'],\n [Timestamp('2020-02-03 00:00:00', freq='D'),\n  '대파(일반)',\n  '917',\n  '0',\n  '0',\n  '키로단',\n  '29'],\n [Timestamp('2020-02-03 00:00:00', freq='D'),\n  '대파(일반)',\n  '770',\n  '0',\n  '0',\n  '키로단',\n  '29']]"
     },
     "metadata": {},
     "output_type": "display_data"
    },
    {
     "data": {
      "text/plain": "[[Timestamp('2020-02-04 00:00:00', freq='D')],\n [Timestamp('2020-02-04 00:00:00', freq='D'),\n  '대파(일반)',\n  '1809',\n  '1733',\n  '0',\n  '키로단',\n  '29'],\n [Timestamp('2020-02-04 00:00:00', freq='D'),\n  '대파(일반)',\n  '1359',\n  '1230',\n  '0',\n  '키로단',\n  '29'],\n [Timestamp('2020-02-04 00:00:00', freq='D'),\n  '대파(일반)',\n  '1063',\n  '917',\n  '0',\n  '키로단',\n  '29'],\n [Timestamp('2020-02-04 00:00:00', freq='D'),\n  '대파(일반)',\n  '810',\n  '770',\n  '0',\n  '키로단',\n  '29']]"
     },
     "metadata": {},
     "output_type": "display_data"
    },
    {
     "data": {
      "text/plain": "[[Timestamp('2020-02-05 00:00:00', freq='D')],\n [Timestamp('2020-02-05 00:00:00', freq='D'),\n  '대파(일반)',\n  '1825',\n  '1809',\n  '0',\n  '키로단',\n  '29'],\n [Timestamp('2020-02-05 00:00:00', freq='D'),\n  '대파(일반)',\n  '1394',\n  '1359',\n  '0',\n  '키로단',\n  '29'],\n [Timestamp('2020-02-05 00:00:00', freq='D'),\n  '대파(일반)',\n  '1151',\n  '1063',\n  '0',\n  '키로단',\n  '29'],\n [Timestamp('2020-02-05 00:00:00', freq='D'),\n  '대파(일반)',\n  '975',\n  '810',\n  '0',\n  '키로단',\n  '29']]"
     },
     "metadata": {},
     "output_type": "display_data"
    },
    {
     "data": {
      "text/plain": "[[Timestamp('2020-02-06 00:00:00', freq='D')],\n [Timestamp('2020-02-06 00:00:00', freq='D'),\n  '대파(일반)',\n  '1800',\n  '1825',\n  '0',\n  '키로단',\n  '29'],\n [Timestamp('2020-02-06 00:00:00', freq='D'),\n  '대파(일반)',\n  '1431',\n  '1394',\n  '0',\n  '키로단',\n  '29'],\n [Timestamp('2020-02-06 00:00:00', freq='D'),\n  '대파(일반)',\n  '1132',\n  '1151',\n  '0',\n  '키로단',\n  '29'],\n [Timestamp('2020-02-06 00:00:00', freq='D'),\n  '대파(일반)',\n  '948',\n  '975',\n  '0',\n  '키로단',\n  '29']]"
     },
     "metadata": {},
     "output_type": "display_data"
    },
    {
     "data": {
      "text/plain": "[[Timestamp('2020-02-07 00:00:00', freq='D')],\n [Timestamp('2020-02-07 00:00:00', freq='D'),\n  '대파(일반)',\n  '1735',\n  '1800',\n  '1890',\n  '키로단',\n  '29'],\n [Timestamp('2020-02-07 00:00:00', freq='D'),\n  '대파(일반)',\n  '1275',\n  '1431',\n  '1369',\n  '키로단',\n  '29'],\n [Timestamp('2020-02-07 00:00:00', freq='D'),\n  '대파(일반)',\n  '1010',\n  '1132',\n  '1195',\n  '키로단',\n  '29'],\n [Timestamp('2020-02-07 00:00:00', freq='D'),\n  '대파(일반)',\n  '763',\n  '948',\n  '870',\n  '키로단',\n  '29']]"
     },
     "metadata": {},
     "output_type": "display_data"
    },
    {
     "data": {
      "text/plain": "[[Timestamp('2020-02-08 00:00:00', freq='D')],\n [Timestamp('2020-02-08 00:00:00', freq='D'),\n  '대파(일반)',\n  '1563',\n  '1735',\n  '1500',\n  '키로단',\n  '29'],\n [Timestamp('2020-02-08 00:00:00', freq='D'),\n  '대파(일반)',\n  '1184',\n  '1275',\n  '1047',\n  '키로단',\n  '29'],\n [Timestamp('2020-02-08 00:00:00', freq='D'),\n  '대파(일반)',\n  '974',\n  '1010',\n  '926',\n  '키로단',\n  '29'],\n [Timestamp('2020-02-08 00:00:00', freq='D'),\n  '대파(일반)',\n  '749',\n  '763',\n  '753',\n  '키로단',\n  '29']]"
     },
     "metadata": {},
     "output_type": "display_data"
    },
    {
     "data": {
      "text/plain": "[[Timestamp('2020-02-09 00:00:00', freq='D')],\n [Timestamp('2020-02-09 00:00:00', freq='D'),\n  '대파(일반)',\n  '0',\n  '1563',\n  '1770',\n  '키로단',\n  '29'],\n [Timestamp('2020-02-09 00:00:00', freq='D'),\n  '대파(일반)',\n  '0',\n  '1184',\n  '1134',\n  '키로단',\n  '29'],\n [Timestamp('2020-02-09 00:00:00', freq='D'),\n  '대파(일반)',\n  '0',\n  '974',\n  '970',\n  '키로단',\n  '29'],\n [Timestamp('2020-02-09 00:00:00', freq='D'),\n  '대파(일반)',\n  '0',\n  '749',\n  '731',\n  '키로단',\n  '29']]"
     },
     "metadata": {},
     "output_type": "display_data"
    },
    {
     "data": {
      "text/plain": "[[Timestamp('2020-02-10 00:00:00', freq='D')],\n [Timestamp('2020-02-10 00:00:00', freq='D'),\n  '대파(일반)',\n  '1430',\n  '0',\n  '0',\n  '키로단',\n  '29'],\n [Timestamp('2020-02-10 00:00:00', freq='D'),\n  '대파(일반)',\n  '1232',\n  '0',\n  '0',\n  '키로단',\n  '29'],\n [Timestamp('2020-02-10 00:00:00', freq='D'),\n  '대파(일반)',\n  '898',\n  '0',\n  '0',\n  '키로단',\n  '29'],\n [Timestamp('2020-02-10 00:00:00', freq='D'),\n  '대파(일반)',\n  '719',\n  '0',\n  '0',\n  '키로단',\n  '29']]"
     },
     "metadata": {},
     "output_type": "display_data"
    },
    {
     "data": {
      "text/plain": "[[Timestamp('2020-02-11 00:00:00', freq='D')],\n [Timestamp('2020-02-11 00:00:00', freq='D'),\n  '대파(일반)',\n  '1418',\n  '1430',\n  '1918',\n  '키로단',\n  '29'],\n [Timestamp('2020-02-11 00:00:00', freq='D'),\n  '대파(일반)',\n  '1138',\n  '1232',\n  '1355',\n  '키로단',\n  '29'],\n [Timestamp('2020-02-11 00:00:00', freq='D'),\n  '대파(일반)',\n  '838',\n  '898',\n  '1072',\n  '키로단',\n  '29'],\n [Timestamp('2020-02-11 00:00:00', freq='D'),\n  '대파(일반)',\n  '707',\n  '719',\n  '738',\n  '키로단',\n  '29']]"
     },
     "metadata": {},
     "output_type": "display_data"
    },
    {
     "data": {
      "text/plain": "[[Timestamp('2020-02-12 00:00:00', freq='D')],\n [Timestamp('2020-02-12 00:00:00', freq='D'),\n  '대파(일반)',\n  '1332',\n  '1418',\n  '1981',\n  '키로단',\n  '29'],\n [Timestamp('2020-02-12 00:00:00', freq='D'),\n  '대파(일반)',\n  '1188',\n  '1138',\n  '1358',\n  '키로단',\n  '29'],\n [Timestamp('2020-02-12 00:00:00', freq='D'),\n  '대파(일반)',\n  '917',\n  '838',\n  '1024',\n  '키로단',\n  '29'],\n [Timestamp('2020-02-12 00:00:00', freq='D'),\n  '대파(일반)',\n  '746',\n  '707',\n  '729',\n  '키로단',\n  '29']]"
     },
     "metadata": {},
     "output_type": "display_data"
    },
    {
     "data": {
      "text/plain": "[[Timestamp('2020-02-13 00:00:00', freq='D')],\n [Timestamp('2020-02-13 00:00:00', freq='D'),\n  '대파(일반)',\n  '1314',\n  '1332',\n  '1994',\n  '키로단',\n  '29'],\n [Timestamp('2020-02-13 00:00:00', freq='D'),\n  '대파(일반)',\n  '1210',\n  '1188',\n  '1277',\n  '키로단',\n  '29'],\n [Timestamp('2020-02-13 00:00:00', freq='D'),\n  '대파(일반)',\n  '956',\n  '917',\n  '1075',\n  '키로단',\n  '29'],\n [Timestamp('2020-02-13 00:00:00', freq='D'),\n  '대파(일반)',\n  '765',\n  '746',\n  '800',\n  '키로단',\n  '29']]"
     },
     "metadata": {},
     "output_type": "display_data"
    },
    {
     "data": {
      "text/plain": "[[Timestamp('2020-02-14 00:00:00', freq='D')],\n [Timestamp('2020-02-14 00:00:00', freq='D'),\n  '대파(일반)',\n  '1259',\n  '1314',\n  '1756',\n  '키로단',\n  '29'],\n [Timestamp('2020-02-14 00:00:00', freq='D'),\n  '대파(일반)',\n  '1076',\n  '1210',\n  '1259',\n  '키로단',\n  '29'],\n [Timestamp('2020-02-14 00:00:00', freq='D'),\n  '대파(일반)',\n  '842',\n  '956',\n  '1124',\n  '키로단',\n  '29'],\n [Timestamp('2020-02-14 00:00:00', freq='D'),\n  '대파(일반)',\n  '683',\n  '765',\n  '923',\n  '키로단',\n  '29']]"
     },
     "metadata": {},
     "output_type": "display_data"
    },
    {
     "data": {
      "text/plain": "[[Timestamp('2020-02-15 00:00:00', freq='D')],\n [Timestamp('2020-02-15 00:00:00', freq='D'),\n  '대파(일반)',\n  '1341',\n  '1259',\n  '1782',\n  '키로단',\n  '29'],\n [Timestamp('2020-02-15 00:00:00', freq='D'),\n  '대파(일반)',\n  '1076',\n  '1076',\n  '1271',\n  '키로단',\n  '29'],\n [Timestamp('2020-02-15 00:00:00', freq='D'),\n  '대파(일반)',\n  '1066',\n  '842',\n  '1112',\n  '키로단',\n  '29'],\n [Timestamp('2020-02-15 00:00:00', freq='D'),\n  '대파(일반)',\n  '703',\n  '683',\n  '913',\n  '키로단',\n  '29']]"
     },
     "metadata": {},
     "output_type": "display_data"
    },
    {
     "data": {
      "text/plain": "[[Timestamp('2020-02-16 00:00:00', freq='D')],\n [Timestamp('2020-02-16 00:00:00', freq='D'),\n  '대파(일반)',\n  '0',\n  '1341',\n  '1705',\n  '키로단',\n  '29'],\n [Timestamp('2020-02-16 00:00:00', freq='D'),\n  '대파(일반)',\n  '0',\n  '1076',\n  '1186',\n  '키로단',\n  '29'],\n [Timestamp('2020-02-16 00:00:00', freq='D'),\n  '대파(일반)',\n  '0',\n  '1066',\n  '999',\n  '키로단',\n  '29'],\n [Timestamp('2020-02-16 00:00:00', freq='D'),\n  '대파(일반)',\n  '0',\n  '703',\n  '841',\n  '키로단',\n  '29']]"
     },
     "metadata": {},
     "output_type": "display_data"
    },
    {
     "data": {
      "text/plain": "[[Timestamp('2020-02-17 00:00:00', freq='D')],\n [Timestamp('2020-02-17 00:00:00', freq='D'),\n  '대파(일반)',\n  '1430',\n  '0',\n  '0',\n  '키로단',\n  '29'],\n [Timestamp('2020-02-17 00:00:00', freq='D'),\n  '대파(일반)',\n  '1102',\n  '0',\n  '0',\n  '키로단',\n  '29'],\n [Timestamp('2020-02-17 00:00:00', freq='D'),\n  '대파(일반)',\n  '933',\n  '0',\n  '0',\n  '키로단',\n  '29'],\n [Timestamp('2020-02-17 00:00:00', freq='D'),\n  '대파(일반)',\n  '679',\n  '0',\n  '0',\n  '키로단',\n  '29']]"
     },
     "metadata": {},
     "output_type": "display_data"
    },
    {
     "data": {
      "text/plain": "[[Timestamp('2020-02-18 00:00:00', freq='D')],\n [Timestamp('2020-02-18 00:00:00', freq='D'),\n  '대파(일반)',\n  '1407',\n  '1430',\n  '2000',\n  '키로단',\n  '29'],\n [Timestamp('2020-02-18 00:00:00', freq='D'),\n  '대파(일반)',\n  '1119',\n  '1102',\n  '1442',\n  '키로단',\n  '29'],\n [Timestamp('2020-02-18 00:00:00', freq='D'),\n  '대파(일반)',\n  '1064',\n  '933',\n  '1018',\n  '키로단',\n  '29'],\n [Timestamp('2020-02-18 00:00:00', freq='D'),\n  '대파(일반)',\n  '778',\n  '679',\n  '706',\n  '키로단',\n  '29']]"
     },
     "metadata": {},
     "output_type": "display_data"
    },
    {
     "data": {
      "text/plain": "[[Timestamp('2020-02-19 00:00:00', freq='D')],\n [Timestamp('2020-02-19 00:00:00', freq='D'),\n  '대파(일반)',\n  '1618',\n  '1407',\n  '2200',\n  '키로단',\n  '29'],\n [Timestamp('2020-02-19 00:00:00', freq='D'),\n  '대파(일반)',\n  '1161',\n  '1119',\n  '2144',\n  '키로단',\n  '29'],\n [Timestamp('2020-02-19 00:00:00', freq='D'),\n  '대파(일반)',\n  '1092',\n  '1064',\n  '1251',\n  '키로단',\n  '29'],\n [Timestamp('2020-02-19 00:00:00', freq='D'),\n  '대파(일반)',\n  '855',\n  '778',\n  '830',\n  '키로단',\n  '29']]"
     },
     "metadata": {},
     "output_type": "display_data"
    },
    {
     "data": {
      "text/plain": "[[Timestamp('2020-02-20 00:00:00', freq='D')],\n [Timestamp('2020-02-20 00:00:00', freq='D'),\n  '대파(일반)',\n  '1729',\n  '1618',\n  '2200',\n  '키로단',\n  '29'],\n [Timestamp('2020-02-20 00:00:00', freq='D'),\n  '대파(일반)',\n  '1347',\n  '1161',\n  '2075',\n  '키로단',\n  '29'],\n [Timestamp('2020-02-20 00:00:00', freq='D'),\n  '대파(일반)',\n  '1032',\n  '1092',\n  '1181',\n  '키로단',\n  '29'],\n [Timestamp('2020-02-20 00:00:00', freq='D'),\n  '대파(일반)',\n  '744',\n  '855',\n  '821',\n  '키로단',\n  '29']]"
     },
     "metadata": {},
     "output_type": "display_data"
    },
    {
     "data": {
      "text/plain": "[[Timestamp('2020-02-21 00:00:00', freq='D')],\n [Timestamp('2020-02-21 00:00:00', freq='D'),\n  '대파(일반)',\n  '1647',\n  '1729',\n  '1846',\n  '키로단',\n  '29'],\n [Timestamp('2020-02-21 00:00:00', freq='D'),\n  '대파(일반)',\n  '1257',\n  '1347',\n  '1310',\n  '키로단',\n  '29'],\n [Timestamp('2020-02-21 00:00:00', freq='D'),\n  '대파(일반)',\n  '915',\n  '1032',\n  '1045',\n  '키로단',\n  '29'],\n [Timestamp('2020-02-21 00:00:00', freq='D'),\n  '대파(일반)',\n  '740',\n  '744',\n  '831',\n  '키로단',\n  '29']]"
     },
     "metadata": {},
     "output_type": "display_data"
    },
    {
     "data": {
      "text/plain": "[[Timestamp('2020-02-22 00:00:00', freq='D')],\n [Timestamp('2020-02-22 00:00:00', freq='D'),\n  '대파(일반)',\n  '1436',\n  '1647',\n  '1779',\n  '키로단',\n  '29'],\n [Timestamp('2020-02-22 00:00:00', freq='D'),\n  '대파(일반)',\n  '1257',\n  '1257',\n  '1327',\n  '키로단',\n  '29'],\n [Timestamp('2020-02-22 00:00:00', freq='D'),\n  '대파(일반)',\n  '954',\n  '915',\n  '1139',\n  '키로단',\n  '29'],\n [Timestamp('2020-02-22 00:00:00', freq='D'),\n  '대파(일반)',\n  '786',\n  '740',\n  '950',\n  '키로단',\n  '29']]"
     },
     "metadata": {},
     "output_type": "display_data"
    },
    {
     "data": {
      "text/plain": "[[Timestamp('2020-02-23 00:00:00', freq='D')],\n [Timestamp('2020-02-23 00:00:00', freq='D'),\n  '대파(일반)',\n  '0',\n  '1436',\n  '1597',\n  '키로단',\n  '29'],\n [Timestamp('2020-02-23 00:00:00', freq='D'),\n  '대파(일반)',\n  '0',\n  '1257',\n  '1218',\n  '키로단',\n  '29'],\n [Timestamp('2020-02-23 00:00:00', freq='D'),\n  '대파(일반)',\n  '0',\n  '954',\n  '1117',\n  '키로단',\n  '29'],\n [Timestamp('2020-02-23 00:00:00', freq='D'),\n  '대파(일반)',\n  '0',\n  '786',\n  '884',\n  '키로단',\n  '29']]"
     },
     "metadata": {},
     "output_type": "display_data"
    },
    {
     "data": {
      "text/plain": "[[Timestamp('2020-02-24 00:00:00', freq='D')],\n [Timestamp('2020-02-24 00:00:00', freq='D'),\n  '대파(일반)',\n  '1276',\n  '0',\n  '0',\n  '키로단',\n  '29'],\n [Timestamp('2020-02-24 00:00:00', freq='D'),\n  '대파(일반)',\n  '1105',\n  '0',\n  '0',\n  '키로단',\n  '29'],\n [Timestamp('2020-02-24 00:00:00', freq='D'),\n  '대파(일반)',\n  '871',\n  '0',\n  '0',\n  '키로단',\n  '29'],\n [Timestamp('2020-02-24 00:00:00', freq='D'),\n  '대파(일반)',\n  '800',\n  '0',\n  '0',\n  '키로단',\n  '29']]"
     },
     "metadata": {},
     "output_type": "display_data"
    },
    {
     "data": {
      "text/plain": "[[Timestamp('2020-02-25 00:00:00', freq='D')],\n [Timestamp('2020-02-25 00:00:00', freq='D'),\n  '대파(일반)',\n  '1355',\n  '1276',\n  '1600',\n  '키로단',\n  '29'],\n [Timestamp('2020-02-25 00:00:00', freq='D'),\n  '대파(일반)',\n  '1289',\n  '1105',\n  '1258',\n  '키로단',\n  '29'],\n [Timestamp('2020-02-25 00:00:00', freq='D'),\n  '대파(일반)',\n  '1065',\n  '871',\n  '959',\n  '키로단',\n  '29'],\n [Timestamp('2020-02-25 00:00:00', freq='D'),\n  '대파(일반)',\n  '804',\n  '800',\n  '700',\n  '키로단',\n  '29']]"
     },
     "metadata": {},
     "output_type": "display_data"
    },
    {
     "data": {
      "text/plain": "[[Timestamp('2020-02-26 00:00:00', freq='D')],\n [Timestamp('2020-02-26 00:00:00', freq='D'),\n  '대파(일반)',\n  '1384',\n  '1355',\n  '1662',\n  '키로단',\n  '29'],\n [Timestamp('2020-02-26 00:00:00', freq='D'),\n  '대파(일반)',\n  '1102',\n  '1289',\n  '1353',\n  '키로단',\n  '29'],\n [Timestamp('2020-02-26 00:00:00', freq='D'),\n  '대파(일반)',\n  '1027',\n  '1065',\n  '1013',\n  '키로단',\n  '29'],\n [Timestamp('2020-02-26 00:00:00', freq='D'),\n  '대파(일반)',\n  '775',\n  '804',\n  '746',\n  '키로단',\n  '29']]"
     },
     "metadata": {},
     "output_type": "display_data"
    },
    {
     "data": {
      "text/plain": "[[Timestamp('2020-02-27 00:00:00', freq='D')],\n [Timestamp('2020-02-27 00:00:00', freq='D'),\n  '대파(일반)',\n  '1442',\n  '1384',\n  '1850',\n  '키로단',\n  '29'],\n [Timestamp('2020-02-27 00:00:00', freq='D'),\n  '대파(일반)',\n  '1102',\n  '1102',\n  '1302',\n  '키로단',\n  '29'],\n [Timestamp('2020-02-27 00:00:00', freq='D'),\n  '대파(일반)',\n  '1125',\n  '1027',\n  '1079',\n  '키로단',\n  '29'],\n [Timestamp('2020-02-27 00:00:00', freq='D'),\n  '대파(일반)',\n  '849',\n  '775',\n  '802',\n  '키로단',\n  '29']]"
     },
     "metadata": {},
     "output_type": "display_data"
    },
    {
     "data": {
      "text/plain": "[[Timestamp('2020-02-28 00:00:00', freq='D')],\n [Timestamp('2020-02-28 00:00:00', freq='D'),\n  '대파(일반)',\n  '1427',\n  '1442',\n  '1865',\n  '키로단',\n  '29'],\n [Timestamp('2020-02-28 00:00:00', freq='D'),\n  '대파(일반)',\n  '1375',\n  '1102',\n  '1260',\n  '키로단',\n  '29'],\n [Timestamp('2020-02-28 00:00:00', freq='D'),\n  '대파(일반)',\n  '1177',\n  '1125',\n  '1162',\n  '키로단',\n  '29'],\n [Timestamp('2020-02-28 00:00:00', freq='D'),\n  '대파(일반)',\n  '928',\n  '849',\n  '864',\n  '키로단',\n  '29']]"
     },
     "metadata": {},
     "output_type": "display_data"
    },
    {
     "data": {
      "text/plain": "[[Timestamp('2020-02-29 00:00:00', freq='D')],\n [Timestamp('2020-02-29 00:00:00', freq='D'),\n  '대파(일반)',\n  '2157',\n  '1427',\n  '1865',\n  '키로단',\n  '29'],\n [Timestamp('2020-02-29 00:00:00', freq='D'),\n  '대파(일반)',\n  '1300',\n  '1375',\n  '1306',\n  '키로단',\n  '29'],\n [Timestamp('2020-02-29 00:00:00', freq='D'),\n  '대파(일반)',\n  '1103',\n  '1177',\n  '1054',\n  '키로단',\n  '29'],\n [Timestamp('2020-02-29 00:00:00', freq='D'),\n  '대파(일반)',\n  '828',\n  '928',\n  '682',\n  '키로단',\n  '29']]"
     },
     "metadata": {},
     "output_type": "display_data"
    },
    {
     "data": {
      "text/plain": "[[Timestamp('2020-03-01 00:00:00', freq='D')],\n [Timestamp('2020-03-01 00:00:00', freq='D'),\n  '대파(일반)',\n  '0',\n  '2157',\n  '2200',\n  '키로단',\n  '29'],\n [Timestamp('2020-03-01 00:00:00', freq='D'),\n  '대파(일반)',\n  '0',\n  '1300',\n  '1264',\n  '키로단',\n  '29'],\n [Timestamp('2020-03-01 00:00:00', freq='D'),\n  '대파(일반)',\n  '0',\n  '1103',\n  '842',\n  '키로단',\n  '29'],\n [Timestamp('2020-03-01 00:00:00', freq='D'),\n  '대파(일반)',\n  '0',\n  '828',\n  '626',\n  '키로단',\n  '29']]"
     },
     "metadata": {},
     "output_type": "display_data"
    },
    {
     "data": {
      "text/plain": "[[Timestamp('2020-03-02 00:00:00', freq='D')],\n [Timestamp('2020-03-02 00:00:00', freq='D'),\n  '대파(일반)',\n  '1376',\n  '0',\n  '0',\n  '키로단',\n  '29'],\n [Timestamp('2020-03-02 00:00:00', freq='D'),\n  '대파(일반)',\n  '1146',\n  '0',\n  '0',\n  '키로단',\n  '29'],\n [Timestamp('2020-03-02 00:00:00', freq='D'),\n  '대파(일반)',\n  '941',\n  '0',\n  '0',\n  '키로단',\n  '29'],\n [Timestamp('2020-03-02 00:00:00', freq='D'),\n  '대파(일반)',\n  '818',\n  '0',\n  '0',\n  '키로단',\n  '29']]"
     },
     "metadata": {},
     "output_type": "display_data"
    },
    {
     "data": {
      "text/plain": "[[Timestamp('2020-03-03 00:00:00', freq='D')],\n [Timestamp('2020-03-03 00:00:00', freq='D'),\n  '대파(일반)',\n  '1417',\n  '1376',\n  '1724',\n  '키로단',\n  '29'],\n [Timestamp('2020-03-03 00:00:00', freq='D'),\n  '대파(일반)',\n  '1203',\n  '1146',\n  '1101',\n  '키로단',\n  '29'],\n [Timestamp('2020-03-03 00:00:00', freq='D'),\n  '대파(일반)',\n  '936',\n  '941',\n  '886',\n  '키로단',\n  '29'],\n [Timestamp('2020-03-03 00:00:00', freq='D'),\n  '대파(일반)',\n  '795',\n  '818',\n  '720',\n  '키로단',\n  '29']]"
     },
     "metadata": {},
     "output_type": "display_data"
    },
    {
     "data": {
      "text/plain": "[[Timestamp('2020-03-04 00:00:00', freq='D')],\n [Timestamp('2020-03-04 00:00:00', freq='D'),\n  '대파(일반)',\n  '1364',\n  '1417',\n  '1757',\n  '키로단',\n  '29'],\n [Timestamp('2020-03-04 00:00:00', freq='D'),\n  '대파(일반)',\n  '1124',\n  '1203',\n  '1436',\n  '키로단',\n  '29'],\n [Timestamp('2020-03-04 00:00:00', freq='D'),\n  '대파(일반)',\n  '1021',\n  '936',\n  '955',\n  '키로단',\n  '29'],\n [Timestamp('2020-03-04 00:00:00', freq='D'),\n  '대파(일반)',\n  '772',\n  '795',\n  '715',\n  '키로단',\n  '29']]"
     },
     "metadata": {},
     "output_type": "display_data"
    },
    {
     "data": {
      "text/plain": "[[Timestamp('2020-03-05 00:00:00', freq='D')],\n [Timestamp('2020-03-05 00:00:00', freq='D'),\n  '대파(일반)',\n  '1252',\n  '1364',\n  '1759',\n  '키로단',\n  '29'],\n [Timestamp('2020-03-05 00:00:00', freq='D'),\n  '대파(일반)',\n  '1166',\n  '1124',\n  '1435',\n  '키로단',\n  '29'],\n [Timestamp('2020-03-05 00:00:00', freq='D'),\n  '대파(일반)',\n  '1070',\n  '1021',\n  '987',\n  '키로단',\n  '29'],\n [Timestamp('2020-03-05 00:00:00', freq='D'),\n  '대파(일반)',\n  '794',\n  '772',\n  '726',\n  '키로단',\n  '29']]"
     },
     "metadata": {},
     "output_type": "display_data"
    },
    {
     "data": {
      "text/plain": "[[Timestamp('2020-03-06 00:00:00', freq='D')],\n [Timestamp('2020-03-06 00:00:00', freq='D'),\n  '대파(일반)',\n  '1277',\n  '1252',\n  '1598',\n  '키로단',\n  '29'],\n [Timestamp('2020-03-06 00:00:00', freq='D'),\n  '대파(일반)',\n  '1200',\n  '1166',\n  '1176',\n  '키로단',\n  '29'],\n [Timestamp('2020-03-06 00:00:00', freq='D'),\n  '대파(일반)',\n  '1067',\n  '1070',\n  '988',\n  '키로단',\n  '29'],\n [Timestamp('2020-03-06 00:00:00', freq='D'),\n  '대파(일반)',\n  '813',\n  '794',\n  '766',\n  '키로단',\n  '29']]"
     },
     "metadata": {},
     "output_type": "display_data"
    },
    {
     "data": {
      "text/plain": "[[Timestamp('2020-03-07 00:00:00', freq='D')],\n [Timestamp('2020-03-07 00:00:00', freq='D'),\n  '대파(일반)',\n  '1230',\n  '1277',\n  '1618',\n  '키로단',\n  '29'],\n [Timestamp('2020-03-07 00:00:00', freq='D'),\n  '대파(일반)',\n  '1115',\n  '1200',\n  '1217',\n  '키로단',\n  '29'],\n [Timestamp('2020-03-07 00:00:00', freq='D'),\n  '대파(일반)',\n  '967',\n  '1067',\n  '960',\n  '키로단',\n  '29'],\n [Timestamp('2020-03-07 00:00:00', freq='D'),\n  '대파(일반)',\n  '788',\n  '813',\n  '682',\n  '키로단',\n  '29']]"
     },
     "metadata": {},
     "output_type": "display_data"
    },
    {
     "data": {
      "text/plain": "[[Timestamp('2020-03-08 00:00:00', freq='D')],\n [Timestamp('2020-03-08 00:00:00', freq='D'),\n  '대파(일반)',\n  '0',\n  '1230',\n  '1609',\n  '키로단',\n  '29'],\n [Timestamp('2020-03-08 00:00:00', freq='D'),\n  '대파(일반)',\n  '0',\n  '1115',\n  '1030',\n  '키로단',\n  '29'],\n [Timestamp('2020-03-08 00:00:00', freq='D'),\n  '대파(일반)',\n  '0',\n  '967',\n  '879',\n  '키로단',\n  '29'],\n [Timestamp('2020-03-08 00:00:00', freq='D'),\n  '대파(일반)',\n  '0',\n  '788',\n  '629',\n  '키로단',\n  '29']]"
     },
     "metadata": {},
     "output_type": "display_data"
    },
    {
     "data": {
      "text/plain": "[[Timestamp('2020-03-09 00:00:00', freq='D')],\n [Timestamp('2020-03-09 00:00:00', freq='D'),\n  '대파(일반)',\n  '1229',\n  '0',\n  '1421',\n  '키로단',\n  '29'],\n [Timestamp('2020-03-09 00:00:00', freq='D'),\n  '대파(일반)',\n  '1073',\n  '0',\n  '933',\n  '키로단',\n  '29'],\n [Timestamp('2020-03-09 00:00:00', freq='D'),\n  '대파(일반)',\n  '830',\n  '0',\n  '898',\n  '키로단',\n  '29'],\n [Timestamp('2020-03-09 00:00:00', freq='D'),\n  '대파(일반)',\n  '765',\n  '0',\n  '674',\n  '키로단',\n  '29']]"
     },
     "metadata": {},
     "output_type": "display_data"
    },
    {
     "data": {
      "text/plain": "[[Timestamp('2020-03-10 00:00:00', freq='D')],\n [Timestamp('2020-03-10 00:00:00', freq='D'),\n  '대파(일반)',\n  '1219',\n  '1229',\n  '1572',\n  '키로단',\n  '29'],\n [Timestamp('2020-03-10 00:00:00', freq='D'),\n  '대파(일반)',\n  '1200',\n  '1073',\n  '1027',\n  '키로단',\n  '29'],\n [Timestamp('2020-03-10 00:00:00', freq='D'),\n  '대파(일반)',\n  '927',\n  '830',\n  '740',\n  '키로단',\n  '29'],\n [Timestamp('2020-03-10 00:00:00', freq='D'),\n  '대파(일반)',\n  '775',\n  '765',\n  '619',\n  '키로단',\n  '29']]"
     },
     "metadata": {},
     "output_type": "display_data"
    },
    {
     "data": {
      "text/plain": "[[Timestamp('2020-03-11 00:00:00', freq='D')],\n [Timestamp('2020-03-11 00:00:00', freq='D'),\n  '대파(일반)',\n  '1284',\n  '1219',\n  '1611',\n  '키로단',\n  '29'],\n [Timestamp('2020-03-11 00:00:00', freq='D'),\n  '대파(일반)',\n  '1179',\n  '1200',\n  '1209',\n  '키로단',\n  '29'],\n [Timestamp('2020-03-11 00:00:00', freq='D'),\n  '대파(일반)',\n  '1004',\n  '927',\n  '851',\n  '키로단',\n  '29'],\n [Timestamp('2020-03-11 00:00:00', freq='D'),\n  '대파(일반)',\n  '779',\n  '775',\n  '618',\n  '키로단',\n  '29']]"
     },
     "metadata": {},
     "output_type": "display_data"
    },
    {
     "data": {
      "text/plain": "[[Timestamp('2020-03-12 00:00:00', freq='D')],\n [Timestamp('2020-03-12 00:00:00', freq='D'),\n  '대파(일반)',\n  '1318',\n  '1284',\n  '1546',\n  '키로단',\n  '29'],\n [Timestamp('2020-03-12 00:00:00', freq='D'),\n  '대파(일반)',\n  '1099',\n  '1179',\n  '1263',\n  '키로단',\n  '29'],\n [Timestamp('2020-03-12 00:00:00', freq='D'),\n  '대파(일반)',\n  '1014',\n  '1004',\n  '986',\n  '키로단',\n  '29'],\n [Timestamp('2020-03-12 00:00:00', freq='D'),\n  '대파(일반)',\n  '741',\n  '779',\n  '674',\n  '키로단',\n  '29']]"
     },
     "metadata": {},
     "output_type": "display_data"
    },
    {
     "data": {
      "text/plain": "[[Timestamp('2020-03-13 00:00:00', freq='D')],\n [Timestamp('2020-03-13 00:00:00', freq='D'),\n  '대파(일반)',\n  '1221',\n  '1318',\n  '1446',\n  '키로단',\n  '29'],\n [Timestamp('2020-03-13 00:00:00', freq='D'),\n  '대파(일반)',\n  '1184',\n  '1099',\n  '1215',\n  '키로단',\n  '29'],\n [Timestamp('2020-03-13 00:00:00', freq='D'),\n  '대파(일반)',\n  '1033',\n  '1014',\n  '899',\n  '키로단',\n  '29'],\n [Timestamp('2020-03-13 00:00:00', freq='D'),\n  '대파(일반)',\n  '743',\n  '741',\n  '730',\n  '키로단',\n  '29']]"
     },
     "metadata": {},
     "output_type": "display_data"
    },
    {
     "data": {
      "text/plain": "[[Timestamp('2020-03-14 00:00:00', freq='D')],\n [Timestamp('2020-03-14 00:00:00', freq='D'),\n  '대파(일반)',\n  '1239',\n  '1221',\n  '1428',\n  '키로단',\n  '29'],\n [Timestamp('2020-03-14 00:00:00', freq='D'),\n  '대파(일반)',\n  '1191',\n  '1184',\n  '1116',\n  '키로단',\n  '29'],\n [Timestamp('2020-03-14 00:00:00', freq='D'),\n  '대파(일반)',\n  '1056',\n  '1033',\n  '848',\n  '키로단',\n  '29'],\n [Timestamp('2020-03-14 00:00:00', freq='D'),\n  '대파(일반)',\n  '758',\n  '743',\n  '717',\n  '키로단',\n  '29']]"
     },
     "metadata": {},
     "output_type": "display_data"
    },
    {
     "data": {
      "text/plain": "[[Timestamp('2020-03-15 00:00:00', freq='D')],\n [Timestamp('2020-03-15 00:00:00', freq='D'),\n  '대파(일반)',\n  '0',\n  '1239',\n  '1565',\n  '키로단',\n  '29'],\n [Timestamp('2020-03-15 00:00:00', freq='D'),\n  '대파(일반)',\n  '0',\n  '1191',\n  '1101',\n  '키로단',\n  '29'],\n [Timestamp('2020-03-15 00:00:00', freq='D'),\n  '대파(일반)',\n  '0',\n  '1056',\n  '828',\n  '키로단',\n  '29'],\n [Timestamp('2020-03-15 00:00:00', freq='D'),\n  '대파(일반)',\n  '0',\n  '758',\n  '643',\n  '키로단',\n  '29']]"
     },
     "metadata": {},
     "output_type": "display_data"
    },
    {
     "data": {
      "text/plain": "[[Timestamp('2020-03-16 00:00:00', freq='D')],\n [Timestamp('2020-03-16 00:00:00', freq='D'),\n  '대파(일반)',\n  '1223',\n  '0',\n  '0',\n  '키로단',\n  '29'],\n [Timestamp('2020-03-16 00:00:00', freq='D'),\n  '대파(일반)',\n  '927',\n  '0',\n  '0',\n  '키로단',\n  '29'],\n [Timestamp('2020-03-16 00:00:00', freq='D'),\n  '대파(일반)',\n  '814',\n  '0',\n  '0',\n  '키로단',\n  '29'],\n [Timestamp('2020-03-16 00:00:00', freq='D'),\n  '대파(일반)',\n  '689',\n  '0',\n  '0',\n  '키로단',\n  '29']]"
     },
     "metadata": {},
     "output_type": "display_data"
    },
    {
     "data": {
      "text/plain": "[[Timestamp('2020-03-17 00:00:00', freq='D')],\n [Timestamp('2020-03-17 00:00:00', freq='D'),\n  '대파(일반)',\n  '1202',\n  '1223',\n  '1359',\n  '키로단',\n  '29'],\n [Timestamp('2020-03-17 00:00:00', freq='D'),\n  '대파(일반)',\n  '975',\n  '927',\n  '1022',\n  '키로단',\n  '29'],\n [Timestamp('2020-03-17 00:00:00', freq='D'),\n  '대파(일반)',\n  '846',\n  '814',\n  '717',\n  '키로단',\n  '29'],\n [Timestamp('2020-03-17 00:00:00', freq='D'),\n  '대파(일반)',\n  '696',\n  '689',\n  '636',\n  '키로단',\n  '29']]"
     },
     "metadata": {},
     "output_type": "display_data"
    },
    {
     "data": {
      "text/plain": "[[Timestamp('2020-03-18 00:00:00', freq='D')],\n [Timestamp('2020-03-18 00:00:00', freq='D'),\n  '대파(일반)',\n  '1157',\n  '1202',\n  '5950',\n  '키로단',\n  '29'],\n [Timestamp('2020-03-18 00:00:00', freq='D'),\n  '대파(일반)',\n  '969',\n  '975',\n  '1260',\n  '키로단',\n  '29'],\n [Timestamp('2020-03-18 00:00:00', freq='D'),\n  '대파(일반)',\n  '893',\n  '846',\n  '811',\n  '키로단',\n  '29'],\n [Timestamp('2020-03-18 00:00:00', freq='D'),\n  '대파(일반)',\n  '693',\n  '696',\n  '638',\n  '키로단',\n  '29']]"
     },
     "metadata": {},
     "output_type": "display_data"
    },
    {
     "data": {
      "text/plain": "[[Timestamp('2020-03-19 00:00:00', freq='D')],\n [Timestamp('2020-03-19 00:00:00', freq='D'),\n  '대파(일반)',\n  '1231',\n  '1157',\n  '1616',\n  '키로단',\n  '29'],\n [Timestamp('2020-03-19 00:00:00', freq='D'),\n  '대파(일반)',\n  '969',\n  '969',\n  '1285',\n  '키로단',\n  '29'],\n [Timestamp('2020-03-19 00:00:00', freq='D'),\n  '대파(일반)',\n  '955',\n  '893',\n  '826',\n  '키로단',\n  '29'],\n [Timestamp('2020-03-19 00:00:00', freq='D'),\n  '대파(일반)',\n  '699',\n  '693',\n  '620',\n  '키로단',\n  '29']]"
     },
     "metadata": {},
     "output_type": "display_data"
    },
    {
     "data": {
      "text/plain": "[[Timestamp('2020-03-20 00:00:00', freq='D')],\n [Timestamp('2020-03-20 00:00:00', freq='D'),\n  '대파(일반)',\n  '1446',\n  '1231',\n  '1459',\n  '키로단',\n  '29'],\n [Timestamp('2020-03-20 00:00:00', freq='D'),\n  '대파(일반)',\n  '969',\n  '969',\n  '1216',\n  '키로단',\n  '29'],\n [Timestamp('2020-03-20 00:00:00', freq='D'),\n  '대파(일반)',\n  '974',\n  '955',\n  '776',\n  '키로단',\n  '29'],\n [Timestamp('2020-03-20 00:00:00', freq='D'),\n  '대파(일반)',\n  '721',\n  '699',\n  '589',\n  '키로단',\n  '29']]"
     },
     "metadata": {},
     "output_type": "display_data"
    },
    {
     "data": {
      "text/plain": "[[Timestamp('2020-03-21 00:00:00', freq='D')],\n [Timestamp('2020-03-21 00:00:00', freq='D'),\n  '대파(일반)',\n  '1522',\n  '1446',\n  '1209',\n  '키로단',\n  '29'],\n [Timestamp('2020-03-21 00:00:00', freq='D'),\n  '대파(일반)',\n  '969',\n  '969',\n  '934',\n  '키로단',\n  '29'],\n [Timestamp('2020-03-21 00:00:00', freq='D'),\n  '대파(일반)',\n  '1126',\n  '974',\n  '785',\n  '키로단',\n  '29'],\n [Timestamp('2020-03-21 00:00:00', freq='D'),\n  '대파(일반)',\n  '803',\n  '721',\n  '583',\n  '키로단',\n  '29']]"
     },
     "metadata": {},
     "output_type": "display_data"
    },
    {
     "data": {
      "text/plain": "[[Timestamp('2020-03-22 00:00:00', freq='D')],\n [Timestamp('2020-03-22 00:00:00', freq='D'),\n  '대파(일반)',\n  '0',\n  '1522',\n  '1113',\n  '키로단',\n  '29'],\n [Timestamp('2020-03-22 00:00:00', freq='D'),\n  '대파(일반)',\n  '0',\n  '969',\n  '966',\n  '키로단',\n  '29'],\n [Timestamp('2020-03-22 00:00:00', freq='D'),\n  '대파(일반)',\n  '0',\n  '1126',\n  '830',\n  '키로단',\n  '29'],\n [Timestamp('2020-03-22 00:00:00', freq='D'),\n  '대파(일반)',\n  '0',\n  '803',\n  '689',\n  '키로단',\n  '29']]"
     },
     "metadata": {},
     "output_type": "display_data"
    },
    {
     "data": {
      "text/plain": "[[Timestamp('2020-03-23 00:00:00', freq='D')],\n [Timestamp('2020-03-23 00:00:00', freq='D'),\n  '대파(일반)',\n  '1130',\n  '0',\n  '0',\n  '키로단',\n  '29'],\n [Timestamp('2020-03-23 00:00:00', freq='D'),\n  '대파(일반)',\n  '995',\n  '0',\n  '0',\n  '키로단',\n  '29'],\n [Timestamp('2020-03-23 00:00:00', freq='D'),\n  '대파(일반)',\n  '761',\n  '0',\n  '0',\n  '키로단',\n  '29'],\n [Timestamp('2020-03-23 00:00:00', freq='D'),\n  '대파(일반)',\n  '655',\n  '0',\n  '0',\n  '키로단',\n  '29']]"
     },
     "metadata": {},
     "output_type": "display_data"
    },
    {
     "data": {
      "text/plain": "[[Timestamp('2020-03-24 00:00:00', freq='D')],\n [Timestamp('2020-03-24 00:00:00', freq='D'),\n  '대파(일반)',\n  '1311',\n  '1130',\n  '1113',\n  '키로단',\n  '29'],\n [Timestamp('2020-03-24 00:00:00', freq='D'),\n  '대파(일반)',\n  '1113',\n  '995',\n  '966',\n  '키로단',\n  '29'],\n [Timestamp('2020-03-24 00:00:00', freq='D'),\n  '대파(일반)',\n  '910',\n  '761',\n  '830',\n  '키로단',\n  '29'],\n [Timestamp('2020-03-24 00:00:00', freq='D'),\n  '대파(일반)',\n  '686',\n  '655',\n  '689',\n  '키로단',\n  '29']]"
     },
     "metadata": {},
     "output_type": "display_data"
    },
    {
     "data": {
      "text/plain": "[[Timestamp('2020-03-25 00:00:00', freq='D')],\n [Timestamp('2020-03-25 00:00:00', freq='D'),\n  '대파(일반)',\n  '1385',\n  '1311',\n  '1113',\n  '키로단',\n  '29'],\n [Timestamp('2020-03-25 00:00:00', freq='D'),\n  '대파(일반)',\n  '1117',\n  '1113',\n  '966',\n  '키로단',\n  '29'],\n [Timestamp('2020-03-25 00:00:00', freq='D'),\n  '대파(일반)',\n  '1015',\n  '910',\n  '830',\n  '키로단',\n  '29'],\n [Timestamp('2020-03-25 00:00:00', freq='D'),\n  '대파(일반)',\n  '695',\n  '686',\n  '689',\n  '키로단',\n  '29']]"
     },
     "metadata": {},
     "output_type": "display_data"
    },
    {
     "data": {
      "text/plain": "[[Timestamp('2020-03-26 00:00:00', freq='D')],\n [Timestamp('2020-03-26 00:00:00', freq='D'),\n  '대파(일반)',\n  '1194',\n  '1385',\n  '1113',\n  '키로단',\n  '29'],\n [Timestamp('2020-03-26 00:00:00', freq='D'),\n  '대파(일반)',\n  '1032',\n  '1117',\n  '966',\n  '키로단',\n  '29'],\n [Timestamp('2020-03-26 00:00:00', freq='D'),\n  '대파(일반)',\n  '863',\n  '1015',\n  '830',\n  '키로단',\n  '29'],\n [Timestamp('2020-03-26 00:00:00', freq='D'),\n  '대파(일반)',\n  '681',\n  '695',\n  '689',\n  '키로단',\n  '29']]"
     },
     "metadata": {},
     "output_type": "display_data"
    },
    {
     "data": {
      "text/plain": "[[Timestamp('2020-03-27 00:00:00', freq='D')],\n [Timestamp('2020-03-27 00:00:00', freq='D'),\n  '대파(일반)',\n  '1261',\n  '1194',\n  '1237',\n  '키로단',\n  '29'],\n [Timestamp('2020-03-27 00:00:00', freq='D'),\n  '대파(일반)',\n  '907',\n  '1032',\n  '906',\n  '키로단',\n  '29'],\n [Timestamp('2020-03-27 00:00:00', freq='D'),\n  '대파(일반)',\n  '831',\n  '863',\n  '679',\n  '키로단',\n  '29'],\n [Timestamp('2020-03-27 00:00:00', freq='D'),\n  '대파(일반)',\n  '690',\n  '681',\n  '600',\n  '키로단',\n  '29']]"
     },
     "metadata": {},
     "output_type": "display_data"
    },
    {
     "data": {
      "text/plain": "[[Timestamp('2020-03-28 00:00:00', freq='D')],\n [Timestamp('2020-03-28 00:00:00', freq='D'),\n  '대파(일반)',\n  '1699',\n  '1261',\n  '1387',\n  '키로단',\n  '29'],\n [Timestamp('2020-03-28 00:00:00', freq='D'),\n  '대파(일반)',\n  '1018',\n  '907',\n  '1036',\n  '키로단',\n  '29'],\n [Timestamp('2020-03-28 00:00:00', freq='D'),\n  '대파(일반)',\n  '809',\n  '831',\n  '810',\n  '키로단',\n  '29'],\n [Timestamp('2020-03-28 00:00:00', freq='D'),\n  '대파(일반)',\n  '694',\n  '690',\n  '594',\n  '키로단',\n  '29']]"
     },
     "metadata": {},
     "output_type": "display_data"
    },
    {
     "data": {
      "text/plain": "[[Timestamp('2020-03-29 00:00:00', freq='D')],\n [Timestamp('2020-03-29 00:00:00', freq='D'),\n  '대파(일반)',\n  '0',\n  '1699',\n  '1203',\n  '키로단',\n  '29'],\n [Timestamp('2020-03-29 00:00:00', freq='D'),\n  '대파(일반)',\n  '0',\n  '1018',\n  '1088',\n  '키로단',\n  '29'],\n [Timestamp('2020-03-29 00:00:00', freq='D'),\n  '대파(일반)',\n  '0',\n  '809',\n  '755',\n  '키로단',\n  '29'],\n [Timestamp('2020-03-29 00:00:00', freq='D'),\n  '대파(일반)',\n  '0',\n  '694',\n  '558',\n  '키로단',\n  '29']]"
     },
     "metadata": {},
     "output_type": "display_data"
    },
    {
     "data": {
      "text/plain": "[[Timestamp('2020-03-30 00:00:00', freq='D')],\n [Timestamp('2020-03-30 00:00:00', freq='D'),\n  '대파(일반)',\n  '1234',\n  '0',\n  '0',\n  '키로단',\n  '29'],\n [Timestamp('2020-03-30 00:00:00', freq='D'),\n  '대파(일반)',\n  '966',\n  '0',\n  '0',\n  '키로단',\n  '29'],\n [Timestamp('2020-03-30 00:00:00', freq='D'),\n  '대파(일반)',\n  '808',\n  '0',\n  '0',\n  '키로단',\n  '29'],\n [Timestamp('2020-03-30 00:00:00', freq='D'),\n  '대파(일반)',\n  '734',\n  '0',\n  '0',\n  '키로단',\n  '29']]"
     },
     "metadata": {},
     "output_type": "display_data"
    },
    {
     "data": {
      "text/plain": "[[Timestamp('2020-03-31 00:00:00', freq='D')],\n [Timestamp('2020-03-31 00:00:00', freq='D'),\n  '대파(일반)',\n  '1187',\n  '1234',\n  '1192',\n  '키로단',\n  '29'],\n [Timestamp('2020-03-31 00:00:00', freq='D'),\n  '대파(일반)',\n  '970',\n  '966',\n  '856',\n  '키로단',\n  '29'],\n [Timestamp('2020-03-31 00:00:00', freq='D'),\n  '대파(일반)',\n  '818',\n  '808',\n  '637',\n  '키로단',\n  '29'],\n [Timestamp('2020-03-31 00:00:00', freq='D'),\n  '대파(일반)',\n  '758',\n  '734',\n  '572',\n  '키로단',\n  '29']]"
     },
     "metadata": {},
     "output_type": "display_data"
    },
    {
     "data": {
      "text/plain": "[[Timestamp('2020-04-01 00:00:00', freq='D')],\n [Timestamp('2020-04-01 00:00:00', freq='D'),\n  '대파(일반)',\n  '1152',\n  '1187',\n  '1202',\n  '키로단',\n  '29'],\n [Timestamp('2020-04-01 00:00:00', freq='D'),\n  '대파(일반)',\n  '1019',\n  '970',\n  '1031',\n  '키로단',\n  '29'],\n [Timestamp('2020-04-01 00:00:00', freq='D'),\n  '대파(일반)',\n  '881',\n  '818',\n  '647',\n  '키로단',\n  '29'],\n [Timestamp('2020-04-01 00:00:00', freq='D'),\n  '대파(일반)',\n  '781',\n  '758',\n  '574',\n  '키로단',\n  '29']]"
     },
     "metadata": {},
     "output_type": "display_data"
    },
    {
     "data": {
      "text/plain": "[[Timestamp('2020-04-02 00:00:00', freq='D')],\n [Timestamp('2020-04-02 00:00:00', freq='D'),\n  '대파(일반)',\n  '1116',\n  '1152',\n  '1309',\n  '키로단',\n  '29'],\n [Timestamp('2020-04-02 00:00:00', freq='D'),\n  '대파(일반)',\n  '1070',\n  '1019',\n  '1020',\n  '키로단',\n  '29'],\n [Timestamp('2020-04-02 00:00:00', freq='D'),\n  '대파(일반)',\n  '994',\n  '881',\n  '657',\n  '키로단',\n  '29'],\n [Timestamp('2020-04-02 00:00:00', freq='D'),\n  '대파(일반)',\n  '750',\n  '781',\n  '582',\n  '키로단',\n  '29']]"
     },
     "metadata": {},
     "output_type": "display_data"
    },
    {
     "data": {
      "text/plain": "[[Timestamp('2020-04-03 00:00:00', freq='D')],\n [Timestamp('2020-04-03 00:00:00', freq='D'),\n  '대파(일반)',\n  '1104',\n  '1116',\n  '1400',\n  '키로단',\n  '29'],\n [Timestamp('2020-04-03 00:00:00', freq='D'),\n  '대파(일반)',\n  '1070',\n  '1070',\n  '917',\n  '키로단',\n  '29'],\n [Timestamp('2020-04-03 00:00:00', freq='D'),\n  '대파(일반)',\n  '906',\n  '994',\n  '681',\n  '키로단',\n  '29'],\n [Timestamp('2020-04-03 00:00:00', freq='D'),\n  '대파(일반)',\n  '707',\n  '750',\n  '603',\n  '키로단',\n  '29']]"
     },
     "metadata": {},
     "output_type": "display_data"
    },
    {
     "data": {
      "text/plain": "[[Timestamp('2020-04-04 00:00:00', freq='D')],\n [Timestamp('2020-04-04 00:00:00', freq='D'),\n  '대파(일반)',\n  '1086',\n  '1104',\n  '1393',\n  '키로단',\n  '29'],\n [Timestamp('2020-04-04 00:00:00', freq='D'),\n  '대파(일반)',\n  '880',\n  '1070',\n  '1012',\n  '키로단',\n  '29'],\n [Timestamp('2020-04-04 00:00:00', freq='D'),\n  '대파(일반)',\n  '715',\n  '906',\n  '714',\n  '키로단',\n  '29'],\n [Timestamp('2020-04-04 00:00:00', freq='D'),\n  '대파(일반)',\n  '700',\n  '707',\n  '687',\n  '키로단',\n  '29']]"
     },
     "metadata": {},
     "output_type": "display_data"
    },
    {
     "data": {
      "text/plain": "[[Timestamp('2020-04-05 00:00:00', freq='D')],\n [Timestamp('2020-04-05 00:00:00', freq='D'),\n  '대파(일반)',\n  '0',\n  '1086',\n  '1393',\n  '키로단',\n  '29'],\n [Timestamp('2020-04-05 00:00:00', freq='D'),\n  '대파(일반)',\n  '0',\n  '880',\n  '1012',\n  '키로단',\n  '29'],\n [Timestamp('2020-04-05 00:00:00', freq='D'),\n  '대파(일반)',\n  '0',\n  '715',\n  '714',\n  '키로단',\n  '29'],\n [Timestamp('2020-04-05 00:00:00', freq='D'),\n  '대파(일반)',\n  '0',\n  '700',\n  '687',\n  '키로단',\n  '29']]"
     },
     "metadata": {},
     "output_type": "display_data"
    },
    {
     "data": {
      "text/plain": "[[Timestamp('2020-04-06 00:00:00', freq='D')],\n [Timestamp('2020-04-06 00:00:00', freq='D'),\n  '대파(일반)',\n  '1119',\n  '0',\n  '1300',\n  '키로단',\n  '29'],\n [Timestamp('2020-04-06 00:00:00', freq='D'),\n  '대파(일반)',\n  '881',\n  '0',\n  '1203',\n  '키로단',\n  '29'],\n [Timestamp('2020-04-06 00:00:00', freq='D'),\n  '대파(일반)',\n  '757',\n  '0',\n  '925',\n  '키로단',\n  '29'],\n [Timestamp('2020-04-06 00:00:00', freq='D'),\n  '대파(일반)',\n  '739',\n  '0',\n  '700',\n  '키로단',\n  '29']]"
     },
     "metadata": {},
     "output_type": "display_data"
    },
    {
     "data": {
      "text/plain": "[[Timestamp('2020-04-07 00:00:00', freq='D')],\n [Timestamp('2020-04-07 00:00:00', freq='D'),\n  '대파(일반)',\n  '1101',\n  '1119',\n  '1300',\n  '키로단',\n  '29'],\n [Timestamp('2020-04-07 00:00:00', freq='D'),\n  '대파(일반)',\n  '881',\n  '881',\n  '1203',\n  '키로단',\n  '29'],\n [Timestamp('2020-04-07 00:00:00', freq='D'),\n  '대파(일반)',\n  '864',\n  '757',\n  '925',\n  '키로단',\n  '29'],\n [Timestamp('2020-04-07 00:00:00', freq='D'),\n  '대파(일반)',\n  '744',\n  '739',\n  '700',\n  '키로단',\n  '29']]"
     },
     "metadata": {},
     "output_type": "display_data"
    },
    {
     "data": {
      "text/plain": "[[Timestamp('2020-04-08 00:00:00', freq='D')],\n [Timestamp('2020-04-08 00:00:00', freq='D'),\n  '대파(일반)',\n  '1111',\n  '1101',\n  '1870',\n  '키로단',\n  '29'],\n [Timestamp('2020-04-08 00:00:00', freq='D'),\n  '대파(일반)',\n  '1057',\n  '881',\n  '1318',\n  '키로단',\n  '29'],\n [Timestamp('2020-04-08 00:00:00', freq='D'),\n  '대파(일반)',\n  '960',\n  '864',\n  '765',\n  '키로단',\n  '29'],\n [Timestamp('2020-04-08 00:00:00', freq='D'),\n  '대파(일반)',\n  '777',\n  '744',\n  '673',\n  '키로단',\n  '29']]"
     },
     "metadata": {},
     "output_type": "display_data"
    },
    {
     "data": {
      "text/plain": "[[Timestamp('2020-04-09 00:00:00', freq='D')],\n [Timestamp('2020-04-09 00:00:00', freq='D'),\n  '대파(일반)',\n  '1178',\n  '1111',\n  '1405',\n  '키로단',\n  '29'],\n [Timestamp('2020-04-09 00:00:00', freq='D'),\n  '대파(일반)',\n  '1037',\n  '1057',\n  '1010',\n  '키로단',\n  '29'],\n [Timestamp('2020-04-09 00:00:00', freq='D'),\n  '대파(일반)',\n  '933',\n  '960',\n  '733',\n  '키로단',\n  '29'],\n [Timestamp('2020-04-09 00:00:00', freq='D'),\n  '대파(일반)',\n  '833',\n  '777',\n  '635',\n  '키로단',\n  '29']]"
     },
     "metadata": {},
     "output_type": "display_data"
    },
    {
     "data": {
      "text/plain": "[[Timestamp('2020-04-10 00:00:00', freq='D')],\n [Timestamp('2020-04-10 00:00:00', freq='D'),\n  '대파(일반)',\n  '1334',\n  '1178',\n  '1428',\n  '키로단',\n  '29'],\n [Timestamp('2020-04-10 00:00:00', freq='D'),\n  '대파(일반)',\n  '1029',\n  '1037',\n  '1074',\n  '키로단',\n  '29'],\n [Timestamp('2020-04-10 00:00:00', freq='D'),\n  '대파(일반)',\n  '900',\n  '933',\n  '794',\n  '키로단',\n  '29'],\n [Timestamp('2020-04-10 00:00:00', freq='D'),\n  '대파(일반)',\n  '818',\n  '833',\n  '666',\n  '키로단',\n  '29']]"
     },
     "metadata": {},
     "output_type": "display_data"
    },
    {
     "data": {
      "text/plain": "[[Timestamp('2020-04-11 00:00:00', freq='D')],\n [Timestamp('2020-04-11 00:00:00', freq='D'),\n  '대파(일반)',\n  '1318',\n  '1334',\n  '1464',\n  '키로단',\n  '29'],\n [Timestamp('2020-04-11 00:00:00', freq='D'),\n  '대파(일반)',\n  '1022',\n  '1029',\n  '1103',\n  '키로단',\n  '29'],\n [Timestamp('2020-04-11 00:00:00', freq='D'),\n  '대파(일반)',\n  '950',\n  '900',\n  '814',\n  '키로단',\n  '29'],\n [Timestamp('2020-04-11 00:00:00', freq='D'),\n  '대파(일반)',\n  '897',\n  '818',\n  '754',\n  '키로단',\n  '29']]"
     },
     "metadata": {},
     "output_type": "display_data"
    },
    {
     "data": {
      "text/plain": "[[Timestamp('2020-04-12 00:00:00', freq='D')],\n [Timestamp('2020-04-12 00:00:00', freq='D'),\n  '대파(일반)',\n  '0',\n  '1318',\n  '1456',\n  '키로단',\n  '29'],\n [Timestamp('2020-04-12 00:00:00', freq='D'),\n  '대파(일반)',\n  '0',\n  '1022',\n  '993',\n  '키로단',\n  '29'],\n [Timestamp('2020-04-12 00:00:00', freq='D'),\n  '대파(일반)',\n  '0',\n  '950',\n  '776',\n  '키로단',\n  '29'],\n [Timestamp('2020-04-12 00:00:00', freq='D'),\n  '대파(일반)',\n  '0',\n  '897',\n  '684',\n  '키로단',\n  '29']]"
     },
     "metadata": {},
     "output_type": "display_data"
    },
    {
     "data": {
      "text/plain": "[[Timestamp('2020-04-13 00:00:00', freq='D')],\n [Timestamp('2020-04-13 00:00:00', freq='D'),\n  '대파(일반)',\n  '1284',\n  '0',\n  '0',\n  '키로단',\n  '29'],\n [Timestamp('2020-04-13 00:00:00', freq='D'),\n  '대파(일반)',\n  '983',\n  '0',\n  '0',\n  '키로단',\n  '29'],\n [Timestamp('2020-04-13 00:00:00', freq='D'),\n  '대파(일반)',\n  '900',\n  '0',\n  '0',\n  '키로단',\n  '29'],\n [Timestamp('2020-04-13 00:00:00', freq='D'),\n  '대파(일반)',\n  '760',\n  '0',\n  '0',\n  '키로단',\n  '29']]"
     },
     "metadata": {},
     "output_type": "display_data"
    },
    {
     "data": {
      "text/plain": "[[Timestamp('2020-04-14 00:00:00', freq='D')],\n [Timestamp('2020-04-14 00:00:00', freq='D'),\n  '대파(일반)',\n  '1254',\n  '1284',\n  '1300',\n  '키로단',\n  '29'],\n [Timestamp('2020-04-14 00:00:00', freq='D'),\n  '대파(일반)',\n  '964',\n  '983',\n  '1208',\n  '키로단',\n  '29'],\n [Timestamp('2020-04-14 00:00:00', freq='D'),\n  '대파(일반)',\n  '900',\n  '900',\n  '785',\n  '키로단',\n  '29'],\n [Timestamp('2020-04-14 00:00:00', freq='D'),\n  '대파(일반)',\n  '768',\n  '760',\n  '700',\n  '키로단',\n  '29']]"
     },
     "metadata": {},
     "output_type": "display_data"
    },
    {
     "data": {
      "text/plain": "[[Timestamp('2020-04-15 00:00:00', freq='D')],\n [Timestamp('2020-04-15 00:00:00', freq='D'),\n  '대파(일반)',\n  '1168',\n  '1254',\n  '1300',\n  '키로단',\n  '29'],\n [Timestamp('2020-04-15 00:00:00', freq='D'),\n  '대파(일반)',\n  '1037',\n  '964',\n  '1137',\n  '키로단',\n  '29'],\n [Timestamp('2020-04-15 00:00:00', freq='D'),\n  '대파(일반)',\n  '871',\n  '900',\n  '826',\n  '키로단',\n  '29'],\n [Timestamp('2020-04-15 00:00:00', freq='D'),\n  '대파(일반)',\n  '771',\n  '768',\n  '707',\n  '키로단',\n  '29']]"
     },
     "metadata": {},
     "output_type": "display_data"
    },
    {
     "data": {
      "text/plain": "[[Timestamp('2020-04-16 00:00:00', freq='D')],\n [Timestamp('2020-04-16 00:00:00', freq='D'),\n  '대파(일반)',\n  '1202',\n  '1168',\n  '1300',\n  '키로단',\n  '29'],\n [Timestamp('2020-04-16 00:00:00', freq='D'),\n  '대파(일반)',\n  '1073',\n  '1037',\n  '1066',\n  '키로단',\n  '29'],\n [Timestamp('2020-04-16 00:00:00', freq='D'),\n  '대파(일반)',\n  '874',\n  '871',\n  '798',\n  '키로단',\n  '29'],\n [Timestamp('2020-04-16 00:00:00', freq='D'),\n  '대파(일반)',\n  '763',\n  '771',\n  '724',\n  '키로단',\n  '29']]"
     },
     "metadata": {},
     "output_type": "display_data"
    },
    {
     "data": {
      "text/plain": "[[Timestamp('2020-04-17 00:00:00', freq='D')],\n [Timestamp('2020-04-17 00:00:00', freq='D'),\n  '대파(일반)',\n  '1290',\n  '1202',\n  '1286',\n  '키로단',\n  '29'],\n [Timestamp('2020-04-17 00:00:00', freq='D'),\n  '대파(일반)',\n  '1113',\n  '1073',\n  '921',\n  '키로단',\n  '29'],\n [Timestamp('2020-04-17 00:00:00', freq='D'),\n  '대파(일반)',\n  '1070',\n  '874',\n  '773',\n  '키로단',\n  '29'],\n [Timestamp('2020-04-17 00:00:00', freq='D'),\n  '대파(일반)',\n  '849',\n  '763',\n  '623',\n  '키로단',\n  '29']]"
     },
     "metadata": {},
     "output_type": "display_data"
    },
    {
     "data": {
      "text/plain": "[[Timestamp('2020-04-18 00:00:00', freq='D')],\n [Timestamp('2020-04-18 00:00:00', freq='D'),\n  '대파(일반)',\n  '1275',\n  '1290',\n  '1288',\n  '키로단',\n  '29'],\n [Timestamp('2020-04-18 00:00:00', freq='D'),\n  '대파(일반)',\n  '1089',\n  '1113',\n  '913',\n  '키로단',\n  '29'],\n [Timestamp('2020-04-18 00:00:00', freq='D'),\n  '대파(일반)',\n  '965',\n  '1070',\n  '771',\n  '키로단',\n  '29'],\n [Timestamp('2020-04-18 00:00:00', freq='D'),\n  '대파(일반)',\n  '804',\n  '849',\n  '598',\n  '키로단',\n  '29']]"
     },
     "metadata": {},
     "output_type": "display_data"
    },
    {
     "data": {
      "text/plain": "[[Timestamp('2020-04-19 00:00:00', freq='D')],\n [Timestamp('2020-04-19 00:00:00', freq='D'),\n  '대파(일반)',\n  '0',\n  '1275',\n  '1288',\n  '키로단',\n  '29'],\n [Timestamp('2020-04-19 00:00:00', freq='D'),\n  '대파(일반)',\n  '0',\n  '1089',\n  '913',\n  '키로단',\n  '29'],\n [Timestamp('2020-04-19 00:00:00', freq='D'),\n  '대파(일반)',\n  '0',\n  '965',\n  '771',\n  '키로단',\n  '29'],\n [Timestamp('2020-04-19 00:00:00', freq='D'),\n  '대파(일반)',\n  '0',\n  '804',\n  '598',\n  '키로단',\n  '29']]"
     },
     "metadata": {},
     "output_type": "display_data"
    },
    {
     "data": {
      "text/plain": "[[Timestamp('2020-04-20 00:00:00', freq='D')],\n [Timestamp('2020-04-20 00:00:00', freq='D'),\n  '대파(일반)',\n  '1274',\n  '0',\n  '0',\n  '키로단',\n  '29'],\n [Timestamp('2020-04-20 00:00:00', freq='D'),\n  '대파(일반)',\n  '1077',\n  '0',\n  '0',\n  '키로단',\n  '29'],\n [Timestamp('2020-04-20 00:00:00', freq='D'),\n  '대파(일반)',\n  '862',\n  '0',\n  '0',\n  '키로단',\n  '29'],\n [Timestamp('2020-04-20 00:00:00', freq='D'),\n  '대파(일반)',\n  '775',\n  '0',\n  '0',\n  '키로단',\n  '29']]"
     },
     "metadata": {},
     "output_type": "display_data"
    },
    {
     "data": {
      "text/plain": "[[Timestamp('2020-04-21 00:00:00', freq='D')],\n [Timestamp('2020-04-21 00:00:00', freq='D'),\n  '대파(일반)',\n  '1308',\n  '1274',\n  '1302',\n  '키로단',\n  '29'],\n [Timestamp('2020-04-21 00:00:00', freq='D'),\n  '대파(일반)',\n  '1109',\n  '1077',\n  '1077',\n  '키로단',\n  '29'],\n [Timestamp('2020-04-21 00:00:00', freq='D'),\n  '대파(일반)',\n  '962',\n  '862',\n  '809',\n  '키로단',\n  '29'],\n [Timestamp('2020-04-21 00:00:00', freq='D'),\n  '대파(일반)',\n  '809',\n  '775',\n  '639',\n  '키로단',\n  '29']]"
     },
     "metadata": {},
     "output_type": "display_data"
    },
    {
     "data": {
      "text/plain": "[[Timestamp('2020-04-22 00:00:00', freq='D')],\n [Timestamp('2020-04-22 00:00:00', freq='D'),\n  '대파(일반)',\n  '1311',\n  '1308',\n  '1419',\n  '키로단',\n  '29'],\n [Timestamp('2020-04-22 00:00:00', freq='D'),\n  '대파(일반)',\n  '1104',\n  '1109',\n  '1155',\n  '키로단',\n  '29'],\n [Timestamp('2020-04-22 00:00:00', freq='D'),\n  '대파(일반)',\n  '947',\n  '962',\n  '863',\n  '키로단',\n  '29'],\n [Timestamp('2020-04-22 00:00:00', freq='D'),\n  '대파(일반)',\n  '838',\n  '809',\n  '663',\n  '키로단',\n  '29']]"
     },
     "metadata": {},
     "output_type": "display_data"
    },
    {
     "data": {
      "text/plain": "[[Timestamp('2020-04-23 00:00:00', freq='D')],\n [Timestamp('2020-04-23 00:00:00', freq='D'),\n  '대파(일반)',\n  '1418',\n  '1311',\n  '1472',\n  '키로단',\n  '29'],\n [Timestamp('2020-04-23 00:00:00', freq='D'),\n  '대파(일반)',\n  '1084',\n  '1104',\n  '1193',\n  '키로단',\n  '29'],\n [Timestamp('2020-04-23 00:00:00', freq='D'),\n  '대파(일반)',\n  '963',\n  '947',\n  '894',\n  '키로단',\n  '29'],\n [Timestamp('2020-04-23 00:00:00', freq='D'),\n  '대파(일반)',\n  '843',\n  '838',\n  '651',\n  '키로단',\n  '29']]"
     },
     "metadata": {},
     "output_type": "display_data"
    },
    {
     "data": {
      "text/plain": "[[Timestamp('2020-04-24 00:00:00', freq='D')],\n [Timestamp('2020-04-24 00:00:00', freq='D'),\n  '대파(일반)',\n  '1559',\n  '1418',\n  '1353',\n  '키로단',\n  '29'],\n [Timestamp('2020-04-24 00:00:00', freq='D'),\n  '대파(일반)',\n  '1138',\n  '1084',\n  '1095',\n  '키로단',\n  '29'],\n [Timestamp('2020-04-24 00:00:00', freq='D'),\n  '대파(일반)',\n  '1009',\n  '963',\n  '768',\n  '키로단',\n  '29'],\n [Timestamp('2020-04-24 00:00:00', freq='D'),\n  '대파(일반)',\n  '872',\n  '843',\n  '562',\n  '키로단',\n  '29']]"
     },
     "metadata": {},
     "output_type": "display_data"
    },
    {
     "data": {
      "text/plain": "[[Timestamp('2020-04-25 00:00:00', freq='D')],\n [Timestamp('2020-04-25 00:00:00', freq='D'),\n  '대파(일반)',\n  '1588',\n  '1559',\n  '1307',\n  '키로단',\n  '29'],\n [Timestamp('2020-04-25 00:00:00', freq='D'),\n  '대파(일반)',\n  '1275',\n  '1138',\n  '982',\n  '키로단',\n  '29'],\n [Timestamp('2020-04-25 00:00:00', freq='D'),\n  '대파(일반)',\n  '1010',\n  '1009',\n  '798',\n  '키로단',\n  '29'],\n [Timestamp('2020-04-25 00:00:00', freq='D'),\n  '대파(일반)',\n  '778',\n  '872',\n  '549',\n  '키로단',\n  '29']]"
     },
     "metadata": {},
     "output_type": "display_data"
    },
    {
     "data": {
      "text/plain": "[[Timestamp('2020-04-26 00:00:00', freq='D')],\n [Timestamp('2020-04-26 00:00:00', freq='D'),\n  '대파(일반)',\n  '0',\n  '1588',\n  '1303',\n  '키로단',\n  '29'],\n [Timestamp('2020-04-26 00:00:00', freq='D'),\n  '대파(일반)',\n  '0',\n  '1275',\n  '1012',\n  '키로단',\n  '29'],\n [Timestamp('2020-04-26 00:00:00', freq='D'),\n  '대파(일반)',\n  '0',\n  '1010',\n  '822',\n  '키로단',\n  '29'],\n [Timestamp('2020-04-26 00:00:00', freq='D'),\n  '대파(일반)',\n  '0',\n  '778',\n  '528',\n  '키로단',\n  '29']]"
     },
     "metadata": {},
     "output_type": "display_data"
    },
    {
     "data": {
      "text/plain": "[[Timestamp('2020-04-27 00:00:00', freq='D')],\n [Timestamp('2020-04-27 00:00:00', freq='D'),\n  '대파(일반)',\n  '1524',\n  '0',\n  '0',\n  '키로단',\n  '29'],\n [Timestamp('2020-04-27 00:00:00', freq='D'),\n  '대파(일반)',\n  '1148',\n  '0',\n  '0',\n  '키로단',\n  '29'],\n [Timestamp('2020-04-27 00:00:00', freq='D'),\n  '대파(일반)',\n  '845',\n  '0',\n  '0',\n  '키로단',\n  '29'],\n [Timestamp('2020-04-27 00:00:00', freq='D'),\n  '대파(일반)',\n  '768',\n  '0',\n  '0',\n  '키로단',\n  '29']]"
     },
     "metadata": {},
     "output_type": "display_data"
    },
    {
     "data": {
      "text/plain": "[[Timestamp('2020-04-28 00:00:00', freq='D')],\n [Timestamp('2020-04-28 00:00:00', freq='D'),\n  '대파(일반)',\n  '1472',\n  '1524',\n  '1300',\n  '키로단',\n  '29'],\n [Timestamp('2020-04-28 00:00:00', freq='D'),\n  '대파(일반)',\n  '1098',\n  '1148',\n  '1232',\n  '키로단',\n  '29'],\n [Timestamp('2020-04-28 00:00:00', freq='D'),\n  '대파(일반)',\n  '854',\n  '845',\n  '962',\n  '키로단',\n  '29'],\n [Timestamp('2020-04-28 00:00:00', freq='D'),\n  '대파(일반)',\n  '709',\n  '768',\n  '680',\n  '키로단',\n  '29']]"
     },
     "metadata": {},
     "output_type": "display_data"
    },
    {
     "data": {
      "text/plain": "[[Timestamp('2020-04-29 00:00:00', freq='D')],\n [Timestamp('2020-04-29 00:00:00', freq='D'),\n  '대파(일반)',\n  '1357',\n  '1472',\n  '1777',\n  '키로단',\n  '29'],\n [Timestamp('2020-04-29 00:00:00', freq='D'),\n  '대파(일반)',\n  '984',\n  '1098',\n  '1228',\n  '키로단',\n  '29'],\n [Timestamp('2020-04-29 00:00:00', freq='D'),\n  '대파(일반)',\n  '849',\n  '854',\n  '829',\n  '키로단',\n  '29'],\n [Timestamp('2020-04-29 00:00:00', freq='D'),\n  '대파(일반)',\n  '710',\n  '709',\n  '592',\n  '키로단',\n  '29']]"
     },
     "metadata": {},
     "output_type": "display_data"
    },
    {
     "data": {
      "text/plain": "[[Timestamp('2020-04-30 00:00:00', freq='D')],\n [Timestamp('2020-04-30 00:00:00', freq='D'),\n  '대파(일반)',\n  '1367',\n  '1357',\n  '1806',\n  '키로단',\n  '29'],\n [Timestamp('2020-04-30 00:00:00', freq='D'),\n  '대파(일반)',\n  '1067',\n  '984',\n  '1184',\n  '키로단',\n  '29'],\n [Timestamp('2020-04-30 00:00:00', freq='D'),\n  '대파(일반)',\n  '875',\n  '849',\n  '783',\n  '키로단',\n  '29'],\n [Timestamp('2020-04-30 00:00:00', freq='D'),\n  '대파(일반)',\n  '771',\n  '710',\n  '597',\n  '키로단',\n  '29']]"
     },
     "metadata": {},
     "output_type": "display_data"
    },
    {
     "data": {
      "text/plain": "[[Timestamp('2020-05-01 00:00:00', freq='D')],\n [Timestamp('2020-05-01 00:00:00', freq='D'),\n  '대파(일반)',\n  '1358',\n  '1367',\n  '1700',\n  '키로단',\n  '29'],\n [Timestamp('2020-05-01 00:00:00', freq='D'),\n  '대파(일반)',\n  '1079',\n  '1067',\n  '1254',\n  '키로단',\n  '29'],\n [Timestamp('2020-05-01 00:00:00', freq='D'),\n  '대파(일반)',\n  '980',\n  '875',\n  '958',\n  '키로단',\n  '29'],\n [Timestamp('2020-05-01 00:00:00', freq='D'),\n  '대파(일반)',\n  '745',\n  '771',\n  '769',\n  '키로단',\n  '29']]"
     },
     "metadata": {},
     "output_type": "display_data"
    },
    {
     "data": {
      "text/plain": "[[Timestamp('2020-05-02 00:00:00', freq='D')],\n [Timestamp('2020-05-02 00:00:00', freq='D'),\n  '대파(일반)',\n  '1363',\n  '1358',\n  '1667',\n  '키로단',\n  '29'],\n [Timestamp('2020-05-02 00:00:00', freq='D'),\n  '대파(일반)',\n  '975',\n  '1079',\n  '1247',\n  '키로단',\n  '29'],\n [Timestamp('2020-05-02 00:00:00', freq='D'),\n  '대파(일반)',\n  '885',\n  '980',\n  '1005',\n  '키로단',\n  '29'],\n [Timestamp('2020-05-02 00:00:00', freq='D'),\n  '대파(일반)',\n  '636',\n  '745',\n  '844',\n  '키로단',\n  '29']]"
     },
     "metadata": {},
     "output_type": "display_data"
    },
    {
     "data": {
      "text/plain": "[[Timestamp('2020-05-03 00:00:00', freq='D')],\n [Timestamp('2020-05-03 00:00:00', freq='D'),\n  '대파(일반)',\n  '0',\n  '1363',\n  '1682',\n  '키로단',\n  '29'],\n [Timestamp('2020-05-03 00:00:00', freq='D'),\n  '대파(일반)',\n  '0',\n  '975',\n  '1225',\n  '키로단',\n  '29'],\n [Timestamp('2020-05-03 00:00:00', freq='D'),\n  '대파(일반)',\n  '0',\n  '885',\n  '977',\n  '키로단',\n  '29'],\n [Timestamp('2020-05-03 00:00:00', freq='D'),\n  '대파(일반)',\n  '0',\n  '636',\n  '867',\n  '키로단',\n  '29']]"
     },
     "metadata": {},
     "output_type": "display_data"
    },
    {
     "data": {
      "text/plain": "[[Timestamp('2020-05-04 00:00:00', freq='D')],\n [Timestamp('2020-05-04 00:00:00', freq='D'),\n  '대파(일반)',\n  '1480',\n  '0',\n  '0',\n  '키로단',\n  '29'],\n [Timestamp('2020-05-04 00:00:00', freq='D'),\n  '대파(일반)',\n  '1058',\n  '0',\n  '0',\n  '키로단',\n  '29'],\n [Timestamp('2020-05-04 00:00:00', freq='D'),\n  '대파(일반)',\n  '756',\n  '0',\n  '0',\n  '키로단',\n  '29'],\n [Timestamp('2020-05-04 00:00:00', freq='D'),\n  '대파(일반)',\n  '558',\n  '0',\n  '0',\n  '키로단',\n  '29']]"
     },
     "metadata": {},
     "output_type": "display_data"
    },
    {
     "data": {
      "text/plain": "[[Timestamp('2020-05-05 00:00:00', freq='D')],\n [Timestamp('2020-05-05 00:00:00', freq='D'),\n  '대파(일반)',\n  '1672',\n  '1480',\n  '1631',\n  '키로단',\n  '29'],\n [Timestamp('2020-05-05 00:00:00', freq='D'),\n  '대파(일반)',\n  '1132',\n  '1058',\n  '1379',\n  '키로단',\n  '29'],\n [Timestamp('2020-05-05 00:00:00', freq='D'),\n  '대파(일반)',\n  '939',\n  '756',\n  '1082',\n  '키로단',\n  '29'],\n [Timestamp('2020-05-05 00:00:00', freq='D'),\n  '대파(일반)',\n  '688',\n  '558',\n  '884',\n  '키로단',\n  '29']]"
     },
     "metadata": {},
     "output_type": "display_data"
    },
    {
     "data": {
      "text/plain": "[[Timestamp('2020-05-06 00:00:00', freq='D')],\n [Timestamp('2020-05-06 00:00:00', freq='D'),\n  '대파(일반)',\n  '2100',\n  '1672',\n  '1604',\n  '키로단',\n  '29'],\n [Timestamp('2020-05-06 00:00:00', freq='D'),\n  '대파(일반)',\n  '1524',\n  '1132',\n  '1276',\n  '키로단',\n  '29'],\n [Timestamp('2020-05-06 00:00:00', freq='D'),\n  '대파(일반)',\n  '1015',\n  '939',\n  '938',\n  '키로단',\n  '29'],\n [Timestamp('2020-05-06 00:00:00', freq='D'),\n  '대파(일반)',\n  '854',\n  '688',\n  '757',\n  '키로단',\n  '29']]"
     },
     "metadata": {},
     "output_type": "display_data"
    },
    {
     "data": {
      "text/plain": "[[Timestamp('2020-05-07 00:00:00', freq='D')],\n [Timestamp('2020-05-07 00:00:00', freq='D'),\n  '대파(일반)',\n  '2150',\n  '2100',\n  '1500',\n  '키로단',\n  '29'],\n [Timestamp('2020-05-07 00:00:00', freq='D'),\n  '대파(일반)',\n  '2078',\n  '1524',\n  '1142',\n  '키로단',\n  '29'],\n [Timestamp('2020-05-07 00:00:00', freq='D'),\n  '대파(일반)',\n  '1138',\n  '1015',\n  '913',\n  '키로단',\n  '29'],\n [Timestamp('2020-05-07 00:00:00', freq='D'),\n  '대파(일반)',\n  '873',\n  '854',\n  '718',\n  '키로단',\n  '29']]"
     },
     "metadata": {},
     "output_type": "display_data"
    },
    {
     "data": {
      "text/plain": "[[Timestamp('2020-05-08 00:00:00', freq='D')],\n [Timestamp('2020-05-08 00:00:00', freq='D'),\n  '대파(일반)',\n  '2150',\n  '2150',\n  '1437',\n  '키로단',\n  '29'],\n [Timestamp('2020-05-08 00:00:00', freq='D'),\n  '대파(일반)',\n  '1595',\n  '2078',\n  '1130',\n  '키로단',\n  '29'],\n [Timestamp('2020-05-08 00:00:00', freq='D'),\n  '대파(일반)',\n  '1037',\n  '1138',\n  '874',\n  '키로단',\n  '29'],\n [Timestamp('2020-05-08 00:00:00', freq='D'),\n  '대파(일반)',\n  '931',\n  '873',\n  '639',\n  '키로단',\n  '29']]"
     },
     "metadata": {},
     "output_type": "display_data"
    },
    {
     "data": {
      "text/plain": "[[Timestamp('2020-05-09 00:00:00', freq='D')],\n [Timestamp('2020-05-09 00:00:00', freq='D'),\n  '대파(일반)',\n  '1685',\n  '2150',\n  '1503',\n  '키로단',\n  '29'],\n [Timestamp('2020-05-09 00:00:00', freq='D'),\n  '대파(일반)',\n  '1222',\n  '1595',\n  '1014',\n  '키로단',\n  '29'],\n [Timestamp('2020-05-09 00:00:00', freq='D'),\n  '대파(일반)',\n  '1017',\n  '1037',\n  '774',\n  '키로단',\n  '29'],\n [Timestamp('2020-05-09 00:00:00', freq='D'),\n  '대파(일반)',\n  '936',\n  '931',\n  '668',\n  '키로단',\n  '29']]"
     },
     "metadata": {},
     "output_type": "display_data"
    },
    {
     "data": {
      "text/plain": "[[Timestamp('2020-05-10 00:00:00', freq='D')],\n [Timestamp('2020-05-10 00:00:00', freq='D'),\n  '대파(일반)',\n  '0',\n  '1685',\n  '1592',\n  '키로단',\n  '29'],\n [Timestamp('2020-05-10 00:00:00', freq='D'),\n  '대파(일반)',\n  '0',\n  '1222',\n  '990',\n  '키로단',\n  '29'],\n [Timestamp('2020-05-10 00:00:00', freq='D'),\n  '대파(일반)',\n  '0',\n  '1017',\n  '804',\n  '키로단',\n  '29'],\n [Timestamp('2020-05-10 00:00:00', freq='D'),\n  '대파(일반)',\n  '0',\n  '936',\n  '701',\n  '키로단',\n  '29']]"
     },
     "metadata": {},
     "output_type": "display_data"
    },
    {
     "data": {
      "text/plain": "[[Timestamp('2020-05-11 00:00:00', freq='D')],\n [Timestamp('2020-05-11 00:00:00', freq='D'),\n  '대파(일반)',\n  '1516',\n  '0',\n  '0',\n  '키로단',\n  '29'],\n [Timestamp('2020-05-11 00:00:00', freq='D'),\n  '대파(일반)',\n  '1215',\n  '0',\n  '0',\n  '키로단',\n  '29'],\n [Timestamp('2020-05-11 00:00:00', freq='D'),\n  '대파(일반)',\n  '1071',\n  '0',\n  '0',\n  '키로단',\n  '29'],\n [Timestamp('2020-05-11 00:00:00', freq='D'),\n  '대파(일반)',\n  '899',\n  '0',\n  '0',\n  '키로단',\n  '29']]"
     },
     "metadata": {},
     "output_type": "display_data"
    },
    {
     "data": {
      "text/plain": "[[Timestamp('2020-05-12 00:00:00', freq='D')],\n [Timestamp('2020-05-12 00:00:00', freq='D'),\n  '대파(일반)',\n  '1412',\n  '1516',\n  '1557',\n  '키로단',\n  '29'],\n [Timestamp('2020-05-12 00:00:00', freq='D'),\n  '대파(일반)',\n  '1300',\n  '1215',\n  '1238',\n  '키로단',\n  '29'],\n [Timestamp('2020-05-12 00:00:00', freq='D'),\n  '대파(일반)',\n  '1173',\n  '1071',\n  '830',\n  '키로단',\n  '29'],\n [Timestamp('2020-05-12 00:00:00', freq='D'),\n  '대파(일반)',\n  '912',\n  '899',\n  '700',\n  '키로단',\n  '29']]"
     },
     "metadata": {},
     "output_type": "display_data"
    },
    {
     "data": {
      "text/plain": "[[Timestamp('2020-05-13 00:00:00', freq='D')],\n [Timestamp('2020-05-13 00:00:00', freq='D'),\n  '대파(일반)',\n  '1578',\n  '1412',\n  '1695',\n  '키로단',\n  '29'],\n [Timestamp('2020-05-13 00:00:00', freq='D'),\n  '대파(일반)',\n  '1312',\n  '1300',\n  '1133',\n  '키로단',\n  '29'],\n [Timestamp('2020-05-13 00:00:00', freq='D'),\n  '대파(일반)',\n  '1216',\n  '1173',\n  '820',\n  '키로단',\n  '29'],\n [Timestamp('2020-05-13 00:00:00', freq='D'),\n  '대파(일반)',\n  '915',\n  '912',\n  '690',\n  '키로단',\n  '29']]"
     },
     "metadata": {},
     "output_type": "display_data"
    },
    {
     "data": {
      "text/plain": "[[Timestamp('2020-05-14 00:00:00', freq='D')],\n [Timestamp('2020-05-14 00:00:00', freq='D'),\n  '대파(일반)',\n  '2140',\n  '1578',\n  '1751',\n  '키로단',\n  '29'],\n [Timestamp('2020-05-14 00:00:00', freq='D'),\n  '대파(일반)',\n  '2087',\n  '1312',\n  '1340',\n  '키로단',\n  '29'],\n [Timestamp('2020-05-14 00:00:00', freq='D'),\n  '대파(일반)',\n  '1260',\n  '1216',\n  '991',\n  '키로단',\n  '29'],\n [Timestamp('2020-05-14 00:00:00', freq='D'),\n  '대파(일반)',\n  '928',\n  '915',\n  '717',\n  '키로단',\n  '29']]"
     },
     "metadata": {},
     "output_type": "display_data"
    },
    {
     "data": {
      "text/plain": "[[Timestamp('2020-05-15 00:00:00', freq='D')],\n [Timestamp('2020-05-15 00:00:00', freq='D'),\n  '대파(일반)',\n  '2140',\n  '2140',\n  '1785',\n  '키로단',\n  '29'],\n [Timestamp('2020-05-15 00:00:00', freq='D'),\n  '대파(일반)',\n  '2140',\n  '2087',\n  '1341',\n  '키로단',\n  '29'],\n [Timestamp('2020-05-15 00:00:00', freq='D'),\n  '대파(일반)',\n  '1520',\n  '1260',\n  '1002',\n  '키로단',\n  '29'],\n [Timestamp('2020-05-15 00:00:00', freq='D'),\n  '대파(일반)',\n  '917',\n  '928',\n  '750',\n  '키로단',\n  '29']]"
     },
     "metadata": {},
     "output_type": "display_data"
    },
    {
     "data": {
      "text/plain": "[[Timestamp('2020-05-16 00:00:00', freq='D')],\n [Timestamp('2020-05-16 00:00:00', freq='D'),\n  '대파(일반)',\n  '1931',\n  '2140',\n  '1800',\n  '키로단',\n  '29'],\n [Timestamp('2020-05-16 00:00:00', freq='D'),\n  '대파(일반)',\n  '1530',\n  '2140',\n  '1208',\n  '키로단',\n  '29'],\n [Timestamp('2020-05-16 00:00:00', freq='D'),\n  '대파(일반)',\n  '1087',\n  '1520',\n  '855',\n  '키로단',\n  '29'],\n [Timestamp('2020-05-16 00:00:00', freq='D'),\n  '대파(일반)',\n  '873',\n  '917',\n  '713',\n  '키로단',\n  '29']]"
     },
     "metadata": {},
     "output_type": "display_data"
    },
    {
     "data": {
      "text/plain": "[[Timestamp('2020-05-17 00:00:00', freq='D')],\n [Timestamp('2020-05-17 00:00:00', freq='D'),\n  '대파(일반)',\n  '0',\n  '1931',\n  '2005',\n  '키로단',\n  '29'],\n [Timestamp('2020-05-17 00:00:00', freq='D'),\n  '대파(일반)',\n  '0',\n  '1530',\n  '1527',\n  '키로단',\n  '29'],\n [Timestamp('2020-05-17 00:00:00', freq='D'),\n  '대파(일반)',\n  '0',\n  '1087',\n  '993',\n  '키로단',\n  '29'],\n [Timestamp('2020-05-17 00:00:00', freq='D'),\n  '대파(일반)',\n  '0',\n  '873',\n  '760',\n  '키로단',\n  '29']]"
     },
     "metadata": {},
     "output_type": "display_data"
    },
    {
     "data": {
      "text/plain": "[[Timestamp('2020-05-18 00:00:00', freq='D')],\n [Timestamp('2020-05-18 00:00:00', freq='D'),\n  '대파(일반)',\n  '1795',\n  '0',\n  '0',\n  '키로단',\n  '29'],\n [Timestamp('2020-05-18 00:00:00', freq='D'),\n  '대파(일반)',\n  '1561',\n  '0',\n  '0',\n  '키로단',\n  '29'],\n [Timestamp('2020-05-18 00:00:00', freq='D'),\n  '대파(일반)',\n  '1385',\n  '0',\n  '0',\n  '키로단',\n  '29'],\n [Timestamp('2020-05-18 00:00:00', freq='D'),\n  '대파(일반)',\n  '1053',\n  '0',\n  '0',\n  '키로단',\n  '29']]"
     },
     "metadata": {},
     "output_type": "display_data"
    },
    {
     "data": {
      "text/plain": "[[Timestamp('2020-05-19 00:00:00', freq='D')],\n [Timestamp('2020-05-19 00:00:00', freq='D'),\n  '대파(일반)',\n  '1816',\n  '1795',\n  '2500',\n  '키로단',\n  '29'],\n [Timestamp('2020-05-19 00:00:00', freq='D'),\n  '대파(일반)',\n  '1563',\n  '1561',\n  '2155',\n  '키로단',\n  '29'],\n [Timestamp('2020-05-19 00:00:00', freq='D'),\n  '대파(일반)',\n  '1311',\n  '1385',\n  '1297',\n  '키로단',\n  '29'],\n [Timestamp('2020-05-19 00:00:00', freq='D'),\n  '대파(일반)',\n  '1080',\n  '1053',\n  '781',\n  '키로단',\n  '29']]"
     },
     "metadata": {},
     "output_type": "display_data"
    },
    {
     "data": {
      "text/plain": "[[Timestamp('2020-05-20 00:00:00', freq='D')],\n [Timestamp('2020-05-20 00:00:00', freq='D'),\n  '대파(일반)',\n  '1762',\n  '1816',\n  '2500',\n  '키로단',\n  '29'],\n [Timestamp('2020-05-20 00:00:00', freq='D'),\n  '대파(일반)',\n  '1427',\n  '1563',\n  '1883',\n  '키로단',\n  '29'],\n [Timestamp('2020-05-20 00:00:00', freq='D'),\n  '대파(일반)',\n  '1366',\n  '1311',\n  '1397',\n  '키로단',\n  '29'],\n [Timestamp('2020-05-20 00:00:00', freq='D'),\n  '대파(일반)',\n  '1098',\n  '1080',\n  '919',\n  '키로단',\n  '29']]"
     },
     "metadata": {},
     "output_type": "display_data"
    },
    {
     "data": {
      "text/plain": "[[Timestamp('2020-05-21 00:00:00', freq='D')],\n [Timestamp('2020-05-21 00:00:00', freq='D'),\n  '대파(일반)',\n  '1772',\n  '1762',\n  '2400',\n  '키로단',\n  '29'],\n [Timestamp('2020-05-21 00:00:00', freq='D'),\n  '대파(일반)',\n  '1432',\n  '1427',\n  '1613',\n  '키로단',\n  '29'],\n [Timestamp('2020-05-21 00:00:00', freq='D'),\n  '대파(일반)',\n  '1373',\n  '1366',\n  '1184',\n  '키로단',\n  '29'],\n [Timestamp('2020-05-21 00:00:00', freq='D'),\n  '대파(일반)',\n  '1127',\n  '1098',\n  '971',\n  '키로단',\n  '29']]"
     },
     "metadata": {},
     "output_type": "display_data"
    },
    {
     "data": {
      "text/plain": "[[Timestamp('2020-05-22 00:00:00', freq='D')],\n [Timestamp('2020-05-22 00:00:00', freq='D'),\n  '대파(일반)',\n  '1762',\n  '1772',\n  '2416',\n  '키로단',\n  '29'],\n [Timestamp('2020-05-22 00:00:00', freq='D'),\n  '대파(일반)',\n  '1556',\n  '1432',\n  '1504',\n  '키로단',\n  '29'],\n [Timestamp('2020-05-22 00:00:00', freq='D'),\n  '대파(일반)',\n  '1396',\n  '1373',\n  '1089',\n  '키로단',\n  '29'],\n [Timestamp('2020-05-22 00:00:00', freq='D'),\n  '대파(일반)',\n  '1178',\n  '1127',\n  '972',\n  '키로단',\n  '29']]"
     },
     "metadata": {},
     "output_type": "display_data"
    },
    {
     "data": {
      "text/plain": "[[Timestamp('2020-05-23 00:00:00', freq='D')],\n [Timestamp('2020-05-23 00:00:00', freq='D'),\n  '대파(일반)',\n  '1668',\n  '1762',\n  '2426',\n  '키로단',\n  '29'],\n [Timestamp('2020-05-23 00:00:00', freq='D'),\n  '대파(일반)',\n  '1546',\n  '1556',\n  '1679',\n  '키로단',\n  '29'],\n [Timestamp('2020-05-23 00:00:00', freq='D'),\n  '대파(일반)',\n  '1400',\n  '1396',\n  '1203',\n  '키로단',\n  '29'],\n [Timestamp('2020-05-23 00:00:00', freq='D'),\n  '대파(일반)',\n  '1279',\n  '1178',\n  '950',\n  '키로단',\n  '29']]"
     },
     "metadata": {},
     "output_type": "display_data"
    },
    {
     "data": {
      "text/plain": "[[Timestamp('2020-05-24 00:00:00', freq='D')],\n [Timestamp('2020-05-24 00:00:00', freq='D'),\n  '대파(일반)',\n  '0',\n  '1668',\n  '2400',\n  '키로단',\n  '29'],\n [Timestamp('2020-05-24 00:00:00', freq='D'),\n  '대파(일반)',\n  '0',\n  '1546',\n  '1802',\n  '키로단',\n  '29'],\n [Timestamp('2020-05-24 00:00:00', freq='D'),\n  '대파(일반)',\n  '0',\n  '1400',\n  '1379',\n  '키로단',\n  '29'],\n [Timestamp('2020-05-24 00:00:00', freq='D'),\n  '대파(일반)',\n  '0',\n  '1279',\n  '951',\n  '키로단',\n  '29']]"
     },
     "metadata": {},
     "output_type": "display_data"
    },
    {
     "data": {
      "text/plain": "[[Timestamp('2020-05-25 00:00:00', freq='D')],\n [Timestamp('2020-05-25 00:00:00', freq='D'),\n  '대파(일반)',\n  '1900',\n  '0',\n  '0',\n  '키로단',\n  '29'],\n [Timestamp('2020-05-25 00:00:00', freq='D'),\n  '대파(일반)',\n  '1614',\n  '0',\n  '0',\n  '키로단',\n  '29'],\n [Timestamp('2020-05-25 00:00:00', freq='D'),\n  '대파(일반)',\n  '1420',\n  '0',\n  '0',\n  '키로단',\n  '29'],\n [Timestamp('2020-05-25 00:00:00', freq='D'),\n  '대파(일반)',\n  '1089',\n  '0',\n  '0',\n  '키로단',\n  '29']]"
     },
     "metadata": {},
     "output_type": "display_data"
    },
    {
     "data": {
      "text/plain": "[[Timestamp('2020-05-26 00:00:00', freq='D')],\n [Timestamp('2020-05-26 00:00:00', freq='D'),\n  '대파(일반)',\n  '1868',\n  '1900',\n  '2219',\n  '키로단',\n  '29'],\n [Timestamp('2020-05-26 00:00:00', freq='D'),\n  '대파(일반)',\n  '1623',\n  '1614',\n  '1684',\n  '키로단',\n  '29'],\n [Timestamp('2020-05-26 00:00:00', freq='D'),\n  '대파(일반)',\n  '1496',\n  '1420',\n  '1394',\n  '키로단',\n  '29'],\n [Timestamp('2020-05-26 00:00:00', freq='D'),\n  '대파(일반)',\n  '1208',\n  '1089',\n  '1037',\n  '키로단',\n  '29']]"
     },
     "metadata": {},
     "output_type": "display_data"
    },
    {
     "data": {
      "text/plain": "[[Timestamp('2020-05-27 00:00:00', freq='D')],\n [Timestamp('2020-05-27 00:00:00', freq='D'),\n  '대파(일반)',\n  '1952',\n  '1868',\n  '2396',\n  '키로단',\n  '29'],\n [Timestamp('2020-05-27 00:00:00', freq='D'),\n  '대파(일반)',\n  '1639',\n  '1623',\n  '1752',\n  '키로단',\n  '29'],\n [Timestamp('2020-05-27 00:00:00', freq='D'),\n  '대파(일반)',\n  '1500',\n  '1496',\n  '1380',\n  '키로단',\n  '29'],\n [Timestamp('2020-05-27 00:00:00', freq='D'),\n  '대파(일반)',\n  '1257',\n  '1208',\n  '898',\n  '키로단',\n  '29']]"
     },
     "metadata": {},
     "output_type": "display_data"
    },
    {
     "data": {
      "text/plain": "[[Timestamp('2020-05-28 00:00:00', freq='D')],\n [Timestamp('2020-05-28 00:00:00', freq='D'),\n  '대파(일반)',\n  '1992',\n  '1952',\n  '2426',\n  '키로단',\n  '29'],\n [Timestamp('2020-05-28 00:00:00', freq='D'),\n  '대파(일반)',\n  '1628',\n  '1639',\n  '1845',\n  '키로단',\n  '29'],\n [Timestamp('2020-05-28 00:00:00', freq='D'),\n  '대파(일반)',\n  '1523',\n  '1500',\n  '1404',\n  '키로단',\n  '29'],\n [Timestamp('2020-05-28 00:00:00', freq='D'),\n  '대파(일반)',\n  '1167',\n  '1257',\n  '940',\n  '키로단',\n  '29']]"
     },
     "metadata": {},
     "output_type": "display_data"
    },
    {
     "data": {
      "text/plain": "[[Timestamp('2020-05-29 00:00:00', freq='D')],\n [Timestamp('2020-05-29 00:00:00', freq='D'),\n  '대파(일반)',\n  '1769',\n  '1992',\n  '2487',\n  '키로단',\n  '29'],\n [Timestamp('2020-05-29 00:00:00', freq='D'),\n  '대파(일반)',\n  '1600',\n  '1628',\n  '1998',\n  '키로단',\n  '29'],\n [Timestamp('2020-05-29 00:00:00', freq='D'),\n  '대파(일반)',\n  '1450',\n  '1523',\n  '1448',\n  '키로단',\n  '29'],\n [Timestamp('2020-05-29 00:00:00', freq='D'),\n  '대파(일반)',\n  '1176',\n  '1167',\n  '1110',\n  '키로단',\n  '29']]"
     },
     "metadata": {},
     "output_type": "display_data"
    },
    {
     "data": {
      "text/plain": "[[Timestamp('2020-05-30 00:00:00', freq='D')],\n [Timestamp('2020-05-30 00:00:00', freq='D'),\n  '대파(일반)',\n  '1672',\n  '1769',\n  '2479',\n  '키로단',\n  '29'],\n [Timestamp('2020-05-30 00:00:00', freq='D'),\n  '대파(일반)',\n  '1600',\n  '1600',\n  '1980',\n  '키로단',\n  '29'],\n [Timestamp('2020-05-30 00:00:00', freq='D'),\n  '대파(일반)',\n  '1444',\n  '1450',\n  '1434',\n  '키로단',\n  '29'],\n [Timestamp('2020-05-30 00:00:00', freq='D'),\n  '대파(일반)',\n  '1179',\n  '1176',\n  '1132',\n  '키로단',\n  '29']]"
     },
     "metadata": {},
     "output_type": "display_data"
    },
    {
     "data": {
      "text/plain": "[[Timestamp('2020-05-31 00:00:00', freq='D')],\n [Timestamp('2020-05-31 00:00:00', freq='D'),\n  '대파(일반)',\n  '0',\n  '1672',\n  '2423',\n  '키로단',\n  '29'],\n [Timestamp('2020-05-31 00:00:00', freq='D'),\n  '대파(일반)',\n  '0',\n  '1600',\n  '1890',\n  '키로단',\n  '29'],\n [Timestamp('2020-05-31 00:00:00', freq='D'),\n  '대파(일반)',\n  '0',\n  '1444',\n  '1433',\n  '키로단',\n  '29'],\n [Timestamp('2020-05-31 00:00:00', freq='D'),\n  '대파(일반)',\n  '0',\n  '1179',\n  '1174',\n  '키로단',\n  '29']]"
     },
     "metadata": {},
     "output_type": "display_data"
    },
    {
     "data": {
      "text/plain": "[[Timestamp('2020-06-01 00:00:00', freq='D')],\n [Timestamp('2020-06-01 00:00:00', freq='D'),\n  '대파(일반)',\n  '2044',\n  '0',\n  '0',\n  '키로단',\n  '29'],\n [Timestamp('2020-06-01 00:00:00', freq='D'),\n  '대파(일반)',\n  '1469',\n  '0',\n  '0',\n  '키로단',\n  '29'],\n [Timestamp('2020-06-01 00:00:00', freq='D'),\n  '대파(일반)',\n  '1083',\n  '0',\n  '0',\n  '키로단',\n  '29'],\n [Timestamp('2020-06-01 00:00:00', freq='D'),\n  '대파(일반)',\n  '985',\n  '0',\n  '0',\n  '키로단',\n  '29']]"
     },
     "metadata": {},
     "output_type": "display_data"
    },
    {
     "data": {
      "text/plain": "[[Timestamp('2020-06-02 00:00:00', freq='D')],\n [Timestamp('2020-06-02 00:00:00', freq='D'),\n  '대파(일반)',\n  '1992',\n  '2044',\n  '2290',\n  '키로단',\n  '29'],\n [Timestamp('2020-06-02 00:00:00', freq='D'),\n  '대파(일반)',\n  '1530',\n  '1469',\n  '1934',\n  '키로단',\n  '29'],\n [Timestamp('2020-06-02 00:00:00', freq='D'),\n  '대파(일반)',\n  '1215',\n  '1083',\n  '1568',\n  '키로단',\n  '29'],\n [Timestamp('2020-06-02 00:00:00', freq='D'),\n  '대파(일반)',\n  '982',\n  '985',\n  '1202',\n  '키로단',\n  '29']]"
     },
     "metadata": {},
     "output_type": "display_data"
    },
    {
     "data": {
      "text/plain": "[[Timestamp('2020-06-03 00:00:00', freq='D')],\n [Timestamp('2020-06-03 00:00:00', freq='D'),\n  '대파(일반)',\n  '1855',\n  '1992',\n  '2265',\n  '키로단',\n  '29'],\n [Timestamp('2020-06-03 00:00:00', freq='D'),\n  '대파(일반)',\n  '1482',\n  '1530',\n  '1928',\n  '키로단',\n  '29'],\n [Timestamp('2020-06-03 00:00:00', freq='D'),\n  '대파(일반)',\n  '1358',\n  '1215',\n  '1609',\n  '키로단',\n  '29'],\n [Timestamp('2020-06-03 00:00:00', freq='D'),\n  '대파(일반)',\n  '946',\n  '982',\n  '1273',\n  '키로단',\n  '29']]"
     },
     "metadata": {},
     "output_type": "display_data"
    },
    {
     "data": {
      "text/plain": "[[Timestamp('2020-06-04 00:00:00', freq='D')],\n [Timestamp('2020-06-04 00:00:00', freq='D'),\n  '대파(일반)',\n  '1865',\n  '1855',\n  '2232',\n  '키로단',\n  '29'],\n [Timestamp('2020-06-04 00:00:00', freq='D'),\n  '대파(일반)',\n  '1476',\n  '1482',\n  '1843',\n  '키로단',\n  '29'],\n [Timestamp('2020-06-04 00:00:00', freq='D'),\n  '대파(일반)',\n  '1319',\n  '1358',\n  '1616',\n  '키로단',\n  '29'],\n [Timestamp('2020-06-04 00:00:00', freq='D'),\n  '대파(일반)',\n  '970',\n  '946',\n  '1439',\n  '키로단',\n  '29']]"
     },
     "metadata": {},
     "output_type": "display_data"
    },
    {
     "data": {
      "text/plain": "[[Timestamp('2020-06-05 00:00:00', freq='D')],\n [Timestamp('2020-06-05 00:00:00', freq='D'),\n  '대파(일반)',\n  '1974',\n  '1865',\n  '2202',\n  '키로단',\n  '29'],\n [Timestamp('2020-06-05 00:00:00', freq='D'),\n  '대파(일반)',\n  '1518',\n  '1476',\n  '1742',\n  '키로단',\n  '29'],\n [Timestamp('2020-06-05 00:00:00', freq='D'),\n  '대파(일반)',\n  '1221',\n  '1319',\n  '1541',\n  '키로단',\n  '29'],\n [Timestamp('2020-06-05 00:00:00', freq='D'),\n  '대파(일반)',\n  '974',\n  '970',\n  '1284',\n  '키로단',\n  '29']]"
     },
     "metadata": {},
     "output_type": "display_data"
    },
    {
     "data": {
      "text/plain": "[[Timestamp('2020-06-06 00:00:00', freq='D')],\n [Timestamp('2020-06-06 00:00:00', freq='D'),\n  '대파(일반)',\n  '1930',\n  '1974',\n  '2117',\n  '키로단',\n  '29'],\n [Timestamp('2020-06-06 00:00:00', freq='D'),\n  '대파(일반)',\n  '1425',\n  '1518',\n  '1745',\n  '키로단',\n  '29'],\n [Timestamp('2020-06-06 00:00:00', freq='D'),\n  '대파(일반)',\n  '1188',\n  '1221',\n  '1489',\n  '키로단',\n  '29'],\n [Timestamp('2020-06-06 00:00:00', freq='D'),\n  '대파(일반)',\n  '960',\n  '974',\n  '1215',\n  '키로단',\n  '29']]"
     },
     "metadata": {},
     "output_type": "display_data"
    },
    {
     "data": {
      "text/plain": "[[Timestamp('2020-06-07 00:00:00', freq='D')],\n [Timestamp('2020-06-07 00:00:00', freq='D'),\n  '대파(일반)',\n  '0',\n  '1930',\n  '2200',\n  '키로단',\n  '29'],\n [Timestamp('2020-06-07 00:00:00', freq='D'),\n  '대파(일반)',\n  '0',\n  '1425',\n  '1877',\n  '키로단',\n  '29'],\n [Timestamp('2020-06-07 00:00:00', freq='D'),\n  '대파(일반)',\n  '0',\n  '1188',\n  '1579',\n  '키로단',\n  '29'],\n [Timestamp('2020-06-07 00:00:00', freq='D'),\n  '대파(일반)',\n  '0',\n  '960',\n  '1374',\n  '키로단',\n  '29']]"
     },
     "metadata": {},
     "output_type": "display_data"
    },
    {
     "data": {
      "text/plain": "[[Timestamp('2020-06-08 00:00:00', freq='D')],\n [Timestamp('2020-06-08 00:00:00', freq='D'),\n  '대파(일반)',\n  '1980',\n  '0',\n  '0',\n  '키로단',\n  '29'],\n [Timestamp('2020-06-08 00:00:00', freq='D'),\n  '대파(일반)',\n  '1411',\n  '0',\n  '0',\n  '키로단',\n  '29'],\n [Timestamp('2020-06-08 00:00:00', freq='D'),\n  '대파(일반)',\n  '1165',\n  '0',\n  '0',\n  '키로단',\n  '29'],\n [Timestamp('2020-06-08 00:00:00', freq='D'),\n  '대파(일반)',\n  '1089',\n  '0',\n  '0',\n  '키로단',\n  '29']]"
     },
     "metadata": {},
     "output_type": "display_data"
    },
    {
     "data": {
      "text/plain": "[[Timestamp('2020-06-09 00:00:00', freq='D')],\n [Timestamp('2020-06-09 00:00:00', freq='D'),\n  '대파(일반)',\n  '1865',\n  '1980',\n  '2264',\n  '키로단',\n  '29'],\n [Timestamp('2020-06-09 00:00:00', freq='D'),\n  '대파(일반)',\n  '1522',\n  '1411',\n  '1972',\n  '키로단',\n  '29'],\n [Timestamp('2020-06-09 00:00:00', freq='D'),\n  '대파(일반)',\n  '1220',\n  '1165',\n  '1711',\n  '키로단',\n  '29'],\n [Timestamp('2020-06-09 00:00:00', freq='D'),\n  '대파(일반)',\n  '1059',\n  '1089',\n  '1417',\n  '키로단',\n  '29']]"
     },
     "metadata": {},
     "output_type": "display_data"
    },
    {
     "data": {
      "text/plain": "[[Timestamp('2020-06-10 00:00:00', freq='D')],\n [Timestamp('2020-06-10 00:00:00', freq='D'),\n  '대파(일반)',\n  '1617',\n  '1865',\n  '2350',\n  '키로단',\n  '29'],\n [Timestamp('2020-06-10 00:00:00', freq='D'),\n  '대파(일반)',\n  '1600',\n  '1522',\n  '1897',\n  '키로단',\n  '29'],\n [Timestamp('2020-06-10 00:00:00', freq='D'),\n  '대파(일반)',\n  '1384',\n  '1220',\n  '1613',\n  '키로단',\n  '29'],\n [Timestamp('2020-06-10 00:00:00', freq='D'),\n  '대파(일반)',\n  '933',\n  '1059',\n  '1393',\n  '키로단',\n  '29']]"
     },
     "metadata": {},
     "output_type": "display_data"
    },
    {
     "data": {
      "text/plain": "[[Timestamp('2020-06-11 00:00:00', freq='D')],\n [Timestamp('2020-06-11 00:00:00', freq='D'),\n  '대파(일반)',\n  '1608',\n  '1617',\n  '2335',\n  '키로단',\n  '29'],\n [Timestamp('2020-06-11 00:00:00', freq='D'),\n  '대파(일반)',\n  '1600',\n  '1600',\n  '1714',\n  '키로단',\n  '29'],\n [Timestamp('2020-06-11 00:00:00', freq='D'),\n  '대파(일반)',\n  '1324',\n  '1384',\n  '1582',\n  '키로단',\n  '29'],\n [Timestamp('2020-06-11 00:00:00', freq='D'),\n  '대파(일반)',\n  '912',\n  '933',\n  '1341',\n  '키로단',\n  '29']]"
     },
     "metadata": {},
     "output_type": "display_data"
    },
    {
     "data": {
      "text/plain": "[[Timestamp('2020-06-12 00:00:00', freq='D')],\n [Timestamp('2020-06-12 00:00:00', freq='D'),\n  '대파(일반)',\n  '1977',\n  '1608',\n  '1854',\n  '키로단',\n  '29'],\n [Timestamp('2020-06-12 00:00:00', freq='D'),\n  '대파(일반)',\n  '1332',\n  '1600',\n  '1657',\n  '키로단',\n  '29'],\n [Timestamp('2020-06-12 00:00:00', freq='D'),\n  '대파(일반)',\n  '1086',\n  '1324',\n  '1539',\n  '키로단',\n  '29'],\n [Timestamp('2020-06-12 00:00:00', freq='D'),\n  '대파(일반)',\n  '947',\n  '912',\n  '1319',\n  '키로단',\n  '29']]"
     },
     "metadata": {},
     "output_type": "display_data"
    },
    {
     "data": {
      "text/plain": "[[Timestamp('2020-06-13 00:00:00', freq='D')],\n [Timestamp('2020-06-13 00:00:00', freq='D'),\n  '대파(일반)',\n  '2080',\n  '1977',\n  '1764',\n  '키로단',\n  '29'],\n [Timestamp('2020-06-13 00:00:00', freq='D'),\n  '대파(일반)',\n  '1442',\n  '1332',\n  '1660',\n  '키로단',\n  '29'],\n [Timestamp('2020-06-13 00:00:00', freq='D'),\n  '대파(일반)',\n  '1142',\n  '1086',\n  '1495',\n  '키로단',\n  '29'],\n [Timestamp('2020-06-13 00:00:00', freq='D'),\n  '대파(일반)',\n  '982',\n  '947',\n  '1267',\n  '키로단',\n  '29']]"
     },
     "metadata": {},
     "output_type": "display_data"
    },
    {
     "data": {
      "text/plain": "[[Timestamp('2020-06-14 00:00:00', freq='D')],\n [Timestamp('2020-06-14 00:00:00', freq='D'),\n  '대파(일반)',\n  '0',\n  '2080',\n  '1782',\n  '키로단',\n  '29'],\n [Timestamp('2020-06-14 00:00:00', freq='D'),\n  '대파(일반)',\n  '0',\n  '1442',\n  '1605',\n  '키로단',\n  '29'],\n [Timestamp('2020-06-14 00:00:00', freq='D'),\n  '대파(일반)',\n  '0',\n  '1142',\n  '1429',\n  '키로단',\n  '29'],\n [Timestamp('2020-06-14 00:00:00', freq='D'),\n  '대파(일반)',\n  '0',\n  '982',\n  '1253',\n  '키로단',\n  '29']]"
     },
     "metadata": {},
     "output_type": "display_data"
    },
    {
     "data": {
      "text/plain": "[[Timestamp('2020-06-15 00:00:00', freq='D')],\n [Timestamp('2020-06-15 00:00:00', freq='D'),\n  '대파(일반)',\n  '2528',\n  '0',\n  '0',\n  '키로단',\n  '29'],\n [Timestamp('2020-06-15 00:00:00', freq='D'),\n  '대파(일반)',\n  '1949',\n  '0',\n  '0',\n  '키로단',\n  '29'],\n [Timestamp('2020-06-15 00:00:00', freq='D'),\n  '대파(일반)',\n  '1624',\n  '0',\n  '0',\n  '키로단',\n  '29'],\n [Timestamp('2020-06-15 00:00:00', freq='D'),\n  '대파(일반)',\n  '1220',\n  '0',\n  '0',\n  '키로단',\n  '29']]"
     },
     "metadata": {},
     "output_type": "display_data"
    },
    {
     "data": {
      "text/plain": "[[Timestamp('2020-06-16 00:00:00', freq='D')],\n [Timestamp('2020-06-16 00:00:00', freq='D'),\n  '대파(일반)',\n  '2300',\n  '2528',\n  '2098',\n  '키로단',\n  '29'],\n [Timestamp('2020-06-16 00:00:00', freq='D'),\n  '대파(일반)',\n  '2085',\n  '1949',\n  '1609',\n  '키로단',\n  '29'],\n [Timestamp('2020-06-16 00:00:00', freq='D'),\n  '대파(일반)',\n  '1655',\n  '1624',\n  '1308',\n  '키로단',\n  '29'],\n [Timestamp('2020-06-16 00:00:00', freq='D'),\n  '대파(일반)',\n  '1145',\n  '1220',\n  '1200',\n  '키로단',\n  '29']]"
     },
     "metadata": {},
     "output_type": "display_data"
    },
    {
     "data": {
      "text/plain": "[[Timestamp('2020-06-17 00:00:00', freq='D')],\n [Timestamp('2020-06-17 00:00:00', freq='D'),\n  '대파(일반)',\n  '2300',\n  '2300',\n  '1983',\n  '키로단',\n  '29'],\n [Timestamp('2020-06-17 00:00:00', freq='D'),\n  '대파(일반)',\n  '2085',\n  '2085',\n  '1520',\n  '키로단',\n  '29'],\n [Timestamp('2020-06-17 00:00:00', freq='D'),\n  '대파(일반)',\n  '1655',\n  '1655',\n  '1314',\n  '키로단',\n  '29'],\n [Timestamp('2020-06-17 00:00:00', freq='D'),\n  '대파(일반)',\n  '1145',\n  '1145',\n  '1207',\n  '키로단',\n  '29']]"
     },
     "metadata": {},
     "output_type": "display_data"
    },
    {
     "data": {
      "text/plain": "[[Timestamp('2020-06-18 00:00:00', freq='D')],\n [Timestamp('2020-06-18 00:00:00', freq='D'),\n  '대파(일반)',\n  '2203',\n  '2300',\n  '1983',\n  '키로단',\n  '29'],\n [Timestamp('2020-06-18 00:00:00', freq='D'),\n  '대파(일반)',\n  '2027',\n  '2085',\n  '1444',\n  '키로단',\n  '29'],\n [Timestamp('2020-06-18 00:00:00', freq='D'),\n  '대파(일반)',\n  '1536',\n  '1655',\n  '1272',\n  '키로단',\n  '29'],\n [Timestamp('2020-06-18 00:00:00', freq='D'),\n  '대파(일반)',\n  '1112',\n  '1145',\n  '1012',\n  '키로단',\n  '29']]"
     },
     "metadata": {},
     "output_type": "display_data"
    },
    {
     "data": {
      "text/plain": "[[Timestamp('2020-06-19 00:00:00', freq='D')],\n [Timestamp('2020-06-19 00:00:00', freq='D'),\n  '대파(일반)',\n  '2171',\n  '2203',\n  '1937',\n  '키로단',\n  '29'],\n [Timestamp('2020-06-19 00:00:00', freq='D'),\n  '대파(일반)',\n  '1923',\n  '2027',\n  '1661',\n  '키로단',\n  '29'],\n [Timestamp('2020-06-19 00:00:00', freq='D'),\n  '대파(일반)',\n  '1441',\n  '1536',\n  '1320',\n  '키로단',\n  '29'],\n [Timestamp('2020-06-19 00:00:00', freq='D'),\n  '대파(일반)',\n  '1073',\n  '1112',\n  '935',\n  '키로단',\n  '29']]"
     },
     "metadata": {},
     "output_type": "display_data"
    },
    {
     "data": {
      "text/plain": "[[Timestamp('2020-06-20 00:00:00', freq='D')],\n [Timestamp('2020-06-20 00:00:00', freq='D'),\n  '대파(일반)',\n  '2198',\n  '2171',\n  '1846',\n  '키로단',\n  '29'],\n [Timestamp('2020-06-20 00:00:00', freq='D'),\n  '대파(일반)',\n  '2047',\n  '1923',\n  '1700',\n  '키로단',\n  '29'],\n [Timestamp('2020-06-20 00:00:00', freq='D'),\n  '대파(일반)',\n  '1341',\n  '1441',\n  '1427',\n  '키로단',\n  '29'],\n [Timestamp('2020-06-20 00:00:00', freq='D'),\n  '대파(일반)',\n  '1073',\n  '1073',\n  '1057',\n  '키로단',\n  '29']]"
     },
     "metadata": {},
     "output_type": "display_data"
    },
    {
     "data": {
      "text/plain": "[[Timestamp('2020-06-21 00:00:00', freq='D')],\n [Timestamp('2020-06-21 00:00:00', freq='D'),\n  '대파(일반)',\n  '0',\n  '2198',\n  '1803',\n  '키로단',\n  '29'],\n [Timestamp('2020-06-21 00:00:00', freq='D'),\n  '대파(일반)',\n  '0',\n  '2047',\n  '1607',\n  '키로단',\n  '29'],\n [Timestamp('2020-06-21 00:00:00', freq='D'),\n  '대파(일반)',\n  '0',\n  '1341',\n  '1436',\n  '키로단',\n  '29'],\n [Timestamp('2020-06-21 00:00:00', freq='D'),\n  '대파(일반)',\n  '0',\n  '1073',\n  '1075',\n  '키로단',\n  '29']]"
     },
     "metadata": {},
     "output_type": "display_data"
    },
    {
     "data": {
      "text/plain": "[[Timestamp('2020-06-22 00:00:00', freq='D')],\n [Timestamp('2020-06-22 00:00:00', freq='D'),\n  '대파(일반)',\n  '2430',\n  '0',\n  '0',\n  '키로단',\n  '29'],\n [Timestamp('2020-06-22 00:00:00', freq='D'),\n  '대파(일반)',\n  '1732',\n  '0',\n  '0',\n  '키로단',\n  '29'],\n [Timestamp('2020-06-22 00:00:00', freq='D'),\n  '대파(일반)',\n  '1350',\n  '0',\n  '0',\n  '키로단',\n  '29'],\n [Timestamp('2020-06-22 00:00:00', freq='D'),\n  '대파(일반)',\n  '1086',\n  '0',\n  '0',\n  '키로단',\n  '29']]"
     },
     "metadata": {},
     "output_type": "display_data"
    },
    {
     "data": {
      "text/plain": "[[Timestamp('2020-06-23 00:00:00', freq='D')],\n [Timestamp('2020-06-23 00:00:00', freq='D'),\n  '대파(일반)',\n  '2252',\n  '2430',\n  '1973',\n  '키로단',\n  '29'],\n [Timestamp('2020-06-23 00:00:00', freq='D'),\n  '대파(일반)',\n  '1703',\n  '1732',\n  '1530',\n  '키로단',\n  '29'],\n [Timestamp('2020-06-23 00:00:00', freq='D'),\n  '대파(일반)',\n  '1374',\n  '1350',\n  '1222',\n  '키로단',\n  '29'],\n [Timestamp('2020-06-23 00:00:00', freq='D'),\n  '대파(일반)',\n  '1109',\n  '1086',\n  '923',\n  '키로단',\n  '29']]"
     },
     "metadata": {},
     "output_type": "display_data"
    },
    {
     "data": {
      "text/plain": "[[Timestamp('2020-06-24 00:00:00', freq='D')],\n [Timestamp('2020-06-24 00:00:00', freq='D'),\n  '대파(일반)',\n  '2237',\n  '2252',\n  '1852',\n  '키로단',\n  '29'],\n [Timestamp('2020-06-24 00:00:00', freq='D'),\n  '대파(일반)',\n  '2140',\n  '1703',\n  '1528',\n  '키로단',\n  '29'],\n [Timestamp('2020-06-24 00:00:00', freq='D'),\n  '대파(일반)',\n  '1639',\n  '1374',\n  '1226',\n  '키로단',\n  '29'],\n [Timestamp('2020-06-24 00:00:00', freq='D'),\n  '대파(일반)',\n  '1218',\n  '1109',\n  '849',\n  '키로단',\n  '29']]"
     },
     "metadata": {},
     "output_type": "display_data"
    },
    {
     "data": {
      "text/plain": "[[Timestamp('2020-06-25 00:00:00', freq='D')],\n [Timestamp('2020-06-25 00:00:00', freq='D'),\n  '대파(일반)',\n  '2258',\n  '2237',\n  '1731',\n  '키로단',\n  '29'],\n [Timestamp('2020-06-25 00:00:00', freq='D'),\n  '대파(일반)',\n  '2027',\n  '2140',\n  '1524',\n  '키로단',\n  '29'],\n [Timestamp('2020-06-25 00:00:00', freq='D'),\n  '대파(일반)',\n  '1484',\n  '1639',\n  '1204',\n  '키로단',\n  '29'],\n [Timestamp('2020-06-25 00:00:00', freq='D'),\n  '대파(일반)',\n  '1333',\n  '1218',\n  '841',\n  '키로단',\n  '29']]"
     },
     "metadata": {},
     "output_type": "display_data"
    },
    {
     "data": {
      "text/plain": "[[Timestamp('2020-06-26 00:00:00', freq='D')],\n [Timestamp('2020-06-26 00:00:00', freq='D'),\n  '대파(일반)',\n  '2211',\n  '2258',\n  '1757',\n  '키로단',\n  '29'],\n [Timestamp('2020-06-26 00:00:00', freq='D'),\n  '대파(일반)',\n  '1623',\n  '2027',\n  '1535',\n  '키로단',\n  '29'],\n [Timestamp('2020-06-26 00:00:00', freq='D'),\n  '대파(일반)',\n  '1450',\n  '1484',\n  '1137',\n  '키로단',\n  '29'],\n [Timestamp('2020-06-26 00:00:00', freq='D'),\n  '대파(일반)',\n  '1347',\n  '1333',\n  '819',\n  '키로단',\n  '29']]"
     },
     "metadata": {},
     "output_type": "display_data"
    },
    {
     "data": {
      "text/plain": "[[Timestamp('2020-06-27 00:00:00', freq='D')],\n [Timestamp('2020-06-27 00:00:00', freq='D'),\n  '대파(일반)',\n  '2164',\n  '2211',\n  '1843',\n  '키로단',\n  '29'],\n [Timestamp('2020-06-27 00:00:00', freq='D'),\n  '대파(일반)',\n  '1771',\n  '1623',\n  '1623',\n  '키로단',\n  '29'],\n [Timestamp('2020-06-27 00:00:00', freq='D'),\n  '대파(일반)',\n  '1580',\n  '1450',\n  '1171',\n  '키로단',\n  '29'],\n [Timestamp('2020-06-27 00:00:00', freq='D'),\n  '대파(일반)',\n  '1415',\n  '1347',\n  '820',\n  '키로단',\n  '29']]"
     },
     "metadata": {},
     "output_type": "display_data"
    },
    {
     "data": {
      "text/plain": "[[Timestamp('2020-06-28 00:00:00', freq='D')],\n [Timestamp('2020-06-28 00:00:00', freq='D'),\n  '대파(일반)',\n  '0',\n  '2164',\n  '1818',\n  '키로단',\n  '29'],\n [Timestamp('2020-06-28 00:00:00', freq='D'),\n  '대파(일반)',\n  '0',\n  '1771',\n  '1551',\n  '키로단',\n  '29'],\n [Timestamp('2020-06-28 00:00:00', freq='D'),\n  '대파(일반)',\n  '0',\n  '1580',\n  '1203',\n  '키로단',\n  '29'],\n [Timestamp('2020-06-28 00:00:00', freq='D'),\n  '대파(일반)',\n  '0',\n  '1415',\n  '1115',\n  '키로단',\n  '29']]"
     },
     "metadata": {},
     "output_type": "display_data"
    },
    {
     "data": {
      "text/plain": "[[Timestamp('2020-06-29 00:00:00', freq='D')],\n [Timestamp('2020-06-29 00:00:00', freq='D'),\n  '대파(일반)',\n  '1790',\n  '0',\n  '0',\n  '키로단',\n  '29'],\n [Timestamp('2020-06-29 00:00:00', freq='D'),\n  '대파(일반)',\n  '1503',\n  '0',\n  '0',\n  '키로단',\n  '29'],\n [Timestamp('2020-06-29 00:00:00', freq='D'),\n  '대파(일반)',\n  '1050',\n  '0',\n  '0',\n  '키로단',\n  '29'],\n [Timestamp('2020-06-29 00:00:00', freq='D'),\n  '대파(일반)',\n  '937',\n  '0',\n  '0',\n  '키로단',\n  '29']]"
     },
     "metadata": {},
     "output_type": "display_data"
    },
    {
     "data": {
      "text/plain": "[[Timestamp('2020-06-30 00:00:00', freq='D')],\n [Timestamp('2020-06-30 00:00:00', freq='D'),\n  '대파(일반)',\n  '1937',\n  '1790',\n  '1947',\n  '키로단',\n  '29'],\n [Timestamp('2020-06-30 00:00:00', freq='D'),\n  '대파(일반)',\n  '1476',\n  '1503',\n  '1591',\n  '키로단',\n  '29'],\n [Timestamp('2020-06-30 00:00:00', freq='D'),\n  '대파(일반)',\n  '1205',\n  '1050',\n  '1300',\n  '키로단',\n  '29'],\n [Timestamp('2020-06-30 00:00:00', freq='D'),\n  '대파(일반)',\n  '961',\n  '937',\n  '1106',\n  '키로단',\n  '29']]"
     },
     "metadata": {},
     "output_type": "display_data"
    },
    {
     "data": {
      "text/plain": "[[Timestamp('2020-07-01 00:00:00', freq='D')],\n [Timestamp('2020-07-01 00:00:00', freq='D'),\n  '대파(일반)',\n  '2043',\n  '1937',\n  '2047',\n  '키로단',\n  '29'],\n [Timestamp('2020-07-01 00:00:00', freq='D'),\n  '대파(일반)',\n  '1526',\n  '1476',\n  '1467',\n  '키로단',\n  '29'],\n [Timestamp('2020-07-01 00:00:00', freq='D'),\n  '대파(일반)',\n  '1246',\n  '1205',\n  '1146',\n  '키로단',\n  '29'],\n [Timestamp('2020-07-01 00:00:00', freq='D'),\n  '대파(일반)',\n  '1030',\n  '961',\n  '946',\n  '키로단',\n  '29']]"
     },
     "metadata": {},
     "output_type": "display_data"
    },
    {
     "data": {
      "text/plain": "[[Timestamp('2020-07-02 00:00:00', freq='D')],\n [Timestamp('2020-07-02 00:00:00', freq='D'),\n  '대파(일반)',\n  '2140',\n  '2043',\n  '2223',\n  '키로단',\n  '29'],\n [Timestamp('2020-07-02 00:00:00', freq='D'),\n  '대파(일반)',\n  '1985',\n  '1526',\n  '1541',\n  '키로단',\n  '29'],\n [Timestamp('2020-07-02 00:00:00', freq='D'),\n  '대파(일반)',\n  '1446',\n  '1246',\n  '1088',\n  '키로단',\n  '29'],\n [Timestamp('2020-07-02 00:00:00', freq='D'),\n  '대파(일반)',\n  '1118',\n  '1030',\n  '921',\n  '키로단',\n  '29']]"
     },
     "metadata": {},
     "output_type": "display_data"
    },
    {
     "data": {
      "text/plain": "[[Timestamp('2020-07-03 00:00:00', freq='D')],\n [Timestamp('2020-07-03 00:00:00', freq='D'),\n  '대파(일반)',\n  '2149',\n  '2140',\n  '2183',\n  '키로단',\n  '29'],\n [Timestamp('2020-07-03 00:00:00', freq='D'),\n  '대파(일반)',\n  '1940',\n  '1985',\n  '1601',\n  '키로단',\n  '29'],\n [Timestamp('2020-07-03 00:00:00', freq='D'),\n  '대파(일반)',\n  '1413',\n  '1446',\n  '1213',\n  '키로단',\n  '29'],\n [Timestamp('2020-07-03 00:00:00', freq='D'),\n  '대파(일반)',\n  '784',\n  '1118',\n  '1022',\n  '키로단',\n  '29']]"
     },
     "metadata": {},
     "output_type": "display_data"
    },
    {
     "data": {
      "text/plain": "[[Timestamp('2020-07-04 00:00:00', freq='D')],\n [Timestamp('2020-07-04 00:00:00', freq='D'),\n  '대파(일반)',\n  '1823',\n  '2149',\n  '2112',\n  '키로단',\n  '29'],\n [Timestamp('2020-07-04 00:00:00', freq='D'),\n  '대파(일반)',\n  '1336',\n  '1940',\n  '1553',\n  '키로단',\n  '29'],\n [Timestamp('2020-07-04 00:00:00', freq='D'),\n  '대파(일반)',\n  '742',\n  '1413',\n  '1203',\n  '키로단',\n  '29'],\n [Timestamp('2020-07-04 00:00:00', freq='D'),\n  '대파(일반)',\n  '300',\n  '784',\n  '1014',\n  '키로단',\n  '29']]"
     },
     "metadata": {},
     "output_type": "display_data"
    },
    {
     "data": {
      "text/plain": "[[Timestamp('2020-07-05 00:00:00', freq='D')],\n [Timestamp('2020-07-05 00:00:00', freq='D'),\n  '대파(일반)',\n  '0',\n  '1823',\n  '2134',\n  '키로단',\n  '29'],\n [Timestamp('2020-07-05 00:00:00', freq='D'),\n  '대파(일반)',\n  '0',\n  '1336',\n  '1637',\n  '키로단',\n  '29'],\n [Timestamp('2020-07-05 00:00:00', freq='D'),\n  '대파(일반)',\n  '0',\n  '742',\n  '1195',\n  '키로단',\n  '29'],\n [Timestamp('2020-07-05 00:00:00', freq='D'),\n  '대파(일반)',\n  '0',\n  '300',\n  '956',\n  '키로단',\n  '29']]"
     },
     "metadata": {},
     "output_type": "display_data"
    },
    {
     "data": {
      "text/plain": "[[Timestamp('2020-07-06 00:00:00', freq='D')],\n [Timestamp('2020-07-06 00:00:00', freq='D'),\n  '대파(일반)',\n  '2181',\n  '0',\n  '0',\n  '키로단',\n  '29'],\n [Timestamp('2020-07-06 00:00:00', freq='D'),\n  '대파(일반)',\n  '1185',\n  '0',\n  '0',\n  '키로단',\n  '29'],\n [Timestamp('2020-07-06 00:00:00', freq='D'),\n  '대파(일반)',\n  '958',\n  '0',\n  '0',\n  '키로단',\n  '29'],\n [Timestamp('2020-07-06 00:00:00', freq='D'),\n  '대파(일반)',\n  '900',\n  '0',\n  '0',\n  '키로단',\n  '29']]"
     },
     "metadata": {},
     "output_type": "display_data"
    },
    {
     "data": {
      "text/plain": "[[Timestamp('2020-07-07 00:00:00', freq='D')],\n [Timestamp('2020-07-07 00:00:00', freq='D'),\n  '대파(일반)',\n  '2226',\n  '2181',\n  '2583',\n  '키로단',\n  '29'],\n [Timestamp('2020-07-07 00:00:00', freq='D'),\n  '대파(일반)',\n  '1597',\n  '1185',\n  '1686',\n  '키로단',\n  '29'],\n [Timestamp('2020-07-07 00:00:00', freq='D'),\n  '대파(일반)',\n  '1064',\n  '958',\n  '1206',\n  '키로단',\n  '29'],\n [Timestamp('2020-07-07 00:00:00', freq='D'),\n  '대파(일반)',\n  '888',\n  '900',\n  '943',\n  '키로단',\n  '29']]"
     },
     "metadata": {},
     "output_type": "display_data"
    },
    {
     "data": {
      "text/plain": "[[Timestamp('2020-07-08 00:00:00', freq='D')],\n [Timestamp('2020-07-08 00:00:00', freq='D'),\n  '대파(일반)',\n  '2185',\n  '2226',\n  '2271',\n  '키로단',\n  '29'],\n [Timestamp('2020-07-08 00:00:00', freq='D'),\n  '대파(일반)',\n  '1643',\n  '1597',\n  '1714',\n  '키로단',\n  '29'],\n [Timestamp('2020-07-08 00:00:00', freq='D'),\n  '대파(일반)',\n  '1220',\n  '1064',\n  '1214',\n  '키로단',\n  '29'],\n [Timestamp('2020-07-08 00:00:00', freq='D'),\n  '대파(일반)',\n  '738',\n  '888',\n  '968',\n  '키로단',\n  '29']]"
     },
     "metadata": {},
     "output_type": "display_data"
    },
    {
     "data": {
      "text/plain": "[[Timestamp('2020-07-09 00:00:00', freq='D')],\n [Timestamp('2020-07-09 00:00:00', freq='D'),\n  '대파(일반)',\n  '2179',\n  '2185',\n  '2302',\n  '키로단',\n  '29'],\n [Timestamp('2020-07-09 00:00:00', freq='D'),\n  '대파(일반)',\n  '1599',\n  '1643',\n  '1700',\n  '키로단',\n  '29'],\n [Timestamp('2020-07-09 00:00:00', freq='D'),\n  '대파(일반)',\n  '1051',\n  '1220',\n  '1204',\n  '키로단',\n  '29'],\n [Timestamp('2020-07-09 00:00:00', freq='D'),\n  '대파(일반)',\n  '687',\n  '738',\n  '887',\n  '키로단',\n  '29']]"
     },
     "metadata": {},
     "output_type": "display_data"
    },
    {
     "data": {
      "text/plain": "[[Timestamp('2020-07-10 00:00:00', freq='D')],\n [Timestamp('2020-07-10 00:00:00', freq='D'),\n  '대파(일반)',\n  '2264',\n  '2179',\n  '2384',\n  '키로단',\n  '29'],\n [Timestamp('2020-07-10 00:00:00', freq='D'),\n  '대파(일반)',\n  '1315',\n  '1599',\n  '1824',\n  '키로단',\n  '29'],\n [Timestamp('2020-07-10 00:00:00', freq='D'),\n  '대파(일반)',\n  '1001',\n  '1051',\n  '1280',\n  '키로단',\n  '29'],\n [Timestamp('2020-07-10 00:00:00', freq='D'),\n  '대파(일반)',\n  '670',\n  '687',\n  '891',\n  '키로단',\n  '29']]"
     },
     "metadata": {},
     "output_type": "display_data"
    },
    {
     "data": {
      "text/plain": "[[Timestamp('2020-07-11 00:00:00', freq='D')],\n [Timestamp('2020-07-11 00:00:00', freq='D'),\n  '대파(일반)',\n  '2203',\n  '2264',\n  '2271',\n  '키로단',\n  '29'],\n [Timestamp('2020-07-11 00:00:00', freq='D'),\n  '대파(일반)',\n  '1306',\n  '1315',\n  '1885',\n  '키로단',\n  '29'],\n [Timestamp('2020-07-11 00:00:00', freq='D'),\n  '대파(일반)',\n  '942',\n  '1001',\n  '1434',\n  '키로단',\n  '29'],\n [Timestamp('2020-07-11 00:00:00', freq='D'),\n  '대파(일반)',\n  '670',\n  '670',\n  '1128',\n  '키로단',\n  '29']]"
     },
     "metadata": {},
     "output_type": "display_data"
    },
    {
     "data": {
      "text/plain": "[[Timestamp('2020-07-12 00:00:00', freq='D')],\n [Timestamp('2020-07-12 00:00:00', freq='D'),\n  '대파(일반)',\n  '0',\n  '2203',\n  '2157',\n  '키로단',\n  '29'],\n [Timestamp('2020-07-12 00:00:00', freq='D'),\n  '대파(일반)',\n  '0',\n  '1306',\n  '1731',\n  '키로단',\n  '29'],\n [Timestamp('2020-07-12 00:00:00', freq='D'),\n  '대파(일반)',\n  '0',\n  '942',\n  '1398',\n  '키로단',\n  '29'],\n [Timestamp('2020-07-12 00:00:00', freq='D'),\n  '대파(일반)',\n  '0',\n  '670',\n  '1226',\n  '키로단',\n  '29']]"
     },
     "metadata": {},
     "output_type": "display_data"
    },
    {
     "data": {
      "text/plain": "[[Timestamp('2020-07-13 00:00:00', freq='D')],\n [Timestamp('2020-07-13 00:00:00', freq='D'),\n  '대파(일반)',\n  '2608',\n  '0',\n  '0',\n  '키로단',\n  '29'],\n [Timestamp('2020-07-13 00:00:00', freq='D'),\n  '대파(일반)',\n  '1569',\n  '0',\n  '0',\n  '키로단',\n  '29'],\n [Timestamp('2020-07-13 00:00:00', freq='D'),\n  '대파(일반)',\n  '1147',\n  '0',\n  '0',\n  '키로단',\n  '29'],\n [Timestamp('2020-07-13 00:00:00', freq='D'),\n  '대파(일반)',\n  '789',\n  '0',\n  '0',\n  '키로단',\n  '29']]"
     },
     "metadata": {},
     "output_type": "display_data"
    },
    {
     "data": {
      "text/plain": "[[Timestamp('2020-07-14 00:00:00', freq='D')],\n [Timestamp('2020-07-14 00:00:00', freq='D'),\n  '대파(일반)',\n  '2438',\n  '2608',\n  '2585',\n  '키로단',\n  '29'],\n [Timestamp('2020-07-14 00:00:00', freq='D'),\n  '대파(일반)',\n  '1427',\n  '1569',\n  '1850',\n  '키로단',\n  '29'],\n [Timestamp('2020-07-14 00:00:00', freq='D'),\n  '대파(일반)',\n  '1233',\n  '1147',\n  '1416',\n  '키로단',\n  '29'],\n [Timestamp('2020-07-14 00:00:00', freq='D'),\n  '대파(일반)',\n  '964',\n  '789',\n  '1267',\n  '키로단',\n  '29']]"
     },
     "metadata": {},
     "output_type": "display_data"
    },
    {
     "data": {
      "text/plain": "[[Timestamp('2020-07-15 00:00:00', freq='D')],\n [Timestamp('2020-07-15 00:00:00', freq='D'),\n  '대파(일반)',\n  '2106',\n  '2438',\n  '2455',\n  '키로단',\n  '29'],\n [Timestamp('2020-07-15 00:00:00', freq='D'),\n  '대파(일반)',\n  '1442',\n  '1427',\n  '1674',\n  '키로단',\n  '29'],\n [Timestamp('2020-07-15 00:00:00', freq='D'),\n  '대파(일반)',\n  '1282',\n  '1233',\n  '1321',\n  '키로단',\n  '29'],\n [Timestamp('2020-07-15 00:00:00', freq='D'),\n  '대파(일반)',\n  '1136',\n  '964',\n  '1074',\n  '키로단',\n  '29']]"
     },
     "metadata": {},
     "output_type": "display_data"
    },
    {
     "data": {
      "text/plain": "[[Timestamp('2020-07-16 00:00:00', freq='D')],\n [Timestamp('2020-07-16 00:00:00', freq='D'),\n  '대파(일반)',\n  '2276',\n  '2106',\n  '2030',\n  '키로단',\n  '29'],\n [Timestamp('2020-07-16 00:00:00', freq='D'),\n  '대파(일반)',\n  '1992',\n  '1442',\n  '1614',\n  '키로단',\n  '29'],\n [Timestamp('2020-07-16 00:00:00', freq='D'),\n  '대파(일반)',\n  '1420',\n  '1282',\n  '1338',\n  '키로단',\n  '29'],\n [Timestamp('2020-07-16 00:00:00', freq='D'),\n  '대파(일반)',\n  '1182',\n  '1136',\n  '973',\n  '키로단',\n  '29']]"
     },
     "metadata": {},
     "output_type": "display_data"
    },
    {
     "data": {
      "text/plain": "[[Timestamp('2020-07-17 00:00:00', freq='D')],\n [Timestamp('2020-07-17 00:00:00', freq='D'),\n  '대파(일반)',\n  '2361',\n  '2276',\n  '1859',\n  '키로단',\n  '29'],\n [Timestamp('2020-07-17 00:00:00', freq='D'),\n  '대파(일반)',\n  '1928',\n  '1992',\n  '1622',\n  '키로단',\n  '29'],\n [Timestamp('2020-07-17 00:00:00', freq='D'),\n  '대파(일반)',\n  '1453',\n  '1420',\n  '1414',\n  '키로단',\n  '29'],\n [Timestamp('2020-07-17 00:00:00', freq='D'),\n  '대파(일반)',\n  '1164',\n  '1182',\n  '933',\n  '키로단',\n  '29']]"
     },
     "metadata": {},
     "output_type": "display_data"
    },
    {
     "data": {
      "text/plain": "[[Timestamp('2020-07-18 00:00:00', freq='D')],\n [Timestamp('2020-07-18 00:00:00', freq='D'),\n  '대파(일반)',\n  '2217',\n  '2361',\n  '1829',\n  '키로단',\n  '29'],\n [Timestamp('2020-07-18 00:00:00', freq='D'),\n  '대파(일반)',\n  '1643',\n  '1928',\n  '1577',\n  '키로단',\n  '29'],\n [Timestamp('2020-07-18 00:00:00', freq='D'),\n  '대파(일반)',\n  '1375',\n  '1453',\n  '1374',\n  '키로단',\n  '29'],\n [Timestamp('2020-07-18 00:00:00', freq='D'),\n  '대파(일반)',\n  '1149',\n  '1164',\n  '943',\n  '키로단',\n  '29']]"
     },
     "metadata": {},
     "output_type": "display_data"
    },
    {
     "data": {
      "text/plain": "[[Timestamp('2020-07-19 00:00:00', freq='D')],\n [Timestamp('2020-07-19 00:00:00', freq='D'),\n  '대파(일반)',\n  '0',\n  '2217',\n  '1645',\n  '키로단',\n  '29'],\n [Timestamp('2020-07-19 00:00:00', freq='D'),\n  '대파(일반)',\n  '0',\n  '1643',\n  '1498',\n  '키로단',\n  '29'],\n [Timestamp('2020-07-19 00:00:00', freq='D'),\n  '대파(일반)',\n  '0',\n  '1375',\n  '1107',\n  '키로단',\n  '29'],\n [Timestamp('2020-07-19 00:00:00', freq='D'),\n  '대파(일반)',\n  '0',\n  '1149',\n  '805',\n  '키로단',\n  '29']]"
     },
     "metadata": {},
     "output_type": "display_data"
    },
    {
     "data": {
      "text/plain": "[[Timestamp('2020-07-20 00:00:00', freq='D')],\n [Timestamp('2020-07-20 00:00:00', freq='D'),\n  '대파(일반)',\n  '2895',\n  '0',\n  '0',\n  '키로단',\n  '29'],\n [Timestamp('2020-07-20 00:00:00', freq='D'),\n  '대파(일반)',\n  '1670',\n  '0',\n  '0',\n  '키로단',\n  '29'],\n [Timestamp('2020-07-20 00:00:00', freq='D'),\n  '대파(일반)',\n  '1008',\n  '0',\n  '0',\n  '키로단',\n  '29'],\n [Timestamp('2020-07-20 00:00:00', freq='D'),\n  '대파(일반)',\n  '728',\n  '0',\n  '0',\n  '키로단',\n  '29']]"
     },
     "metadata": {},
     "output_type": "display_data"
    },
    {
     "data": {
      "text/plain": "[[Timestamp('2020-07-21 00:00:00', freq='D')],\n [Timestamp('2020-07-21 00:00:00', freq='D'),\n  '대파(일반)',\n  '2398',\n  '2895',\n  '2200',\n  '키로단',\n  '29'],\n [Timestamp('2020-07-21 00:00:00', freq='D'),\n  '대파(일반)',\n  '1894',\n  '1670',\n  '1924',\n  '키로단',\n  '29'],\n [Timestamp('2020-07-21 00:00:00', freq='D'),\n  '대파(일반)',\n  '1319',\n  '1008',\n  '1354',\n  '키로단',\n  '29'],\n [Timestamp('2020-07-21 00:00:00', freq='D'),\n  '대파(일반)',\n  '797',\n  '728',\n  '854',\n  '키로단',\n  '29']]"
     },
     "metadata": {},
     "output_type": "display_data"
    },
    {
     "data": {
      "text/plain": "[[Timestamp('2020-07-22 00:00:00', freq='D')],\n [Timestamp('2020-07-22 00:00:00', freq='D'),\n  '대파(일반)',\n  '2178',\n  '2398',\n  '2099',\n  '키로단',\n  '29'],\n [Timestamp('2020-07-22 00:00:00', freq='D'),\n  '대파(일반)',\n  '1761',\n  '1894',\n  '1643',\n  '키로단',\n  '29'],\n [Timestamp('2020-07-22 00:00:00', freq='D'),\n  '대파(일반)',\n  '1294',\n  '1319',\n  '1174',\n  '키로단',\n  '29'],\n [Timestamp('2020-07-22 00:00:00', freq='D'),\n  '대파(일반)',\n  '863',\n  '797',\n  '896',\n  '키로단',\n  '29']]"
     },
     "metadata": {},
     "output_type": "display_data"
    },
    {
     "data": {
      "text/plain": "[[Timestamp('2020-07-23 00:00:00', freq='D')],\n [Timestamp('2020-07-23 00:00:00', freq='D'),\n  '대파(일반)',\n  '2094',\n  '2178',\n  '1882',\n  '키로단',\n  '29'],\n [Timestamp('2020-07-23 00:00:00', freq='D'),\n  '대파(일반)',\n  '1565',\n  '1761',\n  '1514',\n  '키로단',\n  '29'],\n [Timestamp('2020-07-23 00:00:00', freq='D'),\n  '대파(일반)',\n  '1205',\n  '1294',\n  '1167',\n  '키로단',\n  '29'],\n [Timestamp('2020-07-23 00:00:00', freq='D'),\n  '대파(일반)',\n  '794',\n  '863',\n  '901',\n  '키로단',\n  '29']]"
     },
     "metadata": {},
     "output_type": "display_data"
    },
    {
     "data": {
      "text/plain": "[[Timestamp('2020-07-24 00:00:00', freq='D')],\n [Timestamp('2020-07-24 00:00:00', freq='D'),\n  '대파(일반)',\n  '2715',\n  '2094',\n  '1780',\n  '키로단',\n  '29'],\n [Timestamp('2020-07-24 00:00:00', freq='D'),\n  '대파(일반)',\n  '1629',\n  '1565',\n  '1325',\n  '키로단',\n  '29'],\n [Timestamp('2020-07-24 00:00:00', freq='D'),\n  '대파(일반)',\n  '1176',\n  '1205',\n  '1181',\n  '키로단',\n  '29'],\n [Timestamp('2020-07-24 00:00:00', freq='D'),\n  '대파(일반)',\n  '892',\n  '794',\n  '948',\n  '키로단',\n  '29']]"
     },
     "metadata": {},
     "output_type": "display_data"
    },
    {
     "data": {
      "text/plain": "[[Timestamp('2020-07-25 00:00:00', freq='D')],\n [Timestamp('2020-07-25 00:00:00', freq='D'),\n  '대파(일반)',\n  '0',\n  '2715',\n  '1800',\n  '키로단',\n  '29'],\n [Timestamp('2020-07-25 00:00:00', freq='D'),\n  '대파(일반)',\n  '0',\n  '1629',\n  '1483',\n  '키로단',\n  '29'],\n [Timestamp('2020-07-25 00:00:00', freq='D'),\n  '대파(일반)',\n  '0',\n  '1176',\n  '1180',\n  '키로단',\n  '29'],\n [Timestamp('2020-07-25 00:00:00', freq='D'),\n  '대파(일반)',\n  '0',\n  '892',\n  '990',\n  '키로단',\n  '29']]"
     },
     "metadata": {},
     "output_type": "display_data"
    },
    {
     "data": {
      "text/plain": "[[Timestamp('2020-07-26 00:00:00', freq='D')],\n [Timestamp('2020-07-26 00:00:00', freq='D'),\n  '대파(일반)',\n  '0',\n  '0',\n  '1800',\n  '키로단',\n  '29'],\n [Timestamp('2020-07-26 00:00:00', freq='D'),\n  '대파(일반)',\n  '0',\n  '0',\n  '1635',\n  '키로단',\n  '29'],\n [Timestamp('2020-07-26 00:00:00', freq='D'),\n  '대파(일반)',\n  '0',\n  '0',\n  '1395',\n  '키로단',\n  '29'],\n [Timestamp('2020-07-26 00:00:00', freq='D'),\n  '대파(일반)',\n  '0',\n  '0',\n  '1005',\n  '키로단',\n  '29']]"
     },
     "metadata": {},
     "output_type": "display_data"
    },
    {
     "data": {
      "text/plain": "[[Timestamp('2020-07-27 00:00:00', freq='D')],\n [Timestamp('2020-07-27 00:00:00', freq='D'),\n  '대파(일반)',\n  '3142',\n  '0',\n  '0',\n  '키로단',\n  '29'],\n [Timestamp('2020-07-27 00:00:00', freq='D'),\n  '대파(일반)',\n  '1603',\n  '0',\n  '0',\n  '키로단',\n  '29'],\n [Timestamp('2020-07-27 00:00:00', freq='D'),\n  '대파(일반)',\n  '1203',\n  '0',\n  '0',\n  '키로단',\n  '29'],\n [Timestamp('2020-07-27 00:00:00', freq='D'),\n  '대파(일반)',\n  '927',\n  '0',\n  '0',\n  '키로단',\n  '29']]"
     },
     "metadata": {},
     "output_type": "display_data"
    },
    {
     "data": {
      "text/plain": "[[Timestamp('2020-07-28 00:00:00', freq='D')],\n [Timestamp('2020-07-28 00:00:00', freq='D'),\n  '대파(일반)',\n  '2635',\n  '3142',\n  '2585',\n  '키로단',\n  '29'],\n [Timestamp('2020-07-28 00:00:00', freq='D'),\n  '대파(일반)',\n  '1688',\n  '1603',\n  '2068',\n  '키로단',\n  '29'],\n [Timestamp('2020-07-28 00:00:00', freq='D'),\n  '대파(일반)',\n  '1202',\n  '1203',\n  '1392',\n  '키로단',\n  '29'],\n [Timestamp('2020-07-28 00:00:00', freq='D'),\n  '대파(일반)',\n  '877',\n  '927',\n  '1170',\n  '키로단',\n  '29']]"
     },
     "metadata": {},
     "output_type": "display_data"
    },
    {
     "data": {
      "text/plain": "[[Timestamp('2020-07-29 00:00:00', freq='D')],\n [Timestamp('2020-07-29 00:00:00', freq='D'),\n  '대파(일반)',\n  '2143',\n  '2635',\n  '2479',\n  '키로단',\n  '29'],\n [Timestamp('2020-07-29 00:00:00', freq='D'),\n  '대파(일반)',\n  '1699',\n  '1688',\n  '1902',\n  '키로단',\n  '29'],\n [Timestamp('2020-07-29 00:00:00', freq='D'),\n  '대파(일반)',\n  '1166',\n  '1202',\n  '1499',\n  '키로단',\n  '29'],\n [Timestamp('2020-07-29 00:00:00', freq='D'),\n  '대파(일반)',\n  '879',\n  '877',\n  '1190',\n  '키로단',\n  '29']]"
     },
     "metadata": {},
     "output_type": "display_data"
    },
    {
     "data": {
      "text/plain": "[[Timestamp('2020-07-30 00:00:00', freq='D')],\n [Timestamp('2020-07-30 00:00:00', freq='D'),\n  '대파(일반)',\n  '2054',\n  '2143',\n  '2294',\n  '키로단',\n  '29'],\n [Timestamp('2020-07-30 00:00:00', freq='D'),\n  '대파(일반)',\n  '1566',\n  '1699',\n  '1831',\n  '키로단',\n  '29'],\n [Timestamp('2020-07-30 00:00:00', freq='D'),\n  '대파(일반)',\n  '1166',\n  '1166',\n  '1519',\n  '키로단',\n  '29'],\n [Timestamp('2020-07-30 00:00:00', freq='D'),\n  '대파(일반)',\n  '927',\n  '879',\n  '1166',\n  '키로단',\n  '29']]"
     },
     "metadata": {},
     "output_type": "display_data"
    },
    {
     "data": {
      "text/plain": "[[Timestamp('2020-07-31 00:00:00', freq='D')],\n [Timestamp('2020-07-31 00:00:00', freq='D'),\n  '대파(일반)',\n  '2454',\n  '2054',\n  '2736',\n  '키로단',\n  '29'],\n [Timestamp('2020-07-31 00:00:00', freq='D'),\n  '대파(일반)',\n  '1631',\n  '1566',\n  '2125',\n  '키로단',\n  '29'],\n [Timestamp('2020-07-31 00:00:00', freq='D'),\n  '대파(일반)',\n  '1419',\n  '1166',\n  '1520',\n  '키로단',\n  '29'],\n [Timestamp('2020-07-31 00:00:00', freq='D'),\n  '대파(일반)',\n  '996',\n  '927',\n  '1113',\n  '키로단',\n  '29']]"
     },
     "metadata": {},
     "output_type": "display_data"
    },
    {
     "data": {
      "text/plain": "[[Timestamp('2020-08-01 00:00:00', freq='D')],\n [Timestamp('2020-08-01 00:00:00', freq='D'),\n  '대파(일반)',\n  '2781',\n  '2454',\n  '2763',\n  '키로단',\n  '29'],\n [Timestamp('2020-08-01 00:00:00', freq='D'),\n  '대파(일반)',\n  '1672',\n  '1631',\n  '2142',\n  '키로단',\n  '29'],\n [Timestamp('2020-08-01 00:00:00', freq='D'),\n  '대파(일반)',\n  '1562',\n  '1419',\n  '1561',\n  '키로단',\n  '29'],\n [Timestamp('2020-08-01 00:00:00', freq='D'),\n  '대파(일반)',\n  '1287',\n  '996',\n  '1188',\n  '키로단',\n  '29']]"
     },
     "metadata": {},
     "output_type": "display_data"
    },
    {
     "data": {
      "text/plain": "[[Timestamp('2020-08-02 00:00:00', freq='D')],\n [Timestamp('2020-08-02 00:00:00', freq='D'),\n  '대파(일반)',\n  '0',\n  '2781',\n  '2490',\n  '키로단',\n  '29'],\n [Timestamp('2020-08-02 00:00:00', freq='D'),\n  '대파(일반)',\n  '0',\n  '1672',\n  '1900',\n  '키로단',\n  '29'],\n [Timestamp('2020-08-02 00:00:00', freq='D'),\n  '대파(일반)',\n  '0',\n  '1562',\n  '1544',\n  '키로단',\n  '29'],\n [Timestamp('2020-08-02 00:00:00', freq='D'),\n  '대파(일반)',\n  '0',\n  '1287',\n  '1317',\n  '키로단',\n  '29']]"
     },
     "metadata": {},
     "output_type": "display_data"
    },
    {
     "data": {
      "text/plain": "[[Timestamp('2020-08-03 00:00:00', freq='D')],\n [Timestamp('2020-08-03 00:00:00', freq='D'),\n  '대파(일반)',\n  '3500',\n  '0',\n  '2288',\n  '키로단',\n  '29'],\n [Timestamp('2020-08-03 00:00:00', freq='D'),\n  '대파(일반)',\n  '2203',\n  '0',\n  '1887',\n  '키로단',\n  '29'],\n [Timestamp('2020-08-03 00:00:00', freq='D'),\n  '대파(일반)',\n  '1235',\n  '0',\n  '1583',\n  '키로단',\n  '29'],\n [Timestamp('2020-08-03 00:00:00', freq='D'),\n  '대파(일반)',\n  '871',\n  '0',\n  '1368',\n  '키로단',\n  '29']]"
     },
     "metadata": {},
     "output_type": "display_data"
    },
    {
     "data": {
      "text/plain": "[[Timestamp('2020-08-04 00:00:00', freq='D')],\n [Timestamp('2020-08-04 00:00:00', freq='D'),\n  '대파(일반)',\n  '3475',\n  '3500',\n  '2337',\n  '키로단',\n  '29'],\n [Timestamp('2020-08-04 00:00:00', freq='D'),\n  '대파(일반)',\n  '2262',\n  '2203',\n  '1938',\n  '키로단',\n  '29'],\n [Timestamp('2020-08-04 00:00:00', freq='D'),\n  '대파(일반)',\n  '1382',\n  '1235',\n  '1505',\n  '키로단',\n  '29'],\n [Timestamp('2020-08-04 00:00:00', freq='D'),\n  '대파(일반)',\n  '911',\n  '871',\n  '1180',\n  '키로단',\n  '29']]"
     },
     "metadata": {},
     "output_type": "display_data"
    },
    {
     "data": {
      "text/plain": "[[Timestamp('2020-08-05 00:00:00', freq='D')],\n [Timestamp('2020-08-05 00:00:00', freq='D'),\n  '대파(일반)',\n  '2845',\n  '3475',\n  '2331',\n  '키로단',\n  '29'],\n [Timestamp('2020-08-05 00:00:00', freq='D'),\n  '대파(일반)',\n  '2044',\n  '2262',\n  '1923',\n  '키로단',\n  '29'],\n [Timestamp('2020-08-05 00:00:00', freq='D'),\n  '대파(일반)',\n  '1923',\n  '1382',\n  '1541',\n  '키로단',\n  '29'],\n [Timestamp('2020-08-05 00:00:00', freq='D'),\n  '대파(일반)',\n  '1176',\n  '911',\n  '1112',\n  '키로단',\n  '29']]"
     },
     "metadata": {},
     "output_type": "display_data"
    },
    {
     "data": {
      "text/plain": "[[Timestamp('2020-08-06 00:00:00', freq='D')],\n [Timestamp('2020-08-06 00:00:00', freq='D'),\n  '대파(일반)',\n  '3055',\n  '2845',\n  '2310',\n  '키로단',\n  '29'],\n [Timestamp('2020-08-06 00:00:00', freq='D'),\n  '대파(일반)',\n  '2161',\n  '2044',\n  '1899',\n  '키로단',\n  '29'],\n [Timestamp('2020-08-06 00:00:00', freq='D'),\n  '대파(일반)',\n  '1988',\n  '1923',\n  '1460',\n  '키로단',\n  '29'],\n [Timestamp('2020-08-06 00:00:00', freq='D'),\n  '대파(일반)',\n  '1483',\n  '1176',\n  '979',\n  '키로단',\n  '29']]"
     },
     "metadata": {},
     "output_type": "display_data"
    },
    {
     "data": {
      "text/plain": "[[Timestamp('2020-08-07 00:00:00', freq='D')],\n [Timestamp('2020-08-07 00:00:00', freq='D'),\n  '대파(일반)',\n  '3219',\n  '3055',\n  '2542',\n  '키로단',\n  '29'],\n [Timestamp('2020-08-07 00:00:00', freq='D'),\n  '대파(일반)',\n  '2258',\n  '2161',\n  '1704',\n  '키로단',\n  '29'],\n [Timestamp('2020-08-07 00:00:00', freq='D'),\n  '대파(일반)',\n  '1976',\n  '1988',\n  '1407',\n  '키로단',\n  '29'],\n [Timestamp('2020-08-07 00:00:00', freq='D'),\n  '대파(일반)',\n  '1475',\n  '1483',\n  '914',\n  '키로단',\n  '29']]"
     },
     "metadata": {},
     "output_type": "display_data"
    },
    {
     "data": {
      "text/plain": "[[Timestamp('2020-08-08 00:00:00', freq='D')],\n [Timestamp('2020-08-08 00:00:00', freq='D'),\n  '대파(일반)',\n  '3777',\n  '3219',\n  '2704',\n  '키로단',\n  '29'],\n [Timestamp('2020-08-08 00:00:00', freq='D'),\n  '대파(일반)',\n  '2436',\n  '2258',\n  '1826',\n  '키로단',\n  '29'],\n [Timestamp('2020-08-08 00:00:00', freq='D'),\n  '대파(일반)',\n  '1976',\n  '1976',\n  '1460',\n  '키로단',\n  '29'],\n [Timestamp('2020-08-08 00:00:00', freq='D'),\n  '대파(일반)',\n  '1177',\n  '1475',\n  '1045',\n  '키로단',\n  '29']]"
     },
     "metadata": {},
     "output_type": "display_data"
    },
    {
     "data": {
      "text/plain": "[[Timestamp('2020-08-09 00:00:00', freq='D')],\n [Timestamp('2020-08-09 00:00:00', freq='D'),\n  '대파(일반)',\n  '0',\n  '3777',\n  '2424',\n  '키로단',\n  '29'],\n [Timestamp('2020-08-09 00:00:00', freq='D'),\n  '대파(일반)',\n  '0',\n  '2436',\n  '1861',\n  '키로단',\n  '29'],\n [Timestamp('2020-08-09 00:00:00', freq='D'),\n  '대파(일반)',\n  '0',\n  '1976',\n  '1404',\n  '키로단',\n  '29'],\n [Timestamp('2020-08-09 00:00:00', freq='D'),\n  '대파(일반)',\n  '0',\n  '1177',\n  '1119',\n  '키로단',\n  '29']]"
     },
     "metadata": {},
     "output_type": "display_data"
    },
    {
     "data": {
      "text/plain": "[[Timestamp('2020-08-10 00:00:00', freq='D')],\n [Timestamp('2020-08-10 00:00:00', freq='D'),\n  '대파(일반)',\n  '3901',\n  '0',\n  '2172',\n  '키로단',\n  '29'],\n [Timestamp('2020-08-10 00:00:00', freq='D'),\n  '대파(일반)',\n  '3041',\n  '0',\n  '1808',\n  '키로단',\n  '29'],\n [Timestamp('2020-08-10 00:00:00', freq='D'),\n  '대파(일반)',\n  '2542',\n  '0',\n  '1420',\n  '키로단',\n  '29'],\n [Timestamp('2020-08-10 00:00:00', freq='D'),\n  '대파(일반)',\n  '1272',\n  '0',\n  '1158',\n  '키로단',\n  '29']]"
     },
     "metadata": {},
     "output_type": "display_data"
    },
    {
     "data": {
      "text/plain": "[[Timestamp('2020-08-11 00:00:00', freq='D')],\n [Timestamp('2020-08-11 00:00:00', freq='D'),\n  '대파(일반)',\n  '3889',\n  '3901',\n  '2134',\n  '키로단',\n  '29'],\n [Timestamp('2020-08-11 00:00:00', freq='D'),\n  '대파(일반)',\n  '3159',\n  '3041',\n  '1672',\n  '키로단',\n  '29'],\n [Timestamp('2020-08-11 00:00:00', freq='D'),\n  '대파(일반)',\n  '2344',\n  '2542',\n  '1472',\n  '키로단',\n  '29'],\n [Timestamp('2020-08-11 00:00:00', freq='D'),\n  '대파(일반)',\n  '1340',\n  '1272',\n  '1181',\n  '키로단',\n  '29']]"
     },
     "metadata": {},
     "output_type": "display_data"
    },
    {
     "data": {
      "text/plain": "[[Timestamp('2020-08-12 00:00:00', freq='D')],\n [Timestamp('2020-08-12 00:00:00', freq='D'),\n  '대파(일반)',\n  '3824',\n  '3889',\n  '2075',\n  '키로단',\n  '29'],\n [Timestamp('2020-08-12 00:00:00', freq='D'),\n  '대파(일반)',\n  '3243',\n  '3159',\n  '1697',\n  '키로단',\n  '29'],\n [Timestamp('2020-08-12 00:00:00', freq='D'),\n  '대파(일반)',\n  '2546',\n  '2344',\n  '1504',\n  '키로단',\n  '29'],\n [Timestamp('2020-08-12 00:00:00', freq='D'),\n  '대파(일반)',\n  '1627',\n  '1340',\n  '1262',\n  '키로단',\n  '29']]"
     },
     "metadata": {},
     "output_type": "display_data"
    },
    {
     "data": {
      "text/plain": "[[Timestamp('2020-08-13 00:00:00', freq='D')],\n [Timestamp('2020-08-13 00:00:00', freq='D'),\n  '대파(일반)',\n  '3717',\n  '3824',\n  '2037',\n  '키로단',\n  '29'],\n [Timestamp('2020-08-13 00:00:00', freq='D'),\n  '대파(일반)',\n  '3200',\n  '3243',\n  '1719',\n  '키로단',\n  '29'],\n [Timestamp('2020-08-13 00:00:00', freq='D'),\n  '대파(일반)',\n  '2690',\n  '2546',\n  '1497',\n  '키로단',\n  '29'],\n [Timestamp('2020-08-13 00:00:00', freq='D'),\n  '대파(일반)',\n  '1667',\n  '1627',\n  '1211',\n  '키로단',\n  '29']]"
     },
     "metadata": {},
     "output_type": "display_data"
    },
    {
     "data": {
      "text/plain": "[[Timestamp('2020-08-14 00:00:00', freq='D')],\n [Timestamp('2020-08-14 00:00:00', freq='D'),\n  '대파(일반)',\n  '3726',\n  '3717',\n  '1911',\n  '키로단',\n  '29'],\n [Timestamp('2020-08-14 00:00:00', freq='D'),\n  '대파(일반)',\n  '3080',\n  '3200',\n  '1565',\n  '키로단',\n  '29'],\n [Timestamp('2020-08-14 00:00:00', freq='D'),\n  '대파(일반)',\n  '2125',\n  '2690',\n  '1347',\n  '키로단',\n  '29'],\n [Timestamp('2020-08-14 00:00:00', freq='D'),\n  '대파(일반)',\n  '1350',\n  '1667',\n  '1057',\n  '키로단',\n  '29']]"
     },
     "metadata": {},
     "output_type": "display_data"
    },
    {
     "data": {
      "text/plain": "[[Timestamp('2020-08-15 00:00:00', freq='D')],\n [Timestamp('2020-08-15 00:00:00', freq='D'),\n  '대파(일반)',\n  '3316',\n  '3726',\n  '1987',\n  '키로단',\n  '29'],\n [Timestamp('2020-08-15 00:00:00', freq='D'),\n  '대파(일반)',\n  '2717',\n  '3080',\n  '1489',\n  '키로단',\n  '29'],\n [Timestamp('2020-08-15 00:00:00', freq='D'),\n  '대파(일반)',\n  '1706',\n  '2125',\n  '1378',\n  '키로단',\n  '29'],\n [Timestamp('2020-08-15 00:00:00', freq='D'),\n  '대파(일반)',\n  '1300',\n  '1350',\n  '1107',\n  '키로단',\n  '29']]"
     },
     "metadata": {},
     "output_type": "display_data"
    },
    {
     "data": {
      "text/plain": "[[Timestamp('2020-08-16 00:00:00', freq='D')],\n [Timestamp('2020-08-16 00:00:00', freq='D'),\n  '대파(일반)',\n  '0',\n  '3316',\n  '2170',\n  '키로단',\n  '29'],\n [Timestamp('2020-08-16 00:00:00', freq='D'),\n  '대파(일반)',\n  '0',\n  '2717',\n  '1754',\n  '키로단',\n  '29'],\n [Timestamp('2020-08-16 00:00:00', freq='D'),\n  '대파(일반)',\n  '0',\n  '1706',\n  '1397',\n  '키로단',\n  '29'],\n [Timestamp('2020-08-16 00:00:00', freq='D'),\n  '대파(일반)',\n  '0',\n  '1300',\n  '1190',\n  '키로단',\n  '29']]"
     },
     "metadata": {},
     "output_type": "display_data"
    },
    {
     "data": {
      "text/plain": "[[Timestamp('2020-08-17 00:00:00', freq='D')],\n [Timestamp('2020-08-17 00:00:00', freq='D'),\n  '대파(일반)',\n  '3592',\n  '0',\n  '0',\n  '키로단',\n  '29'],\n [Timestamp('2020-08-17 00:00:00', freq='D'),\n  '대파(일반)',\n  '2446',\n  '0',\n  '0',\n  '키로단',\n  '29'],\n [Timestamp('2020-08-17 00:00:00', freq='D'),\n  '대파(일반)',\n  '1902',\n  '0',\n  '0',\n  '키로단',\n  '29'],\n [Timestamp('2020-08-17 00:00:00', freq='D'),\n  '대파(일반)',\n  '1561',\n  '0',\n  '0',\n  '키로단',\n  '29']]"
     },
     "metadata": {},
     "output_type": "display_data"
    },
    {
     "data": {
      "text/plain": "[[Timestamp('2020-08-18 00:00:00', freq='D')],\n [Timestamp('2020-08-18 00:00:00', freq='D'),\n  '대파(일반)',\n  '3951',\n  '3592',\n  '2191',\n  '키로단',\n  '29'],\n [Timestamp('2020-08-18 00:00:00', freq='D'),\n  '대파(일반)',\n  '2690',\n  '2446',\n  '1755',\n  '키로단',\n  '29'],\n [Timestamp('2020-08-18 00:00:00', freq='D'),\n  '대파(일반)',\n  '2019',\n  '1902',\n  '1436',\n  '키로단',\n  '29'],\n [Timestamp('2020-08-18 00:00:00', freq='D'),\n  '대파(일반)',\n  '1572',\n  '1561',\n  '1249',\n  '키로단',\n  '29']]"
     },
     "metadata": {},
     "output_type": "display_data"
    },
    {
     "data": {
      "text/plain": "[[Timestamp('2020-08-19 00:00:00', freq='D')],\n [Timestamp('2020-08-19 00:00:00', freq='D'),\n  '대파(일반)',\n  '3566',\n  '3951',\n  '2221',\n  '키로단',\n  '29'],\n [Timestamp('2020-08-19 00:00:00', freq='D'),\n  '대파(일반)',\n  '3161',\n  '2690',\n  '2089',\n  '키로단',\n  '29'],\n [Timestamp('2020-08-19 00:00:00', freq='D'),\n  '대파(일반)',\n  '2268',\n  '2019',\n  '1605',\n  '키로단',\n  '29'],\n [Timestamp('2020-08-19 00:00:00', freq='D'),\n  '대파(일반)',\n  '1510',\n  '1572',\n  '1266',\n  '키로단',\n  '29']]"
     },
     "metadata": {},
     "output_type": "display_data"
    },
    {
     "data": {
      "text/plain": "[[Timestamp('2020-08-20 00:00:00', freq='D')],\n [Timestamp('2020-08-20 00:00:00', freq='D'),\n  '대파(일반)',\n  '3302',\n  '3566',\n  '2215',\n  '키로단',\n  '29'],\n [Timestamp('2020-08-20 00:00:00', freq='D'),\n  '대파(일반)',\n  '3134',\n  '3161',\n  '2200',\n  '키로단',\n  '29'],\n [Timestamp('2020-08-20 00:00:00', freq='D'),\n  '대파(일반)',\n  '2089',\n  '2268',\n  '1765',\n  '키로단',\n  '29'],\n [Timestamp('2020-08-20 00:00:00', freq='D'),\n  '대파(일반)',\n  '1215',\n  '1510',\n  '1167',\n  '키로단',\n  '29']]"
     },
     "metadata": {},
     "output_type": "display_data"
    },
    {
     "data": {
      "text/plain": "[[Timestamp('2020-08-21 00:00:00', freq='D')],\n [Timestamp('2020-08-21 00:00:00', freq='D'),\n  '대파(일반)',\n  '2979',\n  '3302',\n  '2211',\n  '키로단',\n  '29'],\n [Timestamp('2020-08-21 00:00:00', freq='D'),\n  '대파(일반)',\n  '2141',\n  '3134',\n  '2121',\n  '키로단',\n  '29'],\n [Timestamp('2020-08-21 00:00:00', freq='D'),\n  '대파(일반)',\n  '1913',\n  '2089',\n  '1428',\n  '키로단',\n  '29'],\n [Timestamp('2020-08-21 00:00:00', freq='D'),\n  '대파(일반)',\n  '1241',\n  '1215',\n  '1035',\n  '키로단',\n  '29']]"
     },
     "metadata": {},
     "output_type": "display_data"
    },
    {
     "data": {
      "text/plain": "[[Timestamp('2020-08-22 00:00:00', freq='D')],\n [Timestamp('2020-08-22 00:00:00', freq='D'),\n  '대파(일반)',\n  '2658',\n  '2979',\n  '1904',\n  '키로단',\n  '29'],\n [Timestamp('2020-08-22 00:00:00', freq='D'),\n  '대파(일반)',\n  '2134',\n  '2141',\n  '1487',\n  '키로단',\n  '29'],\n [Timestamp('2020-08-22 00:00:00', freq='D'),\n  '대파(일반)',\n  '2050',\n  '1913',\n  '1292',\n  '키로단',\n  '29'],\n [Timestamp('2020-08-22 00:00:00', freq='D'),\n  '대파(일반)',\n  '1519',\n  '1241',\n  '906',\n  '키로단',\n  '29']]"
     },
     "metadata": {},
     "output_type": "display_data"
    },
    {
     "data": {
      "text/plain": "[[Timestamp('2020-08-23 00:00:00', freq='D')],\n [Timestamp('2020-08-23 00:00:00', freq='D'),\n  '대파(일반)',\n  '0',\n  '2658',\n  '1963',\n  '키로단',\n  '29'],\n [Timestamp('2020-08-23 00:00:00', freq='D'),\n  '대파(일반)',\n  '0',\n  '2134',\n  '1421',\n  '키로단',\n  '29'],\n [Timestamp('2020-08-23 00:00:00', freq='D'),\n  '대파(일반)',\n  '0',\n  '2050',\n  '1142',\n  '키로단',\n  '29'],\n [Timestamp('2020-08-23 00:00:00', freq='D'),\n  '대파(일반)',\n  '0',\n  '1519',\n  '796',\n  '키로단',\n  '29']]"
     },
     "metadata": {},
     "output_type": "display_data"
    },
    {
     "data": {
      "text/plain": "[[Timestamp('2020-08-24 00:00:00', freq='D')],\n [Timestamp('2020-08-24 00:00:00', freq='D'),\n  '대파(일반)',\n  '2793',\n  '0',\n  '0',\n  '키로단',\n  '29'],\n [Timestamp('2020-08-24 00:00:00', freq='D'),\n  '대파(일반)',\n  '2309',\n  '0',\n  '0',\n  '키로단',\n  '29'],\n [Timestamp('2020-08-24 00:00:00', freq='D'),\n  '대파(일반)',\n  '1670',\n  '0',\n  '0',\n  '키로단',\n  '29'],\n [Timestamp('2020-08-24 00:00:00', freq='D'),\n  '대파(일반)',\n  '1483',\n  '0',\n  '0',\n  '키로단',\n  '29']]"
     },
     "metadata": {},
     "output_type": "display_data"
    },
    {
     "data": {
      "text/plain": "[[Timestamp('2020-08-25 00:00:00', freq='D')],\n [Timestamp('2020-08-25 00:00:00', freq='D'),\n  '대파(일반)',\n  '2865',\n  '2793',\n  '2045',\n  '키로단',\n  '29'],\n [Timestamp('2020-08-25 00:00:00', freq='D'),\n  '대파(일반)',\n  '2384',\n  '2309',\n  '1439',\n  '키로단',\n  '29'],\n [Timestamp('2020-08-25 00:00:00', freq='D'),\n  '대파(일반)',\n  '1907',\n  '1670',\n  '1174',\n  '키로단',\n  '29'],\n [Timestamp('2020-08-25 00:00:00', freq='D'),\n  '대파(일반)',\n  '1485',\n  '1483',\n  '1006',\n  '키로단',\n  '29']]"
     },
     "metadata": {},
     "output_type": "display_data"
    },
    {
     "data": {
      "text/plain": "[[Timestamp('2020-08-26 00:00:00', freq='D')],\n [Timestamp('2020-08-26 00:00:00', freq='D'),\n  '대파(일반)',\n  '3012',\n  '2865',\n  '1950',\n  '키로단',\n  '29'],\n [Timestamp('2020-08-26 00:00:00', freq='D'),\n  '대파(일반)',\n  '2309',\n  '2384',\n  '1652',\n  '키로단',\n  '29'],\n [Timestamp('2020-08-26 00:00:00', freq='D'),\n  '대파(일반)',\n  '1890',\n  '1907',\n  '1382',\n  '키로단',\n  '29'],\n [Timestamp('2020-08-26 00:00:00', freq='D'),\n  '대파(일반)',\n  '1569',\n  '1485',\n  '1067',\n  '키로단',\n  '29']]"
     },
     "metadata": {},
     "output_type": "display_data"
    },
    {
     "data": {
      "text/plain": "[[Timestamp('2020-08-27 00:00:00', freq='D')],\n [Timestamp('2020-08-27 00:00:00', freq='D'),\n  '대파(일반)',\n  '2979',\n  '3012',\n  '1843',\n  '키로단',\n  '29'],\n [Timestamp('2020-08-27 00:00:00', freq='D'),\n  '대파(일반)',\n  '2202',\n  '2309',\n  '1650',\n  '키로단',\n  '29'],\n [Timestamp('2020-08-27 00:00:00', freq='D'),\n  '대파(일반)',\n  '1849',\n  '1890',\n  '1433',\n  '키로단',\n  '29'],\n [Timestamp('2020-08-27 00:00:00', freq='D'),\n  '대파(일반)',\n  '1551',\n  '1569',\n  '1116',\n  '키로단',\n  '29']]"
     },
     "metadata": {},
     "output_type": "display_data"
    },
    {
     "data": {
      "text/plain": "[[Timestamp('2020-08-28 00:00:00', freq='D')],\n [Timestamp('2020-08-28 00:00:00', freq='D'),\n  '대파(일반)',\n  '3132',\n  '2979',\n  '1759',\n  '키로단',\n  '29'],\n [Timestamp('2020-08-28 00:00:00', freq='D'),\n  '대파(일반)',\n  '2435',\n  '2202',\n  '1650',\n  '키로단',\n  '29'],\n [Timestamp('2020-08-28 00:00:00', freq='D'),\n  '대파(일반)',\n  '2024',\n  '1849',\n  '1307',\n  '키로단',\n  '29'],\n [Timestamp('2020-08-28 00:00:00', freq='D'),\n  '대파(일반)',\n  '1465',\n  '1551',\n  '1047',\n  '키로단',\n  '29']]"
     },
     "metadata": {},
     "output_type": "display_data"
    },
    {
     "data": {
      "text/plain": "[[Timestamp('2020-08-29 00:00:00', freq='D')],\n [Timestamp('2020-08-29 00:00:00', freq='D'),\n  '대파(일반)',\n  '3159',\n  '3132',\n  '1896',\n  '키로단',\n  '29'],\n [Timestamp('2020-08-29 00:00:00', freq='D'),\n  '대파(일반)',\n  '2503',\n  '2435',\n  '1551',\n  '키로단',\n  '29'],\n [Timestamp('2020-08-29 00:00:00', freq='D'),\n  '대파(일반)',\n  '2130',\n  '2024',\n  '1192',\n  '키로단',\n  '29'],\n [Timestamp('2020-08-29 00:00:00', freq='D'),\n  '대파(일반)',\n  '1667',\n  '1465',\n  '935',\n  '키로단',\n  '29']]"
     },
     "metadata": {},
     "output_type": "display_data"
    },
    {
     "data": {
      "text/plain": "[[Timestamp('2020-08-30 00:00:00', freq='D')],\n [Timestamp('2020-08-30 00:00:00', freq='D'),\n  '대파(일반)',\n  '0',\n  '3159',\n  '1935',\n  '키로단',\n  '29'],\n [Timestamp('2020-08-30 00:00:00', freq='D'),\n  '대파(일반)',\n  '0',\n  '2503',\n  '1476',\n  '키로단',\n  '29'],\n [Timestamp('2020-08-30 00:00:00', freq='D'),\n  '대파(일반)',\n  '0',\n  '2130',\n  '1187',\n  '키로단',\n  '29'],\n [Timestamp('2020-08-30 00:00:00', freq='D'),\n  '대파(일반)',\n  '0',\n  '1667',\n  '910',\n  '키로단',\n  '29']]"
     },
     "metadata": {},
     "output_type": "display_data"
    },
    {
     "data": {
      "text/plain": "[[Timestamp('2020-08-31 00:00:00', freq='D')],\n [Timestamp('2020-08-31 00:00:00', freq='D'),\n  '대파(일반)',\n  '3513',\n  '0',\n  '0',\n  '키로단',\n  '29'],\n [Timestamp('2020-08-31 00:00:00', freq='D'),\n  '대파(일반)',\n  '2243',\n  '0',\n  '0',\n  '키로단',\n  '29'],\n [Timestamp('2020-08-31 00:00:00', freq='D'),\n  '대파(일반)',\n  '1650',\n  '0',\n  '0',\n  '키로단',\n  '29'],\n [Timestamp('2020-08-31 00:00:00', freq='D'),\n  '대파(일반)',\n  '1322',\n  '0',\n  '0',\n  '키로단',\n  '29']]"
     },
     "metadata": {},
     "output_type": "display_data"
    },
    {
     "data": {
      "text/plain": "[[Timestamp('2020-09-01 00:00:00', freq='D')],\n [Timestamp('2020-09-01 00:00:00', freq='D'),\n  '대파(일반)',\n  '2866',\n  '3513',\n  '2172',\n  '키로단',\n  '29'],\n [Timestamp('2020-09-01 00:00:00', freq='D'),\n  '대파(일반)',\n  '2204',\n  '2243',\n  '1778',\n  '키로단',\n  '29'],\n [Timestamp('2020-09-01 00:00:00', freq='D'),\n  '대파(일반)',\n  '1893',\n  '1650',\n  '1407',\n  '키로단',\n  '29'],\n [Timestamp('2020-09-01 00:00:00', freq='D'),\n  '대파(일반)',\n  '1417',\n  '1322',\n  '1000',\n  '키로단',\n  '29']]"
     },
     "metadata": {},
     "output_type": "display_data"
    },
    {
     "data": {
      "text/plain": "[[Timestamp('2020-09-02 00:00:00', freq='D')],\n [Timestamp('2020-09-02 00:00:00', freq='D'),\n  '대파(일반)',\n  '2474',\n  '2866',\n  '2100',\n  '키로단',\n  '29'],\n [Timestamp('2020-09-02 00:00:00', freq='D'),\n  '대파(일반)',\n  '2168',\n  '2204',\n  '1699',\n  '키로단',\n  '29'],\n [Timestamp('2020-09-02 00:00:00', freq='D'),\n  '대파(일반)',\n  '1763',\n  '1893',\n  '1475',\n  '키로단',\n  '29'],\n [Timestamp('2020-09-02 00:00:00', freq='D'),\n  '대파(일반)',\n  '1434',\n  '1417',\n  '1111',\n  '키로단',\n  '29']]"
     },
     "metadata": {},
     "output_type": "display_data"
    },
    {
     "data": {
      "text/plain": "[[Timestamp('2020-09-03 00:00:00', freq='D')],\n [Timestamp('2020-09-03 00:00:00', freq='D'),\n  '대파(일반)',\n  '2536',\n  '2474',\n  '2019',\n  '키로단',\n  '29'],\n [Timestamp('2020-09-03 00:00:00', freq='D'),\n  '대파(일반)',\n  '2137',\n  '2168',\n  '1660',\n  '키로단',\n  '29'],\n [Timestamp('2020-09-03 00:00:00', freq='D'),\n  '대파(일반)',\n  '1766',\n  '1763',\n  '1406',\n  '키로단',\n  '29'],\n [Timestamp('2020-09-03 00:00:00', freq='D'),\n  '대파(일반)',\n  '1468',\n  '1434',\n  '1096',\n  '키로단',\n  '29']]"
     },
     "metadata": {},
     "output_type": "display_data"
    },
    {
     "data": {
      "text/plain": "[[Timestamp('2020-09-04 00:00:00', freq='D')],\n [Timestamp('2020-09-04 00:00:00', freq='D'),\n  '대파(일반)',\n  '3175',\n  '2536',\n  '1984',\n  '키로단',\n  '29'],\n [Timestamp('2020-09-04 00:00:00', freq='D'),\n  '대파(일반)',\n  '2216',\n  '2137',\n  '1564',\n  '키로단',\n  '29'],\n [Timestamp('2020-09-04 00:00:00', freq='D'),\n  '대파(일반)',\n  '2029',\n  '1766',\n  '1416',\n  '키로단',\n  '29'],\n [Timestamp('2020-09-04 00:00:00', freq='D'),\n  '대파(일반)',\n  '1515',\n  '1468',\n  '1090',\n  '키로단',\n  '29']]"
     },
     "metadata": {},
     "output_type": "display_data"
    },
    {
     "data": {
      "text/plain": "[[Timestamp('2020-09-05 00:00:00', freq='D')],\n [Timestamp('2020-09-05 00:00:00', freq='D'),\n  '대파(일반)',\n  '4796',\n  '3175',\n  '2049',\n  '키로단',\n  '29'],\n [Timestamp('2020-09-05 00:00:00', freq='D'),\n  '대파(일반)',\n  '2739',\n  '2216',\n  '1628',\n  '키로단',\n  '29'],\n [Timestamp('2020-09-05 00:00:00', freq='D'),\n  '대파(일반)',\n  '1923',\n  '2029',\n  '1389',\n  '키로단',\n  '29'],\n [Timestamp('2020-09-05 00:00:00', freq='D'),\n  '대파(일반)',\n  '1415',\n  '1515',\n  '941',\n  '키로단',\n  '29']]"
     },
     "metadata": {},
     "output_type": "display_data"
    },
    {
     "data": {
      "text/plain": "[[Timestamp('2020-09-06 00:00:00', freq='D')],\n [Timestamp('2020-09-06 00:00:00', freq='D'),\n  '대파(일반)',\n  '0',\n  '4796',\n  '2033',\n  '키로단',\n  '29'],\n [Timestamp('2020-09-06 00:00:00', freq='D'),\n  '대파(일반)',\n  '0',\n  '2739',\n  '1556',\n  '키로단',\n  '29'],\n [Timestamp('2020-09-06 00:00:00', freq='D'),\n  '대파(일반)',\n  '0',\n  '1923',\n  '1017',\n  '키로단',\n  '29'],\n [Timestamp('2020-09-06 00:00:00', freq='D'),\n  '대파(일반)',\n  '0',\n  '1415',\n  '842',\n  '키로단',\n  '29']]"
     },
     "metadata": {},
     "output_type": "display_data"
    },
    {
     "data": {
      "text/plain": "[[Timestamp('2020-09-07 00:00:00', freq='D')],\n [Timestamp('2020-09-07 00:00:00', freq='D'),\n  '대파(일반)',\n  '4082',\n  '0',\n  '0',\n  '키로단',\n  '29'],\n [Timestamp('2020-09-07 00:00:00', freq='D'),\n  '대파(일반)',\n  '3299',\n  '0',\n  '0',\n  '키로단',\n  '29'],\n [Timestamp('2020-09-07 00:00:00', freq='D'),\n  '대파(일반)',\n  '2700',\n  '0',\n  '0',\n  '키로단',\n  '29'],\n [Timestamp('2020-09-07 00:00:00', freq='D'),\n  '대파(일반)',\n  '1872',\n  '0',\n  '0',\n  '키로단',\n  '29']]"
     },
     "metadata": {},
     "output_type": "display_data"
    },
    {
     "data": {
      "text/plain": "[[Timestamp('2020-09-08 00:00:00', freq='D')],\n [Timestamp('2020-09-08 00:00:00', freq='D'),\n  '대파(일반)',\n  '4046',\n  '4082',\n  '2339',\n  '키로단',\n  '29'],\n [Timestamp('2020-09-08 00:00:00', freq='D'),\n  '대파(일반)',\n  '3170',\n  '3299',\n  '1382',\n  '키로단',\n  '29'],\n [Timestamp('2020-09-08 00:00:00', freq='D'),\n  '대파(일반)',\n  '2370',\n  '2700',\n  '815',\n  '키로단',\n  '29'],\n [Timestamp('2020-09-08 00:00:00', freq='D'),\n  '대파(일반)',\n  '1735',\n  '1872',\n  '639',\n  '키로단',\n  '29']]"
     },
     "metadata": {},
     "output_type": "display_data"
    },
    {
     "data": {
      "text/plain": "[[Timestamp('2020-09-09 00:00:00', freq='D')],\n [Timestamp('2020-09-09 00:00:00', freq='D'),\n  '대파(일반)',\n  '3659',\n  '4046',\n  '2375',\n  '키로단',\n  '29'],\n [Timestamp('2020-09-09 00:00:00', freq='D'),\n  '대파(일반)',\n  '2829',\n  '3170',\n  '1689',\n  '키로단',\n  '29'],\n [Timestamp('2020-09-09 00:00:00', freq='D'),\n  '대파(일반)',\n  '1919',\n  '2370',\n  '1359',\n  '키로단',\n  '29'],\n [Timestamp('2020-09-09 00:00:00', freq='D'),\n  '대파(일반)',\n  '1617',\n  '1735',\n  '737',\n  '키로단',\n  '29']]"
     },
     "metadata": {},
     "output_type": "display_data"
    },
    {
     "data": {
      "text/plain": "[[Timestamp('2020-09-10 00:00:00', freq='D')],\n [Timestamp('2020-09-10 00:00:00', freq='D'),\n  '대파(일반)',\n  '3486',\n  '3659',\n  '2454',\n  '키로단',\n  '29'],\n [Timestamp('2020-09-10 00:00:00', freq='D'),\n  '대파(일반)',\n  '2921',\n  '2829',\n  '2056',\n  '키로단',\n  '29'],\n [Timestamp('2020-09-10 00:00:00', freq='D'),\n  '대파(일반)',\n  '2074',\n  '1919',\n  '1570',\n  '키로단',\n  '29'],\n [Timestamp('2020-09-10 00:00:00', freq='D'),\n  '대파(일반)',\n  '1637',\n  '1617',\n  '1304',\n  '키로단',\n  '29']]"
     },
     "metadata": {},
     "output_type": "display_data"
    },
    {
     "data": {
      "text/plain": "[[Timestamp('2020-09-11 00:00:00', freq='D')],\n [Timestamp('2020-09-11 00:00:00', freq='D'),\n  '대파(일반)',\n  '3009',\n  '3486',\n  '2684',\n  '키로단',\n  '29'],\n [Timestamp('2020-09-11 00:00:00', freq='D'),\n  '대파(일반)',\n  '2652',\n  '2921',\n  '2228',\n  '키로단',\n  '29'],\n [Timestamp('2020-09-11 00:00:00', freq='D'),\n  '대파(일반)',\n  '2116',\n  '2074',\n  '1747',\n  '키로단',\n  '29'],\n [Timestamp('2020-09-11 00:00:00', freq='D'),\n  '대파(일반)',\n  '1557',\n  '1637',\n  '1182',\n  '키로단',\n  '29']]"
     },
     "metadata": {},
     "output_type": "display_data"
    },
    {
     "data": {
      "text/plain": "[[Timestamp('2020-09-12 00:00:00', freq='D')],\n [Timestamp('2020-09-12 00:00:00', freq='D'),\n  '대파(일반)',\n  '2882',\n  '3009',\n  '0',\n  '키로단',\n  '29'],\n [Timestamp('2020-09-12 00:00:00', freq='D'),\n  '대파(일반)',\n  '2269',\n  '2652',\n  '0',\n  '키로단',\n  '29'],\n [Timestamp('2020-09-12 00:00:00', freq='D'),\n  '대파(일반)',\n  '2004',\n  '2116',\n  '0',\n  '키로단',\n  '29'],\n [Timestamp('2020-09-12 00:00:00', freq='D'),\n  '대파(일반)',\n  '1564',\n  '1557',\n  '0',\n  '키로단',\n  '29']]"
     },
     "metadata": {},
     "output_type": "display_data"
    },
    {
     "data": {
      "text/plain": "[[Timestamp('2020-09-13 00:00:00', freq='D')],\n [Timestamp('2020-09-13 00:00:00', freq='D'),\n  '대파(일반)',\n  '0',\n  '2882',\n  '2684',\n  '키로단',\n  '29'],\n [Timestamp('2020-09-13 00:00:00', freq='D'),\n  '대파(일반)',\n  '0',\n  '2269',\n  '2228',\n  '키로단',\n  '29'],\n [Timestamp('2020-09-13 00:00:00', freq='D'),\n  '대파(일반)',\n  '0',\n  '2004',\n  '1747',\n  '키로단',\n  '29'],\n [Timestamp('2020-09-13 00:00:00', freq='D'),\n  '대파(일반)',\n  '0',\n  '1564',\n  '1182',\n  '키로단',\n  '29']]"
     },
     "metadata": {},
     "output_type": "display_data"
    },
    {
     "data": {
      "text/plain": "[[Timestamp('2020-09-14 00:00:00', freq='D')],\n [Timestamp('2020-09-14 00:00:00', freq='D'),\n  '대파(일반)',\n  '3115',\n  '0',\n  '0',\n  '키로단',\n  '29'],\n [Timestamp('2020-09-14 00:00:00', freq='D'),\n  '대파(일반)',\n  '2627',\n  '0',\n  '0',\n  '키로단',\n  '29'],\n [Timestamp('2020-09-14 00:00:00', freq='D'),\n  '대파(일반)',\n  '2150',\n  '0',\n  '0',\n  '키로단',\n  '29'],\n [Timestamp('2020-09-14 00:00:00', freq='D'),\n  '대파(일반)',\n  '1921',\n  '0',\n  '0',\n  '키로단',\n  '29']]"
     },
     "metadata": {},
     "output_type": "display_data"
    },
    {
     "data": {
      "text/plain": "[[Timestamp('2020-09-15 00:00:00', freq='D')],\n [Timestamp('2020-09-15 00:00:00', freq='D'),\n  '대파(일반)',\n  '3500',\n  '3115',\n  '2372',\n  '키로단',\n  '29'],\n [Timestamp('2020-09-15 00:00:00', freq='D'),\n  '대파(일반)',\n  '3078',\n  '2627',\n  '1792',\n  '키로단',\n  '29'],\n [Timestamp('2020-09-15 00:00:00', freq='D'),\n  '대파(일반)',\n  '2316',\n  '2150',\n  '1237',\n  '키로단',\n  '29'],\n [Timestamp('2020-09-15 00:00:00', freq='D'),\n  '대파(일반)',\n  '1855',\n  '1921',\n  '953',\n  '키로단',\n  '29']]"
     },
     "metadata": {},
     "output_type": "display_data"
    },
    {
     "data": {
      "text/plain": "[[Timestamp('2020-09-16 00:00:00', freq='D')],\n [Timestamp('2020-09-16 00:00:00', freq='D'),\n  '대파(일반)',\n  '3465',\n  '3500',\n  '2270',\n  '키로단',\n  '29'],\n [Timestamp('2020-09-16 00:00:00', freq='D'),\n  '대파(일반)',\n  '2926',\n  '3078',\n  '2158',\n  '키로단',\n  '29'],\n [Timestamp('2020-09-16 00:00:00', freq='D'),\n  '대파(일반)',\n  '2130',\n  '2316',\n  '1426',\n  '키로단',\n  '29'],\n [Timestamp('2020-09-16 00:00:00', freq='D'),\n  '대파(일반)',\n  '1468',\n  '1855',\n  '983',\n  '키로단',\n  '29']]"
     },
     "metadata": {},
     "output_type": "display_data"
    },
    {
     "data": {
      "text/plain": "[[Timestamp('2020-09-17 00:00:00', freq='D')],\n [Timestamp('2020-09-17 00:00:00', freq='D'),\n  '대파(일반)',\n  '2767',\n  '3465',\n  '2336',\n  '키로단',\n  '29'],\n [Timestamp('2020-09-17 00:00:00', freq='D'),\n  '대파(일반)',\n  '2439',\n  '2926',\n  '2084',\n  '키로단',\n  '29'],\n [Timestamp('2020-09-17 00:00:00', freq='D'),\n  '대파(일반)',\n  '1673',\n  '2130',\n  '1481',\n  '키로단',\n  '29'],\n [Timestamp('2020-09-17 00:00:00', freq='D'),\n  '대파(일반)',\n  '1466',\n  '1468',\n  '1008',\n  '키로단',\n  '29']]"
     },
     "metadata": {},
     "output_type": "display_data"
    },
    {
     "data": {
      "text/plain": "[[Timestamp('2020-09-18 00:00:00', freq='D')],\n [Timestamp('2020-09-18 00:00:00', freq='D'),\n  '대파(일반)',\n  '2720',\n  '2767',\n  '2128',\n  '키로단',\n  '29'],\n [Timestamp('2020-09-18 00:00:00', freq='D'),\n  '대파(일반)',\n  '2361',\n  '2439',\n  '1782',\n  '키로단',\n  '29'],\n [Timestamp('2020-09-18 00:00:00', freq='D'),\n  '대파(일반)',\n  '1686',\n  '1673',\n  '1301',\n  '키로단',\n  '29'],\n [Timestamp('2020-09-18 00:00:00', freq='D'),\n  '대파(일반)',\n  '1381',\n  '1466',\n  '976',\n  '키로단',\n  '29']]"
     },
     "metadata": {},
     "output_type": "display_data"
    },
    {
     "data": {
      "text/plain": "[[Timestamp('2020-09-19 00:00:00', freq='D')],\n [Timestamp('2020-09-19 00:00:00', freq='D'),\n  '대파(일반)',\n  '2708',\n  '2720',\n  '2219',\n  '키로단',\n  '29'],\n [Timestamp('2020-09-19 00:00:00', freq='D'),\n  '대파(일반)',\n  '2547',\n  '2361',\n  '1845',\n  '키로단',\n  '29'],\n [Timestamp('2020-09-19 00:00:00', freq='D'),\n  '대파(일반)',\n  '1855',\n  '1686',\n  '1255',\n  '키로단',\n  '29'],\n [Timestamp('2020-09-19 00:00:00', freq='D'),\n  '대파(일반)',\n  '1365',\n  '1381',\n  '886',\n  '키로단',\n  '29']]"
     },
     "metadata": {},
     "output_type": "display_data"
    },
    {
     "data": {
      "text/plain": "[[Timestamp('2020-09-20 00:00:00', freq='D')],\n [Timestamp('2020-09-20 00:00:00', freq='D'),\n  '대파(일반)',\n  '0',\n  '2708',\n  '2217',\n  '키로단',\n  '29'],\n [Timestamp('2020-09-20 00:00:00', freq='D'),\n  '대파(일반)',\n  '0',\n  '2547',\n  '1749',\n  '키로단',\n  '29'],\n [Timestamp('2020-09-20 00:00:00', freq='D'),\n  '대파(일반)',\n  '0',\n  '1855',\n  '1267',\n  '키로단',\n  '29'],\n [Timestamp('2020-09-20 00:00:00', freq='D'),\n  '대파(일반)',\n  '0',\n  '1365',\n  '905',\n  '키로단',\n  '29']]"
     },
     "metadata": {},
     "output_type": "display_data"
    },
    {
     "data": {
      "text/plain": "[[Timestamp('2020-09-21 00:00:00', freq='D')],\n [Timestamp('2020-09-21 00:00:00', freq='D'),\n  '대파(일반)',\n  '2595',\n  '0',\n  '0',\n  '키로단',\n  '29'],\n [Timestamp('2020-09-21 00:00:00', freq='D'),\n  '대파(일반)',\n  '2144',\n  '0',\n  '0',\n  '키로단',\n  '29'],\n [Timestamp('2020-09-21 00:00:00', freq='D'),\n  '대파(일반)',\n  '1800',\n  '0',\n  '0',\n  '키로단',\n  '29'],\n [Timestamp('2020-09-21 00:00:00', freq='D'),\n  '대파(일반)',\n  '1540',\n  '0',\n  '0',\n  '키로단',\n  '29']]"
     },
     "metadata": {},
     "output_type": "display_data"
    },
    {
     "data": {
      "text/plain": "[[Timestamp('2020-09-22 00:00:00', freq='D')],\n [Timestamp('2020-09-22 00:00:00', freq='D'),\n  '대파(일반)',\n  '2656',\n  '2595',\n  '2977',\n  '키로단',\n  '29'],\n [Timestamp('2020-09-22 00:00:00', freq='D'),\n  '대파(일반)',\n  '2384',\n  '2144',\n  '1857',\n  '키로단',\n  '29'],\n [Timestamp('2020-09-22 00:00:00', freq='D'),\n  '대파(일반)',\n  '1910',\n  '1800',\n  '1428',\n  '키로단',\n  '29'],\n [Timestamp('2020-09-22 00:00:00', freq='D'),\n  '대파(일반)',\n  '1677',\n  '1540',\n  '904',\n  '키로단',\n  '29']]"
     },
     "metadata": {},
     "output_type": "display_data"
    },
    {
     "data": {
      "text/plain": "[[Timestamp('2020-09-23 00:00:00', freq='D')],\n [Timestamp('2020-09-23 00:00:00', freq='D'),\n  '대파(일반)',\n  '2713',\n  '2656',\n  '2698',\n  '키로단',\n  '29'],\n [Timestamp('2020-09-23 00:00:00', freq='D'),\n  '대파(일반)',\n  '2652',\n  '2384',\n  '2102',\n  '키로단',\n  '29'],\n [Timestamp('2020-09-23 00:00:00', freq='D'),\n  '대파(일반)',\n  '2003',\n  '1910',\n  '1544',\n  '키로단',\n  '29'],\n [Timestamp('2020-09-23 00:00:00', freq='D'),\n  '대파(일반)',\n  '1755',\n  '1677',\n  '1124',\n  '키로단',\n  '29']]"
     },
     "metadata": {},
     "output_type": "display_data"
    },
    {
     "data": {
      "text/plain": "[[Timestamp('2020-09-24 00:00:00', freq='D')],\n [Timestamp('2020-09-24 00:00:00', freq='D'),\n  '대파(일반)',\n  '2807',\n  '2713',\n  '2353',\n  '키로단',\n  '29'],\n [Timestamp('2020-09-24 00:00:00', freq='D'),\n  '대파(일반)',\n  '2700',\n  '2652',\n  '2159',\n  '키로단',\n  '29'],\n [Timestamp('2020-09-24 00:00:00', freq='D'),\n  '대파(일반)',\n  '2435',\n  '2003',\n  '1428',\n  '키로단',\n  '29'],\n [Timestamp('2020-09-24 00:00:00', freq='D'),\n  '대파(일반)',\n  '1855',\n  '1755',\n  '1040',\n  '키로단',\n  '29']]"
     },
     "metadata": {},
     "output_type": "display_data"
    },
    {
     "data": {
      "text/plain": "[[Timestamp('2020-09-25 00:00:00', freq='D')],\n [Timestamp('2020-09-25 00:00:00', freq='D'),\n  '대파(일반)',\n  '3120',\n  '2807',\n  '2200',\n  '키로단',\n  '29'],\n [Timestamp('2020-09-25 00:00:00', freq='D'),\n  '대파(일반)',\n  '2716',\n  '2700',\n  '1931',\n  '키로단',\n  '29'],\n [Timestamp('2020-09-25 00:00:00', freq='D'),\n  '대파(일반)',\n  '2463',\n  '2435',\n  '1174',\n  '키로단',\n  '29'],\n [Timestamp('2020-09-25 00:00:00', freq='D'),\n  '대파(일반)',\n  '2001',\n  '1855',\n  '939',\n  '키로단',\n  '29']]"
     },
     "metadata": {},
     "output_type": "display_data"
    },
    {
     "data": {
      "text/plain": "[[Timestamp('2020-09-26 00:00:00', freq='D')],\n [Timestamp('2020-09-26 00:00:00', freq='D'),\n  '대파(일반)',\n  '3178',\n  '3120',\n  '2200',\n  '키로단',\n  '29'],\n [Timestamp('2020-09-26 00:00:00', freq='D'),\n  '대파(일반)',\n  '2761',\n  '2716',\n  '1870',\n  '키로단',\n  '29'],\n [Timestamp('2020-09-26 00:00:00', freq='D'),\n  '대파(일반)',\n  '2328',\n  '2463',\n  '1181',\n  '키로단',\n  '29'],\n [Timestamp('2020-09-26 00:00:00', freq='D'),\n  '대파(일반)',\n  '1960',\n  '2001',\n  '944',\n  '키로단',\n  '29']]"
     },
     "metadata": {},
     "output_type": "display_data"
    },
    {
     "data": {
      "text/plain": "[[Timestamp('2020-09-27 00:00:00', freq='D')],\n [Timestamp('2020-09-27 00:00:00', freq='D'),\n  '대파(일반)',\n  '0',\n  '3178',\n  '2200',\n  '키로단',\n  '29'],\n [Timestamp('2020-09-27 00:00:00', freq='D'),\n  '대파(일반)',\n  '0',\n  '2761',\n  '1978',\n  '키로단',\n  '29'],\n [Timestamp('2020-09-27 00:00:00', freq='D'),\n  '대파(일반)',\n  '0',\n  '2328',\n  '1150',\n  '키로단',\n  '29'],\n [Timestamp('2020-09-27 00:00:00', freq='D'),\n  '대파(일반)',\n  '0',\n  '1960',\n  '970',\n  '키로단',\n  '29']]"
     },
     "metadata": {},
     "output_type": "display_data"
    },
    {
     "data": {
      "text/plain": "[[Timestamp('2020-09-28 00:00:00', freq='D')],\n [Timestamp('2020-09-28 00:00:00', freq='D'),\n  '대파(일반)',\n  '3220',\n  '0',\n  '2200',\n  '키로단',\n  '29'],\n [Timestamp('2020-09-28 00:00:00', freq='D'),\n  '대파(일반)',\n  '2619',\n  '0',\n  '1762',\n  '키로단',\n  '29'],\n [Timestamp('2020-09-28 00:00:00', freq='D'),\n  '대파(일반)',\n  '2331',\n  '0',\n  '1041',\n  '키로단',\n  '29'],\n [Timestamp('2020-09-28 00:00:00', freq='D'),\n  '대파(일반)',\n  '1672',\n  '0',\n  '964',\n  '키로단',\n  '29']]"
     },
     "metadata": {},
     "output_type": "display_data"
    },
    {
     "data": {
      "text/plain": "[[Timestamp('2020-09-29 00:00:00', freq='D')],\n [Timestamp('2020-09-29 00:00:00', freq='D'),\n  '대파(일반)',\n  '3492',\n  '3220',\n  '2291',\n  '키로단',\n  '29'],\n [Timestamp('2020-09-29 00:00:00', freq='D'),\n  '대파(일반)',\n  '2747',\n  '2619',\n  '1668',\n  '키로단',\n  '29'],\n [Timestamp('2020-09-29 00:00:00', freq='D'),\n  '대파(일반)',\n  '2276',\n  '2331',\n  '1233',\n  '키로단',\n  '29'],\n [Timestamp('2020-09-29 00:00:00', freq='D'),\n  '대파(일반)',\n  '1861',\n  '1672',\n  '881',\n  '키로단',\n  '29']]"
     },
     "metadata": {},
     "output_type": "display_data"
    },
    {
     "data": {
      "text/plain": "[[Timestamp('2020-09-30 00:00:00', freq='D')],\n [Timestamp('2020-09-30 00:00:00', freq='D'),\n  '대파(일반)',\n  '3524',\n  '3492',\n  '2264',\n  '키로단',\n  '29'],\n [Timestamp('2020-09-30 00:00:00', freq='D'),\n  '대파(일반)',\n  '2864',\n  '2747',\n  '1742',\n  '키로단',\n  '29'],\n [Timestamp('2020-09-30 00:00:00', freq='D'),\n  '대파(일반)',\n  '2359',\n  '2276',\n  '1222',\n  '키로단',\n  '29'],\n [Timestamp('2020-09-30 00:00:00', freq='D'),\n  '대파(일반)',\n  '1934',\n  '1861',\n  '932',\n  '키로단',\n  '29']]"
     },
     "metadata": {},
     "output_type": "display_data"
    },
    {
     "data": {
      "text/plain": "[[Timestamp('2020-10-01 00:00:00', freq='D')],\n [Timestamp('2020-10-01 00:00:00', freq='D'),\n  '대파(일반)',\n  '0',\n  '3524',\n  '2188',\n  '키로단',\n  '29'],\n [Timestamp('2020-10-01 00:00:00', freq='D'),\n  '대파(일반)',\n  '0',\n  '2864',\n  '1736',\n  '키로단',\n  '29'],\n [Timestamp('2020-10-01 00:00:00', freq='D'),\n  '대파(일반)',\n  '0',\n  '2359',\n  '1305',\n  '키로단',\n  '29'],\n [Timestamp('2020-10-01 00:00:00', freq='D'),\n  '대파(일반)',\n  '0',\n  '1934',\n  '1038',\n  '키로단',\n  '29']]"
     },
     "metadata": {},
     "output_type": "display_data"
    },
    {
     "data": {
      "text/plain": "[[Timestamp('2020-10-02 00:00:00', freq='D')],\n [Timestamp('2020-10-02 00:00:00', freq='D'),\n  '대파(일반)',\n  '0',\n  '0',\n  '1971',\n  '키로단',\n  '29'],\n [Timestamp('2020-10-02 00:00:00', freq='D'),\n  '대파(일반)',\n  '0',\n  '0',\n  '1590',\n  '키로단',\n  '29'],\n [Timestamp('2020-10-02 00:00:00', freq='D'),\n  '대파(일반)',\n  '0',\n  '0',\n  '1279',\n  '키로단',\n  '29'],\n [Timestamp('2020-10-02 00:00:00', freq='D'),\n  '대파(일반)',\n  '0',\n  '0',\n  '1109',\n  '키로단',\n  '29']]"
     },
     "metadata": {},
     "output_type": "display_data"
    },
    {
     "data": {
      "text/plain": "[[Timestamp('2020-10-03 00:00:00', freq='D')],\n [Timestamp('2020-10-03 00:00:00', freq='D'),\n  '대파(일반)',\n  '0',\n  '0',\n  '2170',\n  '키로단',\n  '29'],\n [Timestamp('2020-10-03 00:00:00', freq='D'),\n  '대파(일반)',\n  '0',\n  '0',\n  '1647',\n  '키로단',\n  '29'],\n [Timestamp('2020-10-03 00:00:00', freq='D'),\n  '대파(일반)',\n  '0',\n  '0',\n  '1267',\n  '키로단',\n  '29'],\n [Timestamp('2020-10-03 00:00:00', freq='D'),\n  '대파(일반)',\n  '0',\n  '0',\n  '1048',\n  '키로단',\n  '29']]"
     },
     "metadata": {},
     "output_type": "display_data"
    },
    {
     "data": {
      "text/plain": "[[Timestamp('2020-10-04 00:00:00', freq='D')],\n [Timestamp('2020-10-04 00:00:00', freq='D'),\n  '대파(일반)',\n  '0',\n  '0',\n  '2251',\n  '키로단',\n  '29'],\n [Timestamp('2020-10-04 00:00:00', freq='D'),\n  '대파(일반)',\n  '0',\n  '0',\n  '1771',\n  '키로단',\n  '29'],\n [Timestamp('2020-10-04 00:00:00', freq='D'),\n  '대파(일반)',\n  '0',\n  '0',\n  '1487',\n  '키로단',\n  '29'],\n [Timestamp('2020-10-04 00:00:00', freq='D'),\n  '대파(일반)',\n  '0',\n  '0',\n  '835',\n  '키로단',\n  '29']]"
     },
     "metadata": {},
     "output_type": "display_data"
    },
    {
     "data": {
      "text/plain": "[[Timestamp('2020-10-05 00:00:00', freq='D')],\n [Timestamp('2020-10-05 00:00:00', freq='D'),\n  '대파(일반)',\n  '3417',\n  '0',\n  '0',\n  '키로단',\n  '29'],\n [Timestamp('2020-10-05 00:00:00', freq='D'),\n  '대파(일반)',\n  '2617',\n  '0',\n  '0',\n  '키로단',\n  '29'],\n [Timestamp('2020-10-05 00:00:00', freq='D'),\n  '대파(일반)',\n  '2456',\n  '0',\n  '0',\n  '키로단',\n  '29'],\n [Timestamp('2020-10-05 00:00:00', freq='D'),\n  '대파(일반)',\n  '1935',\n  '0',\n  '0',\n  '키로단',\n  '29']]"
     },
     "metadata": {},
     "output_type": "display_data"
    },
    {
     "data": {
      "text/plain": "[[Timestamp('2020-10-06 00:00:00', freq='D')],\n [Timestamp('2020-10-06 00:00:00', freq='D'),\n  '대파(일반)',\n  '3282',\n  '3417',\n  '2154',\n  '키로단',\n  '29'],\n [Timestamp('2020-10-06 00:00:00', freq='D'),\n  '대파(일반)',\n  '2854',\n  '2617',\n  '1772',\n  '키로단',\n  '29'],\n [Timestamp('2020-10-06 00:00:00', freq='D'),\n  '대파(일반)',\n  '2440',\n  '2456',\n  '1412',\n  '키로단',\n  '29'],\n [Timestamp('2020-10-06 00:00:00', freq='D'),\n  '대파(일반)',\n  '1966',\n  '1935',\n  '1092',\n  '키로단',\n  '29']]"
     },
     "metadata": {},
     "output_type": "display_data"
    },
    {
     "data": {
      "text/plain": "[[Timestamp('2020-10-07 00:00:00', freq='D')],\n [Timestamp('2020-10-07 00:00:00', freq='D'),\n  '대파(일반)',\n  '3206',\n  '3282',\n  '2158',\n  '키로단',\n  '29'],\n [Timestamp('2020-10-07 00:00:00', freq='D'),\n  '대파(일반)',\n  '2781',\n  '2854',\n  '1704',\n  '키로단',\n  '29'],\n [Timestamp('2020-10-07 00:00:00', freq='D'),\n  '대파(일반)',\n  '2363',\n  '2440',\n  '1320',\n  '키로단',\n  '29'],\n [Timestamp('2020-10-07 00:00:00', freq='D'),\n  '대파(일반)',\n  '1501',\n  '1966',\n  '1127',\n  '키로단',\n  '29']]"
     },
     "metadata": {},
     "output_type": "display_data"
    },
    {
     "data": {
      "text/plain": "[[Timestamp('2020-10-08 00:00:00', freq='D')],\n [Timestamp('2020-10-08 00:00:00', freq='D'),\n  '대파(일반)',\n  '3310',\n  '3206',\n  '2138',\n  '키로단',\n  '29'],\n [Timestamp('2020-10-08 00:00:00', freq='D'),\n  '대파(일반)',\n  '2897',\n  '2781',\n  '1626',\n  '키로단',\n  '29'],\n [Timestamp('2020-10-08 00:00:00', freq='D'),\n  '대파(일반)',\n  '2235',\n  '2363',\n  '1272',\n  '키로단',\n  '29'],\n [Timestamp('2020-10-08 00:00:00', freq='D'),\n  '대파(일반)',\n  '1525',\n  '1501',\n  '1151',\n  '키로단',\n  '29']]"
     },
     "metadata": {},
     "output_type": "display_data"
    },
    {
     "data": {
      "text/plain": "[[Timestamp('2020-10-09 00:00:00', freq='D')],\n [Timestamp('2020-10-09 00:00:00', freq='D'),\n  '대파(일반)',\n  '3346',\n  '3310',\n  '2133',\n  '키로단',\n  '29'],\n [Timestamp('2020-10-09 00:00:00', freq='D'),\n  '대파(일반)',\n  '3196',\n  '2897',\n  '1612',\n  '키로단',\n  '29'],\n [Timestamp('2020-10-09 00:00:00', freq='D'),\n  '대파(일반)',\n  '2276',\n  '2235',\n  '1237',\n  '키로단',\n  '29'],\n [Timestamp('2020-10-09 00:00:00', freq='D'),\n  '대파(일반)',\n  '1859',\n  '1525',\n  '1189',\n  '키로단',\n  '29']]"
     },
     "metadata": {},
     "output_type": "display_data"
    },
    {
     "data": {
      "text/plain": "[[Timestamp('2020-10-10 00:00:00', freq='D')],\n [Timestamp('2020-10-10 00:00:00', freq='D'),\n  '대파(일반)',\n  '3299',\n  '3346',\n  '2200',\n  '키로단',\n  '29'],\n [Timestamp('2020-10-10 00:00:00', freq='D'),\n  '대파(일반)',\n  '3164',\n  '3196',\n  '2200',\n  '키로단',\n  '29'],\n [Timestamp('2020-10-10 00:00:00', freq='D'),\n  '대파(일반)',\n  '2101',\n  '2276',\n  '1595',\n  '키로단',\n  '29'],\n [Timestamp('2020-10-10 00:00:00', freq='D'),\n  '대파(일반)',\n  '1804',\n  '1859',\n  '1159',\n  '키로단',\n  '29']]"
     },
     "metadata": {},
     "output_type": "display_data"
    },
    {
     "data": {
      "text/plain": "[[Timestamp('2020-10-11 00:00:00', freq='D')],\n [Timestamp('2020-10-11 00:00:00', freq='D'),\n  '대파(일반)',\n  '0',\n  '3299',\n  '2200',\n  '키로단',\n  '29'],\n [Timestamp('2020-10-11 00:00:00', freq='D'),\n  '대파(일반)',\n  '0',\n  '3164',\n  '2200',\n  '키로단',\n  '29'],\n [Timestamp('2020-10-11 00:00:00', freq='D'),\n  '대파(일반)',\n  '0',\n  '2101',\n  '1877',\n  '키로단',\n  '29'],\n [Timestamp('2020-10-11 00:00:00', freq='D'),\n  '대파(일반)',\n  '0',\n  '1804',\n  '1146',\n  '키로단',\n  '29']]"
     },
     "metadata": {},
     "output_type": "display_data"
    },
    {
     "data": {
      "text/plain": "[[Timestamp('2020-10-12 00:00:00', freq='D')],\n [Timestamp('2020-10-12 00:00:00', freq='D'),\n  '대파(일반)',\n  '3203',\n  '0',\n  '0',\n  '키로단',\n  '29'],\n [Timestamp('2020-10-12 00:00:00', freq='D'),\n  '대파(일반)',\n  '2467',\n  '0',\n  '0',\n  '키로단',\n  '29'],\n [Timestamp('2020-10-12 00:00:00', freq='D'),\n  '대파(일반)',\n  '1834',\n  '0',\n  '0',\n  '키로단',\n  '29'],\n [Timestamp('2020-10-12 00:00:00', freq='D'),\n  '대파(일반)',\n  '1419',\n  '0',\n  '0',\n  '키로단',\n  '29']]"
     },
     "metadata": {},
     "output_type": "display_data"
    },
    {
     "data": {
      "text/plain": "[[Timestamp('2020-10-13 00:00:00', freq='D')],\n [Timestamp('2020-10-13 00:00:00', freq='D'),\n  '대파(일반)',\n  '3092',\n  '3203',\n  '2060',\n  '키로단',\n  '29'],\n [Timestamp('2020-10-13 00:00:00', freq='D'),\n  '대파(일반)',\n  '2597',\n  '2467',\n  '1660',\n  '키로단',\n  '29'],\n [Timestamp('2020-10-13 00:00:00', freq='D'),\n  '대파(일반)',\n  '1911',\n  '1834',\n  '1211',\n  '키로단',\n  '29'],\n [Timestamp('2020-10-13 00:00:00', freq='D'),\n  '대파(일반)',\n  '1461',\n  '1419',\n  '1010',\n  '키로단',\n  '29']]"
     },
     "metadata": {},
     "output_type": "display_data"
    },
    {
     "data": {
      "text/plain": "[[Timestamp('2020-10-14 00:00:00', freq='D')],\n [Timestamp('2020-10-14 00:00:00', freq='D'),\n  '대파(일반)',\n  '2958',\n  '3092',\n  '2200',\n  '키로단',\n  '29'],\n [Timestamp('2020-10-14 00:00:00', freq='D'),\n  '대파(일반)',\n  '2529',\n  '2597',\n  '1957',\n  '키로단',\n  '29'],\n [Timestamp('2020-10-14 00:00:00', freq='D'),\n  '대파(일반)',\n  '2022',\n  '1911',\n  '1396',\n  '키로단',\n  '29'],\n [Timestamp('2020-10-14 00:00:00', freq='D'),\n  '대파(일반)',\n  '1543',\n  '1461',\n  '1125',\n  '키로단',\n  '29']]"
     },
     "metadata": {},
     "output_type": "display_data"
    },
    {
     "data": {
      "text/plain": "[[Timestamp('2020-10-15 00:00:00', freq='D')],\n [Timestamp('2020-10-15 00:00:00', freq='D'),\n  '대파(일반)',\n  '2836',\n  '2958',\n  '2200',\n  '키로단',\n  '29'],\n [Timestamp('2020-10-15 00:00:00', freq='D'),\n  '대파(일반)',\n  '2509',\n  '2529',\n  '2034',\n  '키로단',\n  '29'],\n [Timestamp('2020-10-15 00:00:00', freq='D'),\n  '대파(일반)',\n  '1896',\n  '2022',\n  '1361',\n  '키로단',\n  '29'],\n [Timestamp('2020-10-15 00:00:00', freq='D'),\n  '대파(일반)',\n  '1545',\n  '1543',\n  '1075',\n  '키로단',\n  '29']]"
     },
     "metadata": {},
     "output_type": "display_data"
    },
    {
     "data": {
      "text/plain": "[[Timestamp('2020-10-16 00:00:00', freq='D')],\n [Timestamp('2020-10-16 00:00:00', freq='D'),\n  '대파(일반)',\n  '3059',\n  '2836',\n  '2200',\n  '키로단',\n  '29'],\n [Timestamp('2020-10-16 00:00:00', freq='D'),\n  '대파(일반)',\n  '2312',\n  '2509',\n  '1716',\n  '키로단',\n  '29'],\n [Timestamp('2020-10-16 00:00:00', freq='D'),\n  '대파(일반)',\n  '1784',\n  '1896',\n  '1210',\n  '키로단',\n  '29'],\n [Timestamp('2020-10-16 00:00:00', freq='D'),\n  '대파(일반)',\n  '1591',\n  '1545',\n  '971',\n  '키로단',\n  '29']]"
     },
     "metadata": {},
     "output_type": "display_data"
    },
    {
     "data": {
      "text/plain": "[[Timestamp('2020-10-17 00:00:00', freq='D')],\n [Timestamp('2020-10-17 00:00:00', freq='D'),\n  '대파(일반)',\n  '3275',\n  '3059',\n  '1935',\n  '키로단',\n  '29'],\n [Timestamp('2020-10-17 00:00:00', freq='D'),\n  '대파(일반)',\n  '2393',\n  '2312',\n  '1488',\n  '키로단',\n  '29'],\n [Timestamp('2020-10-17 00:00:00', freq='D'),\n  '대파(일반)',\n  '1774',\n  '1784',\n  '1221',\n  '키로단',\n  '29'],\n [Timestamp('2020-10-17 00:00:00', freq='D'),\n  '대파(일반)',\n  '1624',\n  '1591',\n  '904',\n  '키로단',\n  '29']]"
     },
     "metadata": {},
     "output_type": "display_data"
    },
    {
     "data": {
      "text/plain": "[[Timestamp('2020-10-18 00:00:00', freq='D')],\n [Timestamp('2020-10-18 00:00:00', freq='D'),\n  '대파(일반)',\n  '0',\n  '3275',\n  '2016',\n  '키로단',\n  '29'],\n [Timestamp('2020-10-18 00:00:00', freq='D'),\n  '대파(일반)',\n  '0',\n  '2393',\n  '1491',\n  '키로단',\n  '29'],\n [Timestamp('2020-10-18 00:00:00', freq='D'),\n  '대파(일반)',\n  '0',\n  '1774',\n  '1238',\n  '키로단',\n  '29'],\n [Timestamp('2020-10-18 00:00:00', freq='D'),\n  '대파(일반)',\n  '0',\n  '1624',\n  '868',\n  '키로단',\n  '29']]"
     },
     "metadata": {},
     "output_type": "display_data"
    },
    {
     "data": {
      "text/plain": "[[Timestamp('2020-10-19 00:00:00', freq='D')],\n [Timestamp('2020-10-19 00:00:00', freq='D'),\n  '대파(일반)',\n  '3443',\n  '0',\n  '0',\n  '키로단',\n  '29'],\n [Timestamp('2020-10-19 00:00:00', freq='D'),\n  '대파(일반)',\n  '2662',\n  '0',\n  '0',\n  '키로단',\n  '29'],\n [Timestamp('2020-10-19 00:00:00', freq='D'),\n  '대파(일반)',\n  '2101',\n  '0',\n  '0',\n  '키로단',\n  '29'],\n [Timestamp('2020-10-19 00:00:00', freq='D'),\n  '대파(일반)',\n  '1662',\n  '0',\n  '0',\n  '키로단',\n  '29']]"
     },
     "metadata": {},
     "output_type": "display_data"
    },
    {
     "data": {
      "text/plain": "[[Timestamp('2020-10-20 00:00:00', freq='D')],\n [Timestamp('2020-10-20 00:00:00', freq='D'),\n  '대파(일반)',\n  '3261',\n  '3443',\n  '2119',\n  '키로단',\n  '29'],\n [Timestamp('2020-10-20 00:00:00', freq='D'),\n  '대파(일반)',\n  '2480',\n  '2662',\n  '1510',\n  '키로단',\n  '29'],\n [Timestamp('2020-10-20 00:00:00', freq='D'),\n  '대파(일반)',\n  '1828',\n  '2101',\n  '956',\n  '키로단',\n  '29'],\n [Timestamp('2020-10-20 00:00:00', freq='D'),\n  '대파(일반)',\n  '1558',\n  '1662',\n  '625',\n  '키로단',\n  '29']]"
     },
     "metadata": {},
     "output_type": "display_data"
    },
    {
     "data": {
      "text/plain": "[[Timestamp('2020-10-21 00:00:00', freq='D')],\n [Timestamp('2020-10-21 00:00:00', freq='D'),\n  '대파(일반)',\n  '3106',\n  '3261',\n  '2092',\n  '키로단',\n  '29'],\n [Timestamp('2020-10-21 00:00:00', freq='D'),\n  '대파(일반)',\n  '2406',\n  '2480',\n  '1550',\n  '키로단',\n  '29'],\n [Timestamp('2020-10-21 00:00:00', freq='D'),\n  '대파(일반)',\n  '1813',\n  '1828',\n  '1237',\n  '키로단',\n  '29'],\n [Timestamp('2020-10-21 00:00:00', freq='D'),\n  '대파(일반)',\n  '1516',\n  '1558',\n  '825',\n  '키로단',\n  '29']]"
     },
     "metadata": {},
     "output_type": "display_data"
    },
    {
     "data": {
      "text/plain": "[[Timestamp('2020-10-22 00:00:00', freq='D')],\n [Timestamp('2020-10-22 00:00:00', freq='D'),\n  '대파(일반)',\n  '3254',\n  '3106',\n  '2007',\n  '키로단',\n  '29'],\n [Timestamp('2020-10-22 00:00:00', freq='D'),\n  '대파(일반)',\n  '2828',\n  '2406',\n  '1626',\n  '키로단',\n  '29'],\n [Timestamp('2020-10-22 00:00:00', freq='D'),\n  '대파(일반)',\n  '1960',\n  '1813',\n  '1320',\n  '키로단',\n  '29'],\n [Timestamp('2020-10-22 00:00:00', freq='D'),\n  '대파(일반)',\n  '1517',\n  '1516',\n  '959',\n  '키로단',\n  '29']]"
     },
     "metadata": {},
     "output_type": "display_data"
    },
    {
     "data": {
      "text/plain": "[[Timestamp('2020-10-23 00:00:00', freq='D')],\n [Timestamp('2020-10-23 00:00:00', freq='D'),\n  '대파(일반)',\n  '3359',\n  '3254',\n  '1927',\n  '키로단',\n  '29'],\n [Timestamp('2020-10-23 00:00:00', freq='D'),\n  '대파(일반)',\n  '2940',\n  '2828',\n  '1700',\n  '키로단',\n  '29'],\n [Timestamp('2020-10-23 00:00:00', freq='D'),\n  '대파(일반)',\n  '2081',\n  '1960',\n  '1329',\n  '키로단',\n  '29'],\n [Timestamp('2020-10-23 00:00:00', freq='D'),\n  '대파(일반)',\n  '1587',\n  '1517',\n  '856',\n  '키로단',\n  '29']]"
     },
     "metadata": {},
     "output_type": "display_data"
    },
    {
     "data": {
      "text/plain": "[[Timestamp('2020-10-24 00:00:00', freq='D')],\n [Timestamp('2020-10-24 00:00:00', freq='D'),\n  '대파(일반)',\n  '3341',\n  '3359',\n  '1905',\n  '키로단',\n  '29'],\n [Timestamp('2020-10-24 00:00:00', freq='D'),\n  '대파(일반)',\n  '2598',\n  '2940',\n  '1642',\n  '키로단',\n  '29'],\n [Timestamp('2020-10-24 00:00:00', freq='D'),\n  '대파(일반)',\n  '2052',\n  '2081',\n  '1319',\n  '키로단',\n  '29'],\n [Timestamp('2020-10-24 00:00:00', freq='D'),\n  '대파(일반)',\n  '1607',\n  '1587',\n  '737',\n  '키로단',\n  '29']]"
     },
     "metadata": {},
     "output_type": "display_data"
    },
    {
     "data": {
      "text/plain": "[[Timestamp('2020-10-25 00:00:00', freq='D')],\n [Timestamp('2020-10-25 00:00:00', freq='D'),\n  '대파(일반)',\n  '0',\n  '3341',\n  '1872',\n  '키로단',\n  '29'],\n [Timestamp('2020-10-25 00:00:00', freq='D'),\n  '대파(일반)',\n  '0',\n  '2598',\n  '1419',\n  '키로단',\n  '29'],\n [Timestamp('2020-10-25 00:00:00', freq='D'),\n  '대파(일반)',\n  '0',\n  '2052',\n  '1189',\n  '키로단',\n  '29'],\n [Timestamp('2020-10-25 00:00:00', freq='D'),\n  '대파(일반)',\n  '0',\n  '1607',\n  '717',\n  '키로단',\n  '29']]"
     },
     "metadata": {},
     "output_type": "display_data"
    },
    {
     "data": {
      "text/plain": "[[Timestamp('2020-10-26 00:00:00', freq='D')],\n [Timestamp('2020-10-26 00:00:00', freq='D'),\n  '대파(일반)',\n  '3656',\n  '0',\n  '0',\n  '키로단',\n  '29'],\n [Timestamp('2020-10-26 00:00:00', freq='D'),\n  '대파(일반)',\n  '2453',\n  '0',\n  '0',\n  '키로단',\n  '29'],\n [Timestamp('2020-10-26 00:00:00', freq='D'),\n  '대파(일반)',\n  '1957',\n  '0',\n  '0',\n  '키로단',\n  '29'],\n [Timestamp('2020-10-26 00:00:00', freq='D'),\n  '대파(일반)',\n  '1494',\n  '0',\n  '0',\n  '키로단',\n  '29']]"
     },
     "metadata": {},
     "output_type": "display_data"
    },
    {
     "data": {
      "text/plain": "[[Timestamp('2020-10-27 00:00:00', freq='D')],\n [Timestamp('2020-10-27 00:00:00', freq='D'),\n  '대파(일반)',\n  '4170',\n  '3656',\n  '2196',\n  '키로단',\n  '29'],\n [Timestamp('2020-10-27 00:00:00', freq='D'),\n  '대파(일반)',\n  '2401',\n  '2453',\n  '1500',\n  '키로단',\n  '29'],\n [Timestamp('2020-10-27 00:00:00', freq='D'),\n  '대파(일반)',\n  '1939',\n  '1957',\n  '989',\n  '키로단',\n  '29'],\n [Timestamp('2020-10-27 00:00:00', freq='D'),\n  '대파(일반)',\n  '1525',\n  '1494',\n  '726',\n  '키로단',\n  '29']]"
     },
     "metadata": {},
     "output_type": "display_data"
    },
    {
     "data": {
      "text/plain": "[[Timestamp('2020-10-28 00:00:00', freq='D')],\n [Timestamp('2020-10-28 00:00:00', freq='D'),\n  '대파(일반)',\n  '3940',\n  '4170',\n  '2202',\n  '키로단',\n  '29'],\n [Timestamp('2020-10-28 00:00:00', freq='D'),\n  '대파(일반)',\n  '2512',\n  '2401',\n  '1794',\n  '키로단',\n  '29'],\n [Timestamp('2020-10-28 00:00:00', freq='D'),\n  '대파(일반)',\n  '1930',\n  '1939',\n  '1357',\n  '키로단',\n  '29'],\n [Timestamp('2020-10-28 00:00:00', freq='D'),\n  '대파(일반)',\n  '1612',\n  '1525',\n  '785',\n  '키로단',\n  '29']]"
     },
     "metadata": {},
     "output_type": "display_data"
    },
    {
     "data": {
      "text/plain": "[[Timestamp('2020-10-29 00:00:00', freq='D')],\n [Timestamp('2020-10-29 00:00:00', freq='D'),\n  '대파(일반)',\n  '6298',\n  '3940',\n  '2169',\n  '키로단',\n  '29'],\n [Timestamp('2020-10-29 00:00:00', freq='D'),\n  '대파(일반)',\n  '2700',\n  '2512',\n  '1747',\n  '키로단',\n  '29'],\n [Timestamp('2020-10-29 00:00:00', freq='D'),\n  '대파(일반)',\n  '1964',\n  '1930',\n  '1290',\n  '키로단',\n  '29'],\n [Timestamp('2020-10-29 00:00:00', freq='D'),\n  '대파(일반)',\n  '1662',\n  '1612',\n  '853',\n  '키로단',\n  '29']]"
     },
     "metadata": {},
     "output_type": "display_data"
    },
    {
     "data": {
      "text/plain": "[[Timestamp('2020-10-30 00:00:00', freq='D')],\n [Timestamp('2020-10-30 00:00:00', freq='D'),\n  '대파(일반)',\n  '3282',\n  '6298',\n  '2296',\n  '키로단',\n  '29'],\n [Timestamp('2020-10-30 00:00:00', freq='D'),\n  '대파(일반)',\n  '2480',\n  '2700',\n  '1600',\n  '키로단',\n  '29'],\n [Timestamp('2020-10-30 00:00:00', freq='D'),\n  '대파(일반)',\n  '1957',\n  '1964',\n  '1072',\n  '키로단',\n  '29'],\n [Timestamp('2020-10-30 00:00:00', freq='D'),\n  '대파(일반)',\n  '1652',\n  '1662',\n  '862',\n  '키로단',\n  '29']]"
     },
     "metadata": {},
     "output_type": "display_data"
    },
    {
     "data": {
      "text/plain": "[[Timestamp('2020-10-31 00:00:00', freq='D')],\n [Timestamp('2020-10-31 00:00:00', freq='D'),\n  '대파(일반)',\n  '3151',\n  '3282',\n  '2446',\n  '키로단',\n  '29'],\n [Timestamp('2020-10-31 00:00:00', freq='D'),\n  '대파(일반)',\n  '2249',\n  '2480',\n  '1587',\n  '키로단',\n  '29'],\n [Timestamp('2020-10-31 00:00:00', freq='D'),\n  '대파(일반)',\n  '1916',\n  '1957',\n  '1065',\n  '키로단',\n  '29'],\n [Timestamp('2020-10-31 00:00:00', freq='D'),\n  '대파(일반)',\n  '1626',\n  '1652',\n  '847',\n  '키로단',\n  '29']]"
     },
     "metadata": {},
     "output_type": "display_data"
    },
    {
     "data": {
      "text/plain": "[[Timestamp('2020-11-01 00:00:00', freq='D')],\n [Timestamp('2020-11-01 00:00:00', freq='D'),\n  '대파(일반)',\n  '0',\n  '3151',\n  '2240',\n  '키로단',\n  '29'],\n [Timestamp('2020-11-01 00:00:00', freq='D'),\n  '대파(일반)',\n  '0',\n  '2249',\n  '1443',\n  '키로단',\n  '29'],\n [Timestamp('2020-11-01 00:00:00', freq='D'),\n  '대파(일반)',\n  '0',\n  '1916',\n  '1223',\n  '키로단',\n  '29'],\n [Timestamp('2020-11-01 00:00:00', freq='D'),\n  '대파(일반)',\n  '0',\n  '1626',\n  '935',\n  '키로단',\n  '29']]"
     },
     "metadata": {},
     "output_type": "display_data"
    },
    {
     "data": {
      "text/plain": "[[Timestamp('2020-11-02 00:00:00', freq='D')],\n [Timestamp('2020-11-02 00:00:00', freq='D'),\n  '대파(일반)',\n  '3364',\n  '0',\n  '0',\n  '키로단',\n  '29'],\n [Timestamp('2020-11-02 00:00:00', freq='D'),\n  '대파(일반)',\n  '2874',\n  '0',\n  '0',\n  '키로단',\n  '29'],\n [Timestamp('2020-11-02 00:00:00', freq='D'),\n  '대파(일반)',\n  '1851',\n  '0',\n  '0',\n  '키로단',\n  '29'],\n [Timestamp('2020-11-02 00:00:00', freq='D'),\n  '대파(일반)',\n  '1487',\n  '0',\n  '0',\n  '키로단',\n  '29']]"
     },
     "metadata": {},
     "output_type": "display_data"
    },
    {
     "data": {
      "text/plain": "[[Timestamp('2020-11-03 00:00:00', freq='D')],\n [Timestamp('2020-11-03 00:00:00', freq='D'),\n  '대파(일반)',\n  '3325',\n  '3364',\n  '2238',\n  '키로단',\n  '29'],\n [Timestamp('2020-11-03 00:00:00', freq='D'),\n  '대파(일반)',\n  '2746',\n  '2874',\n  '1582',\n  '키로단',\n  '29'],\n [Timestamp('2020-11-03 00:00:00', freq='D'),\n  '대파(일반)',\n  '2070',\n  '1851',\n  '1030',\n  '키로단',\n  '29'],\n [Timestamp('2020-11-03 00:00:00', freq='D'),\n  '대파(일반)',\n  '1631',\n  '1487',\n  '849',\n  '키로단',\n  '29']]"
     },
     "metadata": {},
     "output_type": "display_data"
    },
    {
     "data": {
      "text/plain": "[[Timestamp('2020-11-04 00:00:00', freq='D')],\n [Timestamp('2020-11-04 00:00:00', freq='D'),\n  '대파(일반)',\n  '3308',\n  '3325',\n  '2168',\n  '키로단',\n  '29'],\n [Timestamp('2020-11-04 00:00:00', freq='D'),\n  '대파(일반)',\n  '2953',\n  '2746',\n  '1403',\n  '키로단',\n  '29'],\n [Timestamp('2020-11-04 00:00:00', freq='D'),\n  '대파(일반)',\n  '2308',\n  '2070',\n  '1194',\n  '키로단',\n  '29'],\n [Timestamp('2020-11-04 00:00:00', freq='D'),\n  '대파(일반)',\n  '1773',\n  '1631',\n  '893',\n  '키로단',\n  '29']]"
     },
     "metadata": {},
     "output_type": "display_data"
    },
    {
     "data": {
      "text/plain": "[[Timestamp('2020-11-05 00:00:00', freq='D')],\n [Timestamp('2020-11-05 00:00:00', freq='D'),\n  '대파(일반)',\n  '3453',\n  '3308',\n  '1956',\n  '키로단',\n  '29'],\n [Timestamp('2020-11-05 00:00:00', freq='D'),\n  '대파(일반)',\n  '3096',\n  '2953',\n  '1442',\n  '키로단',\n  '29'],\n [Timestamp('2020-11-05 00:00:00', freq='D'),\n  '대파(일반)',\n  '2384',\n  '2308',\n  '1279',\n  '키로단',\n  '29'],\n [Timestamp('2020-11-05 00:00:00', freq='D'),\n  '대파(일반)',\n  '1737',\n  '1773',\n  '895',\n  '키로단',\n  '29']]"
     },
     "metadata": {},
     "output_type": "display_data"
    },
    {
     "data": {
      "text/plain": "[[Timestamp('2020-11-06 00:00:00', freq='D')],\n [Timestamp('2020-11-06 00:00:00', freq='D'),\n  '대파(일반)',\n  '3410',\n  '3453',\n  '1748',\n  '키로단',\n  '29'],\n [Timestamp('2020-11-06 00:00:00', freq='D'),\n  '대파(일반)',\n  '2782',\n  '3096',\n  '1398',\n  '키로단',\n  '29'],\n [Timestamp('2020-11-06 00:00:00', freq='D'),\n  '대파(일반)',\n  '2287',\n  '2384',\n  '1139',\n  '키로단',\n  '29'],\n [Timestamp('2020-11-06 00:00:00', freq='D'),\n  '대파(일반)',\n  '1760',\n  '1737',\n  '854',\n  '키로단',\n  '29']]"
     },
     "metadata": {},
     "output_type": "display_data"
    },
    {
     "data": {
      "text/plain": "[[Timestamp('2020-11-07 00:00:00', freq='D')],\n [Timestamp('2020-11-07 00:00:00', freq='D'),\n  '대파(일반)',\n  '3174',\n  '3410',\n  '1604',\n  '키로단',\n  '29'],\n [Timestamp('2020-11-07 00:00:00', freq='D'),\n  '대파(일반)',\n  '2757',\n  '2782',\n  '1206',\n  '키로단',\n  '29'],\n [Timestamp('2020-11-07 00:00:00', freq='D'),\n  '대파(일반)',\n  '1936',\n  '2287',\n  '1095',\n  '키로단',\n  '29'],\n [Timestamp('2020-11-07 00:00:00', freq='D'),\n  '대파(일반)',\n  '1483',\n  '1760',\n  '827',\n  '키로단',\n  '29']]"
     },
     "metadata": {},
     "output_type": "display_data"
    },
    {
     "data": {
      "text/plain": "[[Timestamp('2020-11-08 00:00:00', freq='D')],\n [Timestamp('2020-11-08 00:00:00', freq='D'),\n  '대파(일반)',\n  '0',\n  '3174',\n  '1624',\n  '키로단',\n  '29'],\n [Timestamp('2020-11-08 00:00:00', freq='D'),\n  '대파(일반)',\n  '0',\n  '2757',\n  '1203',\n  '키로단',\n  '29'],\n [Timestamp('2020-11-08 00:00:00', freq='D'),\n  '대파(일반)',\n  '0',\n  '1936',\n  '1072',\n  '키로단',\n  '29'],\n [Timestamp('2020-11-08 00:00:00', freq='D'),\n  '대파(일반)',\n  '0',\n  '1483',\n  '804',\n  '키로단',\n  '29']]"
     },
     "metadata": {},
     "output_type": "display_data"
    },
    {
     "data": {
      "text/plain": "[[Timestamp('2020-11-09 00:00:00', freq='D')],\n [Timestamp('2020-11-09 00:00:00', freq='D'),\n  '대파(일반)',\n  '3425',\n  '0',\n  '0',\n  '키로단',\n  '29'],\n [Timestamp('2020-11-09 00:00:00', freq='D'),\n  '대파(일반)',\n  '2583',\n  '0',\n  '0',\n  '키로단',\n  '29'],\n [Timestamp('2020-11-09 00:00:00', freq='D'),\n  '대파(일반)',\n  '1994',\n  '0',\n  '0',\n  '키로단',\n  '29'],\n [Timestamp('2020-11-09 00:00:00', freq='D'),\n  '대파(일반)',\n  '1660',\n  '0',\n  '0',\n  '키로단',\n  '29']]"
     },
     "metadata": {},
     "output_type": "display_data"
    },
    {
     "data": {
      "text/plain": "[[Timestamp('2020-11-10 00:00:00', freq='D')],\n [Timestamp('2020-11-10 00:00:00', freq='D'),\n  '대파(일반)',\n  '3356',\n  '3425',\n  '2200',\n  '키로단',\n  '29'],\n [Timestamp('2020-11-10 00:00:00', freq='D'),\n  '대파(일반)',\n  '2786',\n  '2583',\n  '1529',\n  '키로단',\n  '29'],\n [Timestamp('2020-11-10 00:00:00', freq='D'),\n  '대파(일반)',\n  '2168',\n  '1994',\n  '895',\n  '키로단',\n  '29'],\n [Timestamp('2020-11-10 00:00:00', freq='D'),\n  '대파(일반)',\n  '1569',\n  '1660',\n  '728',\n  '키로단',\n  '29']]"
     },
     "metadata": {},
     "output_type": "display_data"
    },
    {
     "data": {
      "text/plain": "[[Timestamp('2020-11-11 00:00:00', freq='D')],\n [Timestamp('2020-11-11 00:00:00', freq='D'),\n  '대파(일반)',\n  '3256',\n  '3356',\n  '2051',\n  '키로단',\n  '29'],\n [Timestamp('2020-11-11 00:00:00', freq='D'),\n  '대파(일반)',\n  '2976',\n  '2786',\n  '1235',\n  '키로단',\n  '29'],\n [Timestamp('2020-11-11 00:00:00', freq='D'),\n  '대파(일반)',\n  '2061',\n  '2168',\n  '1011',\n  '키로단',\n  '29'],\n [Timestamp('2020-11-11 00:00:00', freq='D'),\n  '대파(일반)',\n  '1589',\n  '1569',\n  '740',\n  '키로단',\n  '29']]"
     },
     "metadata": {},
     "output_type": "display_data"
    },
    {
     "data": {
      "text/plain": "[[Timestamp('2020-11-12 00:00:00', freq='D')],\n [Timestamp('2020-11-12 00:00:00', freq='D'),\n  '대파(일반)',\n  '3202',\n  '3256',\n  '2061',\n  '키로단',\n  '29'],\n [Timestamp('2020-11-12 00:00:00', freq='D'),\n  '대파(일반)',\n  '3039',\n  '2976',\n  '1890',\n  '키로단',\n  '29'],\n [Timestamp('2020-11-12 00:00:00', freq='D'),\n  '대파(일반)',\n  '1955',\n  '2061',\n  '1192',\n  '키로단',\n  '29'],\n [Timestamp('2020-11-12 00:00:00', freq='D'),\n  '대파(일반)',\n  '1618',\n  '1589',\n  '864',\n  '키로단',\n  '29']]"
     },
     "metadata": {},
     "output_type": "display_data"
    },
    {
     "data": {
      "text/plain": "[[Timestamp('2020-11-13 00:00:00', freq='D')],\n [Timestamp('2020-11-13 00:00:00', freq='D'),\n  '대파(일반)',\n  '3224',\n  '3202',\n  '2045',\n  '키로단',\n  '29'],\n [Timestamp('2020-11-13 00:00:00', freq='D'),\n  '대파(일반)',\n  '2893',\n  '3039',\n  '1744',\n  '키로단',\n  '29'],\n [Timestamp('2020-11-13 00:00:00', freq='D'),\n  '대파(일반)',\n  '2010',\n  '1955',\n  '1158',\n  '키로단',\n  '29'],\n [Timestamp('2020-11-13 00:00:00', freq='D'),\n  '대파(일반)',\n  '1610',\n  '1618',\n  '956',\n  '키로단',\n  '29']]"
     },
     "metadata": {},
     "output_type": "display_data"
    },
    {
     "data": {
      "text/plain": "[[Timestamp('2020-11-14 00:00:00', freq='D')],\n [Timestamp('2020-11-14 00:00:00', freq='D'),\n  '대파(일반)',\n  '3249',\n  '3224',\n  '1959',\n  '키로단',\n  '29'],\n [Timestamp('2020-11-14 00:00:00', freq='D'),\n  '대파(일반)',\n  '2337',\n  '2893',\n  '1291',\n  '키로단',\n  '29'],\n [Timestamp('2020-11-14 00:00:00', freq='D'),\n  '대파(일반)',\n  '1983',\n  '2010',\n  '1135',\n  '키로단',\n  '29'],\n [Timestamp('2020-11-14 00:00:00', freq='D'),\n  '대파(일반)',\n  '1667',\n  '1610',\n  '879',\n  '키로단',\n  '29']]"
     },
     "metadata": {},
     "output_type": "display_data"
    },
    {
     "data": {
      "text/plain": "[[Timestamp('2020-11-15 00:00:00', freq='D')],\n [Timestamp('2020-11-15 00:00:00', freq='D'),\n  '대파(일반)',\n  '0',\n  '3249',\n  '2146',\n  '키로단',\n  '29'],\n [Timestamp('2020-11-15 00:00:00', freq='D'),\n  '대파(일반)',\n  '0',\n  '2337',\n  '1369',\n  '키로단',\n  '29'],\n [Timestamp('2020-11-15 00:00:00', freq='D'),\n  '대파(일반)',\n  '0',\n  '1983',\n  '1183',\n  '키로단',\n  '29'],\n [Timestamp('2020-11-15 00:00:00', freq='D'),\n  '대파(일반)',\n  '0',\n  '1667',\n  '819',\n  '키로단',\n  '29']]"
     },
     "metadata": {},
     "output_type": "display_data"
    },
    {
     "data": {
      "text/plain": "[[Timestamp('2020-11-16 00:00:00', freq='D')],\n [Timestamp('2020-11-16 00:00:00', freq='D'),\n  '대파(일반)',\n  '3756',\n  '0',\n  '0',\n  '키로단',\n  '29'],\n [Timestamp('2020-11-16 00:00:00', freq='D'),\n  '대파(일반)',\n  '2809',\n  '0',\n  '0',\n  '키로단',\n  '29'],\n [Timestamp('2020-11-16 00:00:00', freq='D'),\n  '대파(일반)',\n  '2445',\n  '0',\n  '0',\n  '키로단',\n  '29'],\n [Timestamp('2020-11-16 00:00:00', freq='D'),\n  '대파(일반)',\n  '1746',\n  '0',\n  '0',\n  '키로단',\n  '29']]"
     },
     "metadata": {},
     "output_type": "display_data"
    },
    {
     "data": {
      "text/plain": "[[Timestamp('2020-11-17 00:00:00', freq='D')],\n [Timestamp('2020-11-17 00:00:00', freq='D'),\n  '대파(일반)',\n  '3639',\n  '3756',\n  '2149',\n  '키로단',\n  '29'],\n [Timestamp('2020-11-17 00:00:00', freq='D'),\n  '대파(일반)',\n  '2899',\n  '2809',\n  '1551',\n  '키로단',\n  '29'],\n [Timestamp('2020-11-17 00:00:00', freq='D'),\n  '대파(일반)',\n  '2387',\n  '2445',\n  '1056',\n  '키로단',\n  '29'],\n [Timestamp('2020-11-17 00:00:00', freq='D'),\n  '대파(일반)',\n  '1864',\n  '1746',\n  '929',\n  '키로단',\n  '29']]"
     },
     "metadata": {},
     "output_type": "display_data"
    },
    {
     "data": {
      "text/plain": "[[Timestamp('2020-11-18 00:00:00', freq='D')],\n [Timestamp('2020-11-18 00:00:00', freq='D'),\n  '대파(일반)',\n  '3446',\n  '3639',\n  '2019',\n  '키로단',\n  '29'],\n [Timestamp('2020-11-18 00:00:00', freq='D'),\n  '대파(일반)',\n  '2844',\n  '2899',\n  '1728',\n  '키로단',\n  '29'],\n [Timestamp('2020-11-18 00:00:00', freq='D'),\n  '대파(일반)',\n  '2155',\n  '2387',\n  '1174',\n  '키로단',\n  '29'],\n [Timestamp('2020-11-18 00:00:00', freq='D'),\n  '대파(일반)',\n  '1925',\n  '1864',\n  '996',\n  '키로단',\n  '29']]"
     },
     "metadata": {},
     "output_type": "display_data"
    },
    {
     "data": {
      "text/plain": "[[Timestamp('2020-11-19 00:00:00', freq='D')],\n [Timestamp('2020-11-19 00:00:00', freq='D'),\n  '대파(일반)',\n  '3410',\n  '3446',\n  '1966',\n  '키로단',\n  '29'],\n [Timestamp('2020-11-19 00:00:00', freq='D'),\n  '대파(일반)',\n  '2735',\n  '2844',\n  '1600',\n  '키로단',\n  '29'],\n [Timestamp('2020-11-19 00:00:00', freq='D'),\n  '대파(일반)',\n  '2057',\n  '2155',\n  '1202',\n  '키로단',\n  '29'],\n [Timestamp('2020-11-19 00:00:00', freq='D'),\n  '대파(일반)',\n  '1900',\n  '1925',\n  '1025',\n  '키로단',\n  '29']]"
     },
     "metadata": {},
     "output_type": "display_data"
    },
    {
     "data": {
      "text/plain": "[[Timestamp('2020-11-20 00:00:00', freq='D')],\n [Timestamp('2020-11-20 00:00:00', freq='D'),\n  '대파(일반)',\n  '3310',\n  '3410',\n  '1924',\n  '키로단',\n  '29'],\n [Timestamp('2020-11-20 00:00:00', freq='D'),\n  '대파(일반)',\n  '2666',\n  '2735',\n  '1397',\n  '키로단',\n  '29'],\n [Timestamp('2020-11-20 00:00:00', freq='D'),\n  '대파(일반)',\n  '2137',\n  '2057',\n  '1257',\n  '키로단',\n  '29'],\n [Timestamp('2020-11-20 00:00:00', freq='D'),\n  '대파(일반)',\n  '1807',\n  '1900',\n  '1081',\n  '키로단',\n  '29']]"
     },
     "metadata": {},
     "output_type": "display_data"
    },
    {
     "data": {
      "text/plain": "[[Timestamp('2020-11-21 00:00:00', freq='D')],\n [Timestamp('2020-11-21 00:00:00', freq='D'),\n  '대파(일반)',\n  '3191',\n  '3310',\n  '1974',\n  '키로단',\n  '29'],\n [Timestamp('2020-11-21 00:00:00', freq='D'),\n  '대파(일반)',\n  '2550',\n  '2666',\n  '1372',\n  '키로단',\n  '29'],\n [Timestamp('2020-11-21 00:00:00', freq='D'),\n  '대파(일반)',\n  '2159',\n  '2137',\n  '1184',\n  '키로단',\n  '29'],\n [Timestamp('2020-11-21 00:00:00', freq='D'),\n  '대파(일반)',\n  '1793',\n  '1807',\n  '1019',\n  '키로단',\n  '29']]"
     },
     "metadata": {},
     "output_type": "display_data"
    },
    {
     "data": {
      "text/plain": "[[Timestamp('2020-11-22 00:00:00', freq='D')],\n [Timestamp('2020-11-22 00:00:00', freq='D'),\n  '대파(일반)',\n  '0',\n  '3191',\n  '2081',\n  '키로단',\n  '29'],\n [Timestamp('2020-11-22 00:00:00', freq='D'),\n  '대파(일반)',\n  '0',\n  '2550',\n  '1690',\n  '키로단',\n  '29'],\n [Timestamp('2020-11-22 00:00:00', freq='D'),\n  '대파(일반)',\n  '0',\n  '2159',\n  '1145',\n  '키로단',\n  '29'],\n [Timestamp('2020-11-22 00:00:00', freq='D'),\n  '대파(일반)',\n  '0',\n  '1793',\n  '1026',\n  '키로단',\n  '29']]"
     },
     "metadata": {},
     "output_type": "display_data"
    },
    {
     "data": {
      "text/plain": "[[Timestamp('2020-11-23 00:00:00', freq='D')],\n [Timestamp('2020-11-23 00:00:00', freq='D'),\n  '대파(일반)',\n  '3681',\n  '0',\n  '0',\n  '키로단',\n  '29'],\n [Timestamp('2020-11-23 00:00:00', freq='D'),\n  '대파(일반)',\n  '2841',\n  '0',\n  '0',\n  '키로단',\n  '29'],\n [Timestamp('2020-11-23 00:00:00', freq='D'),\n  '대파(일반)',\n  '2264',\n  '0',\n  '0',\n  '키로단',\n  '29'],\n [Timestamp('2020-11-23 00:00:00', freq='D'),\n  '대파(일반)',\n  '1759',\n  '0',\n  '0',\n  '키로단',\n  '29']]"
     },
     "metadata": {},
     "output_type": "display_data"
    },
    {
     "data": {
      "text/plain": "[[Timestamp('2020-11-24 00:00:00', freq='D')],\n [Timestamp('2020-11-24 00:00:00', freq='D'),\n  '대파(일반)',\n  '3554',\n  '3681',\n  '2207',\n  '키로단',\n  '29'],\n [Timestamp('2020-11-24 00:00:00', freq='D'),\n  '대파(일반)',\n  '3134',\n  '2841',\n  '1521',\n  '키로단',\n  '29'],\n [Timestamp('2020-11-24 00:00:00', freq='D'),\n  '대파(일반)',\n  '2222',\n  '2264',\n  '1067',\n  '키로단',\n  '29'],\n [Timestamp('2020-11-24 00:00:00', freq='D'),\n  '대파(일반)',\n  '1825',\n  '1759',\n  '886',\n  '키로단',\n  '29']]"
     },
     "metadata": {},
     "output_type": "display_data"
    },
    {
     "data": {
      "text/plain": "[[Timestamp('2020-11-25 00:00:00', freq='D')],\n [Timestamp('2020-11-25 00:00:00', freq='D'),\n  '대파(일반)',\n  '3372',\n  '3554',\n  '2115',\n  '키로단',\n  '29'],\n [Timestamp('2020-11-25 00:00:00', freq='D'),\n  '대파(일반)',\n  '2992',\n  '3134',\n  '1663',\n  '키로단',\n  '29'],\n [Timestamp('2020-11-25 00:00:00', freq='D'),\n  '대파(일반)',\n  '2260',\n  '2222',\n  '1247',\n  '키로단',\n  '29'],\n [Timestamp('2020-11-25 00:00:00', freq='D'),\n  '대파(일반)',\n  '1622',\n  '1825',\n  '896',\n  '키로단',\n  '29']]"
     },
     "metadata": {},
     "output_type": "display_data"
    },
    {
     "data": {
      "text/plain": "[[Timestamp('2020-11-26 00:00:00', freq='D')],\n [Timestamp('2020-11-26 00:00:00', freq='D'),\n  '대파(일반)',\n  '3033',\n  '3372',\n  '2205',\n  '키로단',\n  '29'],\n [Timestamp('2020-11-26 00:00:00', freq='D'),\n  '대파(일반)',\n  '2603',\n  '2992',\n  '1651',\n  '키로단',\n  '29'],\n [Timestamp('2020-11-26 00:00:00', freq='D'),\n  '대파(일반)',\n  '1886',\n  '2260',\n  '1211',\n  '키로단',\n  '29'],\n [Timestamp('2020-11-26 00:00:00', freq='D'),\n  '대파(일반)',\n  '1481',\n  '1622',\n  '832',\n  '키로단',\n  '29']]"
     },
     "metadata": {},
     "output_type": "display_data"
    },
    {
     "data": {
      "text/plain": "[[Timestamp('2020-11-27 00:00:00', freq='D')],\n [Timestamp('2020-11-27 00:00:00', freq='D'),\n  '대파(일반)',\n  '3051',\n  '3033',\n  '2318',\n  '키로단',\n  '29'],\n [Timestamp('2020-11-27 00:00:00', freq='D'),\n  '대파(일반)',\n  '2313',\n  '2603',\n  '1643',\n  '키로단',\n  '29'],\n [Timestamp('2020-11-27 00:00:00', freq='D'),\n  '대파(일반)',\n  '1741',\n  '1886',\n  '1126',\n  '키로단',\n  '29'],\n [Timestamp('2020-11-27 00:00:00', freq='D'),\n  '대파(일반)',\n  '1452',\n  '1481',\n  '817',\n  '키로단',\n  '29']]"
     },
     "metadata": {},
     "output_type": "display_data"
    },
    {
     "data": {
      "text/plain": "[[Timestamp('2020-11-28 00:00:00', freq='D')],\n [Timestamp('2020-11-28 00:00:00', freq='D'),\n  '대파(일반)',\n  '3228',\n  '3051',\n  '2500',\n  '키로단',\n  '29'],\n [Timestamp('2020-11-28 00:00:00', freq='D'),\n  '대파(일반)',\n  '2829',\n  '2313',\n  '1862',\n  '키로단',\n  '29'],\n [Timestamp('2020-11-28 00:00:00', freq='D'),\n  '대파(일반)',\n  '2064',\n  '1741',\n  '1250',\n  '키로단',\n  '29'],\n [Timestamp('2020-11-28 00:00:00', freq='D'),\n  '대파(일반)',\n  '1485',\n  '1452',\n  '812',\n  '키로단',\n  '29']]"
     },
     "metadata": {},
     "output_type": "display_data"
    },
    {
     "data": {
      "text/plain": "[[Timestamp('2020-11-29 00:00:00', freq='D')],\n [Timestamp('2020-11-29 00:00:00', freq='D'),\n  '대파(일반)',\n  '0',\n  '3228',\n  '2500',\n  '키로단',\n  '29'],\n [Timestamp('2020-11-29 00:00:00', freq='D'),\n  '대파(일반)',\n  '0',\n  '2829',\n  '1925',\n  '키로단',\n  '29'],\n [Timestamp('2020-11-29 00:00:00', freq='D'),\n  '대파(일반)',\n  '0',\n  '2064',\n  '1052',\n  '키로단',\n  '29'],\n [Timestamp('2020-11-29 00:00:00', freq='D'),\n  '대파(일반)',\n  '0',\n  '1485',\n  '786',\n  '키로단',\n  '29']]"
     },
     "metadata": {},
     "output_type": "display_data"
    },
    {
     "data": {
      "text/plain": "[[Timestamp('2020-11-30 00:00:00', freq='D')],\n [Timestamp('2020-11-30 00:00:00', freq='D'),\n  '대파(일반)',\n  '2943',\n  '0',\n  '0',\n  '키로단',\n  '29'],\n [Timestamp('2020-11-30 00:00:00', freq='D'),\n  '대파(일반)',\n  '2010',\n  '0',\n  '0',\n  '키로단',\n  '29'],\n [Timestamp('2020-11-30 00:00:00', freq='D'),\n  '대파(일반)',\n  '1558',\n  '0',\n  '0',\n  '키로단',\n  '29'],\n [Timestamp('2020-11-30 00:00:00', freq='D'),\n  '대파(일반)',\n  '1200',\n  '0',\n  '0',\n  '키로단',\n  '29']]"
     },
     "metadata": {},
     "output_type": "display_data"
    },
    {
     "data": {
      "text/plain": "[[Timestamp('2020-12-01 00:00:00', freq='D')],\n [Timestamp('2020-12-01 00:00:00', freq='D'),\n  '대파(일반)',\n  '2840',\n  '2943',\n  '2399',\n  '키로단',\n  '29'],\n [Timestamp('2020-12-01 00:00:00', freq='D'),\n  '대파(일반)',\n  '2129',\n  '2010',\n  '1508',\n  '키로단',\n  '29'],\n [Timestamp('2020-12-01 00:00:00', freq='D'),\n  '대파(일반)',\n  '1436',\n  '1558',\n  '972',\n  '키로단',\n  '29'],\n [Timestamp('2020-12-01 00:00:00', freq='D'),\n  '대파(일반)',\n  '977',\n  '1200',\n  '795',\n  '키로단',\n  '29']]"
     },
     "metadata": {},
     "output_type": "display_data"
    },
    {
     "data": {
      "text/plain": "[[Timestamp('2020-12-02 00:00:00', freq='D')],\n [Timestamp('2020-12-02 00:00:00', freq='D'),\n  '대파(일반)',\n  '3132',\n  '2840',\n  '2438',\n  '키로단',\n  '29'],\n [Timestamp('2020-12-02 00:00:00', freq='D'),\n  '대파(일반)',\n  '2629',\n  '2129',\n  '1571',\n  '키로단',\n  '29'],\n [Timestamp('2020-12-02 00:00:00', freq='D'),\n  '대파(일반)',\n  '1522',\n  '1436',\n  '1072',\n  '키로단',\n  '29'],\n [Timestamp('2020-12-02 00:00:00', freq='D'),\n  '대파(일반)',\n  '980',\n  '977',\n  '855',\n  '키로단',\n  '29']]"
     },
     "metadata": {},
     "output_type": "display_data"
    },
    {
     "data": {
      "text/plain": "[[Timestamp('2020-12-03 00:00:00', freq='D')],\n [Timestamp('2020-12-03 00:00:00', freq='D'),\n  '대파(일반)',\n  '3255',\n  '3132',\n  '2426',\n  '키로단',\n  '29'],\n [Timestamp('2020-12-03 00:00:00', freq='D'),\n  '대파(일반)',\n  '2650',\n  '2629',\n  '1570',\n  '키로단',\n  '29'],\n [Timestamp('2020-12-03 00:00:00', freq='D'),\n  '대파(일반)',\n  '1749',\n  '1522',\n  '1119',\n  '키로단',\n  '29'],\n [Timestamp('2020-12-03 00:00:00', freq='D'),\n  '대파(일반)',\n  '1062',\n  '980',\n  '865',\n  '키로단',\n  '29']]"
     },
     "metadata": {},
     "output_type": "display_data"
    },
    {
     "data": {
      "text/plain": "[[Timestamp('2020-12-04 00:00:00', freq='D')],\n [Timestamp('2020-12-04 00:00:00', freq='D'),\n  '대파(일반)',\n  '2899',\n  '3255',\n  '2230',\n  '키로단',\n  '29'],\n [Timestamp('2020-12-04 00:00:00', freq='D'),\n  '대파(일반)',\n  '2418',\n  '2650',\n  '1681',\n  '키로단',\n  '29'],\n [Timestamp('2020-12-04 00:00:00', freq='D'),\n  '대파(일반)',\n  '1222',\n  '1749',\n  '1454',\n  '키로단',\n  '29'],\n [Timestamp('2020-12-04 00:00:00', freq='D'),\n  '대파(일반)',\n  '1053',\n  '1062',\n  '883',\n  '키로단',\n  '29']]"
     },
     "metadata": {},
     "output_type": "display_data"
    },
    {
     "data": {
      "text/plain": "[[Timestamp('2020-12-05 00:00:00', freq='D')],\n [Timestamp('2020-12-05 00:00:00', freq='D'),\n  '대파(일반)',\n  '2842',\n  '2899',\n  '2048',\n  '키로단',\n  '29'],\n [Timestamp('2020-12-05 00:00:00', freq='D'),\n  '대파(일반)',\n  '1489',\n  '2418',\n  '1659',\n  '키로단',\n  '29'],\n [Timestamp('2020-12-05 00:00:00', freq='D'),\n  '대파(일반)',\n  '1118',\n  '1222',\n  '1524',\n  '키로단',\n  '29'],\n [Timestamp('2020-12-05 00:00:00', freq='D'),\n  '대파(일반)',\n  '1043',\n  '1053',\n  '994',\n  '키로단',\n  '29']]"
     },
     "metadata": {},
     "output_type": "display_data"
    },
    {
     "data": {
      "text/plain": "[[Timestamp('2020-12-06 00:00:00', freq='D')],\n [Timestamp('2020-12-06 00:00:00', freq='D'),\n  '대파(일반)',\n  '0',\n  '2842',\n  '1968',\n  '키로단',\n  '29'],\n [Timestamp('2020-12-06 00:00:00', freq='D'),\n  '대파(일반)',\n  '0',\n  '1489',\n  '1585',\n  '키로단',\n  '29'],\n [Timestamp('2020-12-06 00:00:00', freq='D'),\n  '대파(일반)',\n  '0',\n  '1118',\n  '1346',\n  '키로단',\n  '29'],\n [Timestamp('2020-12-06 00:00:00', freq='D'),\n  '대파(일반)',\n  '0',\n  '1043',\n  '914',\n  '키로단',\n  '29']]"
     },
     "metadata": {},
     "output_type": "display_data"
    },
    {
     "data": {
      "text/plain": "[[Timestamp('2020-12-07 00:00:00', freq='D')],\n [Timestamp('2020-12-07 00:00:00', freq='D'),\n  '대파(일반)',\n  '3163',\n  '0',\n  '0',\n  '키로단',\n  '29'],\n [Timestamp('2020-12-07 00:00:00', freq='D'),\n  '대파(일반)',\n  '2039',\n  '0',\n  '0',\n  '키로단',\n  '29'],\n [Timestamp('2020-12-07 00:00:00', freq='D'),\n  '대파(일반)',\n  '1366',\n  '0',\n  '0',\n  '키로단',\n  '29'],\n [Timestamp('2020-12-07 00:00:00', freq='D'),\n  '대파(일반)',\n  '1002',\n  '0',\n  '0',\n  '키로단',\n  '29']]"
     },
     "metadata": {},
     "output_type": "display_data"
    },
    {
     "data": {
      "text/plain": "[[Timestamp('2020-12-08 00:00:00', freq='D')],\n [Timestamp('2020-12-08 00:00:00', freq='D'),\n  '대파(일반)',\n  '3317',\n  '3163',\n  '2682',\n  '키로단',\n  '29'],\n [Timestamp('2020-12-08 00:00:00', freq='D'),\n  '대파(일반)',\n  '2409',\n  '2039',\n  '1514',\n  '키로단',\n  '29'],\n [Timestamp('2020-12-08 00:00:00', freq='D'),\n  '대파(일반)',\n  '1412',\n  '1366',\n  '1005',\n  '키로단',\n  '29'],\n [Timestamp('2020-12-08 00:00:00', freq='D'),\n  '대파(일반)',\n  '926',\n  '1002',\n  '781',\n  '키로단',\n  '29']]"
     },
     "metadata": {},
     "output_type": "display_data"
    },
    {
     "data": {
      "text/plain": "[[Timestamp('2020-12-09 00:00:00', freq='D')],\n [Timestamp('2020-12-09 00:00:00', freq='D'),\n  '대파(일반)',\n  '2974',\n  '3317',\n  '2232',\n  '키로단',\n  '29'],\n [Timestamp('2020-12-09 00:00:00', freq='D'),\n  '대파(일반)',\n  '2187',\n  '2409',\n  '1524',\n  '키로단',\n  '29'],\n [Timestamp('2020-12-09 00:00:00', freq='D'),\n  '대파(일반)',\n  '1585',\n  '1412',\n  '1186',\n  '키로단',\n  '29'],\n [Timestamp('2020-12-09 00:00:00', freq='D'),\n  '대파(일반)',\n  '946',\n  '926',\n  '654',\n  '키로단',\n  '29']]"
     },
     "metadata": {},
     "output_type": "display_data"
    },
    {
     "data": {
      "text/plain": "[[Timestamp('2020-12-10 00:00:00', freq='D')],\n [Timestamp('2020-12-10 00:00:00', freq='D'),\n  '대파(일반)',\n  '2678',\n  '2974',\n  '2086',\n  '키로단',\n  '29'],\n [Timestamp('2020-12-10 00:00:00', freq='D'),\n  '대파(일반)',\n  '1815',\n  '2187',\n  '1579',\n  '키로단',\n  '29'],\n [Timestamp('2020-12-10 00:00:00', freq='D'),\n  '대파(일반)',\n  '1518',\n  '1585',\n  '1351',\n  '키로단',\n  '29'],\n [Timestamp('2020-12-10 00:00:00', freq='D'),\n  '대파(일반)',\n  '972',\n  '946',\n  '724',\n  '키로단',\n  '29']]"
     },
     "metadata": {},
     "output_type": "display_data"
    },
    {
     "data": {
      "text/plain": "[[Timestamp('2020-12-11 00:00:00', freq='D')],\n [Timestamp('2020-12-11 00:00:00', freq='D'),\n  '대파(일반)',\n  '2660',\n  '2678',\n  '2178',\n  '키로단',\n  '29'],\n [Timestamp('2020-12-11 00:00:00', freq='D'),\n  '대파(일반)',\n  '2214',\n  '1815',\n  '1600',\n  '키로단',\n  '29'],\n [Timestamp('2020-12-11 00:00:00', freq='D'),\n  '대파(일반)',\n  '1571',\n  '1518',\n  '1369',\n  '키로단',\n  '29'],\n [Timestamp('2020-12-11 00:00:00', freq='D'),\n  '대파(일반)',\n  '984',\n  '972',\n  '897',\n  '키로단',\n  '29']]"
     },
     "metadata": {},
     "output_type": "display_data"
    },
    {
     "data": {
      "text/plain": "[[Timestamp('2020-12-12 00:00:00', freq='D')],\n [Timestamp('2020-12-12 00:00:00', freq='D'),\n  '대파(일반)',\n  '2664',\n  '2660',\n  '2013',\n  '키로단',\n  '29'],\n [Timestamp('2020-12-12 00:00:00', freq='D'),\n  '대파(일반)',\n  '2454',\n  '2214',\n  '1600',\n  '키로단',\n  '29'],\n [Timestamp('2020-12-12 00:00:00', freq='D'),\n  '대파(일반)',\n  '1668',\n  '1571',\n  '1295',\n  '키로단',\n  '29'],\n [Timestamp('2020-12-12 00:00:00', freq='D'),\n  '대파(일반)',\n  '985',\n  '984',\n  '869',\n  '키로단',\n  '29']]"
     },
     "metadata": {},
     "output_type": "display_data"
    },
    {
     "data": {
      "text/plain": "[[Timestamp('2020-12-13 00:00:00', freq='D')],\n [Timestamp('2020-12-13 00:00:00', freq='D'),\n  '대파(일반)',\n  '0',\n  '2664',\n  '1878',\n  '키로단',\n  '29'],\n [Timestamp('2020-12-13 00:00:00', freq='D'),\n  '대파(일반)',\n  '0',\n  '2454',\n  '1575',\n  '키로단',\n  '29'],\n [Timestamp('2020-12-13 00:00:00', freq='D'),\n  '대파(일반)',\n  '0',\n  '1668',\n  '1286',\n  '키로단',\n  '29'],\n [Timestamp('2020-12-13 00:00:00', freq='D'),\n  '대파(일반)',\n  '0',\n  '985',\n  '837',\n  '키로단',\n  '29']]"
     },
     "metadata": {},
     "output_type": "display_data"
    },
    {
     "data": {
      "text/plain": "[[Timestamp('2020-12-14 00:00:00', freq='D')],\n [Timestamp('2020-12-14 00:00:00', freq='D'),\n  '대파(일반)',\n  '2720',\n  '0',\n  '0',\n  '키로단',\n  '29'],\n [Timestamp('2020-12-14 00:00:00', freq='D'),\n  '대파(일반)',\n  '1943',\n  '0',\n  '0',\n  '키로단',\n  '29'],\n [Timestamp('2020-12-14 00:00:00', freq='D'),\n  '대파(일반)',\n  '1474',\n  '0',\n  '0',\n  '키로단',\n  '29'],\n [Timestamp('2020-12-14 00:00:00', freq='D'),\n  '대파(일반)',\n  '1034',\n  '0',\n  '0',\n  '키로단',\n  '29']]"
     },
     "metadata": {},
     "output_type": "display_data"
    },
    {
     "data": {
      "text/plain": "[[Timestamp('2020-12-15 00:00:00', freq='D')],\n [Timestamp('2020-12-15 00:00:00', freq='D'),\n  '대파(일반)',\n  '2795',\n  '2720',\n  '2343',\n  '키로단',\n  '29'],\n [Timestamp('2020-12-15 00:00:00', freq='D'),\n  '대파(일반)',\n  '2035',\n  '1943',\n  '1446',\n  '키로단',\n  '29'],\n [Timestamp('2020-12-15 00:00:00', freq='D'),\n  '대파(일반)',\n  '1562',\n  '1474',\n  '1021',\n  '키로단',\n  '29'],\n [Timestamp('2020-12-15 00:00:00', freq='D'),\n  '대파(일반)',\n  '1110',\n  '1034',\n  '636',\n  '키로단',\n  '29']]"
     },
     "metadata": {},
     "output_type": "display_data"
    },
    {
     "data": {
      "text/plain": "[[Timestamp('2020-12-16 00:00:00', freq='D')],\n [Timestamp('2020-12-16 00:00:00', freq='D'),\n  '대파(일반)',\n  '2834',\n  '2795',\n  '2149',\n  '키로단',\n  '29'],\n [Timestamp('2020-12-16 00:00:00', freq='D'),\n  '대파(일반)',\n  '2594',\n  '2035',\n  '1609',\n  '키로단',\n  '29'],\n [Timestamp('2020-12-16 00:00:00', freq='D'),\n  '대파(일반)',\n  '1846',\n  '1562',\n  '1290',\n  '키로단',\n  '29'],\n [Timestamp('2020-12-16 00:00:00', freq='D'),\n  '대파(일반)',\n  '1394',\n  '1110',\n  '711',\n  '키로단',\n  '29']]"
     },
     "metadata": {},
     "output_type": "display_data"
    },
    {
     "data": {
      "text/plain": "[[Timestamp('2020-12-17 00:00:00', freq='D')],\n [Timestamp('2020-12-17 00:00:00', freq='D'),\n  '대파(일반)',\n  '2710',\n  '2834',\n  '2015',\n  '키로단',\n  '29'],\n [Timestamp('2020-12-17 00:00:00', freq='D'),\n  '대파(일반)',\n  '2313',\n  '2594',\n  '1620',\n  '키로단',\n  '29'],\n [Timestamp('2020-12-17 00:00:00', freq='D'),\n  '대파(일반)',\n  '1750',\n  '1846',\n  '1449',\n  '키로단',\n  '29'],\n [Timestamp('2020-12-17 00:00:00', freq='D'),\n  '대파(일반)',\n  '1596',\n  '1394',\n  '800',\n  '키로단',\n  '29']]"
     },
     "metadata": {},
     "output_type": "display_data"
    },
    {
     "data": {
      "text/plain": "[[Timestamp('2020-12-18 00:00:00', freq='D')],\n [Timestamp('2020-12-18 00:00:00', freq='D'),\n  '대파(일반)',\n  '2164',\n  '2710',\n  '1929',\n  '키로단',\n  '29'],\n [Timestamp('2020-12-18 00:00:00', freq='D'),\n  '대파(일반)',\n  '1787',\n  '2313',\n  '1566',\n  '키로단',\n  '29'],\n [Timestamp('2020-12-18 00:00:00', freq='D'),\n  '대파(일반)',\n  '1700',\n  '1750',\n  '1400',\n  '키로단',\n  '29'],\n [Timestamp('2020-12-18 00:00:00', freq='D'),\n  '대파(일반)',\n  '1548',\n  '1596',\n  '960',\n  '키로단',\n  '29']]"
     },
     "metadata": {},
     "output_type": "display_data"
    },
    {
     "data": {
      "text/plain": "[[Timestamp('2020-12-19 00:00:00', freq='D')],\n [Timestamp('2020-12-19 00:00:00', freq='D'),\n  '대파(일반)',\n  '2040',\n  '2164',\n  '1961',\n  '키로단',\n  '29'],\n [Timestamp('2020-12-19 00:00:00', freq='D'),\n  '대파(일반)',\n  '1727',\n  '1787',\n  '1509',\n  '키로단',\n  '29'],\n [Timestamp('2020-12-19 00:00:00', freq='D'),\n  '대파(일반)',\n  '1613',\n  '1700',\n  '1318',\n  '키로단',\n  '29'],\n [Timestamp('2020-12-19 00:00:00', freq='D'),\n  '대파(일반)',\n  '1462',\n  '1548',\n  '850',\n  '키로단',\n  '29']]"
     },
     "metadata": {},
     "output_type": "display_data"
    },
    {
     "data": {
      "text/plain": "[[Timestamp('2020-12-20 00:00:00', freq='D')],\n [Timestamp('2020-12-20 00:00:00', freq='D'),\n  '대파(일반)',\n  '0',\n  '2040',\n  '2040',\n  '키로단',\n  '29'],\n [Timestamp('2020-12-20 00:00:00', freq='D'),\n  '대파(일반)',\n  '0',\n  '1727',\n  '1600',\n  '키로단',\n  '29'],\n [Timestamp('2020-12-20 00:00:00', freq='D'),\n  '대파(일반)',\n  '0',\n  '1613',\n  '1377',\n  '키로단',\n  '29'],\n [Timestamp('2020-12-20 00:00:00', freq='D'),\n  '대파(일반)',\n  '0',\n  '1462',\n  '859',\n  '키로단',\n  '29']]"
     },
     "metadata": {},
     "output_type": "display_data"
    },
    {
     "data": {
      "text/plain": "[[Timestamp('2020-12-21 00:00:00', freq='D')],\n [Timestamp('2020-12-21 00:00:00', freq='D'),\n  '대파(일반)',\n  '2953',\n  '0',\n  '0',\n  '키로단',\n  '29'],\n [Timestamp('2020-12-21 00:00:00', freq='D'),\n  '대파(일반)',\n  '2173',\n  '0',\n  '0',\n  '키로단',\n  '29'],\n [Timestamp('2020-12-21 00:00:00', freq='D'),\n  '대파(일반)',\n  '1822',\n  '0',\n  '0',\n  '키로단',\n  '29'],\n [Timestamp('2020-12-21 00:00:00', freq='D'),\n  '대파(일반)',\n  '1528',\n  '0',\n  '0',\n  '키로단',\n  '29']]"
     },
     "metadata": {},
     "output_type": "display_data"
    },
    {
     "data": {
      "text/plain": "[[Timestamp('2020-12-22 00:00:00', freq='D')],\n [Timestamp('2020-12-22 00:00:00', freq='D'),\n  '대파(일반)',\n  '2751',\n  '2953',\n  '2434',\n  '키로단',\n  '29'],\n [Timestamp('2020-12-22 00:00:00', freq='D'),\n  '대파(일반)',\n  '2095',\n  '2173',\n  '1487',\n  '키로단',\n  '29'],\n [Timestamp('2020-12-22 00:00:00', freq='D'),\n  '대파(일반)',\n  '1743',\n  '1822',\n  '1199',\n  '키로단',\n  '29'],\n [Timestamp('2020-12-22 00:00:00', freq='D'),\n  '대파(일반)',\n  '1457',\n  '1528',\n  '946',\n  '키로단',\n  '29']]"
     },
     "metadata": {},
     "output_type": "display_data"
    },
    {
     "data": {
      "text/plain": "[[Timestamp('2020-12-23 00:00:00', freq='D')],\n [Timestamp('2020-12-23 00:00:00', freq='D'),\n  '대파(일반)',\n  '2379',\n  '2751',\n  '2117',\n  '키로단',\n  '29'],\n [Timestamp('2020-12-23 00:00:00', freq='D'),\n  '대파(일반)',\n  '2140',\n  '2095',\n  '1547',\n  '키로단',\n  '29'],\n [Timestamp('2020-12-23 00:00:00', freq='D'),\n  '대파(일반)',\n  '1828',\n  '1743',\n  '1345',\n  '키로단',\n  '29'],\n [Timestamp('2020-12-23 00:00:00', freq='D'),\n  '대파(일반)',\n  '1432',\n  '1457',\n  '930',\n  '키로단',\n  '29']]"
     },
     "metadata": {},
     "output_type": "display_data"
    },
    {
     "data": {
      "text/plain": "[[Timestamp('2020-12-24 00:00:00', freq='D')],\n [Timestamp('2020-12-24 00:00:00', freq='D'),\n  '대파(일반)',\n  '2539',\n  '2379',\n  '1850',\n  '키로단',\n  '29'],\n [Timestamp('2020-12-24 00:00:00', freq='D'),\n  '대파(일반)',\n  '2140',\n  '2140',\n  '1520',\n  '키로단',\n  '29'],\n [Timestamp('2020-12-24 00:00:00', freq='D'),\n  '대파(일반)',\n  '1794',\n  '1828',\n  '1452',\n  '키로단',\n  '29'],\n [Timestamp('2020-12-24 00:00:00', freq='D'),\n  '대파(일반)',\n  '1476',\n  '1432',\n  '977',\n  '키로단',\n  '29']]"
     },
     "metadata": {},
     "output_type": "display_data"
    },
    {
     "data": {
      "text/plain": "[[Timestamp('2020-12-25 00:00:00', freq='D')],\n [Timestamp('2020-12-25 00:00:00', freq='D'),\n  '대파(일반)',\n  '2584',\n  '2539',\n  '1839',\n  '키로단',\n  '29'],\n [Timestamp('2020-12-25 00:00:00', freq='D'),\n  '대파(일반)',\n  '1860',\n  '2140',\n  '1500',\n  '키로단',\n  '29'],\n [Timestamp('2020-12-25 00:00:00', freq='D'),\n  '대파(일반)',\n  '1617',\n  '1794',\n  '1338',\n  '키로단',\n  '29'],\n [Timestamp('2020-12-25 00:00:00', freq='D'),\n  '대파(일반)',\n  '1431',\n  '1476',\n  '926',\n  '키로단',\n  '29']]"
     },
     "metadata": {},
     "output_type": "display_data"
    },
    {
     "data": {
      "text/plain": "[[Timestamp('2020-12-26 00:00:00', freq='D')],\n [Timestamp('2020-12-26 00:00:00', freq='D'),\n  '대파(일반)',\n  '2465',\n  '2584',\n  '1773',\n  '키로단',\n  '29'],\n [Timestamp('2020-12-26 00:00:00', freq='D'),\n  '대파(일반)',\n  '1726',\n  '1860',\n  '1500',\n  '키로단',\n  '29'],\n [Timestamp('2020-12-26 00:00:00', freq='D'),\n  '대파(일반)',\n  '1559',\n  '1617',\n  '1190',\n  '키로단',\n  '29'],\n [Timestamp('2020-12-26 00:00:00', freq='D'),\n  '대파(일반)',\n  '1421',\n  '1431',\n  '878',\n  '키로단',\n  '29']]"
     },
     "metadata": {},
     "output_type": "display_data"
    },
    {
     "data": {
      "text/plain": "[[Timestamp('2020-12-27 00:00:00', freq='D')],\n [Timestamp('2020-12-27 00:00:00', freq='D'),\n  '대파(일반)',\n  '0',\n  '2465',\n  '1957',\n  '키로단',\n  '29'],\n [Timestamp('2020-12-27 00:00:00', freq='D'),\n  '대파(일반)',\n  '0',\n  '1726',\n  '1500',\n  '키로단',\n  '29'],\n [Timestamp('2020-12-27 00:00:00', freq='D'),\n  '대파(일반)',\n  '0',\n  '1559',\n  '1249',\n  '키로단',\n  '29'],\n [Timestamp('2020-12-27 00:00:00', freq='D'),\n  '대파(일반)',\n  '0',\n  '1421',\n  '872',\n  '키로단',\n  '29']]"
     },
     "metadata": {},
     "output_type": "display_data"
    },
    {
     "data": {
      "text/plain": "[[Timestamp('2020-12-28 00:00:00', freq='D')],\n [Timestamp('2020-12-28 00:00:00', freq='D'),\n  '대파(일반)',\n  '2350',\n  '0',\n  '0',\n  '키로단',\n  '29'],\n [Timestamp('2020-12-28 00:00:00', freq='D'),\n  '대파(일반)',\n  '1768',\n  '0',\n  '0',\n  '키로단',\n  '29'],\n [Timestamp('2020-12-28 00:00:00', freq='D'),\n  '대파(일반)',\n  '1517',\n  '0',\n  '0',\n  '키로단',\n  '29'],\n [Timestamp('2020-12-28 00:00:00', freq='D'),\n  '대파(일반)',\n  '1343',\n  '0',\n  '0',\n  '키로단',\n  '29']]"
     },
     "metadata": {},
     "output_type": "display_data"
    },
    {
     "data": {
      "text/plain": "[[Timestamp('2020-12-29 00:00:00', freq='D')],\n [Timestamp('2020-12-29 00:00:00', freq='D'),\n  '대파(일반)',\n  '2268',\n  '2350',\n  '2396',\n  '키로단',\n  '29'],\n [Timestamp('2020-12-29 00:00:00', freq='D'),\n  '대파(일반)',\n  '1745',\n  '1768',\n  '1654',\n  '키로단',\n  '29'],\n [Timestamp('2020-12-29 00:00:00', freq='D'),\n  '대파(일반)',\n  '1563',\n  '1517',\n  '1277',\n  '키로단',\n  '29'],\n [Timestamp('2020-12-29 00:00:00', freq='D'),\n  '대파(일반)',\n  '1254',\n  '1343',\n  '1128',\n  '키로단',\n  '29']]"
     },
     "metadata": {},
     "output_type": "display_data"
    },
    {
     "data": {
      "text/plain": "[[Timestamp('2020-12-30 00:00:00', freq='D')],\n [Timestamp('2020-12-30 00:00:00', freq='D'),\n  '대파(일반)',\n  '2468',\n  '2268',\n  '2282',\n  '키로단',\n  '29'],\n [Timestamp('2020-12-30 00:00:00', freq='D'),\n  '대파(일반)',\n  '1837',\n  '1745',\n  '1622',\n  '키로단',\n  '29'],\n [Timestamp('2020-12-30 00:00:00', freq='D'),\n  '대파(일반)',\n  '1533',\n  '1563',\n  '1429',\n  '키로단',\n  '29'],\n [Timestamp('2020-12-30 00:00:00', freq='D'),\n  '대파(일반)',\n  '1220',\n  '1254',\n  '1152',\n  '키로단',\n  '29']]"
     },
     "metadata": {},
     "output_type": "display_data"
    },
    {
     "data": {
      "text/plain": "[[Timestamp('2020-12-31 00:00:00', freq='D')],\n [Timestamp('2020-12-31 00:00:00', freq='D'),\n  '대파(일반)',\n  '2495',\n  '2468',\n  '0',\n  '키로단',\n  '29'],\n [Timestamp('2020-12-31 00:00:00', freq='D'),\n  '대파(일반)',\n  '2036',\n  '1837',\n  '0',\n  '키로단',\n  '29'],\n [Timestamp('2020-12-31 00:00:00', freq='D'),\n  '대파(일반)',\n  '1597',\n  '1533',\n  '0',\n  '키로단',\n  '29'],\n [Timestamp('2020-12-31 00:00:00', freq='D'),\n  '대파(일반)',\n  '1286',\n  '1220',\n  '0',\n  '키로단',\n  '29']]"
     },
     "metadata": {},
     "output_type": "display_data"
    },
    {
     "data": {
      "text/plain": "[[Timestamp('2021-01-01 00:00:00', freq='D')],\n [Timestamp('2021-01-01 00:00:00', freq='D'),\n  '대파(일반)',\n  '0',\n  '2495',\n  '2282',\n  '키로단',\n  '29'],\n [Timestamp('2021-01-01 00:00:00', freq='D'),\n  '대파(일반)',\n  '0',\n  '2036',\n  '1622',\n  '키로단',\n  '29'],\n [Timestamp('2021-01-01 00:00:00', freq='D'),\n  '대파(일반)',\n  '0',\n  '1597',\n  '1429',\n  '키로단',\n  '29'],\n [Timestamp('2021-01-01 00:00:00', freq='D'),\n  '대파(일반)',\n  '0',\n  '1286',\n  '1152',\n  '키로단',\n  '29']]"
     },
     "metadata": {},
     "output_type": "display_data"
    },
    {
     "data": {
      "text/plain": "[[Timestamp('2021-01-02 00:00:00', freq='D')],\n [Timestamp('2021-01-02 00:00:00', freq='D'),\n  '대파(일반)',\n  '0',\n  '0',\n  '2282',\n  '키로단',\n  '29'],\n [Timestamp('2021-01-02 00:00:00', freq='D'),\n  '대파(일반)',\n  '0',\n  '0',\n  '1622',\n  '키로단',\n  '29'],\n [Timestamp('2021-01-02 00:00:00', freq='D'),\n  '대파(일반)',\n  '0',\n  '0',\n  '1429',\n  '키로단',\n  '29'],\n [Timestamp('2021-01-02 00:00:00', freq='D'),\n  '대파(일반)',\n  '0',\n  '0',\n  '1152',\n  '키로단',\n  '29']]"
     },
     "metadata": {},
     "output_type": "display_data"
    },
    {
     "data": {
      "text/plain": "[[Timestamp('2021-01-03 00:00:00', freq='D')],\n [Timestamp('2021-01-03 00:00:00', freq='D'),\n  '대파(일반)',\n  '0',\n  '0',\n  '1961',\n  '키로단',\n  '29'],\n [Timestamp('2021-01-03 00:00:00', freq='D'),\n  '대파(일반)',\n  '0',\n  '0',\n  '1603',\n  '키로단',\n  '29'],\n [Timestamp('2021-01-03 00:00:00', freq='D'),\n  '대파(일반)',\n  '0',\n  '0',\n  '1268',\n  '키로단',\n  '29'],\n [Timestamp('2021-01-03 00:00:00', freq='D'),\n  '대파(일반)',\n  '0',\n  '0',\n  '994',\n  '키로단',\n  '29']]"
     },
     "metadata": {},
     "output_type": "display_data"
    },
    {
     "data": {
      "text/plain": "[[Timestamp('2021-01-04 00:00:00', freq='D')],\n [Timestamp('2021-01-04 00:00:00', freq='D'),\n  '대파(일반)',\n  '3378',\n  '0',\n  '0',\n  '키로단',\n  '29'],\n [Timestamp('2021-01-04 00:00:00', freq='D'),\n  '대파(일반)',\n  '2254',\n  '0',\n  '0',\n  '키로단',\n  '29'],\n [Timestamp('2021-01-04 00:00:00', freq='D'),\n  '대파(일반)',\n  '2010',\n  '0',\n  '0',\n  '키로단',\n  '29'],\n [Timestamp('2021-01-04 00:00:00', freq='D'),\n  '대파(일반)',\n  '1601',\n  '0',\n  '0',\n  '키로단',\n  '29']]"
     },
     "metadata": {},
     "output_type": "display_data"
    },
    {
     "data": {
      "text/plain": "[[Timestamp('2021-01-05 00:00:00', freq='D')],\n [Timestamp('2021-01-05 00:00:00', freq='D'),\n  '대파(일반)',\n  '3246',\n  '3378',\n  '2155',\n  '키로단',\n  '29'],\n [Timestamp('2021-01-05 00:00:00', freq='D'),\n  '대파(일반)',\n  '2351',\n  '2254',\n  '1486',\n  '키로단',\n  '29'],\n [Timestamp('2021-01-05 00:00:00', freq='D'),\n  '대파(일반)',\n  '2046',\n  '2010',\n  '1190',\n  '키로단',\n  '29'],\n [Timestamp('2021-01-05 00:00:00', freq='D'),\n  '대파(일반)',\n  '1730',\n  '1601',\n  '1007',\n  '키로단',\n  '29']]"
     },
     "metadata": {},
     "output_type": "display_data"
    },
    {
     "data": {
      "text/plain": "[[Timestamp('2021-01-06 00:00:00', freq='D')],\n [Timestamp('2021-01-06 00:00:00', freq='D'),\n  '대파(일반)',\n  '3140',\n  '3246',\n  '3008',\n  '키로단',\n  '29'],\n [Timestamp('2021-01-06 00:00:00', freq='D'),\n  '대파(일반)',\n  '2663',\n  '2351',\n  '1498',\n  '키로단',\n  '29'],\n [Timestamp('2021-01-06 00:00:00', freq='D'),\n  '대파(일반)',\n  '2289',\n  '2046',\n  '1141',\n  '키로단',\n  '29'],\n [Timestamp('2021-01-06 00:00:00', freq='D'),\n  '대파(일반)',\n  '1837',\n  '1730',\n  '1016',\n  '키로단',\n  '29']]"
     },
     "metadata": {},
     "output_type": "display_data"
    },
    {
     "data": {
      "text/plain": "[[Timestamp('2021-01-07 00:00:00', freq='D')],\n [Timestamp('2021-01-07 00:00:00', freq='D'),\n  '대파(일반)',\n  '3413',\n  '3140',\n  '2311',\n  '키로단',\n  '29'],\n [Timestamp('2021-01-07 00:00:00', freq='D'),\n  '대파(일반)',\n  '2910',\n  '2663',\n  '1484',\n  '키로단',\n  '29'],\n [Timestamp('2021-01-07 00:00:00', freq='D'),\n  '대파(일반)',\n  '2395',\n  '2289',\n  '1172',\n  '키로단',\n  '29'],\n [Timestamp('2021-01-07 00:00:00', freq='D'),\n  '대파(일반)',\n  '1358',\n  '1837',\n  '1029',\n  '키로단',\n  '29']]"
     },
     "metadata": {},
     "output_type": "display_data"
    },
    {
     "data": {
      "text/plain": "[[Timestamp('2021-01-08 00:00:00', freq='D')],\n [Timestamp('2021-01-08 00:00:00', freq='D'),\n  '대파(일반)',\n  '3420',\n  '3413',\n  '2500',\n  '키로단',\n  '29'],\n [Timestamp('2021-01-08 00:00:00', freq='D'),\n  '대파(일반)',\n  '3017',\n  '2910',\n  '1887',\n  '키로단',\n  '29'],\n [Timestamp('2021-01-08 00:00:00', freq='D'),\n  '대파(일반)',\n  '2328',\n  '2395',\n  '1311',\n  '키로단',\n  '29'],\n [Timestamp('2021-01-08 00:00:00', freq='D'),\n  '대파(일반)',\n  '1369',\n  '1358',\n  '1119',\n  '키로단',\n  '29']]"
     },
     "metadata": {},
     "output_type": "display_data"
    },
    {
     "data": {
      "text/plain": "[[Timestamp('2021-01-09 00:00:00', freq='D')],\n [Timestamp('2021-01-09 00:00:00', freq='D'),\n  '대파(일반)',\n  '3379',\n  '3420',\n  '2500',\n  '키로단',\n  '29'],\n [Timestamp('2021-01-09 00:00:00', freq='D'),\n  '대파(일반)',\n  '2995',\n  '3017',\n  '1872',\n  '키로단',\n  '29'],\n [Timestamp('2021-01-09 00:00:00', freq='D'),\n  '대파(일반)',\n  '2520',\n  '2328',\n  '1269',\n  '키로단',\n  '29'],\n [Timestamp('2021-01-09 00:00:00', freq='D'),\n  '대파(일반)',\n  '2001',\n  '1369',\n  '1007',\n  '키로단',\n  '29']]"
     },
     "metadata": {},
     "output_type": "display_data"
    },
    {
     "data": {
      "text/plain": "[[Timestamp('2021-01-10 00:00:00', freq='D')],\n [Timestamp('2021-01-10 00:00:00', freq='D'),\n  '대파(일반)',\n  '0',\n  '3379',\n  '1806',\n  '키로단',\n  '29'],\n [Timestamp('2021-01-10 00:00:00', freq='D'),\n  '대파(일반)',\n  '0',\n  '2995',\n  '1266',\n  '키로단',\n  '29'],\n [Timestamp('2021-01-10 00:00:00', freq='D'),\n  '대파(일반)',\n  '0',\n  '2520',\n  '1117',\n  '키로단',\n  '29'],\n [Timestamp('2021-01-10 00:00:00', freq='D'),\n  '대파(일반)',\n  '0',\n  '2001',\n  '923',\n  '키로단',\n  '29']]"
     },
     "metadata": {},
     "output_type": "display_data"
    },
    {
     "data": {
      "text/plain": "[[Timestamp('2021-01-11 00:00:00', freq='D')],\n [Timestamp('2021-01-11 00:00:00', freq='D'),\n  '대파(일반)',\n  '3350',\n  '0',\n  '0',\n  '키로단',\n  '29'],\n [Timestamp('2021-01-11 00:00:00', freq='D'),\n  '대파(일반)',\n  '2965',\n  '0',\n  '0',\n  '키로단',\n  '29'],\n [Timestamp('2021-01-11 00:00:00', freq='D'),\n  '대파(일반)',\n  '2686',\n  '0',\n  '0',\n  '키로단',\n  '29'],\n [Timestamp('2021-01-11 00:00:00', freq='D'),\n  '대파(일반)',\n  '2212',\n  '0',\n  '0',\n  '키로단',\n  '29']]"
     },
     "metadata": {},
     "output_type": "display_data"
    },
    {
     "data": {
      "text/plain": "[[Timestamp('2021-01-12 00:00:00', freq='D')],\n [Timestamp('2021-01-12 00:00:00', freq='D'),\n  '대파(일반)',\n  '3362',\n  '3350',\n  '1837',\n  '키로단',\n  '29'],\n [Timestamp('2021-01-12 00:00:00', freq='D'),\n  '대파(일반)',\n  '3071',\n  '2965',\n  '1191',\n  '키로단',\n  '29'],\n [Timestamp('2021-01-12 00:00:00', freq='D'),\n  '대파(일반)',\n  '2154',\n  '2686',\n  '990',\n  '키로단',\n  '29'],\n [Timestamp('2021-01-12 00:00:00', freq='D'),\n  '대파(일반)',\n  '1354',\n  '2212',\n  '866',\n  '키로단',\n  '29']]"
     },
     "metadata": {},
     "output_type": "display_data"
    },
    {
     "data": {
      "text/plain": "[[Timestamp('2021-01-13 00:00:00', freq='D')],\n [Timestamp('2021-01-13 00:00:00', freq='D'),\n  '대파(일반)',\n  '3448',\n  '3362',\n  '1891',\n  '키로단',\n  '29'],\n [Timestamp('2021-01-13 00:00:00', freq='D'),\n  '대파(일반)',\n  '3199',\n  '3071',\n  '1267',\n  '키로단',\n  '29'],\n [Timestamp('2021-01-13 00:00:00', freq='D'),\n  '대파(일반)',\n  '2389',\n  '2154',\n  '982',\n  '키로단',\n  '29'],\n [Timestamp('2021-01-13 00:00:00', freq='D'),\n  '대파(일반)',\n  '1354',\n  '1354',\n  '849',\n  '키로단',\n  '29']]"
     },
     "metadata": {},
     "output_type": "display_data"
    },
    {
     "data": {
      "text/plain": "[[Timestamp('2021-01-14 00:00:00', freq='D')],\n [Timestamp('2021-01-14 00:00:00', freq='D'),\n  '대파(일반)',\n  '3588',\n  '3448',\n  '2349',\n  '키로단',\n  '29'],\n [Timestamp('2021-01-14 00:00:00', freq='D'),\n  '대파(일반)',\n  '3255',\n  '3199',\n  '1280',\n  '키로단',\n  '29'],\n [Timestamp('2021-01-14 00:00:00', freq='D'),\n  '대파(일반)',\n  '2708',\n  '2389',\n  '1078',\n  '키로단',\n  '29'],\n [Timestamp('2021-01-14 00:00:00', freq='D'),\n  '대파(일반)',\n  '1256',\n  '1354',\n  '852',\n  '키로단',\n  '29']]"
     },
     "metadata": {},
     "output_type": "display_data"
    },
    {
     "data": {
      "text/plain": "[[Timestamp('2021-01-15 00:00:00', freq='D')],\n [Timestamp('2021-01-15 00:00:00', freq='D'),\n  '대파(일반)',\n  '4140',\n  '3588',\n  '1949',\n  '키로단',\n  '29'],\n [Timestamp('2021-01-15 00:00:00', freq='D'),\n  '대파(일반)',\n  '3428',\n  '3255',\n  '1205',\n  '키로단',\n  '29'],\n [Timestamp('2021-01-15 00:00:00', freq='D'),\n  '대파(일반)',\n  '2525',\n  '2708',\n  '1088',\n  '키로단',\n  '29'],\n [Timestamp('2021-01-15 00:00:00', freq='D'),\n  '대파(일반)',\n  '1281',\n  '1256',\n  '872',\n  '키로단',\n  '29']]"
     },
     "metadata": {},
     "output_type": "display_data"
    },
    {
     "data": {
      "text/plain": "[[Timestamp('2021-01-16 00:00:00', freq='D')],\n [Timestamp('2021-01-16 00:00:00', freq='D'),\n  '대파(일반)',\n  '4143',\n  '4140',\n  '1950',\n  '키로단',\n  '29'],\n [Timestamp('2021-01-16 00:00:00', freq='D'),\n  '대파(일반)',\n  '3331',\n  '3428',\n  '1595',\n  '키로단',\n  '29'],\n [Timestamp('2021-01-16 00:00:00', freq='D'),\n  '대파(일반)',\n  '1588',\n  '2525',\n  '1127',\n  '키로단',\n  '29'],\n [Timestamp('2021-01-16 00:00:00', freq='D'),\n  '대파(일반)',\n  '1300',\n  '1281',\n  '865',\n  '키로단',\n  '29']]"
     },
     "metadata": {},
     "output_type": "display_data"
    },
    {
     "data": {
      "text/plain": "[[Timestamp('2021-01-17 00:00:00', freq='D')],\n [Timestamp('2021-01-17 00:00:00', freq='D'),\n  '대파(일반)',\n  '0',\n  '4143',\n  '1951',\n  '키로단',\n  '29'],\n [Timestamp('2021-01-17 00:00:00', freq='D'),\n  '대파(일반)',\n  '0',\n  '3331',\n  '1605',\n  '키로단',\n  '29'],\n [Timestamp('2021-01-17 00:00:00', freq='D'),\n  '대파(일반)',\n  '0',\n  '1588',\n  '1157',\n  '키로단',\n  '29'],\n [Timestamp('2021-01-17 00:00:00', freq='D'),\n  '대파(일반)',\n  '0',\n  '1300',\n  '849',\n  '키로단',\n  '29']]"
     },
     "metadata": {},
     "output_type": "display_data"
    },
    {
     "data": {
      "text/plain": "[[Timestamp('2021-01-18 00:00:00', freq='D')],\n [Timestamp('2021-01-18 00:00:00', freq='D'),\n  '대파(일반)',\n  '4440',\n  '0',\n  '0',\n  '키로단',\n  '29'],\n [Timestamp('2021-01-18 00:00:00', freq='D'),\n  '대파(일반)',\n  '3529',\n  '0',\n  '0',\n  '키로단',\n  '29'],\n [Timestamp('2021-01-18 00:00:00', freq='D'),\n  '대파(일반)',\n  '3087',\n  '0',\n  '0',\n  '키로단',\n  '29'],\n [Timestamp('2021-01-18 00:00:00', freq='D'),\n  '대파(일반)',\n  '2218',\n  '0',\n  '0',\n  '키로단',\n  '29']]"
     },
     "metadata": {},
     "output_type": "display_data"
    },
    {
     "data": {
      "text/plain": "[[Timestamp('2021-01-19 00:00:00', freq='D')],\n [Timestamp('2021-01-19 00:00:00', freq='D'),\n  '대파(일반)',\n  '4570',\n  '4440',\n  '1605',\n  '키로단',\n  '29'],\n [Timestamp('2021-01-19 00:00:00', freq='D'),\n  '대파(일반)',\n  '3444',\n  '3529',\n  '1138',\n  '키로단',\n  '29'],\n [Timestamp('2021-01-19 00:00:00', freq='D'),\n  '대파(일반)',\n  '3071',\n  '3087',\n  '934',\n  '키로단',\n  '29'],\n [Timestamp('2021-01-19 00:00:00', freq='D'),\n  '대파(일반)',\n  '2134',\n  '2218',\n  '785',\n  '키로단',\n  '29']]"
     },
     "metadata": {},
     "output_type": "display_data"
    },
    {
     "data": {
      "text/plain": "[[Timestamp('2021-01-20 00:00:00', freq='D')],\n [Timestamp('2021-01-20 00:00:00', freq='D'),\n  '대파(일반)',\n  '4102',\n  '4570',\n  '1534',\n  '키로단',\n  '29'],\n [Timestamp('2021-01-20 00:00:00', freq='D'),\n  '대파(일반)',\n  '3268',\n  '3444',\n  '1208',\n  '키로단',\n  '29'],\n [Timestamp('2021-01-20 00:00:00', freq='D'),\n  '대파(일반)',\n  '2689',\n  '3071',\n  '1034',\n  '키로단',\n  '29'],\n [Timestamp('2021-01-20 00:00:00', freq='D'),\n  '대파(일반)',\n  '1470',\n  '2134',\n  '809',\n  '키로단',\n  '29']]"
     },
     "metadata": {},
     "output_type": "display_data"
    },
    {
     "data": {
      "text/plain": "[[Timestamp('2021-01-21 00:00:00', freq='D')],\n [Timestamp('2021-01-21 00:00:00', freq='D'),\n  '대파(일반)',\n  '3736',\n  '4102',\n  '1660',\n  '키로단',\n  '29'],\n [Timestamp('2021-01-21 00:00:00', freq='D'),\n  '대파(일반)',\n  '3234',\n  '3268',\n  '1448',\n  '키로단',\n  '29'],\n [Timestamp('2021-01-21 00:00:00', freq='D'),\n  '대파(일반)',\n  '1998',\n  '2689',\n  '1050',\n  '키로단',\n  '29'],\n [Timestamp('2021-01-21 00:00:00', freq='D'),\n  '대파(일반)',\n  '1481',\n  '1470',\n  '838',\n  '키로단',\n  '29']]"
     },
     "metadata": {},
     "output_type": "display_data"
    },
    {
     "data": {
      "text/plain": "[[Timestamp('2021-01-22 00:00:00', freq='D')],\n [Timestamp('2021-01-22 00:00:00', freq='D'),\n  '대파(일반)',\n  '3674',\n  '3736',\n  '1664',\n  '키로단',\n  '29'],\n [Timestamp('2021-01-22 00:00:00', freq='D'),\n  '대파(일반)',\n  '3205',\n  '3234',\n  '1526',\n  '키로단',\n  '29'],\n [Timestamp('2021-01-22 00:00:00', freq='D'),\n  '대파(일반)',\n  '2567',\n  '1998',\n  '953',\n  '키로단',\n  '29'],\n [Timestamp('2021-01-22 00:00:00', freq='D'),\n  '대파(일반)',\n  '1499',\n  '1481',\n  '807',\n  '키로단',\n  '29']]"
     },
     "metadata": {},
     "output_type": "display_data"
    },
    {
     "data": {
      "text/plain": "[[Timestamp('2021-01-23 00:00:00', freq='D')],\n [Timestamp('2021-01-23 00:00:00', freq='D'),\n  '대파(일반)',\n  '3579',\n  '3674',\n  '1563',\n  '키로단',\n  '29'],\n [Timestamp('2021-01-23 00:00:00', freq='D'),\n  '대파(일반)',\n  '3202',\n  '3205',\n  '1117',\n  '키로단',\n  '29'],\n [Timestamp('2021-01-23 00:00:00', freq='D'),\n  '대파(일반)',\n  '2791',\n  '2567',\n  '836',\n  '키로단',\n  '29'],\n [Timestamp('2021-01-23 00:00:00', freq='D'),\n  '대파(일반)',\n  '2370',\n  '1499',\n  '769',\n  '키로단',\n  '29']]"
     },
     "metadata": {},
     "output_type": "display_data"
    },
    {
     "data": {
      "text/plain": "[[Timestamp('2021-01-24 00:00:00', freq='D')],\n [Timestamp('2021-01-24 00:00:00', freq='D'),\n  '대파(일반)',\n  '0',\n  '3579',\n  '0',\n  '키로단',\n  '29'],\n [Timestamp('2021-01-24 00:00:00', freq='D'),\n  '대파(일반)',\n  '0',\n  '3202',\n  '0',\n  '키로단',\n  '29'],\n [Timestamp('2021-01-24 00:00:00', freq='D'),\n  '대파(일반)',\n  '0',\n  '2791',\n  '0',\n  '키로단',\n  '29'],\n [Timestamp('2021-01-24 00:00:00', freq='D'),\n  '대파(일반)',\n  '0',\n  '2370',\n  '0',\n  '키로단',\n  '29']]"
     },
     "metadata": {},
     "output_type": "display_data"
    },
    {
     "data": {
      "text/plain": "[[Timestamp('2021-01-25 00:00:00', freq='D')],\n [Timestamp('2021-01-25 00:00:00', freq='D'),\n  '대파(일반)',\n  '5620',\n  '0',\n  '0',\n  '키로단',\n  '29'],\n [Timestamp('2021-01-25 00:00:00', freq='D'),\n  '대파(일반)',\n  '3484',\n  '0',\n  '0',\n  '키로단',\n  '29'],\n [Timestamp('2021-01-25 00:00:00', freq='D'),\n  '대파(일반)',\n  '2758',\n  '0',\n  '0',\n  '키로단',\n  '29'],\n [Timestamp('2021-01-25 00:00:00', freq='D'),\n  '대파(일반)',\n  '2363',\n  '0',\n  '0',\n  '키로단',\n  '29']]"
     },
     "metadata": {},
     "output_type": "display_data"
    },
    {
     "data": {
      "text/plain": "[[Timestamp('2021-01-26 00:00:00', freq='D')],\n [Timestamp('2021-01-26 00:00:00', freq='D'),\n  '대파(일반)',\n  '4872',\n  '5620',\n  '0',\n  '키로단',\n  '29'],\n [Timestamp('2021-01-26 00:00:00', freq='D'),\n  '대파(일반)',\n  '3395',\n  '3484',\n  '0',\n  '키로단',\n  '29'],\n [Timestamp('2021-01-26 00:00:00', freq='D'),\n  '대파(일반)',\n  '2827',\n  '2758',\n  '0',\n  '키로단',\n  '29'],\n [Timestamp('2021-01-26 00:00:00', freq='D'),\n  '대파(일반)',\n  '2290',\n  '2363',\n  '0',\n  '키로단',\n  '29']]"
     },
     "metadata": {},
     "output_type": "display_data"
    },
    {
     "data": {
      "text/plain": "[[Timestamp('2021-01-27 00:00:00', freq='D')],\n [Timestamp('2021-01-27 00:00:00', freq='D'),\n  '대파(일반)',\n  '4404',\n  '4872',\n  '1720',\n  '키로단',\n  '29'],\n [Timestamp('2021-01-27 00:00:00', freq='D'),\n  '대파(일반)',\n  '3411',\n  '3395',\n  '1162',\n  '키로단',\n  '29'],\n [Timestamp('2021-01-27 00:00:00', freq='D'),\n  '대파(일반)',\n  '3065',\n  '2827',\n  '972',\n  '키로단',\n  '29'],\n [Timestamp('2021-01-27 00:00:00', freq='D'),\n  '대파(일반)',\n  '2506',\n  '2290',\n  '757',\n  '키로단',\n  '29']]"
     },
     "metadata": {},
     "output_type": "display_data"
    },
    {
     "data": {
      "text/plain": "[[Timestamp('2021-01-28 00:00:00', freq='D')],\n [Timestamp('2021-01-28 00:00:00', freq='D'),\n  '대파(일반)',\n  '4455',\n  '4404',\n  '1616',\n  '키로단',\n  '29'],\n [Timestamp('2021-01-28 00:00:00', freq='D'),\n  '대파(일반)',\n  '3776',\n  '3411',\n  '1158',\n  '키로단',\n  '29'],\n [Timestamp('2021-01-28 00:00:00', freq='D'),\n  '대파(일반)',\n  '3167',\n  '3065',\n  '917',\n  '키로단',\n  '29'],\n [Timestamp('2021-01-28 00:00:00', freq='D'),\n  '대파(일반)',\n  '2658',\n  '2506',\n  '740',\n  '키로단',\n  '29']]"
     },
     "metadata": {},
     "output_type": "display_data"
    },
    {
     "data": {
      "text/plain": "[[Timestamp('2021-01-29 00:00:00', freq='D')],\n [Timestamp('2021-01-29 00:00:00', freq='D'),\n  '대파(일반)',\n  '4548',\n  '4455',\n  '1545',\n  '키로단',\n  '29'],\n [Timestamp('2021-01-29 00:00:00', freq='D'),\n  '대파(일반)',\n  '4137',\n  '3776',\n  '1158',\n  '키로단',\n  '29'],\n [Timestamp('2021-01-29 00:00:00', freq='D'),\n  '대파(일반)',\n  '3563',\n  '3167',\n  '1158',\n  '키로단',\n  '29'],\n [Timestamp('2021-01-29 00:00:00', freq='D'),\n  '대파(일반)',\n  '2752',\n  '2658',\n  '682',\n  '키로단',\n  '29']]"
     },
     "metadata": {},
     "output_type": "display_data"
    },
    {
     "data": {
      "text/plain": "[[Timestamp('2021-01-30 00:00:00', freq='D')],\n [Timestamp('2021-01-30 00:00:00', freq='D'),\n  '대파(일반)',\n  '4497',\n  '4548',\n  '1532',\n  '키로단',\n  '29'],\n [Timestamp('2021-01-30 00:00:00', freq='D'),\n  '대파(일반)',\n  '4213',\n  '4137',\n  '1158',\n  '키로단',\n  '29'],\n [Timestamp('2021-01-30 00:00:00', freq='D'),\n  '대파(일반)',\n  '3442',\n  '3563',\n  '1016',\n  '키로단',\n  '29'],\n [Timestamp('2021-01-30 00:00:00', freq='D'),\n  '대파(일반)',\n  '2749',\n  '2752',\n  '612',\n  '키로단',\n  '29']]"
     },
     "metadata": {},
     "output_type": "display_data"
    },
    {
     "data": {
      "text/plain": "[[Timestamp('2021-01-31 00:00:00', freq='D')],\n [Timestamp('2021-01-31 00:00:00', freq='D'),\n  '대파(일반)',\n  '0',\n  '4497',\n  '1406',\n  '키로단',\n  '29'],\n [Timestamp('2021-01-31 00:00:00', freq='D'),\n  '대파(일반)',\n  '0',\n  '4213',\n  '979',\n  '키로단',\n  '29'],\n [Timestamp('2021-01-31 00:00:00', freq='D'),\n  '대파(일반)',\n  '0',\n  '3442',\n  '721',\n  '키로단',\n  '29'],\n [Timestamp('2021-01-31 00:00:00', freq='D'),\n  '대파(일반)',\n  '0',\n  '2749',\n  '590',\n  '키로단',\n  '29']]"
     },
     "metadata": {},
     "output_type": "display_data"
    },
    {
     "data": {
      "text/plain": "[[Timestamp('2021-02-01 00:00:00', freq='D')],\n [Timestamp('2021-02-01 00:00:00', freq='D'),\n  '대파(일반)',\n  '4441',\n  '0',\n  '0',\n  '키로단',\n  '29'],\n [Timestamp('2021-02-01 00:00:00', freq='D'),\n  '대파(일반)',\n  '4171',\n  '0',\n  '0',\n  '키로단',\n  '29'],\n [Timestamp('2021-02-01 00:00:00', freq='D'),\n  '대파(일반)',\n  '3727',\n  '0',\n  '0',\n  '키로단',\n  '29'],\n [Timestamp('2021-02-01 00:00:00', freq='D'),\n  '대파(일반)',\n  '3468',\n  '0',\n  '0',\n  '키로단',\n  '29']]"
     },
     "metadata": {},
     "output_type": "display_data"
    },
    {
     "data": {
      "text/plain": "[[Timestamp('2021-02-02 00:00:00', freq='D')],\n [Timestamp('2021-02-02 00:00:00', freq='D'),\n  '대파(일반)',\n  '4659',\n  '4441',\n  '1733',\n  '키로단',\n  '29'],\n [Timestamp('2021-02-02 00:00:00', freq='D'),\n  '대파(일반)',\n  '4142',\n  '4171',\n  '1230',\n  '키로단',\n  '29'],\n [Timestamp('2021-02-02 00:00:00', freq='D'),\n  '대파(일반)',\n  '3669',\n  '3727',\n  '917',\n  '키로단',\n  '29'],\n [Timestamp('2021-02-02 00:00:00', freq='D'),\n  '대파(일반)',\n  '3192',\n  '3468',\n  '770',\n  '키로단',\n  '29']]"
     },
     "metadata": {},
     "output_type": "display_data"
    },
    {
     "data": {
      "text/plain": "[[Timestamp('2021-02-03 00:00:00', freq='D')],\n [Timestamp('2021-02-03 00:00:00', freq='D'),\n  '대파(일반)',\n  '4727',\n  '4659',\n  '1809',\n  '키로단',\n  '29'],\n [Timestamp('2021-02-03 00:00:00', freq='D'),\n  '대파(일반)',\n  '4300',\n  '4142',\n  '1359',\n  '키로단',\n  '29'],\n [Timestamp('2021-02-03 00:00:00', freq='D'),\n  '대파(일반)',\n  '3569',\n  '3669',\n  '1063',\n  '키로단',\n  '29'],\n [Timestamp('2021-02-03 00:00:00', freq='D'),\n  '대파(일반)',\n  '3204',\n  '3192',\n  '810',\n  '키로단',\n  '29']]"
     },
     "metadata": {},
     "output_type": "display_data"
    },
    {
     "data": {
      "text/plain": "[[Timestamp('2021-02-04 00:00:00', freq='D')],\n [Timestamp('2021-02-04 00:00:00', freq='D'),\n  '대파(일반)',\n  '4625',\n  '4727',\n  '1825',\n  '키로단',\n  '29'],\n [Timestamp('2021-02-04 00:00:00', freq='D'),\n  '대파(일반)',\n  '4300',\n  '4300',\n  '1394',\n  '키로단',\n  '29'],\n [Timestamp('2021-02-04 00:00:00', freq='D'),\n  '대파(일반)',\n  '3809',\n  '3569',\n  '1151',\n  '키로단',\n  '29'],\n [Timestamp('2021-02-04 00:00:00', freq='D'),\n  '대파(일반)',\n  '3269',\n  '3204',\n  '975',\n  '키로단',\n  '29']]"
     },
     "metadata": {},
     "output_type": "display_data"
    },
    {
     "data": {
      "text/plain": "[[Timestamp('2021-02-05 00:00:00', freq='D')],\n [Timestamp('2021-02-05 00:00:00', freq='D'),\n  '대파(일반)',\n  '4944',\n  '4625',\n  '1800',\n  '키로단',\n  '29'],\n [Timestamp('2021-02-05 00:00:00', freq='D'),\n  '대파(일반)',\n  '4263',\n  '4300',\n  '1431',\n  '키로단',\n  '29'],\n [Timestamp('2021-02-05 00:00:00', freq='D'),\n  '대파(일반)',\n  '3851',\n  '3809',\n  '1132',\n  '키로단',\n  '29'],\n [Timestamp('2021-02-05 00:00:00', freq='D'),\n  '대파(일반)',\n  '3599',\n  '3269',\n  '948',\n  '키로단',\n  '29']]"
     },
     "metadata": {},
     "output_type": "display_data"
    },
    {
     "data": {
      "text/plain": "[[Timestamp('2021-02-06 00:00:00', freq='D')],\n [Timestamp('2021-02-06 00:00:00', freq='D'),\n  '대파(일반)',\n  '5063',\n  '4944',\n  '1735',\n  '키로단',\n  '29'],\n [Timestamp('2021-02-06 00:00:00', freq='D'),\n  '대파(일반)',\n  '4059',\n  '4263',\n  '1275',\n  '키로단',\n  '29'],\n [Timestamp('2021-02-06 00:00:00', freq='D'),\n  '대파(일반)',\n  '3763',\n  '3851',\n  '1010',\n  '키로단',\n  '29'],\n [Timestamp('2021-02-06 00:00:00', freq='D'),\n  '대파(일반)',\n  '3668',\n  '3599',\n  '763',\n  '키로단',\n  '29']]"
     },
     "metadata": {},
     "output_type": "display_data"
    },
    {
     "data": {
      "text/plain": "[[Timestamp('2021-02-07 00:00:00', freq='D')],\n [Timestamp('2021-02-07 00:00:00', freq='D'),\n  '대파(일반)',\n  '0',\n  '5063',\n  '1563',\n  '키로단',\n  '29'],\n [Timestamp('2021-02-07 00:00:00', freq='D'),\n  '대파(일반)',\n  '0',\n  '4059',\n  '1184',\n  '키로단',\n  '29'],\n [Timestamp('2021-02-07 00:00:00', freq='D'),\n  '대파(일반)',\n  '0',\n  '3763',\n  '974',\n  '키로단',\n  '29'],\n [Timestamp('2021-02-07 00:00:00', freq='D'),\n  '대파(일반)',\n  '0',\n  '3668',\n  '749',\n  '키로단',\n  '29']]"
     },
     "metadata": {},
     "output_type": "display_data"
    },
    {
     "data": {
      "text/plain": "[[Timestamp('2021-02-08 00:00:00', freq='D')],\n [Timestamp('2021-02-08 00:00:00', freq='D'),\n  '대파(일반)',\n  '5300',\n  '0',\n  '0',\n  '키로단',\n  '29'],\n [Timestamp('2021-02-08 00:00:00', freq='D'),\n  '대파(일반)',\n  '4111',\n  '0',\n  '0',\n  '키로단',\n  '29'],\n [Timestamp('2021-02-08 00:00:00', freq='D'),\n  '대파(일반)',\n  '3811',\n  '0',\n  '0',\n  '키로단',\n  '29'],\n [Timestamp('2021-02-08 00:00:00', freq='D'),\n  '대파(일반)',\n  '3700',\n  '0',\n  '0',\n  '키로단',\n  '29']]"
     },
     "metadata": {},
     "output_type": "display_data"
    },
    {
     "data": {
      "text/plain": "[[Timestamp('2021-02-09 00:00:00', freq='D')],\n [Timestamp('2021-02-09 00:00:00', freq='D'),\n  '대파(일반)',\n  '5220',\n  '5300',\n  '1430',\n  '키로단',\n  '29'],\n [Timestamp('2021-02-09 00:00:00', freq='D'),\n  '대파(일반)',\n  '4302',\n  '4111',\n  '1232',\n  '키로단',\n  '29'],\n [Timestamp('2021-02-09 00:00:00', freq='D'),\n  '대파(일반)',\n  '3829',\n  '3811',\n  '898',\n  '키로단',\n  '29'],\n [Timestamp('2021-02-09 00:00:00', freq='D'),\n  '대파(일반)',\n  '3305',\n  '3700',\n  '719',\n  '키로단',\n  '29']]"
     },
     "metadata": {},
     "output_type": "display_data"
    },
    {
     "data": {
      "text/plain": "[[Timestamp('2021-02-10 00:00:00', freq='D')],\n [Timestamp('2021-02-10 00:00:00', freq='D'),\n  '대파(일반)',\n  '4924',\n  '5220',\n  '1418',\n  '키로단',\n  '29'],\n [Timestamp('2021-02-10 00:00:00', freq='D'),\n  '대파(일반)',\n  '4290',\n  '4302',\n  '1138',\n  '키로단',\n  '29'],\n [Timestamp('2021-02-10 00:00:00', freq='D'),\n  '대파(일반)',\n  '3834',\n  '3829',\n  '838',\n  '키로단',\n  '29'],\n [Timestamp('2021-02-10 00:00:00', freq='D'),\n  '대파(일반)',\n  '3380',\n  '3305',\n  '707',\n  '키로단',\n  '29']]"
     },
     "metadata": {},
     "output_type": "display_data"
    },
    {
     "data": {
      "text/plain": "[[Timestamp('2021-02-11 00:00:00', freq='D')],\n [Timestamp('2021-02-11 00:00:00', freq='D'),\n  '대파(일반)',\n  '4969',\n  '4924',\n  '1332',\n  '키로단',\n  '29'],\n [Timestamp('2021-02-11 00:00:00', freq='D'),\n  '대파(일반)',\n  '4114',\n  '4290',\n  '1188',\n  '키로단',\n  '29'],\n [Timestamp('2021-02-11 00:00:00', freq='D'),\n  '대파(일반)',\n  '3777',\n  '3834',\n  '917',\n  '키로단',\n  '29'],\n [Timestamp('2021-02-11 00:00:00', freq='D'),\n  '대파(일반)',\n  '3498',\n  '3380',\n  '746',\n  '키로단',\n  '29']]"
     },
     "metadata": {},
     "output_type": "display_data"
    },
    {
     "data": {
      "text/plain": "[[Timestamp('2021-02-12 00:00:00', freq='D')],\n [Timestamp('2021-02-12 00:00:00', freq='D'),\n  '대파(일반)',\n  '0',\n  '4969',\n  '1314',\n  '키로단',\n  '29'],\n [Timestamp('2021-02-12 00:00:00', freq='D'),\n  '대파(일반)',\n  '0',\n  '4114',\n  '1210',\n  '키로단',\n  '29'],\n [Timestamp('2021-02-12 00:00:00', freq='D'),\n  '대파(일반)',\n  '0',\n  '3777',\n  '956',\n  '키로단',\n  '29'],\n [Timestamp('2021-02-12 00:00:00', freq='D'),\n  '대파(일반)',\n  '0',\n  '3498',\n  '765',\n  '키로단',\n  '29']]"
     },
     "metadata": {},
     "output_type": "display_data"
    },
    {
     "data": {
      "text/plain": "[[Timestamp('2021-02-13 00:00:00', freq='D')],\n [Timestamp('2021-02-13 00:00:00', freq='D'),\n  '대파(일반)',\n  '0',\n  '0',\n  '1259',\n  '키로단',\n  '29'],\n [Timestamp('2021-02-13 00:00:00', freq='D'),\n  '대파(일반)',\n  '0',\n  '0',\n  '1076',\n  '키로단',\n  '29'],\n [Timestamp('2021-02-13 00:00:00', freq='D'),\n  '대파(일반)',\n  '0',\n  '0',\n  '842',\n  '키로단',\n  '29'],\n [Timestamp('2021-02-13 00:00:00', freq='D'),\n  '대파(일반)',\n  '0',\n  '0',\n  '683',\n  '키로단',\n  '29']]"
     },
     "metadata": {},
     "output_type": "display_data"
    },
    {
     "data": {
      "text/plain": "[[Timestamp('2021-02-14 00:00:00', freq='D')],\n [Timestamp('2021-02-14 00:00:00', freq='D'),\n  '대파(일반)',\n  '0',\n  '0',\n  '1341',\n  '키로단',\n  '29'],\n [Timestamp('2021-02-14 00:00:00', freq='D'),\n  '대파(일반)',\n  '0',\n  '0',\n  '1076',\n  '키로단',\n  '29'],\n [Timestamp('2021-02-14 00:00:00', freq='D'),\n  '대파(일반)',\n  '0',\n  '0',\n  '1066',\n  '키로단',\n  '29'],\n [Timestamp('2021-02-14 00:00:00', freq='D'),\n  '대파(일반)',\n  '0',\n  '0',\n  '703',\n  '키로단',\n  '29']]"
     },
     "metadata": {},
     "output_type": "display_data"
    },
    {
     "data": {
      "text/plain": "[[Timestamp('2021-02-15 00:00:00', freq='D')],\n [Timestamp('2021-02-15 00:00:00', freq='D'),\n  '대파(일반)',\n  '5153',\n  '0',\n  '0',\n  '키로단',\n  '29'],\n [Timestamp('2021-02-15 00:00:00', freq='D'),\n  '대파(일반)',\n  '4507',\n  '0',\n  '0',\n  '키로단',\n  '29'],\n [Timestamp('2021-02-15 00:00:00', freq='D'),\n  '대파(일반)',\n  '4083',\n  '0',\n  '0',\n  '키로단',\n  '29'],\n [Timestamp('2021-02-15 00:00:00', freq='D'),\n  '대파(일반)',\n  '3502',\n  '0',\n  '0',\n  '키로단',\n  '29']]"
     },
     "metadata": {},
     "output_type": "display_data"
    },
    {
     "data": {
      "text/plain": "[[Timestamp('2021-02-16 00:00:00', freq='D')],\n [Timestamp('2021-02-16 00:00:00', freq='D'),\n  '대파(일반)',\n  '5175',\n  '5153',\n  '1430',\n  '키로단',\n  '29'],\n [Timestamp('2021-02-16 00:00:00', freq='D'),\n  '대파(일반)',\n  '4538',\n  '4507',\n  '1102',\n  '키로단',\n  '29'],\n [Timestamp('2021-02-16 00:00:00', freq='D'),\n  '대파(일반)',\n  '4164',\n  '4083',\n  '933',\n  '키로단',\n  '29'],\n [Timestamp('2021-02-16 00:00:00', freq='D'),\n  '대파(일반)',\n  '3710',\n  '3502',\n  '679',\n  '키로단',\n  '29']]"
     },
     "metadata": {},
     "output_type": "display_data"
    },
    {
     "data": {
      "text/plain": "[[Timestamp('2021-02-17 00:00:00', freq='D')],\n [Timestamp('2021-02-17 00:00:00', freq='D'),\n  '대파(일반)',\n  '5060',\n  '5175',\n  '1407',\n  '키로단',\n  '29'],\n [Timestamp('2021-02-17 00:00:00', freq='D'),\n  '대파(일반)',\n  '4411',\n  '4538',\n  '1119',\n  '키로단',\n  '29'],\n [Timestamp('2021-02-17 00:00:00', freq='D'),\n  '대파(일반)',\n  '4276',\n  '4164',\n  '1064',\n  '키로단',\n  '29'],\n [Timestamp('2021-02-17 00:00:00', freq='D'),\n  '대파(일반)',\n  '4104',\n  '3710',\n  '778',\n  '키로단',\n  '29']]"
     },
     "metadata": {},
     "output_type": "display_data"
    },
    {
     "data": {
      "text/plain": "[[Timestamp('2021-02-18 00:00:00', freq='D')],\n [Timestamp('2021-02-18 00:00:00', freq='D'),\n  '대파(일반)',\n  '4735',\n  '5060',\n  '1618',\n  '키로단',\n  '29'],\n [Timestamp('2021-02-18 00:00:00', freq='D'),\n  '대파(일반)',\n  '4304',\n  '4411',\n  '1161',\n  '키로단',\n  '29'],\n [Timestamp('2021-02-18 00:00:00', freq='D'),\n  '대파(일반)',\n  '4200',\n  '4276',\n  '1092',\n  '키로단',\n  '29'],\n [Timestamp('2021-02-18 00:00:00', freq='D'),\n  '대파(일반)',\n  '3827',\n  '4104',\n  '855',\n  '키로단',\n  '29']]"
     },
     "metadata": {},
     "output_type": "display_data"
    },
    {
     "data": {
      "text/plain": "[[Timestamp('2021-02-19 00:00:00', freq='D')],\n [Timestamp('2021-02-19 00:00:00', freq='D'),\n  '대파(일반)',\n  '4948',\n  '4735',\n  '1729',\n  '키로단',\n  '29'],\n [Timestamp('2021-02-19 00:00:00', freq='D'),\n  '대파(일반)',\n  '4309',\n  '4304',\n  '1347',\n  '키로단',\n  '29'],\n [Timestamp('2021-02-19 00:00:00', freq='D'),\n  '대파(일반)',\n  '4005',\n  '4200',\n  '1032',\n  '키로단',\n  '29'],\n [Timestamp('2021-02-19 00:00:00', freq='D'),\n  '대파(일반)',\n  '3786',\n  '3827',\n  '744',\n  '키로단',\n  '29']]"
     },
     "metadata": {},
     "output_type": "display_data"
    },
    {
     "data": {
      "text/plain": "[[Timestamp('2021-02-20 00:00:00', freq='D')],\n [Timestamp('2021-02-20 00:00:00', freq='D'),\n  '대파(일반)',\n  '5493',\n  '4948',\n  '1647',\n  '키로단',\n  '29'],\n [Timestamp('2021-02-20 00:00:00', freq='D'),\n  '대파(일반)',\n  '4476',\n  '4309',\n  '1257',\n  '키로단',\n  '29'],\n [Timestamp('2021-02-20 00:00:00', freq='D'),\n  '대파(일반)',\n  '4035',\n  '4005',\n  '915',\n  '키로단',\n  '29'],\n [Timestamp('2021-02-20 00:00:00', freq='D'),\n  '대파(일반)',\n  '3756',\n  '3786',\n  '740',\n  '키로단',\n  '29']]"
     },
     "metadata": {},
     "output_type": "display_data"
    },
    {
     "data": {
      "text/plain": "[[Timestamp('2021-02-21 00:00:00', freq='D')],\n [Timestamp('2021-02-21 00:00:00', freq='D'),\n  '대파(일반)',\n  '0',\n  '5493',\n  '1436',\n  '키로단',\n  '29'],\n [Timestamp('2021-02-21 00:00:00', freq='D'),\n  '대파(일반)',\n  '0',\n  '4476',\n  '1257',\n  '키로단',\n  '29'],\n [Timestamp('2021-02-21 00:00:00', freq='D'),\n  '대파(일반)',\n  '0',\n  '4035',\n  '954',\n  '키로단',\n  '29'],\n [Timestamp('2021-02-21 00:00:00', freq='D'),\n  '대파(일반)',\n  '0',\n  '3756',\n  '786',\n  '키로단',\n  '29']]"
     },
     "metadata": {},
     "output_type": "display_data"
    },
    {
     "data": {
      "text/plain": "[[Timestamp('2021-02-22 00:00:00', freq='D')],\n [Timestamp('2021-02-22 00:00:00', freq='D'),\n  '대파(일반)',\n  '5753',\n  '0',\n  '0',\n  '키로단',\n  '29'],\n [Timestamp('2021-02-22 00:00:00', freq='D'),\n  '대파(일반)',\n  '5184',\n  '0',\n  '0',\n  '키로단',\n  '29'],\n [Timestamp('2021-02-22 00:00:00', freq='D'),\n  '대파(일반)',\n  '4886',\n  '0',\n  '0',\n  '키로단',\n  '29'],\n [Timestamp('2021-02-22 00:00:00', freq='D'),\n  '대파(일반)',\n  '4060',\n  '0',\n  '0',\n  '키로단',\n  '29']]"
     },
     "metadata": {},
     "output_type": "display_data"
    },
    {
     "data": {
      "text/plain": "[[Timestamp('2021-02-23 00:00:00', freq='D')],\n [Timestamp('2021-02-23 00:00:00', freq='D'),\n  '대파(일반)',\n  '6465',\n  '5753',\n  '1276',\n  '키로단',\n  '29'],\n [Timestamp('2021-02-23 00:00:00', freq='D'),\n  '대파(일반)',\n  '5328',\n  '5184',\n  '1105',\n  '키로단',\n  '29'],\n [Timestamp('2021-02-23 00:00:00', freq='D'),\n  '대파(일반)',\n  '4993',\n  '4886',\n  '871',\n  '키로단',\n  '29'],\n [Timestamp('2021-02-23 00:00:00', freq='D'),\n  '대파(일반)',\n  '4144',\n  '4060',\n  '800',\n  '키로단',\n  '29']]"
     },
     "metadata": {},
     "output_type": "display_data"
    },
    {
     "data": {
      "text/plain": "[[Timestamp('2021-02-24 00:00:00', freq='D')],\n [Timestamp('2021-02-24 00:00:00', freq='D'),\n  '대파(일반)',\n  '6458',\n  '6465',\n  '1355',\n  '키로단',\n  '29'],\n [Timestamp('2021-02-24 00:00:00', freq='D'),\n  '대파(일반)',\n  '5530',\n  '5328',\n  '1289',\n  '키로단',\n  '29'],\n [Timestamp('2021-02-24 00:00:00', freq='D'),\n  '대파(일반)',\n  '5130',\n  '4993',\n  '1065',\n  '키로단',\n  '29'],\n [Timestamp('2021-02-24 00:00:00', freq='D'),\n  '대파(일반)',\n  '4550',\n  '4144',\n  '804',\n  '키로단',\n  '29']]"
     },
     "metadata": {},
     "output_type": "display_data"
    },
    {
     "data": {
      "text/plain": "[[Timestamp('2021-02-25 00:00:00', freq='D')],\n [Timestamp('2021-02-25 00:00:00', freq='D'),\n  '대파(일반)',\n  '6178',\n  '6458',\n  '1384',\n  '키로단',\n  '29'],\n [Timestamp('2021-02-25 00:00:00', freq='D'),\n  '대파(일반)',\n  '5568',\n  '5530',\n  '1102',\n  '키로단',\n  '29'],\n [Timestamp('2021-02-25 00:00:00', freq='D'),\n  '대파(일반)',\n  '5231',\n  '5130',\n  '1027',\n  '키로단',\n  '29'],\n [Timestamp('2021-02-25 00:00:00', freq='D'),\n  '대파(일반)',\n  '4929',\n  '4550',\n  '775',\n  '키로단',\n  '29']]"
     },
     "metadata": {},
     "output_type": "display_data"
    },
    {
     "data": {
      "text/plain": "[[Timestamp('2021-02-26 00:00:00', freq='D')],\n [Timestamp('2021-02-26 00:00:00', freq='D'),\n  '대파(일반)',\n  '6211',\n  '6178',\n  '1442',\n  '키로단',\n  '29'],\n [Timestamp('2021-02-26 00:00:00', freq='D'),\n  '대파(일반)',\n  '5672',\n  '5568',\n  '1102',\n  '키로단',\n  '29'],\n [Timestamp('2021-02-26 00:00:00', freq='D'),\n  '대파(일반)',\n  '5164',\n  '5231',\n  '1125',\n  '키로단',\n  '29'],\n [Timestamp('2021-02-26 00:00:00', freq='D'),\n  '대파(일반)',\n  '4735',\n  '4929',\n  '849',\n  '키로단',\n  '29']]"
     },
     "metadata": {},
     "output_type": "display_data"
    },
    {
     "data": {
      "text/plain": "[[Timestamp('2021-02-27 00:00:00', freq='D')],\n [Timestamp('2021-02-27 00:00:00', freq='D'),\n  '대파(일반)',\n  '6215',\n  '6211',\n  '1427',\n  '키로단',\n  '29'],\n [Timestamp('2021-02-27 00:00:00', freq='D'),\n  '대파(일반)',\n  '5779',\n  '5672',\n  '1375',\n  '키로단',\n  '29'],\n [Timestamp('2021-02-27 00:00:00', freq='D'),\n  '대파(일반)',\n  '5254',\n  '5164',\n  '1177',\n  '키로단',\n  '29'],\n [Timestamp('2021-02-27 00:00:00', freq='D'),\n  '대파(일반)',\n  '4683',\n  '4735',\n  '928',\n  '키로단',\n  '29']]"
     },
     "metadata": {},
     "output_type": "display_data"
    },
    {
     "data": {
      "text/plain": "[[Timestamp('2021-02-28 00:00:00', freq='D')],\n [Timestamp('2021-02-28 00:00:00', freq='D'),\n  '대파(일반)',\n  '0',\n  '6215',\n  '2157',\n  '키로단',\n  '29'],\n [Timestamp('2021-02-28 00:00:00', freq='D'),\n  '대파(일반)',\n  '0',\n  '5779',\n  '1300',\n  '키로단',\n  '29'],\n [Timestamp('2021-02-28 00:00:00', freq='D'),\n  '대파(일반)',\n  '0',\n  '5254',\n  '1103',\n  '키로단',\n  '29'],\n [Timestamp('2021-02-28 00:00:00', freq='D'),\n  '대파(일반)',\n  '0',\n  '4683',\n  '828',\n  '키로단',\n  '29']]"
     },
     "metadata": {},
     "output_type": "display_data"
    },
    {
     "data": {
      "text/plain": "[[Timestamp('2021-03-01 00:00:00', freq='D')],\n [Timestamp('2021-03-01 00:00:00', freq='D'),\n  '대파(일반)',\n  '5500',\n  '0',\n  '0',\n  '키로단',\n  '29'],\n [Timestamp('2021-03-01 00:00:00', freq='D'),\n  '대파(일반)',\n  '5450',\n  '0',\n  '0',\n  '키로단',\n  '29'],\n [Timestamp('2021-03-01 00:00:00', freq='D'),\n  '대파(일반)',\n  '4833',\n  '0',\n  '0',\n  '키로단',\n  '29'],\n [Timestamp('2021-03-01 00:00:00', freq='D'),\n  '대파(일반)',\n  '4800',\n  '0',\n  '0',\n  '키로단',\n  '29']]"
     },
     "metadata": {},
     "output_type": "display_data"
    },
    {
     "data": {
      "text/plain": "[[Timestamp('2021-03-02 00:00:00', freq='D')],\n [Timestamp('2021-03-02 00:00:00', freq='D'),\n  '대파(일반)',\n  '6655',\n  '5500',\n  '1376',\n  '키로단',\n  '29'],\n [Timestamp('2021-03-02 00:00:00', freq='D'),\n  '대파(일반)',\n  '5788',\n  '5450',\n  '1146',\n  '키로단',\n  '29'],\n [Timestamp('2021-03-02 00:00:00', freq='D'),\n  '대파(일반)',\n  '5039',\n  '4833',\n  '941',\n  '키로단',\n  '29'],\n [Timestamp('2021-03-02 00:00:00', freq='D'),\n  '대파(일반)',\n  '4540',\n  '4800',\n  '818',\n  '키로단',\n  '29']]"
     },
     "metadata": {},
     "output_type": "display_data"
    },
    {
     "data": {
      "text/plain": "[[Timestamp('2021-03-03 00:00:00', freq='D')],\n [Timestamp('2021-03-03 00:00:00', freq='D'),\n  '대파(일반)',\n  '6675',\n  '6655',\n  '1417',\n  '키로단',\n  '29'],\n [Timestamp('2021-03-03 00:00:00', freq='D'),\n  '대파(일반)',\n  '5719',\n  '5788',\n  '1203',\n  '키로단',\n  '29'],\n [Timestamp('2021-03-03 00:00:00', freq='D'),\n  '대파(일반)',\n  '5036',\n  '5039',\n  '936',\n  '키로단',\n  '29'],\n [Timestamp('2021-03-03 00:00:00', freq='D'),\n  '대파(일반)',\n  '4564',\n  '4540',\n  '795',\n  '키로단',\n  '29']]"
     },
     "metadata": {},
     "output_type": "display_data"
    },
    {
     "data": {
      "text/plain": "[[Timestamp('2021-03-04 00:00:00', freq='D')],\n [Timestamp('2021-03-04 00:00:00', freq='D'),\n  '대파(일반)',\n  '6194',\n  '6675',\n  '1364',\n  '키로단',\n  '29'],\n [Timestamp('2021-03-04 00:00:00', freq='D'),\n  '대파(일반)',\n  '5398',\n  '5719',\n  '1124',\n  '키로단',\n  '29'],\n [Timestamp('2021-03-04 00:00:00', freq='D'),\n  '대파(일반)',\n  '4762',\n  '5036',\n  '1021',\n  '키로단',\n  '29'],\n [Timestamp('2021-03-04 00:00:00', freq='D'),\n  '대파(일반)',\n  '3900',\n  '4564',\n  '772',\n  '키로단',\n  '29']]"
     },
     "metadata": {},
     "output_type": "display_data"
    },
    {
     "data": {
      "text/plain": "[[Timestamp('2021-03-05 00:00:00', freq='D')],\n [Timestamp('2021-03-05 00:00:00', freq='D'),\n  '대파(일반)',\n  '6004',\n  '6194',\n  '1252',\n  '키로단',\n  '29'],\n [Timestamp('2021-03-05 00:00:00', freq='D'),\n  '대파(일반)',\n  '5366',\n  '5398',\n  '1166',\n  '키로단',\n  '29'],\n [Timestamp('2021-03-05 00:00:00', freq='D'),\n  '대파(일반)',\n  '4744',\n  '4762',\n  '1070',\n  '키로단',\n  '29'],\n [Timestamp('2021-03-05 00:00:00', freq='D'),\n  '대파(일반)',\n  '3900',\n  '3900',\n  '794',\n  '키로단',\n  '29']]"
     },
     "metadata": {},
     "output_type": "display_data"
    },
    {
     "data": {
      "text/plain": "[[Timestamp('2021-03-06 00:00:00', freq='D')],\n [Timestamp('2021-03-06 00:00:00', freq='D'),\n  '대파(일반)',\n  '6104',\n  '6004',\n  '1277',\n  '키로단',\n  '29'],\n [Timestamp('2021-03-06 00:00:00', freq='D'),\n  '대파(일반)',\n  '5437',\n  '5366',\n  '1200',\n  '키로단',\n  '29'],\n [Timestamp('2021-03-06 00:00:00', freq='D'),\n  '대파(일반)',\n  '4583',\n  '4744',\n  '1067',\n  '키로단',\n  '29'],\n [Timestamp('2021-03-06 00:00:00', freq='D'),\n  '대파(일반)',\n  '4200',\n  '3900',\n  '813',\n  '키로단',\n  '29']]"
     },
     "metadata": {},
     "output_type": "display_data"
    },
    {
     "data": {
      "text/plain": "[[Timestamp('2021-03-07 00:00:00', freq='D')],\n [Timestamp('2021-03-07 00:00:00', freq='D'),\n  '대파(일반)',\n  '0',\n  '6104',\n  '1230',\n  '키로단',\n  '29'],\n [Timestamp('2021-03-07 00:00:00', freq='D'),\n  '대파(일반)',\n  '0',\n  '5437',\n  '1115',\n  '키로단',\n  '29'],\n [Timestamp('2021-03-07 00:00:00', freq='D'),\n  '대파(일반)',\n  '0',\n  '4583',\n  '967',\n  '키로단',\n  '29'],\n [Timestamp('2021-03-07 00:00:00', freq='D'),\n  '대파(일반)',\n  '0',\n  '4200',\n  '788',\n  '키로단',\n  '29']]"
     },
     "metadata": {},
     "output_type": "display_data"
    },
    {
     "data": {
      "text/plain": "[[Timestamp('2021-03-08 00:00:00', freq='D')],\n [Timestamp('2021-03-08 00:00:00', freq='D'),\n  '대파(일반)',\n  '5959',\n  '0',\n  '0',\n  '키로단',\n  '29'],\n [Timestamp('2021-03-08 00:00:00', freq='D'),\n  '대파(일반)',\n  '4851',\n  '0',\n  '0',\n  '키로단',\n  '29'],\n [Timestamp('2021-03-08 00:00:00', freq='D'),\n  '대파(일반)',\n  '4450',\n  '0',\n  '0',\n  '키로단',\n  '29'],\n [Timestamp('2021-03-08 00:00:00', freq='D'),\n  '대파(일반)',\n  '4371',\n  '0',\n  '0',\n  '키로단',\n  '29']]"
     },
     "metadata": {},
     "output_type": "display_data"
    },
    {
     "data": {
      "text/plain": "[[Timestamp('2021-03-09 00:00:00', freq='D')],\n [Timestamp('2021-03-09 00:00:00', freq='D'),\n  '대파(일반)',\n  '6339',\n  '5959',\n  '1229',\n  '키로단',\n  '29'],\n [Timestamp('2021-03-09 00:00:00', freq='D'),\n  '대파(일반)',\n  '4918',\n  '4851',\n  '1073',\n  '키로단',\n  '29'],\n [Timestamp('2021-03-09 00:00:00', freq='D'),\n  '대파(일반)',\n  '4534',\n  '4450',\n  '830',\n  '키로단',\n  '29'],\n [Timestamp('2021-03-09 00:00:00', freq='D'),\n  '대파(일반)',\n  '4251',\n  '4371',\n  '765',\n  '키로단',\n  '29']]"
     },
     "metadata": {},
     "output_type": "display_data"
    },
    {
     "data": {
      "text/plain": "[[Timestamp('2021-03-10 00:00:00', freq='D')],\n [Timestamp('2021-03-10 00:00:00', freq='D'),\n  '대파(일반)',\n  '6380',\n  '6339',\n  '1219',\n  '키로단',\n  '29'],\n [Timestamp('2021-03-10 00:00:00', freq='D'),\n  '대파(일반)',\n  '5141',\n  '4918',\n  '1200',\n  '키로단',\n  '29'],\n [Timestamp('2021-03-10 00:00:00', freq='D'),\n  '대파(일반)',\n  '4608',\n  '4534',\n  '927',\n  '키로단',\n  '29'],\n [Timestamp('2021-03-10 00:00:00', freq='D'),\n  '대파(일반)',\n  '4191',\n  '4251',\n  '775',\n  '키로단',\n  '29']]"
     },
     "metadata": {},
     "output_type": "display_data"
    },
    {
     "data": {
      "text/plain": "[[Timestamp('2021-03-11 00:00:00', freq='D')],\n [Timestamp('2021-03-11 00:00:00', freq='D'),\n  '대파(일반)',\n  '5514',\n  '6380',\n  '1284',\n  '키로단',\n  '29'],\n [Timestamp('2021-03-11 00:00:00', freq='D'),\n  '대파(일반)',\n  '4875',\n  '5141',\n  '1179',\n  '키로단',\n  '29'],\n [Timestamp('2021-03-11 00:00:00', freq='D'),\n  '대파(일반)',\n  '4231',\n  '4608',\n  '1004',\n  '키로단',\n  '29'],\n [Timestamp('2021-03-11 00:00:00', freq='D'),\n  '대파(일반)',\n  '3807',\n  '4191',\n  '779',\n  '키로단',\n  '29']]"
     },
     "metadata": {},
     "output_type": "display_data"
    },
    {
     "data": {
      "text/plain": "[[Timestamp('2021-03-12 00:00:00', freq='D')],\n [Timestamp('2021-03-12 00:00:00', freq='D'),\n  '대파(일반)',\n  '5486',\n  '5514',\n  '1318',\n  '키로단',\n  '29'],\n [Timestamp('2021-03-12 00:00:00', freq='D'),\n  '대파(일반)',\n  '4409',\n  '4875',\n  '1099',\n  '키로단',\n  '29'],\n [Timestamp('2021-03-12 00:00:00', freq='D'),\n  '대파(일반)',\n  '4300',\n  '4231',\n  '1014',\n  '키로단',\n  '29'],\n [Timestamp('2021-03-12 00:00:00', freq='D'),\n  '대파(일반)',\n  '4132',\n  '3807',\n  '741',\n  '키로단',\n  '29']]"
     },
     "metadata": {},
     "output_type": "display_data"
    },
    {
     "data": {
      "text/plain": "[[Timestamp('2021-03-13 00:00:00', freq='D')],\n [Timestamp('2021-03-13 00:00:00', freq='D'),\n  '대파(일반)',\n  '5618',\n  '5486',\n  '1221',\n  '키로단',\n  '29'],\n [Timestamp('2021-03-13 00:00:00', freq='D'),\n  '대파(일반)',\n  '4826',\n  '4409',\n  '1184',\n  '키로단',\n  '29'],\n [Timestamp('2021-03-13 00:00:00', freq='D'),\n  '대파(일반)',\n  '4369',\n  '4300',\n  '1033',\n  '키로단',\n  '29'],\n [Timestamp('2021-03-13 00:00:00', freq='D'),\n  '대파(일반)',\n  '4235',\n  '4132',\n  '743',\n  '키로단',\n  '29']]"
     },
     "metadata": {},
     "output_type": "display_data"
    },
    {
     "data": {
      "text/plain": "[[Timestamp('2021-03-14 00:00:00', freq='D')],\n [Timestamp('2021-03-14 00:00:00', freq='D'),\n  '대파(일반)',\n  '0',\n  '5618',\n  '1239',\n  '키로단',\n  '29'],\n [Timestamp('2021-03-14 00:00:00', freq='D'),\n  '대파(일반)',\n  '0',\n  '4826',\n  '1191',\n  '키로단',\n  '29'],\n [Timestamp('2021-03-14 00:00:00', freq='D'),\n  '대파(일반)',\n  '0',\n  '4369',\n  '1056',\n  '키로단',\n  '29'],\n [Timestamp('2021-03-14 00:00:00', freq='D'),\n  '대파(일반)',\n  '0',\n  '4235',\n  '758',\n  '키로단',\n  '29']]"
     },
     "metadata": {},
     "output_type": "display_data"
    },
    {
     "data": {
      "text/plain": "[[Timestamp('2021-03-15 00:00:00', freq='D')],\n [Timestamp('2021-03-15 00:00:00', freq='D'),\n  '대파(일반)',\n  '5718',\n  '0',\n  '0',\n  '키로단',\n  '29'],\n [Timestamp('2021-03-15 00:00:00', freq='D'),\n  '대파(일반)',\n  '4528',\n  '0',\n  '0',\n  '키로단',\n  '29'],\n [Timestamp('2021-03-15 00:00:00', freq='D'),\n  '대파(일반)',\n  '4081',\n  '0',\n  '0',\n  '키로단',\n  '29'],\n [Timestamp('2021-03-15 00:00:00', freq='D'),\n  '대파(일반)',\n  '3879',\n  '0',\n  '0',\n  '키로단',\n  '29']]"
     },
     "metadata": {},
     "output_type": "display_data"
    },
    {
     "data": {
      "text/plain": "[[Timestamp('2021-03-16 00:00:00', freq='D')],\n [Timestamp('2021-03-16 00:00:00', freq='D'),\n  '대파(일반)',\n  '5941',\n  '5718',\n  '1223',\n  '키로단',\n  '29'],\n [Timestamp('2021-03-16 00:00:00', freq='D'),\n  '대파(일반)',\n  '5246',\n  '4528',\n  '927',\n  '키로단',\n  '29'],\n [Timestamp('2021-03-16 00:00:00', freq='D'),\n  '대파(일반)',\n  '4204',\n  '4081',\n  '814',\n  '키로단',\n  '29'],\n [Timestamp('2021-03-16 00:00:00', freq='D'),\n  '대파(일반)',\n  '3918',\n  '3879',\n  '689',\n  '키로단',\n  '29']]"
     },
     "metadata": {},
     "output_type": "display_data"
    },
    {
     "data": {
      "text/plain": "[[Timestamp('2021-03-17 00:00:00', freq='D')],\n [Timestamp('2021-03-17 00:00:00', freq='D'),\n  '대파(일반)',\n  '5724',\n  '5941',\n  '1202',\n  '키로단',\n  '29'],\n [Timestamp('2021-03-17 00:00:00', freq='D'),\n  '대파(일반)',\n  '5011',\n  '5246',\n  '975',\n  '키로단',\n  '29'],\n [Timestamp('2021-03-17 00:00:00', freq='D'),\n  '대파(일반)',\n  '4635',\n  '4204',\n  '846',\n  '키로단',\n  '29'],\n [Timestamp('2021-03-17 00:00:00', freq='D'),\n  '대파(일반)',\n  '3870',\n  '3918',\n  '696',\n  '키로단',\n  '29']]"
     },
     "metadata": {},
     "output_type": "display_data"
    },
    {
     "data": {
      "text/plain": "[[Timestamp('2021-03-18 00:00:00', freq='D')],\n [Timestamp('2021-03-18 00:00:00', freq='D'),\n  '대파(일반)',\n  '5247',\n  '5724',\n  '1157',\n  '키로단',\n  '29'],\n [Timestamp('2021-03-18 00:00:00', freq='D'),\n  '대파(일반)',\n  '5011',\n  '5011',\n  '969',\n  '키로단',\n  '29'],\n [Timestamp('2021-03-18 00:00:00', freq='D'),\n  '대파(일반)',\n  '4570',\n  '4635',\n  '893',\n  '키로단',\n  '29'],\n [Timestamp('2021-03-18 00:00:00', freq='D'),\n  '대파(일반)',\n  '3918',\n  '3870',\n  '693',\n  '키로단',\n  '29']]"
     },
     "metadata": {},
     "output_type": "display_data"
    },
    {
     "data": {
      "text/plain": "[[Timestamp('2021-03-19 00:00:00', freq='D')],\n [Timestamp('2021-03-19 00:00:00', freq='D'),\n  '대파(일반)',\n  '4952',\n  '5247',\n  '1231',\n  '키로단',\n  '29'],\n [Timestamp('2021-03-19 00:00:00', freq='D'),\n  '대파(일반)',\n  '4678',\n  '5011',\n  '969',\n  '키로단',\n  '29'],\n [Timestamp('2021-03-19 00:00:00', freq='D'),\n  '대파(일반)',\n  '4300',\n  '4570',\n  '955',\n  '키로단',\n  '29'],\n [Timestamp('2021-03-19 00:00:00', freq='D'),\n  '대파(일반)',\n  '4006',\n  '3918',\n  '699',\n  '키로단',\n  '29']]"
     },
     "metadata": {},
     "output_type": "display_data"
    },
    {
     "data": {
      "text/plain": "[[Timestamp('2021-03-20 00:00:00', freq='D')],\n [Timestamp('2021-03-20 00:00:00', freq='D'),\n  '대파(일반)',\n  '4972',\n  '4952',\n  '1446',\n  '키로단',\n  '29'],\n [Timestamp('2021-03-20 00:00:00', freq='D'),\n  '대파(일반)',\n  '4775',\n  '4678',\n  '969',\n  '키로단',\n  '29'],\n [Timestamp('2021-03-20 00:00:00', freq='D'),\n  '대파(일반)',\n  '4360',\n  '4300',\n  '974',\n  '키로단',\n  '29'],\n [Timestamp('2021-03-20 00:00:00', freq='D'),\n  '대파(일반)',\n  '4183',\n  '4006',\n  '721',\n  '키로단',\n  '29']]"
     },
     "metadata": {},
     "output_type": "display_data"
    },
    {
     "data": {
      "text/plain": "[[Timestamp('2021-03-21 00:00:00', freq='D')],\n [Timestamp('2021-03-21 00:00:00', freq='D'),\n  '대파(일반)',\n  '0',\n  '4972',\n  '1522',\n  '키로단',\n  '29'],\n [Timestamp('2021-03-21 00:00:00', freq='D'),\n  '대파(일반)',\n  '0',\n  '4775',\n  '969',\n  '키로단',\n  '29'],\n [Timestamp('2021-03-21 00:00:00', freq='D'),\n  '대파(일반)',\n  '0',\n  '4360',\n  '1126',\n  '키로단',\n  '29'],\n [Timestamp('2021-03-21 00:00:00', freq='D'),\n  '대파(일반)',\n  '0',\n  '4183',\n  '803',\n  '키로단',\n  '29']]"
     },
     "metadata": {},
     "output_type": "display_data"
    },
    {
     "data": {
      "text/plain": "[[Timestamp('2021-03-22 00:00:00', freq='D')],\n [Timestamp('2021-03-22 00:00:00', freq='D'),\n  '대파(일반)',\n  '5036',\n  '0',\n  '0',\n  '키로단',\n  '29'],\n [Timestamp('2021-03-22 00:00:00', freq='D'),\n  '대파(일반)',\n  '4509',\n  '0',\n  '0',\n  '키로단',\n  '29'],\n [Timestamp('2021-03-22 00:00:00', freq='D'),\n  '대파(일반)',\n  '4316',\n  '0',\n  '0',\n  '키로단',\n  '29'],\n [Timestamp('2021-03-22 00:00:00', freq='D'),\n  '대파(일반)',\n  '3976',\n  '0',\n  '0',\n  '키로단',\n  '29']]"
     },
     "metadata": {},
     "output_type": "display_data"
    },
    {
     "data": {
      "text/plain": "[[Timestamp('2021-03-23 00:00:00', freq='D')],\n [Timestamp('2021-03-23 00:00:00', freq='D'),\n  '대파(일반)',\n  '5625',\n  '5036',\n  '1130',\n  '키로단',\n  '29'],\n [Timestamp('2021-03-23 00:00:00', freq='D'),\n  '대파(일반)',\n  '4914',\n  '4509',\n  '995',\n  '키로단',\n  '29'],\n [Timestamp('2021-03-23 00:00:00', freq='D'),\n  '대파(일반)',\n  '4474',\n  '4316',\n  '761',\n  '키로단',\n  '29'],\n [Timestamp('2021-03-23 00:00:00', freq='D'),\n  '대파(일반)',\n  '4065',\n  '3976',\n  '655',\n  '키로단',\n  '29']]"
     },
     "metadata": {},
     "output_type": "display_data"
    },
    {
     "data": {
      "text/plain": "[[Timestamp('2021-03-24 00:00:00', freq='D')],\n [Timestamp('2021-03-24 00:00:00', freq='D'),\n  '대파(일반)',\n  '5617',\n  '5625',\n  '1311',\n  '키로단',\n  '29'],\n [Timestamp('2021-03-24 00:00:00', freq='D'),\n  '대파(일반)',\n  '4871',\n  '4914',\n  '1113',\n  '키로단',\n  '29'],\n [Timestamp('2021-03-24 00:00:00', freq='D'),\n  '대파(일반)',\n  '4382',\n  '4474',\n  '910',\n  '키로단',\n  '29'],\n [Timestamp('2021-03-24 00:00:00', freq='D'),\n  '대파(일반)',\n  '4222',\n  '4065',\n  '686',\n  '키로단',\n  '29']]"
     },
     "metadata": {},
     "output_type": "display_data"
    },
    {
     "data": {
      "text/plain": "[[Timestamp('2021-03-25 00:00:00', freq='D')],\n [Timestamp('2021-03-25 00:00:00', freq='D'),\n  '대파(일반)',\n  '5191',\n  '5617',\n  '1385',\n  '키로단',\n  '29'],\n [Timestamp('2021-03-25 00:00:00', freq='D'),\n  '대파(일반)',\n  '4388',\n  '4871',\n  '1117',\n  '키로단',\n  '29'],\n [Timestamp('2021-03-25 00:00:00', freq='D'),\n  '대파(일반)',\n  '4279',\n  '4382',\n  '1015',\n  '키로단',\n  '29'],\n [Timestamp('2021-03-25 00:00:00', freq='D'),\n  '대파(일반)',\n  '3998',\n  '4222',\n  '695',\n  '키로단',\n  '29']]"
     },
     "metadata": {},
     "output_type": "display_data"
    },
    {
     "data": {
      "text/plain": "[[Timestamp('2021-03-26 00:00:00', freq='D')],\n [Timestamp('2021-03-26 00:00:00', freq='D'),\n  '대파(일반)',\n  '5197',\n  '5191',\n  '1194',\n  '키로단',\n  '29'],\n [Timestamp('2021-03-26 00:00:00', freq='D'),\n  '대파(일반)',\n  '4407',\n  '4388',\n  '1032',\n  '키로단',\n  '29'],\n [Timestamp('2021-03-26 00:00:00', freq='D'),\n  '대파(일반)',\n  '4180',\n  '4279',\n  '863',\n  '키로단',\n  '29'],\n [Timestamp('2021-03-26 00:00:00', freq='D'),\n  '대파(일반)',\n  '3925',\n  '3998',\n  '681',\n  '키로단',\n  '29']]"
     },
     "metadata": {},
     "output_type": "display_data"
    },
    {
     "data": {
      "text/plain": "[[Timestamp('2021-03-27 00:00:00', freq='D')],\n [Timestamp('2021-03-27 00:00:00', freq='D'),\n  '대파(일반)',\n  '5245',\n  '5197',\n  '1261',\n  '키로단',\n  '29'],\n [Timestamp('2021-03-27 00:00:00', freq='D'),\n  '대파(일반)',\n  '4520',\n  '4407',\n  '907',\n  '키로단',\n  '29'],\n [Timestamp('2021-03-27 00:00:00', freq='D'),\n  '대파(일반)',\n  '4029',\n  '4180',\n  '831',\n  '키로단',\n  '29'],\n [Timestamp('2021-03-27 00:00:00', freq='D'),\n  '대파(일반)',\n  '3903',\n  '3925',\n  '690',\n  '키로단',\n  '29']]"
     },
     "metadata": {},
     "output_type": "display_data"
    },
    {
     "data": {
      "text/plain": "[[Timestamp('2021-03-28 00:00:00', freq='D')],\n [Timestamp('2021-03-28 00:00:00', freq='D'),\n  '대파(일반)',\n  '0',\n  '5245',\n  '1699',\n  '키로단',\n  '29'],\n [Timestamp('2021-03-28 00:00:00', freq='D'),\n  '대파(일반)',\n  '0',\n  '4520',\n  '1018',\n  '키로단',\n  '29'],\n [Timestamp('2021-03-28 00:00:00', freq='D'),\n  '대파(일반)',\n  '0',\n  '4029',\n  '809',\n  '키로단',\n  '29'],\n [Timestamp('2021-03-28 00:00:00', freq='D'),\n  '대파(일반)',\n  '0',\n  '3903',\n  '694',\n  '키로단',\n  '29']]"
     },
     "metadata": {},
     "output_type": "display_data"
    },
    {
     "data": {
      "text/plain": "[[Timestamp('2021-03-29 00:00:00', freq='D')],\n [Timestamp('2021-03-29 00:00:00', freq='D'),\n  '대파(일반)',\n  '4724',\n  '0',\n  '0',\n  '키로단',\n  '29'],\n [Timestamp('2021-03-29 00:00:00', freq='D'),\n  '대파(일반)',\n  '4239',\n  '0',\n  '0',\n  '키로단',\n  '29'],\n [Timestamp('2021-03-29 00:00:00', freq='D'),\n  '대파(일반)',\n  '4067',\n  '0',\n  '0',\n  '키로단',\n  '29'],\n [Timestamp('2021-03-29 00:00:00', freq='D'),\n  '대파(일반)',\n  '3848',\n  '0',\n  '0',\n  '키로단',\n  '29']]"
     },
     "metadata": {},
     "output_type": "display_data"
    },
    {
     "data": {
      "text/plain": "[[Timestamp('2021-03-30 00:00:00', freq='D')],\n [Timestamp('2021-03-30 00:00:00', freq='D'),\n  '대파(일반)',\n  '5043',\n  '4724',\n  '1234',\n  '키로단',\n  '29'],\n [Timestamp('2021-03-30 00:00:00', freq='D'),\n  '대파(일반)',\n  '4466',\n  '4239',\n  '966',\n  '키로단',\n  '29'],\n [Timestamp('2021-03-30 00:00:00', freq='D'),\n  '대파(일반)',\n  '4128',\n  '4067',\n  '808',\n  '키로단',\n  '29'],\n [Timestamp('2021-03-30 00:00:00', freq='D'),\n  '대파(일반)',\n  '3835',\n  '3848',\n  '734',\n  '키로단',\n  '29']]"
     },
     "metadata": {},
     "output_type": "display_data"
    },
    {
     "data": {
      "text/plain": "[[Timestamp('2021-03-31 00:00:00', freq='D')],\n [Timestamp('2021-03-31 00:00:00', freq='D'),\n  '대파(일반)',\n  '5108',\n  '5043',\n  '1187',\n  '키로단',\n  '29'],\n [Timestamp('2021-03-31 00:00:00', freq='D'),\n  '대파(일반)',\n  '4530',\n  '4466',\n  '970',\n  '키로단',\n  '29'],\n [Timestamp('2021-03-31 00:00:00', freq='D'),\n  '대파(일반)',\n  '4208',\n  '4128',\n  '818',\n  '키로단',\n  '29'],\n [Timestamp('2021-03-31 00:00:00', freq='D'),\n  '대파(일반)',\n  '3872',\n  '3835',\n  '758',\n  '키로단',\n  '29']]"
     },
     "metadata": {},
     "output_type": "display_data"
    },
    {
     "data": {
      "text/plain": "[[Timestamp('2021-04-01 00:00:00', freq='D')],\n [Timestamp('2021-04-01 00:00:00', freq='D'),\n  '대파(일반)',\n  '4937',\n  '5108',\n  '1152',\n  '키로단',\n  '29'],\n [Timestamp('2021-04-01 00:00:00', freq='D'),\n  '대파(일반)',\n  '4295',\n  '4530',\n  '1019',\n  '키로단',\n  '29'],\n [Timestamp('2021-04-01 00:00:00', freq='D'),\n  '대파(일반)',\n  '3976',\n  '4208',\n  '881',\n  '키로단',\n  '29'],\n [Timestamp('2021-04-01 00:00:00', freq='D'),\n  '대파(일반)',\n  '3810',\n  '3872',\n  '781',\n  '키로단',\n  '29']]"
     },
     "metadata": {},
     "output_type": "display_data"
    },
    {
     "data": {
      "text/plain": "[[Timestamp('2021-04-02 00:00:00', freq='D')],\n [Timestamp('2021-04-02 00:00:00', freq='D'),\n  '대파(일반)',\n  '4760',\n  '4937',\n  '1116',\n  '키로단',\n  '29'],\n [Timestamp('2021-04-02 00:00:00', freq='D'),\n  '대파(일반)',\n  '4253',\n  '4295',\n  '1070',\n  '키로단',\n  '29'],\n [Timestamp('2021-04-02 00:00:00', freq='D'),\n  '대파(일반)',\n  '4000',\n  '3976',\n  '994',\n  '키로단',\n  '29'],\n [Timestamp('2021-04-02 00:00:00', freq='D'),\n  '대파(일반)',\n  '3748',\n  '3810',\n  '750',\n  '키로단',\n  '29']]"
     },
     "metadata": {},
     "output_type": "display_data"
    },
    {
     "data": {
      "text/plain": "[[Timestamp('2021-04-03 00:00:00', freq='D')],\n [Timestamp('2021-04-03 00:00:00', freq='D'),\n  '대파(일반)',\n  '4987',\n  '4760',\n  '1104',\n  '키로단',\n  '29'],\n [Timestamp('2021-04-03 00:00:00', freq='D'),\n  '대파(일반)',\n  '4379',\n  '4253',\n  '1070',\n  '키로단',\n  '29'],\n [Timestamp('2021-04-03 00:00:00', freq='D'),\n  '대파(일반)',\n  '4245',\n  '4000',\n  '906',\n  '키로단',\n  '29'],\n [Timestamp('2021-04-03 00:00:00', freq='D'),\n  '대파(일반)',\n  '3926',\n  '3748',\n  '707',\n  '키로단',\n  '29']]"
     },
     "metadata": {},
     "output_type": "display_data"
    },
    {
     "data": {
      "text/plain": "[[Timestamp('2021-04-04 00:00:00', freq='D')],\n [Timestamp('2021-04-04 00:00:00', freq='D'),\n  '대파(일반)',\n  '0',\n  '4987',\n  '1086',\n  '키로단',\n  '29'],\n [Timestamp('2021-04-04 00:00:00', freq='D'),\n  '대파(일반)',\n  '0',\n  '4379',\n  '880',\n  '키로단',\n  '29'],\n [Timestamp('2021-04-04 00:00:00', freq='D'),\n  '대파(일반)',\n  '0',\n  '4245',\n  '715',\n  '키로단',\n  '29'],\n [Timestamp('2021-04-04 00:00:00', freq='D'),\n  '대파(일반)',\n  '0',\n  '3926',\n  '700',\n  '키로단',\n  '29']]"
     },
     "metadata": {},
     "output_type": "display_data"
    },
    {
     "data": {
      "text/plain": "[[Timestamp('2021-04-05 00:00:00', freq='D')],\n [Timestamp('2021-04-05 00:00:00', freq='D'),\n  '대파(일반)',\n  '5054',\n  '0',\n  '0',\n  '키로단',\n  '29'],\n [Timestamp('2021-04-05 00:00:00', freq='D'),\n  '대파(일반)',\n  '4500',\n  '0',\n  '0',\n  '키로단',\n  '29'],\n [Timestamp('2021-04-05 00:00:00', freq='D'),\n  '대파(일반)',\n  '4110',\n  '0',\n  '0',\n  '키로단',\n  '29'],\n [Timestamp('2021-04-05 00:00:00', freq='D'),\n  '대파(일반)',\n  '3569',\n  '0',\n  '0',\n  '키로단',\n  '29']]"
     },
     "metadata": {},
     "output_type": "display_data"
    },
    {
     "data": {
      "text/plain": "[[Timestamp('2021-04-06 00:00:00', freq='D')],\n [Timestamp('2021-04-06 00:00:00', freq='D'),\n  '대파(일반)',\n  '4965',\n  '5054',\n  '1119',\n  '키로단',\n  '29'],\n [Timestamp('2021-04-06 00:00:00', freq='D'),\n  '대파(일반)',\n  '4499',\n  '4500',\n  '881',\n  '키로단',\n  '29'],\n [Timestamp('2021-04-06 00:00:00', freq='D'),\n  '대파(일반)',\n  '3929',\n  '4110',\n  '757',\n  '키로단',\n  '29'],\n [Timestamp('2021-04-06 00:00:00', freq='D'),\n  '대파(일반)',\n  '3731',\n  '3569',\n  '739',\n  '키로단',\n  '29']]"
     },
     "metadata": {},
     "output_type": "display_data"
    },
    {
     "data": {
      "text/plain": "[[Timestamp('2021-04-07 00:00:00', freq='D')],\n [Timestamp('2021-04-07 00:00:00', freq='D'),\n  '대파(일반)',\n  '5026',\n  '4965',\n  '1101',\n  '키로단',\n  '29'],\n [Timestamp('2021-04-07 00:00:00', freq='D'),\n  '대파(일반)',\n  '4559',\n  '4499',\n  '881',\n  '키로단',\n  '29'],\n [Timestamp('2021-04-07 00:00:00', freq='D'),\n  '대파(일반)',\n  '3895',\n  '3929',\n  '864',\n  '키로단',\n  '29'],\n [Timestamp('2021-04-07 00:00:00', freq='D'),\n  '대파(일반)',\n  '3770',\n  '3731',\n  '744',\n  '키로단',\n  '29']]"
     },
     "metadata": {},
     "output_type": "display_data"
    },
    {
     "data": {
      "text/plain": "[[Timestamp('2021-04-08 00:00:00', freq='D')],\n [Timestamp('2021-04-08 00:00:00', freq='D'),\n  '대파(일반)',\n  '5146',\n  '5026',\n  '1111',\n  '키로단',\n  '29'],\n [Timestamp('2021-04-08 00:00:00', freq='D'),\n  '대파(일반)',\n  '4538',\n  '4559',\n  '1057',\n  '키로단',\n  '29'],\n [Timestamp('2021-04-08 00:00:00', freq='D'),\n  '대파(일반)',\n  '4168',\n  '3895',\n  '960',\n  '키로단',\n  '29'],\n [Timestamp('2021-04-08 00:00:00', freq='D'),\n  '대파(일반)',\n  '3901',\n  '3770',\n  '777',\n  '키로단',\n  '29']]"
     },
     "metadata": {},
     "output_type": "display_data"
    },
    {
     "data": {
      "text/plain": "[[Timestamp('2021-04-09 00:00:00', freq='D')],\n [Timestamp('2021-04-09 00:00:00', freq='D'),\n  '대파(일반)',\n  '4994',\n  '5146',\n  '1178',\n  '키로단',\n  '29'],\n [Timestamp('2021-04-09 00:00:00', freq='D'),\n  '대파(일반)',\n  '4395',\n  '4538',\n  '1037',\n  '키로단',\n  '29'],\n [Timestamp('2021-04-09 00:00:00', freq='D'),\n  '대파(일반)',\n  '4171',\n  '4168',\n  '933',\n  '키로단',\n  '29'],\n [Timestamp('2021-04-09 00:00:00', freq='D'),\n  '대파(일반)',\n  '3968',\n  '3901',\n  '833',\n  '키로단',\n  '29']]"
     },
     "metadata": {},
     "output_type": "display_data"
    },
    {
     "data": {
      "text/plain": "[[Timestamp('2021-04-10 00:00:00', freq='D')],\n [Timestamp('2021-04-10 00:00:00', freq='D'),\n  '대파(일반)',\n  '4719',\n  '4994',\n  '1334',\n  '키로단',\n  '29'],\n [Timestamp('2021-04-10 00:00:00', freq='D'),\n  '대파(일반)',\n  '4221',\n  '4395',\n  '1029',\n  '키로단',\n  '29'],\n [Timestamp('2021-04-10 00:00:00', freq='D'),\n  '대파(일반)',\n  '3911',\n  '4171',\n  '900',\n  '키로단',\n  '29'],\n [Timestamp('2021-04-10 00:00:00', freq='D'),\n  '대파(일반)',\n  '3885',\n  '3968',\n  '818',\n  '키로단',\n  '29']]"
     },
     "metadata": {},
     "output_type": "display_data"
    },
    {
     "data": {
      "text/plain": "[[Timestamp('2021-04-11 00:00:00', freq='D')],\n [Timestamp('2021-04-11 00:00:00', freq='D'),\n  '대파(일반)',\n  '0',\n  '4719',\n  '1318',\n  '키로단',\n  '29'],\n [Timestamp('2021-04-11 00:00:00', freq='D'),\n  '대파(일반)',\n  '0',\n  '4221',\n  '1022',\n  '키로단',\n  '29'],\n [Timestamp('2021-04-11 00:00:00', freq='D'),\n  '대파(일반)',\n  '0',\n  '3911',\n  '950',\n  '키로단',\n  '29'],\n [Timestamp('2021-04-11 00:00:00', freq='D'),\n  '대파(일반)',\n  '0',\n  '3885',\n  '897',\n  '키로단',\n  '29']]"
     },
     "metadata": {},
     "output_type": "display_data"
    },
    {
     "data": {
      "text/plain": "[[Timestamp('2021-04-12 00:00:00', freq='D')],\n [Timestamp('2021-04-12 00:00:00', freq='D'),\n  '대파(일반)',\n  '4815',\n  '0',\n  '0',\n  '키로단',\n  '29'],\n [Timestamp('2021-04-12 00:00:00', freq='D'),\n  '대파(일반)',\n  '4328',\n  '0',\n  '0',\n  '키로단',\n  '29'],\n [Timestamp('2021-04-12 00:00:00', freq='D'),\n  '대파(일반)',\n  '4065',\n  '0',\n  '0',\n  '키로단',\n  '29'],\n [Timestamp('2021-04-12 00:00:00', freq='D'),\n  '대파(일반)',\n  '3889',\n  '0',\n  '0',\n  '키로단',\n  '29']]"
     },
     "metadata": {},
     "output_type": "display_data"
    },
    {
     "data": {
      "text/plain": "[[Timestamp('2021-04-13 00:00:00', freq='D')],\n [Timestamp('2021-04-13 00:00:00', freq='D'),\n  '대파(일반)',\n  '5065',\n  '4815',\n  '1284',\n  '키로단',\n  '29'],\n [Timestamp('2021-04-13 00:00:00', freq='D'),\n  '대파(일반)',\n  '4479',\n  '4328',\n  '983',\n  '키로단',\n  '29'],\n [Timestamp('2021-04-13 00:00:00', freq='D'),\n  '대파(일반)',\n  '4120',\n  '4065',\n  '900',\n  '키로단',\n  '29'],\n [Timestamp('2021-04-13 00:00:00', freq='D'),\n  '대파(일반)',\n  '3828',\n  '3889',\n  '760',\n  '키로단',\n  '29']]"
     },
     "metadata": {},
     "output_type": "display_data"
    },
    {
     "data": {
      "text/plain": "[[Timestamp('2021-04-14 00:00:00', freq='D')],\n [Timestamp('2021-04-14 00:00:00', freq='D'),\n  '대파(일반)',\n  '5060',\n  '5065',\n  '1254',\n  '키로단',\n  '29'],\n [Timestamp('2021-04-14 00:00:00', freq='D'),\n  '대파(일반)',\n  '4504',\n  '4479',\n  '964',\n  '키로단',\n  '29'],\n [Timestamp('2021-04-14 00:00:00', freq='D'),\n  '대파(일반)',\n  '4165',\n  '4120',\n  '900',\n  '키로단',\n  '29'],\n [Timestamp('2021-04-14 00:00:00', freq='D'),\n  '대파(일반)',\n  '3859',\n  '3828',\n  '768',\n  '키로단',\n  '29']]"
     },
     "metadata": {},
     "output_type": "display_data"
    },
    {
     "data": {
      "text/plain": "[[Timestamp('2021-04-15 00:00:00', freq='D')],\n [Timestamp('2021-04-15 00:00:00', freq='D'),\n  '대파(일반)',\n  '4930',\n  '5060',\n  '1168',\n  '키로단',\n  '29'],\n [Timestamp('2021-04-15 00:00:00', freq='D'),\n  '대파(일반)',\n  '4379',\n  '4504',\n  '1037',\n  '키로단',\n  '29'],\n [Timestamp('2021-04-15 00:00:00', freq='D'),\n  '대파(일반)',\n  '3936',\n  '4165',\n  '871',\n  '키로단',\n  '29'],\n [Timestamp('2021-04-15 00:00:00', freq='D'),\n  '대파(일반)',\n  '3694',\n  '3859',\n  '771',\n  '키로단',\n  '29']]"
     },
     "metadata": {},
     "output_type": "display_data"
    },
    {
     "data": {
      "text/plain": "[[Timestamp('2021-04-16 00:00:00', freq='D')],\n [Timestamp('2021-04-16 00:00:00', freq='D'),\n  '대파(일반)',\n  '4958',\n  '4930',\n  '1202',\n  '키로단',\n  '29'],\n [Timestamp('2021-04-16 00:00:00', freq='D'),\n  '대파(일반)',\n  '4069',\n  '4379',\n  '1073',\n  '키로단',\n  '29'],\n [Timestamp('2021-04-16 00:00:00', freq='D'),\n  '대파(일반)',\n  '3790',\n  '3936',\n  '874',\n  '키로단',\n  '29'],\n [Timestamp('2021-04-16 00:00:00', freq='D'),\n  '대파(일반)',\n  '3633',\n  '3694',\n  '763',\n  '키로단',\n  '29']]"
     },
     "metadata": {},
     "output_type": "display_data"
    },
    {
     "data": {
      "text/plain": "[[Timestamp('2021-04-17 00:00:00', freq='D')],\n [Timestamp('2021-04-17 00:00:00', freq='D'),\n  '대파(일반)',\n  '4730',\n  '4958',\n  '1290',\n  '키로단',\n  '29'],\n [Timestamp('2021-04-17 00:00:00', freq='D'),\n  '대파(일반)',\n  '4221',\n  '4069',\n  '1113',\n  '키로단',\n  '29'],\n [Timestamp('2021-04-17 00:00:00', freq='D'),\n  '대파(일반)',\n  '3858',\n  '3790',\n  '1070',\n  '키로단',\n  '29'],\n [Timestamp('2021-04-17 00:00:00', freq='D'),\n  '대파(일반)',\n  '3673',\n  '3633',\n  '849',\n  '키로단',\n  '29']]"
     },
     "metadata": {},
     "output_type": "display_data"
    },
    {
     "data": {
      "text/plain": "[[Timestamp('2021-04-18 00:00:00', freq='D')],\n [Timestamp('2021-04-18 00:00:00', freq='D'),\n  '대파(일반)',\n  '0',\n  '4730',\n  '1275',\n  '키로단',\n  '29'],\n [Timestamp('2021-04-18 00:00:00', freq='D'),\n  '대파(일반)',\n  '0',\n  '4221',\n  '1089',\n  '키로단',\n  '29'],\n [Timestamp('2021-04-18 00:00:00', freq='D'),\n  '대파(일반)',\n  '0',\n  '3858',\n  '965',\n  '키로단',\n  '29'],\n [Timestamp('2021-04-18 00:00:00', freq='D'),\n  '대파(일반)',\n  '0',\n  '3673',\n  '804',\n  '키로단',\n  '29']]"
     },
     "metadata": {},
     "output_type": "display_data"
    },
    {
     "data": {
      "text/plain": "[[Timestamp('2021-04-19 00:00:00', freq='D')],\n [Timestamp('2021-04-19 00:00:00', freq='D'),\n  '대파(일반)',\n  '4883',\n  '0',\n  '0',\n  '키로단',\n  '29'],\n [Timestamp('2021-04-19 00:00:00', freq='D'),\n  '대파(일반)',\n  '4266',\n  '0',\n  '0',\n  '키로단',\n  '29'],\n [Timestamp('2021-04-19 00:00:00', freq='D'),\n  '대파(일반)',\n  '3695',\n  '0',\n  '0',\n  '키로단',\n  '29'],\n [Timestamp('2021-04-19 00:00:00', freq='D'),\n  '대파(일반)',\n  '3500',\n  '0',\n  '0',\n  '키로단',\n  '29']]"
     },
     "metadata": {},
     "output_type": "display_data"
    },
    {
     "data": {
      "text/plain": "[[Timestamp('2021-04-20 00:00:00', freq='D')],\n [Timestamp('2021-04-20 00:00:00', freq='D'),\n  '대파(일반)',\n  '5034',\n  '4883',\n  '1274',\n  '키로단',\n  '29'],\n [Timestamp('2021-04-20 00:00:00', freq='D'),\n  '대파(일반)',\n  '4436',\n  '4266',\n  '1077',\n  '키로단',\n  '29'],\n [Timestamp('2021-04-20 00:00:00', freq='D'),\n  '대파(일반)',\n  '3839',\n  '3695',\n  '862',\n  '키로단',\n  '29'],\n [Timestamp('2021-04-20 00:00:00', freq='D'),\n  '대파(일반)',\n  '3477',\n  '3500',\n  '775',\n  '키로단',\n  '29']]"
     },
     "metadata": {},
     "output_type": "display_data"
    },
    {
     "data": {
      "text/plain": "[[Timestamp('2021-04-21 00:00:00', freq='D')],\n [Timestamp('2021-04-21 00:00:00', freq='D'),\n  '대파(일반)',\n  '5018',\n  '5034',\n  '1308',\n  '키로단',\n  '29'],\n [Timestamp('2021-04-21 00:00:00', freq='D'),\n  '대파(일반)',\n  '4342',\n  '4436',\n  '1109',\n  '키로단',\n  '29'],\n [Timestamp('2021-04-21 00:00:00', freq='D'),\n  '대파(일반)',\n  '4130',\n  '3839',\n  '962',\n  '키로단',\n  '29'],\n [Timestamp('2021-04-21 00:00:00', freq='D'),\n  '대파(일반)',\n  '3419',\n  '3477',\n  '809',\n  '키로단',\n  '29']]"
     },
     "metadata": {},
     "output_type": "display_data"
    },
    {
     "data": {
      "text/plain": "[[Timestamp('2021-04-22 00:00:00', freq='D')],\n [Timestamp('2021-04-22 00:00:00', freq='D'),\n  '대파(일반)',\n  '4588',\n  '5018',\n  '1311',\n  '키로단',\n  '29'],\n [Timestamp('2021-04-22 00:00:00', freq='D'),\n  '대파(일반)',\n  '4238',\n  '4342',\n  '1104',\n  '키로단',\n  '29'],\n [Timestamp('2021-04-22 00:00:00', freq='D'),\n  '대파(일반)',\n  '3979',\n  '4130',\n  '947',\n  '키로단',\n  '29'],\n [Timestamp('2021-04-22 00:00:00', freq='D'),\n  '대파(일반)',\n  '3072',\n  '3419',\n  '838',\n  '키로단',\n  '29']]"
     },
     "metadata": {},
     "output_type": "display_data"
    },
    {
     "data": {
      "text/plain": "[[Timestamp('2021-04-23 00:00:00', freq='D')],\n [Timestamp('2021-04-23 00:00:00', freq='D'),\n  '대파(일반)',\n  '4580',\n  '4588',\n  '1418',\n  '키로단',\n  '29'],\n [Timestamp('2021-04-23 00:00:00', freq='D'),\n  '대파(일반)',\n  '4072',\n  '4238',\n  '1084',\n  '키로단',\n  '29'],\n [Timestamp('2021-04-23 00:00:00', freq='D'),\n  '대파(일반)',\n  '3480',\n  '3979',\n  '963',\n  '키로단',\n  '29'],\n [Timestamp('2021-04-23 00:00:00', freq='D'),\n  '대파(일반)',\n  '2857',\n  '3072',\n  '843',\n  '키로단',\n  '29']]"
     },
     "metadata": {},
     "output_type": "display_data"
    },
    {
     "data": {
      "text/plain": "[[Timestamp('2021-04-24 00:00:00', freq='D')],\n [Timestamp('2021-04-24 00:00:00', freq='D'),\n  '대파(일반)',\n  '4638',\n  '4580',\n  '1559',\n  '키로단',\n  '29'],\n [Timestamp('2021-04-24 00:00:00', freq='D'),\n  '대파(일반)',\n  '3812',\n  '4072',\n  '1138',\n  '키로단',\n  '29'],\n [Timestamp('2021-04-24 00:00:00', freq='D'),\n  '대파(일반)',\n  '3145',\n  '3480',\n  '1009',\n  '키로단',\n  '29'],\n [Timestamp('2021-04-24 00:00:00', freq='D'),\n  '대파(일반)',\n  '2624',\n  '2857',\n  '872',\n  '키로단',\n  '29']]"
     },
     "metadata": {},
     "output_type": "display_data"
    },
    {
     "data": {
      "text/plain": "[[Timestamp('2021-04-25 00:00:00', freq='D')],\n [Timestamp('2021-04-25 00:00:00', freq='D'),\n  '대파(일반)',\n  '0',\n  '4638',\n  '1588',\n  '키로단',\n  '29'],\n [Timestamp('2021-04-25 00:00:00', freq='D'),\n  '대파(일반)',\n  '0',\n  '3812',\n  '1275',\n  '키로단',\n  '29'],\n [Timestamp('2021-04-25 00:00:00', freq='D'),\n  '대파(일반)',\n  '0',\n  '3145',\n  '1010',\n  '키로단',\n  '29'],\n [Timestamp('2021-04-25 00:00:00', freq='D'),\n  '대파(일반)',\n  '0',\n  '2624',\n  '778',\n  '키로단',\n  '29']]"
     },
     "metadata": {},
     "output_type": "display_data"
    },
    {
     "data": {
      "text/plain": "[[Timestamp('2021-04-26 00:00:00', freq='D')],\n [Timestamp('2021-04-26 00:00:00', freq='D'),\n  '대파(일반)',\n  '4678',\n  '0',\n  '0',\n  '키로단',\n  '29'],\n [Timestamp('2021-04-26 00:00:00', freq='D'),\n  '대파(일반)',\n  '3722',\n  '0',\n  '0',\n  '키로단',\n  '29'],\n [Timestamp('2021-04-26 00:00:00', freq='D'),\n  '대파(일반)',\n  '3056',\n  '0',\n  '0',\n  '키로단',\n  '29'],\n [Timestamp('2021-04-26 00:00:00', freq='D'),\n  '대파(일반)',\n  '2013',\n  '0',\n  '0',\n  '키로단',\n  '29']]"
     },
     "metadata": {},
     "output_type": "display_data"
    },
    {
     "data": {
      "text/plain": "[[Timestamp('2021-04-27 00:00:00', freq='D')],\n [Timestamp('2021-04-27 00:00:00', freq='D'),\n  '대파(일반)',\n  '4686',\n  '4678',\n  '1524',\n  '키로단',\n  '29'],\n [Timestamp('2021-04-27 00:00:00', freq='D'),\n  '대파(일반)',\n  '4319',\n  '3722',\n  '1148',\n  '키로단',\n  '29'],\n [Timestamp('2021-04-27 00:00:00', freq='D'),\n  '대파(일반)',\n  '3370',\n  '3056',\n  '845',\n  '키로단',\n  '29'],\n [Timestamp('2021-04-27 00:00:00', freq='D'),\n  '대파(일반)',\n  '2332',\n  '2013',\n  '768',\n  '키로단',\n  '29']]"
     },
     "metadata": {},
     "output_type": "display_data"
    },
    {
     "data": {
      "text/plain": "[[Timestamp('2021-04-28 00:00:00', freq='D')],\n [Timestamp('2021-04-28 00:00:00', freq='D'),\n  '대파(일반)',\n  '4692',\n  '4686',\n  '1472',\n  '키로단',\n  '29'],\n [Timestamp('2021-04-28 00:00:00', freq='D'),\n  '대파(일반)',\n  '4314',\n  '4319',\n  '1098',\n  '키로단',\n  '29'],\n [Timestamp('2021-04-28 00:00:00', freq='D'),\n  '대파(일반)',\n  '3308',\n  '3370',\n  '854',\n  '키로단',\n  '29'],\n [Timestamp('2021-04-28 00:00:00', freq='D'),\n  '대파(일반)',\n  '2613',\n  '2332',\n  '709',\n  '키로단',\n  '29']]"
     },
     "metadata": {},
     "output_type": "display_data"
    },
    {
     "data": {
      "text/plain": "[[Timestamp('2021-04-29 00:00:00', freq='D')],\n [Timestamp('2021-04-29 00:00:00', freq='D'),\n  '대파(일반)',\n  '4550',\n  '4692',\n  '1357',\n  '키로단',\n  '29'],\n [Timestamp('2021-04-29 00:00:00', freq='D'),\n  '대파(일반)',\n  '3942',\n  '4314',\n  '984',\n  '키로단',\n  '29'],\n [Timestamp('2021-04-29 00:00:00', freq='D'),\n  '대파(일반)',\n  '3072',\n  '3308',\n  '849',\n  '키로단',\n  '29'],\n [Timestamp('2021-04-29 00:00:00', freq='D'),\n  '대파(일반)',\n  '2528',\n  '2613',\n  '710',\n  '키로단',\n  '29']]"
     },
     "metadata": {},
     "output_type": "display_data"
    },
    {
     "data": {
      "text/plain": "[[Timestamp('2021-04-30 00:00:00', freq='D')],\n [Timestamp('2021-04-30 00:00:00', freq='D'),\n  '대파(일반)',\n  '4445',\n  '4550',\n  '1367',\n  '키로단',\n  '29'],\n [Timestamp('2021-04-30 00:00:00', freq='D'),\n  '대파(일반)',\n  '3754',\n  '3942',\n  '1067',\n  '키로단',\n  '29'],\n [Timestamp('2021-04-30 00:00:00', freq='D'),\n  '대파(일반)',\n  '3027',\n  '3072',\n  '875',\n  '키로단',\n  '29'],\n [Timestamp('2021-04-30 00:00:00', freq='D'),\n  '대파(일반)',\n  '2459',\n  '2528',\n  '771',\n  '키로단',\n  '29']]"
     },
     "metadata": {},
     "output_type": "display_data"
    },
    {
     "data": {
      "text/plain": "[[Timestamp('2021-05-01 00:00:00', freq='D')],\n [Timestamp('2021-05-01 00:00:00', freq='D'),\n  '대파(일반)',\n  '4211',\n  '4445',\n  '1358',\n  '키로단',\n  '29'],\n [Timestamp('2021-05-01 00:00:00', freq='D'),\n  '대파(일반)',\n  '3232',\n  '3754',\n  '1079',\n  '키로단',\n  '29'],\n [Timestamp('2021-05-01 00:00:00', freq='D'),\n  '대파(일반)',\n  '2996',\n  '3027',\n  '980',\n  '키로단',\n  '29'],\n [Timestamp('2021-05-01 00:00:00', freq='D'),\n  '대파(일반)',\n  '2513',\n  '2459',\n  '745',\n  '키로단',\n  '29']]"
     },
     "metadata": {},
     "output_type": "display_data"
    },
    {
     "data": {
      "text/plain": "[[Timestamp('2021-05-02 00:00:00', freq='D')],\n [Timestamp('2021-05-02 00:00:00', freq='D'),\n  '대파(일반)',\n  '0',\n  '4211',\n  '1363',\n  '키로단',\n  '29'],\n [Timestamp('2021-05-02 00:00:00', freq='D'),\n  '대파(일반)',\n  '0',\n  '3232',\n  '975',\n  '키로단',\n  '29'],\n [Timestamp('2021-05-02 00:00:00', freq='D'),\n  '대파(일반)',\n  '0',\n  '2996',\n  '885',\n  '키로단',\n  '29'],\n [Timestamp('2021-05-02 00:00:00', freq='D'),\n  '대파(일반)',\n  '0',\n  '2513',\n  '636',\n  '키로단',\n  '29']]"
     },
     "metadata": {},
     "output_type": "display_data"
    },
    {
     "data": {
      "text/plain": "[[Timestamp('2021-05-03 00:00:00', freq='D')],\n [Timestamp('2021-05-03 00:00:00', freq='D'),\n  '대파(일반)',\n  '4513',\n  '0',\n  '0',\n  '키로단',\n  '29'],\n [Timestamp('2021-05-03 00:00:00', freq='D'),\n  '대파(일반)',\n  '3306',\n  '0',\n  '0',\n  '키로단',\n  '29'],\n [Timestamp('2021-05-03 00:00:00', freq='D'),\n  '대파(일반)',\n  '2902',\n  '0',\n  '0',\n  '키로단',\n  '29'],\n [Timestamp('2021-05-03 00:00:00', freq='D'),\n  '대파(일반)',\n  '2545',\n  '0',\n  '0',\n  '키로단',\n  '29']]"
     },
     "metadata": {},
     "output_type": "display_data"
    },
    {
     "data": {
      "text/plain": "[[Timestamp('2021-05-04 00:00:00', freq='D')],\n [Timestamp('2021-05-04 00:00:00', freq='D'),\n  '대파(일반)',\n  '4486',\n  '4513',\n  '1480',\n  '키로단',\n  '29'],\n [Timestamp('2021-05-04 00:00:00', freq='D'),\n  '대파(일반)',\n  '3464',\n  '3306',\n  '1058',\n  '키로단',\n  '29'],\n [Timestamp('2021-05-04 00:00:00', freq='D'),\n  '대파(일반)',\n  '3010',\n  '2902',\n  '756',\n  '키로단',\n  '29'],\n [Timestamp('2021-05-04 00:00:00', freq='D'),\n  '대파(일반)',\n  '2591',\n  '2545',\n  '558',\n  '키로단',\n  '29']]"
     },
     "metadata": {},
     "output_type": "display_data"
    },
    {
     "data": {
      "text/plain": "[[Timestamp('2021-05-05 00:00:00', freq='D')],\n [Timestamp('2021-05-05 00:00:00', freq='D'),\n  '대파(일반)',\n  '4513',\n  '4486',\n  '1672',\n  '키로단',\n  '29'],\n [Timestamp('2021-05-05 00:00:00', freq='D'),\n  '대파(일반)',\n  '3539',\n  '3464',\n  '1132',\n  '키로단',\n  '29'],\n [Timestamp('2021-05-05 00:00:00', freq='D'),\n  '대파(일반)',\n  '3205',\n  '3010',\n  '939',\n  '키로단',\n  '29'],\n [Timestamp('2021-05-05 00:00:00', freq='D'),\n  '대파(일반)',\n  '2703',\n  '2591',\n  '688',\n  '키로단',\n  '29']]"
     },
     "metadata": {},
     "output_type": "display_data"
    },
    {
     "data": {
      "text/plain": "[[Timestamp('2021-05-06 00:00:00', freq='D')],\n [Timestamp('2021-05-06 00:00:00', freq='D'),\n  '대파(일반)',\n  '4706',\n  '4513',\n  '2100',\n  '키로단',\n  '29'],\n [Timestamp('2021-05-06 00:00:00', freq='D'),\n  '대파(일반)',\n  '3486',\n  '3539',\n  '1524',\n  '키로단',\n  '29'],\n [Timestamp('2021-05-06 00:00:00', freq='D'),\n  '대파(일반)',\n  '3233',\n  '3205',\n  '1015',\n  '키로단',\n  '29'],\n [Timestamp('2021-05-06 00:00:00', freq='D'),\n  '대파(일반)',\n  '2831',\n  '2703',\n  '854',\n  '키로단',\n  '29']]"
     },
     "metadata": {},
     "output_type": "display_data"
    },
    {
     "data": {
      "text/plain": "[[Timestamp('2021-05-07 00:00:00', freq='D')],\n [Timestamp('2021-05-07 00:00:00', freq='D'),\n  '대파(일반)',\n  '4760',\n  '4706',\n  '2150',\n  '키로단',\n  '29'],\n [Timestamp('2021-05-07 00:00:00', freq='D'),\n  '대파(일반)',\n  '3748',\n  '3486',\n  '2078',\n  '키로단',\n  '29'],\n [Timestamp('2021-05-07 00:00:00', freq='D'),\n  '대파(일반)',\n  '3200',\n  '3233',\n  '1138',\n  '키로단',\n  '29'],\n [Timestamp('2021-05-07 00:00:00', freq='D'),\n  '대파(일반)',\n  '2818',\n  '2831',\n  '873',\n  '키로단',\n  '29']]"
     },
     "metadata": {},
     "output_type": "display_data"
    },
    {
     "data": {
      "text/plain": "[[Timestamp('2021-05-08 00:00:00', freq='D')],\n [Timestamp('2021-05-08 00:00:00', freq='D'),\n  '대파(일반)',\n  '4962',\n  '4760',\n  '2150',\n  '키로단',\n  '29'],\n [Timestamp('2021-05-08 00:00:00', freq='D'),\n  '대파(일반)',\n  '3912',\n  '3748',\n  '1595',\n  '키로단',\n  '29'],\n [Timestamp('2021-05-08 00:00:00', freq='D'),\n  '대파(일반)',\n  '3141',\n  '3200',\n  '1037',\n  '키로단',\n  '29'],\n [Timestamp('2021-05-08 00:00:00', freq='D'),\n  '대파(일반)',\n  '2440',\n  '2818',\n  '931',\n  '키로단',\n  '29']]"
     },
     "metadata": {},
     "output_type": "display_data"
    },
    {
     "data": {
      "text/plain": "[[Timestamp('2021-05-09 00:00:00', freq='D')],\n [Timestamp('2021-05-09 00:00:00', freq='D'),\n  '대파(일반)',\n  '0',\n  '4962',\n  '1685',\n  '키로단',\n  '29'],\n [Timestamp('2021-05-09 00:00:00', freq='D'),\n  '대파(일반)',\n  '0',\n  '3912',\n  '1222',\n  '키로단',\n  '29'],\n [Timestamp('2021-05-09 00:00:00', freq='D'),\n  '대파(일반)',\n  '0',\n  '3141',\n  '1017',\n  '키로단',\n  '29'],\n [Timestamp('2021-05-09 00:00:00', freq='D'),\n  '대파(일반)',\n  '0',\n  '2440',\n  '936',\n  '키로단',\n  '29']]"
     },
     "metadata": {},
     "output_type": "display_data"
    },
    {
     "data": {
      "text/plain": "[[Timestamp('2021-05-10 00:00:00', freq='D')],\n [Timestamp('2021-05-10 00:00:00', freq='D'),\n  '대파(일반)',\n  '4680',\n  '0',\n  '0',\n  '키로단',\n  '29'],\n [Timestamp('2021-05-10 00:00:00', freq='D'),\n  '대파(일반)',\n  '3912',\n  '0',\n  '0',\n  '키로단',\n  '29'],\n [Timestamp('2021-05-10 00:00:00', freq='D'),\n  '대파(일반)',\n  '3044',\n  '0',\n  '0',\n  '키로단',\n  '29'],\n [Timestamp('2021-05-10 00:00:00', freq='D'),\n  '대파(일반)',\n  '2486',\n  '0',\n  '0',\n  '키로단',\n  '29']]"
     },
     "metadata": {},
     "output_type": "display_data"
    },
    {
     "data": {
      "text/plain": "[[Timestamp('2021-05-11 00:00:00', freq='D')],\n [Timestamp('2021-05-11 00:00:00', freq='D'),\n  '대파(일반)',\n  '4702',\n  '4680',\n  '1516',\n  '키로단',\n  '29'],\n [Timestamp('2021-05-11 00:00:00', freq='D'),\n  '대파(일반)',\n  '4178',\n  '3912',\n  '1215',\n  '키로단',\n  '29'],\n [Timestamp('2021-05-11 00:00:00', freq='D'),\n  '대파(일반)',\n  '3029',\n  '3044',\n  '1071',\n  '키로단',\n  '29'],\n [Timestamp('2021-05-11 00:00:00', freq='D'),\n  '대파(일반)',\n  '2384',\n  '2486',\n  '899',\n  '키로단',\n  '29']]"
     },
     "metadata": {},
     "output_type": "display_data"
    },
    {
     "data": {
      "text/plain": "[[Timestamp('2021-05-12 00:00:00', freq='D')],\n [Timestamp('2021-05-12 00:00:00', freq='D'),\n  '대파(일반)',\n  '4663',\n  '4702',\n  '1412',\n  '키로단',\n  '29'],\n [Timestamp('2021-05-12 00:00:00', freq='D'),\n  '대파(일반)',\n  '3540',\n  '4178',\n  '1300',\n  '키로단',\n  '29'],\n [Timestamp('2021-05-12 00:00:00', freq='D'),\n  '대파(일반)',\n  '2836',\n  '3029',\n  '1173',\n  '키로단',\n  '29'],\n [Timestamp('2021-05-12 00:00:00', freq='D'),\n  '대파(일반)',\n  '2131',\n  '2384',\n  '912',\n  '키로단',\n  '29']]"
     },
     "metadata": {},
     "output_type": "display_data"
    },
    {
     "data": {
      "text/plain": "[[Timestamp('2021-05-13 00:00:00', freq='D')],\n [Timestamp('2021-05-13 00:00:00', freq='D'),\n  '대파(일반)',\n  '4524',\n  '4663',\n  '1578',\n  '키로단',\n  '29'],\n [Timestamp('2021-05-13 00:00:00', freq='D'),\n  '대파(일반)',\n  '3485',\n  '3540',\n  '1312',\n  '키로단',\n  '29'],\n [Timestamp('2021-05-13 00:00:00', freq='D'),\n  '대파(일반)',\n  '2633',\n  '2836',\n  '1216',\n  '키로단',\n  '29'],\n [Timestamp('2021-05-13 00:00:00', freq='D'),\n  '대파(일반)',\n  '1852',\n  '2131',\n  '915',\n  '키로단',\n  '29']]"
     },
     "metadata": {},
     "output_type": "display_data"
    },
    {
     "data": {
      "text/plain": "[[Timestamp('2021-05-14 00:00:00', freq='D')],\n [Timestamp('2021-05-14 00:00:00', freq='D'),\n  '대파(일반)',\n  '4390',\n  '4524',\n  '2140',\n  '키로단',\n  '29'],\n [Timestamp('2021-05-14 00:00:00', freq='D'),\n  '대파(일반)',\n  '3817',\n  '3485',\n  '2087',\n  '키로단',\n  '29'],\n [Timestamp('2021-05-14 00:00:00', freq='D'),\n  '대파(일반)',\n  '2130',\n  '2633',\n  '1260',\n  '키로단',\n  '29'],\n [Timestamp('2021-05-14 00:00:00', freq='D'),\n  '대파(일반)',\n  '1652',\n  '1852',\n  '928',\n  '키로단',\n  '29']]"
     },
     "metadata": {},
     "output_type": "display_data"
    },
    {
     "data": {
      "text/plain": "[[Timestamp('2021-05-15 00:00:00', freq='D')],\n [Timestamp('2021-05-15 00:00:00', freq='D'),\n  '대파(일반)',\n  '4369',\n  '4390',\n  '2140',\n  '키로단',\n  '29'],\n [Timestamp('2021-05-15 00:00:00', freq='D'),\n  '대파(일반)',\n  '2571',\n  '3817',\n  '2140',\n  '키로단',\n  '29'],\n [Timestamp('2021-05-15 00:00:00', freq='D'),\n  '대파(일반)',\n  '1717',\n  '2130',\n  '1520',\n  '키로단',\n  '29'],\n [Timestamp('2021-05-15 00:00:00', freq='D'),\n  '대파(일반)',\n  '1641',\n  '1652',\n  '917',\n  '키로단',\n  '29']]"
     },
     "metadata": {},
     "output_type": "display_data"
    },
    {
     "data": {
      "text/plain": "[[Timestamp('2021-05-16 00:00:00', freq='D')],\n [Timestamp('2021-05-16 00:00:00', freq='D'),\n  '대파(일반)',\n  '0',\n  '4369',\n  '1931',\n  '키로단',\n  '29'],\n [Timestamp('2021-05-16 00:00:00', freq='D'),\n  '대파(일반)',\n  '0',\n  '2571',\n  '1530',\n  '키로단',\n  '29'],\n [Timestamp('2021-05-16 00:00:00', freq='D'),\n  '대파(일반)',\n  '0',\n  '1717',\n  '1087',\n  '키로단',\n  '29'],\n [Timestamp('2021-05-16 00:00:00', freq='D'),\n  '대파(일반)',\n  '0',\n  '1641',\n  '873',\n  '키로단',\n  '29']]"
     },
     "metadata": {},
     "output_type": "display_data"
    },
    {
     "data": {
      "text/plain": "[[Timestamp('2021-05-17 00:00:00', freq='D')],\n [Timestamp('2021-05-17 00:00:00', freq='D'),\n  '대파(일반)',\n  '3507',\n  '0',\n  '0',\n  '키로단',\n  '29'],\n [Timestamp('2021-05-17 00:00:00', freq='D'),\n  '대파(일반)',\n  '2007',\n  '0',\n  '0',\n  '키로단',\n  '29'],\n [Timestamp('2021-05-17 00:00:00', freq='D'),\n  '대파(일반)',\n  '1812',\n  '0',\n  '0',\n  '키로단',\n  '29'],\n [Timestamp('2021-05-17 00:00:00', freq='D'),\n  '대파(일반)',\n  '1506',\n  '0',\n  '0',\n  '키로단',\n  '29']]"
     },
     "metadata": {},
     "output_type": "display_data"
    },
    {
     "data": {
      "text/plain": "[[Timestamp('2021-05-18 00:00:00', freq='D')],\n [Timestamp('2021-05-18 00:00:00', freq='D'),\n  '대파(일반)',\n  '3623',\n  '3507',\n  '1795',\n  '키로단',\n  '29'],\n [Timestamp('2021-05-18 00:00:00', freq='D'),\n  '대파(일반)',\n  '2334',\n  '2007',\n  '1561',\n  '키로단',\n  '29'],\n [Timestamp('2021-05-18 00:00:00', freq='D'),\n  '대파(일반)',\n  '1810',\n  '1812',\n  '1385',\n  '키로단',\n  '29'],\n [Timestamp('2021-05-18 00:00:00', freq='D'),\n  '대파(일반)',\n  '1475',\n  '1506',\n  '1053',\n  '키로단',\n  '29']]"
     },
     "metadata": {},
     "output_type": "display_data"
    },
    {
     "data": {
      "text/plain": "[[Timestamp('2021-05-19 00:00:00', freq='D')],\n [Timestamp('2021-05-19 00:00:00', freq='D'),\n  '대파(일반)',\n  '3710',\n  '3623',\n  '1816',\n  '키로단',\n  '29'],\n [Timestamp('2021-05-19 00:00:00', freq='D'),\n  '대파(일반)',\n  '2562',\n  '2334',\n  '1563',\n  '키로단',\n  '29'],\n [Timestamp('2021-05-19 00:00:00', freq='D'),\n  '대파(일반)',\n  '2000',\n  '1810',\n  '1311',\n  '키로단',\n  '29'],\n [Timestamp('2021-05-19 00:00:00', freq='D'),\n  '대파(일반)',\n  '1472',\n  '1475',\n  '1080',\n  '키로단',\n  '29']]"
     },
     "metadata": {},
     "output_type": "display_data"
    },
    {
     "data": {
      "text/plain": "[[Timestamp('2021-05-20 00:00:00', freq='D')],\n [Timestamp('2021-05-20 00:00:00', freq='D'),\n  '대파(일반)',\n  '3702',\n  '3710',\n  '1762',\n  '키로단',\n  '29'],\n [Timestamp('2021-05-20 00:00:00', freq='D'),\n  '대파(일반)',\n  '2782',\n  '2562',\n  '1427',\n  '키로단',\n  '29'],\n [Timestamp('2021-05-20 00:00:00', freq='D'),\n  '대파(일반)',\n  '1875',\n  '2000',\n  '1366',\n  '키로단',\n  '29'],\n [Timestamp('2021-05-20 00:00:00', freq='D'),\n  '대파(일반)',\n  '1186',\n  '1472',\n  '1098',\n  '키로단',\n  '29']]"
     },
     "metadata": {},
     "output_type": "display_data"
    },
    {
     "data": {
      "text/plain": "[[Timestamp('2021-05-21 00:00:00', freq='D')],\n [Timestamp('2021-05-21 00:00:00', freq='D'),\n  '대파(일반)',\n  '3551',\n  '3702',\n  '1772',\n  '키로단',\n  '29'],\n [Timestamp('2021-05-21 00:00:00', freq='D'),\n  '대파(일반)',\n  '2020',\n  '2782',\n  '1432',\n  '키로단',\n  '29'],\n [Timestamp('2021-05-21 00:00:00', freq='D'),\n  '대파(일반)',\n  '1683',\n  '1875',\n  '1373',\n  '키로단',\n  '29'],\n [Timestamp('2021-05-21 00:00:00', freq='D'),\n  '대파(일반)',\n  '1288',\n  '1186',\n  '1127',\n  '키로단',\n  '29']]"
     },
     "metadata": {},
     "output_type": "display_data"
    },
    {
     "data": {
      "text/plain": "[[Timestamp('2021-05-22 00:00:00', freq='D')],\n [Timestamp('2021-05-22 00:00:00', freq='D'),\n  '대파(일반)',\n  '3364',\n  '3551',\n  '1762',\n  '키로단',\n  '29'],\n [Timestamp('2021-05-22 00:00:00', freq='D'),\n  '대파(일반)',\n  '1883',\n  '2020',\n  '1556',\n  '키로단',\n  '29'],\n [Timestamp('2021-05-22 00:00:00', freq='D'),\n  '대파(일반)',\n  '1726',\n  '1683',\n  '1396',\n  '키로단',\n  '29'],\n [Timestamp('2021-05-22 00:00:00', freq='D'),\n  '대파(일반)',\n  '1470',\n  '1288',\n  '1178',\n  '키로단',\n  '29']]"
     },
     "metadata": {},
     "output_type": "display_data"
    },
    {
     "data": {
      "text/plain": "[[Timestamp('2021-05-23 00:00:00', freq='D')],\n [Timestamp('2021-05-23 00:00:00', freq='D'),\n  '대파(일반)',\n  '0',\n  '3364',\n  '1668',\n  '키로단',\n  '29'],\n [Timestamp('2021-05-23 00:00:00', freq='D'),\n  '대파(일반)',\n  '0',\n  '1883',\n  '1546',\n  '키로단',\n  '29'],\n [Timestamp('2021-05-23 00:00:00', freq='D'),\n  '대파(일반)',\n  '0',\n  '1726',\n  '1400',\n  '키로단',\n  '29'],\n [Timestamp('2021-05-23 00:00:00', freq='D'),\n  '대파(일반)',\n  '0',\n  '1470',\n  '1279',\n  '키로단',\n  '29']]"
     },
     "metadata": {},
     "output_type": "display_data"
    },
    {
     "data": {
      "text/plain": "[[Timestamp('2021-05-24 00:00:00', freq='D')],\n [Timestamp('2021-05-24 00:00:00', freq='D'),\n  '대파(일반)',\n  '3047',\n  '0',\n  '0',\n  '키로단',\n  '29'],\n [Timestamp('2021-05-24 00:00:00', freq='D'),\n  '대파(일반)',\n  '1804',\n  '0',\n  '0',\n  '키로단',\n  '29'],\n [Timestamp('2021-05-24 00:00:00', freq='D'),\n  '대파(일반)',\n  '1540',\n  '0',\n  '0',\n  '키로단',\n  '29'],\n [Timestamp('2021-05-24 00:00:00', freq='D'),\n  '대파(일반)',\n  '1451',\n  '0',\n  '0',\n  '키로단',\n  '29']]"
     },
     "metadata": {},
     "output_type": "display_data"
    },
    {
     "data": {
      "text/plain": "[[Timestamp('2021-05-25 00:00:00', freq='D')],\n [Timestamp('2021-05-25 00:00:00', freq='D'),\n  '대파(일반)',\n  '3662',\n  '3047',\n  '1900',\n  '키로단',\n  '29'],\n [Timestamp('2021-05-25 00:00:00', freq='D'),\n  '대파(일반)',\n  '2153',\n  '1804',\n  '1614',\n  '키로단',\n  '29'],\n [Timestamp('2021-05-25 00:00:00', freq='D'),\n  '대파(일반)',\n  '1676',\n  '1540',\n  '1420',\n  '키로단',\n  '29'],\n [Timestamp('2021-05-25 00:00:00', freq='D'),\n  '대파(일반)',\n  '1392',\n  '1451',\n  '1089',\n  '키로단',\n  '29']]"
     },
     "metadata": {},
     "output_type": "display_data"
    },
    {
     "data": {
      "text/plain": "[[Timestamp('2021-05-26 00:00:00', freq='D')],\n [Timestamp('2021-05-26 00:00:00', freq='D'),\n  '대파(일반)',\n  '3601',\n  '3662',\n  '1868',\n  '키로단',\n  '29'],\n [Timestamp('2021-05-26 00:00:00', freq='D'),\n  '대파(일반)',\n  '2152',\n  '2153',\n  '1623',\n  '키로단',\n  '29'],\n [Timestamp('2021-05-26 00:00:00', freq='D'),\n  '대파(일반)',\n  '1572',\n  '1676',\n  '1496',\n  '키로단',\n  '29'],\n [Timestamp('2021-05-26 00:00:00', freq='D'),\n  '대파(일반)',\n  '1180',\n  '1392',\n  '1208',\n  '키로단',\n  '29']]"
     },
     "metadata": {},
     "output_type": "display_data"
    },
    {
     "data": {
      "text/plain": "[[Timestamp('2021-05-27 00:00:00', freq='D')],\n [Timestamp('2021-05-27 00:00:00', freq='D'),\n  '대파(일반)',\n  '3699',\n  '3601',\n  '1952',\n  '키로단',\n  '29'],\n [Timestamp('2021-05-27 00:00:00', freq='D'),\n  '대파(일반)',\n  '1554',\n  '2152',\n  '1639',\n  '키로단',\n  '29'],\n [Timestamp('2021-05-27 00:00:00', freq='D'),\n  '대파(일반)',\n  '1247',\n  '1572',\n  '1500',\n  '키로단',\n  '29'],\n [Timestamp('2021-05-27 00:00:00', freq='D'),\n  '대파(일반)',\n  '1110',\n  '1180',\n  '1257',\n  '키로단',\n  '29']]"
     },
     "metadata": {},
     "output_type": "display_data"
    },
    {
     "data": {
      "text/plain": "[[Timestamp('2021-05-20 00:00:00', freq='D')],\n [Timestamp('2021-05-20 00:00:00', freq='D'),\n  '대파(일반)',\n  '3702',\n  '3710',\n  '1762',\n  '키로단',\n  '29'],\n [Timestamp('2021-05-20 00:00:00', freq='D'),\n  '대파(일반)',\n  '2782',\n  '2562',\n  '1427',\n  '키로단',\n  '29'],\n [Timestamp('2021-05-20 00:00:00', freq='D'),\n  '대파(일반)',\n  '1875',\n  '2000',\n  '1366',\n  '키로단',\n  '29'],\n [Timestamp('2021-05-20 00:00:00', freq='D'),\n  '대파(일반)',\n  '1186',\n  '1472',\n  '1098',\n  '키로단',\n  '29']]"
     },
     "metadata": {},
     "output_type": "display_data"
    },
    {
     "data": {
      "text/plain": "[[Timestamp('2021-05-21 00:00:00', freq='D')],\n [Timestamp('2021-05-21 00:00:00', freq='D'),\n  '대파(일반)',\n  '3551',\n  '3702',\n  '1772',\n  '키로단',\n  '29'],\n [Timestamp('2021-05-21 00:00:00', freq='D'),\n  '대파(일반)',\n  '2020',\n  '2782',\n  '1432',\n  '키로단',\n  '29'],\n [Timestamp('2021-05-21 00:00:00', freq='D'),\n  '대파(일반)',\n  '1683',\n  '1875',\n  '1373',\n  '키로단',\n  '29'],\n [Timestamp('2021-05-21 00:00:00', freq='D'),\n  '대파(일반)',\n  '1288',\n  '1186',\n  '1127',\n  '키로단',\n  '29']]"
     },
     "metadata": {},
     "output_type": "display_data"
    },
    {
     "data": {
      "text/plain": "[[Timestamp('2021-05-22 00:00:00', freq='D')],\n [Timestamp('2021-05-22 00:00:00', freq='D'),\n  '대파(일반)',\n  '3364',\n  '3551',\n  '1762',\n  '키로단',\n  '29'],\n [Timestamp('2021-05-22 00:00:00', freq='D'),\n  '대파(일반)',\n  '1883',\n  '2020',\n  '1556',\n  '키로단',\n  '29'],\n [Timestamp('2021-05-22 00:00:00', freq='D'),\n  '대파(일반)',\n  '1726',\n  '1683',\n  '1396',\n  '키로단',\n  '29'],\n [Timestamp('2021-05-22 00:00:00', freq='D'),\n  '대파(일반)',\n  '1470',\n  '1288',\n  '1178',\n  '키로단',\n  '29']]"
     },
     "metadata": {},
     "output_type": "display_data"
    },
    {
     "data": {
      "text/plain": "[[Timestamp('2021-05-23 00:00:00', freq='D')],\n [Timestamp('2021-05-23 00:00:00', freq='D'),\n  '대파(일반)',\n  '0',\n  '3364',\n  '1668',\n  '키로단',\n  '29'],\n [Timestamp('2021-05-23 00:00:00', freq='D'),\n  '대파(일반)',\n  '0',\n  '1883',\n  '1546',\n  '키로단',\n  '29'],\n [Timestamp('2021-05-23 00:00:00', freq='D'),\n  '대파(일반)',\n  '0',\n  '1726',\n  '1400',\n  '키로단',\n  '29'],\n [Timestamp('2021-05-23 00:00:00', freq='D'),\n  '대파(일반)',\n  '0',\n  '1470',\n  '1279',\n  '키로단',\n  '29']]"
     },
     "metadata": {},
     "output_type": "display_data"
    },
    {
     "data": {
      "text/plain": "[[Timestamp('2021-05-24 00:00:00', freq='D')],\n [Timestamp('2021-05-24 00:00:00', freq='D'),\n  '대파(일반)',\n  '3047',\n  '0',\n  '0',\n  '키로단',\n  '29'],\n [Timestamp('2021-05-24 00:00:00', freq='D'),\n  '대파(일반)',\n  '1804',\n  '0',\n  '0',\n  '키로단',\n  '29'],\n [Timestamp('2021-05-24 00:00:00', freq='D'),\n  '대파(일반)',\n  '1540',\n  '0',\n  '0',\n  '키로단',\n  '29'],\n [Timestamp('2021-05-24 00:00:00', freq='D'),\n  '대파(일반)',\n  '1451',\n  '0',\n  '0',\n  '키로단',\n  '29']]"
     },
     "metadata": {},
     "output_type": "display_data"
    },
    {
     "data": {
      "text/plain": "[[Timestamp('2021-05-25 00:00:00', freq='D')],\n [Timestamp('2021-05-25 00:00:00', freq='D'),\n  '대파(일반)',\n  '3662',\n  '3047',\n  '1900',\n  '키로단',\n  '29'],\n [Timestamp('2021-05-25 00:00:00', freq='D'),\n  '대파(일반)',\n  '2153',\n  '1804',\n  '1614',\n  '키로단',\n  '29'],\n [Timestamp('2021-05-25 00:00:00', freq='D'),\n  '대파(일반)',\n  '1676',\n  '1540',\n  '1420',\n  '키로단',\n  '29'],\n [Timestamp('2021-05-25 00:00:00', freq='D'),\n  '대파(일반)',\n  '1392',\n  '1451',\n  '1089',\n  '키로단',\n  '29']]"
     },
     "metadata": {},
     "output_type": "display_data"
    },
    {
     "data": {
      "text/plain": "[[Timestamp('2021-05-26 00:00:00', freq='D')],\n [Timestamp('2021-05-26 00:00:00', freq='D'),\n  '대파(일반)',\n  '3601',\n  '3662',\n  '1868',\n  '키로단',\n  '29'],\n [Timestamp('2021-05-26 00:00:00', freq='D'),\n  '대파(일반)',\n  '2152',\n  '2153',\n  '1623',\n  '키로단',\n  '29'],\n [Timestamp('2021-05-26 00:00:00', freq='D'),\n  '대파(일반)',\n  '1572',\n  '1676',\n  '1496',\n  '키로단',\n  '29'],\n [Timestamp('2021-05-26 00:00:00', freq='D'),\n  '대파(일반)',\n  '1180',\n  '1392',\n  '1208',\n  '키로단',\n  '29']]"
     },
     "metadata": {},
     "output_type": "display_data"
    },
    {
     "data": {
      "text/plain": "[[Timestamp('2021-05-27 00:00:00', freq='D')],\n [Timestamp('2021-05-27 00:00:00', freq='D'),\n  '대파(일반)',\n  '3699',\n  '3601',\n  '1952',\n  '키로단',\n  '29'],\n [Timestamp('2021-05-27 00:00:00', freq='D'),\n  '대파(일반)',\n  '1554',\n  '2152',\n  '1639',\n  '키로단',\n  '29'],\n [Timestamp('2021-05-27 00:00:00', freq='D'),\n  '대파(일반)',\n  '1247',\n  '1572',\n  '1500',\n  '키로단',\n  '29'],\n [Timestamp('2021-05-27 00:00:00', freq='D'),\n  '대파(일반)',\n  '1110',\n  '1180',\n  '1257',\n  '키로단',\n  '29']]"
     },
     "metadata": {},
     "output_type": "display_data"
    },
    {
     "data": {
      "text/plain": "[['20210520'],\n ['20210520', '대파(일반)', '3702', '3710', '1762', '키로단', '29'],\n ['20210520', '대파(일반)', '2782', '2562', '1427', '키로단', '29'],\n ['20210520', '대파(일반)', '1875', '2000', '1366', '키로단', '29'],\n ['20210520', '대파(일반)', '1186', '1472', '1098', '키로단', '29']]"
     },
     "metadata": {},
     "output_type": "display_data"
    },
    {
     "data": {
      "text/plain": "[['20210521'],\n ['20210521', '대파(일반)', '3551', '3702', '1772', '키로단', '29'],\n ['20210521', '대파(일반)', '2020', '2782', '1432', '키로단', '29'],\n ['20210521', '대파(일반)', '1683', '1875', '1373', '키로단', '29'],\n ['20210521', '대파(일반)', '1288', '1186', '1127', '키로단', '29']]"
     },
     "metadata": {},
     "output_type": "display_data"
    },
    {
     "data": {
      "text/plain": "[['20210522'],\n ['20210522', '대파(일반)', '3364', '3551', '1762', '키로단', '29'],\n ['20210522', '대파(일반)', '1883', '2020', '1556', '키로단', '29'],\n ['20210522', '대파(일반)', '1726', '1683', '1396', '키로단', '29'],\n ['20210522', '대파(일반)', '1470', '1288', '1178', '키로단', '29']]"
     },
     "metadata": {},
     "output_type": "display_data"
    },
    {
     "data": {
      "text/plain": "[['20210523'],\n ['20210523', '대파(일반)', '0', '3364', '1668', '키로단', '29'],\n ['20210523', '대파(일반)', '0', '1883', '1546', '키로단', '29'],\n ['20210523', '대파(일반)', '0', '1726', '1400', '키로단', '29'],\n ['20210523', '대파(일반)', '0', '1470', '1279', '키로단', '29']]"
     },
     "metadata": {},
     "output_type": "display_data"
    },
    {
     "data": {
      "text/plain": "[['20210524'],\n ['20210524', '대파(일반)', '3047', '0', '0', '키로단', '29'],\n ['20210524', '대파(일반)', '1804', '0', '0', '키로단', '29'],\n ['20210524', '대파(일반)', '1540', '0', '0', '키로단', '29'],\n ['20210524', '대파(일반)', '1451', '0', '0', '키로단', '29']]"
     },
     "metadata": {},
     "output_type": "display_data"
    },
    {
     "data": {
      "text/plain": "[['20210525'],\n ['20210525', '대파(일반)', '3662', '3047', '1900', '키로단', '29'],\n ['20210525', '대파(일반)', '2153', '1804', '1614', '키로단', '29'],\n ['20210525', '대파(일반)', '1676', '1540', '1420', '키로단', '29'],\n ['20210525', '대파(일반)', '1392', '1451', '1089', '키로단', '29']]"
     },
     "metadata": {},
     "output_type": "display_data"
    },
    {
     "data": {
      "text/plain": "[['20210526'],\n ['20210526', '대파(일반)', '3601', '3662', '1868', '키로단', '29'],\n ['20210526', '대파(일반)', '2152', '2153', '1623', '키로단', '29'],\n ['20210526', '대파(일반)', '1572', '1676', '1496', '키로단', '29'],\n ['20210526', '대파(일반)', '1180', '1392', '1208', '키로단', '29']]"
     },
     "metadata": {},
     "output_type": "display_data"
    },
    {
     "data": {
      "text/plain": "[['20210527'],\n ['20210527', '대파(일반)', '3699', '3601', '1952', '키로단', '29'],\n ['20210527', '대파(일반)', '1554', '2152', '1639', '키로단', '29'],\n ['20210527', '대파(일반)', '1247', '1572', '1500', '키로단', '29'],\n ['20210527', '대파(일반)', '1110', '1180', '1257', '키로단', '29']]"
     },
     "metadata": {},
     "output_type": "display_data"
    }
   ],
   "source": [
    "from datetime import timedelta\n",
    "\n",
    "for date in pandas.date_range(start='20210520', end='20210527'):\n",
    "    # 반복문으로 하세요를레히후!\n",
    "\n",
    "    query=query_sender(date.strftime(\"%Y%m%d\"),\n",
    "                       (date-timedelta(days=1)).strftime(\"%Y%m%d\"),\n",
    "                       (date-timedelta(days=365)).strftime(\"%Y%m%d\"),\n",
    "                       '대파')\n",
    "    i_list=xml_to_item_list(query, date.strftime(\"%Y%m%d\"))\n",
    "    display(i_list)\n",
    "\n",
    "#     col=['날짜', '품목명', '평균가격', '전일평균가격', '전년가격', '거래단위', '중량단위']\n",
    "#     array_list = pd.DataFrame(i_list)\n",
    "#     array_list=array_list.drop(df.index[0])\n",
    "#     array_list.columns=col\n",
    "#\n",
    "#     array_list.to_csv('./data/test1.csv',encoding='utf-8-sig', mode='a')\n",
    "#\n",
    "# df22 = pd.read_csv('./data/test.csv', index_col=0)\n",
    "# display(df22)\n",
    "    #print(date)\n",
    "    #print(date.strftime(\"%Y%m%d\"))"
   ],
   "metadata": {
    "collapsed": false,
    "pycharm": {
     "name": "#%%\n"
    }
   }
  },
  {
   "cell_type": "code",
   "execution_count": null,
   "outputs": [],
   "source": [],
   "metadata": {
    "collapsed": false,
    "pycharm": {
     "name": "#%%\n"
    }
   }
  }
 ],
 "metadata": {
  "kernelspec": {
   "display_name": "Python 3",
   "language": "python",
   "name": "python3"
  },
  "language_info": {
   "codemirror_mode": {
    "name": "ipython",
    "version": 2
   },
   "file_extension": ".py",
   "mimetype": "text/x-python",
   "name": "python",
   "nbconvert_exporter": "python",
   "pygments_lexer": "ipython2",
   "version": "2.7.6"
  }
 },
 "nbformat": 4,
 "nbformat_minor": 0
}