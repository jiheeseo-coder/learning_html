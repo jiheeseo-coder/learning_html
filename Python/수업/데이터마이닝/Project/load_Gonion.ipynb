{
 "cells": [
  {
   "cell_type": "code",
   "execution_count": 1,
   "metadata": {
    "collapsed": true
   },
   "outputs": [],
   "source": [
    "import urllib.request\n",
    "import pandas\n",
    "import xml.etree.ElementTree as ET\n",
    "\n",
    "import pandas as pd\n",
    "from IPython.display import display\n",
    "from datetime import timedelta"
   ]
  },
  {
   "cell_type": "code",
   "execution_count": 2,
   "outputs": [],
   "source": [
    "def query_sender(date, date_1, last_year, kinds):\n",
    "    url='http://www.garak.co.kr/publicdata/dataOpen.do?id=2956&passwd=qwert1324!&' \\\n",
    "    'dataid=data4&pagesize=1000&pageidx=1&portal.templet=false&'\n",
    "\n",
    "    kinds = urllib.parse.quote(kinds)\n",
    "    code_info='p_ymd=' + date+'&p_jymd='+date_1+'&d_cd=2&p_jjymd='+last_year\n",
    "    code_info_2='&p_pos_gubun=9&pum_nm='+kinds\n",
    "\n",
    "    request = urllib.request.Request(url+code_info+code_info_2)\n",
    "    request.get_method=lambda :'GET'\n",
    "    response_body=urllib.request.urlopen(request).read()\n",
    "    u=str(response_body,'utf-8')\n",
    "    return u\n"
   ],
   "metadata": {
    "collapsed": false,
    "pycharm": {
     "name": "#%%\n"
    }
   }
  },
  {
   "cell_type": "code",
   "execution_count": 3,
   "outputs": [],
   "source": [
    "def xml_to_item_list(xml_string, date):\n",
    "    result=[]\n",
    "    root = ET.fromstring(xml_string)\n",
    "    for child in root:\n",
    "        item_list=[]\n",
    "        item_list.append(date)\n",
    "        for list in child:\n",
    "            if list.tag in ['PUM_NM_A', 'AV_P_A', 'PAV_P_A', 'PAV_PY_A', 'E_NAME']:\n",
    "                item_list.append(list.text)\n",
    "                #print(list.text)\n",
    "        result.append(item_list)\n",
    "\n",
    "    return result"
   ],
   "metadata": {
    "collapsed": false,
    "pycharm": {
     "name": "#%%\n"
    }
   }
  },
  {
   "cell_type": "code",
   "execution_count": 4,
   "outputs": [
    {
     "name": "stdout",
     "output_type": "stream",
     "text": [
      "끝났다!@@@@@@@@@@@@@@@!!!!!!!!!!!!!!!!!!!!!!@@@@@@@@@@\n"
     ]
    }
   ],
   "source": [
    "\n",
    "flag=False\n",
    "\n",
    "\n",
    "for date in pandas.date_range(start='20170101', end='20210527'):\n",
    "    # 반복문으로 하세요를레히후!\n",
    "\n",
    "    date1 = str(date.strftime(\"%Y%m%d\"))\n",
    "    #print(date1)\n",
    "    date2 = str((date-timedelta(days=1)).strftime(\"%Y%m%d\"))\n",
    "    date3 = str((date-timedelta(days=365)).strftime(\"%Y%m%d\"))\n",
    "    query=query_sender(date1,\n",
    "                       date2,\n",
    "                       date3,\n",
    "                       '대파')\n",
    "    #print(\"쿼리 = \\n\",query)\n",
    "    i_list=xml_to_item_list(query, date1)\n",
    "    #print(\"i_list = \\n\", i_list)\n",
    "    #display(\"리스트\",i_list)\n",
    "\n",
    "    df = pd.DataFrame(i_list)\n",
    "    #df = df.iloc[1:, 1:]\n",
    "\n",
    "    df=df.drop(df.index[0])\n",
    "    #display(df)\n",
    "    if not flag:\n",
    "        flag = True\n",
    "        col=['날짜', '품목명', '평균가격', '전일평균가격', '전년가격', '등급']\n",
    "        df.columns=col\n",
    "        df.to_csv('./data/test_Gonion.csv',encoding='utf-8-sig')\n",
    "    else:\n",
    "        df.to_csv('./data/test_Gonion.csv',encoding='utf-8-sig',mode='a', header=False)\n",
    "\n",
    "print('끝났다!@@@@@@@@@@@@@@@!!!!!!!!!!!!!!!!!!!!!!@@@@@@@@@@')\n",
    "#\n",
    "#df22 = pd.read_csv('./data/test2.csv', index_col=0)\n",
    "#display(df22)\n",
    "    #print(date)\n",
    "    #print(date.strftime(\"%Y%m%d\"))"
   ],
   "metadata": {
    "collapsed": false,
    "pycharm": {
     "name": "#%%\n"
    }
   }
  },
  {
   "cell_type": "code",
   "execution_count": 10,
   "outputs": [
    {
     "name": "stdout",
     "output_type": "stream",
     "text": [
      "2021-05-27\n",
      "2020-05-28\n"
     ]
    }
   ],
   "source": [
    "import datetime\n",
    "today = datetime.date.today()\n",
    "print(today-timedelta(days=1))\n",
    "print(today-timedelta(days=365))"
   ],
   "metadata": {
    "collapsed": false,
    "pycharm": {
     "name": "#%%\n"
    }
   }
  },
  {
   "cell_type": "code",
   "execution_count": 10,
   "outputs": [],
   "source": [],
   "metadata": {
    "collapsed": false,
    "pycharm": {
     "name": "#%%\n"
    }
   }
  }
 ],
 "metadata": {
  "kernelspec": {
   "display_name": "Python 3",
   "language": "python",
   "name": "python3"
  },
  "language_info": {
   "codemirror_mode": {
    "name": "ipython",
    "version": 2
   },
   "file_extension": ".py",
   "mimetype": "text/x-python",
   "name": "python",
   "nbconvert_exporter": "python",
   "pygments_lexer": "ipython2",
   "version": "2.7.6"
  }
 },
 "nbformat": 4,
 "nbformat_minor": 0
}