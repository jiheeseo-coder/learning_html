{
 "cells": [
  {
   "cell_type": "code",
   "execution_count": 2,
   "metadata": {
    "collapsed": true
   },
   "outputs": [],
   "source": [
    "import numpy as np\n",
    "import pandas as pd\n",
    "from IPython.display import display"
   ]
  },
  {
   "cell_type": "code",
   "execution_count": 3,
   "outputs": [
    {
     "name": "stdout",
     "output_type": "stream",
     "text": [
      "108\n"
     ]
    },
    {
     "data": {
      "text/plain": "           날짜     품목명  평균가격  전일평균가격  전년가격 등급\n0    20210501  대파(일반)  4211    4445  1358  특\n1    20210501  대파(일반)  3232    3754  1079  상\n2    20210501  대파(일반)  2996    3027   980  중\n3    20210501  대파(일반)  2513    2459   745  하\n4    20210502  대파(일반)     0    4211  1363  특\n..        ...     ...   ...     ...   ... ..\n103  20210526  대파(일반)  1180    1392  1208  하\n104  20210527  대파(일반)  3699    3601  1952  특\n105  20210527  대파(일반)  1554    2152  1639  상\n106  20210527  대파(일반)  1247    1572  1500  중\n107  20210527  대파(일반)  1110    1180  1257  하\n\n[108 rows x 6 columns]",
      "text/html": "<div>\n<style scoped>\n    .dataframe tbody tr th:only-of-type {\n        vertical-align: middle;\n    }\n\n    .dataframe tbody tr th {\n        vertical-align: top;\n    }\n\n    .dataframe thead th {\n        text-align: right;\n    }\n</style>\n<table border=\"1\" class=\"dataframe\">\n  <thead>\n    <tr style=\"text-align: right;\">\n      <th></th>\n      <th>날짜</th>\n      <th>품목명</th>\n      <th>평균가격</th>\n      <th>전일평균가격</th>\n      <th>전년가격</th>\n      <th>등급</th>\n    </tr>\n  </thead>\n  <tbody>\n    <tr>\n      <th>0</th>\n      <td>20210501</td>\n      <td>대파(일반)</td>\n      <td>4211</td>\n      <td>4445</td>\n      <td>1358</td>\n      <td>특</td>\n    </tr>\n    <tr>\n      <th>1</th>\n      <td>20210501</td>\n      <td>대파(일반)</td>\n      <td>3232</td>\n      <td>3754</td>\n      <td>1079</td>\n      <td>상</td>\n    </tr>\n    <tr>\n      <th>2</th>\n      <td>20210501</td>\n      <td>대파(일반)</td>\n      <td>2996</td>\n      <td>3027</td>\n      <td>980</td>\n      <td>중</td>\n    </tr>\n    <tr>\n      <th>3</th>\n      <td>20210501</td>\n      <td>대파(일반)</td>\n      <td>2513</td>\n      <td>2459</td>\n      <td>745</td>\n      <td>하</td>\n    </tr>\n    <tr>\n      <th>4</th>\n      <td>20210502</td>\n      <td>대파(일반)</td>\n      <td>0</td>\n      <td>4211</td>\n      <td>1363</td>\n      <td>특</td>\n    </tr>\n    <tr>\n      <th>...</th>\n      <td>...</td>\n      <td>...</td>\n      <td>...</td>\n      <td>...</td>\n      <td>...</td>\n      <td>...</td>\n    </tr>\n    <tr>\n      <th>103</th>\n      <td>20210526</td>\n      <td>대파(일반)</td>\n      <td>1180</td>\n      <td>1392</td>\n      <td>1208</td>\n      <td>하</td>\n    </tr>\n    <tr>\n      <th>104</th>\n      <td>20210527</td>\n      <td>대파(일반)</td>\n      <td>3699</td>\n      <td>3601</td>\n      <td>1952</td>\n      <td>특</td>\n    </tr>\n    <tr>\n      <th>105</th>\n      <td>20210527</td>\n      <td>대파(일반)</td>\n      <td>1554</td>\n      <td>2152</td>\n      <td>1639</td>\n      <td>상</td>\n    </tr>\n    <tr>\n      <th>106</th>\n      <td>20210527</td>\n      <td>대파(일반)</td>\n      <td>1247</td>\n      <td>1572</td>\n      <td>1500</td>\n      <td>중</td>\n    </tr>\n    <tr>\n      <th>107</th>\n      <td>20210527</td>\n      <td>대파(일반)</td>\n      <td>1110</td>\n      <td>1180</td>\n      <td>1257</td>\n      <td>하</td>\n    </tr>\n  </tbody>\n</table>\n<p>108 rows × 6 columns</p>\n</div>"
     },
     "metadata": {},
     "output_type": "display_data"
    }
   ],
   "source": [
    "df2 = pd.read_csv('./data/test3.csv', index_col=0)\n",
    "print(df2.shape[0])\n",
    "index = range(df2.shape[0])\n",
    "# 12341234 이렇게 있는 인덱스 변경\n",
    "df2.index = index\n",
    "display(df2)\n"
   ],
   "metadata": {
    "collapsed": false,
    "pycharm": {
     "name": "#%%\n"
    }
   }
  },
  {
   "cell_type": "code",
   "execution_count": 4,
   "outputs": [
    {
     "data": {
      "text/plain": "     지점  지점명        일시  평균기온(°C)  일강수량(mm)\n0   268  진도군  20210501      11.9      14.6\n1   268  진도군  20210502      11.8       NaN\n2   268  진도군  20210503      13.7       NaN\n3   268  진도군  20210504      17.4      48.9\n4   268  진도군  20210505      13.9       NaN\n5   268  진도군  20210506      14.7       NaN\n6   268  진도군  20210507      16.6       NaN\n7   268  진도군  20210508      15.2       NaN\n8   268  진도군  20210509      16.4       NaN\n9   268  진도군  20210510      18.2       NaN\n10  268  진도군  20210511      19.7       NaN\n11  268  진도군  20210512      20.0       NaN\n12  268  진도군  20210513      19.0       NaN\n13  268  진도군  20210514      20.4       0.0\n14  268  진도군  20210515      21.7      20.5\n15  268  진도군  20210516      19.9      45.6\n16  268  진도군  20210517      15.1       0.8\n17  268  진도군  20210518      16.2       NaN\n18  268  진도군  20210519      19.4       NaN\n19  268  진도군  20210520      16.2      13.0\n20  268  진도군  20210521      16.7       NaN\n21  268  진도군  20210522      17.9       NaN\n22  268  진도군  20210523      19.7       0.0\n23  268  진도군  20210524      17.6       0.0\n24  268  진도군  20210525      17.3       NaN\n25  268  진도군  20210526      17.1       0.7\n26  268  진도군  20210527      16.9       0.6",
      "text/html": "<div>\n<style scoped>\n    .dataframe tbody tr th:only-of-type {\n        vertical-align: middle;\n    }\n\n    .dataframe tbody tr th {\n        vertical-align: top;\n    }\n\n    .dataframe thead th {\n        text-align: right;\n    }\n</style>\n<table border=\"1\" class=\"dataframe\">\n  <thead>\n    <tr style=\"text-align: right;\">\n      <th></th>\n      <th>지점</th>\n      <th>지점명</th>\n      <th>일시</th>\n      <th>평균기온(°C)</th>\n      <th>일강수량(mm)</th>\n    </tr>\n  </thead>\n  <tbody>\n    <tr>\n      <th>0</th>\n      <td>268</td>\n      <td>진도군</td>\n      <td>20210501</td>\n      <td>11.9</td>\n      <td>14.6</td>\n    </tr>\n    <tr>\n      <th>1</th>\n      <td>268</td>\n      <td>진도군</td>\n      <td>20210502</td>\n      <td>11.8</td>\n      <td>NaN</td>\n    </tr>\n    <tr>\n      <th>2</th>\n      <td>268</td>\n      <td>진도군</td>\n      <td>20210503</td>\n      <td>13.7</td>\n      <td>NaN</td>\n    </tr>\n    <tr>\n      <th>3</th>\n      <td>268</td>\n      <td>진도군</td>\n      <td>20210504</td>\n      <td>17.4</td>\n      <td>48.9</td>\n    </tr>\n    <tr>\n      <th>4</th>\n      <td>268</td>\n      <td>진도군</td>\n      <td>20210505</td>\n      <td>13.9</td>\n      <td>NaN</td>\n    </tr>\n    <tr>\n      <th>5</th>\n      <td>268</td>\n      <td>진도군</td>\n      <td>20210506</td>\n      <td>14.7</td>\n      <td>NaN</td>\n    </tr>\n    <tr>\n      <th>6</th>\n      <td>268</td>\n      <td>진도군</td>\n      <td>20210507</td>\n      <td>16.6</td>\n      <td>NaN</td>\n    </tr>\n    <tr>\n      <th>7</th>\n      <td>268</td>\n      <td>진도군</td>\n      <td>20210508</td>\n      <td>15.2</td>\n      <td>NaN</td>\n    </tr>\n    <tr>\n      <th>8</th>\n      <td>268</td>\n      <td>진도군</td>\n      <td>20210509</td>\n      <td>16.4</td>\n      <td>NaN</td>\n    </tr>\n    <tr>\n      <th>9</th>\n      <td>268</td>\n      <td>진도군</td>\n      <td>20210510</td>\n      <td>18.2</td>\n      <td>NaN</td>\n    </tr>\n    <tr>\n      <th>10</th>\n      <td>268</td>\n      <td>진도군</td>\n      <td>20210511</td>\n      <td>19.7</td>\n      <td>NaN</td>\n    </tr>\n    <tr>\n      <th>11</th>\n      <td>268</td>\n      <td>진도군</td>\n      <td>20210512</td>\n      <td>20.0</td>\n      <td>NaN</td>\n    </tr>\n    <tr>\n      <th>12</th>\n      <td>268</td>\n      <td>진도군</td>\n      <td>20210513</td>\n      <td>19.0</td>\n      <td>NaN</td>\n    </tr>\n    <tr>\n      <th>13</th>\n      <td>268</td>\n      <td>진도군</td>\n      <td>20210514</td>\n      <td>20.4</td>\n      <td>0.0</td>\n    </tr>\n    <tr>\n      <th>14</th>\n      <td>268</td>\n      <td>진도군</td>\n      <td>20210515</td>\n      <td>21.7</td>\n      <td>20.5</td>\n    </tr>\n    <tr>\n      <th>15</th>\n      <td>268</td>\n      <td>진도군</td>\n      <td>20210516</td>\n      <td>19.9</td>\n      <td>45.6</td>\n    </tr>\n    <tr>\n      <th>16</th>\n      <td>268</td>\n      <td>진도군</td>\n      <td>20210517</td>\n      <td>15.1</td>\n      <td>0.8</td>\n    </tr>\n    <tr>\n      <th>17</th>\n      <td>268</td>\n      <td>진도군</td>\n      <td>20210518</td>\n      <td>16.2</td>\n      <td>NaN</td>\n    </tr>\n    <tr>\n      <th>18</th>\n      <td>268</td>\n      <td>진도군</td>\n      <td>20210519</td>\n      <td>19.4</td>\n      <td>NaN</td>\n    </tr>\n    <tr>\n      <th>19</th>\n      <td>268</td>\n      <td>진도군</td>\n      <td>20210520</td>\n      <td>16.2</td>\n      <td>13.0</td>\n    </tr>\n    <tr>\n      <th>20</th>\n      <td>268</td>\n      <td>진도군</td>\n      <td>20210521</td>\n      <td>16.7</td>\n      <td>NaN</td>\n    </tr>\n    <tr>\n      <th>21</th>\n      <td>268</td>\n      <td>진도군</td>\n      <td>20210522</td>\n      <td>17.9</td>\n      <td>NaN</td>\n    </tr>\n    <tr>\n      <th>22</th>\n      <td>268</td>\n      <td>진도군</td>\n      <td>20210523</td>\n      <td>19.7</td>\n      <td>0.0</td>\n    </tr>\n    <tr>\n      <th>23</th>\n      <td>268</td>\n      <td>진도군</td>\n      <td>20210524</td>\n      <td>17.6</td>\n      <td>0.0</td>\n    </tr>\n    <tr>\n      <th>24</th>\n      <td>268</td>\n      <td>진도군</td>\n      <td>20210525</td>\n      <td>17.3</td>\n      <td>NaN</td>\n    </tr>\n    <tr>\n      <th>25</th>\n      <td>268</td>\n      <td>진도군</td>\n      <td>20210526</td>\n      <td>17.1</td>\n      <td>0.7</td>\n    </tr>\n    <tr>\n      <th>26</th>\n      <td>268</td>\n      <td>진도군</td>\n      <td>20210527</td>\n      <td>16.9</td>\n      <td>0.6</td>\n    </tr>\n  </tbody>\n</table>\n</div>"
     },
     "metadata": {},
     "output_type": "display_data"
    }
   ],
   "source": [
    "dfw = pd.read_csv('./data/test_weather.csv', encoding='CP949')\n",
    "display(dfw)"
   ],
   "metadata": {
    "collapsed": false,
    "pycharm": {
     "name": "#%%\n"
    }
   }
  },
  {
   "cell_type": "code",
   "execution_count": 5,
   "outputs": [
    {
     "name": "stdout",
     "output_type": "stream",
     "text": [
      "temp_list [11.9, 11.9, 11.9, 11.9, 11.8, 11.8, 11.8, 11.8, 13.7, 13.7, 13.7, 13.7, 17.4, 17.4, 17.4, 17.4, 13.9, 13.9, 13.9, 13.9, 14.7, 14.7, 14.7, 14.7, 16.6, 16.6, 16.6, 16.6, 15.2, 15.2, 15.2, 15.2, 16.4, 16.4, 16.4, 16.4, 18.2, 18.2, 18.2, 18.2, 19.7, 19.7, 19.7, 19.7, 20.0, 20.0, 20.0, 20.0, 19.0, 19.0, 19.0, 19.0, 20.4, 20.4, 20.4, 20.4, 21.7, 21.7, 21.7, 21.7, 19.9, 19.9, 19.9, 19.9, 15.1, 15.1, 15.1, 15.1, 16.2, 16.2, 16.2, 16.2, 19.4, 19.4, 19.4, 19.4, 16.2, 16.2, 16.2, 16.2, 16.7, 16.7, 16.7, 16.7, 17.9, 17.9, 17.9, 17.9, 19.7, 19.7, 19.7, 19.7, 17.6, 17.6, 17.6, 17.6, 17.3, 17.3, 17.3, 17.3, 17.1, 17.1, 17.1, 17.1, 16.9, 16.9, 16.9, 16.9]\n",
      "108\n",
      "rain_list [14.6, 14.6, 14.6, 14.6, nan, nan, nan, nan, nan, nan, nan, nan, 48.9, 48.9, 48.9, 48.9, nan, nan, nan, nan, nan, nan, nan, nan, nan, nan, nan, nan, nan, nan, nan, nan, nan, nan, nan, nan, nan, nan, nan, nan, nan, nan, nan, nan, nan, nan, nan, nan, nan, nan, nan, nan, 0.0, 0.0, 0.0, 0.0, 20.5, 20.5, 20.5, 20.5, 45.6, 45.6, 45.6, 45.6, 0.8, 0.8, 0.8, 0.8, nan, nan, nan, nan, nan, nan, nan, nan, 13.0, 13.0, 13.0, 13.0, nan, nan, nan, nan, nan, nan, nan, nan, 0.0, 0.0, 0.0, 0.0, 0.0, 0.0, 0.0, 0.0, nan, nan, nan, nan, 0.7, 0.7, 0.7, 0.7, 0.6, 0.6, 0.6, 0.6]\n",
      "108\n"
     ]
    }
   ],
   "source": [
    "from datetime import timedelta\n",
    "import datetime\n",
    "\n",
    "#date1 = str(date.strftime(\"%Y%m%d\"))\n",
    "\n",
    "temp_list = []\n",
    "rain_list = []\n",
    "\n",
    "for row in df2.itertuples():\n",
    "    #print(row)\n",
    "    for row2 in dfw.itertuples():\n",
    "        #print(row2)\n",
    "        #print('r1: ',row[1])\n",
    "        #print('r23: ', row2[3])\n",
    "        if row[1] == row2[3]:\n",
    "            #print('24: ', row2[4])\n",
    "            #print('25: ',row2[5])\n",
    "            temp_list.append(row2[4])\n",
    "            rain_list.append(row2[5])\n",
    "            continue\n",
    "\n",
    "print('temp_list', temp_list)\n",
    "print(len(temp_list))\n",
    "print('rain_list', rain_list)\n",
    "print(len(rain_list))"
   ],
   "metadata": {
    "collapsed": false,
    "pycharm": {
     "name": "#%%\n"
    }
   }
  },
  {
   "cell_type": "code",
   "execution_count": 16,
   "outputs": [
    {
     "ename": "ValueError",
     "evalue": "Location based indexing can only have [integer, integer slice (START point is INCLUDED, END point is EXCLUDED), listlike of integers, boolean array] types",
     "output_type": "error",
     "traceback": [
      "\u001B[1;31m---------------------------------------------------------------------------\u001B[0m",
      "\u001B[1;31mValueError\u001B[0m                                Traceback (most recent call last)",
      "\u001B[1;32mc:\\201814471\\setup\\envs\\py37\\lib\\site-packages\\pandas\\core\\indexing.py\u001B[0m in \u001B[0;36m_has_valid_tuple\u001B[1;34m(self, key)\u001B[0m\n\u001B[0;32m    722\u001B[0m             \u001B[1;32mtry\u001B[0m\u001B[1;33m:\u001B[0m\u001B[1;33m\u001B[0m\u001B[1;33m\u001B[0m\u001B[0m\n\u001B[1;32m--> 723\u001B[1;33m                 \u001B[0mself\u001B[0m\u001B[1;33m.\u001B[0m\u001B[0m_validate_key\u001B[0m\u001B[1;33m(\u001B[0m\u001B[0mk\u001B[0m\u001B[1;33m,\u001B[0m \u001B[0mi\u001B[0m\u001B[1;33m)\u001B[0m\u001B[1;33m\u001B[0m\u001B[1;33m\u001B[0m\u001B[0m\n\u001B[0m\u001B[0;32m    724\u001B[0m             \u001B[1;32mexcept\u001B[0m \u001B[0mValueError\u001B[0m \u001B[1;32mas\u001B[0m \u001B[0merr\u001B[0m\u001B[1;33m:\u001B[0m\u001B[1;33m\u001B[0m\u001B[1;33m\u001B[0m\u001B[0m\n",
      "\u001B[1;32mc:\\201814471\\setup\\envs\\py37\\lib\\site-packages\\pandas\\core\\indexing.py\u001B[0m in \u001B[0;36m_validate_key\u001B[1;34m(self, key, axis)\u001B[0m\n\u001B[0;32m   1374\u001B[0m         \u001B[1;32melse\u001B[0m\u001B[1;33m:\u001B[0m\u001B[1;33m\u001B[0m\u001B[1;33m\u001B[0m\u001B[0m\n\u001B[1;32m-> 1375\u001B[1;33m             \u001B[1;32mraise\u001B[0m \u001B[0mValueError\u001B[0m\u001B[1;33m(\u001B[0m\u001B[1;34mf\"Can only index by location with a [{self._valid_types}]\"\u001B[0m\u001B[1;33m)\u001B[0m\u001B[1;33m\u001B[0m\u001B[1;33m\u001B[0m\u001B[0m\n\u001B[0m\u001B[0;32m   1376\u001B[0m \u001B[1;33m\u001B[0m\u001B[0m\n",
      "\u001B[1;31mValueError\u001B[0m: Can only index by location with a [integer, integer slice (START point is INCLUDED, END point is EXCLUDED), listlike of integers, boolean array]",
      "\nThe above exception was the direct cause of the following exception:\n",
      "\u001B[1;31mValueError\u001B[0m                                Traceback (most recent call last)",
      "\u001B[1;32m<ipython-input-16-94d657ba8a6a>\u001B[0m in \u001B[0;36m<module>\u001B[1;34m\u001B[0m\n\u001B[0;32m      1\u001B[0m \u001B[1;32mfor\u001B[0m \u001B[0mi\u001B[0m \u001B[1;32min\u001B[0m \u001B[0mdf2\u001B[0m\u001B[1;33m:\u001B[0m\u001B[1;33m\u001B[0m\u001B[1;33m\u001B[0m\u001B[0m\n\u001B[1;32m----> 2\u001B[1;33m     \u001B[0mprint\u001B[0m\u001B[1;33m(\u001B[0m\u001B[0mdf2\u001B[0m\u001B[1;33m.\u001B[0m\u001B[0miloc\u001B[0m\u001B[1;33m[\u001B[0m\u001B[0mi\u001B[0m\u001B[1;33m,\u001B[0m \u001B[1;36m1\u001B[0m\u001B[1;33m]\u001B[0m\u001B[1;33m)\u001B[0m\u001B[1;33m\u001B[0m\u001B[1;33m\u001B[0m\u001B[0m\n\u001B[0m\u001B[0;32m      3\u001B[0m \u001B[1;33m\u001B[0m\u001B[0m\n\u001B[0;32m      4\u001B[0m \u001B[1;33m\u001B[0m\u001B[0m\n",
      "\u001B[1;32mc:\\201814471\\setup\\envs\\py37\\lib\\site-packages\\pandas\\core\\indexing.py\u001B[0m in \u001B[0;36m__getitem__\u001B[1;34m(self, key)\u001B[0m\n\u001B[0;32m    887\u001B[0m                     \u001B[1;31m# AttributeError for IntervalTree get_value\u001B[0m\u001B[1;33m\u001B[0m\u001B[1;33m\u001B[0m\u001B[1;33m\u001B[0m\u001B[0m\n\u001B[0;32m    888\u001B[0m                     \u001B[1;32mreturn\u001B[0m \u001B[0mself\u001B[0m\u001B[1;33m.\u001B[0m\u001B[0mobj\u001B[0m\u001B[1;33m.\u001B[0m\u001B[0m_get_value\u001B[0m\u001B[1;33m(\u001B[0m\u001B[1;33m*\u001B[0m\u001B[0mkey\u001B[0m\u001B[1;33m,\u001B[0m \u001B[0mtakeable\u001B[0m\u001B[1;33m=\u001B[0m\u001B[0mself\u001B[0m\u001B[1;33m.\u001B[0m\u001B[0m_takeable\u001B[0m\u001B[1;33m)\u001B[0m\u001B[1;33m\u001B[0m\u001B[1;33m\u001B[0m\u001B[0m\n\u001B[1;32m--> 889\u001B[1;33m             \u001B[1;32mreturn\u001B[0m \u001B[0mself\u001B[0m\u001B[1;33m.\u001B[0m\u001B[0m_getitem_tuple\u001B[0m\u001B[1;33m(\u001B[0m\u001B[0mkey\u001B[0m\u001B[1;33m)\u001B[0m\u001B[1;33m\u001B[0m\u001B[1;33m\u001B[0m\u001B[0m\n\u001B[0m\u001B[0;32m    890\u001B[0m         \u001B[1;32melse\u001B[0m\u001B[1;33m:\u001B[0m\u001B[1;33m\u001B[0m\u001B[1;33m\u001B[0m\u001B[0m\n\u001B[0;32m    891\u001B[0m             \u001B[1;31m# we by definition only have the 0th axis\u001B[0m\u001B[1;33m\u001B[0m\u001B[1;33m\u001B[0m\u001B[1;33m\u001B[0m\u001B[0m\n",
      "\u001B[1;32mc:\\201814471\\setup\\envs\\py37\\lib\\site-packages\\pandas\\core\\indexing.py\u001B[0m in \u001B[0;36m_getitem_tuple\u001B[1;34m(self, tup)\u001B[0m\n\u001B[0;32m   1448\u001B[0m     \u001B[1;32mdef\u001B[0m \u001B[0m_getitem_tuple\u001B[0m\u001B[1;33m(\u001B[0m\u001B[0mself\u001B[0m\u001B[1;33m,\u001B[0m \u001B[0mtup\u001B[0m\u001B[1;33m:\u001B[0m \u001B[0mTuple\u001B[0m\u001B[1;33m)\u001B[0m\u001B[1;33m:\u001B[0m\u001B[1;33m\u001B[0m\u001B[1;33m\u001B[0m\u001B[0m\n\u001B[0;32m   1449\u001B[0m \u001B[1;33m\u001B[0m\u001B[0m\n\u001B[1;32m-> 1450\u001B[1;33m         \u001B[0mself\u001B[0m\u001B[1;33m.\u001B[0m\u001B[0m_has_valid_tuple\u001B[0m\u001B[1;33m(\u001B[0m\u001B[0mtup\u001B[0m\u001B[1;33m)\u001B[0m\u001B[1;33m\u001B[0m\u001B[1;33m\u001B[0m\u001B[0m\n\u001B[0m\u001B[0;32m   1451\u001B[0m         \u001B[1;32mwith\u001B[0m \u001B[0msuppress\u001B[0m\u001B[1;33m(\u001B[0m\u001B[0mIndexingError\u001B[0m\u001B[1;33m)\u001B[0m\u001B[1;33m:\u001B[0m\u001B[1;33m\u001B[0m\u001B[1;33m\u001B[0m\u001B[0m\n\u001B[0;32m   1452\u001B[0m             \u001B[1;32mreturn\u001B[0m \u001B[0mself\u001B[0m\u001B[1;33m.\u001B[0m\u001B[0m_getitem_lowerdim\u001B[0m\u001B[1;33m(\u001B[0m\u001B[0mtup\u001B[0m\u001B[1;33m)\u001B[0m\u001B[1;33m\u001B[0m\u001B[1;33m\u001B[0m\u001B[0m\n",
      "\u001B[1;32mc:\\201814471\\setup\\envs\\py37\\lib\\site-packages\\pandas\\core\\indexing.py\u001B[0m in \u001B[0;36m_has_valid_tuple\u001B[1;34m(self, key)\u001B[0m\n\u001B[0;32m    726\u001B[0m                     \u001B[1;34m\"Location based indexing can only have \"\u001B[0m\u001B[1;33m\u001B[0m\u001B[1;33m\u001B[0m\u001B[0m\n\u001B[0;32m    727\u001B[0m                     \u001B[1;34mf\"[{self._valid_types}] types\"\u001B[0m\u001B[1;33m\u001B[0m\u001B[1;33m\u001B[0m\u001B[0m\n\u001B[1;32m--> 728\u001B[1;33m                 ) from err\n\u001B[0m\u001B[0;32m    729\u001B[0m \u001B[1;33m\u001B[0m\u001B[0m\n\u001B[0;32m    730\u001B[0m     \u001B[1;32mdef\u001B[0m \u001B[0m_is_nested_tuple_indexer\u001B[0m\u001B[1;33m(\u001B[0m\u001B[0mself\u001B[0m\u001B[1;33m,\u001B[0m \u001B[0mtup\u001B[0m\u001B[1;33m:\u001B[0m \u001B[0mTuple\u001B[0m\u001B[1;33m)\u001B[0m \u001B[1;33m->\u001B[0m \u001B[0mbool\u001B[0m\u001B[1;33m:\u001B[0m\u001B[1;33m\u001B[0m\u001B[1;33m\u001B[0m\u001B[0m\n",
      "\u001B[1;31mValueError\u001B[0m: Location based indexing can only have [integer, integer slice (START point is INCLUDED, END point is EXCLUDED), listlike of integers, boolean array] types"
     ]
    }
   ],
   "source": [
    "for i in df2:\n",
    "    print(df2.iloc[i, 1])\n"
   ],
   "metadata": {
    "collapsed": false,
    "pycharm": {
     "name": "#%%\n"
    }
   }
  },
  {
   "cell_type": "code",
   "execution_count": 15,
   "outputs": [
    {
     "data": {
      "text/plain": "           날짜     품목명  평균가격  전일평균가격  전년가격 등급  평균기온   강수량\n0    20210501  대파(일반)  4211    4445  1358  특  11.9  14.6\n1    20210501  대파(일반)  3232    3754  1079  상  11.9  14.6\n2    20210501  대파(일반)  2996    3027   980  중  11.9  14.6\n3    20210501  대파(일반)  2513    2459   745  하  11.9  14.6\n4    20210502  대파(일반)     0    4211  1363  특  11.8   NaN\n..        ...     ...   ...     ...   ... ..   ...   ...\n103  20210526  대파(일반)  1180    1392  1208  하  17.1   0.7\n104  20210527  대파(일반)  3699    3601  1952  특  16.9   0.6\n105  20210527  대파(일반)  1554    2152  1639  상  16.9   0.6\n106  20210527  대파(일반)  1247    1572  1500  중  16.9   0.6\n107  20210527  대파(일반)  1110    1180  1257  하  16.9   0.6\n\n[108 rows x 8 columns]",
      "text/html": "<div>\n<style scoped>\n    .dataframe tbody tr th:only-of-type {\n        vertical-align: middle;\n    }\n\n    .dataframe tbody tr th {\n        vertical-align: top;\n    }\n\n    .dataframe thead th {\n        text-align: right;\n    }\n</style>\n<table border=\"1\" class=\"dataframe\">\n  <thead>\n    <tr style=\"text-align: right;\">\n      <th></th>\n      <th>날짜</th>\n      <th>품목명</th>\n      <th>평균가격</th>\n      <th>전일평균가격</th>\n      <th>전년가격</th>\n      <th>등급</th>\n      <th>평균기온</th>\n      <th>강수량</th>\n    </tr>\n  </thead>\n  <tbody>\n    <tr>\n      <th>0</th>\n      <td>20210501</td>\n      <td>대파(일반)</td>\n      <td>4211</td>\n      <td>4445</td>\n      <td>1358</td>\n      <td>특</td>\n      <td>11.9</td>\n      <td>14.6</td>\n    </tr>\n    <tr>\n      <th>1</th>\n      <td>20210501</td>\n      <td>대파(일반)</td>\n      <td>3232</td>\n      <td>3754</td>\n      <td>1079</td>\n      <td>상</td>\n      <td>11.9</td>\n      <td>14.6</td>\n    </tr>\n    <tr>\n      <th>2</th>\n      <td>20210501</td>\n      <td>대파(일반)</td>\n      <td>2996</td>\n      <td>3027</td>\n      <td>980</td>\n      <td>중</td>\n      <td>11.9</td>\n      <td>14.6</td>\n    </tr>\n    <tr>\n      <th>3</th>\n      <td>20210501</td>\n      <td>대파(일반)</td>\n      <td>2513</td>\n      <td>2459</td>\n      <td>745</td>\n      <td>하</td>\n      <td>11.9</td>\n      <td>14.6</td>\n    </tr>\n    <tr>\n      <th>4</th>\n      <td>20210502</td>\n      <td>대파(일반)</td>\n      <td>0</td>\n      <td>4211</td>\n      <td>1363</td>\n      <td>특</td>\n      <td>11.8</td>\n      <td>NaN</td>\n    </tr>\n    <tr>\n      <th>...</th>\n      <td>...</td>\n      <td>...</td>\n      <td>...</td>\n      <td>...</td>\n      <td>...</td>\n      <td>...</td>\n      <td>...</td>\n      <td>...</td>\n    </tr>\n    <tr>\n      <th>103</th>\n      <td>20210526</td>\n      <td>대파(일반)</td>\n      <td>1180</td>\n      <td>1392</td>\n      <td>1208</td>\n      <td>하</td>\n      <td>17.1</td>\n      <td>0.7</td>\n    </tr>\n    <tr>\n      <th>104</th>\n      <td>20210527</td>\n      <td>대파(일반)</td>\n      <td>3699</td>\n      <td>3601</td>\n      <td>1952</td>\n      <td>특</td>\n      <td>16.9</td>\n      <td>0.6</td>\n    </tr>\n    <tr>\n      <th>105</th>\n      <td>20210527</td>\n      <td>대파(일반)</td>\n      <td>1554</td>\n      <td>2152</td>\n      <td>1639</td>\n      <td>상</td>\n      <td>16.9</td>\n      <td>0.6</td>\n    </tr>\n    <tr>\n      <th>106</th>\n      <td>20210527</td>\n      <td>대파(일반)</td>\n      <td>1247</td>\n      <td>1572</td>\n      <td>1500</td>\n      <td>중</td>\n      <td>16.9</td>\n      <td>0.6</td>\n    </tr>\n    <tr>\n      <th>107</th>\n      <td>20210527</td>\n      <td>대파(일반)</td>\n      <td>1110</td>\n      <td>1180</td>\n      <td>1257</td>\n      <td>하</td>\n      <td>16.9</td>\n      <td>0.6</td>\n    </tr>\n  </tbody>\n</table>\n<p>108 rows × 8 columns</p>\n</div>"
     },
     "metadata": {},
     "output_type": "display_data"
    },
    {
     "name": "stdout",
     "output_type": "stream",
     "text": [
      "안녕\n"
     ]
    }
   ],
   "source": [
    "#열 추가\n",
    "df2['평균기온'] = temp_list\n",
    "df2['강수량']=rain_list\n",
    "display(df2)\n",
    "print('안녕')\n"
   ],
   "metadata": {
    "collapsed": false,
    "pycharm": {
     "name": "#%%\n"
    }
   }
  },
  {
   "cell_type": "code",
   "execution_count": null,
   "outputs": [],
   "source": [
    "\n",
    "dfnew = dfw\n",
    "dfnew"
   ],
   "metadata": {
    "collapsed": false,
    "pycharm": {
     "name": "#%%\n"
    }
   }
  }
 ],
 "metadata": {
  "kernelspec": {
   "display_name": "Python 3",
   "language": "python",
   "name": "python3"
  },
  "language_info": {
   "codemirror_mode": {
    "name": "ipython",
    "version": 2
   },
   "file_extension": ".py",
   "mimetype": "text/x-python",
   "name": "python",
   "nbconvert_exporter": "python",
   "pygments_lexer": "ipython2",
   "version": "2.7.6"
  }
 },
 "nbformat": 4,
 "nbformat_minor": 0
}