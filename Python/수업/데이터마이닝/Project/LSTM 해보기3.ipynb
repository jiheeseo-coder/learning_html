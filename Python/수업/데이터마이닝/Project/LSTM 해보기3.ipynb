{
 "cells": [
  {
   "cell_type": "code",
   "execution_count": 148,
   "metadata": {
    "collapsed": true
   },
   "outputs": [],
   "source": [
    "\n",
    "import datetime\n",
    "\n",
    "\n",
    "\n",
    "import matplotlib as mpl\n",
    "import matplotlib.pyplot as plt\n",
    "import numpy as np\n",
    "import pandas as pd\n",
    "from IPython.display import display\n",
    "from tensorflow.python.keras.layers import Dropout\n",
    "\n",
    "mpl.rcParams['figure.figsize'] = (8,6)\n",
    "mpl.rcParams['axes.grid'] = False\n",
    "mpl.rcParams['axes.unicode_minus'] = False"
   ]
  },
  {
   "cell_type": "code",
   "execution_count": 149,
   "outputs": [],
   "source": [
    "\n",
    "# 한글 폰트 설정\n",
    "from matplotlib import font_manager, rc\n",
    "font_name = font_manager.FontProperties(fname=\"c:/Windows/Fonts/malgun.ttf\").get_name()\n",
    "rc('font', family=font_name)"
   ],
   "metadata": {
    "collapsed": false,
    "pycharm": {
     "name": "#%%\n"
    }
   }
  },
  {
   "cell_type": "code",
   "execution_count": 150,
   "outputs": [
    {
     "data": {
      "text/plain": "               품목명    평균가격  전일평균가격    전년가격 등급  평균기온  강수량\n날짜                                                      \n2017-01-01  대파(일반)     0.0  2164.0     0.0  상   4.3  0.0\n2017-01-03  대파(일반)  2164.0     0.0  1926.0  상   5.1  0.0\n2017-01-04  대파(일반)  2100.0  2164.0  2126.0  상   4.4  0.0\n2017-01-05  대파(일반)  2100.0  2100.0  1848.0  상   7.5  0.5\n2017-01-06  대파(일반)  2100.0  2100.0  1865.0  상   7.2  0.2\n...            ...     ...     ...     ... ..   ...  ...\n2021-05-23  대파(일반)     0.0  1883.0  1546.0  상  19.7  0.0\n2021-05-24  대파(일반)  1804.0     0.0     0.0  상  17.6  0.0\n2021-05-25  대파(일반)  2153.0  1804.0  1614.0  상  17.3  0.0\n2021-05-26  대파(일반)  2152.0  2153.0  1623.0  상  17.1  0.7\n2021-05-27  대파(일반)  1554.0  2152.0  1639.0  상  16.9  0.6\n\n[1581 rows x 7 columns]",
      "text/html": "<div>\n<style scoped>\n    .dataframe tbody tr th:only-of-type {\n        vertical-align: middle;\n    }\n\n    .dataframe tbody tr th {\n        vertical-align: top;\n    }\n\n    .dataframe thead th {\n        text-align: right;\n    }\n</style>\n<table border=\"1\" class=\"dataframe\">\n  <thead>\n    <tr style=\"text-align: right;\">\n      <th></th>\n      <th>품목명</th>\n      <th>평균가격</th>\n      <th>전일평균가격</th>\n      <th>전년가격</th>\n      <th>등급</th>\n      <th>평균기온</th>\n      <th>강수량</th>\n    </tr>\n    <tr>\n      <th>날짜</th>\n      <th></th>\n      <th></th>\n      <th></th>\n      <th></th>\n      <th></th>\n      <th></th>\n      <th></th>\n    </tr>\n  </thead>\n  <tbody>\n    <tr>\n      <th>2017-01-01</th>\n      <td>대파(일반)</td>\n      <td>0.0</td>\n      <td>2164.0</td>\n      <td>0.0</td>\n      <td>상</td>\n      <td>4.3</td>\n      <td>0.0</td>\n    </tr>\n    <tr>\n      <th>2017-01-03</th>\n      <td>대파(일반)</td>\n      <td>2164.0</td>\n      <td>0.0</td>\n      <td>1926.0</td>\n      <td>상</td>\n      <td>5.1</td>\n      <td>0.0</td>\n    </tr>\n    <tr>\n      <th>2017-01-04</th>\n      <td>대파(일반)</td>\n      <td>2100.0</td>\n      <td>2164.0</td>\n      <td>2126.0</td>\n      <td>상</td>\n      <td>4.4</td>\n      <td>0.0</td>\n    </tr>\n    <tr>\n      <th>2017-01-05</th>\n      <td>대파(일반)</td>\n      <td>2100.0</td>\n      <td>2100.0</td>\n      <td>1848.0</td>\n      <td>상</td>\n      <td>7.5</td>\n      <td>0.5</td>\n    </tr>\n    <tr>\n      <th>2017-01-06</th>\n      <td>대파(일반)</td>\n      <td>2100.0</td>\n      <td>2100.0</td>\n      <td>1865.0</td>\n      <td>상</td>\n      <td>7.2</td>\n      <td>0.2</td>\n    </tr>\n    <tr>\n      <th>...</th>\n      <td>...</td>\n      <td>...</td>\n      <td>...</td>\n      <td>...</td>\n      <td>...</td>\n      <td>...</td>\n      <td>...</td>\n    </tr>\n    <tr>\n      <th>2021-05-23</th>\n      <td>대파(일반)</td>\n      <td>0.0</td>\n      <td>1883.0</td>\n      <td>1546.0</td>\n      <td>상</td>\n      <td>19.7</td>\n      <td>0.0</td>\n    </tr>\n    <tr>\n      <th>2021-05-24</th>\n      <td>대파(일반)</td>\n      <td>1804.0</td>\n      <td>0.0</td>\n      <td>0.0</td>\n      <td>상</td>\n      <td>17.6</td>\n      <td>0.0</td>\n    </tr>\n    <tr>\n      <th>2021-05-25</th>\n      <td>대파(일반)</td>\n      <td>2153.0</td>\n      <td>1804.0</td>\n      <td>1614.0</td>\n      <td>상</td>\n      <td>17.3</td>\n      <td>0.0</td>\n    </tr>\n    <tr>\n      <th>2021-05-26</th>\n      <td>대파(일반)</td>\n      <td>2152.0</td>\n      <td>2153.0</td>\n      <td>1623.0</td>\n      <td>상</td>\n      <td>17.1</td>\n      <td>0.7</td>\n    </tr>\n    <tr>\n      <th>2021-05-27</th>\n      <td>대파(일반)</td>\n      <td>1554.0</td>\n      <td>2152.0</td>\n      <td>1639.0</td>\n      <td>상</td>\n      <td>16.9</td>\n      <td>0.6</td>\n    </tr>\n  </tbody>\n</table>\n<p>1581 rows × 7 columns</p>\n</div>"
     },
     "metadata": {},
     "output_type": "display_data"
    }
   ],
   "source": [
    "df = pd.read_csv('./data/best.csv', index_col = 0)\n",
    "df['날짜'] = df['날짜'].apply(lambda x: pd.to_datetime(str(x), format='%Y%m%d'))\n",
    "df = df.set_index('날짜')\n",
    "\n",
    "display(df)"
   ],
   "metadata": {
    "collapsed": false,
    "pycharm": {
     "name": "#%%\n"
    }
   }
  },
  {
   "cell_type": "code",
   "execution_count": 151,
   "outputs": [
    {
     "data": {
      "text/plain": "               품목명    평균가격  전일평균가격    전년가격 등급  평균기온  강수량\n날짜                                                      \n2017-01-01  대파(일반)     NaN  2164.0     0.0  상   4.3  0.0\n2017-01-03  대파(일반)  2164.0     0.0  1926.0  상   5.1  0.0\n2017-01-04  대파(일반)  2100.0  2164.0  2126.0  상   4.4  0.0\n2017-01-05  대파(일반)  2100.0  2100.0  1848.0  상   7.5  0.5\n2017-01-06  대파(일반)  2100.0  2100.0  1865.0  상   7.2  0.2\n...            ...     ...     ...     ... ..   ...  ...\n2021-05-23  대파(일반)     NaN  1883.0  1546.0  상  19.7  0.0\n2021-05-24  대파(일반)  1804.0     0.0     0.0  상  17.6  0.0\n2021-05-25  대파(일반)  2153.0  1804.0  1614.0  상  17.3  0.0\n2021-05-26  대파(일반)  2152.0  2153.0  1623.0  상  17.1  0.7\n2021-05-27  대파(일반)  1554.0  2152.0  1639.0  상  16.9  0.6\n\n[1581 rows x 7 columns]",
      "text/html": "<div>\n<style scoped>\n    .dataframe tbody tr th:only-of-type {\n        vertical-align: middle;\n    }\n\n    .dataframe tbody tr th {\n        vertical-align: top;\n    }\n\n    .dataframe thead th {\n        text-align: right;\n    }\n</style>\n<table border=\"1\" class=\"dataframe\">\n  <thead>\n    <tr style=\"text-align: right;\">\n      <th></th>\n      <th>품목명</th>\n      <th>평균가격</th>\n      <th>전일평균가격</th>\n      <th>전년가격</th>\n      <th>등급</th>\n      <th>평균기온</th>\n      <th>강수량</th>\n    </tr>\n    <tr>\n      <th>날짜</th>\n      <th></th>\n      <th></th>\n      <th></th>\n      <th></th>\n      <th></th>\n      <th></th>\n      <th></th>\n    </tr>\n  </thead>\n  <tbody>\n    <tr>\n      <th>2017-01-01</th>\n      <td>대파(일반)</td>\n      <td>NaN</td>\n      <td>2164.0</td>\n      <td>0.0</td>\n      <td>상</td>\n      <td>4.3</td>\n      <td>0.0</td>\n    </tr>\n    <tr>\n      <th>2017-01-03</th>\n      <td>대파(일반)</td>\n      <td>2164.0</td>\n      <td>0.0</td>\n      <td>1926.0</td>\n      <td>상</td>\n      <td>5.1</td>\n      <td>0.0</td>\n    </tr>\n    <tr>\n      <th>2017-01-04</th>\n      <td>대파(일반)</td>\n      <td>2100.0</td>\n      <td>2164.0</td>\n      <td>2126.0</td>\n      <td>상</td>\n      <td>4.4</td>\n      <td>0.0</td>\n    </tr>\n    <tr>\n      <th>2017-01-05</th>\n      <td>대파(일반)</td>\n      <td>2100.0</td>\n      <td>2100.0</td>\n      <td>1848.0</td>\n      <td>상</td>\n      <td>7.5</td>\n      <td>0.5</td>\n    </tr>\n    <tr>\n      <th>2017-01-06</th>\n      <td>대파(일반)</td>\n      <td>2100.0</td>\n      <td>2100.0</td>\n      <td>1865.0</td>\n      <td>상</td>\n      <td>7.2</td>\n      <td>0.2</td>\n    </tr>\n    <tr>\n      <th>...</th>\n      <td>...</td>\n      <td>...</td>\n      <td>...</td>\n      <td>...</td>\n      <td>...</td>\n      <td>...</td>\n      <td>...</td>\n    </tr>\n    <tr>\n      <th>2021-05-23</th>\n      <td>대파(일반)</td>\n      <td>NaN</td>\n      <td>1883.0</td>\n      <td>1546.0</td>\n      <td>상</td>\n      <td>19.7</td>\n      <td>0.0</td>\n    </tr>\n    <tr>\n      <th>2021-05-24</th>\n      <td>대파(일반)</td>\n      <td>1804.0</td>\n      <td>0.0</td>\n      <td>0.0</td>\n      <td>상</td>\n      <td>17.6</td>\n      <td>0.0</td>\n    </tr>\n    <tr>\n      <th>2021-05-25</th>\n      <td>대파(일반)</td>\n      <td>2153.0</td>\n      <td>1804.0</td>\n      <td>1614.0</td>\n      <td>상</td>\n      <td>17.3</td>\n      <td>0.0</td>\n    </tr>\n    <tr>\n      <th>2021-05-26</th>\n      <td>대파(일반)</td>\n      <td>2152.0</td>\n      <td>2153.0</td>\n      <td>1623.0</td>\n      <td>상</td>\n      <td>17.1</td>\n      <td>0.7</td>\n    </tr>\n    <tr>\n      <th>2021-05-27</th>\n      <td>대파(일반)</td>\n      <td>1554.0</td>\n      <td>2152.0</td>\n      <td>1639.0</td>\n      <td>상</td>\n      <td>16.9</td>\n      <td>0.6</td>\n    </tr>\n  </tbody>\n</table>\n<p>1581 rows × 7 columns</p>\n</div>"
     },
     "metadata": {},
     "output_type": "display_data"
    }
   ],
   "source": [
    "df['평균가격'] = df['평균가격'].replace(0, np.NaN)\n",
    "display(df)\n"
   ],
   "metadata": {
    "collapsed": false,
    "pycharm": {
     "name": "#%%\n"
    }
   }
  },
  {
   "cell_type": "code",
   "execution_count": 152,
   "outputs": [
    {
     "data": {
      "text/plain": "               품목명    평균가격  전일평균가격    전년가격 등급  평균기온  강수량\n날짜                                                      \n2017-01-01  대파(일반)  1937.3  2164.0     0.0  상   4.3  0.0\n2017-01-03  대파(일반)  2164.0     0.0  1926.0  상   5.1  0.0\n2017-01-04  대파(일반)  2100.0  2164.0  2126.0  상   4.4  0.0\n2017-01-05  대파(일반)  2100.0  2100.0  1848.0  상   7.5  0.5\n2017-01-06  대파(일반)  2100.0  2100.0  1865.0  상   7.2  0.2\n...            ...     ...     ...     ... ..   ...  ...\n2021-05-23  대파(일반)  1937.3  1883.0  1546.0  상  19.7  0.0\n2021-05-24  대파(일반)  1804.0     0.0     0.0  상  17.6  0.0\n2021-05-25  대파(일반)  2153.0  1804.0  1614.0  상  17.3  0.0\n2021-05-26  대파(일반)  2152.0  2153.0  1623.0  상  17.1  0.7\n2021-05-27  대파(일반)  1554.0  2152.0  1639.0  상  16.9  0.6\n\n[1581 rows x 7 columns]",
      "text/html": "<div>\n<style scoped>\n    .dataframe tbody tr th:only-of-type {\n        vertical-align: middle;\n    }\n\n    .dataframe tbody tr th {\n        vertical-align: top;\n    }\n\n    .dataframe thead th {\n        text-align: right;\n    }\n</style>\n<table border=\"1\" class=\"dataframe\">\n  <thead>\n    <tr style=\"text-align: right;\">\n      <th></th>\n      <th>품목명</th>\n      <th>평균가격</th>\n      <th>전일평균가격</th>\n      <th>전년가격</th>\n      <th>등급</th>\n      <th>평균기온</th>\n      <th>강수량</th>\n    </tr>\n    <tr>\n      <th>날짜</th>\n      <th></th>\n      <th></th>\n      <th></th>\n      <th></th>\n      <th></th>\n      <th></th>\n      <th></th>\n    </tr>\n  </thead>\n  <tbody>\n    <tr>\n      <th>2017-01-01</th>\n      <td>대파(일반)</td>\n      <td>1937.3</td>\n      <td>2164.0</td>\n      <td>0.0</td>\n      <td>상</td>\n      <td>4.3</td>\n      <td>0.0</td>\n    </tr>\n    <tr>\n      <th>2017-01-03</th>\n      <td>대파(일반)</td>\n      <td>2164.0</td>\n      <td>0.0</td>\n      <td>1926.0</td>\n      <td>상</td>\n      <td>5.1</td>\n      <td>0.0</td>\n    </tr>\n    <tr>\n      <th>2017-01-04</th>\n      <td>대파(일반)</td>\n      <td>2100.0</td>\n      <td>2164.0</td>\n      <td>2126.0</td>\n      <td>상</td>\n      <td>4.4</td>\n      <td>0.0</td>\n    </tr>\n    <tr>\n      <th>2017-01-05</th>\n      <td>대파(일반)</td>\n      <td>2100.0</td>\n      <td>2100.0</td>\n      <td>1848.0</td>\n      <td>상</td>\n      <td>7.5</td>\n      <td>0.5</td>\n    </tr>\n    <tr>\n      <th>2017-01-06</th>\n      <td>대파(일반)</td>\n      <td>2100.0</td>\n      <td>2100.0</td>\n      <td>1865.0</td>\n      <td>상</td>\n      <td>7.2</td>\n      <td>0.2</td>\n    </tr>\n    <tr>\n      <th>...</th>\n      <td>...</td>\n      <td>...</td>\n      <td>...</td>\n      <td>...</td>\n      <td>...</td>\n      <td>...</td>\n      <td>...</td>\n    </tr>\n    <tr>\n      <th>2021-05-23</th>\n      <td>대파(일반)</td>\n      <td>1937.3</td>\n      <td>1883.0</td>\n      <td>1546.0</td>\n      <td>상</td>\n      <td>19.7</td>\n      <td>0.0</td>\n    </tr>\n    <tr>\n      <th>2021-05-24</th>\n      <td>대파(일반)</td>\n      <td>1804.0</td>\n      <td>0.0</td>\n      <td>0.0</td>\n      <td>상</td>\n      <td>17.6</td>\n      <td>0.0</td>\n    </tr>\n    <tr>\n      <th>2021-05-25</th>\n      <td>대파(일반)</td>\n      <td>2153.0</td>\n      <td>1804.0</td>\n      <td>1614.0</td>\n      <td>상</td>\n      <td>17.3</td>\n      <td>0.0</td>\n    </tr>\n    <tr>\n      <th>2021-05-26</th>\n      <td>대파(일반)</td>\n      <td>2152.0</td>\n      <td>2153.0</td>\n      <td>1623.0</td>\n      <td>상</td>\n      <td>17.1</td>\n      <td>0.7</td>\n    </tr>\n    <tr>\n      <th>2021-05-27</th>\n      <td>대파(일반)</td>\n      <td>1554.0</td>\n      <td>2152.0</td>\n      <td>1639.0</td>\n      <td>상</td>\n      <td>16.9</td>\n      <td>0.6</td>\n    </tr>\n  </tbody>\n</table>\n<p>1581 rows × 7 columns</p>\n</div>"
     },
     "metadata": {},
     "output_type": "display_data"
    }
   ],
   "source": [
    "df = df.fillna(df.mean())\n",
    "df = df.round(1)\n",
    "display(df)"
   ],
   "metadata": {
    "collapsed": false,
    "pycharm": {
     "name": "#%%\n"
    }
   }
  },
  {
   "cell_type": "code",
   "execution_count": 153,
   "outputs": [
    {
     "name": "stdout",
     "output_type": "stream",
     "text": [
      "<class 'pandas.core.frame.DataFrame'>\n",
      "DatetimeIndex: 1581 entries, 2017-01-01 to 2021-05-27\n",
      "Data columns (total 7 columns):\n",
      " #   Column  Non-Null Count  Dtype  \n",
      "---  ------  --------------  -----  \n",
      " 0   품목명     1581 non-null   object \n",
      " 1   평균가격    1581 non-null   float64\n",
      " 2   전일평균가격  1581 non-null   float64\n",
      " 3   전년가격    1581 non-null   float64\n",
      " 4   등급      1581 non-null   object \n",
      " 5   평균기온    1581 non-null   float64\n",
      " 6   강수량     1581 non-null   float64\n",
      "dtypes: float64(5), object(2)\n",
      "memory usage: 98.8+ KB\n"
     ]
    }
   ],
   "source": [
    "df.info()"
   ],
   "metadata": {
    "collapsed": false,
    "pycharm": {
     "name": "#%%\n"
    }
   }
  },
  {
   "cell_type": "code",
   "execution_count": 154,
   "outputs": [
    {
     "data": {
      "text/plain": "<AxesSubplot:xlabel='날짜'>"
     },
     "execution_count": 154,
     "metadata": {},
     "output_type": "execute_result"
    },
    {
     "data": {
      "text/plain": "<Figure size 576x432 with 1 Axes>",
      "image/png": "[encoded data removed]"
     },
     "metadata": {
      "needs_background": "light"
     },
     "output_type": "display_data"
    }
   ],
   "source": [
    "plt.rc('font', family='Malgun Gothic')\n",
    "df['평균가격'].plot()"
   ],
   "metadata": {
    "collapsed": false,
    "pycharm": {
     "name": "#%%\n"
    }
   }
  },
  {
   "cell_type": "markdown",
   "source": [
    "### 훈련 데이터와 테스트 데이터 분리하기"
   ],
   "metadata": {
    "collapsed": false,
    "pycharm": {
     "name": "#%% md\n"
    }
   }
  },
  {
   "cell_type": "code",
   "execution_count": 155,
   "outputs": [
    {
     "data": {
      "text/plain": "<matplotlib.legend.Legend at 0x2aecc539088>"
     },
     "execution_count": 155,
     "metadata": {},
     "output_type": "execute_result"
    },
    {
     "data": {
      "text/plain": "<Figure size 576x432 with 1 Axes>",
      "image/png": "[encoded data removed]"
     },
     "metadata": {
      "needs_background": "light"
     },
     "output_type": "display_data"
    }
   ],
   "source": [
    "split_date = pd.Timestamp('2020-07-01')\n",
    "\n",
    "idx = pd.IndexSlice\n",
    "train = df['평균가격'].loc[idx[:'2020-07-01']]\n",
    "test = df['평균가격'].loc[idx['2020-07-01':]]\n",
    "\n",
    "ax = train.plot()\n",
    "test.plot(ax= ax)\n",
    "plt.legend(['train', 'test'])"
   ],
   "metadata": {
    "collapsed": false,
    "pycharm": {
     "name": "#%%\n"
    }
   }
  },
  {
   "cell_type": "code",
   "execution_count": 156,
   "outputs": [],
   "source": [
    "from sklearn.preprocessing import MinMaxScaler\n",
    "\n",
    "sc = MinMaxScaler()\n",
    "train1 = train.values.reshape(-1,1)\n",
    "test1 = test.values.reshape(-1,1)\n",
    "train_sc = sc.fit_transform(train1)\n",
    "test_sc = sc.transform(test1)"
   ],
   "metadata": {
    "collapsed": false,
    "pycharm": {
     "name": "#%%\n"
    }
   }
  },
  {
   "cell_type": "code",
   "execution_count": 157,
   "outputs": [
    {
     "data": {
      "text/plain": "array([[0.40128582],\n       [0.48457017],\n       [0.46105805],\n       ...,\n       [0.24173402],\n       [0.23181484],\n       [0.25018369]])"
     },
     "metadata": {},
     "output_type": "display_data"
    }
   ],
   "source": [
    "display(train_sc)"
   ],
   "metadata": {
    "collapsed": false,
    "pycharm": {
     "name": "#%%\n"
    }
   }
  },
  {
   "cell_type": "code",
   "execution_count": 158,
   "outputs": [
    {
     "data": {
      "text/plain": "                평균가격\n날짜                  \n2017-01-01  0.401286\n2017-01-03  0.484570\n2017-01-04  0.461058\n2017-01-05  0.461058\n2017-01-06  0.461058",
      "text/html": "<div>\n<style scoped>\n    .dataframe tbody tr th:only-of-type {\n        vertical-align: middle;\n    }\n\n    .dataframe tbody tr th {\n        vertical-align: top;\n    }\n\n    .dataframe thead th {\n        text-align: right;\n    }\n</style>\n<table border=\"1\" class=\"dataframe\">\n  <thead>\n    <tr style=\"text-align: right;\">\n      <th></th>\n      <th>평균가격</th>\n    </tr>\n    <tr>\n      <th>날짜</th>\n      <th></th>\n    </tr>\n  </thead>\n  <tbody>\n    <tr>\n      <th>2017-01-01</th>\n      <td>0.401286</td>\n    </tr>\n    <tr>\n      <th>2017-01-03</th>\n      <td>0.484570</td>\n    </tr>\n    <tr>\n      <th>2017-01-04</th>\n      <td>0.461058</td>\n    </tr>\n    <tr>\n      <th>2017-01-05</th>\n      <td>0.461058</td>\n    </tr>\n    <tr>\n      <th>2017-01-06</th>\n      <td>0.461058</td>\n    </tr>\n  </tbody>\n</table>\n</div>"
     },
     "metadata": {},
     "output_type": "display_data"
    }
   ],
   "source": [
    "train_sc_df = pd.DataFrame(train_sc, columns=['평균가격'], index=train.index)\n",
    "test_sc_df = pd.DataFrame(test_sc, columns=['평균가격'], index = test.index)\n",
    "display(train_sc_df.head())"
   ],
   "metadata": {
    "collapsed": false,
    "pycharm": {
     "name": "#%%\n"
    }
   }
  },
  {
   "cell_type": "code",
   "execution_count": 159,
   "outputs": [
    {
     "data": {
      "text/plain": "                평균가격   shift_1   shift_2   shift_3   shift_4   shift_5  \\\n날짜                                                                       \n2017-01-01  0.401286       NaN       NaN       NaN       NaN       NaN   \n2017-01-03  0.484570  0.401286       NaN       NaN       NaN       NaN   \n2017-01-04  0.461058  0.484570  0.401286       NaN       NaN       NaN   \n2017-01-05  0.461058  0.461058  0.484570  0.401286       NaN       NaN   \n2017-01-06  0.461058  0.461058  0.461058  0.484570  0.401286       NaN   \n2017-01-07  0.401286  0.461058  0.461058  0.461058  0.484570  0.401286   \n2017-01-09  0.461058  0.401286  0.461058  0.461058  0.461058  0.484570   \n2017-01-10  0.461058  0.461058  0.401286  0.461058  0.461058  0.461058   \n2017-01-11  0.383542  0.461058  0.461058  0.401286  0.461058  0.461058   \n2017-01-12  0.415136  0.383542  0.461058  0.461058  0.401286  0.461058   \n2017-01-13  0.418442  0.415136  0.383542  0.461058  0.461058  0.401286   \n2017-01-14  0.401286  0.418442  0.415136  0.383542  0.461058  0.461058   \n2017-01-16  0.418442  0.401286  0.418442  0.415136  0.383542  0.461058   \n\n             shift_6   shift_7   shift_8   shift_9  shift_10  shift_11  \\\n날짜                                                                       \n2017-01-01       NaN       NaN       NaN       NaN       NaN       NaN   \n2017-01-03       NaN       NaN       NaN       NaN       NaN       NaN   \n2017-01-04       NaN       NaN       NaN       NaN       NaN       NaN   \n2017-01-05       NaN       NaN       NaN       NaN       NaN       NaN   \n2017-01-06       NaN       NaN       NaN       NaN       NaN       NaN   \n2017-01-07       NaN       NaN       NaN       NaN       NaN       NaN   \n2017-01-09  0.401286       NaN       NaN       NaN       NaN       NaN   \n2017-01-10  0.484570  0.401286       NaN       NaN       NaN       NaN   \n2017-01-11  0.461058  0.484570  0.401286       NaN       NaN       NaN   \n2017-01-12  0.461058  0.461058  0.484570  0.401286       NaN       NaN   \n2017-01-13  0.461058  0.461058  0.461058  0.484570  0.401286       NaN   \n2017-01-14  0.401286  0.461058  0.461058  0.461058  0.484570  0.401286   \n2017-01-16  0.461058  0.401286  0.461058  0.461058  0.461058  0.484570   \n\n            shift_12  \n날짜                    \n2017-01-01       NaN  \n2017-01-03       NaN  \n2017-01-04       NaN  \n2017-01-05       NaN  \n2017-01-06       NaN  \n2017-01-07       NaN  \n2017-01-09       NaN  \n2017-01-10       NaN  \n2017-01-11       NaN  \n2017-01-12       NaN  \n2017-01-13       NaN  \n2017-01-14       NaN  \n2017-01-16  0.401286  ",
      "text/html": "<div>\n<style scoped>\n    .dataframe tbody tr th:only-of-type {\n        vertical-align: middle;\n    }\n\n    .dataframe tbody tr th {\n        vertical-align: top;\n    }\n\n    .dataframe thead th {\n        text-align: right;\n    }\n</style>\n<table border=\"1\" class=\"dataframe\">\n  <thead>\n    <tr style=\"text-align: right;\">\n      <th></th>\n      <th>평균가격</th>\n      <th>shift_1</th>\n      <th>shift_2</th>\n      <th>shift_3</th>\n      <th>shift_4</th>\n      <th>shift_5</th>\n      <th>shift_6</th>\n      <th>shift_7</th>\n      <th>shift_8</th>\n      <th>shift_9</th>\n      <th>shift_10</th>\n      <th>shift_11</th>\n      <th>shift_12</th>\n    </tr>\n    <tr>\n      <th>날짜</th>\n      <th></th>\n      <th></th>\n      <th></th>\n      <th></th>\n      <th></th>\n      <th></th>\n      <th></th>\n      <th></th>\n      <th></th>\n      <th></th>\n      <th></th>\n      <th></th>\n      <th></th>\n    </tr>\n  </thead>\n  <tbody>\n    <tr>\n      <th>2017-01-01</th>\n      <td>0.401286</td>\n      <td>NaN</td>\n      <td>NaN</td>\n      <td>NaN</td>\n      <td>NaN</td>\n      <td>NaN</td>\n      <td>NaN</td>\n      <td>NaN</td>\n      <td>NaN</td>\n      <td>NaN</td>\n      <td>NaN</td>\n      <td>NaN</td>\n      <td>NaN</td>\n    </tr>\n    <tr>\n      <th>2017-01-03</th>\n      <td>0.484570</td>\n      <td>0.401286</td>\n      <td>NaN</td>\n      <td>NaN</td>\n      <td>NaN</td>\n      <td>NaN</td>\n      <td>NaN</td>\n      <td>NaN</td>\n      <td>NaN</td>\n      <td>NaN</td>\n      <td>NaN</td>\n      <td>NaN</td>\n      <td>NaN</td>\n    </tr>\n    <tr>\n      <th>2017-01-04</th>\n      <td>0.461058</td>\n      <td>0.484570</td>\n      <td>0.401286</td>\n      <td>NaN</td>\n      <td>NaN</td>\n      <td>NaN</td>\n      <td>NaN</td>\n      <td>NaN</td>\n      <td>NaN</td>\n      <td>NaN</td>\n      <td>NaN</td>\n      <td>NaN</td>\n      <td>NaN</td>\n    </tr>\n    <tr>\n      <th>2017-01-05</th>\n      <td>0.461058</td>\n      <td>0.461058</td>\n      <td>0.484570</td>\n      <td>0.401286</td>\n      <td>NaN</td>\n      <td>NaN</td>\n      <td>NaN</td>\n      <td>NaN</td>\n      <td>NaN</td>\n      <td>NaN</td>\n      <td>NaN</td>\n      <td>NaN</td>\n      <td>NaN</td>\n    </tr>\n    <tr>\n      <th>2017-01-06</th>\n      <td>0.461058</td>\n      <td>0.461058</td>\n      <td>0.461058</td>\n      <td>0.484570</td>\n      <td>0.401286</td>\n      <td>NaN</td>\n      <td>NaN</td>\n      <td>NaN</td>\n      <td>NaN</td>\n      <td>NaN</td>\n      <td>NaN</td>\n      <td>NaN</td>\n      <td>NaN</td>\n    </tr>\n    <tr>\n      <th>2017-01-07</th>\n      <td>0.401286</td>\n      <td>0.461058</td>\n      <td>0.461058</td>\n      <td>0.461058</td>\n      <td>0.484570</td>\n      <td>0.401286</td>\n      <td>NaN</td>\n      <td>NaN</td>\n      <td>NaN</td>\n      <td>NaN</td>\n      <td>NaN</td>\n      <td>NaN</td>\n      <td>NaN</td>\n    </tr>\n    <tr>\n      <th>2017-01-09</th>\n      <td>0.461058</td>\n      <td>0.401286</td>\n      <td>0.461058</td>\n      <td>0.461058</td>\n      <td>0.461058</td>\n      <td>0.484570</td>\n      <td>0.401286</td>\n      <td>NaN</td>\n      <td>NaN</td>\n      <td>NaN</td>\n      <td>NaN</td>\n      <td>NaN</td>\n      <td>NaN</td>\n    </tr>\n    <tr>\n      <th>2017-01-10</th>\n      <td>0.461058</td>\n      <td>0.461058</td>\n      <td>0.401286</td>\n      <td>0.461058</td>\n      <td>0.461058</td>\n      <td>0.461058</td>\n      <td>0.484570</td>\n      <td>0.401286</td>\n      <td>NaN</td>\n      <td>NaN</td>\n      <td>NaN</td>\n      <td>NaN</td>\n      <td>NaN</td>\n    </tr>\n    <tr>\n      <th>2017-01-11</th>\n      <td>0.383542</td>\n      <td>0.461058</td>\n      <td>0.461058</td>\n      <td>0.401286</td>\n      <td>0.461058</td>\n      <td>0.461058</td>\n      <td>0.461058</td>\n      <td>0.484570</td>\n      <td>0.401286</td>\n      <td>NaN</td>\n      <td>NaN</td>\n      <td>NaN</td>\n      <td>NaN</td>\n    </tr>\n    <tr>\n      <th>2017-01-12</th>\n      <td>0.415136</td>\n      <td>0.383542</td>\n      <td>0.461058</td>\n      <td>0.461058</td>\n      <td>0.401286</td>\n      <td>0.461058</td>\n      <td>0.461058</td>\n      <td>0.461058</td>\n      <td>0.484570</td>\n      <td>0.401286</td>\n      <td>NaN</td>\n      <td>NaN</td>\n      <td>NaN</td>\n    </tr>\n    <tr>\n      <th>2017-01-13</th>\n      <td>0.418442</td>\n      <td>0.415136</td>\n      <td>0.383542</td>\n      <td>0.461058</td>\n      <td>0.461058</td>\n      <td>0.401286</td>\n      <td>0.461058</td>\n      <td>0.461058</td>\n      <td>0.461058</td>\n      <td>0.484570</td>\n      <td>0.401286</td>\n      <td>NaN</td>\n      <td>NaN</td>\n    </tr>\n    <tr>\n      <th>2017-01-14</th>\n      <td>0.401286</td>\n      <td>0.418442</td>\n      <td>0.415136</td>\n      <td>0.383542</td>\n      <td>0.461058</td>\n      <td>0.461058</td>\n      <td>0.401286</td>\n      <td>0.461058</td>\n      <td>0.461058</td>\n      <td>0.461058</td>\n      <td>0.484570</td>\n      <td>0.401286</td>\n      <td>NaN</td>\n    </tr>\n    <tr>\n      <th>2017-01-16</th>\n      <td>0.418442</td>\n      <td>0.401286</td>\n      <td>0.418442</td>\n      <td>0.415136</td>\n      <td>0.383542</td>\n      <td>0.461058</td>\n      <td>0.461058</td>\n      <td>0.401286</td>\n      <td>0.461058</td>\n      <td>0.461058</td>\n      <td>0.461058</td>\n      <td>0.484570</td>\n      <td>0.401286</td>\n    </tr>\n  </tbody>\n</table>\n</div>"
     },
     "execution_count": 159,
     "metadata": {},
     "output_type": "execute_result"
    }
   ],
   "source": [
    "for s in range(1, 13):\n",
    "    train_sc_df['shift_{}'.format(s)] = train_sc_df['평균가격'].shift(s)\n",
    "    test_sc_df['shift_{}'.format(s)] = test_sc_df['평균가격'].shift(s)\n",
    "\n",
    "train_sc_df.head(13)"
   ],
   "metadata": {
    "collapsed": false,
    "pycharm": {
     "name": "#%%\n"
    }
   }
  },
  {
   "cell_type": "code",
   "execution_count": 160,
   "outputs": [
    {
     "data": {
      "text/plain": "             shift_1   shift_2   shift_3   shift_4   shift_5   shift_6  \\\n날짜                                                                       \n2017-01-16  0.401286  0.418442  0.415136  0.383542  0.461058  0.461058   \n2017-01-17  0.418442  0.401286  0.418442  0.415136  0.383542  0.461058   \n2017-01-18  0.418442  0.418442  0.401286  0.418442  0.415136  0.383542   \n2017-01-19  0.418442  0.418442  0.418442  0.401286  0.418442  0.415136   \n2017-01-20  0.391991  0.418442  0.418442  0.418442  0.401286  0.418442   \n\n             shift_7   shift_8   shift_9  shift_10  shift_11  shift_12  \n날짜                                                                      \n2017-01-16  0.401286  0.461058  0.461058  0.461058  0.484570  0.401286  \n2017-01-17  0.461058  0.401286  0.461058  0.461058  0.461058  0.484570  \n2017-01-18  0.461058  0.461058  0.401286  0.461058  0.461058  0.461058  \n2017-01-19  0.383542  0.461058  0.461058  0.401286  0.461058  0.461058  \n2017-01-20  0.415136  0.383542  0.461058  0.461058  0.401286  0.461058  ",
      "text/html": "<div>\n<style scoped>\n    .dataframe tbody tr th:only-of-type {\n        vertical-align: middle;\n    }\n\n    .dataframe tbody tr th {\n        vertical-align: top;\n    }\n\n    .dataframe thead th {\n        text-align: right;\n    }\n</style>\n<table border=\"1\" class=\"dataframe\">\n  <thead>\n    <tr style=\"text-align: right;\">\n      <th></th>\n      <th>shift_1</th>\n      <th>shift_2</th>\n      <th>shift_3</th>\n      <th>shift_4</th>\n      <th>shift_5</th>\n      <th>shift_6</th>\n      <th>shift_7</th>\n      <th>shift_8</th>\n      <th>shift_9</th>\n      <th>shift_10</th>\n      <th>shift_11</th>\n      <th>shift_12</th>\n    </tr>\n    <tr>\n      <th>날짜</th>\n      <th></th>\n      <th></th>\n      <th></th>\n      <th></th>\n      <th></th>\n      <th></th>\n      <th></th>\n      <th></th>\n      <th></th>\n      <th></th>\n      <th></th>\n      <th></th>\n    </tr>\n  </thead>\n  <tbody>\n    <tr>\n      <th>2017-01-16</th>\n      <td>0.401286</td>\n      <td>0.418442</td>\n      <td>0.415136</td>\n      <td>0.383542</td>\n      <td>0.461058</td>\n      <td>0.461058</td>\n      <td>0.401286</td>\n      <td>0.461058</td>\n      <td>0.461058</td>\n      <td>0.461058</td>\n      <td>0.484570</td>\n      <td>0.401286</td>\n    </tr>\n    <tr>\n      <th>2017-01-17</th>\n      <td>0.418442</td>\n      <td>0.401286</td>\n      <td>0.418442</td>\n      <td>0.415136</td>\n      <td>0.383542</td>\n      <td>0.461058</td>\n      <td>0.461058</td>\n      <td>0.401286</td>\n      <td>0.461058</td>\n      <td>0.461058</td>\n      <td>0.461058</td>\n      <td>0.484570</td>\n    </tr>\n    <tr>\n      <th>2017-01-18</th>\n      <td>0.418442</td>\n      <td>0.418442</td>\n      <td>0.401286</td>\n      <td>0.418442</td>\n      <td>0.415136</td>\n      <td>0.383542</td>\n      <td>0.461058</td>\n      <td>0.461058</td>\n      <td>0.401286</td>\n      <td>0.461058</td>\n      <td>0.461058</td>\n      <td>0.461058</td>\n    </tr>\n    <tr>\n      <th>2017-01-19</th>\n      <td>0.418442</td>\n      <td>0.418442</td>\n      <td>0.418442</td>\n      <td>0.401286</td>\n      <td>0.418442</td>\n      <td>0.415136</td>\n      <td>0.383542</td>\n      <td>0.461058</td>\n      <td>0.461058</td>\n      <td>0.401286</td>\n      <td>0.461058</td>\n      <td>0.461058</td>\n    </tr>\n    <tr>\n      <th>2017-01-20</th>\n      <td>0.391991</td>\n      <td>0.418442</td>\n      <td>0.418442</td>\n      <td>0.418442</td>\n      <td>0.401286</td>\n      <td>0.418442</td>\n      <td>0.415136</td>\n      <td>0.383542</td>\n      <td>0.461058</td>\n      <td>0.461058</td>\n      <td>0.401286</td>\n      <td>0.461058</td>\n    </tr>\n  </tbody>\n</table>\n</div>"
     },
     "metadata": {},
     "output_type": "display_data"
    }
   ],
   "source": [
    "X_train = train_sc_df.dropna().drop('평균가격', axis = 1)\n",
    "y_train = train_sc_df.dropna()[['평균가격']]\n",
    "\n",
    "X_test = test_sc_df.dropna().drop('평균가격', axis = 1)\n",
    "y_test = test_sc_df.dropna()[['평균가격']]\n",
    "\n",
    "display(X_train.head())"
   ],
   "metadata": {
    "collapsed": false,
    "pycharm": {
     "name": "#%%\n"
    }
   }
  },
  {
   "cell_type": "code",
   "execution_count": 161,
   "outputs": [
    {
     "name": "stdout",
     "output_type": "stream",
     "text": [
      "<class 'pandas.core.frame.DataFrame'>\n",
      "<class 'pandas.core.frame.DataFrame'>\n",
      "x_Train.shape\n",
      " (1240, 12)\n",
      "y_train.shape\n",
      " (1240, 1)\n"
     ]
    }
   ],
   "source": [
    "print(type(X_train))\n",
    "X_train = X_train.values\n",
    "print(type(X_test))\n",
    "X_test = X_test.values\n",
    "y_train = y_train.values\n",
    "y_test = y_test.values\n",
    "\n",
    "print('x_Train.shape\\n', X_train.shape)\n",
    "print('y_train.shape\\n', y_train.shape)"
   ],
   "metadata": {
    "collapsed": false,
    "pycharm": {
     "name": "#%%\n"
    }
   }
  },
  {
   "cell_type": "code",
   "execution_count": 162,
   "outputs": [
    {
     "name": "stdout",
     "output_type": "stream",
     "text": [
      "최종 DATA\n",
      "(1240, 12, 1)\n",
      "[[[0.40128582]\n",
      "  [0.41844232]\n",
      "  [0.41513593]\n",
      "  ...\n",
      "  [0.46105805]\n",
      "  [0.48457017]\n",
      "  [0.40128582]]\n",
      "\n",
      " [[0.41844232]\n",
      "  [0.40128582]\n",
      "  [0.41844232]\n",
      "  ...\n",
      "  [0.46105805]\n",
      "  [0.46105805]\n",
      "  [0.48457017]]\n",
      "\n",
      " [[0.41844232]\n",
      "  [0.41844232]\n",
      "  [0.40128582]\n",
      "  ...\n",
      "  [0.46105805]\n",
      "  [0.46105805]\n",
      "  [0.46105805]]\n",
      "\n",
      " ...\n",
      "\n",
      " [[0.40128582]\n",
      "  [0.34019104]\n",
      "  [0.28581925]\n",
      "  ...\n",
      "  [0.39603233]\n",
      "  [0.43423953]\n",
      "  [0.45554739]]\n",
      "\n",
      " [[0.24173402]\n",
      "  [0.40128582]\n",
      "  [0.34019104]\n",
      "  ...\n",
      "  [0.44158707]\n",
      "  [0.39603233]\n",
      "  [0.43423953]]\n",
      "\n",
      " [[0.23181484]\n",
      "  [0.24173402]\n",
      "  [0.40128582]\n",
      "  ...\n",
      "  [0.40128582]\n",
      "  [0.44158707]\n",
      "  [0.39603233]]]\n",
      "\n",
      "[[0.41844232]\n",
      " [0.41844232]\n",
      " [0.41844232]\n",
      " ...\n",
      " [0.24173402]\n",
      " [0.23181484]\n",
      " [0.25018369]]\n"
     ]
    }
   ],
   "source": [
    "X_train_t = X_train.reshape(X_train.shape[0], 12, 1)\n",
    "X_test_t = X_test.reshape(X_test.shape[0],12,1)\n",
    "\n",
    "print('최종 DATA')\n",
    "print(X_train_t.shape)\n",
    "print(X_train_t)\n",
    "print()\n",
    "print(y_train)"
   ],
   "metadata": {
    "collapsed": false,
    "pycharm": {
     "name": "#%%\n"
    }
   }
  },
  {
   "cell_type": "code",
   "execution_count": 163,
   "outputs": [],
   "source": [
    "import tensorflow as tf\n",
    "from tensorflow.keras.layers import LSTM\n",
    "from tensorflow.keras.models import Sequential\n",
    "from tensorflow.keras.layers import Dense\n",
    "import tensorflow.keras.backend as K\n",
    "from tensorflow.keras.callbacks import EarlyStopping"
   ],
   "metadata": {
    "collapsed": false,
    "pycharm": {
     "name": "#%%\n"
    }
   }
  },
  {
   "cell_type": "code",
   "execution_count": 164,
   "outputs": [
    {
     "name": "stdout",
     "output_type": "stream",
     "text": [
      "Model: \"sequential\"\n",
      "_________________________________________________________________\n",
      "Layer (type)                 Output Shape              Param #   \n",
      "=================================================================\n",
      "lstm (LSTM)                  (None, 20)                1760      \n",
      "_________________________________________________________________\n",
      "dense (Dense)                (None, 1)                 21        \n",
      "=================================================================\n",
      "Total params: 1,781\n",
      "Trainable params: 1,781\n",
      "Non-trainable params: 0\n",
      "_________________________________________________________________\n"
     ]
    }
   ],
   "source": [
    "K.clear_session()\n",
    "\n",
    "model=Sequential()\n",
    "model.add(LSTM(20, input_shape=(12,1)))\n",
    "model.add(Dense(1))\n",
    "model.compile(loss='mean_squared_error', optimizer='adam')\n",
    "model.summary()"
   ],
   "metadata": {
    "collapsed": false,
    "pycharm": {
     "name": "#%%\n"
    }
   }
  },
  {
   "cell_type": "code",
   "execution_count": 165,
   "outputs": [
    {
     "name": "stdout",
     "output_type": "stream",
     "text": [
      "Epoch 1/100\n",
      "42/42 [==============================] - 1s 3ms/step - loss: 0.0988\b\b\b\b\b\b\b\b\b\b\b\b\b\b\b\b\b\b\b\b\b\b\b\b\b\b\b\b\b\b\b\b\b\b\b\b\b\b\b\b\b\b\b\b\b\b\b\b\b\b\b\b\b\b\b\b\b\b\b\b\b\b\b\b\b\b\b\b\b\b\b\b\b\b\b\b\b\b\b\b\b\b\b\b\b\b\b\b\b\b\b\b\b\b\b\b\b\b\b\b\b\b\b\b\b\b\b\b\b\b\b\b\b\b\b\b\b\b\b\b\b\b\b\b\b\b\b\b\b\b\b\b\b\b\b\b\b\b\b\b\b\b\b\b\b\b\b\b\b\b\b\b\b\b\b\b\b\b\b\b\b\b\b\b\b\b\b\b\b\b\b\b\b\b\b\b\b\b\b\b\b\b\b\b\b\b\b\n",
      "Epoch 2/100\n",
      "42/42 [==============================] - 0s 3ms/step - loss: 0.0141\b\b\b\b\b\b\b\b\b\b\b\b\b\b\b\b\b\b\b\b\b\b\b\b\b\b\b\b\b\b\b\b\b\b\b\b\b\b\b\b\b\b\b\b\b\b\b\b\b\b\b\b\b\b\b\b\b\b\b\b\b\b\b\b\b\b\b\b\b\b\b\b\b\b\b\b\b\b\b\b\b\b\b\b\b\b\b\b\b\b\b\b\b\b\b\b\b\b\b\b\b\b\b\b\b\b\b\b\b\b\b\b\b\b\b\b\b\b\b\b\b\b\b\b\b\b\b\b\b\b\b\b\b\b\b\b\b\b\b\b\b\b\b\b\b\b\b\b\b\b\b\b\b\b\b\b\b\b\b\b\b\b\b\b\b\b\b\b\b\b\b\b\b\b\b\b\b\b\b\b\b\b\b\b\b\n",
      "Epoch 3/100\n",
      "42/42 [==============================] - 0s 3ms/step - loss: 0.0120\b\b\b\b\b\b\b\b\b\b\b\b\b\b\b\b\b\b\b\b\b\b\b\b\b\b\b\b\b\b\b\b\b\b\b\b\b\b\b\b\b\b\b\b\b\b\b\b\b\b\b\b\b\b\b\b\b\b\b\b\b\b\b\b\b\b\b\b\b\b\b\b\b\b\b\b\b\b\b\b\b\b\b\b\b\b\b\b\b\b\b\b\b\b\b\b\b\b\b\b\b\b\b\b\b\b\b\b\b\b\b\b\b\b\b\b\b\b\b\b\b\b\b\b\b\b\b\b\b\b\b\b\b\b\b\b\b\b\b\b\b\b\b\b\b\b\b\b\b\b\b\b\b\b\b\b\b\b\b\b\b\b\b\b\b\b\b\b\b\b\b\b\b\b\b\b\b\b\b\b\b\b\b\b\b\n",
      "Epoch 4/100\n",
      "42/42 [==============================] - 0s 3ms/step - loss: 0.0104\b\b\b\b\b\b\b\b\b\b\b\b\b\b\b\b\b\b\b\b\b\b\b\b\b\b\b\b\b\b\b\b\b\b\b\b\b\b\b\b\b\b\b\b\b\b\b\b\b\b\b\b\b\b\b\b\b\b\b\b\b\b\b\b\b\b\b\b\b\b\b\b\b\b\b\b\b\b\b\b\b\b\b\b\b\b\b\b\b\b\b\b\b\b\b\b\b\b\b\b\b\b\b\b\b\b\b\b\b\b\b\b\b\b\b\b\b\b\b\b\b\b\b\b\b\b\b\b\b\b\b\b\b\b\b\b\b\b\b\b\b\b\b\b\b\b\b\b\b\b\b\b\b\b\b\b\b\b\b\b\b\b\b\b\b\b\b\b\b\b\b\b\b\b\b\b\b\b\b\b\b\b\b\b\b\n",
      "Epoch 5/100\n",
      "42/42 [==============================] - 0s 3ms/step - loss: 0.0102\b\b\b\b\b\b\b\b\b\b\b\b\b\b\b\b\b\b\b\b\b\b\b\b\b\b\b\b\b\b\b\b\b\b\b\b\b\b\b\b\b\b\b\b\b\b\b\b\b\b\b\b\b\b\b\b\b\b\b\b\b\b\b\b\b\b\b\b\b\b\b\b\b\b\b\b\b\b\b\b\b\b\b\b\b\b\b\b\b\b\b\b\b\b\b\b\b\b\b\b\b\b\b\b\b\b\b\b\b\b\b\b\b\b\b\b\b\b\b\b\b\b\b\b\b\b\b\b\b\b\b\b\b\b\b\b\b\b\b\b\b\b\b\b\b\b\b\b\b\b\b\b\b\b\b\b\b\b\b\b\b\b\b\b\b\b\b\b\b\b\b\b\b\b\b\b\b\b\b\b\b\b\b\b\b\n",
      "Epoch 6/100\n",
      "42/42 [==============================] - 0s 3ms/step - loss: 0.0098\b\b\b\b\b\b\b\b\b\b\b\b\b\b\b\b\b\b\b\b\b\b\b\b\b\b\b\b\b\b\b\b\b\b\b\b\b\b\b\b\b\b\b\b\b\b\b\b\b\b\b\b\b\b\b\b\b\b\b\b\b\b\b\b\b\b\b\b\b\b\b\b\b\b\b\b\b\b\b\b\b\b\b\b\b\b\b\b\b\b\b\b\b\b\b\b\b\b\b\b\b\b\b\b\b\b\b\b\b\b\b\b\b\b\b\b\b\b\b\b\b\b\b\b\b\b\b\b\b\b\b\b\b\b\b\b\b\b\b\b\b\b\b\b\b\b\b\b\b\b\b\b\b\b\b\b\b\b\b\b\b\b\b\b\b\b\b\b\b\b\b\b\b\b\b\b\b\b\b\b\b\b\b\b\b\n",
      "Epoch 00006: early stopping\n"
     ]
    }
   ],
   "source": [
    "early_stop = EarlyStopping(monitor = 'loss', patience=1, verbose=1)\n",
    "\n",
    "history=model.fit(X_train_t, y_train, epochs=100,\n",
    "          batch_size=30, verbose=1, callbacks=[early_stop])"
   ],
   "metadata": {
    "collapsed": false,
    "pycharm": {
     "name": "#%%\n"
    }
   }
  },
  {
   "cell_type": "code",
   "execution_count": 166,
   "outputs": [
    {
     "data": {
      "text/plain": "              평균가격      shift_1      shift_2      shift_3      shift_4  \\\ncount  1252.000000  1251.000000  1250.000000  1249.000000  1248.000000   \nmean      0.307414     0.307459     0.307520     0.307573     0.307497   \nstd       0.169088     0.169148     0.169202     0.169260     0.169307   \nmin       0.000000     0.000000     0.000000     0.000000     0.000000   \n25%       0.185525     0.185525     0.185525     0.185525     0.185250   \n50%       0.282880     0.283248     0.283982     0.284717     0.283982   \n75%       0.401286     0.401286     0.401286     0.401286     0.401286   \nmax       1.000000     1.000000     1.000000     1.000000     1.000000   \n\n           shift_5      shift_6      shift_7      shift_8      shift_9  \\\ncount  1247.000000  1246.000000  1245.000000  1244.000000  1243.000000   \nmean      0.307471     0.307489     0.307387     0.307251     0.307245   \nstd       0.169372     0.169439     0.169469     0.169470     0.169538   \nmin       0.000000     0.000000     0.000000     0.000000     0.000000   \n25%       0.184974     0.184699     0.184423     0.184423     0.184423   \n50%       0.283248     0.282880     0.282513     0.282513     0.282513   \n75%       0.401286     0.401286     0.401286     0.401286     0.401286   \nmax       1.000000     1.000000     1.000000     1.000000     1.000000   \n\n          shift_10     shift_11     shift_12  \ncount  1242.000000  1241.000000  1240.000000  \nmean      0.307230     0.307154     0.307046  \nstd       0.169605     0.169653     0.169678  \nmin       0.000000     0.000000     0.000000  \n25%       0.184423     0.184423     0.184423  \n50%       0.282513     0.282513     0.282329  \n75%       0.401286     0.401286     0.401286  \nmax       1.000000     1.000000     1.000000  ",
      "text/html": "<div>\n<style scoped>\n    .dataframe tbody tr th:only-of-type {\n        vertical-align: middle;\n    }\n\n    .dataframe tbody tr th {\n        vertical-align: top;\n    }\n\n    .dataframe thead th {\n        text-align: right;\n    }\n</style>\n<table border=\"1\" class=\"dataframe\">\n  <thead>\n    <tr style=\"text-align: right;\">\n      <th></th>\n      <th>평균가격</th>\n      <th>shift_1</th>\n      <th>shift_2</th>\n      <th>shift_3</th>\n      <th>shift_4</th>\n      <th>shift_5</th>\n      <th>shift_6</th>\n      <th>shift_7</th>\n      <th>shift_8</th>\n      <th>shift_9</th>\n      <th>shift_10</th>\n      <th>shift_11</th>\n      <th>shift_12</th>\n    </tr>\n  </thead>\n  <tbody>\n    <tr>\n      <th>count</th>\n      <td>1252.000000</td>\n      <td>1251.000000</td>\n      <td>1250.000000</td>\n      <td>1249.000000</td>\n      <td>1248.000000</td>\n      <td>1247.000000</td>\n      <td>1246.000000</td>\n      <td>1245.000000</td>\n      <td>1244.000000</td>\n      <td>1243.000000</td>\n      <td>1242.000000</td>\n      <td>1241.000000</td>\n      <td>1240.000000</td>\n    </tr>\n    <tr>\n      <th>mean</th>\n      <td>0.307414</td>\n      <td>0.307459</td>\n      <td>0.307520</td>\n      <td>0.307573</td>\n      <td>0.307497</td>\n      <td>0.307471</td>\n      <td>0.307489</td>\n      <td>0.307387</td>\n      <td>0.307251</td>\n      <td>0.307245</td>\n      <td>0.307230</td>\n      <td>0.307154</td>\n      <td>0.307046</td>\n    </tr>\n    <tr>\n      <th>std</th>\n      <td>0.169088</td>\n      <td>0.169148</td>\n      <td>0.169202</td>\n      <td>0.169260</td>\n      <td>0.169307</td>\n      <td>0.169372</td>\n      <td>0.169439</td>\n      <td>0.169469</td>\n      <td>0.169470</td>\n      <td>0.169538</td>\n      <td>0.169605</td>\n      <td>0.169653</td>\n      <td>0.169678</td>\n    </tr>\n    <tr>\n      <th>min</th>\n      <td>0.000000</td>\n      <td>0.000000</td>\n      <td>0.000000</td>\n      <td>0.000000</td>\n      <td>0.000000</td>\n      <td>0.000000</td>\n      <td>0.000000</td>\n      <td>0.000000</td>\n      <td>0.000000</td>\n      <td>0.000000</td>\n      <td>0.000000</td>\n      <td>0.000000</td>\n      <td>0.000000</td>\n    </tr>\n    <tr>\n      <th>25%</th>\n      <td>0.185525</td>\n      <td>0.185525</td>\n      <td>0.185525</td>\n      <td>0.185525</td>\n      <td>0.185250</td>\n      <td>0.184974</td>\n      <td>0.184699</td>\n      <td>0.184423</td>\n      <td>0.184423</td>\n      <td>0.184423</td>\n      <td>0.184423</td>\n      <td>0.184423</td>\n      <td>0.184423</td>\n    </tr>\n    <tr>\n      <th>50%</th>\n      <td>0.282880</td>\n      <td>0.283248</td>\n      <td>0.283982</td>\n      <td>0.284717</td>\n      <td>0.283982</td>\n      <td>0.283248</td>\n      <td>0.282880</td>\n      <td>0.282513</td>\n      <td>0.282513</td>\n      <td>0.282513</td>\n      <td>0.282513</td>\n      <td>0.282513</td>\n      <td>0.282329</td>\n    </tr>\n    <tr>\n      <th>75%</th>\n      <td>0.401286</td>\n      <td>0.401286</td>\n      <td>0.401286</td>\n      <td>0.401286</td>\n      <td>0.401286</td>\n      <td>0.401286</td>\n      <td>0.401286</td>\n      <td>0.401286</td>\n      <td>0.401286</td>\n      <td>0.401286</td>\n      <td>0.401286</td>\n      <td>0.401286</td>\n      <td>0.401286</td>\n    </tr>\n    <tr>\n      <th>max</th>\n      <td>1.000000</td>\n      <td>1.000000</td>\n      <td>1.000000</td>\n      <td>1.000000</td>\n      <td>1.000000</td>\n      <td>1.000000</td>\n      <td>1.000000</td>\n      <td>1.000000</td>\n      <td>1.000000</td>\n      <td>1.000000</td>\n      <td>1.000000</td>\n      <td>1.000000</td>\n      <td>1.000000</td>\n    </tr>\n  </tbody>\n</table>\n</div>"
     },
     "execution_count": 166,
     "metadata": {},
     "output_type": "execute_result"
    }
   ],
   "source": [
    "train_sc_df.describe()"
   ],
   "metadata": {
    "collapsed": false,
    "pycharm": {
     "name": "#%%\n"
    }
   }
  },
  {
   "cell_type": "code",
   "execution_count": 167,
   "outputs": [
    {
     "data": {
      "text/plain": "             평균가격     shift_1     shift_2     shift_3     shift_4     shift_5  \\\ncount  330.000000  329.000000  328.000000  327.000000  326.000000  325.000000   \nmean     0.756973    0.758482    0.759331    0.760183    0.761434    0.762542   \nstd      0.399564    0.399229    0.399542    0.399855    0.399829    0.399943   \nmin      0.124908    0.124908    0.124908    0.124908    0.124908    0.124908   \n25%      0.401286    0.401286    0.401286    0.401286    0.401286    0.401286   \n50%      0.651359    0.651727    0.653196    0.654666    0.655033    0.655400   \n75%      1.040228    1.056943    1.059331    1.061719    1.064107    1.066495   \nmax      1.815944    1.815944    1.815944    1.815944    1.815944    1.815944   \n\n          shift_6     shift_7     shift_8     shift_9    shift_10    shift_11  \\\ncount  324.000000  323.000000  322.000000  321.000000  320.000000  319.000000   \nmean     0.763719    0.764747    0.764912    0.765330    0.766012    0.767075   \nstd      0.399998    0.400190    0.400802    0.401357    0.401800    0.401980   \nmin      0.124908    0.124908    0.124908    0.124908    0.124908    0.124908   \n25%      0.401286    0.401286    0.401286    0.401286    0.401286    0.401286   \n50%      0.659258    0.663115    0.659258    0.663115    0.663483    0.663850   \n75%      1.067046    1.067597    1.068148    1.068699    1.070720    1.072741   \nmax      1.815944    1.815944    1.815944    1.815944    1.815944    1.815944   \n\n         shift_12  \ncount  318.000000  \nmean     0.768225  \nstd      0.402087  \nmin      0.124908  \n25%      0.401286  \n50%      0.663850  \n75%      1.074761  \nmax      1.815944  ",
      "text/html": "<div>\n<style scoped>\n    .dataframe tbody tr th:only-of-type {\n        vertical-align: middle;\n    }\n\n    .dataframe tbody tr th {\n        vertical-align: top;\n    }\n\n    .dataframe thead th {\n        text-align: right;\n    }\n</style>\n<table border=\"1\" class=\"dataframe\">\n  <thead>\n    <tr style=\"text-align: right;\">\n      <th></th>\n      <th>평균가격</th>\n      <th>shift_1</th>\n      <th>shift_2</th>\n      <th>shift_3</th>\n      <th>shift_4</th>\n      <th>shift_5</th>\n      <th>shift_6</th>\n      <th>shift_7</th>\n      <th>shift_8</th>\n      <th>shift_9</th>\n      <th>shift_10</th>\n      <th>shift_11</th>\n      <th>shift_12</th>\n    </tr>\n  </thead>\n  <tbody>\n    <tr>\n      <th>count</th>\n      <td>330.000000</td>\n      <td>329.000000</td>\n      <td>328.000000</td>\n      <td>327.000000</td>\n      <td>326.000000</td>\n      <td>325.000000</td>\n      <td>324.000000</td>\n      <td>323.000000</td>\n      <td>322.000000</td>\n      <td>321.000000</td>\n      <td>320.000000</td>\n      <td>319.000000</td>\n      <td>318.000000</td>\n    </tr>\n    <tr>\n      <th>mean</th>\n      <td>0.756973</td>\n      <td>0.758482</td>\n      <td>0.759331</td>\n      <td>0.760183</td>\n      <td>0.761434</td>\n      <td>0.762542</td>\n      <td>0.763719</td>\n      <td>0.764747</td>\n      <td>0.764912</td>\n      <td>0.765330</td>\n      <td>0.766012</td>\n      <td>0.767075</td>\n      <td>0.768225</td>\n    </tr>\n    <tr>\n      <th>std</th>\n      <td>0.399564</td>\n      <td>0.399229</td>\n      <td>0.399542</td>\n      <td>0.399855</td>\n      <td>0.399829</td>\n      <td>0.399943</td>\n      <td>0.399998</td>\n      <td>0.400190</td>\n      <td>0.400802</td>\n      <td>0.401357</td>\n      <td>0.401800</td>\n      <td>0.401980</td>\n      <td>0.402087</td>\n    </tr>\n    <tr>\n      <th>min</th>\n      <td>0.124908</td>\n      <td>0.124908</td>\n      <td>0.124908</td>\n      <td>0.124908</td>\n      <td>0.124908</td>\n      <td>0.124908</td>\n      <td>0.124908</td>\n      <td>0.124908</td>\n      <td>0.124908</td>\n      <td>0.124908</td>\n      <td>0.124908</td>\n      <td>0.124908</td>\n      <td>0.124908</td>\n    </tr>\n    <tr>\n      <th>25%</th>\n      <td>0.401286</td>\n      <td>0.401286</td>\n      <td>0.401286</td>\n      <td>0.401286</td>\n      <td>0.401286</td>\n      <td>0.401286</td>\n      <td>0.401286</td>\n      <td>0.401286</td>\n      <td>0.401286</td>\n      <td>0.401286</td>\n      <td>0.401286</td>\n      <td>0.401286</td>\n      <td>0.401286</td>\n    </tr>\n    <tr>\n      <th>50%</th>\n      <td>0.651359</td>\n      <td>0.651727</td>\n      <td>0.653196</td>\n      <td>0.654666</td>\n      <td>0.655033</td>\n      <td>0.655400</td>\n      <td>0.659258</td>\n      <td>0.663115</td>\n      <td>0.659258</td>\n      <td>0.663115</td>\n      <td>0.663483</td>\n      <td>0.663850</td>\n      <td>0.663850</td>\n    </tr>\n    <tr>\n      <th>75%</th>\n      <td>1.040228</td>\n      <td>1.056943</td>\n      <td>1.059331</td>\n      <td>1.061719</td>\n      <td>1.064107</td>\n      <td>1.066495</td>\n      <td>1.067046</td>\n      <td>1.067597</td>\n      <td>1.068148</td>\n      <td>1.068699</td>\n      <td>1.070720</td>\n      <td>1.072741</td>\n      <td>1.074761</td>\n    </tr>\n    <tr>\n      <th>max</th>\n      <td>1.815944</td>\n      <td>1.815944</td>\n      <td>1.815944</td>\n      <td>1.815944</td>\n      <td>1.815944</td>\n      <td>1.815944</td>\n      <td>1.815944</td>\n      <td>1.815944</td>\n      <td>1.815944</td>\n      <td>1.815944</td>\n      <td>1.815944</td>\n      <td>1.815944</td>\n      <td>1.815944</td>\n    </tr>\n  </tbody>\n</table>\n</div>"
     },
     "execution_count": 167,
     "metadata": {},
     "output_type": "execute_result"
    }
   ],
   "source": [
    "test_sc_df.describe()"
   ],
   "metadata": {
    "collapsed": false,
    "pycharm": {
     "name": "#%%\n"
    }
   }
  },
  {
   "cell_type": "code",
   "execution_count": 168,
   "outputs": [
    {
     "data": {
      "text/plain": "Text(0.5, 1.0, 'Prices vs Predicted price Index: $Y_i$ vs $\\\\hat{Y}_i$')"
     },
     "execution_count": 168,
     "metadata": {},
     "output_type": "execute_result"
    },
    {
     "data": {
      "text/plain": "<Figure size 432x288 with 1 Axes>",
      "image/png": "[encoded data removed]"
     },
     "metadata": {
      "needs_background": "light"
     },
     "output_type": "display_data"
    }
   ],
   "source": [
    "%matplotlib inline\n",
    "import matplotlib.pyplot as plt\n",
    "\n",
    "\n",
    "y_pred = model.predict(X_test_t, batch_size=32)\n",
    "plt.scatter(y_test, y_pred)\n",
    "plt.xlabel(\"Price Index: $Y_i$\")\n",
    "plt.ylabel(\"Predicted price Index: $\\hat{Y}_i$\")\n",
    "plt.title(\"Prices vs Predicted price Index: $Y_i$ vs $\\hat{Y}_i$\")"
   ],
   "metadata": {
    "collapsed": false,
    "pycharm": {
     "name": "#%%\n"
    }
   }
  },
  {
   "cell_type": "code",
   "execution_count": 169,
   "outputs": [
    {
     "name": "stdout",
     "output_type": "stream",
     "text": [
      "0.010171622969210148\n",
      "0.07498063147068024\n"
     ]
    }
   ],
   "source": [
    "trainScore = model.evaluate(X_train_t, y_train, verbose=0)\n",
    "print(trainScore)\n",
    "testScore = model.evaluate(X_test_t, y_test, verbose=0)\n",
    "print(testScore)"
   ],
   "metadata": {
    "collapsed": false,
    "pycharm": {
     "name": "#%%\n"
    }
   }
  },
  {
   "cell_type": "code",
   "execution_count": 174,
   "outputs": [],
   "source": [
    "def plot_train_history(history, title):\n",
    "    loss = history.history['loss']\n",
    "\n",
    "\n",
    "    epochs = range(len(loss))\n",
    "\n",
    "    plt.figure()\n",
    "\n",
    "    plt.plot(epochs, loss, 'b', label = 'Training loss')\n",
    "\n",
    "    plt.title(title)\n",
    "    plt.legend()\n",
    "\n",
    "    plt.show()"
   ],
   "metadata": {
    "collapsed": false,
    "pycharm": {
     "name": "#%%\n"
    }
   }
  },
  {
   "cell_type": "code",
   "execution_count": 175,
   "outputs": [
    {
     "data": {
      "text/plain": "<Figure size 432x288 with 1 Axes>",
      "image/png": "[encoded data removed]"
     },
     "metadata": {
      "needs_background": "light"
     },
     "output_type": "display_data"
    }
   ],
   "source": [
    "plot_train_history(history, '으악 개졸려')"
   ],
   "metadata": {
    "collapsed": false,
    "pycharm": {
     "name": "#%%\n"
    }
   }
  },
  {
   "cell_type": "code",
   "execution_count": 177,
   "outputs": [
    {
     "ename": "ValueError",
     "evalue": "in user code:\n\n    c:\\201814471\\setup\\envs\\py37\\lib\\site-packages\\tensorflow\\python\\keras\\engine\\training.py:1478 predict_function  *\n        return step_function(self, iterator)\n    c:\\201814471\\setup\\envs\\py37\\lib\\site-packages\\tensorflow\\python\\keras\\engine\\training.py:1468 step_function  **\n        outputs = model.distribute_strategy.run(run_step, args=(data,))\n    c:\\201814471\\setup\\envs\\py37\\lib\\site-packages\\tensorflow\\python\\distribute\\distribute_lib.py:1259 run\n        return self._extended.call_for_each_replica(fn, args=args, kwargs=kwargs)\n    c:\\201814471\\setup\\envs\\py37\\lib\\site-packages\\tensorflow\\python\\distribute\\distribute_lib.py:2730 call_for_each_replica\n        return self._call_for_each_replica(fn, args, kwargs)\n    c:\\201814471\\setup\\envs\\py37\\lib\\site-packages\\tensorflow\\python\\distribute\\distribute_lib.py:3417 _call_for_each_replica\n        return fn(*args, **kwargs)\n    c:\\201814471\\setup\\envs\\py37\\lib\\site-packages\\tensorflow\\python\\keras\\engine\\training.py:1461 run_step  **\n        outputs = model.predict_step(data)\n    c:\\201814471\\setup\\envs\\py37\\lib\\site-packages\\tensorflow\\python\\keras\\engine\\training.py:1434 predict_step\n        return self(x, training=False)\n    c:\\201814471\\setup\\envs\\py37\\lib\\site-packages\\tensorflow\\python\\keras\\engine\\base_layer.py:998 __call__\n        input_spec.assert_input_compatibility(self.input_spec, inputs, self.name)\n    c:\\201814471\\setup\\envs\\py37\\lib\\site-packages\\tensorflow\\python\\keras\\engine\\input_spec.py:223 assert_input_compatibility\n        str(tuple(shape)))\n\n    ValueError: Input 0 of layer sequential is incompatible with the layer: expected ndim=3, found ndim=2. Full shape received: (None, 1)\n",
     "output_type": "error",
     "traceback": [
      "\u001B[1;31m---------------------------------------------------------------------------\u001B[0m",
      "\u001B[1;31mValueError\u001B[0m                                Traceback (most recent call last)",
      "\u001B[1;32m<ipython-input-177-69eb8c446858>\u001B[0m in \u001B[0;36m<module>\u001B[1;34m\u001B[0m\n\u001B[1;32m----> 1\u001B[1;33m \u001B[0mmodel\u001B[0m\u001B[1;33m.\u001B[0m\u001B[0mpredict\u001B[0m\u001B[1;33m(\u001B[0m\u001B[1;33m[\u001B[0m\u001B[1;34m'2021-06-10'\u001B[0m\u001B[1;33m]\u001B[0m\u001B[1;33m)\u001B[0m\u001B[1;33m\u001B[0m\u001B[1;33m\u001B[0m\u001B[0m\n\u001B[0m",
      "\u001B[1;32mc:\\201814471\\setup\\envs\\py37\\lib\\site-packages\\tensorflow\\python\\keras\\engine\\training.py\u001B[0m in \u001B[0;36mpredict\u001B[1;34m(self, x, batch_size, verbose, steps, callbacks, max_queue_size, workers, use_multiprocessing)\u001B[0m\n\u001B[0;32m   1627\u001B[0m           \u001B[1;32mfor\u001B[0m \u001B[0mstep\u001B[0m \u001B[1;32min\u001B[0m \u001B[0mdata_handler\u001B[0m\u001B[1;33m.\u001B[0m\u001B[0msteps\u001B[0m\u001B[1;33m(\u001B[0m\u001B[1;33m)\u001B[0m\u001B[1;33m:\u001B[0m\u001B[1;33m\u001B[0m\u001B[1;33m\u001B[0m\u001B[0m\n\u001B[0;32m   1628\u001B[0m             \u001B[0mcallbacks\u001B[0m\u001B[1;33m.\u001B[0m\u001B[0mon_predict_batch_begin\u001B[0m\u001B[1;33m(\u001B[0m\u001B[0mstep\u001B[0m\u001B[1;33m)\u001B[0m\u001B[1;33m\u001B[0m\u001B[1;33m\u001B[0m\u001B[0m\n\u001B[1;32m-> 1629\u001B[1;33m             \u001B[0mtmp_batch_outputs\u001B[0m \u001B[1;33m=\u001B[0m \u001B[0mself\u001B[0m\u001B[1;33m.\u001B[0m\u001B[0mpredict_function\u001B[0m\u001B[1;33m(\u001B[0m\u001B[0miterator\u001B[0m\u001B[1;33m)\u001B[0m\u001B[1;33m\u001B[0m\u001B[1;33m\u001B[0m\u001B[0m\n\u001B[0m\u001B[0;32m   1630\u001B[0m             \u001B[1;32mif\u001B[0m \u001B[0mdata_handler\u001B[0m\u001B[1;33m.\u001B[0m\u001B[0mshould_sync\u001B[0m\u001B[1;33m:\u001B[0m\u001B[1;33m\u001B[0m\u001B[1;33m\u001B[0m\u001B[0m\n\u001B[0;32m   1631\u001B[0m               \u001B[0mcontext\u001B[0m\u001B[1;33m.\u001B[0m\u001B[0masync_wait\u001B[0m\u001B[1;33m(\u001B[0m\u001B[1;33m)\u001B[0m\u001B[1;33m\u001B[0m\u001B[1;33m\u001B[0m\u001B[0m\n",
      "\u001B[1;32mc:\\201814471\\setup\\envs\\py37\\lib\\site-packages\\tensorflow\\python\\eager\\def_function.py\u001B[0m in \u001B[0;36m__call__\u001B[1;34m(self, *args, **kwds)\u001B[0m\n\u001B[0;32m    826\u001B[0m     \u001B[0mtracing_count\u001B[0m \u001B[1;33m=\u001B[0m \u001B[0mself\u001B[0m\u001B[1;33m.\u001B[0m\u001B[0mexperimental_get_tracing_count\u001B[0m\u001B[1;33m(\u001B[0m\u001B[1;33m)\u001B[0m\u001B[1;33m\u001B[0m\u001B[1;33m\u001B[0m\u001B[0m\n\u001B[0;32m    827\u001B[0m     \u001B[1;32mwith\u001B[0m \u001B[0mtrace\u001B[0m\u001B[1;33m.\u001B[0m\u001B[0mTrace\u001B[0m\u001B[1;33m(\u001B[0m\u001B[0mself\u001B[0m\u001B[1;33m.\u001B[0m\u001B[0m_name\u001B[0m\u001B[1;33m)\u001B[0m \u001B[1;32mas\u001B[0m \u001B[0mtm\u001B[0m\u001B[1;33m:\u001B[0m\u001B[1;33m\u001B[0m\u001B[1;33m\u001B[0m\u001B[0m\n\u001B[1;32m--> 828\u001B[1;33m       \u001B[0mresult\u001B[0m \u001B[1;33m=\u001B[0m \u001B[0mself\u001B[0m\u001B[1;33m.\u001B[0m\u001B[0m_call\u001B[0m\u001B[1;33m(\u001B[0m\u001B[1;33m*\u001B[0m\u001B[0margs\u001B[0m\u001B[1;33m,\u001B[0m \u001B[1;33m**\u001B[0m\u001B[0mkwds\u001B[0m\u001B[1;33m)\u001B[0m\u001B[1;33m\u001B[0m\u001B[1;33m\u001B[0m\u001B[0m\n\u001B[0m\u001B[0;32m    829\u001B[0m       \u001B[0mcompiler\u001B[0m \u001B[1;33m=\u001B[0m \u001B[1;34m\"xla\"\u001B[0m \u001B[1;32mif\u001B[0m \u001B[0mself\u001B[0m\u001B[1;33m.\u001B[0m\u001B[0m_experimental_compile\u001B[0m \u001B[1;32melse\u001B[0m \u001B[1;34m\"nonXla\"\u001B[0m\u001B[1;33m\u001B[0m\u001B[1;33m\u001B[0m\u001B[0m\n\u001B[0;32m    830\u001B[0m       \u001B[0mnew_tracing_count\u001B[0m \u001B[1;33m=\u001B[0m \u001B[0mself\u001B[0m\u001B[1;33m.\u001B[0m\u001B[0mexperimental_get_tracing_count\u001B[0m\u001B[1;33m(\u001B[0m\u001B[1;33m)\u001B[0m\u001B[1;33m\u001B[0m\u001B[1;33m\u001B[0m\u001B[0m\n",
      "\u001B[1;32mc:\\201814471\\setup\\envs\\py37\\lib\\site-packages\\tensorflow\\python\\eager\\def_function.py\u001B[0m in \u001B[0;36m_call\u001B[1;34m(self, *args, **kwds)\u001B[0m\n\u001B[0;32m    860\u001B[0m       \u001B[1;31m# In this case we have not created variables on the first call. So we can\u001B[0m\u001B[1;33m\u001B[0m\u001B[1;33m\u001B[0m\u001B[1;33m\u001B[0m\u001B[0m\n\u001B[0;32m    861\u001B[0m       \u001B[1;31m# run the first trace but we should fail if variables are created.\u001B[0m\u001B[1;33m\u001B[0m\u001B[1;33m\u001B[0m\u001B[1;33m\u001B[0m\u001B[0m\n\u001B[1;32m--> 862\u001B[1;33m       \u001B[0mresults\u001B[0m \u001B[1;33m=\u001B[0m \u001B[0mself\u001B[0m\u001B[1;33m.\u001B[0m\u001B[0m_stateful_fn\u001B[0m\u001B[1;33m(\u001B[0m\u001B[1;33m*\u001B[0m\u001B[0margs\u001B[0m\u001B[1;33m,\u001B[0m \u001B[1;33m**\u001B[0m\u001B[0mkwds\u001B[0m\u001B[1;33m)\u001B[0m\u001B[1;33m\u001B[0m\u001B[1;33m\u001B[0m\u001B[0m\n\u001B[0m\u001B[0;32m    863\u001B[0m       \u001B[1;32mif\u001B[0m \u001B[0mself\u001B[0m\u001B[1;33m.\u001B[0m\u001B[0m_created_variables\u001B[0m\u001B[1;33m:\u001B[0m\u001B[1;33m\u001B[0m\u001B[1;33m\u001B[0m\u001B[0m\n\u001B[0;32m    864\u001B[0m         raise ValueError(\"Creating variables on a non-first call to a function\"\n",
      "\u001B[1;32mc:\\201814471\\setup\\envs\\py37\\lib\\site-packages\\tensorflow\\python\\eager\\function.py\u001B[0m in \u001B[0;36m__call__\u001B[1;34m(self, *args, **kwargs)\u001B[0m\n\u001B[0;32m   2939\u001B[0m     \u001B[1;32mwith\u001B[0m \u001B[0mself\u001B[0m\u001B[1;33m.\u001B[0m\u001B[0m_lock\u001B[0m\u001B[1;33m:\u001B[0m\u001B[1;33m\u001B[0m\u001B[1;33m\u001B[0m\u001B[0m\n\u001B[0;32m   2940\u001B[0m       (graph_function,\n\u001B[1;32m-> 2941\u001B[1;33m        filtered_flat_args) = self._maybe_define_function(args, kwargs)\n\u001B[0m\u001B[0;32m   2942\u001B[0m     return graph_function._call_flat(\n\u001B[0;32m   2943\u001B[0m         filtered_flat_args, captured_inputs=graph_function.captured_inputs)  # pylint: disable=protected-access\n",
      "\u001B[1;32mc:\\201814471\\setup\\envs\\py37\\lib\\site-packages\\tensorflow\\python\\eager\\function.py\u001B[0m in \u001B[0;36m_maybe_define_function\u001B[1;34m(self, args, kwargs)\u001B[0m\n\u001B[0;32m   3356\u001B[0m               call_context_key in self._function_cache.missed):\n\u001B[0;32m   3357\u001B[0m             return self._define_function_with_shape_relaxation(\n\u001B[1;32m-> 3358\u001B[1;33m                 args, kwargs, flat_args, filtered_flat_args, cache_key_context)\n\u001B[0m\u001B[0;32m   3359\u001B[0m \u001B[1;33m\u001B[0m\u001B[0m\n\u001B[0;32m   3360\u001B[0m           \u001B[0mself\u001B[0m\u001B[1;33m.\u001B[0m\u001B[0m_function_cache\u001B[0m\u001B[1;33m.\u001B[0m\u001B[0mmissed\u001B[0m\u001B[1;33m.\u001B[0m\u001B[0madd\u001B[0m\u001B[1;33m(\u001B[0m\u001B[0mcall_context_key\u001B[0m\u001B[1;33m)\u001B[0m\u001B[1;33m\u001B[0m\u001B[1;33m\u001B[0m\u001B[0m\n",
      "\u001B[1;32mc:\\201814471\\setup\\envs\\py37\\lib\\site-packages\\tensorflow\\python\\eager\\function.py\u001B[0m in \u001B[0;36m_define_function_with_shape_relaxation\u001B[1;34m(self, args, kwargs, flat_args, filtered_flat_args, cache_key_context)\u001B[0m\n\u001B[0;32m   3278\u001B[0m \u001B[1;33m\u001B[0m\u001B[0m\n\u001B[0;32m   3279\u001B[0m     graph_function = self._create_graph_function(\n\u001B[1;32m-> 3280\u001B[1;33m         args, kwargs, override_flat_arg_shapes=relaxed_arg_shapes)\n\u001B[0m\u001B[0;32m   3281\u001B[0m     \u001B[0mself\u001B[0m\u001B[1;33m.\u001B[0m\u001B[0m_function_cache\u001B[0m\u001B[1;33m.\u001B[0m\u001B[0marg_relaxed\u001B[0m\u001B[1;33m[\u001B[0m\u001B[0mrank_only_cache_key\u001B[0m\u001B[1;33m]\u001B[0m \u001B[1;33m=\u001B[0m \u001B[0mgraph_function\u001B[0m\u001B[1;33m\u001B[0m\u001B[1;33m\u001B[0m\u001B[0m\n\u001B[0;32m   3282\u001B[0m \u001B[1;33m\u001B[0m\u001B[0m\n",
      "\u001B[1;32mc:\\201814471\\setup\\envs\\py37\\lib\\site-packages\\tensorflow\\python\\eager\\function.py\u001B[0m in \u001B[0;36m_create_graph_function\u001B[1;34m(self, args, kwargs, override_flat_arg_shapes)\u001B[0m\n\u001B[0;32m   3204\u001B[0m             \u001B[0marg_names\u001B[0m\u001B[1;33m=\u001B[0m\u001B[0marg_names\u001B[0m\u001B[1;33m,\u001B[0m\u001B[1;33m\u001B[0m\u001B[1;33m\u001B[0m\u001B[0m\n\u001B[0;32m   3205\u001B[0m             \u001B[0moverride_flat_arg_shapes\u001B[0m\u001B[1;33m=\u001B[0m\u001B[0moverride_flat_arg_shapes\u001B[0m\u001B[1;33m,\u001B[0m\u001B[1;33m\u001B[0m\u001B[1;33m\u001B[0m\u001B[0m\n\u001B[1;32m-> 3206\u001B[1;33m             capture_by_value=self._capture_by_value),\n\u001B[0m\u001B[0;32m   3207\u001B[0m         \u001B[0mself\u001B[0m\u001B[1;33m.\u001B[0m\u001B[0m_function_attributes\u001B[0m\u001B[1;33m,\u001B[0m\u001B[1;33m\u001B[0m\u001B[1;33m\u001B[0m\u001B[0m\n\u001B[0;32m   3208\u001B[0m         \u001B[0mfunction_spec\u001B[0m\u001B[1;33m=\u001B[0m\u001B[0mself\u001B[0m\u001B[1;33m.\u001B[0m\u001B[0mfunction_spec\u001B[0m\u001B[1;33m,\u001B[0m\u001B[1;33m\u001B[0m\u001B[1;33m\u001B[0m\u001B[0m\n",
      "\u001B[1;32mc:\\201814471\\setup\\envs\\py37\\lib\\site-packages\\tensorflow\\python\\framework\\func_graph.py\u001B[0m in \u001B[0;36mfunc_graph_from_py_func\u001B[1;34m(name, python_func, args, kwargs, signature, func_graph, autograph, autograph_options, add_control_dependencies, arg_names, op_return_value, collections, capture_by_value, override_flat_arg_shapes)\u001B[0m\n\u001B[0;32m    988\u001B[0m         \u001B[0m_\u001B[0m\u001B[1;33m,\u001B[0m \u001B[0moriginal_func\u001B[0m \u001B[1;33m=\u001B[0m \u001B[0mtf_decorator\u001B[0m\u001B[1;33m.\u001B[0m\u001B[0munwrap\u001B[0m\u001B[1;33m(\u001B[0m\u001B[0mpython_func\u001B[0m\u001B[1;33m)\u001B[0m\u001B[1;33m\u001B[0m\u001B[1;33m\u001B[0m\u001B[0m\n\u001B[0;32m    989\u001B[0m \u001B[1;33m\u001B[0m\u001B[0m\n\u001B[1;32m--> 990\u001B[1;33m       \u001B[0mfunc_outputs\u001B[0m \u001B[1;33m=\u001B[0m \u001B[0mpython_func\u001B[0m\u001B[1;33m(\u001B[0m\u001B[1;33m*\u001B[0m\u001B[0mfunc_args\u001B[0m\u001B[1;33m,\u001B[0m \u001B[1;33m**\u001B[0m\u001B[0mfunc_kwargs\u001B[0m\u001B[1;33m)\u001B[0m\u001B[1;33m\u001B[0m\u001B[1;33m\u001B[0m\u001B[0m\n\u001B[0m\u001B[0;32m    991\u001B[0m \u001B[1;33m\u001B[0m\u001B[0m\n\u001B[0;32m    992\u001B[0m       \u001B[1;31m# invariant: `func_outputs` contains only Tensors, CompositeTensors,\u001B[0m\u001B[1;33m\u001B[0m\u001B[1;33m\u001B[0m\u001B[1;33m\u001B[0m\u001B[0m\n",
      "\u001B[1;32mc:\\201814471\\setup\\envs\\py37\\lib\\site-packages\\tensorflow\\python\\eager\\def_function.py\u001B[0m in \u001B[0;36mwrapped_fn\u001B[1;34m(*args, **kwds)\u001B[0m\n\u001B[0;32m    632\u001B[0m             \u001B[0mxla_context\u001B[0m\u001B[1;33m.\u001B[0m\u001B[0mExit\u001B[0m\u001B[1;33m(\u001B[0m\u001B[1;33m)\u001B[0m\u001B[1;33m\u001B[0m\u001B[1;33m\u001B[0m\u001B[0m\n\u001B[0;32m    633\u001B[0m         \u001B[1;32melse\u001B[0m\u001B[1;33m:\u001B[0m\u001B[1;33m\u001B[0m\u001B[1;33m\u001B[0m\u001B[0m\n\u001B[1;32m--> 634\u001B[1;33m           \u001B[0mout\u001B[0m \u001B[1;33m=\u001B[0m \u001B[0mweak_wrapped_fn\u001B[0m\u001B[1;33m(\u001B[0m\u001B[1;33m)\u001B[0m\u001B[1;33m.\u001B[0m\u001B[0m__wrapped__\u001B[0m\u001B[1;33m(\u001B[0m\u001B[1;33m*\u001B[0m\u001B[0margs\u001B[0m\u001B[1;33m,\u001B[0m \u001B[1;33m**\u001B[0m\u001B[0mkwds\u001B[0m\u001B[1;33m)\u001B[0m\u001B[1;33m\u001B[0m\u001B[1;33m\u001B[0m\u001B[0m\n\u001B[0m\u001B[0;32m    635\u001B[0m         \u001B[1;32mreturn\u001B[0m \u001B[0mout\u001B[0m\u001B[1;33m\u001B[0m\u001B[1;33m\u001B[0m\u001B[0m\n\u001B[0;32m    636\u001B[0m \u001B[1;33m\u001B[0m\u001B[0m\n",
      "\u001B[1;32mc:\\201814471\\setup\\envs\\py37\\lib\\site-packages\\tensorflow\\python\\framework\\func_graph.py\u001B[0m in \u001B[0;36mwrapper\u001B[1;34m(*args, **kwargs)\u001B[0m\n\u001B[0;32m    975\u001B[0m           \u001B[1;32mexcept\u001B[0m \u001B[0mException\u001B[0m \u001B[1;32mas\u001B[0m \u001B[0me\u001B[0m\u001B[1;33m:\u001B[0m  \u001B[1;31m# pylint:disable=broad-except\u001B[0m\u001B[1;33m\u001B[0m\u001B[1;33m\u001B[0m\u001B[0m\n\u001B[0;32m    976\u001B[0m             \u001B[1;32mif\u001B[0m \u001B[0mhasattr\u001B[0m\u001B[1;33m(\u001B[0m\u001B[0me\u001B[0m\u001B[1;33m,\u001B[0m \u001B[1;34m\"ag_error_metadata\"\u001B[0m\u001B[1;33m)\u001B[0m\u001B[1;33m:\u001B[0m\u001B[1;33m\u001B[0m\u001B[1;33m\u001B[0m\u001B[0m\n\u001B[1;32m--> 977\u001B[1;33m               \u001B[1;32mraise\u001B[0m \u001B[0me\u001B[0m\u001B[1;33m.\u001B[0m\u001B[0mag_error_metadata\u001B[0m\u001B[1;33m.\u001B[0m\u001B[0mto_exception\u001B[0m\u001B[1;33m(\u001B[0m\u001B[0me\u001B[0m\u001B[1;33m)\u001B[0m\u001B[1;33m\u001B[0m\u001B[1;33m\u001B[0m\u001B[0m\n\u001B[0m\u001B[0;32m    978\u001B[0m             \u001B[1;32melse\u001B[0m\u001B[1;33m:\u001B[0m\u001B[1;33m\u001B[0m\u001B[1;33m\u001B[0m\u001B[0m\n\u001B[0;32m    979\u001B[0m               \u001B[1;32mraise\u001B[0m\u001B[1;33m\u001B[0m\u001B[1;33m\u001B[0m\u001B[0m\n",
      "\u001B[1;31mValueError\u001B[0m: in user code:\n\n    c:\\201814471\\setup\\envs\\py37\\lib\\site-packages\\tensorflow\\python\\keras\\engine\\training.py:1478 predict_function  *\n        return step_function(self, iterator)\n    c:\\201814471\\setup\\envs\\py37\\lib\\site-packages\\tensorflow\\python\\keras\\engine\\training.py:1468 step_function  **\n        outputs = model.distribute_strategy.run(run_step, args=(data,))\n    c:\\201814471\\setup\\envs\\py37\\lib\\site-packages\\tensorflow\\python\\distribute\\distribute_lib.py:1259 run\n        return self._extended.call_for_each_replica(fn, args=args, kwargs=kwargs)\n    c:\\201814471\\setup\\envs\\py37\\lib\\site-packages\\tensorflow\\python\\distribute\\distribute_lib.py:2730 call_for_each_replica\n        return self._call_for_each_replica(fn, args, kwargs)\n    c:\\201814471\\setup\\envs\\py37\\lib\\site-packages\\tensorflow\\python\\distribute\\distribute_lib.py:3417 _call_for_each_replica\n        return fn(*args, **kwargs)\n    c:\\201814471\\setup\\envs\\py37\\lib\\site-packages\\tensorflow\\python\\keras\\engine\\training.py:1461 run_step  **\n        outputs = model.predict_step(data)\n    c:\\201814471\\setup\\envs\\py37\\lib\\site-packages\\tensorflow\\python\\keras\\engine\\training.py:1434 predict_step\n        return self(x, training=False)\n    c:\\201814471\\setup\\envs\\py37\\lib\\site-packages\\tensorflow\\python\\keras\\engine\\base_layer.py:998 __call__\n        input_spec.assert_input_compatibility(self.input_spec, inputs, self.name)\n    c:\\201814471\\setup\\envs\\py37\\lib\\site-packages\\tensorflow\\python\\keras\\engine\\input_spec.py:223 assert_input_compatibility\n        str(tuple(shape)))\n\n    ValueError: Input 0 of layer sequential is incompatible with the layer: expected ndim=3, found ndim=2. Full shape received: (None, 1)\n"
     ]
    }
   ],
   "source": [
    "model.predict(['2021-06-10'])"
   ],
   "metadata": {
    "collapsed": false,
    "pycharm": {
     "name": "#%%\n"
    }
   }
  },
  {
   "cell_type": "code",
   "execution_count": null,
   "outputs": [],
   "source": [],
   "metadata": {
    "collapsed": false,
    "pycharm": {
     "name": "#%%\n"
    }
   }
  }
 ],
 "metadata": {
  "kernelspec": {
   "display_name": "Python 3",
   "language": "python",
   "name": "python3"
  },
  "language_info": {
   "codemirror_mode": {
    "name": "ipython",
    "version": 2
   },
   "file_extension": ".py",
   "mimetype": "text/x-python",
   "name": "python",
   "nbconvert_exporter": "python",
   "pygments_lexer": "ipython2",
   "version": "2.7.6"
  }
 },
 "nbformat": 4,
 "nbformat_minor": 0
}