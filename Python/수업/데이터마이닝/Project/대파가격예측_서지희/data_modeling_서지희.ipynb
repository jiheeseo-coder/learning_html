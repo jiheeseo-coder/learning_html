{
 "cells": [
  {
   "cell_type": "code",
   "execution_count": 1,
   "metadata": {
    "pycharm": {
     "name": "#%%\n"
    }
   },
   "outputs": [],
   "source": [
    "import urllib.request\n",
    "import pandas\n",
    "import xml.etree.ElementTree as ET\n",
    "\n",
    "import seaborn as sns\n",
    "import pandas as pd\n",
    "import numpy as np\n",
    "from IPython.display import display\n",
    "import matplotlib.pyplot as plt\n",
    "from datetime import timedelta\n",
    "\n",
    "# 한글 폰트 설정\n",
    "from matplotlib import font_manager, rc\n",
    "font_name = font_manager.FontProperties(fname=\"c:/Windows/Fonts/malgun.ttf\").get_name()\n",
    "rc('font', family=font_name)\n",
    "\n",
    "### 선형회귀 모델링\n"
   ]
  },
  {
   "cell_type": "code",
   "execution_count": 2,
   "metadata": {
    "pycharm": {
     "name": "#%%\n"
    }
   },
   "outputs": [
    {
     "data": {
      "text/html": [
       "<div>\n",
       "<style scoped>\n",
       "    .dataframe tbody tr th:only-of-type {\n",
       "        vertical-align: middle;\n",
       "    }\n",
       "\n",
       "    .dataframe tbody tr th {\n",
       "        vertical-align: top;\n",
       "    }\n",
       "\n",
       "    .dataframe thead th {\n",
       "        text-align: right;\n",
       "    }\n",
       "</style>\n",
       "<table border=\"1\" class=\"dataframe\">\n",
       "  <thead>\n",
       "    <tr style=\"text-align: right;\">\n",
       "      <th></th>\n",
       "      <th>날짜</th>\n",
       "      <th>품목명</th>\n",
       "      <th>평균가격</th>\n",
       "      <th>전일평균가격</th>\n",
       "      <th>전년가격</th>\n",
       "      <th>등급</th>\n",
       "      <th>평균기온</th>\n",
       "      <th>강수량</th>\n",
       "    </tr>\n",
       "  </thead>\n",
       "  <tbody>\n",
       "    <tr>\n",
       "      <th>0</th>\n",
       "      <td>20170101</td>\n",
       "      <td>대파(일반)</td>\n",
       "      <td>2509.6</td>\n",
       "      <td>2833.0</td>\n",
       "      <td>0.0</td>\n",
       "      <td>특</td>\n",
       "      <td>4.3</td>\n",
       "      <td>0.0</td>\n",
       "    </tr>\n",
       "    <tr>\n",
       "      <th>5</th>\n",
       "      <td>20170103</td>\n",
       "      <td>대파(일반)</td>\n",
       "      <td>2833.0</td>\n",
       "      <td>0.0</td>\n",
       "      <td>2761.0</td>\n",
       "      <td>특</td>\n",
       "      <td>5.1</td>\n",
       "      <td>0.0</td>\n",
       "    </tr>\n",
       "    <tr>\n",
       "      <th>9</th>\n",
       "      <td>20170104</td>\n",
       "      <td>대파(일반)</td>\n",
       "      <td>2797.0</td>\n",
       "      <td>2833.0</td>\n",
       "      <td>2957.0</td>\n",
       "      <td>특</td>\n",
       "      <td>4.4</td>\n",
       "      <td>0.0</td>\n",
       "    </tr>\n",
       "    <tr>\n",
       "      <th>13</th>\n",
       "      <td>20170105</td>\n",
       "      <td>대파(일반)</td>\n",
       "      <td>2797.0</td>\n",
       "      <td>2797.0</td>\n",
       "      <td>2621.0</td>\n",
       "      <td>특</td>\n",
       "      <td>7.5</td>\n",
       "      <td>0.5</td>\n",
       "    </tr>\n",
       "    <tr>\n",
       "      <th>17</th>\n",
       "      <td>20170106</td>\n",
       "      <td>대파(일반)</td>\n",
       "      <td>2797.0</td>\n",
       "      <td>2797.0</td>\n",
       "      <td>2599.0</td>\n",
       "      <td>특</td>\n",
       "      <td>7.2</td>\n",
       "      <td>0.2</td>\n",
       "    </tr>\n",
       "  </tbody>\n",
       "</table>\n",
       "</div>"
      ],
      "text/plain": [
       "          날짜     품목명    평균가격  전일평균가격    전년가격 등급  평균기온  강수량\n",
       "0   20170101  대파(일반)  2509.6  2833.0     0.0  특   4.3  0.0\n",
       "5   20170103  대파(일반)  2833.0     0.0  2761.0  특   5.1  0.0\n",
       "9   20170104  대파(일반)  2797.0  2833.0  2957.0  특   4.4  0.0\n",
       "13  20170105  대파(일반)  2797.0  2797.0  2621.0  특   7.5  0.5\n",
       "17  20170106  대파(일반)  2797.0  2797.0  2599.0  특   7.2  0.2"
      ]
     },
     "metadata": {},
     "output_type": "display_data"
    }
   ],
   "source": [
    "# 상 데이터만 먼저 사용\n",
    "adf = pd.read_csv('./data/best.csv', index_col = 0)\n",
    "display(adf.head())"
   ]
  },
  {
   "cell_type": "code",
   "execution_count": 3,
   "metadata": {
    "pycharm": {
     "name": "#%%\n"
    }
   },
   "outputs": [],
   "source": [
    "from sklearn.model_selection import train_test_split\n",
    "check_columns = ['평균기온', '강수량']\n",
    "X = adf[check_columns]\n",
    "y = adf['평균가격']\n",
    "X_train, X_test, y_train, y_test = train_test_split(X, y, test_size=0.2, random_state=1)\n"
   ]
  },
  {
   "cell_type": "code",
   "execution_count": 4,
   "metadata": {
    "pycharm": {
     "name": "#%%\n"
    }
   },
   "outputs": [
    {
     "data": {
      "text/plain": [
       "((1264, 2), (1264,))"
      ]
     },
     "execution_count": 4,
     "metadata": {},
     "output_type": "execute_result"
    }
   ],
   "source": [
    "X_train.shape, y_train.shape"
   ]
  },
  {
   "cell_type": "code",
   "execution_count": 5,
   "metadata": {
    "pycharm": {
     "name": "#%%\n"
    }
   },
   "outputs": [
    {
     "data": {
      "text/plain": [
       "((317, 2), (317,))"
      ]
     },
     "execution_count": 5,
     "metadata": {},
     "output_type": "execute_result"
    }
   ],
   "source": [
    "X_test.shape, y_test.shape\n"
   ]
  },
  {
   "cell_type": "code",
   "execution_count": 6,
   "metadata": {
    "pycharm": {
     "name": "#%%\n"
    }
   },
   "outputs": [],
   "source": [
    "from sklearn import linear_model\n",
    "\n",
    "lr = linear_model.LinearRegression()\n",
    "model = lr.fit(X_train, y_train)\n",
    "\n",
    "pred_test = lr.predict(X_test)"
   ]
  },
  {
   "cell_type": "code",
   "execution_count": 7,
   "metadata": {
    "pycharm": {
     "name": "#%%\n"
    }
   },
   "outputs": [
    {
     "name": "stdout",
     "output_type": "stream",
     "text": [
      "[-10.72476776   1.94758294]\n"
     ]
    }
   ],
   "source": [
    "print(lr.coef_)"
   ]
  },
  {
   "cell_type": "code",
   "execution_count": 8,
   "metadata": {
    "pycharm": {
     "name": "#%%\n"
    }
   },
   "outputs": [
    {
     "name": "stdout",
     "output_type": "stream",
     "text": [
      "0.008609597546200942\n",
      "0.009087999164732796\n"
     ]
    }
   ],
   "source": [
    "# 성능 평가\n",
    "print(model.score(X_train, y_train))\n",
    "print(model.score(X_test, y_test))\n",
    "#ㅋㅋㅋㅋ 그래,, 앞에서 데이터 확인해볼때 부터 알아봤다,,,\n",
    "# 앞에서 예상한 대로 성능이 잘 안나온 것을 확인할 수 있음\n",
    "# 1이랑 하나도 가깝지 않은 것을 볼 수 있음. 성능이 정말 안좋다.\n"
   ]
  },
  {
   "cell_type": "code",
   "execution_count": 9,
   "metadata": {
    "pycharm": {
     "name": "#%%\n"
    }
   },
   "outputs": [
    {
     "data": {
      "text/html": [
       "<div>\n",
       "<style scoped>\n",
       "    .dataframe tbody tr th:only-of-type {\n",
       "        vertical-align: middle;\n",
       "    }\n",
       "\n",
       "    .dataframe tbody tr th {\n",
       "        vertical-align: top;\n",
       "    }\n",
       "\n",
       "    .dataframe thead th {\n",
       "        text-align: right;\n",
       "    }\n",
       "</style>\n",
       "<table border=\"1\" class=\"dataframe\">\n",
       "  <thead>\n",
       "    <tr style=\"text-align: right;\">\n",
       "      <th></th>\n",
       "      <th>평균기온</th>\n",
       "      <th>강수량</th>\n",
       "    </tr>\n",
       "  </thead>\n",
       "  <tbody>\n",
       "    <tr>\n",
       "      <th>0</th>\n",
       "      <td>25</td>\n",
       "      <td>26</td>\n",
       "    </tr>\n",
       "    <tr>\n",
       "      <th>1</th>\n",
       "      <td>40</td>\n",
       "      <td>0</td>\n",
       "    </tr>\n",
       "    <tr>\n",
       "      <th>2</th>\n",
       "      <td>0</td>\n",
       "      <td>0</td>\n",
       "    </tr>\n",
       "    <tr>\n",
       "      <th>3</th>\n",
       "      <td>-10</td>\n",
       "      <td>70</td>\n",
       "    </tr>\n",
       "  </tbody>\n",
       "</table>\n",
       "</div>"
      ],
      "text/plain": [
       "   평균기온  강수량\n",
       "0    25   26\n",
       "1    40    0\n",
       "2     0    0\n",
       "3   -10   70"
      ]
     },
     "metadata": {},
     "output_type": "display_data"
    },
    {
     "name": "stdout",
     "output_type": "stream",
     "text": [
      "[2418.46731734 2206.95864434 2635.9493549  2879.52783862]\n"
     ]
    }
   ],
   "source": [
    "# 그래도 한번 예측해봄, 평균기온과 강수량 데이터를 만들어서 넣어보았다.\n",
    "test = {'평균기온':[25, 40, 0, -10],\n",
    "        '강수량':[26, 0, 0, 70]}\n",
    "testdf= pd.DataFrame(test)\n",
    "display(testdf)\n",
    "\n",
    "print(lr.predict(testdf))\n",
    "\n",
    "#그래도 가격이 예측되긴 함, 결과를 보면 날이 좋으면 싸고, 춥고 비가 온 날은 가격이 비쌈"
   ]
  },
  {
   "cell_type": "markdown",
   "metadata": {},
   "source": [
    "### LSTM 모델링"
   ]
  },
  {
   "cell_type": "code",
   "execution_count": 10,
   "metadata": {
    "pycharm": {
     "name": "#%%\n"
    }
   },
   "outputs": [
    {
     "data": {
      "text/html": [
       "<div>\n",
       "<style scoped>\n",
       "    .dataframe tbody tr th:only-of-type {\n",
       "        vertical-align: middle;\n",
       "    }\n",
       "\n",
       "    .dataframe tbody tr th {\n",
       "        vertical-align: top;\n",
       "    }\n",
       "\n",
       "    .dataframe thead th {\n",
       "        text-align: right;\n",
       "    }\n",
       "</style>\n",
       "<table border=\"1\" class=\"dataframe\">\n",
       "  <thead>\n",
       "    <tr style=\"text-align: right;\">\n",
       "      <th></th>\n",
       "      <th>품목명</th>\n",
       "      <th>평균가격</th>\n",
       "      <th>전일평균가격</th>\n",
       "      <th>전년가격</th>\n",
       "      <th>등급</th>\n",
       "      <th>평균기온</th>\n",
       "      <th>강수량</th>\n",
       "    </tr>\n",
       "    <tr>\n",
       "      <th>날짜</th>\n",
       "      <th></th>\n",
       "      <th></th>\n",
       "      <th></th>\n",
       "      <th></th>\n",
       "      <th></th>\n",
       "      <th></th>\n",
       "      <th></th>\n",
       "    </tr>\n",
       "  </thead>\n",
       "  <tbody>\n",
       "    <tr>\n",
       "      <th>2017-01-01</th>\n",
       "      <td>대파(일반)</td>\n",
       "      <td>2509.6</td>\n",
       "      <td>2833.0</td>\n",
       "      <td>0.0</td>\n",
       "      <td>특</td>\n",
       "      <td>4.3</td>\n",
       "      <td>0.0</td>\n",
       "    </tr>\n",
       "    <tr>\n",
       "      <th>2017-01-03</th>\n",
       "      <td>대파(일반)</td>\n",
       "      <td>2833.0</td>\n",
       "      <td>0.0</td>\n",
       "      <td>2761.0</td>\n",
       "      <td>특</td>\n",
       "      <td>5.1</td>\n",
       "      <td>0.0</td>\n",
       "    </tr>\n",
       "    <tr>\n",
       "      <th>2017-01-04</th>\n",
       "      <td>대파(일반)</td>\n",
       "      <td>2797.0</td>\n",
       "      <td>2833.0</td>\n",
       "      <td>2957.0</td>\n",
       "      <td>특</td>\n",
       "      <td>4.4</td>\n",
       "      <td>0.0</td>\n",
       "    </tr>\n",
       "    <tr>\n",
       "      <th>2017-01-05</th>\n",
       "      <td>대파(일반)</td>\n",
       "      <td>2797.0</td>\n",
       "      <td>2797.0</td>\n",
       "      <td>2621.0</td>\n",
       "      <td>특</td>\n",
       "      <td>7.5</td>\n",
       "      <td>0.5</td>\n",
       "    </tr>\n",
       "    <tr>\n",
       "      <th>2017-01-06</th>\n",
       "      <td>대파(일반)</td>\n",
       "      <td>2797.0</td>\n",
       "      <td>2797.0</td>\n",
       "      <td>2599.0</td>\n",
       "      <td>특</td>\n",
       "      <td>7.2</td>\n",
       "      <td>0.2</td>\n",
       "    </tr>\n",
       "    <tr>\n",
       "      <th>...</th>\n",
       "      <td>...</td>\n",
       "      <td>...</td>\n",
       "      <td>...</td>\n",
       "      <td>...</td>\n",
       "      <td>...</td>\n",
       "      <td>...</td>\n",
       "      <td>...</td>\n",
       "    </tr>\n",
       "    <tr>\n",
       "      <th>2021-05-23</th>\n",
       "      <td>대파(일반)</td>\n",
       "      <td>2509.6</td>\n",
       "      <td>3364.0</td>\n",
       "      <td>1668.0</td>\n",
       "      <td>특</td>\n",
       "      <td>19.7</td>\n",
       "      <td>0.0</td>\n",
       "    </tr>\n",
       "    <tr>\n",
       "      <th>2021-05-24</th>\n",
       "      <td>대파(일반)</td>\n",
       "      <td>3047.0</td>\n",
       "      <td>0.0</td>\n",
       "      <td>0.0</td>\n",
       "      <td>특</td>\n",
       "      <td>17.6</td>\n",
       "      <td>0.0</td>\n",
       "    </tr>\n",
       "    <tr>\n",
       "      <th>2021-05-25</th>\n",
       "      <td>대파(일반)</td>\n",
       "      <td>3662.0</td>\n",
       "      <td>3047.0</td>\n",
       "      <td>1900.0</td>\n",
       "      <td>특</td>\n",
       "      <td>17.3</td>\n",
       "      <td>0.0</td>\n",
       "    </tr>\n",
       "    <tr>\n",
       "      <th>2021-05-26</th>\n",
       "      <td>대파(일반)</td>\n",
       "      <td>3601.0</td>\n",
       "      <td>3662.0</td>\n",
       "      <td>1868.0</td>\n",
       "      <td>특</td>\n",
       "      <td>17.1</td>\n",
       "      <td>0.7</td>\n",
       "    </tr>\n",
       "    <tr>\n",
       "      <th>2021-05-27</th>\n",
       "      <td>대파(일반)</td>\n",
       "      <td>3699.0</td>\n",
       "      <td>3601.0</td>\n",
       "      <td>1952.0</td>\n",
       "      <td>특</td>\n",
       "      <td>16.9</td>\n",
       "      <td>0.6</td>\n",
       "    </tr>\n",
       "  </tbody>\n",
       "</table>\n",
       "<p>1581 rows × 7 columns</p>\n",
       "</div>"
      ],
      "text/plain": [
       "               품목명    평균가격  전일평균가격    전년가격 등급  평균기온  강수량\n",
       "날짜                                                      \n",
       "2017-01-01  대파(일반)  2509.6  2833.0     0.0  특   4.3  0.0\n",
       "2017-01-03  대파(일반)  2833.0     0.0  2761.0  특   5.1  0.0\n",
       "2017-01-04  대파(일반)  2797.0  2833.0  2957.0  특   4.4  0.0\n",
       "2017-01-05  대파(일반)  2797.0  2797.0  2621.0  특   7.5  0.5\n",
       "2017-01-06  대파(일반)  2797.0  2797.0  2599.0  특   7.2  0.2\n",
       "...            ...     ...     ...     ... ..   ...  ...\n",
       "2021-05-23  대파(일반)  2509.6  3364.0  1668.0  특  19.7  0.0\n",
       "2021-05-24  대파(일반)  3047.0     0.0     0.0  특  17.6  0.0\n",
       "2021-05-25  대파(일반)  3662.0  3047.0  1900.0  특  17.3  0.0\n",
       "2021-05-26  대파(일반)  3601.0  3662.0  1868.0  특  17.1  0.7\n",
       "2021-05-27  대파(일반)  3699.0  3601.0  1952.0  특  16.9  0.6\n",
       "\n",
       "[1581 rows x 7 columns]"
      ]
     },
     "metadata": {},
     "output_type": "display_data"
    }
   ],
   "source": [
    "# 굳이 csv로 저장 하지 않아도 되지만, 여러번 실험하기 위해 계속 데이터를 불러와서\n",
    "# 자르고 나누고 하는 것 보다 정제된 데이터를 저장해야 겠다 생각하여 상 데이터를 저장해놓은\n",
    "# best.csv 파일이다.\n",
    "df = adf.copy()\n",
    "\n",
    "# 데이터프레임의 인덱스를 날짜로 바꾸기 위해서 string으로 된 것을 pandas의 to_datetime을 이용해\n",
    "# 바꿔 주고 set_index()를 통해 인덱스로 만들어준다.\n",
    "df['날짜'] = df['날짜'].apply(lambda x: pd.to_datetime(str(x), format='%Y%m%d'))\n",
    "df = df.set_index('날짜')\n",
    "\n",
    "display(df)"
   ]
  },
  {
   "cell_type": "code",
   "execution_count": 11,
   "metadata": {
    "pycharm": {
     "name": "#%%\n"
    }
   },
   "outputs": [],
   "source": [
    "# 기본적인 pyplot 설정을 해놓는 것이다.\n",
    "# 크기와, grid, -가 안나오는 것을 설정한 것이다.\n",
    "import matplotlib as mpl\n",
    "mpl.rcParams['figure.figsize'] = (8,6)\n",
    "mpl.rcParams['axes.grid'] = False\n",
    "mpl.rcParams['axes.unicode_minus'] = False\n",
    "\n"
   ]
  },
  {
   "cell_type": "code",
   "execution_count": 12,
   "metadata": {
    "pycharm": {
     "name": "#%%\n"
    }
   },
   "outputs": [
    {
     "name": "stdout",
     "output_type": "stream",
     "text": [
      "<class 'pandas.core.frame.DataFrame'>\n",
      "DatetimeIndex: 1581 entries, 2017-01-01 to 2021-05-27\n",
      "Data columns (total 7 columns):\n",
      " #   Column  Non-Null Count  Dtype  \n",
      "---  ------  --------------  -----  \n",
      " 0   품목명     1581 non-null   object \n",
      " 1   평균가격    1581 non-null   float64\n",
      " 2   전일평균가격  1581 non-null   float64\n",
      " 3   전년가격    1581 non-null   float64\n",
      " 4   등급      1581 non-null   object \n",
      " 5   평균기온    1581 non-null   float64\n",
      " 6   강수량     1581 non-null   float64\n",
      "dtypes: float64(5), object(2)\n",
      "memory usage: 98.8+ KB\n"
     ]
    }
   ],
   "source": [
    "# 마지막으로 데이터프레임의 정보를 확인해 본다.\n",
    "df.info()"
   ]
  },
  {
   "cell_type": "code",
   "execution_count": 13,
   "metadata": {
    "pycharm": {
     "name": "#%%\n"
    }
   },
   "outputs": [
    {
     "data": {
      "text/plain": [
       "<AxesSubplot:xlabel='날짜'>"
      ]
     },
     "execution_count": 13,
     "metadata": {},
     "output_type": "execute_result"
    },
    {
     "data": {
      "image/png": "[encoded data removed]",
      "text/plain": [
       "<Figure size 576x432 with 1 Axes>"
      ]
     },
     "metadata": {
      "needs_background": "light"
     },
     "output_type": "display_data"
    }
   ],
   "source": [
    "# 가격의 그래프를 확인해 본 것이다. 최근 가격이 많이 오른 것을 확인할 수 있다.\n",
    "plt.rc('font', family='Malgun Gothic')\n",
    "df['평균가격'].plot(color='#A6786D')"
   ]
  },
  {
   "cell_type": "code",
   "execution_count": 14,
   "metadata": {
    "pycharm": {
     "name": "#%%\n"
    }
   },
   "outputs": [
    {
     "data": {
      "text/plain": [
       "<AxesSubplot:xlabel='날짜'>"
      ]
     },
     "execution_count": 14,
     "metadata": {},
     "output_type": "execute_result"
    },
    {
     "data": {
      "image/png": "[encoded data removed]",
      "text/plain": [
       "<Figure size 576x432 with 1 Axes>"
      ]
     },
     "metadata": {
      "needs_background": "light"
     },
     "output_type": "display_data"
    }
   ],
   "source": [
    "# 평균 기온을 확인한 것이다. 계절별로 온도 변화가 확실한 것을 볼 수 있다.\n",
    "plt.rc('font', family='Malgun Gothic')\n",
    "df['평균기온'].plot(color='#A6786D')\n"
   ]
  },
  {
   "cell_type": "markdown",
   "metadata": {},
   "source": [
    "### 데이터 정규화"
   ]
  },
  {
   "cell_type": "code",
   "execution_count": 15,
   "metadata": {
    "pycharm": {
     "name": "#%%\n"
    }
   },
   "outputs": [],
   "source": [
    "from sklearn.preprocessing import MinMaxScaler\n",
    "\n",
    "df.sort_index(ascending=False).reset_index(drop=True)\n",
    "\n",
    "# 가격과, 기온, 강수량 모두 범위가 다르므로 각각 정규화를 해준다.\n",
    "scaler1 = MinMaxScaler()\n",
    "scaler2 = MinMaxScaler()\n",
    "scaler3 = MinMaxScaler()\n",
    "\n",
    "scale_cols=['평균가격','평균기온','강수량']\n",
    "dfs1 = scaler1.fit_transform(df[['평균가격']])\n",
    "dfs2 = scaler2.fit_transform(df[['평균기온']])\n",
    "dfs3 = scaler3.fit_transform(df[['강수량']])\n",
    "\n",
    "\n",
    "df_scaled = pd.DataFrame()\n",
    "df_scaled=pd.DataFrame(dfs1)\n",
    "df_scaled.columns=['평균가격']\n",
    "df_scaled[['평균기온']] = pd.DataFrame(dfs2)\n",
    "df_scaled[['강수량']] = pd.DataFrame(dfs3)\n"
   ]
  },
  {
   "cell_type": "code",
   "execution_count": 16,
   "metadata": {
    "pycharm": {
     "name": "#%%\n"
    }
   },
   "outputs": [
    {
     "data": {
      "text/html": [
       "<div>\n",
       "<style scoped>\n",
       "    .dataframe tbody tr th:only-of-type {\n",
       "        vertical-align: middle;\n",
       "    }\n",
       "\n",
       "    .dataframe tbody tr th {\n",
       "        vertical-align: top;\n",
       "    }\n",
       "\n",
       "    .dataframe thead th {\n",
       "        text-align: right;\n",
       "    }\n",
       "</style>\n",
       "<table border=\"1\" class=\"dataframe\">\n",
       "  <thead>\n",
       "    <tr style=\"text-align: right;\">\n",
       "      <th></th>\n",
       "      <th>평균가격</th>\n",
       "      <th>평균기온</th>\n",
       "      <th>강수량</th>\n",
       "    </tr>\n",
       "  </thead>\n",
       "  <tbody>\n",
       "    <tr>\n",
       "      <th>0</th>\n",
       "      <td>0.147325</td>\n",
       "      <td>0.331565</td>\n",
       "      <td>0.000000</td>\n",
       "    </tr>\n",
       "    <tr>\n",
       "      <th>1</th>\n",
       "      <td>0.180793</td>\n",
       "      <td>0.352785</td>\n",
       "      <td>0.000000</td>\n",
       "    </tr>\n",
       "    <tr>\n",
       "      <th>2</th>\n",
       "      <td>0.177067</td>\n",
       "      <td>0.334218</td>\n",
       "      <td>0.000000</td>\n",
       "    </tr>\n",
       "    <tr>\n",
       "      <th>3</th>\n",
       "      <td>0.177067</td>\n",
       "      <td>0.416446</td>\n",
       "      <td>0.001639</td>\n",
       "    </tr>\n",
       "    <tr>\n",
       "      <th>4</th>\n",
       "      <td>0.177067</td>\n",
       "      <td>0.408488</td>\n",
       "      <td>0.000656</td>\n",
       "    </tr>\n",
       "    <tr>\n",
       "      <th>...</th>\n",
       "      <td>...</td>\n",
       "      <td>...</td>\n",
       "      <td>...</td>\n",
       "    </tr>\n",
       "    <tr>\n",
       "      <th>1576</th>\n",
       "      <td>0.147325</td>\n",
       "      <td>0.740053</td>\n",
       "      <td>0.000000</td>\n",
       "    </tr>\n",
       "    <tr>\n",
       "      <th>1577</th>\n",
       "      <td>0.202939</td>\n",
       "      <td>0.684350</td>\n",
       "      <td>0.000000</td>\n",
       "    </tr>\n",
       "    <tr>\n",
       "      <th>1578</th>\n",
       "      <td>0.266584</td>\n",
       "      <td>0.676393</td>\n",
       "      <td>0.000000</td>\n",
       "    </tr>\n",
       "    <tr>\n",
       "      <th>1579</th>\n",
       "      <td>0.260271</td>\n",
       "      <td>0.671088</td>\n",
       "      <td>0.002295</td>\n",
       "    </tr>\n",
       "    <tr>\n",
       "      <th>1580</th>\n",
       "      <td>0.270413</td>\n",
       "      <td>0.665782</td>\n",
       "      <td>0.001967</td>\n",
       "    </tr>\n",
       "  </tbody>\n",
       "</table>\n",
       "<p>1581 rows × 3 columns</p>\n",
       "</div>"
      ],
      "text/plain": [
       "          평균가격      평균기온       강수량\n",
       "0     0.147325  0.331565  0.000000\n",
       "1     0.180793  0.352785  0.000000\n",
       "2     0.177067  0.334218  0.000000\n",
       "3     0.177067  0.416446  0.001639\n",
       "4     0.177067  0.408488  0.000656\n",
       "...        ...       ...       ...\n",
       "1576  0.147325  0.740053  0.000000\n",
       "1577  0.202939  0.684350  0.000000\n",
       "1578  0.266584  0.676393  0.000000\n",
       "1579  0.260271  0.671088  0.002295\n",
       "1580  0.270413  0.665782  0.001967\n",
       "\n",
       "[1581 rows x 3 columns]"
      ]
     },
     "metadata": {},
     "output_type": "display_data"
    }
   ],
   "source": [
    "# 각각 정규화를 해준 것을 하나로 합친다.\n",
    "df_scaled.columns = scale_cols\n",
    "\n",
    "display(df_scaled)"
   ]
  },
  {
   "cell_type": "markdown",
   "metadata": {},
   "source": [
    "### 시계열 데이터의 데이터셋 분리"
   ]
  },
  {
   "cell_type": "code",
   "execution_count": 17,
   "metadata": {
    "pycharm": {
     "name": "#%%\n"
    }
   },
   "outputs": [],
   "source": [
    "# 약 1500개의 데이터 중 테스트 사이즈를 200개로 하고 윈도우 사이즈를 20으로 한다.\n",
    "TEST_SIZE = 200\n",
    "WINDOW_SIZE = 20\n",
    "\n",
    "train = df_scaled[:-TEST_SIZE]\n",
    "test= df_scaled[-TEST_SIZE:]"
   ]
  },
  {
   "cell_type": "code",
   "execution_count": 18,
   "metadata": {
    "pycharm": {
     "name": "#%%\n"
    }
   },
   "outputs": [],
   "source": [
    "# 윈도우 사이즈에 맞춰 데이터를 다시 만들어주는 것이다.\n",
    "def make_dataset(data, label, window_size = 20):\n",
    "    feature_list = []\n",
    "    label_list = []\n",
    "    for i in range(len(data) - window_size):\n",
    "        feature_list.append(np.array(data.iloc[i:i+window_size]))\n",
    "        label_list.append(np.array(label.iloc[i+window_size]))\n",
    "    return np.array(feature_list),np.array(label_list)"
   ]
  },
  {
   "cell_type": "code",
   "execution_count": 19,
   "metadata": {
    "pycharm": {
     "name": "#%%\n"
    }
   },
   "outputs": [
    {
     "name": "stdout",
     "output_type": "stream",
     "text": [
      "(1088, 20, 2) (273, 20, 2)\n"
     ]
    }
   ],
   "source": [
    "from sklearn.model_selection import train_test_split\n",
    "\n",
    "feature_cols = ['평균기온', '강수량']\n",
    "label_cols = ['평균가격']\n",
    "\n",
    "# train데이터에서 찐으로 x와 y로 사용할 데이터를 나눈다.\n",
    "train_feature = train[feature_cols]\n",
    "train_label = train[label_cols]\n",
    "\n",
    "# 윈도우 20사이즈로 바꿔준 것\n",
    "train_feature, train_label = make_dataset(train_feature,train_label,20)\n",
    "\n",
    "# train data를 train과 valid 데이터로 바꿔준다.\n",
    "x_train, x_valid, y_train, y_valid = train_test_split(train_feature, train_label, test_size=0.2)\n",
    "print(x_train.shape, x_valid.shape)"
   ]
  },
  {
   "cell_type": "code",
   "execution_count": 20,
   "metadata": {
    "pycharm": {
     "name": "#%%\n"
    }
   },
   "outputs": [
    {
     "name": "stdout",
     "output_type": "stream",
     "text": [
      "[[[0.4137931  0.00491803]\n",
      "  [0.38461538 0.08852459]\n",
      "  [0.38196286 0.        ]\n",
      "  ...\n",
      "  [0.50928382 0.0295082 ]\n",
      "  [0.42440318 0.        ]\n",
      "  [0.4535809  0.        ]]\n",
      "\n",
      " [[0.84880637 0.        ]\n",
      "  [0.82758621 0.16229508]\n",
      "  [0.89124668 0.11639344]\n",
      "  ...\n",
      "  [0.933687   0.        ]\n",
      "  [0.93633952 0.        ]\n",
      "  [0.92572944 0.        ]]\n",
      "\n",
      " [[0.74535809 0.        ]\n",
      "  [0.76127321 0.00196721]\n",
      "  [0.76923077 0.        ]\n",
      "  ...\n",
      "  [0.64721485 0.        ]\n",
      "  [0.70026525 0.        ]\n",
      "  [0.70291777 0.        ]]\n",
      "\n",
      " ...\n",
      "\n",
      " [[0.93633952 0.        ]\n",
      "  [0.9602122  0.        ]\n",
      "  [0.9602122  0.        ]\n",
      "  ...\n",
      "  [0.9071618  0.00163934]\n",
      "  [0.8938992  0.00098361]\n",
      "  [0.91246684 0.        ]]\n",
      "\n",
      " [[0.84350133 0.        ]\n",
      "  [0.81697613 0.        ]\n",
      "  [0.78249337 0.        ]\n",
      "  ...\n",
      "  [0.64190981 0.        ]\n",
      "  [0.70822281 0.00983607]\n",
      "  [0.70822281 0.36721311]]\n",
      "\n",
      " [[0.95225464 0.        ]\n",
      "  [0.92572944 0.        ]\n",
      "  [0.91777188 0.        ]\n",
      "  ...\n",
      "  [0.82758621 0.03508197]\n",
      "  [0.82493369 0.        ]\n",
      "  [0.77984085 0.        ]]]\n"
     ]
    }
   ],
   "source": [
    "#train 데이터 확인\n",
    "print(x_train)"
   ]
  },
  {
   "cell_type": "code",
   "execution_count": 21,
   "metadata": {
    "pycharm": {
     "name": "#%%\n"
    }
   },
   "outputs": [
    {
     "data": {
      "text/plain": [
       "((180, 20, 2), (180, 1))"
      ]
     },
     "execution_count": 21,
     "metadata": {},
     "output_type": "execute_result"
    }
   ],
   "source": [
    "# 테스트 데이터도 트레인 데이터와 마찬가지로 x,y를 나눠주고 윈도우 크기 20으로 나눠준다.\n",
    "test_feature = test[feature_cols]\n",
    "test_label = test[label_cols]\n",
    "\n",
    "test_feature.shape, test_label.shape\n",
    "\n",
    "test_feature, test_label = make_dataset(test_feature, test_label, 20)\n",
    "test_feature.shape, test_label.shape"
   ]
  },
  {
   "cell_type": "markdown",
   "metadata": {},
   "source": [
    "### 모형 학습"
   ]
  },
  {
   "cell_type": "code",
   "execution_count": 22,
   "metadata": {
    "pycharm": {
     "name": "#%%\n"
    }
   },
   "outputs": [],
   "source": [
    "from tensorflow.keras.models import Sequential\n",
    "from tensorflow.keras.layers import Dense\n",
    "from tensorflow.keras.callbacks import EarlyStopping\n",
    "from tensorflow.keras.layers import LSTM\n",
    "import tensorflow as tf\n",
    "\n",
    "tf.random.set_seed(715)"
   ]
  },
  {
   "cell_type": "code",
   "execution_count": 23,
   "metadata": {
    "pycharm": {
     "name": "#%%\n"
    }
   },
   "outputs": [],
   "source": [
    "#lstm 모델을 만들어준다. 여기서 모델을 한 층 더 쌓으면 과적합이 되어 한 밖에 쌓지 못했다.\n",
    "lstmodel = Sequential()\n",
    "lstmodel.add(LSTM(16,\n",
    "               input_shape=(train_feature.shape[1], train_feature.shape[2]),\n",
    "               activation='relu',\n",
    "               return_sequences=False))\n",
    "\n",
    "lstmodel.add(Dense(1))"
   ]
  },
  {
   "cell_type": "code",
   "execution_count": 24,
   "metadata": {
    "pycharm": {
     "name": "#%%\n"
    }
   },
   "outputs": [
    {
     "name": "stdout",
     "output_type": "stream",
     "text": [
      "20\n",
      "2\n"
     ]
    }
   ],
   "source": [
    "# 처음에 input size를 찾기 어려워 한번 출력해 본 것이다.\n",
    "print(train_feature.shape[1])\n",
    "print(train_feature.shape[2])"
   ]
  },
  {
   "cell_type": "code",
   "execution_count": 25,
   "metadata": {
    "pycharm": {
     "name": "#%%\n"
    }
   },
   "outputs": [
    {
     "name": "stdout",
     "output_type": "stream",
     "text": [
      "Epoch 1/200\n",
      "68/68 [==============================] - 1s 9ms/step - loss: 0.0046 - val_loss: 0.0047\n",
      "Epoch 2/200\n",
      "68/68 [==============================] - 0s 3ms/step - loss: 0.0037 - val_loss: 0.0045\n",
      "Epoch 3/200\n",
      "68/68 [==============================] - 0s 3ms/step - loss: 0.0043 - val_loss: 0.0043\n",
      "Epoch 4/200\n",
      "68/68 [==============================] - 0s 3ms/step - loss: 0.0033 - val_loss: 0.0044\n",
      "Epoch 5/200\n",
      "68/68 [==============================] - 0s 3ms/step - loss: 0.0030 - val_loss: 0.0044\n",
      "Epoch 6/200\n",
      "68/68 [==============================] - 0s 3ms/step - loss: 0.0036 - val_loss: 0.0041\n",
      "Epoch 7/200\n",
      "68/68 [==============================] - 0s 3ms/step - loss: 0.0031 - val_loss: 0.0040\n",
      "Epoch 8/200\n",
      "68/68 [==============================] - 0s 3ms/step - loss: 0.0029 - val_loss: 0.0040\n",
      "Epoch 9/200\n",
      "68/68 [==============================] - 0s 3ms/step - loss: 0.0028 - val_loss: 0.0041\n",
      "Epoch 10/200\n",
      "68/68 [==============================] - 0s 3ms/step - loss: 0.0030 - val_loss: 0.0039\n",
      "Epoch 11/200\n",
      "68/68 [==============================] - 0s 3ms/step - loss: 0.0031 - val_loss: 0.0039\n",
      "Epoch 12/200\n",
      "68/68 [==============================] - 0s 3ms/step - loss: 0.0034 - val_loss: 0.0039\n",
      "Epoch 13/200\n",
      "68/68 [==============================] - 0s 3ms/step - loss: 0.0030 - val_loss: 0.0042\n",
      "Epoch 14/200\n",
      "68/68 [==============================] - 0s 3ms/step - loss: 0.0041 - val_loss: 0.0040\n",
      "Epoch 15/200\n",
      "68/68 [==============================] - 0s 3ms/step - loss: 0.0029 - val_loss: 0.0040\n",
      "Epoch 16/200\n",
      "68/68 [==============================] - 0s 3ms/step - loss: 0.0030 - val_loss: 0.0039\n",
      "Epoch 17/200\n",
      "68/68 [==============================] - 0s 3ms/step - loss: 0.0035 - val_loss: 0.0038\n",
      "Epoch 18/200\n",
      "68/68 [==============================] - 0s 3ms/step - loss: 0.0026 - val_loss: 0.0038\n",
      "Epoch 19/200\n",
      "68/68 [==============================] - 0s 3ms/step - loss: 0.0037 - val_loss: 0.0038\n",
      "Epoch 20/200\n",
      "68/68 [==============================] - 0s 3ms/step - loss: 0.0031 - val_loss: 0.0038\n",
      "Epoch 21/200\n",
      "68/68 [==============================] - 0s 3ms/step - loss: 0.0034 - val_loss: 0.0045\n",
      "Epoch 22/200\n",
      "68/68 [==============================] - 0s 3ms/step - loss: 0.0036 - val_loss: 0.0038\n",
      "Epoch 23/200\n",
      "68/68 [==============================] - 0s 3ms/step - loss: 0.0039 - val_loss: 0.0040\n",
      "Epoch 24/200\n",
      "68/68 [==============================] - 0s 3ms/step - loss: 0.0036 - val_loss: 0.0039\n",
      "Epoch 25/200\n",
      "68/68 [==============================] - 0s 3ms/step - loss: 0.0026 - val_loss: 0.0038\n",
      "Epoch 26/200\n",
      "68/68 [==============================] - 0s 3ms/step - loss: 0.0030 - val_loss: 0.0038\n",
      "Epoch 27/200\n",
      "68/68 [==============================] - 0s 3ms/step - loss: 0.0034 - val_loss: 0.0037\n",
      "Epoch 28/200\n",
      "68/68 [==============================] - 0s 3ms/step - loss: 0.0031 - val_loss: 0.0038\n",
      "Epoch 29/200\n",
      "68/68 [==============================] - 0s 3ms/step - loss: 0.0029 - val_loss: 0.0039\n",
      "Epoch 30/200\n",
      "68/68 [==============================] - 0s 3ms/step - loss: 0.0033 - val_loss: 0.0037\n",
      "Epoch 31/200\n",
      "68/68 [==============================] - 0s 3ms/step - loss: 0.0028 - val_loss: 0.0037\n",
      "Epoch 32/200\n",
      "68/68 [==============================] - 0s 3ms/step - loss: 0.0035 - val_loss: 0.0038\n",
      "Epoch 33/200\n",
      "68/68 [==============================] - 0s 3ms/step - loss: 0.0026 - val_loss: 0.0037\n",
      "Epoch 34/200\n",
      "68/68 [==============================] - 0s 3ms/step - loss: 0.0030 - val_loss: 0.0037\n",
      "Epoch 35/200\n",
      "68/68 [==============================] - 0s 3ms/step - loss: 0.0028 - val_loss: 0.0037\n",
      "Epoch 36/200\n",
      "68/68 [==============================] - 0s 3ms/step - loss: 0.0033 - val_loss: 0.0038\n",
      "Epoch 37/200\n",
      "68/68 [==============================] - 0s 3ms/step - loss: 0.0027 - val_loss: 0.0037\n",
      "Epoch 38/200\n",
      "68/68 [==============================] - 0s 3ms/step - loss: 0.0033 - val_loss: 0.0038\n",
      "Epoch 39/200\n",
      "68/68 [==============================] - 0s 3ms/step - loss: 0.0035 - val_loss: 0.0037\n",
      "Epoch 40/200\n",
      "68/68 [==============================] - 0s 3ms/step - loss: 0.0029 - val_loss: 0.0037\n"
     ]
    }
   ],
   "source": [
    "# loss를 여러 가지 사용했는데 이 loss가 가장 좋은 성능을 보였다.\n",
    "lstmodel.compile(loss='mean_squared_logarithmic_error', optimizer='adam')\n",
    "early_stop = EarlyStopping(monitor='val_loss', patience=5)\n",
    "# 과적합을 방지하기 위해 early stopping을 사용하였다.\n",
    "\n",
    "history = lstmodel.fit(x_train, y_train,\n",
    "                    epochs=200,\n",
    "                    batch_size=16,\n",
    "                    validation_data=(x_valid, y_valid),\n",
    "                    callbacks=early_stop)\n",
    "\n",
    "# 모델링을 보면 early_stopping에 의해 일찍 학습이 멈춘 것을 확인할 수 있다."
   ]
  },
  {
   "cell_type": "code",
   "execution_count": 26,
   "metadata": {
    "pycharm": {
     "name": "#%%\n"
    }
   },
   "outputs": [
    {
     "name": "stdout",
     "output_type": "stream",
     "text": [
      "[[[0.45888594 0.        ]\n",
      "  [0.48541114 0.        ]\n",
      "  [0.47480106 0.        ]\n",
      "  ...\n",
      "  [0.49071618 0.        ]\n",
      "  [0.46419098 0.        ]\n",
      "  [0.39257294 0.        ]]\n",
      "\n",
      " [[0.48541114 0.        ]\n",
      "  [0.47480106 0.        ]\n",
      "  [0.45888594 0.        ]\n",
      "  ...\n",
      "  [0.46419098 0.        ]\n",
      "  [0.39257294 0.        ]\n",
      "  [0.39787798 0.00196721]]\n",
      "\n",
      " [[0.47480106 0.        ]\n",
      "  [0.45888594 0.        ]\n",
      "  [0.50397878 0.        ]\n",
      "  ...\n",
      "  [0.39257294 0.        ]\n",
      "  [0.39787798 0.00196721]\n",
      "  [0.38461538 0.        ]]\n",
      "\n",
      " ...\n",
      "\n",
      " [[0.5862069  0.        ]\n",
      "  [0.60742706 0.        ]\n",
      "  [0.65782493 0.        ]\n",
      "  ...\n",
      "  [0.69230769 0.        ]\n",
      "  [0.74005305 0.        ]\n",
      "  [0.68435013 0.        ]]\n",
      "\n",
      " [[0.60742706 0.        ]\n",
      "  [0.65782493 0.        ]\n",
      "  [0.62068966 0.        ]\n",
      "  ...\n",
      "  [0.74005305 0.        ]\n",
      "  [0.68435013 0.        ]\n",
      "  [0.67639257 0.        ]]\n",
      "\n",
      " [[0.65782493 0.        ]\n",
      "  [0.62068966 0.        ]\n",
      "  [0.65251989 0.        ]\n",
      "  ...\n",
      "  [0.68435013 0.        ]\n",
      "  [0.67639257 0.        ]\n",
      "  [0.67108753 0.00229508]]]\n",
      "(180, 20, 2)\n"
     ]
    }
   ],
   "source": [
    "print(test_feature)\n",
    "print(test_feature.shape)"
   ]
  },
  {
   "cell_type": "code",
   "execution_count": 27,
   "metadata": {
    "pycharm": {
     "name": "#%%\n"
    }
   },
   "outputs": [
    {
     "data": {
      "text/plain": [
       "(180, 1)"
      ]
     },
     "execution_count": 27,
     "metadata": {},
     "output_type": "execute_result"
    }
   ],
   "source": [
    "pred= lstmodel.predict(test_feature)\n",
    "\n",
    "pred.shape\n"
   ]
  },
  {
   "cell_type": "code",
   "execution_count": 28,
   "metadata": {
    "pycharm": {
     "name": "#%%\n"
    }
   },
   "outputs": [
    {
     "data": {
      "image/png": "[encoded data removed]",
      "text/plain": [
       "<Figure size 576x432 with 1 Axes>"
      ]
     },
     "metadata": {
      "needs_background": "light"
     },
     "output_type": "display_data"
    }
   ],
   "source": [
    "# loss 함수를 데이터로 그려보았다.\n",
    "def plot_train_history(history, title):\n",
    "    loss = history.history['loss']\n",
    "    val_loss = history.history['val_loss']\n",
    "\n",
    "    epochs = range(len(loss))\n",
    "\n",
    "    plt.figure()\n",
    "\n",
    "    plt.plot(epochs, loss, 'b', label = 'Training loss')\n",
    "    plt.plot(epochs, val_loss, 'r', label = 'Validation loss')\n",
    "    plt.title(title)\n",
    "    plt.legend()\n",
    "\n",
    "    plt.show()\n",
    "\n",
    "plot_train_history(history, 'Multi-Step Training and validation loss')"
   ]
  },
  {
   "cell_type": "code",
   "execution_count": 29,
   "metadata": {
    "pycharm": {
     "name": "#%%\n"
    }
   },
   "outputs": [
    {
     "name": "stdout",
     "output_type": "stream",
     "text": [
      "Train Score:  0.0031447671353816986\n",
      "Validation Score:  0.0036861856933683157\n"
     ]
    }
   ],
   "source": [
    "# 이 trainScore를 보면 모델을 컴파일 할 때 train_loss, val_loss와 같은 값이 나오는 것을\n",
    "# 확인할 수 있다. 오차가 매우 작은 것을 볼 수 있다.\n",
    "trainScore = lstmodel.evaluate(x_train, y_train, verbose=0)\n",
    "print('Train Score: ',trainScore)\n",
    "\n",
    "valScore = lstmodel.evaluate(x_valid, y_valid, verbose=0)\n",
    "print('Validation Score: ',valScore)"
   ]
  },
  {
   "cell_type": "markdown",
   "metadata": {},
   "source": [
    "### 테스트 해 보기\n",
    "최신 데이터를 다운로드 하여 input 데이터를 넣어 보고 예측해보기!"
   ]
  },
  {
   "cell_type": "code",
   "execution_count": 30,
   "metadata": {
    "pycharm": {
     "name": "#%%\n"
    }
   },
   "outputs": [
    {
     "data": {
      "text/html": [
       "<div>\n",
       "<style scoped>\n",
       "    .dataframe tbody tr th:only-of-type {\n",
       "        vertical-align: middle;\n",
       "    }\n",
       "\n",
       "    .dataframe tbody tr th {\n",
       "        vertical-align: top;\n",
       "    }\n",
       "\n",
       "    .dataframe thead th {\n",
       "        text-align: right;\n",
       "    }\n",
       "</style>\n",
       "<table border=\"1\" class=\"dataframe\">\n",
       "  <thead>\n",
       "    <tr style=\"text-align: right;\">\n",
       "      <th></th>\n",
       "      <th>지점</th>\n",
       "      <th>지점명</th>\n",
       "      <th>일시</th>\n",
       "      <th>평균기온(°C)</th>\n",
       "      <th>일강수량(mm)</th>\n",
       "    </tr>\n",
       "  </thead>\n",
       "  <tbody>\n",
       "    <tr>\n",
       "      <th>0</th>\n",
       "      <td>268</td>\n",
       "      <td>진도군</td>\n",
       "      <td>2021-05-06</td>\n",
       "      <td>14.7</td>\n",
       "      <td>NaN</td>\n",
       "    </tr>\n",
       "    <tr>\n",
       "      <th>1</th>\n",
       "      <td>268</td>\n",
       "      <td>진도군</td>\n",
       "      <td>2021-05-07</td>\n",
       "      <td>16.6</td>\n",
       "      <td>NaN</td>\n",
       "    </tr>\n",
       "    <tr>\n",
       "      <th>2</th>\n",
       "      <td>268</td>\n",
       "      <td>진도군</td>\n",
       "      <td>2021-05-08</td>\n",
       "      <td>15.2</td>\n",
       "      <td>NaN</td>\n",
       "    </tr>\n",
       "    <tr>\n",
       "      <th>3</th>\n",
       "      <td>268</td>\n",
       "      <td>진도군</td>\n",
       "      <td>2021-05-09</td>\n",
       "      <td>16.4</td>\n",
       "      <td>NaN</td>\n",
       "    </tr>\n",
       "    <tr>\n",
       "      <th>4</th>\n",
       "      <td>268</td>\n",
       "      <td>진도군</td>\n",
       "      <td>2021-05-10</td>\n",
       "      <td>18.2</td>\n",
       "      <td>NaN</td>\n",
       "    </tr>\n",
       "    <tr>\n",
       "      <th>5</th>\n",
       "      <td>268</td>\n",
       "      <td>진도군</td>\n",
       "      <td>2021-05-11</td>\n",
       "      <td>19.7</td>\n",
       "      <td>NaN</td>\n",
       "    </tr>\n",
       "    <tr>\n",
       "      <th>6</th>\n",
       "      <td>268</td>\n",
       "      <td>진도군</td>\n",
       "      <td>2021-05-12</td>\n",
       "      <td>20.0</td>\n",
       "      <td>NaN</td>\n",
       "    </tr>\n",
       "    <tr>\n",
       "      <th>7</th>\n",
       "      <td>268</td>\n",
       "      <td>진도군</td>\n",
       "      <td>2021-05-13</td>\n",
       "      <td>19.0</td>\n",
       "      <td>NaN</td>\n",
       "    </tr>\n",
       "    <tr>\n",
       "      <th>8</th>\n",
       "      <td>268</td>\n",
       "      <td>진도군</td>\n",
       "      <td>2021-05-14</td>\n",
       "      <td>20.4</td>\n",
       "      <td>0.0</td>\n",
       "    </tr>\n",
       "    <tr>\n",
       "      <th>9</th>\n",
       "      <td>268</td>\n",
       "      <td>진도군</td>\n",
       "      <td>2021-05-15</td>\n",
       "      <td>21.7</td>\n",
       "      <td>20.5</td>\n",
       "    </tr>\n",
       "    <tr>\n",
       "      <th>10</th>\n",
       "      <td>268</td>\n",
       "      <td>진도군</td>\n",
       "      <td>2021-05-16</td>\n",
       "      <td>19.9</td>\n",
       "      <td>45.6</td>\n",
       "    </tr>\n",
       "    <tr>\n",
       "      <th>11</th>\n",
       "      <td>268</td>\n",
       "      <td>진도군</td>\n",
       "      <td>2021-05-17</td>\n",
       "      <td>15.1</td>\n",
       "      <td>0.8</td>\n",
       "    </tr>\n",
       "    <tr>\n",
       "      <th>12</th>\n",
       "      <td>268</td>\n",
       "      <td>진도군</td>\n",
       "      <td>2021-05-18</td>\n",
       "      <td>16.2</td>\n",
       "      <td>NaN</td>\n",
       "    </tr>\n",
       "    <tr>\n",
       "      <th>13</th>\n",
       "      <td>268</td>\n",
       "      <td>진도군</td>\n",
       "      <td>2021-05-19</td>\n",
       "      <td>19.4</td>\n",
       "      <td>NaN</td>\n",
       "    </tr>\n",
       "    <tr>\n",
       "      <th>14</th>\n",
       "      <td>268</td>\n",
       "      <td>진도군</td>\n",
       "      <td>2021-05-20</td>\n",
       "      <td>16.2</td>\n",
       "      <td>13.0</td>\n",
       "    </tr>\n",
       "    <tr>\n",
       "      <th>15</th>\n",
       "      <td>268</td>\n",
       "      <td>진도군</td>\n",
       "      <td>2021-05-21</td>\n",
       "      <td>16.7</td>\n",
       "      <td>NaN</td>\n",
       "    </tr>\n",
       "    <tr>\n",
       "      <th>16</th>\n",
       "      <td>268</td>\n",
       "      <td>진도군</td>\n",
       "      <td>2021-05-22</td>\n",
       "      <td>17.9</td>\n",
       "      <td>NaN</td>\n",
       "    </tr>\n",
       "    <tr>\n",
       "      <th>17</th>\n",
       "      <td>268</td>\n",
       "      <td>진도군</td>\n",
       "      <td>2021-05-23</td>\n",
       "      <td>19.7</td>\n",
       "      <td>0.0</td>\n",
       "    </tr>\n",
       "    <tr>\n",
       "      <th>18</th>\n",
       "      <td>268</td>\n",
       "      <td>진도군</td>\n",
       "      <td>2021-05-24</td>\n",
       "      <td>17.6</td>\n",
       "      <td>0.0</td>\n",
       "    </tr>\n",
       "    <tr>\n",
       "      <th>19</th>\n",
       "      <td>268</td>\n",
       "      <td>진도군</td>\n",
       "      <td>2021-05-25</td>\n",
       "      <td>17.3</td>\n",
       "      <td>NaN</td>\n",
       "    </tr>\n",
       "    <tr>\n",
       "      <th>20</th>\n",
       "      <td>268</td>\n",
       "      <td>진도군</td>\n",
       "      <td>2021-05-26</td>\n",
       "      <td>17.1</td>\n",
       "      <td>0.7</td>\n",
       "    </tr>\n",
       "    <tr>\n",
       "      <th>21</th>\n",
       "      <td>268</td>\n",
       "      <td>진도군</td>\n",
       "      <td>2021-05-27</td>\n",
       "      <td>16.9</td>\n",
       "      <td>0.6</td>\n",
       "    </tr>\n",
       "    <tr>\n",
       "      <th>22</th>\n",
       "      <td>268</td>\n",
       "      <td>진도군</td>\n",
       "      <td>2021-05-28</td>\n",
       "      <td>18.7</td>\n",
       "      <td>0.0</td>\n",
       "    </tr>\n",
       "    <tr>\n",
       "      <th>23</th>\n",
       "      <td>268</td>\n",
       "      <td>진도군</td>\n",
       "      <td>2021-05-29</td>\n",
       "      <td>18.2</td>\n",
       "      <td>NaN</td>\n",
       "    </tr>\n",
       "    <tr>\n",
       "      <th>24</th>\n",
       "      <td>268</td>\n",
       "      <td>진도군</td>\n",
       "      <td>2021-05-30</td>\n",
       "      <td>20.3</td>\n",
       "      <td>NaN</td>\n",
       "    </tr>\n",
       "    <tr>\n",
       "      <th>25</th>\n",
       "      <td>268</td>\n",
       "      <td>진도군</td>\n",
       "      <td>2021-05-31</td>\n",
       "      <td>21.2</td>\n",
       "      <td>NaN</td>\n",
       "    </tr>\n",
       "    <tr>\n",
       "      <th>26</th>\n",
       "      <td>268</td>\n",
       "      <td>진도군</td>\n",
       "      <td>2021-06-01</td>\n",
       "      <td>21.9</td>\n",
       "      <td>NaN</td>\n",
       "    </tr>\n",
       "    <tr>\n",
       "      <th>27</th>\n",
       "      <td>268</td>\n",
       "      <td>진도군</td>\n",
       "      <td>2021-06-02</td>\n",
       "      <td>22.6</td>\n",
       "      <td>NaN</td>\n",
       "    </tr>\n",
       "    <tr>\n",
       "      <th>28</th>\n",
       "      <td>268</td>\n",
       "      <td>진도군</td>\n",
       "      <td>2021-06-03</td>\n",
       "      <td>20.7</td>\n",
       "      <td>17.4</td>\n",
       "    </tr>\n",
       "    <tr>\n",
       "      <th>29</th>\n",
       "      <td>268</td>\n",
       "      <td>진도군</td>\n",
       "      <td>2021-06-04</td>\n",
       "      <td>18.7</td>\n",
       "      <td>0.7</td>\n",
       "    </tr>\n",
       "    <tr>\n",
       "      <th>30</th>\n",
       "      <td>268</td>\n",
       "      <td>진도군</td>\n",
       "      <td>2021-06-05</td>\n",
       "      <td>20.4</td>\n",
       "      <td>NaN</td>\n",
       "    </tr>\n",
       "    <tr>\n",
       "      <th>31</th>\n",
       "      <td>268</td>\n",
       "      <td>진도군</td>\n",
       "      <td>2021-06-06</td>\n",
       "      <td>21.7</td>\n",
       "      <td>NaN</td>\n",
       "    </tr>\n",
       "  </tbody>\n",
       "</table>\n",
       "</div>"
      ],
      "text/plain": [
       "     지점  지점명          일시  평균기온(°C)  일강수량(mm)\n",
       "0   268  진도군  2021-05-06      14.7       NaN\n",
       "1   268  진도군  2021-05-07      16.6       NaN\n",
       "2   268  진도군  2021-05-08      15.2       NaN\n",
       "3   268  진도군  2021-05-09      16.4       NaN\n",
       "4   268  진도군  2021-05-10      18.2       NaN\n",
       "5   268  진도군  2021-05-11      19.7       NaN\n",
       "6   268  진도군  2021-05-12      20.0       NaN\n",
       "7   268  진도군  2021-05-13      19.0       NaN\n",
       "8   268  진도군  2021-05-14      20.4       0.0\n",
       "9   268  진도군  2021-05-15      21.7      20.5\n",
       "10  268  진도군  2021-05-16      19.9      45.6\n",
       "11  268  진도군  2021-05-17      15.1       0.8\n",
       "12  268  진도군  2021-05-18      16.2       NaN\n",
       "13  268  진도군  2021-05-19      19.4       NaN\n",
       "14  268  진도군  2021-05-20      16.2      13.0\n",
       "15  268  진도군  2021-05-21      16.7       NaN\n",
       "16  268  진도군  2021-05-22      17.9       NaN\n",
       "17  268  진도군  2021-05-23      19.7       0.0\n",
       "18  268  진도군  2021-05-24      17.6       0.0\n",
       "19  268  진도군  2021-05-25      17.3       NaN\n",
       "20  268  진도군  2021-05-26      17.1       0.7\n",
       "21  268  진도군  2021-05-27      16.9       0.6\n",
       "22  268  진도군  2021-05-28      18.7       0.0\n",
       "23  268  진도군  2021-05-29      18.2       NaN\n",
       "24  268  진도군  2021-05-30      20.3       NaN\n",
       "25  268  진도군  2021-05-31      21.2       NaN\n",
       "26  268  진도군  2021-06-01      21.9       NaN\n",
       "27  268  진도군  2021-06-02      22.6       NaN\n",
       "28  268  진도군  2021-06-03      20.7      17.4\n",
       "29  268  진도군  2021-06-04      18.7       0.7\n",
       "30  268  진도군  2021-06-05      20.4       NaN\n",
       "31  268  진도군  2021-06-06      21.7       NaN"
      ]
     },
     "metadata": {},
     "output_type": "display_data"
    }
   ],
   "source": [
    "# 2021년 5월 6일부터, 2021년 6월 6일까지 데이터를 다운로드 했다.\n",
    "test = pd.read_csv('./data/testdata2.csv', encoding='CP949')\n",
    "display(test)\n",
    "\n",
    "# 날씨 데이터의 NaN 값을 0으로 바꿔준다.\n",
    "test=test.fillna(0)"
   ]
  },
  {
   "cell_type": "code",
   "execution_count": 31,
   "metadata": {
    "pycharm": {
     "name": "#%%\n"
    }
   },
   "outputs": [
    {
     "data": {
      "text/html": [
       "<div>\n",
       "<style scoped>\n",
       "    .dataframe tbody tr th:only-of-type {\n",
       "        vertical-align: middle;\n",
       "    }\n",
       "\n",
       "    .dataframe tbody tr th {\n",
       "        vertical-align: top;\n",
       "    }\n",
       "\n",
       "    .dataframe thead th {\n",
       "        text-align: right;\n",
       "    }\n",
       "</style>\n",
       "<table border=\"1\" class=\"dataframe\">\n",
       "  <thead>\n",
       "    <tr style=\"text-align: right;\">\n",
       "      <th></th>\n",
       "      <th>평균기온(°C)</th>\n",
       "      <th>일강수량(mm)</th>\n",
       "    </tr>\n",
       "  </thead>\n",
       "  <tbody>\n",
       "    <tr>\n",
       "      <th>0</th>\n",
       "      <td>0.000000</td>\n",
       "      <td>0.000000</td>\n",
       "    </tr>\n",
       "    <tr>\n",
       "      <th>1</th>\n",
       "      <td>0.240506</td>\n",
       "      <td>0.000000</td>\n",
       "    </tr>\n",
       "    <tr>\n",
       "      <th>2</th>\n",
       "      <td>0.063291</td>\n",
       "      <td>0.000000</td>\n",
       "    </tr>\n",
       "    <tr>\n",
       "      <th>3</th>\n",
       "      <td>0.215190</td>\n",
       "      <td>0.000000</td>\n",
       "    </tr>\n",
       "    <tr>\n",
       "      <th>4</th>\n",
       "      <td>0.443038</td>\n",
       "      <td>0.000000</td>\n",
       "    </tr>\n",
       "    <tr>\n",
       "      <th>5</th>\n",
       "      <td>0.632911</td>\n",
       "      <td>0.000000</td>\n",
       "    </tr>\n",
       "    <tr>\n",
       "      <th>6</th>\n",
       "      <td>0.670886</td>\n",
       "      <td>0.000000</td>\n",
       "    </tr>\n",
       "    <tr>\n",
       "      <th>7</th>\n",
       "      <td>0.544304</td>\n",
       "      <td>0.000000</td>\n",
       "    </tr>\n",
       "    <tr>\n",
       "      <th>8</th>\n",
       "      <td>0.721519</td>\n",
       "      <td>0.000000</td>\n",
       "    </tr>\n",
       "    <tr>\n",
       "      <th>9</th>\n",
       "      <td>0.886076</td>\n",
       "      <td>0.449561</td>\n",
       "    </tr>\n",
       "    <tr>\n",
       "      <th>10</th>\n",
       "      <td>0.658228</td>\n",
       "      <td>1.000000</td>\n",
       "    </tr>\n",
       "    <tr>\n",
       "      <th>11</th>\n",
       "      <td>0.050633</td>\n",
       "      <td>0.017544</td>\n",
       "    </tr>\n",
       "    <tr>\n",
       "      <th>12</th>\n",
       "      <td>0.189873</td>\n",
       "      <td>0.000000</td>\n",
       "    </tr>\n",
       "    <tr>\n",
       "      <th>13</th>\n",
       "      <td>0.594937</td>\n",
       "      <td>0.000000</td>\n",
       "    </tr>\n",
       "    <tr>\n",
       "      <th>14</th>\n",
       "      <td>0.189873</td>\n",
       "      <td>0.285088</td>\n",
       "    </tr>\n",
       "    <tr>\n",
       "      <th>15</th>\n",
       "      <td>0.253165</td>\n",
       "      <td>0.000000</td>\n",
       "    </tr>\n",
       "    <tr>\n",
       "      <th>16</th>\n",
       "      <td>0.405063</td>\n",
       "      <td>0.000000</td>\n",
       "    </tr>\n",
       "    <tr>\n",
       "      <th>17</th>\n",
       "      <td>0.632911</td>\n",
       "      <td>0.000000</td>\n",
       "    </tr>\n",
       "    <tr>\n",
       "      <th>18</th>\n",
       "      <td>0.367089</td>\n",
       "      <td>0.000000</td>\n",
       "    </tr>\n",
       "    <tr>\n",
       "      <th>19</th>\n",
       "      <td>0.329114</td>\n",
       "      <td>0.000000</td>\n",
       "    </tr>\n",
       "    <tr>\n",
       "      <th>20</th>\n",
       "      <td>0.303797</td>\n",
       "      <td>0.015351</td>\n",
       "    </tr>\n",
       "    <tr>\n",
       "      <th>21</th>\n",
       "      <td>0.278481</td>\n",
       "      <td>0.013158</td>\n",
       "    </tr>\n",
       "    <tr>\n",
       "      <th>22</th>\n",
       "      <td>0.506329</td>\n",
       "      <td>0.000000</td>\n",
       "    </tr>\n",
       "    <tr>\n",
       "      <th>23</th>\n",
       "      <td>0.443038</td>\n",
       "      <td>0.000000</td>\n",
       "    </tr>\n",
       "    <tr>\n",
       "      <th>24</th>\n",
       "      <td>0.708861</td>\n",
       "      <td>0.000000</td>\n",
       "    </tr>\n",
       "    <tr>\n",
       "      <th>25</th>\n",
       "      <td>0.822785</td>\n",
       "      <td>0.000000</td>\n",
       "    </tr>\n",
       "    <tr>\n",
       "      <th>26</th>\n",
       "      <td>0.911392</td>\n",
       "      <td>0.000000</td>\n",
       "    </tr>\n",
       "    <tr>\n",
       "      <th>27</th>\n",
       "      <td>1.000000</td>\n",
       "      <td>0.000000</td>\n",
       "    </tr>\n",
       "    <tr>\n",
       "      <th>28</th>\n",
       "      <td>0.759494</td>\n",
       "      <td>0.381579</td>\n",
       "    </tr>\n",
       "    <tr>\n",
       "      <th>29</th>\n",
       "      <td>0.506329</td>\n",
       "      <td>0.015351</td>\n",
       "    </tr>\n",
       "    <tr>\n",
       "      <th>30</th>\n",
       "      <td>0.721519</td>\n",
       "      <td>0.000000</td>\n",
       "    </tr>\n",
       "    <tr>\n",
       "      <th>31</th>\n",
       "      <td>0.886076</td>\n",
       "      <td>0.000000</td>\n",
       "    </tr>\n",
       "  </tbody>\n",
       "</table>\n",
       "</div>"
      ],
      "text/plain": [
       "    평균기온(°C)  일강수량(mm)\n",
       "0   0.000000  0.000000\n",
       "1   0.240506  0.000000\n",
       "2   0.063291  0.000000\n",
       "3   0.215190  0.000000\n",
       "4   0.443038  0.000000\n",
       "5   0.632911  0.000000\n",
       "6   0.670886  0.000000\n",
       "7   0.544304  0.000000\n",
       "8   0.721519  0.000000\n",
       "9   0.886076  0.449561\n",
       "10  0.658228  1.000000\n",
       "11  0.050633  0.017544\n",
       "12  0.189873  0.000000\n",
       "13  0.594937  0.000000\n",
       "14  0.189873  0.285088\n",
       "15  0.253165  0.000000\n",
       "16  0.405063  0.000000\n",
       "17  0.632911  0.000000\n",
       "18  0.367089  0.000000\n",
       "19  0.329114  0.000000\n",
       "20  0.303797  0.015351\n",
       "21  0.278481  0.013158\n",
       "22  0.506329  0.000000\n",
       "23  0.443038  0.000000\n",
       "24  0.708861  0.000000\n",
       "25  0.822785  0.000000\n",
       "26  0.911392  0.000000\n",
       "27  1.000000  0.000000\n",
       "28  0.759494  0.381579\n",
       "29  0.506329  0.015351\n",
       "30  0.721519  0.000000\n",
       "31  0.886076  0.000000"
      ]
     },
     "metadata": {},
     "output_type": "display_data"
    }
   ],
   "source": [
    "# 정규화\n",
    "from sklearn.preprocessing import MinMaxScaler\n",
    "\n",
    "test.sort_index(ascending=False).reset_index(drop=True)\n",
    "\n",
    "scaler = MinMaxScaler()\n",
    "scale_cols=['평균기온(°C)','일강수량(mm)']\n",
    "test_scaled=scaler.fit_transform(test[scale_cols])\n",
    "test_scaled = pd.DataFrame(test_scaled)\n",
    "test_scaled.columns = scale_cols\n",
    "\n",
    "display(test_scaled)"
   ]
  },
  {
   "cell_type": "code",
   "execution_count": 32,
   "metadata": {
    "pycharm": {
     "name": "#%%\n"
    }
   },
   "outputs": [],
   "source": [
    "feature_list = []\n",
    "\n",
    "# 윈도우 사이즈에 맞게 스케일 해줌\n",
    "for i in range(len(test_scaled) - 20):\n",
    "    feature_list.append(np.array(test_scaled.iloc[i:i+20]))\n",
    "\n",
    "test_input = np.array(feature_list)\n",
    "# display(test_input)"
   ]
  },
  {
   "cell_type": "code",
   "execution_count": 33,
   "metadata": {
    "pycharm": {
     "name": "#%%\n"
    }
   },
   "outputs": [
    {
     "data": {
      "text/plain": [
       "(12, 1)"
      ]
     },
     "execution_count": 33,
     "metadata": {},
     "output_type": "execute_result"
    }
   ],
   "source": [
    "test_pred = lstmodel.predict(test_input)\n",
    "test_pred.shape"
   ]
  },
  {
   "cell_type": "code",
   "execution_count": 34,
   "metadata": {
    "pycharm": {
     "name": "#%%\n"
    }
   },
   "outputs": [
    {
     "name": "stdout",
     "output_type": "stream",
     "text": [
      "[[4119.385 ]\n",
      " [3887.2754]\n",
      " [3766.9578]\n",
      " [3538.089 ]\n",
      " [3414.3396]\n",
      " [3212.2993]\n",
      " [3018.2485]\n",
      " [2828.316 ]\n",
      " [2644.7124]\n",
      " [2971.372 ]\n",
      " [3010.8667]\n",
      " [2267.6682]]\n"
     ]
    }
   ],
   "source": [
    "# inverse_transform을 사용하여 정규화 했던 값을 원래 값으로 출력한다.\n",
    "result = scaler1.inverse_transform(test_pred)\n",
    "print(result)"
   ]
  },
  {
   "cell_type": "code",
   "execution_count": 35,
   "metadata": {
    "pycharm": {
     "name": "#%%\n"
    }
   },
   "outputs": [
    {
     "data": {
      "text/html": [
       "<div>\n",
       "<style scoped>\n",
       "    .dataframe tbody tr th:only-of-type {\n",
       "        vertical-align: middle;\n",
       "    }\n",
       "\n",
       "    .dataframe tbody tr th {\n",
       "        vertical-align: top;\n",
       "    }\n",
       "\n",
       "    .dataframe thead th {\n",
       "        text-align: right;\n",
       "    }\n",
       "</style>\n",
       "<table border=\"1\" class=\"dataframe\">\n",
       "  <thead>\n",
       "    <tr style=\"text-align: right;\">\n",
       "      <th></th>\n",
       "      <th>날짜</th>\n",
       "      <th>품목명</th>\n",
       "      <th>평균가격</th>\n",
       "      <th>전일평균가격</th>\n",
       "      <th>전년가격</th>\n",
       "      <th>등급</th>\n",
       "    </tr>\n",
       "  </thead>\n",
       "  <tbody>\n",
       "    <tr>\n",
       "      <th>1</th>\n",
       "      <td>20210526</td>\n",
       "      <td>대파(일반)</td>\n",
       "      <td>3601</td>\n",
       "      <td>3662</td>\n",
       "      <td>1868</td>\n",
       "      <td>특</td>\n",
       "    </tr>\n",
       "    <tr>\n",
       "      <th>2</th>\n",
       "      <td>20210526</td>\n",
       "      <td>대파(일반)</td>\n",
       "      <td>2152</td>\n",
       "      <td>2153</td>\n",
       "      <td>1623</td>\n",
       "      <td>상</td>\n",
       "    </tr>\n",
       "    <tr>\n",
       "      <th>3</th>\n",
       "      <td>20210526</td>\n",
       "      <td>대파(일반)</td>\n",
       "      <td>1572</td>\n",
       "      <td>1676</td>\n",
       "      <td>1496</td>\n",
       "      <td>중</td>\n",
       "    </tr>\n",
       "    <tr>\n",
       "      <th>4</th>\n",
       "      <td>20210526</td>\n",
       "      <td>대파(일반)</td>\n",
       "      <td>1180</td>\n",
       "      <td>1392</td>\n",
       "      <td>1208</td>\n",
       "      <td>하</td>\n",
       "    </tr>\n",
       "    <tr>\n",
       "      <th>1</th>\n",
       "      <td>20210527</td>\n",
       "      <td>대파(일반)</td>\n",
       "      <td>3699</td>\n",
       "      <td>3601</td>\n",
       "      <td>1952</td>\n",
       "      <td>특</td>\n",
       "    </tr>\n",
       "  </tbody>\n",
       "</table>\n",
       "</div>"
      ],
      "text/plain": [
       "         날짜     품목명  평균가격  전일평균가격  전년가격 등급\n",
       "1  20210526  대파(일반)  3601    3662  1868  특\n",
       "2  20210526  대파(일반)  2152    2153  1623  상\n",
       "3  20210526  대파(일반)  1572    1676  1496  중\n",
       "4  20210526  대파(일반)  1180    1392  1208  하\n",
       "1  20210527  대파(일반)  3699    3601  1952  특"
      ]
     },
     "metadata": {},
     "output_type": "display_data"
    }
   ],
   "source": [
    "# 그 값들을 한눈에 알아보기 위해 한 데이터프레임으로 합친다.\n",
    "\n",
    "check= pd.read_csv('./data/check.csv', index_col = 0)\n",
    "display(check.head())"
   ]
  },
  {
   "cell_type": "code",
   "execution_count": 36,
   "metadata": {
    "pycharm": {
     "name": "#%%\n"
    }
   },
   "outputs": [
    {
     "name": "stdout",
     "output_type": "stream",
     "text": [
      "## groupby (등급) ##\n"
     ]
    },
    {
     "name": "stderr",
     "output_type": "stream",
     "text": [
      "c:\\201814471\\setup\\envs\\py37\\lib\\site-packages\\ipykernel_launcher.py:6: SettingWithCopyWarning: \n",
      "A value is trying to be set on a copy of a slice from a DataFrame.\n",
      "Try using .loc[row_indexer,col_indexer] = value instead\n",
      "\n",
      "See the caveats in the documentation: https://pandas.pydata.org/pandas-docs/stable/user_guide/indexing.html#returning-a-view-versus-a-copy\n",
      "  \n"
     ]
    },
    {
     "data": {
      "text/html": [
       "<div>\n",
       "<style scoped>\n",
       "    .dataframe tbody tr th:only-of-type {\n",
       "        vertical-align: middle;\n",
       "    }\n",
       "\n",
       "    .dataframe tbody tr th {\n",
       "        vertical-align: top;\n",
       "    }\n",
       "\n",
       "    .dataframe thead th {\n",
       "        text-align: right;\n",
       "    }\n",
       "</style>\n",
       "<table border=\"1\" class=\"dataframe\">\n",
       "  <thead>\n",
       "    <tr style=\"text-align: right;\">\n",
       "      <th></th>\n",
       "      <th>날짜</th>\n",
       "      <th>평균가격</th>\n",
       "      <th>결과</th>\n",
       "    </tr>\n",
       "  </thead>\n",
       "  <tbody>\n",
       "    <tr>\n",
       "      <th>1</th>\n",
       "      <td>20210526</td>\n",
       "      <td>3601</td>\n",
       "      <td>4119.384766</td>\n",
       "    </tr>\n",
       "    <tr>\n",
       "      <th>1</th>\n",
       "      <td>20210527</td>\n",
       "      <td>3699</td>\n",
       "      <td>3887.275391</td>\n",
       "    </tr>\n",
       "    <tr>\n",
       "      <th>1</th>\n",
       "      <td>20210528</td>\n",
       "      <td>3755</td>\n",
       "      <td>3766.957764</td>\n",
       "    </tr>\n",
       "    <tr>\n",
       "      <th>1</th>\n",
       "      <td>20210529</td>\n",
       "      <td>2317</td>\n",
       "      <td>3538.089111</td>\n",
       "    </tr>\n",
       "    <tr>\n",
       "      <th>1</th>\n",
       "      <td>20210530</td>\n",
       "      <td>0</td>\n",
       "      <td>3414.339600</td>\n",
       "    </tr>\n",
       "    <tr>\n",
       "      <th>1</th>\n",
       "      <td>20210531</td>\n",
       "      <td>2202</td>\n",
       "      <td>3212.299316</td>\n",
       "    </tr>\n",
       "    <tr>\n",
       "      <th>1</th>\n",
       "      <td>20210601</td>\n",
       "      <td>2892</td>\n",
       "      <td>3018.248535</td>\n",
       "    </tr>\n",
       "    <tr>\n",
       "      <th>1</th>\n",
       "      <td>20210602</td>\n",
       "      <td>2837</td>\n",
       "      <td>2828.315918</td>\n",
       "    </tr>\n",
       "    <tr>\n",
       "      <th>1</th>\n",
       "      <td>20210603</td>\n",
       "      <td>2355</td>\n",
       "      <td>2644.712402</td>\n",
       "    </tr>\n",
       "    <tr>\n",
       "      <th>1</th>\n",
       "      <td>20210604</td>\n",
       "      <td>2268</td>\n",
       "      <td>2971.372070</td>\n",
       "    </tr>\n",
       "    <tr>\n",
       "      <th>1</th>\n",
       "      <td>20210605</td>\n",
       "      <td>1785</td>\n",
       "      <td>3010.866699</td>\n",
       "    </tr>\n",
       "    <tr>\n",
       "      <th>1</th>\n",
       "      <td>20210606</td>\n",
       "      <td>0</td>\n",
       "      <td>2267.668213</td>\n",
       "    </tr>\n",
       "  </tbody>\n",
       "</table>\n",
       "</div>"
      ],
      "text/plain": [
       "         날짜  평균가격           결과\n",
       "1  20210526  3601  4119.384766\n",
       "1  20210527  3699  3887.275391\n",
       "1  20210528  3755  3766.957764\n",
       "1  20210529  2317  3538.089111\n",
       "1  20210530     0  3414.339600\n",
       "1  20210531  2202  3212.299316\n",
       "1  20210601  2892  3018.248535\n",
       "1  20210602  2837  2828.315918\n",
       "1  20210603  2355  2644.712402\n",
       "1  20210604  2268  2971.372070\n",
       "1  20210605  1785  3010.866699\n",
       "1  20210606     0  2267.668213"
      ]
     },
     "metadata": {},
     "output_type": "display_data"
    }
   ],
   "source": [
    "print('## groupby (등급) ##')\n",
    "cgrouped = check.groupby('등급')\n",
    "\n",
    "#그룹 확인\n",
    "result_g = cgrouped.get_group(name='특')\n",
    "result_g['결과'] = result\n",
    "display(result_g[['날짜','평균가격','결과']])"
   ]
  },
  {
   "cell_type": "code",
   "execution_count": null,
   "metadata": {
    "pycharm": {
     "name": "#%%\n"
    }
   },
   "outputs": [],
   "source": []
  },
  {
   "cell_type": "code",
   "execution_count": null,
   "metadata": {},
   "outputs": [],
   "source": []
  }
 ],
 "metadata": {
  "kernelspec": {
   "display_name": "Python 3",
   "language": "python",
   "name": "python3"
  },
  "language_info": {
   "codemirror_mode": {
    "name": "ipython",
    "version": 3
   },
   "file_extension": ".py",
   "mimetype": "text/x-python",
   "name": "python",
   "nbconvert_exporter": "python",
   "pygments_lexer": "ipython3",
   "version": "3.7.10"
  }
 },
 "nbformat": 4,
 "nbformat_minor": 1
}