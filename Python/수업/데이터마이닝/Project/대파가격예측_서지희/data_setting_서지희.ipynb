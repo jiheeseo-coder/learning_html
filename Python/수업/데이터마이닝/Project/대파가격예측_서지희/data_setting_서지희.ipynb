{
 "cells": [
  {
   "cell_type": "code",
   "execution_count": 1,
   "metadata": {
    "pycharm": {
     "name": "#%%\n"
    }
   },
   "outputs": [],
   "source": [
    "import urllib.request\n",
    "import pandas\n",
    "import xml.etree.ElementTree as ET\n",
    "\n",
    "import seaborn as sns\n",
    "import pandas as pd\n",
    "import numpy as np\n",
    "from IPython.display import display\n",
    "import matplotlib.pyplot as plt\n",
    "from datetime import timedelta\n",
    "\n",
    "# 한글 폰트 설정\n",
    "from matplotlib import font_manager, rc\n",
    "font_name = font_manager.FontProperties(fname=\"c:/Windows/Fonts/malgun.ttf\").get_name()\n",
    "rc('font', family=font_name)\n"
   ]
  },
  {
   "cell_type": "markdown",
   "metadata": {},
   "source": [
    "# 파 가격 예측\n",
    "## 데이터 로드"
   ]
  },
  {
   "cell_type": "code",
   "execution_count": 2,
   "metadata": {
    "pycharm": {
     "name": "#%%\n"
    }
   },
   "outputs": [],
   "source": [
    "# 쿼리 보내는 함수\n",
    "def query_sender(date, date_1, last_year, kinds):\n",
    "    #url 보냅니다.\n",
    "    url='http://www.garak.co.kr/publicdata/dataOpen.do?id=2972&passwd=qwert1324!&dataid=' \\\n",
    "        'data4&pagesize=10&pageidx=1&portal.templet=false&'\n",
    "\n",
    "    kinds = urllib.parse.quote(kinds)\n",
    "        # 아스키코드 형식이 아닌 글자를 URL 인코딩 시켜줌\n",
    "        # kinds에는 농산물의 종류가 들어감(원래는 대파 말고 다른 것도 하려고 했습니다...)\n",
    "    code_info='p_ymd=' + date+'&p_jymd='+date_1+'&d_cd=2&p_jjymd='+last_year\n",
    "    code_info_2='&p_pos_gubun=9&pum_nm='+kinds\n",
    "        # url에 들어갈 데이터와 string을 맞춤\n",
    "\n",
    "    request = urllib.request.Request(url+code_info+code_info_2)\n",
    "    request.get_method=lambda :'GET'\n",
    "    response_body=urllib.request.urlopen(request).read()\n",
    "    u=str(response_body,'utf-8')\n",
    "        # 함수를 보내고 string으로 받아옴\n",
    "    return u\n",
    "        # 받아온 string 리턴\n"
   ]
  },
  {
   "cell_type": "markdown",
   "metadata": {},
   "source": [
    "url에서 필요한 데이터를 수집해 오는 것\n",
    "p_ymd: 검색일자, 8자리\n",
    "y_jymd: 전일일자, 8자리\n",
    "c_cd: 부류 구분(청과:2, 수산:3)\n",
    "p_jjymd: 전년도 날짜, 8자리\n",
    "p_pos_gubun: 시장구분, 가락시장:1, 양곡시장:2, 강서시장:3(경매), 강서시장:9(시장도매)\n",
    "pum_nm: 품목명(예: 사과, 배)"
   ]
  },
  {
   "cell_type": "code",
   "execution_count": 3,
   "metadata": {
    "pycharm": {
     "name": "#%%\n"
    }
   },
   "outputs": [],
   "source": [
    "# 받아온 아이템을 리스트로 전환해 주는 함수\n",
    "def xml_to_item_list(xml_string, date):\n",
    "    result=[]\n",
    "        # 마지막에 리턴할 리스트\n",
    "    root = ET.fromstring(xml_string)\n",
    "        # 문자열에서 Element로 XML을 직접 구문 분석하는데, 구문 분석된 트리의 루트 엘리먼트\n",
    "        # XML의 자료구조가 이렇게 되서 여기서 하나씩 불러서 쓰는 것 같음\n",
    "    for child in root:\n",
    "        item_list=[]\n",
    "            # 리스트 한 row를 담당할 리스트\n",
    "        item_list.append(date)\n",
    "        for list in child:\n",
    "            # 내가 원하는 정보를 가져오기\n",
    "            if list.tag in ['PUM_NM_A', 'AV_P_A', 'PAV_P_A', 'PAV_PY_A', 'E_NAME']:\n",
    "                item_list.append(list.text)\n",
    "                # 한 줄 리스트에 정보 추가\n",
    "        result.append(item_list)\n",
    "            #한 줄씩 추출한 것을 result list에 붙이기\n",
    "    return result"
   ]
  },
  {
   "cell_type": "markdown",
   "metadata": {},
   "source": [
    "받아온 데이터를 리스트에 저장\n",
    "\n",
    "한 줄의 정보는 item_list에 저장이 되고 전체 리스트는 result에 저장된다.\n",
    "API 신청을 2021. 06. 10일까지 신청해서.. 지금은 안됩니다.. csv 파일도 첨부하겠습니다."
   ]
  },
  {
   "cell_type": "code",
   "execution_count": null,
   "metadata": {
    "pycharm": {
     "name": "#%%\n"
    }
   },
   "outputs": [],
   "source": [
    "flag=False\n",
    "# csv 파일로 저장을 하기 위한 flag, 아래에서 파일이 있는지 없는지 확인하고,\n",
    "# 파일이 없으면 새로 파일을 만들어 column name을 추가하고 데이터 넣기\n",
    "# 생성된 파일이 있으면 그 아래 데이터를 추가하는 그런 형식으로 만들기 위한 flag\n",
    "\n",
    "for date in pandas.date_range(start='20170101', end='20210527'):\n",
    "    # 반복문으로 하세요\n",
    "\n",
    "    # start와 end로 끝나는 반복문에서 입력타입이 String이므로 스트링으로 바꿔준다.\n",
    "    # 반복문을 date_range로 한 이유는 숫자형으로 하면 20179999이런 식으로 갈 수 있기 때문이다.\n",
    "    # date1: 오늘, date2: 전날, date3: 전년도 오늘\n",
    "    date1 = str(date.strftime(\"%Y%m%d\"))\n",
    "    #print(date1)\n",
    "    date2 = str((date-timedelta(days=1)).strftime(\"%Y%m%d\"))\n",
    "    date3 = str((date-timedelta(days=365)).strftime(\"%Y%m%d\"))\n",
    "    query=query_sender(date1,\n",
    "                       date2,\n",
    "                       date3,\n",
    "                       '대파')\n",
    "    #print(\"쿼리 = \\n\",query)\n",
    "    # 함수를 호출한다.\n",
    "    i_list=xml_to_item_list(query, date1)\n",
    "    #print(\"i_list = \\n\", i_list)\n",
    "    #display(\"리스트\",i_list)\n",
    "\n",
    "    df = pd.DataFrame(i_list)\n",
    "    #df = df.iloc[1:, 1:]\n",
    "\n",
    "    df=df.drop(df.index[0])\n",
    "    #display(df)\n",
    "    # csv파일에 저장할 때 첫번째 열에 column name을 넣어주기 위해 만약 파일이 없으면\n",
    "    # 첫 번째 파일을 넣어주고 파일이 있으면 그 뒤로는 데이터를 계속 넣어준다.\n",
    "    if not flag:\n",
    "        flag = True\n",
    "        col=['날짜', '품목명', '평균가격', '전일평균가격', '전년가격', '등급']\n",
    "        df.columns=col\n",
    "        df.to_csv('./data/Gonion.csv',encoding='utf-8-sig')\n",
    "    else:\n",
    "        df.to_csv('./data/Gonion.csv',encoding='utf-8-sig',mode='a', header=False)\n",
    "\n",
    "print('끝났다!@@@@@@@@@@@@@@@!!!!!!!!!!!!!!!!!!!!!!@@@@@@@@@@')\n",
    "# 시간이 오래 걸려서 데이터를 다 넣으면 나오는 출력문"
   ]
  },
  {
   "cell_type": "markdown",
   "metadata": {
    "pycharm": {
     "name": "#%% md\n"
    }
   },
   "source": [
    "테스트할 최신 데이터 다운"
   ]
  },
  {
   "cell_type": "code",
   "execution_count": null,
   "metadata": {
    "pycharm": {
     "name": "#%%\n"
    }
   },
   "outputs": [],
   "source": [
    "flag=False\n",
    "# 여기로 쿼리를 불러와서 확인하기!\n",
    "for date in pandas.date_range(start='20210526', end='20210606'):\n",
    "\n",
    "    date1 = str(date.strftime(\"%Y%m%d\"))\n",
    "    date2 = str((date-timedelta(days=1)).strftime(\"%Y%m%d\"))\n",
    "    date3 = str((date-timedelta(days=365)).strftime(\"%Y%m%d\"))\n",
    "    query1=query_sender(date1,\n",
    "                       date2,\n",
    "                       date3,\n",
    "                       '대파')\n",
    "\n",
    "    i_list1=xml_to_item_list(query1, date1)\n",
    "    check = pd.DataFrame(i_list1)\n",
    "    check=check.drop(check.index[0])\n",
    "    if not flag:\n",
    "        flag = True\n",
    "        col=['날짜', '품목명', '평균가격', '전일평균가격', '전년가격', '등급']\n",
    "        check.columns=col\n",
    "        check.to_csv('./data/check.csv',encoding='utf-8-sig')\n",
    "    else:\n",
    "        check.to_csv('./data/check.csv',encoding='utf-8-sig',mode='a', header=False)\n",
    "\n",
    "check = pd.read_csv('./data/check.csv', index_col=0)\n",
    "display(check)"
   ]
  }
 ],
 "metadata": {
  "kernelspec": {
   "display_name": "Python 3",
   "language": "python",
   "name": "python3"
  },
  "language_info": {
   "codemirror_mode": {
    "name": "ipython",
    "version": 3
   },
   "file_extension": ".py",
   "mimetype": "text/x-python",
   "name": "python",
   "nbconvert_exporter": "python",
   "pygments_lexer": "ipython3",
   "version": "3.7.10"
  }
 },
 "nbformat": 4,
 "nbformat_minor": 1
}