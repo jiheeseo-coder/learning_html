{
 "cells": [
  {
   "cell_type": "markdown",
   "metadata": {
    "collapsed": true,
    "pycharm": {
     "name": "#%% md\n"
    }
   },
   "source": [
    "## 1. 데이터프레임 생성 예\n",
    "1. 5명의 성적 데이터 생성(성명, 입학년도, 학점(0~4.5), 성별(M,F))\n",
    "\n",
    "    열 이름: Name, Adyear, Grade, Sex\n",
    "\n",
    "    행 인덱스: 순번\n",
    "\n",
    "2. 인덱스, 칼럼, 값들, 데이터타입 확인\n",
    "\n",
    "3. 요약통계 확인\n",
    "\n",
    "4. 성명순으로 정렬\n",
    "\n",
    "5. 성명 역순으로 정렬\n"
   ]
  },
  {
   "cell_type": "code",
   "source": [
    "import numpy as np\n",
    "import pandas as pd\n",
    "from IPython.display import display\n",
    "\n",
    "\n"
   ],
   "metadata": {
    "collapsed": false,
    "pycharm": {
     "name": "#%%\n"
    }
   },
   "execution_count": 1,
   "outputs": []
  },
  {
   "cell_type": "code",
   "execution_count": 2,
   "outputs": [
    {
     "data": {
      "text/plain": "   Name  Adyear  Grade Sex\n0   kim    2017    3.5   M\n1   lee    2017    2.0   M\n2   min    2018    4.5   F\n3   jin    2019    2.2   F\n4  park    2018    4.0   M",
      "text/html": "<div>\n<style scoped>\n    .dataframe tbody tr th:only-of-type {\n        vertical-align: middle;\n    }\n\n    .dataframe tbody tr th {\n        vertical-align: top;\n    }\n\n    .dataframe thead th {\n        text-align: right;\n    }\n</style>\n<table border=\"1\" class=\"dataframe\">\n  <thead>\n    <tr style=\"text-align: right;\">\n      <th></th>\n      <th>Name</th>\n      <th>Adyear</th>\n      <th>Grade</th>\n      <th>Sex</th>\n    </tr>\n  </thead>\n  <tbody>\n    <tr>\n      <th>0</th>\n      <td>kim</td>\n      <td>2017</td>\n      <td>3.5</td>\n      <td>M</td>\n    </tr>\n    <tr>\n      <th>1</th>\n      <td>lee</td>\n      <td>2017</td>\n      <td>2.0</td>\n      <td>M</td>\n    </tr>\n    <tr>\n      <th>2</th>\n      <td>min</td>\n      <td>2018</td>\n      <td>4.5</td>\n      <td>F</td>\n    </tr>\n    <tr>\n      <th>3</th>\n      <td>jin</td>\n      <td>2019</td>\n      <td>2.2</td>\n      <td>F</td>\n    </tr>\n    <tr>\n      <th>4</th>\n      <td>park</td>\n      <td>2018</td>\n      <td>4.0</td>\n      <td>M</td>\n    </tr>\n  </tbody>\n</table>\n</div>"
     },
     "metadata": {},
     "output_type": "display_data"
    },
    {
     "data": {
      "text/plain": "'df.head(2) = '"
     },
     "metadata": {},
     "output_type": "display_data"
    },
    {
     "data": {
      "text/plain": "  Name  Adyear  Grade Sex\n0  kim    2017    3.5   M\n1  lee    2017    2.0   M",
      "text/html": "<div>\n<style scoped>\n    .dataframe tbody tr th:only-of-type {\n        vertical-align: middle;\n    }\n\n    .dataframe tbody tr th {\n        vertical-align: top;\n    }\n\n    .dataframe thead th {\n        text-align: right;\n    }\n</style>\n<table border=\"1\" class=\"dataframe\">\n  <thead>\n    <tr style=\"text-align: right;\">\n      <th></th>\n      <th>Name</th>\n      <th>Adyear</th>\n      <th>Grade</th>\n      <th>Sex</th>\n    </tr>\n  </thead>\n  <tbody>\n    <tr>\n      <th>0</th>\n      <td>kim</td>\n      <td>2017</td>\n      <td>3.5</td>\n      <td>M</td>\n    </tr>\n    <tr>\n      <th>1</th>\n      <td>lee</td>\n      <td>2017</td>\n      <td>2.0</td>\n      <td>M</td>\n    </tr>\n  </tbody>\n</table>\n</div>"
     },
     "metadata": {},
     "output_type": "display_data"
    },
    {
     "data": {
      "text/plain": "'df.tail(2) = '"
     },
     "metadata": {},
     "output_type": "display_data"
    },
    {
     "data": {
      "text/plain": "   Name  Adyear  Grade Sex\n3   jin    2019    2.2   F\n4  park    2018    4.0   M",
      "text/html": "<div>\n<style scoped>\n    .dataframe tbody tr th:only-of-type {\n        vertical-align: middle;\n    }\n\n    .dataframe tbody tr th {\n        vertical-align: top;\n    }\n\n    .dataframe thead th {\n        text-align: right;\n    }\n</style>\n<table border=\"1\" class=\"dataframe\">\n  <thead>\n    <tr style=\"text-align: right;\">\n      <th></th>\n      <th>Name</th>\n      <th>Adyear</th>\n      <th>Grade</th>\n      <th>Sex</th>\n    </tr>\n  </thead>\n  <tbody>\n    <tr>\n      <th>3</th>\n      <td>jin</td>\n      <td>2019</td>\n      <td>2.2</td>\n      <td>F</td>\n    </tr>\n    <tr>\n      <th>4</th>\n      <td>park</td>\n      <td>2018</td>\n      <td>4.0</td>\n      <td>M</td>\n    </tr>\n  </tbody>\n</table>\n</div>"
     },
     "metadata": {},
     "output_type": "display_data"
    }
   ],
   "source": [
    "data= {'Name': ['kim', 'lee', 'min', 'jin', 'park'],\n",
    "       'Adyear': [2017, 2017, 2018, 2019, 2018],\n",
    "       'Grade': [3.5, 2.0, 4.5, 2.2, 4.0],\n",
    "       'Sex': ['M', 'M', 'F', 'F', 'M']}\n",
    "\n",
    "df = pd.DataFrame(data)\n",
    "display(df)\n",
    "display(\"df.head(2) = \", df.head(2))\n",
    "display(\"df.tail(2) = \", df.tail(2))"
   ],
   "metadata": {
    "collapsed": false,
    "pycharm": {
     "name": "#%%\n"
    }
   }
  },
  {
   "cell_type": "code",
   "execution_count": 5,
   "outputs": [
    {
     "name": "stdout",
     "output_type": "stream",
     "text": [
      "데이터 타입: \n",
      " Name       object\n",
      "Adyear      int64\n",
      "Grade     float64\n",
      "Sex        object\n",
      "dtype: object\n",
      "\n",
      "\n",
      "행 레이블: \n",
      " RangeIndex(start=0, stop=5, step=1)\n",
      "\n",
      "\n",
      "열 레이블: \n",
      " Index(['Name', 'Adyear', 'Grade', 'Sex'], dtype='object')\n",
      "\n",
      "\n",
      "데이터의 값들 확인: \n",
      " [['kim' 2017 3.5 'M']\n",
      " ['lee' 2017 2.0 'M']\n",
      " ['min' 2018 4.5 'F']\n",
      " ['jin' 2019 2.2 'F']\n",
      " ['park' 2018 4.0 'M']]\n"
     ]
    }
   ],
   "source": [
    "print(\"데이터 타입: \\n\", df.dtypes)\n",
    "print(\"\\n\\n행 레이블: \\n\", df.index)\n",
    "print('\\n\\n열 레이블: \\n', df.columns)\n",
    "print('\\n\\n데이터의 값들 확인: \\n', df.values)"
   ],
   "metadata": {
    "collapsed": false,
    "pycharm": {
     "name": "#%%\n"
    }
   }
  },
  {
   "cell_type": "code",
   "execution_count": 6,
   "outputs": [
    {
     "name": "stdout",
     "output_type": "stream",
     "text": [
      "요약통계 확인: \n",
      "            Adyear     Grade\n",
      "count     5.00000  5.000000\n",
      "mean   2017.80000  3.240000\n",
      "std       0.83666  1.101363\n",
      "min    2017.00000  2.000000\n",
      "25%    2017.00000  2.200000\n",
      "50%    2018.00000  3.500000\n",
      "75%    2018.00000  4.000000\n",
      "max    2019.00000  4.500000\n"
     ]
    }
   ],
   "source": [
    "print('요약통계 확인: \\n', df.describe())"
   ],
   "metadata": {
    "collapsed": false,
    "pycharm": {
     "name": "#%%\n"
    }
   }
  },
  {
   "cell_type": "code",
   "execution_count": 10,
   "outputs": [
    {
     "data": {
      "text/plain": "   Name  Adyear  Grade Sex\n3   jin    2019    2.2   F\n0   kim    2017    3.5   M\n1   lee    2017    2.0   M\n2   min    2018    4.5   F\n4  park    2018    4.0   M",
      "text/html": "<div>\n<style scoped>\n    .dataframe tbody tr th:only-of-type {\n        vertical-align: middle;\n    }\n\n    .dataframe tbody tr th {\n        vertical-align: top;\n    }\n\n    .dataframe thead th {\n        text-align: right;\n    }\n</style>\n<table border=\"1\" class=\"dataframe\">\n  <thead>\n    <tr style=\"text-align: right;\">\n      <th></th>\n      <th>Name</th>\n      <th>Adyear</th>\n      <th>Grade</th>\n      <th>Sex</th>\n    </tr>\n  </thead>\n  <tbody>\n    <tr>\n      <th>3</th>\n      <td>jin</td>\n      <td>2019</td>\n      <td>2.2</td>\n      <td>F</td>\n    </tr>\n    <tr>\n      <th>0</th>\n      <td>kim</td>\n      <td>2017</td>\n      <td>3.5</td>\n      <td>M</td>\n    </tr>\n    <tr>\n      <th>1</th>\n      <td>lee</td>\n      <td>2017</td>\n      <td>2.0</td>\n      <td>M</td>\n    </tr>\n    <tr>\n      <th>2</th>\n      <td>min</td>\n      <td>2018</td>\n      <td>4.5</td>\n      <td>F</td>\n    </tr>\n    <tr>\n      <th>4</th>\n      <td>park</td>\n      <td>2018</td>\n      <td>4.0</td>\n      <td>M</td>\n    </tr>\n  </tbody>\n</table>\n</div>"
     },
     "metadata": {},
     "output_type": "display_data"
    },
    {
     "data": {
      "text/plain": "   Name  Adyear  Grade Sex\n2   min    2018    4.5   F\n4  park    2018    4.0   M\n0   kim    2017    3.5   M\n3   jin    2019    2.2   F\n1   lee    2017    2.0   M",
      "text/html": "<div>\n<style scoped>\n    .dataframe tbody tr th:only-of-type {\n        vertical-align: middle;\n    }\n\n    .dataframe tbody tr th {\n        vertical-align: top;\n    }\n\n    .dataframe thead th {\n        text-align: right;\n    }\n</style>\n<table border=\"1\" class=\"dataframe\">\n  <thead>\n    <tr style=\"text-align: right;\">\n      <th></th>\n      <th>Name</th>\n      <th>Adyear</th>\n      <th>Grade</th>\n      <th>Sex</th>\n    </tr>\n  </thead>\n  <tbody>\n    <tr>\n      <th>2</th>\n      <td>min</td>\n      <td>2018</td>\n      <td>4.5</td>\n      <td>F</td>\n    </tr>\n    <tr>\n      <th>4</th>\n      <td>park</td>\n      <td>2018</td>\n      <td>4.0</td>\n      <td>M</td>\n    </tr>\n    <tr>\n      <th>0</th>\n      <td>kim</td>\n      <td>2017</td>\n      <td>3.5</td>\n      <td>M</td>\n    </tr>\n    <tr>\n      <th>3</th>\n      <td>jin</td>\n      <td>2019</td>\n      <td>2.2</td>\n      <td>F</td>\n    </tr>\n    <tr>\n      <th>1</th>\n      <td>lee</td>\n      <td>2017</td>\n      <td>2.0</td>\n      <td>M</td>\n    </tr>\n  </tbody>\n</table>\n</div>"
     },
     "metadata": {},
     "output_type": "display_data"
    }
   ],
   "source": [
    "fname = df.sort_values(by='Name')\n",
    "display(fname)\n",
    "\n",
    "\n",
    "dfgd = df.sort_values(by='Grade', ascending=False)\n",
    "\n",
    "\n",
    "display(dfgd)\n"
   ],
   "metadata": {
    "collapsed": false,
    "pycharm": {
     "name": "#%%\n"
    }
   }
  },
  {
   "cell_type": "markdown",
   "source": [
    "## 2. 데이터프레임 접근(indexing, subset selection) 예\n",
    "5명의 성적 데이터 이용\n",
    "\n",
    "1) 성명만 추출\n",
    "\n",
    "2) 입학년도와 성적만 추출\n",
    "\n",
    "3) 성명이 'kim'인  데이터만 추출\n",
    "\n",
    "4) 입학년도가 2018년도 이상만 추출\n",
    "\n",
    "5) 여성만 추출\n",
    "\n",
    "6) 여성, 입학년도 2019\n",
    "\n",
    "7) 성적이 3.5 이상이거나 남성\n",
    "\n",
    "8) 입학년도 2017인 성명과 성적\n",
    "\n",
    "9) 입학년도 2017인 성명부터 성적까지 (위치값 이용, iloc[])\n",
    "\n",
    "10) 입학년도 2017인 성명부터 성적까지 (레이블 이용, loc[])\n"
   ],
   "metadata": {
    "collapsed": false,
    "pycharm": {
     "name": "#%% md\n"
    }
   }
  },
  {
   "cell_type": "code",
   "execution_count": 18,
   "outputs": [
    {
     "data": {
      "text/plain": "'성명만 추출'"
     },
     "metadata": {},
     "output_type": "display_data"
    },
    {
     "data": {
      "text/plain": "0     kim\n1     lee\n2     min\n3     jin\n4    park\nName: Name, dtype: object"
     },
     "metadata": {},
     "output_type": "display_data"
    },
    {
     "name": "stdout",
     "output_type": "stream",
     "text": [
      "\n",
      "\n",
      "\n",
      "\n",
      "\n",
      "\n",
      "\n",
      "\n",
      "\n"
     ]
    },
    {
     "data": {
      "text/plain": "'입학년도와 성적만 추출'"
     },
     "metadata": {},
     "output_type": "display_data"
    },
    {
     "data": {
      "text/plain": "   Adyear  Grade\n0    2017    3.5\n1    2017    2.0\n2    2018    4.5\n3    2019    2.2\n4    2018    4.0",
      "text/html": "<div>\n<style scoped>\n    .dataframe tbody tr th:only-of-type {\n        vertical-align: middle;\n    }\n\n    .dataframe tbody tr th {\n        vertical-align: top;\n    }\n\n    .dataframe thead th {\n        text-align: right;\n    }\n</style>\n<table border=\"1\" class=\"dataframe\">\n  <thead>\n    <tr style=\"text-align: right;\">\n      <th></th>\n      <th>Adyear</th>\n      <th>Grade</th>\n    </tr>\n  </thead>\n  <tbody>\n    <tr>\n      <th>0</th>\n      <td>2017</td>\n      <td>3.5</td>\n    </tr>\n    <tr>\n      <th>1</th>\n      <td>2017</td>\n      <td>2.0</td>\n    </tr>\n    <tr>\n      <th>2</th>\n      <td>2018</td>\n      <td>4.5</td>\n    </tr>\n    <tr>\n      <th>3</th>\n      <td>2019</td>\n      <td>2.2</td>\n    </tr>\n    <tr>\n      <th>4</th>\n      <td>2018</td>\n      <td>4.0</td>\n    </tr>\n  </tbody>\n</table>\n</div>"
     },
     "metadata": {},
     "output_type": "display_data"
    },
    {
     "data": {
      "text/plain": "\"성명이 'kim'인 데이터만 추출\""
     },
     "metadata": {},
     "output_type": "display_data"
    },
    {
     "data": {
      "text/plain": "  Name  Adyear  Grade Sex\n0  kim    2017    3.5   M",
      "text/html": "<div>\n<style scoped>\n    .dataframe tbody tr th:only-of-type {\n        vertical-align: middle;\n    }\n\n    .dataframe tbody tr th {\n        vertical-align: top;\n    }\n\n    .dataframe thead th {\n        text-align: right;\n    }\n</style>\n<table border=\"1\" class=\"dataframe\">\n  <thead>\n    <tr style=\"text-align: right;\">\n      <th></th>\n      <th>Name</th>\n      <th>Adyear</th>\n      <th>Grade</th>\n      <th>Sex</th>\n    </tr>\n  </thead>\n  <tbody>\n    <tr>\n      <th>0</th>\n      <td>kim</td>\n      <td>2017</td>\n      <td>3.5</td>\n      <td>M</td>\n    </tr>\n  </tbody>\n</table>\n</div>"
     },
     "metadata": {},
     "output_type": "display_data"
    },
    {
     "data": {
      "text/plain": "'입학년도가 2018년도 이상만 추출'"
     },
     "metadata": {},
     "output_type": "display_data"
    },
    {
     "data": {
      "text/plain": "   Name  Adyear  Grade Sex\n2   min    2018    4.5   F\n3   jin    2019    2.2   F\n4  park    2018    4.0   M",
      "text/html": "<div>\n<style scoped>\n    .dataframe tbody tr th:only-of-type {\n        vertical-align: middle;\n    }\n\n    .dataframe tbody tr th {\n        vertical-align: top;\n    }\n\n    .dataframe thead th {\n        text-align: right;\n    }\n</style>\n<table border=\"1\" class=\"dataframe\">\n  <thead>\n    <tr style=\"text-align: right;\">\n      <th></th>\n      <th>Name</th>\n      <th>Adyear</th>\n      <th>Grade</th>\n      <th>Sex</th>\n    </tr>\n  </thead>\n  <tbody>\n    <tr>\n      <th>2</th>\n      <td>min</td>\n      <td>2018</td>\n      <td>4.5</td>\n      <td>F</td>\n    </tr>\n    <tr>\n      <th>3</th>\n      <td>jin</td>\n      <td>2019</td>\n      <td>2.2</td>\n      <td>F</td>\n    </tr>\n    <tr>\n      <th>4</th>\n      <td>park</td>\n      <td>2018</td>\n      <td>4.0</td>\n      <td>M</td>\n    </tr>\n  </tbody>\n</table>\n</div>"
     },
     "metadata": {},
     "output_type": "display_data"
    },
    {
     "data": {
      "text/plain": "'여성만 추출'"
     },
     "metadata": {},
     "output_type": "display_data"
    },
    {
     "data": {
      "text/plain": "  Name  Adyear  Grade Sex\n2  min    2018    4.5   F\n3  jin    2019    2.2   F",
      "text/html": "<div>\n<style scoped>\n    .dataframe tbody tr th:only-of-type {\n        vertical-align: middle;\n    }\n\n    .dataframe tbody tr th {\n        vertical-align: top;\n    }\n\n    .dataframe thead th {\n        text-align: right;\n    }\n</style>\n<table border=\"1\" class=\"dataframe\">\n  <thead>\n    <tr style=\"text-align: right;\">\n      <th></th>\n      <th>Name</th>\n      <th>Adyear</th>\n      <th>Grade</th>\n      <th>Sex</th>\n    </tr>\n  </thead>\n  <tbody>\n    <tr>\n      <th>2</th>\n      <td>min</td>\n      <td>2018</td>\n      <td>4.5</td>\n      <td>F</td>\n    </tr>\n    <tr>\n      <th>3</th>\n      <td>jin</td>\n      <td>2019</td>\n      <td>2.2</td>\n      <td>F</td>\n    </tr>\n  </tbody>\n</table>\n</div>"
     },
     "metadata": {},
     "output_type": "display_data"
    },
    {
     "data": {
      "text/plain": "'여성이면서 입학년도가 2019만 추출'"
     },
     "metadata": {},
     "output_type": "display_data"
    },
    {
     "data": {
      "text/plain": "  Name  Adyear  Grade Sex\n3  jin    2019    2.2   F",
      "text/html": "<div>\n<style scoped>\n    .dataframe tbody tr th:only-of-type {\n        vertical-align: middle;\n    }\n\n    .dataframe tbody tr th {\n        vertical-align: top;\n    }\n\n    .dataframe thead th {\n        text-align: right;\n    }\n</style>\n<table border=\"1\" class=\"dataframe\">\n  <thead>\n    <tr style=\"text-align: right;\">\n      <th></th>\n      <th>Name</th>\n      <th>Adyear</th>\n      <th>Grade</th>\n      <th>Sex</th>\n    </tr>\n  </thead>\n  <tbody>\n    <tr>\n      <th>3</th>\n      <td>jin</td>\n      <td>2019</td>\n      <td>2.2</td>\n      <td>F</td>\n    </tr>\n  </tbody>\n</table>\n</div>"
     },
     "metadata": {},
     "output_type": "display_data"
    },
    {
     "data": {
      "text/plain": "'성적이 3.5 이상이거나 남성인 경우 추출'"
     },
     "metadata": {},
     "output_type": "display_data"
    },
    {
     "data": {
      "text/plain": "   Name  Adyear  Grade Sex\n0   kim    2017    3.5   M\n1   lee    2017    2.0   M\n2   min    2018    4.5   F\n4  park    2018    4.0   M",
      "text/html": "<div>\n<style scoped>\n    .dataframe tbody tr th:only-of-type {\n        vertical-align: middle;\n    }\n\n    .dataframe tbody tr th {\n        vertical-align: top;\n    }\n\n    .dataframe thead th {\n        text-align: right;\n    }\n</style>\n<table border=\"1\" class=\"dataframe\">\n  <thead>\n    <tr style=\"text-align: right;\">\n      <th></th>\n      <th>Name</th>\n      <th>Adyear</th>\n      <th>Grade</th>\n      <th>Sex</th>\n    </tr>\n  </thead>\n  <tbody>\n    <tr>\n      <th>0</th>\n      <td>kim</td>\n      <td>2017</td>\n      <td>3.5</td>\n      <td>M</td>\n    </tr>\n    <tr>\n      <th>1</th>\n      <td>lee</td>\n      <td>2017</td>\n      <td>2.0</td>\n      <td>M</td>\n    </tr>\n    <tr>\n      <th>2</th>\n      <td>min</td>\n      <td>2018</td>\n      <td>4.5</td>\n      <td>F</td>\n    </tr>\n    <tr>\n      <th>4</th>\n      <td>park</td>\n      <td>2018</td>\n      <td>4.0</td>\n      <td>M</td>\n    </tr>\n  </tbody>\n</table>\n</div>"
     },
     "metadata": {},
     "output_type": "display_data"
    },
    {
     "data": {
      "text/plain": "'입학년도 2017년도의 성명과 성적만 추출'"
     },
     "metadata": {},
     "output_type": "display_data"
    },
    {
     "data": {
      "text/plain": "'입학년도 2017년도의 성명부터 성적까지 추출(iloc)'"
     },
     "metadata": {},
     "output_type": "display_data"
    },
    {
     "data": {
      "text/plain": "  Name  Adyear  Grade\n0  kim    2017    3.5\n1  lee    2017    2.0",
      "text/html": "<div>\n<style scoped>\n    .dataframe tbody tr th:only-of-type {\n        vertical-align: middle;\n    }\n\n    .dataframe tbody tr th {\n        vertical-align: top;\n    }\n\n    .dataframe thead th {\n        text-align: right;\n    }\n</style>\n<table border=\"1\" class=\"dataframe\">\n  <thead>\n    <tr style=\"text-align: right;\">\n      <th></th>\n      <th>Name</th>\n      <th>Adyear</th>\n      <th>Grade</th>\n    </tr>\n  </thead>\n  <tbody>\n    <tr>\n      <th>0</th>\n      <td>kim</td>\n      <td>2017</td>\n      <td>3.5</td>\n    </tr>\n    <tr>\n      <th>1</th>\n      <td>lee</td>\n      <td>2017</td>\n      <td>2.0</td>\n    </tr>\n  </tbody>\n</table>\n</div>"
     },
     "metadata": {},
     "output_type": "display_data"
    },
    {
     "data": {
      "text/plain": "'입학년도 2017년도의 성명부터 성적까지 추출(loc)'"
     },
     "metadata": {},
     "output_type": "display_data"
    },
    {
     "data": {
      "text/plain": "  Name  Adyear  Grade\n0  kim    2017    3.5\n1  lee    2017    2.0",
      "text/html": "<div>\n<style scoped>\n    .dataframe tbody tr th:only-of-type {\n        vertical-align: middle;\n    }\n\n    .dataframe tbody tr th {\n        vertical-align: top;\n    }\n\n    .dataframe thead th {\n        text-align: right;\n    }\n</style>\n<table border=\"1\" class=\"dataframe\">\n  <thead>\n    <tr style=\"text-align: right;\">\n      <th></th>\n      <th>Name</th>\n      <th>Adyear</th>\n      <th>Grade</th>\n    </tr>\n  </thead>\n  <tbody>\n    <tr>\n      <th>0</th>\n      <td>kim</td>\n      <td>2017</td>\n      <td>3.5</td>\n    </tr>\n    <tr>\n      <th>1</th>\n      <td>lee</td>\n      <td>2017</td>\n      <td>2.0</td>\n    </tr>\n  </tbody>\n</table>\n</div>"
     },
     "metadata": {},
     "output_type": "display_data"
    }
   ],
   "source": [
    "r1 = df['Name']\n",
    "display(\"성명만 추출\", r1)\n",
    "print()\n",
    "\n",
    "r2 = df[['Adyear', 'Grade']]\n",
    "display('입학년도와 성적만 추출', r2)\n",
    "print()\n",
    "\n",
    "r3 = df[df.Name == 'kim']\n",
    "display(\"성명이 'kim'인 데이터만 추출\", r3)\n",
    "print()\n",
    "\n",
    "r4 = df[df.Adyear >= 2018]\n",
    "display(\"입학년도가 2018년도 이상만 추출\", r4)\n",
    "print()\n",
    "\n",
    "r5 = df[df.Sex == 'F']\n",
    "display(\"여성만 추출\", r5)\n",
    "print()\n",
    "\n",
    "r6 = df[(df.Sex == 'F') & (df.Adyear == 2019)]\n",
    "display(\"여성이면서 입학년도가 2019만 추출\", r6)\n",
    "print()\n",
    "\n",
    "r7= df[(df.Sex == 'M') | (df.Grade >= 3.5)]\n",
    "display(\"성적이 3.5 이상이거나 남성인 경우 추출\", r7)\n",
    "print()\n",
    "\n",
    "#df.loc[행조건식, 열이름]\n",
    "r8 = df.loc[df.Adyear == 2017, ['Name', 'Grade']]\n",
    "display(\"입학년도 2017년도의 성명과 성적만 추출\")\n",
    "print()\n",
    "\n",
    "#df.iloc[행위치값, 열위치값]\n",
    "r9 = df.iloc[0:2, :3]\n",
    "display(\"입학년도 2017년도의 성명부터 성적까지 추출(iloc)\", r9)\n",
    "print()\n",
    "\n",
    "#df.loc[행레이블, 열레이블]\n",
    "r10 = df.loc[:1, :'Grade']\n",
    "display(\"입학년도 2017년도의 성명부터 성적까지 추출(loc)\", r10)"
   ],
   "metadata": {
    "collapsed": false,
    "pycharm": {
     "name": "#%%\n"
    }
   }
  },
  {
   "cell_type": "markdown",
   "source": [
    "## 3. 데이터프레임 행, 열 추가, 통계함수, 파일저장 예\n",
    "\n",
    "5명의 성적 데이터 이용\n",
    "\n",
    "1) 성별 'F' -> 여, 'M' -> 남\n",
    "\n",
    "2) 새로운 학생 한명 추가\n",
    "\n",
    "3) lee 학생을 인덱스로 접근하여 삭제(원본 유지)\n",
    "\n",
    "4) Age 열 추가\n",
    "\n",
    "5) 성명을 index로 변경하고 성명 칼럼 삭제\n",
    "\n",
    "6) 데이터프레임에서 학점, 나이만 추출하여 데이터프레임 df2 생성\n",
    "\n",
    "7) df2 데이터에 대한 각 열의 minimum, maximum, mean 값을 구하여 행에 추가\n",
    "\n",
    "8) 데이터프레임을 data폴더의 grade.csv 파일로 저장"
   ],
   "metadata": {
    "collapsed": false,
    "pycharm": {
     "name": "#%% md\n"
    }
   }
  },
  {
   "cell_type": "code",
   "execution_count": 19,
   "outputs": [
    {
     "data": {
      "text/plain": "   Name  Adyear  Grade Sex\n0   kim    2017    3.5   남\n1   lee    2017    2.0   남\n2   min    2018    4.5   여\n3   jin    2019    2.2   여\n4  park    2018    4.0   남",
      "text/html": "<div>\n<style scoped>\n    .dataframe tbody tr th:only-of-type {\n        vertical-align: middle;\n    }\n\n    .dataframe tbody tr th {\n        vertical-align: top;\n    }\n\n    .dataframe thead th {\n        text-align: right;\n    }\n</style>\n<table border=\"1\" class=\"dataframe\">\n  <thead>\n    <tr style=\"text-align: right;\">\n      <th></th>\n      <th>Name</th>\n      <th>Adyear</th>\n      <th>Grade</th>\n      <th>Sex</th>\n    </tr>\n  </thead>\n  <tbody>\n    <tr>\n      <th>0</th>\n      <td>kim</td>\n      <td>2017</td>\n      <td>3.5</td>\n      <td>남</td>\n    </tr>\n    <tr>\n      <th>1</th>\n      <td>lee</td>\n      <td>2017</td>\n      <td>2.0</td>\n      <td>남</td>\n    </tr>\n    <tr>\n      <th>2</th>\n      <td>min</td>\n      <td>2018</td>\n      <td>4.5</td>\n      <td>여</td>\n    </tr>\n    <tr>\n      <th>3</th>\n      <td>jin</td>\n      <td>2019</td>\n      <td>2.2</td>\n      <td>여</td>\n    </tr>\n    <tr>\n      <th>4</th>\n      <td>park</td>\n      <td>2018</td>\n      <td>4.0</td>\n      <td>남</td>\n    </tr>\n  </tbody>\n</table>\n</div>"
     },
     "metadata": {},
     "output_type": "display_data"
    }
   ],
   "source": [
    "df.loc[df.Sex == 'F', 'Sex'] = \"여\"\n",
    "df.loc[df.Sex == 'M', 'Sex'] = \"남\"\n",
    "display(df)\n"
   ],
   "metadata": {
    "collapsed": false,
    "pycharm": {
     "name": "#%%\n"
    }
   }
  },
  {
   "cell_type": "code",
   "execution_count": 20,
   "outputs": [
    {
     "data": {
      "text/plain": "'행추가 데이터 = '"
     },
     "metadata": {},
     "output_type": "display_data"
    },
    {
     "data": {
      "text/plain": "   Name  Adyear  Grade Sex\n0   kim    2017    3.5   남\n1   lee    2017    2.0   남\n2   min    2018    4.5   여\n3   jin    2019    2.2   여\n4  park    2018    4.0   남\n5  shin    2019    4.3   여",
      "text/html": "<div>\n<style scoped>\n    .dataframe tbody tr th:only-of-type {\n        vertical-align: middle;\n    }\n\n    .dataframe tbody tr th {\n        vertical-align: top;\n    }\n\n    .dataframe thead th {\n        text-align: right;\n    }\n</style>\n<table border=\"1\" class=\"dataframe\">\n  <thead>\n    <tr style=\"text-align: right;\">\n      <th></th>\n      <th>Name</th>\n      <th>Adyear</th>\n      <th>Grade</th>\n      <th>Sex</th>\n    </tr>\n  </thead>\n  <tbody>\n    <tr>\n      <th>0</th>\n      <td>kim</td>\n      <td>2017</td>\n      <td>3.5</td>\n      <td>남</td>\n    </tr>\n    <tr>\n      <th>1</th>\n      <td>lee</td>\n      <td>2017</td>\n      <td>2.0</td>\n      <td>남</td>\n    </tr>\n    <tr>\n      <th>2</th>\n      <td>min</td>\n      <td>2018</td>\n      <td>4.5</td>\n      <td>여</td>\n    </tr>\n    <tr>\n      <th>3</th>\n      <td>jin</td>\n      <td>2019</td>\n      <td>2.2</td>\n      <td>여</td>\n    </tr>\n    <tr>\n      <th>4</th>\n      <td>park</td>\n      <td>2018</td>\n      <td>4.0</td>\n      <td>남</td>\n    </tr>\n    <tr>\n      <th>5</th>\n      <td>shin</td>\n      <td>2019</td>\n      <td>4.3</td>\n      <td>여</td>\n    </tr>\n  </tbody>\n</table>\n</div>"
     },
     "metadata": {},
     "output_type": "display_data"
    }
   ],
   "source": [
    "df.loc[5] = ['shin', 2019, 4.3, '여']\n",
    "display(\"행추가 데이터 = \", df)"
   ],
   "metadata": {
    "collapsed": false,
    "pycharm": {
     "name": "#%%\n"
    }
   }
  },
  {
   "cell_type": "code",
   "execution_count": 21,
   "outputs": [
    {
     "data": {
      "text/plain": "'행삭제 데이터 = '"
     },
     "metadata": {},
     "output_type": "display_data"
    },
    {
     "data": {
      "text/plain": "   Name  Adyear  Grade Sex\n0   kim    2017    3.5   남\n2   min    2018    4.5   여\n3   jin    2019    2.2   여\n4  park    2018    4.0   남\n5  shin    2019    4.3   여",
      "text/html": "<div>\n<style scoped>\n    .dataframe tbody tr th:only-of-type {\n        vertical-align: middle;\n    }\n\n    .dataframe tbody tr th {\n        vertical-align: top;\n    }\n\n    .dataframe thead th {\n        text-align: right;\n    }\n</style>\n<table border=\"1\" class=\"dataframe\">\n  <thead>\n    <tr style=\"text-align: right;\">\n      <th></th>\n      <th>Name</th>\n      <th>Adyear</th>\n      <th>Grade</th>\n      <th>Sex</th>\n    </tr>\n  </thead>\n  <tbody>\n    <tr>\n      <th>0</th>\n      <td>kim</td>\n      <td>2017</td>\n      <td>3.5</td>\n      <td>남</td>\n    </tr>\n    <tr>\n      <th>2</th>\n      <td>min</td>\n      <td>2018</td>\n      <td>4.5</td>\n      <td>여</td>\n    </tr>\n    <tr>\n      <th>3</th>\n      <td>jin</td>\n      <td>2019</td>\n      <td>2.2</td>\n      <td>여</td>\n    </tr>\n    <tr>\n      <th>4</th>\n      <td>park</td>\n      <td>2018</td>\n      <td>4.0</td>\n      <td>남</td>\n    </tr>\n    <tr>\n      <th>5</th>\n      <td>shin</td>\n      <td>2019</td>\n      <td>4.3</td>\n      <td>여</td>\n    </tr>\n  </tbody>\n</table>\n</div>"
     },
     "metadata": {},
     "output_type": "display_data"
    }
   ],
   "source": [
    "df1 = df.drop([1])\n",
    "display(\"행삭제 데이터 = \", df1)"
   ],
   "metadata": {
    "collapsed": false,
    "pycharm": {
     "name": "#%%\n"
    }
   }
  },
  {
   "cell_type": "code",
   "execution_count": 22,
   "outputs": [
    {
     "data": {
      "text/plain": "'열추가 데이터 = '"
     },
     "metadata": {},
     "output_type": "display_data"
    },
    {
     "data": {
      "text/plain": "   Name  Adyear  Grade Sex  Age\n0   kim    2017    3.5   남   20\n1   lee    2017    2.0   남   21\n2   min    2018    4.5   여   22\n3   jin    2019    2.2   여   20\n4  park    2018    4.0   남   23\n5  shin    2019    4.3   여   22",
      "text/html": "<div>\n<style scoped>\n    .dataframe tbody tr th:only-of-type {\n        vertical-align: middle;\n    }\n\n    .dataframe tbody tr th {\n        vertical-align: top;\n    }\n\n    .dataframe thead th {\n        text-align: right;\n    }\n</style>\n<table border=\"1\" class=\"dataframe\">\n  <thead>\n    <tr style=\"text-align: right;\">\n      <th></th>\n      <th>Name</th>\n      <th>Adyear</th>\n      <th>Grade</th>\n      <th>Sex</th>\n      <th>Age</th>\n    </tr>\n  </thead>\n  <tbody>\n    <tr>\n      <th>0</th>\n      <td>kim</td>\n      <td>2017</td>\n      <td>3.5</td>\n      <td>남</td>\n      <td>20</td>\n    </tr>\n    <tr>\n      <th>1</th>\n      <td>lee</td>\n      <td>2017</td>\n      <td>2.0</td>\n      <td>남</td>\n      <td>21</td>\n    </tr>\n    <tr>\n      <th>2</th>\n      <td>min</td>\n      <td>2018</td>\n      <td>4.5</td>\n      <td>여</td>\n      <td>22</td>\n    </tr>\n    <tr>\n      <th>3</th>\n      <td>jin</td>\n      <td>2019</td>\n      <td>2.2</td>\n      <td>여</td>\n      <td>20</td>\n    </tr>\n    <tr>\n      <th>4</th>\n      <td>park</td>\n      <td>2018</td>\n      <td>4.0</td>\n      <td>남</td>\n      <td>23</td>\n    </tr>\n    <tr>\n      <th>5</th>\n      <td>shin</td>\n      <td>2019</td>\n      <td>4.3</td>\n      <td>여</td>\n      <td>22</td>\n    </tr>\n  </tbody>\n</table>\n</div>"
     },
     "metadata": {},
     "output_type": "display_data"
    }
   ],
   "source": [
    "df['Age'] = [20, 21, 22, 20, 23, 22]\n",
    "display(\"열추가 데이터 = \", df)"
   ],
   "metadata": {
    "collapsed": false,
    "pycharm": {
     "name": "#%%\n"
    }
   }
  },
  {
   "cell_type": "code",
   "execution_count": 25,
   "outputs": [
    {
     "ename": "AttributeError",
     "evalue": "'DataFrame' object has no attribute 'Name'",
     "output_type": "error",
     "traceback": [
      "\u001B[1;31m---------------------------------------------------------------------------\u001B[0m",
      "\u001B[1;31mAttributeError\u001B[0m                            Traceback (most recent call last)",
      "\u001B[1;32m<ipython-input-25-750f8a6a8e61>\u001B[0m in \u001B[0;36m<module>\u001B[1;34m\u001B[0m\n\u001B[1;32m----> 1\u001B[1;33m \u001B[0mdf\u001B[0m\u001B[1;33m.\u001B[0m\u001B[0mindex\u001B[0m \u001B[1;33m=\u001B[0m \u001B[0mdf\u001B[0m\u001B[1;33m.\u001B[0m\u001B[0mName\u001B[0m\u001B[1;33m\u001B[0m\u001B[1;33m\u001B[0m\u001B[0m\n\u001B[0m\u001B[0;32m      2\u001B[0m \u001B[0mdf\u001B[0m\u001B[1;33m.\u001B[0m\u001B[0mdrop\u001B[0m\u001B[1;33m(\u001B[0m\u001B[1;33m[\u001B[0m\u001B[1;34m'Name'\u001B[0m\u001B[1;33m]\u001B[0m\u001B[1;33m,\u001B[0m \u001B[0maxis\u001B[0m \u001B[1;33m=\u001B[0m \u001B[1;36m1\u001B[0m\u001B[1;33m,\u001B[0m \u001B[0minplace\u001B[0m \u001B[1;33m=\u001B[0m \u001B[1;32mTrue\u001B[0m\u001B[1;33m)\u001B[0m\u001B[1;33m\u001B[0m\u001B[1;33m\u001B[0m\u001B[0m\n\u001B[0;32m      3\u001B[0m \u001B[0mdisplay\u001B[0m\u001B[1;33m(\u001B[0m\u001B[0mdf\u001B[0m\u001B[1;33m)\u001B[0m\u001B[1;33m\u001B[0m\u001B[1;33m\u001B[0m\u001B[0m\n",
      "\u001B[1;32mc:\\201814471\\setup\\envs\\py37\\lib\\site-packages\\pandas\\core\\generic.py\u001B[0m in \u001B[0;36m__getattr__\u001B[1;34m(self, name)\u001B[0m\n\u001B[0;32m   5463\u001B[0m             \u001B[1;32mif\u001B[0m \u001B[0mself\u001B[0m\u001B[1;33m.\u001B[0m\u001B[0m_info_axis\u001B[0m\u001B[1;33m.\u001B[0m\u001B[0m_can_hold_identifiers_and_holds_name\u001B[0m\u001B[1;33m(\u001B[0m\u001B[0mname\u001B[0m\u001B[1;33m)\u001B[0m\u001B[1;33m:\u001B[0m\u001B[1;33m\u001B[0m\u001B[1;33m\u001B[0m\u001B[0m\n\u001B[0;32m   5464\u001B[0m                 \u001B[1;32mreturn\u001B[0m \u001B[0mself\u001B[0m\u001B[1;33m[\u001B[0m\u001B[0mname\u001B[0m\u001B[1;33m]\u001B[0m\u001B[1;33m\u001B[0m\u001B[1;33m\u001B[0m\u001B[0m\n\u001B[1;32m-> 5465\u001B[1;33m             \u001B[1;32mreturn\u001B[0m \u001B[0mobject\u001B[0m\u001B[1;33m.\u001B[0m\u001B[0m__getattribute__\u001B[0m\u001B[1;33m(\u001B[0m\u001B[0mself\u001B[0m\u001B[1;33m,\u001B[0m \u001B[0mname\u001B[0m\u001B[1;33m)\u001B[0m\u001B[1;33m\u001B[0m\u001B[1;33m\u001B[0m\u001B[0m\n\u001B[0m\u001B[0;32m   5466\u001B[0m \u001B[1;33m\u001B[0m\u001B[0m\n\u001B[0;32m   5467\u001B[0m     \u001B[1;32mdef\u001B[0m \u001B[0m__setattr__\u001B[0m\u001B[1;33m(\u001B[0m\u001B[0mself\u001B[0m\u001B[1;33m,\u001B[0m \u001B[0mname\u001B[0m\u001B[1;33m:\u001B[0m \u001B[0mstr\u001B[0m\u001B[1;33m,\u001B[0m \u001B[0mvalue\u001B[0m\u001B[1;33m)\u001B[0m \u001B[1;33m->\u001B[0m \u001B[1;32mNone\u001B[0m\u001B[1;33m:\u001B[0m\u001B[1;33m\u001B[0m\u001B[1;33m\u001B[0m\u001B[0m\n",
      "\u001B[1;31mAttributeError\u001B[0m: 'DataFrame' object has no attribute 'Name'"
     ]
    }
   ],
   "source": [
    "df.index = df.Name\n",
    "df.drop(['Name'], axis = 1, inplace = True)\n",
    "display(df)"
   ],
   "metadata": {
    "collapsed": false,
    "pycharm": {
     "name": "#%%\n"
    }
   }
  },
  {
   "cell_type": "markdown",
   "source": [
    "#### Descriptive statistics\n",
    "\n",
    "통계함수 제공: sum(), mean(), quantile()...\n",
    "\n",
    "함수 호출 구조\n",
    "\n",
    "* 행방향 계산(default)\n",
    "    * 데이터프레임명.함수명(axis = 0), 데이터프레임명.함수명(axis = 'Index')\n",
    "    * df.sum(), df.sum(0): 행방향 각 열의 합\n",
    "\n",
    "* 열 방향 계산\n",
    "    * 데이터프레임명.함수명(axis = 1), 데이터프레임명.함수명(axis = 'columns')\n",
    "    * df.sum(1) : 열방향 각 행의 합"
   ],
   "metadata": {
    "collapsed": false,
    "pycharm": {
     "name": "#%% md\n"
    }
   }
  },
  {
   "cell_type": "code",
   "execution_count": 26,
   "outputs": [
    {
     "data": {
      "text/plain": "'열추출 데이터 df2 = '"
     },
     "metadata": {},
     "output_type": "display_data"
    },
    {
     "data": {
      "text/plain": "      Grade  Age\nName            \nkim     3.5   20\nlee     2.0   21\nmin     4.5   22\njin     2.2   20\npark    4.0   23\nshin    4.3   22",
      "text/html": "<div>\n<style scoped>\n    .dataframe tbody tr th:only-of-type {\n        vertical-align: middle;\n    }\n\n    .dataframe tbody tr th {\n        vertical-align: top;\n    }\n\n    .dataframe thead th {\n        text-align: right;\n    }\n</style>\n<table border=\"1\" class=\"dataframe\">\n  <thead>\n    <tr style=\"text-align: right;\">\n      <th></th>\n      <th>Grade</th>\n      <th>Age</th>\n    </tr>\n    <tr>\n      <th>Name</th>\n      <th></th>\n      <th></th>\n    </tr>\n  </thead>\n  <tbody>\n    <tr>\n      <th>kim</th>\n      <td>3.5</td>\n      <td>20</td>\n    </tr>\n    <tr>\n      <th>lee</th>\n      <td>2.0</td>\n      <td>21</td>\n    </tr>\n    <tr>\n      <th>min</th>\n      <td>4.5</td>\n      <td>22</td>\n    </tr>\n    <tr>\n      <th>jin</th>\n      <td>2.2</td>\n      <td>20</td>\n    </tr>\n    <tr>\n      <th>park</th>\n      <td>4.0</td>\n      <td>23</td>\n    </tr>\n    <tr>\n      <th>shin</th>\n      <td>4.3</td>\n      <td>22</td>\n    </tr>\n  </tbody>\n</table>\n</div>"
     },
     "metadata": {},
     "output_type": "display_data"
    }
   ],
   "source": [
    "df2 = df[['Grade', 'Age']]\n",
    "display(\"열추출 데이터 df2 = \", df2)"
   ],
   "metadata": {
    "collapsed": false,
    "pycharm": {
     "name": "#%%\n"
    }
   }
  },
  {
   "cell_type": "code",
   "execution_count": 28,
   "outputs": [
    {
     "name": "stderr",
     "output_type": "stream",
     "text": [
      "c:\\201814471\\setup\\envs\\py37\\lib\\site-packages\\pandas\\core\\indexing.py:1637: SettingWithCopyWarning: \n",
      "A value is trying to be set on a copy of a slice from a DataFrame\n",
      "\n",
      "See the caveats in the documentation: https://pandas.pydata.org/pandas-docs/stable/user_guide/indexing.html#returning-a-view-versus-a-copy\n",
      "  self._setitem_sinGNILifee_block(indexer, value, name)\n",
      "c:\\201814471\\setup\\envs\\py37\\lib\\site-packages\\pandas\\core\\indexing.py:692: SettingWithCopyWarning: \n",
      "A value is trying to be set on a copy of a slice from a DataFrame\n",
      "\n",
      "See the caveats in the documentation: https://pandas.pydata.org/pandas-docs/stable/user_guide/indexing.html#returning-a-view-versus-a-copy\n",
      "  iloc._setitem_with_indexer(indexer, value, self.name)\n",
      "c:\\201814471\\setup\\envs\\py37\\lib\\site-packages\\pandas\\core\\indexing.py:1700: SettingWithCopyWarning: \n",
      "A value is trying to be set on a copy of a slice from a DataFrame.\n",
      "Try using .loc[row_indexer,col_indexer] = value instead\n",
      "\n",
      "See the caveats in the documentation: https://pandas.pydata.org/pandas-docs/stable/user_guide/indexing.html#returning-a-view-versus-a-copy\n",
      "  self._setitem_sinGNILifee_column(loc, v, pi)\n"
     ]
    },
    {
     "data": {
      "text/plain": "'통계값 행추가 데이터 df2 = '"
     },
     "metadata": {},
     "output_type": "display_data"
    },
    {
     "data": {
      "text/plain": "            Grade        Age\nName                        \nkim      3.500000  20.000000\nlee      2.000000  21.000000\nmin      4.500000  22.000000\njin      2.200000  20.000000\npark     4.000000  23.000000\nshin     4.300000  22.000000\nminimum  2.000000  20.000000\nmaximum  4.500000  23.000000\nmean     3.416667  21.333333",
      "text/html": "<div>\n<style scoped>\n    .dataframe tbody tr th:only-of-type {\n        vertical-align: middle;\n    }\n\n    .dataframe tbody tr th {\n        vertical-align: top;\n    }\n\n    .dataframe thead th {\n        text-align: right;\n    }\n</style>\n<table border=\"1\" class=\"dataframe\">\n  <thead>\n    <tr style=\"text-align: right;\">\n      <th></th>\n      <th>Grade</th>\n      <th>Age</th>\n    </tr>\n    <tr>\n      <th>Name</th>\n      <th></th>\n      <th></th>\n    </tr>\n  </thead>\n  <tbody>\n    <tr>\n      <th>kim</th>\n      <td>3.500000</td>\n      <td>20.000000</td>\n    </tr>\n    <tr>\n      <th>lee</th>\n      <td>2.000000</td>\n      <td>21.000000</td>\n    </tr>\n    <tr>\n      <th>min</th>\n      <td>4.500000</td>\n      <td>22.000000</td>\n    </tr>\n    <tr>\n      <th>jin</th>\n      <td>2.200000</td>\n      <td>20.000000</td>\n    </tr>\n    <tr>\n      <th>park</th>\n      <td>4.000000</td>\n      <td>23.000000</td>\n    </tr>\n    <tr>\n      <th>shin</th>\n      <td>4.300000</td>\n      <td>22.000000</td>\n    </tr>\n    <tr>\n      <th>minimum</th>\n      <td>2.000000</td>\n      <td>20.000000</td>\n    </tr>\n    <tr>\n      <th>maximum</th>\n      <td>4.500000</td>\n      <td>23.000000</td>\n    </tr>\n    <tr>\n      <th>mean</th>\n      <td>3.416667</td>\n      <td>21.333333</td>\n    </tr>\n  </tbody>\n</table>\n</div>"
     },
     "metadata": {},
     "output_type": "display_data"
    }
   ],
   "source": [
    "min1 = df2.min()\n",
    "max1 = df.max()\n",
    "mean = df.mean()\n",
    "\n",
    "df2.loc['minimum'] = min1\n",
    "df2.loc['maximum'] = max1\n",
    "df2.loc['mean'] = mean\n",
    "display(\"통계값 행추가 데이터 df2 = \", df2)"
   ],
   "metadata": {
    "collapsed": false,
    "pycharm": {
     "name": "#%%\n"
    }
   }
  },
  {
   "cell_type": "code",
   "execution_count": 31,
   "outputs": [],
   "source": [
    "df.to_csv('C:/Users/서지희/OneDrive - 강원대학교/대학/WorkSpace/Python/데이터마이닝/data/grade.csv', encoding='euc-kr')"
   ],
   "metadata": {
    "collapsed": false,
    "pycharm": {
     "name": "#%%\n"
    }
   }
  },
  {
   "cell_type": "code",
   "execution_count": 33,
   "outputs": [
    {
     "data": {
      "text/plain": "'df3 = '"
     },
     "metadata": {},
     "output_type": "display_data"
    },
    {
     "data": {
      "text/plain": "      Adyear  Grade Sex  Age\nName                        \nkim     2017    3.5   남   20\nlee     2017    2.0   남   21\nmin     2018    4.5   여   22\njin     2019    2.2   여   20\npark    2018    4.0   남   23\nshin    2019    4.3   여   22",
      "text/html": "<div>\n<style scoped>\n    .dataframe tbody tr th:only-of-type {\n        vertical-align: middle;\n    }\n\n    .dataframe tbody tr th {\n        vertical-align: top;\n    }\n\n    .dataframe thead th {\n        text-align: right;\n    }\n</style>\n<table border=\"1\" class=\"dataframe\">\n  <thead>\n    <tr style=\"text-align: right;\">\n      <th></th>\n      <th>Adyear</th>\n      <th>Grade</th>\n      <th>Sex</th>\n      <th>Age</th>\n    </tr>\n    <tr>\n      <th>Name</th>\n      <th></th>\n      <th></th>\n      <th></th>\n      <th></th>\n    </tr>\n  </thead>\n  <tbody>\n    <tr>\n      <th>kim</th>\n      <td>2017</td>\n      <td>3.5</td>\n      <td>남</td>\n      <td>20</td>\n    </tr>\n    <tr>\n      <th>lee</th>\n      <td>2017</td>\n      <td>2.0</td>\n      <td>남</td>\n      <td>21</td>\n    </tr>\n    <tr>\n      <th>min</th>\n      <td>2018</td>\n      <td>4.5</td>\n      <td>여</td>\n      <td>22</td>\n    </tr>\n    <tr>\n      <th>jin</th>\n      <td>2019</td>\n      <td>2.2</td>\n      <td>여</td>\n      <td>20</td>\n    </tr>\n    <tr>\n      <th>park</th>\n      <td>2018</td>\n      <td>4.0</td>\n      <td>남</td>\n      <td>23</td>\n    </tr>\n    <tr>\n      <th>shin</th>\n      <td>2019</td>\n      <td>4.3</td>\n      <td>여</td>\n      <td>22</td>\n    </tr>\n  </tbody>\n</table>\n</div>"
     },
     "metadata": {},
     "output_type": "display_data"
    }
   ],
   "source": [
    "df3 = pd.read_csv('C:/Users/서지희/OneDrive - 강원대학교/대학/WorkSpace/Python/데이터마이닝/data/grade.csv', index_col= 0, encoding='euc-kr')\n",
    "display(\"df3 = \", df3)"
   ],
   "metadata": {
    "collapsed": false,
    "pycharm": {
     "name": "#%%\n"
    }
   }
  },
  {
   "cell_type": "markdown",
   "source": [
    "* Append: 행 단위로 결합\n"
   ],
   "metadata": {
    "collapsed": false,
    "pycharm": {
     "name": "#%% md\n",
     "is_executing": true
    }
   }
  },
  {
   "cell_type": "code",
   "execution_count": 35,
   "outputs": [
    {
     "data": {
      "text/plain": "      Adyear  Grade Sex  Age\nName                        \nkim     2017    3.5   남   20\nlee     2017    2.0   남   21\npark    2018    4.0   남   23",
      "text/html": "<div>\n<style scoped>\n    .dataframe tbody tr th:only-of-type {\n        vertical-align: middle;\n    }\n\n    .dataframe tbody tr th {\n        vertical-align: top;\n    }\n\n    .dataframe thead th {\n        text-align: right;\n    }\n</style>\n<table border=\"1\" class=\"dataframe\">\n  <thead>\n    <tr style=\"text-align: right;\">\n      <th></th>\n      <th>Adyear</th>\n      <th>Grade</th>\n      <th>Sex</th>\n      <th>Age</th>\n    </tr>\n    <tr>\n      <th>Name</th>\n      <th></th>\n      <th></th>\n      <th></th>\n      <th></th>\n    </tr>\n  </thead>\n  <tbody>\n    <tr>\n      <th>kim</th>\n      <td>2017</td>\n      <td>3.5</td>\n      <td>남</td>\n      <td>20</td>\n    </tr>\n    <tr>\n      <th>lee</th>\n      <td>2017</td>\n      <td>2.0</td>\n      <td>남</td>\n      <td>21</td>\n    </tr>\n    <tr>\n      <th>park</th>\n      <td>2018</td>\n      <td>4.0</td>\n      <td>남</td>\n      <td>23</td>\n    </tr>\n  </tbody>\n</table>\n</div>"
     },
     "metadata": {},
     "output_type": "display_data"
    },
    {
     "data": {
      "text/plain": "      Adyear  Grade Sex  Age\nName                        \nmin     2018    4.5   여   22\njin     2019    2.2   여   20\nshin    2019    4.3   여   22",
      "text/html": "<div>\n<style scoped>\n    .dataframe tbody tr th:only-of-type {\n        vertical-align: middle;\n    }\n\n    .dataframe tbody tr th {\n        vertical-align: top;\n    }\n\n    .dataframe thead th {\n        text-align: right;\n    }\n</style>\n<table border=\"1\" class=\"dataframe\">\n  <thead>\n    <tr style=\"text-align: right;\">\n      <th></th>\n      <th>Adyear</th>\n      <th>Grade</th>\n      <th>Sex</th>\n      <th>Age</th>\n    </tr>\n    <tr>\n      <th>Name</th>\n      <th></th>\n      <th></th>\n      <th></th>\n      <th></th>\n    </tr>\n  </thead>\n  <tbody>\n    <tr>\n      <th>min</th>\n      <td>2018</td>\n      <td>4.5</td>\n      <td>여</td>\n      <td>22</td>\n    </tr>\n    <tr>\n      <th>jin</th>\n      <td>2019</td>\n      <td>2.2</td>\n      <td>여</td>\n      <td>20</td>\n    </tr>\n    <tr>\n      <th>shin</th>\n      <td>2019</td>\n      <td>4.3</td>\n      <td>여</td>\n      <td>22</td>\n    </tr>\n  </tbody>\n</table>\n</div>"
     },
     "metadata": {},
     "output_type": "display_data"
    },
    {
     "data": {
      "text/plain": "      Adyear  Grade Sex  Age\nName                        \nkim     2017    3.5   남   20\nlee     2017    2.0   남   21\npark    2018    4.0   남   23\nmin     2018    4.5   여   22\njin     2019    2.2   여   20\nshin    2019    4.3   여   22",
      "text/html": "<div>\n<style scoped>\n    .dataframe tbody tr th:only-of-type {\n        vertical-align: middle;\n    }\n\n    .dataframe tbody tr th {\n        vertical-align: top;\n    }\n\n    .dataframe thead th {\n        text-align: right;\n    }\n</style>\n<table border=\"1\" class=\"dataframe\">\n  <thead>\n    <tr style=\"text-align: right;\">\n      <th></th>\n      <th>Adyear</th>\n      <th>Grade</th>\n      <th>Sex</th>\n      <th>Age</th>\n    </tr>\n    <tr>\n      <th>Name</th>\n      <th></th>\n      <th></th>\n      <th></th>\n      <th></th>\n    </tr>\n  </thead>\n  <tbody>\n    <tr>\n      <th>kim</th>\n      <td>2017</td>\n      <td>3.5</td>\n      <td>남</td>\n      <td>20</td>\n    </tr>\n    <tr>\n      <th>lee</th>\n      <td>2017</td>\n      <td>2.0</td>\n      <td>남</td>\n      <td>21</td>\n    </tr>\n    <tr>\n      <th>park</th>\n      <td>2018</td>\n      <td>4.0</td>\n      <td>남</td>\n      <td>23</td>\n    </tr>\n    <tr>\n      <th>min</th>\n      <td>2018</td>\n      <td>4.5</td>\n      <td>여</td>\n      <td>22</td>\n    </tr>\n    <tr>\n      <th>jin</th>\n      <td>2019</td>\n      <td>2.2</td>\n      <td>여</td>\n      <td>20</td>\n    </tr>\n    <tr>\n      <th>shin</th>\n      <td>2019</td>\n      <td>4.3</td>\n      <td>여</td>\n      <td>22</td>\n    </tr>\n  </tbody>\n</table>\n</div>"
     },
     "metadata": {},
     "output_type": "display_data"
    }
   ],
   "source": [
    "df1 = df[df.Sex == '남']\n",
    "df2 = df[df.Sex == '여']\n",
    "display(df1)\n",
    "display(df2)\n",
    "df3 = df1.append(df2)\n",
    "display(df3)"
   ],
   "metadata": {
    "collapsed": false,
    "pycharm": {
     "name": "#%%\n"
    }
   }
  },
  {
   "cell_type": "markdown",
   "source": [
    "* Merge: 특정 속성(key)를 기준으로 열 단위 결합"
   ],
   "metadata": {
    "collapsed": false,
    "pycharm": {
     "name": "#%% md\n"
    }
   }
  },
  {
   "cell_type": "code",
   "execution_count": 36,
   "outputs": [
    {
     "data": {
      "text/plain": "      Adyear  Grade\nName               \nkim     2017    3.5\nlee     2017    2.0\nmin     2018    4.5\njin     2019    2.2\npark    2018    4.0\nshin    2019    4.3",
      "text/html": "<div>\n<style scoped>\n    .dataframe tbody tr th:only-of-type {\n        vertical-align: middle;\n    }\n\n    .dataframe tbody tr th {\n        vertical-align: top;\n    }\n\n    .dataframe thead th {\n        text-align: right;\n    }\n</style>\n<table border=\"1\" class=\"dataframe\">\n  <thead>\n    <tr style=\"text-align: right;\">\n      <th></th>\n      <th>Adyear</th>\n      <th>Grade</th>\n    </tr>\n    <tr>\n      <th>Name</th>\n      <th></th>\n      <th></th>\n    </tr>\n  </thead>\n  <tbody>\n    <tr>\n      <th>kim</th>\n      <td>2017</td>\n      <td>3.5</td>\n    </tr>\n    <tr>\n      <th>lee</th>\n      <td>2017</td>\n      <td>2.0</td>\n    </tr>\n    <tr>\n      <th>min</th>\n      <td>2018</td>\n      <td>4.5</td>\n    </tr>\n    <tr>\n      <th>jin</th>\n      <td>2019</td>\n      <td>2.2</td>\n    </tr>\n    <tr>\n      <th>park</th>\n      <td>2018</td>\n      <td>4.0</td>\n    </tr>\n    <tr>\n      <th>shin</th>\n      <td>2019</td>\n      <td>4.3</td>\n    </tr>\n  </tbody>\n</table>\n</div>"
     },
     "metadata": {},
     "output_type": "display_data"
    },
    {
     "data": {
      "text/plain": "     Sex  Age\nName         \nkim    남   20\nlee    남   21\nmin    여   22\njin    여   20\npark   남   23\nshin   여   22",
      "text/html": "<div>\n<style scoped>\n    .dataframe tbody tr th:only-of-type {\n        vertical-align: middle;\n    }\n\n    .dataframe tbody tr th {\n        vertical-align: top;\n    }\n\n    .dataframe thead th {\n        text-align: right;\n    }\n</style>\n<table border=\"1\" class=\"dataframe\">\n  <thead>\n    <tr style=\"text-align: right;\">\n      <th></th>\n      <th>Sex</th>\n      <th>Age</th>\n    </tr>\n    <tr>\n      <th>Name</th>\n      <th></th>\n      <th></th>\n    </tr>\n  </thead>\n  <tbody>\n    <tr>\n      <th>kim</th>\n      <td>남</td>\n      <td>20</td>\n    </tr>\n    <tr>\n      <th>lee</th>\n      <td>남</td>\n      <td>21</td>\n    </tr>\n    <tr>\n      <th>min</th>\n      <td>여</td>\n      <td>22</td>\n    </tr>\n    <tr>\n      <th>jin</th>\n      <td>여</td>\n      <td>20</td>\n    </tr>\n    <tr>\n      <th>park</th>\n      <td>남</td>\n      <td>23</td>\n    </tr>\n    <tr>\n      <th>shin</th>\n      <td>여</td>\n      <td>22</td>\n    </tr>\n  </tbody>\n</table>\n</div>"
     },
     "metadata": {},
     "output_type": "display_data"
    },
    {
     "data": {
      "text/plain": "      Adyear  Grade Sex  Age\nName                        \nkim     2017    3.5   남   20\nlee     2017    2.0   남   21\nmin     2018    4.5   여   22\njin     2019    2.2   여   20\npark    2018    4.0   남   23\nshin    2019    4.3   여   22",
      "text/html": "<div>\n<style scoped>\n    .dataframe tbody tr th:only-of-type {\n        vertical-align: middle;\n    }\n\n    .dataframe tbody tr th {\n        vertical-align: top;\n    }\n\n    .dataframe thead th {\n        text-align: right;\n    }\n</style>\n<table border=\"1\" class=\"dataframe\">\n  <thead>\n    <tr style=\"text-align: right;\">\n      <th></th>\n      <th>Adyear</th>\n      <th>Grade</th>\n      <th>Sex</th>\n      <th>Age</th>\n    </tr>\n    <tr>\n      <th>Name</th>\n      <th></th>\n      <th></th>\n      <th></th>\n      <th></th>\n    </tr>\n  </thead>\n  <tbody>\n    <tr>\n      <th>kim</th>\n      <td>2017</td>\n      <td>3.5</td>\n      <td>남</td>\n      <td>20</td>\n    </tr>\n    <tr>\n      <th>lee</th>\n      <td>2017</td>\n      <td>2.0</td>\n      <td>남</td>\n      <td>21</td>\n    </tr>\n    <tr>\n      <th>min</th>\n      <td>2018</td>\n      <td>4.5</td>\n      <td>여</td>\n      <td>22</td>\n    </tr>\n    <tr>\n      <th>jin</th>\n      <td>2019</td>\n      <td>2.2</td>\n      <td>여</td>\n      <td>20</td>\n    </tr>\n    <tr>\n      <th>park</th>\n      <td>2018</td>\n      <td>4.0</td>\n      <td>남</td>\n      <td>23</td>\n    </tr>\n    <tr>\n      <th>shin</th>\n      <td>2019</td>\n      <td>4.3</td>\n      <td>여</td>\n      <td>22</td>\n    </tr>\n  </tbody>\n</table>\n</div>"
     },
     "metadata": {},
     "output_type": "display_data"
    }
   ],
   "source": [
    "df1 = df[['Adyear', 'Grade']]\n",
    "df2 = df[['Sex', 'Age']]\n",
    "\n",
    "display(df1)\n",
    "display(df2)\n",
    "\n",
    "df3 = pd.merge(df1, df2, on = ['Name'])\n",
    "display(df3)"
   ],
   "metadata": {
    "collapsed": false,
    "pycharm": {
     "name": "#%%\n"
    }
   }
  },
  {
   "cell_type": "markdown",
   "source": [
    "* Splitting: GroupBy() 함수로 특정 속성에 대한 그룹으로 데이터 분리"
   ],
   "metadata": {
    "collapsed": false,
    "pycharm": {
     "name": "#%% md\n"
    }
   }
  },
  {
   "cell_type": "code",
   "execution_count": 38,
   "outputs": [
    {
     "name": "stdout",
     "output_type": "stream",
     "text": [
      "\n",
      "## groupby (Sex) ##\n",
      "그루비룸:  남\n",
      "그룹 데이타: \n",
      "      Adyear  Grade Sex  Age\n",
      "Name                        \n",
      "kim     2017    3.5   남   20\n",
      "lee     2017    2.0   남   21\n",
      "park    2018    4.0   남   23\n",
      "\n",
      "그루비룸:  여\n",
      "그룹 데이타: \n",
      "      Adyear  Grade Sex  Age\n",
      "Name                        \n",
      "min     2018    4.5   여   22\n",
      "jin     2019    2.2   여   20\n",
      "shin    2019    4.3   여   22\n",
      "\n",
      "\n",
      "## group (female) ##\n",
      "\n",
      "## group (male) ##\n"
     ]
    },
    {
     "data": {
      "text/plain": "      Adyear  Grade Sex  Age\nName                        \nmin     2018    4.5   여   22\njin     2019    2.2   여   20\nshin    2019    4.3   여   22",
      "text/html": "<div>\n<style scoped>\n    .dataframe tbody tr th:only-of-type {\n        vertical-align: middle;\n    }\n\n    .dataframe tbody tr th {\n        vertical-align: top;\n    }\n\n    .dataframe thead th {\n        text-align: right;\n    }\n</style>\n<table border=\"1\" class=\"dataframe\">\n  <thead>\n    <tr style=\"text-align: right;\">\n      <th></th>\n      <th>Adyear</th>\n      <th>Grade</th>\n      <th>Sex</th>\n      <th>Age</th>\n    </tr>\n    <tr>\n      <th>Name</th>\n      <th></th>\n      <th></th>\n      <th></th>\n      <th></th>\n    </tr>\n  </thead>\n  <tbody>\n    <tr>\n      <th>min</th>\n      <td>2018</td>\n      <td>4.5</td>\n      <td>여</td>\n      <td>22</td>\n    </tr>\n    <tr>\n      <th>jin</th>\n      <td>2019</td>\n      <td>2.2</td>\n      <td>여</td>\n      <td>20</td>\n    </tr>\n    <tr>\n      <th>shin</th>\n      <td>2019</td>\n      <td>4.3</td>\n      <td>여</td>\n      <td>22</td>\n    </tr>\n  </tbody>\n</table>\n</div>"
     },
     "metadata": {},
     "output_type": "display_data"
    },
    {
     "data": {
      "text/plain": "      Adyear  Grade Sex  Age\nName                        \nkim     2017    3.5   남   20\nlee     2017    2.0   남   21\npark    2018    4.0   남   23",
      "text/html": "<div>\n<style scoped>\n    .dataframe tbody tr th:only-of-type {\n        vertical-align: middle;\n    }\n\n    .dataframe tbody tr th {\n        vertical-align: top;\n    }\n\n    .dataframe thead th {\n        text-align: right;\n    }\n</style>\n<table border=\"1\" class=\"dataframe\">\n  <thead>\n    <tr style=\"text-align: right;\">\n      <th></th>\n      <th>Adyear</th>\n      <th>Grade</th>\n      <th>Sex</th>\n      <th>Age</th>\n    </tr>\n    <tr>\n      <th>Name</th>\n      <th></th>\n      <th></th>\n      <th></th>\n      <th></th>\n    </tr>\n  </thead>\n  <tbody>\n    <tr>\n      <th>kim</th>\n      <td>2017</td>\n      <td>3.5</td>\n      <td>남</td>\n      <td>20</td>\n    </tr>\n    <tr>\n      <th>lee</th>\n      <td>2017</td>\n      <td>2.0</td>\n      <td>남</td>\n      <td>21</td>\n    </tr>\n    <tr>\n      <th>park</th>\n      <td>2018</td>\n      <td>4.0</td>\n      <td>남</td>\n      <td>23</td>\n    </tr>\n  </tbody>\n</table>\n</div>"
     },
     "metadata": {},
     "output_type": "display_data"
    }
   ],
   "source": [
    "print(\"\\n## groupby (Sex) ##\")\n",
    "grouped = df.groupby('Sex')\n",
    "\n",
    "for name, group in grouped:\n",
    "    print('그루비룸: ', name)\n",
    "    print('그룹 데이타: ')\n",
    "    print(group)\n",
    "    print()\n",
    "\n",
    "f = grouped.get_group(name = '여')\n",
    "m = grouped.get_group(name = '남')\n",
    "print(\"\\n## group (female) ##\")\n",
    "display(f)\n",
    "print(\"\\n## group (male) ##\")\n",
    "display(m)\n",
    "\n",
    "# 주피터노트북은 print -display - print - display 잘 되는데\n",
    "# 여기서는 print - print -display - display 이런 식으로 됨ㅠㅠ"
   ],
   "metadata": {
    "collapsed": false,
    "pycharm": {
     "name": "#%%\n"
    }
   }
  },
  {
   "cell_type": "markdown",
   "source": [
    "* Applying: 그룹에 독립적으로 함수 적용\n",
    "\n",
    "* Aggregations: 각 그룹에 대한 요약통계(또는 통계)를 계산\n"
   ],
   "metadata": {
    "collapsed": false,
    "pycharm": {
     "name": "#%% md\n"
    }
   }
  },
  {
   "cell_type": "code",
   "execution_count": 39,
   "outputs": [
    {
     "name": "stdout",
     "output_type": "stream",
     "text": [
      "\n",
      "#grouped.sum()=\n",
      "     Adyear  Grade  Age\n",
      "Sex                    \n",
      "남      6052    9.5   64\n",
      "여      6056   11.0   64\n",
      "\n",
      "#grouped.mean()=\n",
      "          Adyear     Grade        Age\n",
      "Sex                                  \n",
      "남    2017.333333  3.166667  21.333333\n",
      "여    2018.666667  3.666667  21.333333\n"
     ]
    }
   ],
   "source": [
    "print(\"\\n#grouped.sum()=\")\n",
    "print(grouped.sum())\n",
    "print('\\n#grouped.mean()=')\n",
    "print(grouped.mean())"
   ],
   "metadata": {
    "collapsed": false,
    "pycharm": {
     "name": "#%%\n"
    }
   }
  },
  {
   "cell_type": "code",
   "execution_count": 40,
   "outputs": [
    {
     "name": "stdout",
     "output_type": "stream",
     "text": [
      "\n",
      "#grouped.agg() = \n",
      "     Adyear                       Grade                     Age             \\\n",
      "       sum         mean      std   sum      mean       std sum       mean   \n",
      "Sex                                                                         \n",
      "남     6052  2017.333333  0.57735   9.5  3.166667  1.040833  64  21.333333   \n",
      "여     6056  2018.666667  0.57735  11.0  3.666667  1.274101  64  21.333333   \n",
      "\n",
      "               \n",
      "          std  \n",
      "Sex            \n",
      "남    1.527525  \n",
      "여    1.154701  \n",
      "\n",
      "#grouped['Grade'].agg()=\n",
      "          mean       std\n",
      "Sex                    \n",
      "남    3.166667  1.040833\n",
      "여    3.666667  1.274101\n"
     ]
    }
   ],
   "source": [
    "r1= grouped.agg(['sum', 'mean', 'std'])\n",
    "print('\\n#grouped.agg() = \\n', r1)\n",
    "\n",
    "r2= grouped['Grade'].agg(['mean', 'std'])\n",
    "print('\\n#grouped[\\'Grade\\'].agg()=\\n', r2)"
   ],
   "metadata": {
    "collapsed": false,
    "pycharm": {
     "name": "#%%\n"
    }
   }
  },
  {
   "cell_type": "markdown",
   "source": [
    "* Sampling: 랜덤하게 샘플 추출\n"
   ],
   "metadata": {
    "collapsed": false,
    "pycharm": {
     "name": "#%% md\n"
    }
   }
  },
  {
   "cell_type": "code",
   "execution_count": 41,
   "outputs": [
    {
     "data": {
      "text/plain": "      Adyear  Grade Sex  Age\nName                        \nshin    2019    4.3   여   22\npark    2018    4.0   남   23\nlee     2017    2.0   남   21",
      "text/html": "<div>\n<style scoped>\n    .dataframe tbody tr th:only-of-type {\n        vertical-align: middle;\n    }\n\n    .dataframe tbody tr th {\n        vertical-align: top;\n    }\n\n    .dataframe thead th {\n        text-align: right;\n    }\n</style>\n<table border=\"1\" class=\"dataframe\">\n  <thead>\n    <tr style=\"text-align: right;\">\n      <th></th>\n      <th>Adyear</th>\n      <th>Grade</th>\n      <th>Sex</th>\n      <th>Age</th>\n    </tr>\n    <tr>\n      <th>Name</th>\n      <th></th>\n      <th></th>\n      <th></th>\n      <th></th>\n    </tr>\n  </thead>\n  <tbody>\n    <tr>\n      <th>shin</th>\n      <td>2019</td>\n      <td>4.3</td>\n      <td>여</td>\n      <td>22</td>\n    </tr>\n    <tr>\n      <th>park</th>\n      <td>2018</td>\n      <td>4.0</td>\n      <td>남</td>\n      <td>23</td>\n    </tr>\n    <tr>\n      <th>lee</th>\n      <td>2017</td>\n      <td>2.0</td>\n      <td>남</td>\n      <td>21</td>\n    </tr>\n  </tbody>\n</table>\n</div>"
     },
     "metadata": {},
     "output_type": "display_data"
    },
    {
     "data": {
      "text/plain": "      Adyear  Grade Sex  Age\nName                        \nmin     2018    4.5   여   22\nlee     2017    2.0   남   21\npark    2018    4.0   남   23",
      "text/html": "<div>\n<style scoped>\n    .dataframe tbody tr th:only-of-type {\n        vertical-align: middle;\n    }\n\n    .dataframe tbody tr th {\n        vertical-align: top;\n    }\n\n    .dataframe thead th {\n        text-align: right;\n    }\n</style>\n<table border=\"1\" class=\"dataframe\">\n  <thead>\n    <tr style=\"text-align: right;\">\n      <th></th>\n      <th>Adyear</th>\n      <th>Grade</th>\n      <th>Sex</th>\n      <th>Age</th>\n    </tr>\n    <tr>\n      <th>Name</th>\n      <th></th>\n      <th></th>\n      <th></th>\n      <th></th>\n    </tr>\n  </thead>\n  <tbody>\n    <tr>\n      <th>min</th>\n      <td>2018</td>\n      <td>4.5</td>\n      <td>여</td>\n      <td>22</td>\n    </tr>\n    <tr>\n      <th>lee</th>\n      <td>2017</td>\n      <td>2.0</td>\n      <td>남</td>\n      <td>21</td>\n    </tr>\n    <tr>\n      <th>park</th>\n      <td>2018</td>\n      <td>4.0</td>\n      <td>남</td>\n      <td>23</td>\n    </tr>\n  </tbody>\n</table>\n</div>"
     },
     "metadata": {},
     "output_type": "display_data"
    },
    {
     "data": {
      "text/plain": "      Adyear  Grade Sex  Age\nName                        \nlee     2017    2.0   남   21\npark    2018    4.0   남   23\nshin    2019    4.3   여   22",
      "text/html": "<div>\n<style scoped>\n    .dataframe tbody tr th:only-of-type {\n        vertical-align: middle;\n    }\n\n    .dataframe tbody tr th {\n        vertical-align: top;\n    }\n\n    .dataframe thead th {\n        text-align: right;\n    }\n</style>\n<table border=\"1\" class=\"dataframe\">\n  <thead>\n    <tr style=\"text-align: right;\">\n      <th></th>\n      <th>Adyear</th>\n      <th>Grade</th>\n      <th>Sex</th>\n      <th>Age</th>\n    </tr>\n    <tr>\n      <th>Name</th>\n      <th></th>\n      <th></th>\n      <th></th>\n      <th></th>\n    </tr>\n  </thead>\n  <tbody>\n    <tr>\n      <th>lee</th>\n      <td>2017</td>\n      <td>2.0</td>\n      <td>남</td>\n      <td>21</td>\n    </tr>\n    <tr>\n      <th>park</th>\n      <td>2018</td>\n      <td>4.0</td>\n      <td>남</td>\n      <td>23</td>\n    </tr>\n    <tr>\n      <th>shin</th>\n      <td>2019</td>\n      <td>4.3</td>\n      <td>여</td>\n      <td>22</td>\n    </tr>\n  </tbody>\n</table>\n</div>"
     },
     "metadata": {},
     "output_type": "display_data"
    }
   ],
   "source": [
    "dfs1= df.sample(n=3)\n",
    "dfs2 = df.sample(n=3, random_state=1)\n",
    "dfs3 = df.sample(n=3, weights='Adyear')\n",
    "#가중치가 선택되면 최대한 가중치로 선택한 값을 랜덤하게 (다른 값으로) 설정하려는 것 같음\n",
    "\n",
    "display(dfs1)\n",
    "display(dfs2)\n",
    "display(dfs3)"
   ],
   "metadata": {
    "collapsed": false,
    "pycharm": {
     "name": "#%%\n"
    }
   }
  },
  {
   "cell_type": "markdown",
   "source": [
    "#### DataFrame Reshaping\n",
    "\n",
    "* Reshaping: 추가 분석을 위하여 데이터를 재구성하는기능\n",
    "* Pivoting\n",
    "    - 기존 테이블을 이용하여 새로운 구조의 파생 테이블을 만드는 작업\n",
    "    - 사용함수\n",
    "        - dataframe.pivot(index,  columns, values)\n",
    "        - pd.pivot_table(data, values, index, columns, aggfunc)\n",
    "            - 중복값이 있는 경우 pivot_table() 함수 이용\n",
    "            - aggfunc 함수로 집계된 결과로 처리\n"
   ],
   "metadata": {
    "collapsed": false,
    "pycharm": {
     "name": "#%% md\n"
    }
   }
  },
  {
   "cell_type": "markdown",
   "source": [
    "* 성적 데이터에서 입학년도에 따른 나이별 성격 집계\n",
    "\n",
    "dataframe.pivot(index, columns, values)"
   ],
   "metadata": {
    "collapsed": false,
    "pycharm": {
     "name": "#%% md\n"
    }
   }
  },
  {
   "cell_type": "code",
   "execution_count": 42,
   "outputs": [
    {
     "data": {
      "text/plain": "      Adyear  Grade Sex  Age\nName                        \nkim     2017    3.5   남   20\nlee     2017    2.0   남   21\nmin     2018    4.5   여   22\njin     2019    2.2   여   20\npark    2018    4.0   남   23\nshin    2019    4.3   여   22",
      "text/html": "<div>\n<style scoped>\n    .dataframe tbody tr th:only-of-type {\n        vertical-align: middle;\n    }\n\n    .dataframe tbody tr th {\n        vertical-align: top;\n    }\n\n    .dataframe thead th {\n        text-align: right;\n    }\n</style>\n<table border=\"1\" class=\"dataframe\">\n  <thead>\n    <tr style=\"text-align: right;\">\n      <th></th>\n      <th>Adyear</th>\n      <th>Grade</th>\n      <th>Sex</th>\n      <th>Age</th>\n    </tr>\n    <tr>\n      <th>Name</th>\n      <th></th>\n      <th></th>\n      <th></th>\n      <th></th>\n    </tr>\n  </thead>\n  <tbody>\n    <tr>\n      <th>kim</th>\n      <td>2017</td>\n      <td>3.5</td>\n      <td>남</td>\n      <td>20</td>\n    </tr>\n    <tr>\n      <th>lee</th>\n      <td>2017</td>\n      <td>2.0</td>\n      <td>남</td>\n      <td>21</td>\n    </tr>\n    <tr>\n      <th>min</th>\n      <td>2018</td>\n      <td>4.5</td>\n      <td>여</td>\n      <td>22</td>\n    </tr>\n    <tr>\n      <th>jin</th>\n      <td>2019</td>\n      <td>2.2</td>\n      <td>여</td>\n      <td>20</td>\n    </tr>\n    <tr>\n      <th>park</th>\n      <td>2018</td>\n      <td>4.0</td>\n      <td>남</td>\n      <td>23</td>\n    </tr>\n    <tr>\n      <th>shin</th>\n      <td>2019</td>\n      <td>4.3</td>\n      <td>여</td>\n      <td>22</td>\n    </tr>\n  </tbody>\n</table>\n</div>"
     },
     "metadata": {},
     "output_type": "display_data"
    },
    {
     "data": {
      "text/plain": "'df2 = '"
     },
     "metadata": {},
     "output_type": "display_data"
    },
    {
     "data": {
      "text/plain": "Age      20   21   22   23\nAdyear                    \n2017    3.5  2.0  NaN  NaN\n2018    NaN  NaN  4.5  4.0\n2019    2.2  NaN  4.3  NaN",
      "text/html": "<div>\n<style scoped>\n    .dataframe tbody tr th:only-of-type {\n        vertical-align: middle;\n    }\n\n    .dataframe tbody tr th {\n        vertical-align: top;\n    }\n\n    .dataframe thead th {\n        text-align: right;\n    }\n</style>\n<table border=\"1\" class=\"dataframe\">\n  <thead>\n    <tr style=\"text-align: right;\">\n      <th>Age</th>\n      <th>20</th>\n      <th>21</th>\n      <th>22</th>\n      <th>23</th>\n    </tr>\n    <tr>\n      <th>Adyear</th>\n      <th></th>\n      <th></th>\n      <th></th>\n      <th></th>\n    </tr>\n  </thead>\n  <tbody>\n    <tr>\n      <th>2017</th>\n      <td>3.5</td>\n      <td>2.0</td>\n      <td>NaN</td>\n      <td>NaN</td>\n    </tr>\n    <tr>\n      <th>2018</th>\n      <td>NaN</td>\n      <td>NaN</td>\n      <td>4.5</td>\n      <td>4.0</td>\n    </tr>\n    <tr>\n      <th>2019</th>\n      <td>2.2</td>\n      <td>NaN</td>\n      <td>4.3</td>\n      <td>NaN</td>\n    </tr>\n  </tbody>\n</table>\n</div>"
     },
     "metadata": {},
     "output_type": "display_data"
    }
   ],
   "source": [
    "display(df)\n",
    "df2 = df.pivot(index = 'Adyear', columns='Age', values='Grade')\n",
    "display('df2 = ', df2)"
   ],
   "metadata": {
    "collapsed": false,
    "pycharm": {
     "name": "#%%\n"
    }
   }
  },
  {
   "cell_type": "markdown",
   "source": [
    "* 성적 데이터에서 입학년도에 따른 성별 성적 집계 (중복값이 있는 경우 처리)\n",
    "\n",
    "pd.pivot_table(data, values, index, columns, aggfunc)"
   ],
   "metadata": {
    "collapsed": false,
    "pycharm": {
     "name": "#%% md\n"
    }
   }
  },
  {
   "cell_type": "code",
   "execution_count": 43,
   "outputs": [
    {
     "data": {
      "text/plain": "'df = '"
     },
     "metadata": {},
     "output_type": "display_data"
    },
    {
     "data": {
      "text/plain": "      Adyear  Grade Sex  Age\nName                        \nkim     2017    3.5   남   20\nlee     2017    2.0   남   21\nmin     2018    4.5   여   22\njin     2019    2.2   여   20\npark    2018    4.0   남   23\nshin    2019    4.3   여   22",
      "text/html": "<div>\n<style scoped>\n    .dataframe tbody tr th:only-of-type {\n        vertical-align: middle;\n    }\n\n    .dataframe tbody tr th {\n        vertical-align: top;\n    }\n\n    .dataframe thead th {\n        text-align: right;\n    }\n</style>\n<table border=\"1\" class=\"dataframe\">\n  <thead>\n    <tr style=\"text-align: right;\">\n      <th></th>\n      <th>Adyear</th>\n      <th>Grade</th>\n      <th>Sex</th>\n      <th>Age</th>\n    </tr>\n    <tr>\n      <th>Name</th>\n      <th></th>\n      <th></th>\n      <th></th>\n      <th></th>\n    </tr>\n  </thead>\n  <tbody>\n    <tr>\n      <th>kim</th>\n      <td>2017</td>\n      <td>3.5</td>\n      <td>남</td>\n      <td>20</td>\n    </tr>\n    <tr>\n      <th>lee</th>\n      <td>2017</td>\n      <td>2.0</td>\n      <td>남</td>\n      <td>21</td>\n    </tr>\n    <tr>\n      <th>min</th>\n      <td>2018</td>\n      <td>4.5</td>\n      <td>여</td>\n      <td>22</td>\n    </tr>\n    <tr>\n      <th>jin</th>\n      <td>2019</td>\n      <td>2.2</td>\n      <td>여</td>\n      <td>20</td>\n    </tr>\n    <tr>\n      <th>park</th>\n      <td>2018</td>\n      <td>4.0</td>\n      <td>남</td>\n      <td>23</td>\n    </tr>\n    <tr>\n      <th>shin</th>\n      <td>2019</td>\n      <td>4.3</td>\n      <td>여</td>\n      <td>22</td>\n    </tr>\n  </tbody>\n</table>\n</div>"
     },
     "metadata": {},
     "output_type": "display_data"
    },
    {
     "data": {
      "text/plain": "'df3 = '"
     },
     "metadata": {},
     "output_type": "display_data"
    },
    {
     "data": {
      "text/plain": "Sex        남     여\nAdyear            \n2017    2.75   NaN\n2018    4.00  4.50\n2019     NaN  3.25",
      "text/html": "<div>\n<style scoped>\n    .dataframe tbody tr th:only-of-type {\n        vertical-align: middle;\n    }\n\n    .dataframe tbody tr th {\n        vertical-align: top;\n    }\n\n    .dataframe thead th {\n        text-align: right;\n    }\n</style>\n<table border=\"1\" class=\"dataframe\">\n  <thead>\n    <tr style=\"text-align: right;\">\n      <th>Sex</th>\n      <th>남</th>\n      <th>여</th>\n    </tr>\n    <tr>\n      <th>Adyear</th>\n      <th></th>\n      <th></th>\n    </tr>\n  </thead>\n  <tbody>\n    <tr>\n      <th>2017</th>\n      <td>2.75</td>\n      <td>NaN</td>\n    </tr>\n    <tr>\n      <th>2018</th>\n      <td>4.00</td>\n      <td>4.50</td>\n    </tr>\n    <tr>\n      <th>2019</th>\n      <td>NaN</td>\n      <td>3.25</td>\n    </tr>\n  </tbody>\n</table>\n</div>"
     },
     "metadata": {},
     "output_type": "display_data"
    },
    {
     "data": {
      "text/plain": "'df4 = '"
     },
     "metadata": {},
     "output_type": "display_data"
    },
    {
     "data": {
      "text/plain": "Sex       남    여\nAdyear          \n2017    3.5  NaN\n2018    4.0  4.5\n2019    NaN  4.3",
      "text/html": "<div>\n<style scoped>\n    .dataframe tbody tr th:only-of-type {\n        vertical-align: middle;\n    }\n\n    .dataframe tbody tr th {\n        vertical-align: top;\n    }\n\n    .dataframe thead th {\n        text-align: right;\n    }\n</style>\n<table border=\"1\" class=\"dataframe\">\n  <thead>\n    <tr style=\"text-align: right;\">\n      <th>Sex</th>\n      <th>남</th>\n      <th>여</th>\n    </tr>\n    <tr>\n      <th>Adyear</th>\n      <th></th>\n      <th></th>\n    </tr>\n  </thead>\n  <tbody>\n    <tr>\n      <th>2017</th>\n      <td>3.5</td>\n      <td>NaN</td>\n    </tr>\n    <tr>\n      <th>2018</th>\n      <td>4.0</td>\n      <td>4.5</td>\n    </tr>\n    <tr>\n      <th>2019</th>\n      <td>NaN</td>\n      <td>4.3</td>\n    </tr>\n  </tbody>\n</table>\n</div>"
     },
     "metadata": {},
     "output_type": "display_data"
    }
   ],
   "source": [
    "display(\"df = \", df)\n",
    "\n",
    "df3 = pd.pivot_table(df, values = \"Grade\", index = 'Adyear', columns='Sex')\n",
    "display('df3 = ', df3)\n",
    "\n",
    "df4 = pd.pivot_table(df, values='Grade', index = 'Adyear', columns = 'Sex', aggfunc=np.max)\n",
    "display('df4 = ', df4)"
   ],
   "metadata": {
    "collapsed": false,
    "pycharm": {
     "name": "#%%\n"
    }
   }
  },
  {
   "cell_type": "code",
   "execution_count": null,
   "outputs": [],
   "source": [],
   "metadata": {
    "collapsed": false,
    "pycharm": {
     "name": "#%%\n"
    }
   }
  }
 ],
 "metadata": {
  "kernelspec": {
   "display_name": "Python 3",
   "language": "python",
   "name": "python3"
  },
  "language_info": {
   "codemirror_mode": {
    "name": "ipython",
    "version": 2
   },
   "file_extension": ".py",
   "mimetype": "text/x-python",
   "name": "python",
   "nbconvert_exporter": "python",
   "pygments_lexer": "ipython2",
   "version": "2.7.6"
  }
 },
 "nbformat": 4,
 "nbformat_minor": 0
}