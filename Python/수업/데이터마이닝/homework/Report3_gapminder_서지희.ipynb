{
 "cells": [
  {
   "cell_type": "code",
   "execution_count": 2,
   "metadata": {
    "collapsed": true
   },
   "outputs": [],
   "source": [
    "import numpy as np\n",
    "import pandas as pd\n",
    "from IPython.display import display\n",
    "import matplotlib.pyplot as plt\n",
    "import seaborn as sns"
   ]
  },
  {
   "cell_type": "markdown",
   "source": [
    "(24)평균기대수명(lifeExp)과 GDP(gdpPercap) 관계 확인 (scatter)\n",
    "(25) (24)scatter plot의 y값을 log scale로 처리\n",
    "(26)2002도 데이터를 이용하여 평균기대수명(lifeExp)과 GDP(gdpPercap) 관계 확인\n",
    " (matplotlib의 scatter plot이용, x축:lifeExp, y축:gdpPercap, 크기:pop, 색상:continent)\n",
    "(27)2002년도 데이터를 이용하여 평균기대수명(lifeExp)과 GDP(gdpPercap)의 상관계수 확인\n",
    "(28)2002년도 데이터를 이용하여 평균기대수명(lifeExp)과 GDP(gdpPercap)의 상관계수를  Correlogram으로 확인"
   ],
   "metadata": {
    "collapsed": false,
    "pycharm": {
     "name": "#%% md\n"
    }
   }
  },
  {
   "cell_type": "markdown",
   "source": [
    "(1) 파일로부터 gapminder 변수에 데이터 로드\n",
    "(2) 데이터 타입확인\n",
    "(3)데이터 구조확인 (행, 열 레이블, 행,열 개수)"
   ],
   "metadata": {
    "collapsed": false,
    "pycharm": {
     "name": "#%% md\n"
    }
   }
  },
  {
   "cell_type": "code",
   "execution_count": 3,
   "outputs": [
    {
     "name": "stdout",
     "output_type": "stream",
     "text": [
      "타입 확인:  (1704, 6)\n",
      "행 레이블:  RangeIndex(start=0, stop=1704, step=1)\n",
      "열 레이블:  Index(['country', 'year', 'pop', 'continent', 'lifeExp', 'gdpPercap'], dtype='object')\n",
      "행 개수:  1704\n",
      "열 개수:  6\n"
     ]
    }
   ],
   "source": [
    "#(1) 파일로부터 gapminder 변수에 데이터 로드\n",
    "g_data = pd.read_csv('C:/Users/서지희/OneDrive - 강원대학교/대학/WorkSpace/Python/데이터마이닝/data/gapminder.csv')\n",
    "\n",
    "#(2) 데이터 타입확인\n",
    "print(\"타입 확인: \",g_data.shape)\n",
    "\n",
    "#(3)데이터 구조확인 (행, 열 레이블, 행,열 개수)\n",
    "print(\"행 레이블: \", g_data.index)\n",
    "print('열 레이블: ', g_data.columns)\n",
    "print('행 개수: ', g_data.shape[0])\n",
    "print('열 개수: ', g_data.shape[1])\n"
   ],
   "metadata": {
    "collapsed": false,
    "pycharm": {
     "name": "#%%\n"
    }
   }
  },
  {
   "cell_type": "markdown",
   "source": [
    "(4) 누락된 데이터의 합 확인\n",
    "(5) 데이터 타입, 구조, 누락값 동시에 확인\n"
   ],
   "metadata": {
    "collapsed": false,
    "pycharm": {
     "name": "#%% md\n"
    }
   }
  },
  {
   "cell_type": "code",
   "execution_count": 7,
   "outputs": [
    {
     "name": "stdout",
     "output_type": "stream",
     "text": [
      "누락값 확인\n",
      "\n",
      "country      0\n",
      "year         0\n",
      "pop          0\n",
      "continent    0\n",
      "lifeExp      0\n",
      "gdpPercap    0\n",
      "dtype: int64\n",
      "\n",
      "\n",
      "데이터 타입, 구조, 누락값 동시에 확인\n",
      "\n",
      "<class 'pandas.core.frame.DataFrame'>\n",
      "RangeIndex: 1704 entries, 0 to 1703\n",
      "Data columns (total 6 columns):\n",
      " #   Column     Non-Null Count  Dtype  \n",
      "---  ------     --------------  -----  \n",
      " 0   country    1704 non-null   object \n",
      " 1   year       1704 non-null   int64  \n",
      " 2   pop        1704 non-null   float64\n",
      " 3   continent  1704 non-null   object \n",
      " 4   lifeExp    1704 non-null   float64\n",
      " 5   gdpPercap  1704 non-null   float64\n",
      "dtypes: float64(3), int64(1), object(2)\n",
      "memory usage: 80.0+ KB\n"
     ]
    }
   ],
   "source": [
    "# (4) 누락된 데이터의 합 확인\n",
    "print(\"누락값 확인\\n\")\n",
    "s = g_data.isnull().sum()\n",
    "print(s)\n",
    "\n",
    "# (5) 데이터 타입, 구조, 누락값 동시에 확인\n",
    "print(\"\\n\\n데이터 타입, 구조, 누락값 동시에 확인\\n\")\n",
    "g_data.info()"
   ],
   "metadata": {
    "collapsed": false,
    "pycharm": {
     "name": "#%%\n"
    }
   }
  },
  {
   "cell_type": "markdown",
   "source": [
    "(6)누락된 값 있는 행삭제\n",
    "(7)데이터 내용 일부 확인 (상위 12개, 하위 5개)"
   ],
   "metadata": {
    "collapsed": false,
    "pycharm": {
     "name": "#%% md\n"
    }
   }
  },
  {
   "cell_type": "code",
   "execution_count": 8,
   "outputs": [
    {
     "data": {
      "text/plain": "'상위 12개 데이터'"
     },
     "metadata": {},
     "output_type": "display_data"
    },
    {
     "data": {
      "text/plain": "        country  year         pop continent  lifeExp   gdpPercap\n0   Afghanistan  1952   8425333.0      Asia   28.801  779.445314\n1   Afghanistan  1957   9240934.0      Asia   30.332  820.853030\n2   Afghanistan  1962  10267083.0      Asia   31.997  853.100710\n3   Afghanistan  1967  11537966.0      Asia   34.020  836.197138\n4   Afghanistan  1972  13079460.0      Asia   36.088  739.981106\n5   Afghanistan  1977  14880372.0      Asia   38.438  786.113360\n6   Afghanistan  1982  12881816.0      Asia   39.854  978.011439\n7   Afghanistan  1987  13867957.0      Asia   40.822  852.395945\n8   Afghanistan  1992  16317921.0      Asia   41.674  649.341395\n9   Afghanistan  1997  22227415.0      Asia   41.763  635.341351\n10  Afghanistan  2002  25268405.0      Asia   42.129  726.734055\n11  Afghanistan  2007  31889923.0      Asia   43.828  974.580338",
      "text/html": "<div>\n<style scoped>\n    .dataframe tbody tr th:only-of-type {\n        vertical-align: middle;\n    }\n\n    .dataframe tbody tr th {\n        vertical-align: top;\n    }\n\n    .dataframe thead th {\n        text-align: right;\n    }\n</style>\n<table border=\"1\" class=\"dataframe\">\n  <thead>\n    <tr style=\"text-align: right;\">\n      <th></th>\n      <th>country</th>\n      <th>year</th>\n      <th>pop</th>\n      <th>continent</th>\n      <th>lifeExp</th>\n      <th>gdpPercap</th>\n    </tr>\n  </thead>\n  <tbody>\n    <tr>\n      <th>0</th>\n      <td>Afghanistan</td>\n      <td>1952</td>\n      <td>8425333.0</td>\n      <td>Asia</td>\n      <td>28.801</td>\n      <td>779.445314</td>\n    </tr>\n    <tr>\n      <th>1</th>\n      <td>Afghanistan</td>\n      <td>1957</td>\n      <td>9240934.0</td>\n      <td>Asia</td>\n      <td>30.332</td>\n      <td>820.853030</td>\n    </tr>\n    <tr>\n      <th>2</th>\n      <td>Afghanistan</td>\n      <td>1962</td>\n      <td>10267083.0</td>\n      <td>Asia</td>\n      <td>31.997</td>\n      <td>853.100710</td>\n    </tr>\n    <tr>\n      <th>3</th>\n      <td>Afghanistan</td>\n      <td>1967</td>\n      <td>11537966.0</td>\n      <td>Asia</td>\n      <td>34.020</td>\n      <td>836.197138</td>\n    </tr>\n    <tr>\n      <th>4</th>\n      <td>Afghanistan</td>\n      <td>1972</td>\n      <td>13079460.0</td>\n      <td>Asia</td>\n      <td>36.088</td>\n      <td>739.981106</td>\n    </tr>\n    <tr>\n      <th>5</th>\n      <td>Afghanistan</td>\n      <td>1977</td>\n      <td>14880372.0</td>\n      <td>Asia</td>\n      <td>38.438</td>\n      <td>786.113360</td>\n    </tr>\n    <tr>\n      <th>6</th>\n      <td>Afghanistan</td>\n      <td>1982</td>\n      <td>12881816.0</td>\n      <td>Asia</td>\n      <td>39.854</td>\n      <td>978.011439</td>\n    </tr>\n    <tr>\n      <th>7</th>\n      <td>Afghanistan</td>\n      <td>1987</td>\n      <td>13867957.0</td>\n      <td>Asia</td>\n      <td>40.822</td>\n      <td>852.395945</td>\n    </tr>\n    <tr>\n      <th>8</th>\n      <td>Afghanistan</td>\n      <td>1992</td>\n      <td>16317921.0</td>\n      <td>Asia</td>\n      <td>41.674</td>\n      <td>649.341395</td>\n    </tr>\n    <tr>\n      <th>9</th>\n      <td>Afghanistan</td>\n      <td>1997</td>\n      <td>22227415.0</td>\n      <td>Asia</td>\n      <td>41.763</td>\n      <td>635.341351</td>\n    </tr>\n    <tr>\n      <th>10</th>\n      <td>Afghanistan</td>\n      <td>2002</td>\n      <td>25268405.0</td>\n      <td>Asia</td>\n      <td>42.129</td>\n      <td>726.734055</td>\n    </tr>\n    <tr>\n      <th>11</th>\n      <td>Afghanistan</td>\n      <td>2007</td>\n      <td>31889923.0</td>\n      <td>Asia</td>\n      <td>43.828</td>\n      <td>974.580338</td>\n    </tr>\n  </tbody>\n</table>\n</div>"
     },
     "metadata": {},
     "output_type": "display_data"
    },
    {
     "data": {
      "text/plain": "'하위 5개 데이터'"
     },
     "metadata": {},
     "output_type": "display_data"
    },
    {
     "data": {
      "text/plain": "       country  year         pop continent  lifeExp   gdpPercap\n1699  Zimbabwe  1987   9216418.0    Africa   62.351  706.157306\n1700  Zimbabwe  1992  10704340.0    Africa   60.377  693.420786\n1701  Zimbabwe  1997  11404948.0    Africa   46.809  792.449960\n1702  Zimbabwe  2002  11926563.0    Africa   39.989  672.038623\n1703  Zimbabwe  2007  12311143.0    Africa   43.487  469.709298",
      "text/html": "<div>\n<style scoped>\n    .dataframe tbody tr th:only-of-type {\n        vertical-align: middle;\n    }\n\n    .dataframe tbody tr th {\n        vertical-align: top;\n    }\n\n    .dataframe thead th {\n        text-align: right;\n    }\n</style>\n<table border=\"1\" class=\"dataframe\">\n  <thead>\n    <tr style=\"text-align: right;\">\n      <th></th>\n      <th>country</th>\n      <th>year</th>\n      <th>pop</th>\n      <th>continent</th>\n      <th>lifeExp</th>\n      <th>gdpPercap</th>\n    </tr>\n  </thead>\n  <tbody>\n    <tr>\n      <th>1699</th>\n      <td>Zimbabwe</td>\n      <td>1987</td>\n      <td>9216418.0</td>\n      <td>Africa</td>\n      <td>62.351</td>\n      <td>706.157306</td>\n    </tr>\n    <tr>\n      <th>1700</th>\n      <td>Zimbabwe</td>\n      <td>1992</td>\n      <td>10704340.0</td>\n      <td>Africa</td>\n      <td>60.377</td>\n      <td>693.420786</td>\n    </tr>\n    <tr>\n      <th>1701</th>\n      <td>Zimbabwe</td>\n      <td>1997</td>\n      <td>11404948.0</td>\n      <td>Africa</td>\n      <td>46.809</td>\n      <td>792.449960</td>\n    </tr>\n    <tr>\n      <th>1702</th>\n      <td>Zimbabwe</td>\n      <td>2002</td>\n      <td>11926563.0</td>\n      <td>Africa</td>\n      <td>39.989</td>\n      <td>672.038623</td>\n    </tr>\n    <tr>\n      <th>1703</th>\n      <td>Zimbabwe</td>\n      <td>2007</td>\n      <td>12311143.0</td>\n      <td>Africa</td>\n      <td>43.487</td>\n      <td>469.709298</td>\n    </tr>\n  </tbody>\n</table>\n</div>"
     },
     "metadata": {},
     "output_type": "display_data"
    }
   ],
   "source": [
    "# (6)누락된 값 있는 행삭제\n",
    "if s.sum()>0:\n",
    "    g_data.dropns(how='any', inplace=True)\n",
    "\n",
    "#(7)데이터 내용 일부 확인 (상위 12개, 하위 5개)\n",
    "display(\"상위 12개 데이터\", g_data.head(12))\n",
    "display(\"하위 5개 데이터\", g_data.tail())"
   ],
   "metadata": {
    "collapsed": false,
    "pycharm": {
     "name": "#%%\n"
    }
   }
  },
  {
   "cell_type": "markdown",
   "source": [
    "(8)요약통계\n",
    "(9) 2007년도 데이터만 추출\n",
    "(10)데이터 일부 추출, 한국에 대한 2002,2007년 데이터만 추출\n"
   ],
   "metadata": {
    "collapsed": false,
    "pycharm": {
     "name": "#%% md\n"
    }
   }
  },
  {
   "cell_type": "code",
   "execution_count": 11,
   "outputs": [
    {
     "name": "stdout",
     "output_type": "stream",
     "text": [
      "요약통계\n",
      "              year           pop      lifeExp      gdpPercap\n",
      "count  1704.00000  1.704000e+03  1704.000000    1704.000000\n",
      "mean   1979.50000  2.960121e+07    59.474439    7215.327081\n",
      "std      17.26533  1.061579e+08    12.917107    9857.454543\n",
      "min    1952.00000  6.001100e+04    23.599000     241.165876\n",
      "25%    1965.75000  2.793664e+06    48.198000    1202.060309\n",
      "50%    1979.50000  7.023596e+06    60.712500    3531.846988\n",
      "75%    1993.25000  1.958522e+07    70.845500    9325.462346\n",
      "max    2007.00000  1.318683e+09    82.603000  113523.132900\n",
      "\n"
     ]
    },
    {
     "data": {
      "text/plain": "'2007년도 데이터'"
     },
     "metadata": {},
     "output_type": "display_data"
    },
    {
     "data": {
      "text/plain": "        country  year         pop continent  lifeExp     gdpPercap\n11  Afghanistan  2007  31889923.0      Asia   43.828    974.580338\n23      Albania  2007   3600523.0    Europe   76.423   5937.029526\n35      Algeria  2007  33333216.0    Africa   72.301   6223.367465\n47       Angola  2007  12420476.0    Africa   42.731   4797.231267\n59    Argentina  2007  40301927.0  Americas   75.320  12779.379640",
      "text/html": "<div>\n<style scoped>\n    .dataframe tbody tr th:only-of-type {\n        vertical-align: middle;\n    }\n\n    .dataframe tbody tr th {\n        vertical-align: top;\n    }\n\n    .dataframe thead th {\n        text-align: right;\n    }\n</style>\n<table border=\"1\" class=\"dataframe\">\n  <thead>\n    <tr style=\"text-align: right;\">\n      <th></th>\n      <th>country</th>\n      <th>year</th>\n      <th>pop</th>\n      <th>continent</th>\n      <th>lifeExp</th>\n      <th>gdpPercap</th>\n    </tr>\n  </thead>\n  <tbody>\n    <tr>\n      <th>11</th>\n      <td>Afghanistan</td>\n      <td>2007</td>\n      <td>31889923.0</td>\n      <td>Asia</td>\n      <td>43.828</td>\n      <td>974.580338</td>\n    </tr>\n    <tr>\n      <th>23</th>\n      <td>Albania</td>\n      <td>2007</td>\n      <td>3600523.0</td>\n      <td>Europe</td>\n      <td>76.423</td>\n      <td>5937.029526</td>\n    </tr>\n    <tr>\n      <th>35</th>\n      <td>Algeria</td>\n      <td>2007</td>\n      <td>33333216.0</td>\n      <td>Africa</td>\n      <td>72.301</td>\n      <td>6223.367465</td>\n    </tr>\n    <tr>\n      <th>47</th>\n      <td>Angola</td>\n      <td>2007</td>\n      <td>12420476.0</td>\n      <td>Africa</td>\n      <td>42.731</td>\n      <td>4797.231267</td>\n    </tr>\n    <tr>\n      <th>59</th>\n      <td>Argentina</td>\n      <td>2007</td>\n      <td>40301927.0</td>\n      <td>Americas</td>\n      <td>75.320</td>\n      <td>12779.379640</td>\n    </tr>\n  </tbody>\n</table>\n</div>"
     },
     "metadata": {},
     "output_type": "display_data"
    },
    {
     "data": {
      "text/plain": "'한국에 대한 2002, 2007 데이터'"
     },
     "metadata": {},
     "output_type": "display_data"
    },
    {
     "data": {
      "text/plain": "        country  year         pop continent  lifeExp    gdpPercap\n850  Korea Rep.  2002  47969150.0      Asia   77.045  19233.98818\n851  Korea Rep.  2007  49044790.0      Asia   78.623  23348.13973",
      "text/html": "<div>\n<style scoped>\n    .dataframe tbody tr th:only-of-type {\n        vertical-align: middle;\n    }\n\n    .dataframe tbody tr th {\n        vertical-align: top;\n    }\n\n    .dataframe thead th {\n        text-align: right;\n    }\n</style>\n<table border=\"1\" class=\"dataframe\">\n  <thead>\n    <tr style=\"text-align: right;\">\n      <th></th>\n      <th>country</th>\n      <th>year</th>\n      <th>pop</th>\n      <th>continent</th>\n      <th>lifeExp</th>\n      <th>gdpPercap</th>\n    </tr>\n  </thead>\n  <tbody>\n    <tr>\n      <th>850</th>\n      <td>Korea Rep.</td>\n      <td>2002</td>\n      <td>47969150.0</td>\n      <td>Asia</td>\n      <td>77.045</td>\n      <td>19233.98818</td>\n    </tr>\n    <tr>\n      <th>851</th>\n      <td>Korea Rep.</td>\n      <td>2007</td>\n      <td>49044790.0</td>\n      <td>Asia</td>\n      <td>78.623</td>\n      <td>23348.13973</td>\n    </tr>\n  </tbody>\n</table>\n</div>"
     },
     "metadata": {},
     "output_type": "display_data"
    }
   ],
   "source": [
    "#(8)요약통계\n",
    "print(\"요약통계\\n\", g_data.describe())\n",
    "print()\n",
    "#(9) 2007년도 데이터만 추출\n",
    "g2007 = g_data[g_data.year == 2007]\n",
    "display(\"2007년도 데이터\", g2007.head())\n",
    "\n",
    "#(10)데이터 일부 추출, 한국에 대한 2002,2007년 데이터만 추출\n",
    "gkorea = g_data[(g_data.country == 'Korea Rep.') &((g_data.year==2002)\n",
    "|(g_data.year == 2007) )]\n",
    "display(\"한국에 대한 2002, 2007 데이터\",gkorea)"
   ],
   "metadata": {
    "collapsed": false,
    "pycharm": {
     "name": "#%%\n"
    }
   }
  },
  {
   "cell_type": "markdown",
   "source": [
    "(11) 국가 'country',  년도 'year',  인구수 'pop' 만 추출"
   ],
   "metadata": {
    "collapsed": false,
    "pycharm": {
     "name": "#%% md\n"
    }
   }
  },
  {
   "cell_type": "code",
   "execution_count": 12,
   "outputs": [
    {
     "data": {
      "text/plain": "\"국가 'country',  년도 'year',  인구수 'pop' 추출\""
     },
     "metadata": {},
     "output_type": "display_data"
    },
    {
     "data": {
      "text/plain": "          country  year         pop\n0     Afghanistan  1952   8425333.0\n1     Afghanistan  1957   9240934.0\n2     Afghanistan  1962  10267083.0\n3     Afghanistan  1967  11537966.0\n4     Afghanistan  1972  13079460.0\n...           ...   ...         ...\n1699     Zimbabwe  1987   9216418.0\n1700     Zimbabwe  1992  10704340.0\n1701     Zimbabwe  1997  11404948.0\n1702     Zimbabwe  2002  11926563.0\n1703     Zimbabwe  2007  12311143.0\n\n[1704 rows x 3 columns]",
      "text/html": "<div>\n<style scoped>\n    .dataframe tbody tr th:only-of-type {\n        vertical-align: middle;\n    }\n\n    .dataframe tbody tr th {\n        vertical-align: top;\n    }\n\n    .dataframe thead th {\n        text-align: right;\n    }\n</style>\n<table border=\"1\" class=\"dataframe\">\n  <thead>\n    <tr style=\"text-align: right;\">\n      <th></th>\n      <th>country</th>\n      <th>year</th>\n      <th>pop</th>\n    </tr>\n  </thead>\n  <tbody>\n    <tr>\n      <th>0</th>\n      <td>Afghanistan</td>\n      <td>1952</td>\n      <td>8425333.0</td>\n    </tr>\n    <tr>\n      <th>1</th>\n      <td>Afghanistan</td>\n      <td>1957</td>\n      <td>9240934.0</td>\n    </tr>\n    <tr>\n      <th>2</th>\n      <td>Afghanistan</td>\n      <td>1962</td>\n      <td>10267083.0</td>\n    </tr>\n    <tr>\n      <th>3</th>\n      <td>Afghanistan</td>\n      <td>1967</td>\n      <td>11537966.0</td>\n    </tr>\n    <tr>\n      <th>4</th>\n      <td>Afghanistan</td>\n      <td>1972</td>\n      <td>13079460.0</td>\n    </tr>\n    <tr>\n      <th>...</th>\n      <td>...</td>\n      <td>...</td>\n      <td>...</td>\n    </tr>\n    <tr>\n      <th>1699</th>\n      <td>Zimbabwe</td>\n      <td>1987</td>\n      <td>9216418.0</td>\n    </tr>\n    <tr>\n      <th>1700</th>\n      <td>Zimbabwe</td>\n      <td>1992</td>\n      <td>10704340.0</td>\n    </tr>\n    <tr>\n      <th>1701</th>\n      <td>Zimbabwe</td>\n      <td>1997</td>\n      <td>11404948.0</td>\n    </tr>\n    <tr>\n      <th>1702</th>\n      <td>Zimbabwe</td>\n      <td>2002</td>\n      <td>11926563.0</td>\n    </tr>\n    <tr>\n      <th>1703</th>\n      <td>Zimbabwe</td>\n      <td>2007</td>\n      <td>12311143.0</td>\n    </tr>\n  </tbody>\n</table>\n<p>1704 rows × 3 columns</p>\n</div>"
     },
     "metadata": {},
     "output_type": "display_data"
    }
   ],
   "source": [
    "g_data2 = g_data[['country', 'year', 'pop']]\n",
    "display(\"국가 'country',  년도 'year',  인구수 'pop' 추출\", g_data2)"
   ],
   "metadata": {
    "collapsed": false,
    "pycharm": {
     "name": "#%%\n"
    }
   }
  },
  {
   "cell_type": "markdown",
   "source": [
    "(12) 년도순으로 데이터 정렬\n",
    "(13) 인구수 역순으로 데이터 정렬\n",
    "(14) 년도, 대륙순으로 데이터 정렬"
   ],
   "metadata": {
    "collapsed": false,
    "pycharm": {
     "name": "#%% md\n"
    }
   }
  },
  {
   "cell_type": "code",
   "execution_count": 13,
   "outputs": [
    {
     "data": {
      "text/plain": "'년도순 데이터 정렬'"
     },
     "metadata": {},
     "output_type": "display_data"
    },
    {
     "data": {
      "text/plain": "                 country  year          pop continent  lifeExp     gdpPercap\n0            Afghanistan  1952    8425333.0      Asia   28.801    779.445314\n528               France  1952   42459667.0    Europe   67.410   7029.809327\n540                Gabon  1952     420702.0    Africa   37.003   4293.476475\n1656  West Bank and Gaza  1952    1030585.0      Asia   43.160   1515.592329\n552               Gambia  1952     284320.0    Africa   30.000    485.230659\n...                  ...   ...          ...       ...      ...           ...\n1127               Niger  2007   12894865.0    Africa   56.867    619.676892\n1139             Nigeria  2007  135031164.0    Africa   46.859   2013.977305\n1151              Norway  2007    4627926.0    Europe   80.196  49357.190170\n1175            Pakistan  2007  169270617.0      Asia   65.483   2605.947580\n1703            Zimbabwe  2007   12311143.0    Africa   43.487    469.709298\n\n[1704 rows x 6 columns]",
      "text/html": "<div>\n<style scoped>\n    .dataframe tbody tr th:only-of-type {\n        vertical-align: middle;\n    }\n\n    .dataframe tbody tr th {\n        vertical-align: top;\n    }\n\n    .dataframe thead th {\n        text-align: right;\n    }\n</style>\n<table border=\"1\" class=\"dataframe\">\n  <thead>\n    <tr style=\"text-align: right;\">\n      <th></th>\n      <th>country</th>\n      <th>year</th>\n      <th>pop</th>\n      <th>continent</th>\n      <th>lifeExp</th>\n      <th>gdpPercap</th>\n    </tr>\n  </thead>\n  <tbody>\n    <tr>\n      <th>0</th>\n      <td>Afghanistan</td>\n      <td>1952</td>\n      <td>8425333.0</td>\n      <td>Asia</td>\n      <td>28.801</td>\n      <td>779.445314</td>\n    </tr>\n    <tr>\n      <th>528</th>\n      <td>France</td>\n      <td>1952</td>\n      <td>42459667.0</td>\n      <td>Europe</td>\n      <td>67.410</td>\n      <td>7029.809327</td>\n    </tr>\n    <tr>\n      <th>540</th>\n      <td>Gabon</td>\n      <td>1952</td>\n      <td>420702.0</td>\n      <td>Africa</td>\n      <td>37.003</td>\n      <td>4293.476475</td>\n    </tr>\n    <tr>\n      <th>1656</th>\n      <td>West Bank and Gaza</td>\n      <td>1952</td>\n      <td>1030585.0</td>\n      <td>Asia</td>\n      <td>43.160</td>\n      <td>1515.592329</td>\n    </tr>\n    <tr>\n      <th>552</th>\n      <td>Gambia</td>\n      <td>1952</td>\n      <td>284320.0</td>\n      <td>Africa</td>\n      <td>30.000</td>\n      <td>485.230659</td>\n    </tr>\n    <tr>\n      <th>...</th>\n      <td>...</td>\n      <td>...</td>\n      <td>...</td>\n      <td>...</td>\n      <td>...</td>\n      <td>...</td>\n    </tr>\n    <tr>\n      <th>1127</th>\n      <td>Niger</td>\n      <td>2007</td>\n      <td>12894865.0</td>\n      <td>Africa</td>\n      <td>56.867</td>\n      <td>619.676892</td>\n    </tr>\n    <tr>\n      <th>1139</th>\n      <td>Nigeria</td>\n      <td>2007</td>\n      <td>135031164.0</td>\n      <td>Africa</td>\n      <td>46.859</td>\n      <td>2013.977305</td>\n    </tr>\n    <tr>\n      <th>1151</th>\n      <td>Norway</td>\n      <td>2007</td>\n      <td>4627926.0</td>\n      <td>Europe</td>\n      <td>80.196</td>\n      <td>49357.190170</td>\n    </tr>\n    <tr>\n      <th>1175</th>\n      <td>Pakistan</td>\n      <td>2007</td>\n      <td>169270617.0</td>\n      <td>Asia</td>\n      <td>65.483</td>\n      <td>2605.947580</td>\n    </tr>\n    <tr>\n      <th>1703</th>\n      <td>Zimbabwe</td>\n      <td>2007</td>\n      <td>12311143.0</td>\n      <td>Africa</td>\n      <td>43.487</td>\n      <td>469.709298</td>\n    </tr>\n  </tbody>\n</table>\n<p>1704 rows × 6 columns</p>\n</div>"
     },
     "metadata": {},
     "output_type": "display_data"
    },
    {
     "data": {
      "text/plain": "'인구수 역순 데이터 정렬'"
     },
     "metadata": {},
     "output_type": "display_data"
    },
    {
     "data": {
      "text/plain": "                    country  year           pop continent  lifeExp  \\\n299                   China  2007  1.318683e+09      Asia   72.961   \n298                   China  2002  1.280400e+09      Asia   72.028   \n297                   China  1997  1.230075e+09      Asia   70.426   \n296                   China  1992  1.164970e+09      Asia   68.690   \n707                   India  2007  1.110396e+09      Asia   64.698   \n...                     ...   ...           ...       ...      ...   \n1299  Sao Tome and Principe  1967  7.078700e+04    Africa   54.425   \n1298  Sao Tome and Principe  1962  6.534500e+04    Africa   51.893   \n420                Djibouti  1952  6.314900e+04    Africa   34.812   \n1297  Sao Tome and Principe  1957  6.132500e+04    Africa   48.945   \n1296  Sao Tome and Principe  1952  6.001100e+04    Africa   46.471   \n\n        gdpPercap  \n299   4959.114854  \n298   3119.280896  \n297   2289.234136  \n296   1655.784158  \n707   2452.210407  \n...           ...  \n1299  1384.840593  \n1298  1071.551119  \n420   2669.529475  \n1297   860.736903  \n1296   879.583586  \n\n[1704 rows x 6 columns]",
      "text/html": "<div>\n<style scoped>\n    .dataframe tbody tr th:only-of-type {\n        vertical-align: middle;\n    }\n\n    .dataframe tbody tr th {\n        vertical-align: top;\n    }\n\n    .dataframe thead th {\n        text-align: right;\n    }\n</style>\n<table border=\"1\" class=\"dataframe\">\n  <thead>\n    <tr style=\"text-align: right;\">\n      <th></th>\n      <th>country</th>\n      <th>year</th>\n      <th>pop</th>\n      <th>continent</th>\n      <th>lifeExp</th>\n      <th>gdpPercap</th>\n    </tr>\n  </thead>\n  <tbody>\n    <tr>\n      <th>299</th>\n      <td>China</td>\n      <td>2007</td>\n      <td>1.318683e+09</td>\n      <td>Asia</td>\n      <td>72.961</td>\n      <td>4959.114854</td>\n    </tr>\n    <tr>\n      <th>298</th>\n      <td>China</td>\n      <td>2002</td>\n      <td>1.280400e+09</td>\n      <td>Asia</td>\n      <td>72.028</td>\n      <td>3119.280896</td>\n    </tr>\n    <tr>\n      <th>297</th>\n      <td>China</td>\n      <td>1997</td>\n      <td>1.230075e+09</td>\n      <td>Asia</td>\n      <td>70.426</td>\n      <td>2289.234136</td>\n    </tr>\n    <tr>\n      <th>296</th>\n      <td>China</td>\n      <td>1992</td>\n      <td>1.164970e+09</td>\n      <td>Asia</td>\n      <td>68.690</td>\n      <td>1655.784158</td>\n    </tr>\n    <tr>\n      <th>707</th>\n      <td>India</td>\n      <td>2007</td>\n      <td>1.110396e+09</td>\n      <td>Asia</td>\n      <td>64.698</td>\n      <td>2452.210407</td>\n    </tr>\n    <tr>\n      <th>...</th>\n      <td>...</td>\n      <td>...</td>\n      <td>...</td>\n      <td>...</td>\n      <td>...</td>\n      <td>...</td>\n    </tr>\n    <tr>\n      <th>1299</th>\n      <td>Sao Tome and Principe</td>\n      <td>1967</td>\n      <td>7.078700e+04</td>\n      <td>Africa</td>\n      <td>54.425</td>\n      <td>1384.840593</td>\n    </tr>\n    <tr>\n      <th>1298</th>\n      <td>Sao Tome and Principe</td>\n      <td>1962</td>\n      <td>6.534500e+04</td>\n      <td>Africa</td>\n      <td>51.893</td>\n      <td>1071.551119</td>\n    </tr>\n    <tr>\n      <th>420</th>\n      <td>Djibouti</td>\n      <td>1952</td>\n      <td>6.314900e+04</td>\n      <td>Africa</td>\n      <td>34.812</td>\n      <td>2669.529475</td>\n    </tr>\n    <tr>\n      <th>1297</th>\n      <td>Sao Tome and Principe</td>\n      <td>1957</td>\n      <td>6.132500e+04</td>\n      <td>Africa</td>\n      <td>48.945</td>\n      <td>860.736903</td>\n    </tr>\n    <tr>\n      <th>1296</th>\n      <td>Sao Tome and Principe</td>\n      <td>1952</td>\n      <td>6.001100e+04</td>\n      <td>Africa</td>\n      <td>46.471</td>\n      <td>879.583586</td>\n    </tr>\n  </tbody>\n</table>\n<p>1704 rows × 6 columns</p>\n</div>"
     },
     "metadata": {},
     "output_type": "display_data"
    },
    {
     "data": {
      "text/plain": "'년도, 대륙순 데이터 정렬'"
     },
     "metadata": {},
     "output_type": "display_data"
    },
    {
     "data": {
      "text/plain": "             country  year         pop continent  lifeExp     gdpPercap\n24           Algeria  1952   9279525.0    Africa   43.077   2449.008185\n36            Angola  1952   4232095.0    Africa   30.015   3520.610273\n120            Benin  1952   1738315.0    Africa   38.223   1062.752200\n156         Botswana  1952    442308.0    Africa   47.622    851.241141\n192     Burkina Faso  1952   4469979.0    Africa   31.975    543.255241\n...              ...   ...         ...       ...      ...           ...\n1487     Switzerland  2007   7554661.0    Europe   81.701  37506.419070\n1583          Turkey  2007  71158647.0    Europe   71.777   8458.276384\n1607  United Kingdom  2007  60776238.0    Europe   79.425  33203.261280\n71         Australia  2007  20434176.0   Oceania   81.235  34435.367440\n1103     New Zealand  2007   4115771.0   Oceania   80.204  25185.009110\n\n[1704 rows x 6 columns]",
      "text/html": "<div>\n<style scoped>\n    .dataframe tbody tr th:only-of-type {\n        vertical-align: middle;\n    }\n\n    .dataframe tbody tr th {\n        vertical-align: top;\n    }\n\n    .dataframe thead th {\n        text-align: right;\n    }\n</style>\n<table border=\"1\" class=\"dataframe\">\n  <thead>\n    <tr style=\"text-align: right;\">\n      <th></th>\n      <th>country</th>\n      <th>year</th>\n      <th>pop</th>\n      <th>continent</th>\n      <th>lifeExp</th>\n      <th>gdpPercap</th>\n    </tr>\n  </thead>\n  <tbody>\n    <tr>\n      <th>24</th>\n      <td>Algeria</td>\n      <td>1952</td>\n      <td>9279525.0</td>\n      <td>Africa</td>\n      <td>43.077</td>\n      <td>2449.008185</td>\n    </tr>\n    <tr>\n      <th>36</th>\n      <td>Angola</td>\n      <td>1952</td>\n      <td>4232095.0</td>\n      <td>Africa</td>\n      <td>30.015</td>\n      <td>3520.610273</td>\n    </tr>\n    <tr>\n      <th>120</th>\n      <td>Benin</td>\n      <td>1952</td>\n      <td>1738315.0</td>\n      <td>Africa</td>\n      <td>38.223</td>\n      <td>1062.752200</td>\n    </tr>\n    <tr>\n      <th>156</th>\n      <td>Botswana</td>\n      <td>1952</td>\n      <td>442308.0</td>\n      <td>Africa</td>\n      <td>47.622</td>\n      <td>851.241141</td>\n    </tr>\n    <tr>\n      <th>192</th>\n      <td>Burkina Faso</td>\n      <td>1952</td>\n      <td>4469979.0</td>\n      <td>Africa</td>\n      <td>31.975</td>\n      <td>543.255241</td>\n    </tr>\n    <tr>\n      <th>...</th>\n      <td>...</td>\n      <td>...</td>\n      <td>...</td>\n      <td>...</td>\n      <td>...</td>\n      <td>...</td>\n    </tr>\n    <tr>\n      <th>1487</th>\n      <td>Switzerland</td>\n      <td>2007</td>\n      <td>7554661.0</td>\n      <td>Europe</td>\n      <td>81.701</td>\n      <td>37506.419070</td>\n    </tr>\n    <tr>\n      <th>1583</th>\n      <td>Turkey</td>\n      <td>2007</td>\n      <td>71158647.0</td>\n      <td>Europe</td>\n      <td>71.777</td>\n      <td>8458.276384</td>\n    </tr>\n    <tr>\n      <th>1607</th>\n      <td>United Kingdom</td>\n      <td>2007</td>\n      <td>60776238.0</td>\n      <td>Europe</td>\n      <td>79.425</td>\n      <td>33203.261280</td>\n    </tr>\n    <tr>\n      <th>71</th>\n      <td>Australia</td>\n      <td>2007</td>\n      <td>20434176.0</td>\n      <td>Oceania</td>\n      <td>81.235</td>\n      <td>34435.367440</td>\n    </tr>\n    <tr>\n      <th>1103</th>\n      <td>New Zealand</td>\n      <td>2007</td>\n      <td>4115771.0</td>\n      <td>Oceania</td>\n      <td>80.204</td>\n      <td>25185.009110</td>\n    </tr>\n  </tbody>\n</table>\n<p>1704 rows × 6 columns</p>\n</div>"
     },
     "metadata": {},
     "output_type": "display_data"
    }
   ],
   "source": [
    "#(12) 년도순으로 데이터 정렬\n",
    "gyearsort = g_data.sort_values(by = ['year'])\n",
    "display(\"년도순 데이터 정렬\", gyearsort)\n",
    "\n",
    "#(13) 인구수 역순으로 데이터 정렬\n",
    "gpopsort = g_data.sort_values(by=['pop'], ascending=False)\n",
    "display(\"인구수 역순 데이터 정렬\", gpopsort)\n",
    "\n",
    "#(14) 년도, 대륙순으로 데이터 정렬\n",
    "gyearconsort = g_data.sort_values(by = ['year', 'continent'])\n",
    "display(\"년도, 대륙순 데이터 정렬\", gyearconsort)\n"
   ],
   "metadata": {
    "collapsed": false,
    "pycharm": {
     "name": "#%%\n"
    }
   }
  },
  {
   "cell_type": "markdown",
   "source": [
    "(15) 대륙별로 그룹처리하여 그룹에 대한 중앙값, 평균, 표준편차 요약통계\n",
    "(16) 국가별, 년도에 대한 GDP 테이블로 재구성\n",
    "(17) 년도별 대륙에 대한 인구수 평균 테이블로 재구성"
   ],
   "metadata": {
    "collapsed": false,
    "pycharm": {
     "name": "#%% md\n"
    }
   }
  },
  {
   "cell_type": "code",
   "execution_count": 18,
   "outputs": [
    {
     "name": "stdout",
     "output_type": "stream",
     "text": [
      "그룹에 대한 중앙값, 평균, 표준편차 요약통계\n",
      "              year                            pop                              \\\n",
      "           median    mean        std      median          mean           std   \n",
      "continent                                                                      \n",
      "Africa     1979.5  1979.5  17.274110   4579311.0  9.916003e+06  1.549092e+07   \n",
      "Americas   1979.5  1979.5  17.289102   6227510.0  2.450479e+07  5.097943e+07   \n",
      "Asia       1979.5  1979.5  17.282097  14530830.5  7.703872e+07  2.068852e+08   \n",
      "Europe     1979.5  1979.5  17.284285   8551125.0  1.716976e+07  2.051944e+07   \n",
      "Oceania    1979.5  1979.5  17.631494   6403491.5  8.874672e+06  6.506342e+06   \n",
      "\n",
      "           lifeExp                           gdpPercap                \\\n",
      "            median       mean        std        median          mean   \n",
      "continent                                                              \n",
      "Africa     47.7920  48.865330   9.150210   1192.138217   2193.754578   \n",
      "Americas   67.0480  64.658737   9.345088   5465.509853   7136.110356   \n",
      "Asia       61.7915  60.064903  11.864532   2646.786844   7902.150428   \n",
      "Europe     72.2410  71.903686   5.433178  12081.749115  14469.475533   \n",
      "Oceania    73.6650  74.326208   3.795611  17983.303955  18621.609223   \n",
      "\n",
      "                         \n",
      "                    std  \n",
      "continent                \n",
      "Africa      2827.929863  \n",
      "Americas    6396.764112  \n",
      "Asia       14045.373112  \n",
      "Europe      9355.213498  \n",
      "Oceania     6358.983321  \n",
      "\n"
     ]
    },
    {
     "data": {
      "text/plain": "'국가별, 년도에 대한 GDP 테이블 구성'"
     },
     "metadata": {},
     "output_type": "display_data"
    },
    {
     "data": {
      "text/plain": "year                1952         1957         1962         1967         1972  \\\ncountry                                                                        \nAfghanistan   779.445314   820.853030   853.100710   836.197138   739.981106   \nAlbania      1601.056136  1942.284244  2312.888958  2760.196931  3313.422188   \nAlgeria      2449.008185  3013.976023  2550.816880  3246.991771  4182.663766   \nAngola       3520.610273  3827.940465  4269.276742  5522.776375  5473.288005   \nArgentina    5911.315053  6856.856212  7133.166023  8052.953021  9443.038526   \n\nyear                 1977         1982         1987         1992  \\\ncountry                                                            \nAfghanistan    786.113360   978.011439   852.395945   649.341395   \nAlbania       3533.003910  3630.880722  3738.932735  2497.437901   \nAlgeria       4910.416756  5745.160213  5681.358539  5023.216647   \nAngola        3008.647355  2756.953672  2430.208311  2627.845685   \nArgentina    10079.026740  8997.897412  9139.671389  9308.418710   \n\nyear                 1997         2002          2007  \ncountry                                               \nAfghanistan    635.341351   726.734055    974.580338  \nAlbania       3193.054604  4604.211737   5937.029526  \nAlgeria       4797.295051  5288.040382   6223.367465  \nAngola        2277.140884  2773.287312   4797.231267  \nArgentina    10967.281950  8797.640716  12779.379640  ",
      "text/html": "<div>\n<style scoped>\n    .dataframe tbody tr th:only-of-type {\n        vertical-align: middle;\n    }\n\n    .dataframe tbody tr th {\n        vertical-align: top;\n    }\n\n    .dataframe thead th {\n        text-align: right;\n    }\n</style>\n<table border=\"1\" class=\"dataframe\">\n  <thead>\n    <tr style=\"text-align: right;\">\n      <th>year</th>\n      <th>1952</th>\n      <th>1957</th>\n      <th>1962</th>\n      <th>1967</th>\n      <th>1972</th>\n      <th>1977</th>\n      <th>1982</th>\n      <th>1987</th>\n      <th>1992</th>\n      <th>1997</th>\n      <th>2002</th>\n      <th>2007</th>\n    </tr>\n    <tr>\n      <th>country</th>\n      <th></th>\n      <th></th>\n      <th></th>\n      <th></th>\n      <th></th>\n      <th></th>\n      <th></th>\n      <th></th>\n      <th></th>\n      <th></th>\n      <th></th>\n      <th></th>\n    </tr>\n  </thead>\n  <tbody>\n    <tr>\n      <th>Afghanistan</th>\n      <td>779.445314</td>\n      <td>820.853030</td>\n      <td>853.100710</td>\n      <td>836.197138</td>\n      <td>739.981106</td>\n      <td>786.113360</td>\n      <td>978.011439</td>\n      <td>852.395945</td>\n      <td>649.341395</td>\n      <td>635.341351</td>\n      <td>726.734055</td>\n      <td>974.580338</td>\n    </tr>\n    <tr>\n      <th>Albania</th>\n      <td>1601.056136</td>\n      <td>1942.284244</td>\n      <td>2312.888958</td>\n      <td>2760.196931</td>\n      <td>3313.422188</td>\n      <td>3533.003910</td>\n      <td>3630.880722</td>\n      <td>3738.932735</td>\n      <td>2497.437901</td>\n      <td>3193.054604</td>\n      <td>4604.211737</td>\n      <td>5937.029526</td>\n    </tr>\n    <tr>\n      <th>Algeria</th>\n      <td>2449.008185</td>\n      <td>3013.976023</td>\n      <td>2550.816880</td>\n      <td>3246.991771</td>\n      <td>4182.663766</td>\n      <td>4910.416756</td>\n      <td>5745.160213</td>\n      <td>5681.358539</td>\n      <td>5023.216647</td>\n      <td>4797.295051</td>\n      <td>5288.040382</td>\n      <td>6223.367465</td>\n    </tr>\n    <tr>\n      <th>Angola</th>\n      <td>3520.610273</td>\n      <td>3827.940465</td>\n      <td>4269.276742</td>\n      <td>5522.776375</td>\n      <td>5473.288005</td>\n      <td>3008.647355</td>\n      <td>2756.953672</td>\n      <td>2430.208311</td>\n      <td>2627.845685</td>\n      <td>2277.140884</td>\n      <td>2773.287312</td>\n      <td>4797.231267</td>\n    </tr>\n    <tr>\n      <th>Argentina</th>\n      <td>5911.315053</td>\n      <td>6856.856212</td>\n      <td>7133.166023</td>\n      <td>8052.953021</td>\n      <td>9443.038526</td>\n      <td>10079.026740</td>\n      <td>8997.897412</td>\n      <td>9139.671389</td>\n      <td>9308.418710</td>\n      <td>10967.281950</td>\n      <td>8797.640716</td>\n      <td>12779.379640</td>\n    </tr>\n  </tbody>\n</table>\n</div>"
     },
     "metadata": {},
     "output_type": "display_data"
    },
    {
     "data": {
      "text/plain": "'년도별 대륙에 대한 인구수 평균 테이블로 재구성'"
     },
     "metadata": {},
     "output_type": "display_data"
    },
    {
     "data": {
      "text/plain": "continent        Africa     Americas          Asia        Europe     Oceania\nyear                                                                        \n1952       4.570010e+06  13806097.84  4.228356e+07  1.393736e+07   5343003.0\n1957       5.093033e+06  15478156.64  4.735699e+07  1.459635e+07   5970988.0\n1962       5.702247e+06  17330810.16  5.140476e+07  1.534517e+07   6641759.0\n1967       6.447875e+06  19229864.92  5.774736e+07  1.603930e+07   7300207.0\n1972       7.305376e+06  21175368.40  6.518098e+07  1.668784e+07   8053050.0\n1977       8.328097e+06  23122707.96  7.225799e+07  1.723882e+07   8619500.0\n1982       9.602857e+06  25211636.80  7.909502e+07  1.770890e+07   9197425.0\n1987       1.105450e+07  27310158.84  8.700669e+07  1.810314e+07   9787207.5\n1992       1.267464e+07  29570964.16  9.494825e+07  1.860476e+07  10459825.5\n1997       1.430448e+07  31876016.40  1.025238e+08  1.896480e+07  11120715.0\n2002       1.603315e+07  33990910.48  1.091455e+08  1.927413e+07  11727414.5\n2007       1.787576e+07  35954847.36  1.155138e+08  1.953662e+07  12274973.5",
      "text/html": "<div>\n<style scoped>\n    .dataframe tbody tr th:only-of-type {\n        vertical-align: middle;\n    }\n\n    .dataframe tbody tr th {\n        vertical-align: top;\n    }\n\n    .dataframe thead th {\n        text-align: right;\n    }\n</style>\n<table border=\"1\" class=\"dataframe\">\n  <thead>\n    <tr style=\"text-align: right;\">\n      <th>continent</th>\n      <th>Africa</th>\n      <th>Americas</th>\n      <th>Asia</th>\n      <th>Europe</th>\n      <th>Oceania</th>\n    </tr>\n    <tr>\n      <th>year</th>\n      <th></th>\n      <th></th>\n      <th></th>\n      <th></th>\n      <th></th>\n    </tr>\n  </thead>\n  <tbody>\n    <tr>\n      <th>1952</th>\n      <td>4.570010e+06</td>\n      <td>13806097.84</td>\n      <td>4.228356e+07</td>\n      <td>1.393736e+07</td>\n      <td>5343003.0</td>\n    </tr>\n    <tr>\n      <th>1957</th>\n      <td>5.093033e+06</td>\n      <td>15478156.64</td>\n      <td>4.735699e+07</td>\n      <td>1.459635e+07</td>\n      <td>5970988.0</td>\n    </tr>\n    <tr>\n      <th>1962</th>\n      <td>5.702247e+06</td>\n      <td>17330810.16</td>\n      <td>5.140476e+07</td>\n      <td>1.534517e+07</td>\n      <td>6641759.0</td>\n    </tr>\n    <tr>\n      <th>1967</th>\n      <td>6.447875e+06</td>\n      <td>19229864.92</td>\n      <td>5.774736e+07</td>\n      <td>1.603930e+07</td>\n      <td>7300207.0</td>\n    </tr>\n    <tr>\n      <th>1972</th>\n      <td>7.305376e+06</td>\n      <td>21175368.40</td>\n      <td>6.518098e+07</td>\n      <td>1.668784e+07</td>\n      <td>8053050.0</td>\n    </tr>\n    <tr>\n      <th>1977</th>\n      <td>8.328097e+06</td>\n      <td>23122707.96</td>\n      <td>7.225799e+07</td>\n      <td>1.723882e+07</td>\n      <td>8619500.0</td>\n    </tr>\n    <tr>\n      <th>1982</th>\n      <td>9.602857e+06</td>\n      <td>25211636.80</td>\n      <td>7.909502e+07</td>\n      <td>1.770890e+07</td>\n      <td>9197425.0</td>\n    </tr>\n    <tr>\n      <th>1987</th>\n      <td>1.105450e+07</td>\n      <td>27310158.84</td>\n      <td>8.700669e+07</td>\n      <td>1.810314e+07</td>\n      <td>9787207.5</td>\n    </tr>\n    <tr>\n      <th>1992</th>\n      <td>1.267464e+07</td>\n      <td>29570964.16</td>\n      <td>9.494825e+07</td>\n      <td>1.860476e+07</td>\n      <td>10459825.5</td>\n    </tr>\n    <tr>\n      <th>1997</th>\n      <td>1.430448e+07</td>\n      <td>31876016.40</td>\n      <td>1.025238e+08</td>\n      <td>1.896480e+07</td>\n      <td>11120715.0</td>\n    </tr>\n    <tr>\n      <th>2002</th>\n      <td>1.603315e+07</td>\n      <td>33990910.48</td>\n      <td>1.091455e+08</td>\n      <td>1.927413e+07</td>\n      <td>11727414.5</td>\n    </tr>\n    <tr>\n      <th>2007</th>\n      <td>1.787576e+07</td>\n      <td>35954847.36</td>\n      <td>1.155138e+08</td>\n      <td>1.953662e+07</td>\n      <td>12274973.5</td>\n    </tr>\n  </tbody>\n</table>\n</div>"
     },
     "metadata": {},
     "output_type": "display_data"
    }
   ],
   "source": [
    "#(15) 대륙별로 그룹처리하여 그룹에 대한 중앙값, 평균, 표준편차 요약통계\n",
    "grouped = g_data.groupby('continent')\n",
    "r= grouped.agg(['median', 'mean', 'std'])\n",
    "print(\"그룹에 대한 중앙값, 평균, 표준편차 요약통계\\n\",r)\n",
    "\n",
    "print()\n",
    "#(16) 국가별, 년도에 대한 GDP 테이블로 재구성\n",
    "g3 = g_data.pivot(index = 'country', columns='year', values='gdpPercap')\n",
    "display(\"국가별, 년도에 대한 GDP 테이블 구성\",g3.head())\n",
    "\n",
    "#(17) 년도별 대륙에 대한 인구수 평균 테이블로 재구성\n",
    "g4 = pd.pivot_table(g_data, index = 'year', columns='continent', values='pop')\n",
    "display(\"년도별 대륙에 대한 인구수 평균 테이블로 재구성\",g4)"
   ],
   "metadata": {
    "collapsed": false,
    "pycharm": {
     "name": "#%%\n"
    }
   }
  },
  {
   "cell_type": "markdown",
   "source": [
    "(19)년도별 대륙에 대한 GDP 평균 테이블로 재구성\n",
    "(20)년도별 대륙에 대한 평균 GDP 그래프\n",
    "(21)대륙의 평균 GDP  박스그래프로 분포 비교"
   ],
   "metadata": {
    "collapsed": false,
    "pycharm": {
     "name": "#%% md\n"
    }
   }
  },
  {
   "cell_type": "code",
   "execution_count": 22,
   "outputs": [
    {
     "data": {
      "text/plain": "'년도별 대륙에 대한 GDP 평균 테이블로 재구성'"
     },
     "metadata": {},
     "output_type": "display_data"
    },
    {
     "data": {
      "text/plain": "continent       Africa      Americas          Asia        Europe       Oceania\nyear                                                                          \n1952       1252.572466   4079.062552   5195.484004   5661.057435  10298.085650\n1957       1385.236062   4616.043733   5787.732940   6963.012816  11598.522455\n1962       1598.078825   4901.541870   5729.369625   8365.486814  12696.452430\n1967       2050.363801   5668.253496   5971.173374  10143.823757  14495.021790\n1972       2339.615674   6491.334139   8187.468699  12479.575246  16417.333380\n1977       2585.938508   7352.007126   7791.314020  14283.979110  17283.957605\n1982       2481.592960   7506.737088   7434.135157  15617.896551  18554.709840\n1987       2282.668991   7793.400261   7608.226508  17214.310727  20448.040160\n1992       2281.810333   8044.934406   8639.690248  17061.568084  20894.045885\n1997       2378.759555   8889.300863   9834.093295  19076.781802  24024.175170\n2002       2599.385159   9287.677107  10174.090397  21711.732422  26938.778040\n2007       3089.032605  11003.031625  12473.026870  25054.481636  29810.188275",
      "text/html": "<div>\n<style scoped>\n    .dataframe tbody tr th:only-of-type {\n        vertical-align: middle;\n    }\n\n    .dataframe tbody tr th {\n        vertical-align: top;\n    }\n\n    .dataframe thead th {\n        text-align: right;\n    }\n</style>\n<table border=\"1\" class=\"dataframe\">\n  <thead>\n    <tr style=\"text-align: right;\">\n      <th>continent</th>\n      <th>Africa</th>\n      <th>Americas</th>\n      <th>Asia</th>\n      <th>Europe</th>\n      <th>Oceania</th>\n    </tr>\n    <tr>\n      <th>year</th>\n      <th></th>\n      <th></th>\n      <th></th>\n      <th></th>\n      <th></th>\n    </tr>\n  </thead>\n  <tbody>\n    <tr>\n      <th>1952</th>\n      <td>1252.572466</td>\n      <td>4079.062552</td>\n      <td>5195.484004</td>\n      <td>5661.057435</td>\n      <td>10298.085650</td>\n    </tr>\n    <tr>\n      <th>1957</th>\n      <td>1385.236062</td>\n      <td>4616.043733</td>\n      <td>5787.732940</td>\n      <td>6963.012816</td>\n      <td>11598.522455</td>\n    </tr>\n    <tr>\n      <th>1962</th>\n      <td>1598.078825</td>\n      <td>4901.541870</td>\n      <td>5729.369625</td>\n      <td>8365.486814</td>\n      <td>12696.452430</td>\n    </tr>\n    <tr>\n      <th>1967</th>\n      <td>2050.363801</td>\n      <td>5668.253496</td>\n      <td>5971.173374</td>\n      <td>10143.823757</td>\n      <td>14495.021790</td>\n    </tr>\n    <tr>\n      <th>1972</th>\n      <td>2339.615674</td>\n      <td>6491.334139</td>\n      <td>8187.468699</td>\n      <td>12479.575246</td>\n      <td>16417.333380</td>\n    </tr>\n    <tr>\n      <th>1977</th>\n      <td>2585.938508</td>\n      <td>7352.007126</td>\n      <td>7791.314020</td>\n      <td>14283.979110</td>\n      <td>17283.957605</td>\n    </tr>\n    <tr>\n      <th>1982</th>\n      <td>2481.592960</td>\n      <td>7506.737088</td>\n      <td>7434.135157</td>\n      <td>15617.896551</td>\n      <td>18554.709840</td>\n    </tr>\n    <tr>\n      <th>1987</th>\n      <td>2282.668991</td>\n      <td>7793.400261</td>\n      <td>7608.226508</td>\n      <td>17214.310727</td>\n      <td>20448.040160</td>\n    </tr>\n    <tr>\n      <th>1992</th>\n      <td>2281.810333</td>\n      <td>8044.934406</td>\n      <td>8639.690248</td>\n      <td>17061.568084</td>\n      <td>20894.045885</td>\n    </tr>\n    <tr>\n      <th>1997</th>\n      <td>2378.759555</td>\n      <td>8889.300863</td>\n      <td>9834.093295</td>\n      <td>19076.781802</td>\n      <td>24024.175170</td>\n    </tr>\n    <tr>\n      <th>2002</th>\n      <td>2599.385159</td>\n      <td>9287.677107</td>\n      <td>10174.090397</td>\n      <td>21711.732422</td>\n      <td>26938.778040</td>\n    </tr>\n    <tr>\n      <th>2007</th>\n      <td>3089.032605</td>\n      <td>11003.031625</td>\n      <td>12473.026870</td>\n      <td>25054.481636</td>\n      <td>29810.188275</td>\n    </tr>\n  </tbody>\n</table>\n</div>"
     },
     "metadata": {},
     "output_type": "display_data"
    },
    {
     "data": {
      "text/plain": "<AxesSubplot:xlabel='year'>"
     },
     "execution_count": 22,
     "metadata": {},
     "output_type": "execute_result"
    },
    {
     "data": {
      "text/plain": "<Figure size 432x288 with 1 Axes>",
      "image/png": "[encoded data removed]"
     },
     "metadata": {
      "needs_background": "light"
     },
     "output_type": "display_data"
    }
   ],
   "source": [
    "#(19)년도별 대륙에 대한 GDP 평균 테이블로 재구성\n",
    "g5 = pd.pivot_table(g_data, index='year', columns='continent', values='gdpPercap')\n",
    "display(\"년도별 대륙에 대한 GDP 평균 테이블로 재구성\",g5)\n",
    "\n",
    "#(20)년도별 대륙에 대한 평균 GDP 그래프\n",
    "g5.plot.bar(rot = 45)"
   ],
   "metadata": {
    "collapsed": false,
    "pycharm": {
     "name": "#%%\n"
    }
   }
  },
  {
   "cell_type": "markdown",
   "source": [
    "(22)대륙의 평균 GDP   확률밀도 그래프로 분포 비교\n",
    "(23) 대륙의 년도별 평균 GDP 막대그래프로 값비교"
   ],
   "metadata": {
    "collapsed": false,
    "pycharm": {
     "name": "#%% md\n"
    }
   }
  },
  {
   "cell_type": "code",
   "execution_count": 27,
   "outputs": [
    {
     "data": {
      "text/plain": "<Figure size 432x288 with 1 Axes>",
      "image/png": "[encoded data removed]"
     },
     "metadata": {
      "needs_background": "light"
     },
     "output_type": "display_data"
    }
   ],
   "source": [
    "# (22)대륙의 평균 GDP   확률밀도 그래프로 분포 비교\n",
    "\n",
    "g5.plot.kde()\n",
    "plt.show()\n",
    "\n",
    "#(23) 대륙의 년도별 평균 GDP 막대그래프로 값비교"
   ],
   "metadata": {
    "collapsed": false,
    "pycharm": {
     "name": "#%%\n"
    }
   }
  },
  {
   "cell_type": "code",
   "execution_count": null,
   "outputs": [],
   "source": [],
   "metadata": {
    "collapsed": false,
    "pycharm": {
     "name": "#%%\n"
    }
   }
  }
 ],
 "metadata": {
  "kernelspec": {
   "display_name": "Python 3",
   "language": "python",
   "name": "python3"
  },
  "language_info": {
   "codemirror_mode": {
    "name": "ipython",
    "version": 2
   },
   "file_extension": ".py",
   "mimetype": "text/x-python",
   "name": "python",
   "nbconvert_exporter": "python",
   "pygments_lexer": "ipython2",
   "version": "2.7.6"
  }
 },
 "nbformat": 4,
 "nbformat_minor": 0
}