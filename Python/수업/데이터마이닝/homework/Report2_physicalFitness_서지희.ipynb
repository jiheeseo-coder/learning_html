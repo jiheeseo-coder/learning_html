{
 "cells": [
  {
   "cell_type": "markdown",
   "metadata": {
    "collapsed": true,
    "pycharm": {
     "name": "#%% md\n"
    }
   },
   "source": [
    "## Report 2. physicalFitness 데이터 처리 연습\n",
    "\n",
    "201814471_서지희"
   ]
  },
  {
   "cell_type": "code",
   "execution_count": 46,
   "outputs": [],
   "source": [
    "import numpy as np\n",
    "import pandas as pd\n",
    "from IPython.display import display"
   ],
   "metadata": {
    "collapsed": false,
    "pycharm": {
     "name": "#%%\n"
    }
   }
  },
  {
   "cell_type": "markdown",
   "source": [
    "(1) 제공되는 “physicalFitness.csv” 파일을  읽어 데이터프레임 만들기\n",
    "\n",
    "    ageGroup(1-9), sex(1,2), height, weight, BMI, BodyFat 속성으로 구성된 파일\n"
   ],
   "metadata": {
    "collapsed": false,
    "pycharm": {
     "name": "#%% md\n"
    }
   }
  },
  {
   "cell_type": "code",
   "execution_count": 47,
   "outputs": [
    {
     "data": {
      "text/plain": "      ageGroup  sex  height  weight   BMI  bodyFat\n0            1    1   158.0    45.0  18.0      8.1\n1            1    1   158.1    53.4  21.4      7.0\n2            1    1   160.0    58.0  22.7      8.3\n3            1    1   160.0    66.0  25.8     18.6\n4            1    1   161.0    76.0  29.3     21.3\n...        ...  ...     ...     ...   ...      ...\n4029         9    2   162.0    64.0  24.4     27.0\n4030         9    2   163.5    56.6  21.2     20.8\n4031         9    2   164.4    68.1  25.2     35.8\n4032         9    2   164.6    61.7  22.8     26.6\n4033         9    2   167.0    66.0  23.7     28.1\n\n[4034 rows x 6 columns]",
      "text/html": "<div>\n<style scoped>\n    .dataframe tbody tr th:only-of-type {\n        vertical-align: middle;\n    }\n\n    .dataframe tbody tr th {\n        vertical-align: top;\n    }\n\n    .dataframe thead th {\n        text-align: right;\n    }\n</style>\n<table border=\"1\" class=\"dataframe\">\n  <thead>\n    <tr style=\"text-align: right;\">\n      <th></th>\n      <th>ageGroup</th>\n      <th>sex</th>\n      <th>height</th>\n      <th>weight</th>\n      <th>BMI</th>\n      <th>bodyFat</th>\n    </tr>\n  </thead>\n  <tbody>\n    <tr>\n      <th>0</th>\n      <td>1</td>\n      <td>1</td>\n      <td>158.0</td>\n      <td>45.0</td>\n      <td>18.0</td>\n      <td>8.1</td>\n    </tr>\n    <tr>\n      <th>1</th>\n      <td>1</td>\n      <td>1</td>\n      <td>158.1</td>\n      <td>53.4</td>\n      <td>21.4</td>\n      <td>7.0</td>\n    </tr>\n    <tr>\n      <th>2</th>\n      <td>1</td>\n      <td>1</td>\n      <td>160.0</td>\n      <td>58.0</td>\n      <td>22.7</td>\n      <td>8.3</td>\n    </tr>\n    <tr>\n      <th>3</th>\n      <td>1</td>\n      <td>1</td>\n      <td>160.0</td>\n      <td>66.0</td>\n      <td>25.8</td>\n      <td>18.6</td>\n    </tr>\n    <tr>\n      <th>4</th>\n      <td>1</td>\n      <td>1</td>\n      <td>161.0</td>\n      <td>76.0</td>\n      <td>29.3</td>\n      <td>21.3</td>\n    </tr>\n    <tr>\n      <th>...</th>\n      <td>...</td>\n      <td>...</td>\n      <td>...</td>\n      <td>...</td>\n      <td>...</td>\n      <td>...</td>\n    </tr>\n    <tr>\n      <th>4029</th>\n      <td>9</td>\n      <td>2</td>\n      <td>162.0</td>\n      <td>64.0</td>\n      <td>24.4</td>\n      <td>27.0</td>\n    </tr>\n    <tr>\n      <th>4030</th>\n      <td>9</td>\n      <td>2</td>\n      <td>163.5</td>\n      <td>56.6</td>\n      <td>21.2</td>\n      <td>20.8</td>\n    </tr>\n    <tr>\n      <th>4031</th>\n      <td>9</td>\n      <td>2</td>\n      <td>164.4</td>\n      <td>68.1</td>\n      <td>25.2</td>\n      <td>35.8</td>\n    </tr>\n    <tr>\n      <th>4032</th>\n      <td>9</td>\n      <td>2</td>\n      <td>164.6</td>\n      <td>61.7</td>\n      <td>22.8</td>\n      <td>26.6</td>\n    </tr>\n    <tr>\n      <th>4033</th>\n      <td>9</td>\n      <td>2</td>\n      <td>167.0</td>\n      <td>66.0</td>\n      <td>23.7</td>\n      <td>28.1</td>\n    </tr>\n  </tbody>\n</table>\n<p>4034 rows × 6 columns</p>\n</div>"
     },
     "metadata": {},
     "output_type": "display_data"
    }
   ],
   "source": [
    "df = pd.read_csv('C:/Users/서지희/OneDrive - 강원대학교/대학/WorkSpace/Python/데이터마이닝/data/physicalFitness.csv', encoding='euc-kr')\n",
    "display(df)"
   ],
   "metadata": {
    "collapsed": false,
    "pycharm": {
     "name": "#%%\n"
    }
   }
  },
  {
   "cell_type": "markdown",
   "source": [
    "(2) (1)의 데이터에 대한 데이터 타입들, 행 레이블, 열 레이블 , 크기, 상,하위 5개 데이터 내용, 요약통계 확인\n"
   ],
   "metadata": {
    "collapsed": false,
    "pycharm": {
     "name": "#%% md\n"
    }
   }
  },
  {
   "cell_type": "code",
   "execution_count": 48,
   "outputs": [
    {
     "name": "stdout",
     "output_type": "stream",
     "text": [
      "데이터 타입: \n",
      " ageGroup      int64\n",
      "sex           int64\n",
      "height      float64\n",
      "weight      float64\n",
      "BMI         float64\n",
      "bodyFat     float64\n",
      "dtype: object\n",
      "\n",
      "\n",
      "행 레이블: \n",
      " RangeIndex(start=0, stop=4034, step=1)\n",
      "\n",
      "\n",
      "열 레이블: \n",
      " Index(['ageGroup', 'sex', 'height', 'weight', 'BMI', 'bodyFat'], dtype='object')\n",
      "\n",
      "\n",
      "크기:  (4034, 6)\n",
      "\n",
      "\n",
      "상위 5개 데이터: \n",
      "    ageGroup  sex  height  weight   BMI  bodyFat\n",
      "0         1    1   158.0    45.0  18.0      8.1\n",
      "1         1    1   158.1    53.4  21.4      7.0\n",
      "2         1    1   160.0    58.0  22.7      8.3\n",
      "3         1    1   160.0    66.0  25.8     18.6\n",
      "4         1    1   161.0    76.0  29.3     21.3\n",
      "\n",
      "\n",
      "하위 5개 데이터: \n",
      "       ageGroup  sex  height  weight   BMI  bodyFat\n",
      "4029         9    2   162.0    64.0  24.4     27.0\n",
      "4030         9    2   163.5    56.6  21.2     20.8\n",
      "4031         9    2   164.4    68.1  25.2     35.8\n",
      "4032         9    2   164.6    61.7  22.8     26.6\n",
      "4033         9    2   167.0    66.0  23.7     28.1\n",
      "\n",
      "\n",
      "요약통계: \n",
      "           ageGroup          sex       height       weight          BMI  \\\n",
      "count  4034.000000  4034.000000  4034.000000  4034.000000  4034.000000   \n",
      "mean      4.351264     1.394646   167.695563    66.459569    23.529797   \n",
      "std       2.484330     0.488835     8.857008    11.570712     3.003301   \n",
      "min       1.000000     1.000000   131.600000    37.500000    14.900000   \n",
      "25%       2.000000     1.000000   161.000000    57.600000    21.500000   \n",
      "50%       4.000000     1.000000   168.150000    66.100000    23.300000   \n",
      "75%       6.000000     2.000000   174.200000    74.200000    25.300000   \n",
      "max       9.000000     2.000000   194.700000   122.500000    38.900000   \n",
      "\n",
      "           bodyFat  \n",
      "count  4034.000000  \n",
      "mean     20.341373  \n",
      "std       6.693839  \n",
      "min       3.900000  \n",
      "25%      15.800000  \n",
      "50%      20.100000  \n",
      "75%      24.700000  \n",
      "max      45.600000  \n"
     ]
    }
   ],
   "source": [
    "print('데이터 타입: \\n', df.dtypes)\n",
    "print('\\n\\n행 레이블: \\n', df.index)\n",
    "print('\\n\\n열 레이블: \\n', df.columns)\n",
    "print('\\n\\n크기: ', df.shape)\n",
    "print('\\n\\n상위 5개 데이터: \\n', df.head(5))\n",
    "print('\\n\\n하위 5개 데이터: \\n', df.tail(5))\n",
    "print('\\n\\n요약통계: \\n', df.describe())"
   ],
   "metadata": {
    "collapsed": false,
    "pycharm": {
     "name": "#%%\n"
    }
   }
  },
  {
   "cell_type": "markdown",
   "source": [
    "(3) height(키)가 큰 값에서 작은 값 순으로 정렬\n"
   ],
   "metadata": {
    "collapsed": false,
    "pycharm": {
     "name": "#%% md\n"
    }
   }
  },
  {
   "cell_type": "code",
   "execution_count": 49,
   "outputs": [
    {
     "data": {
      "text/plain": "      ageGroup  sex  height  weight   BMI  bodyFat\n1009         2    1   194.7    97.7  25.8     17.9\n1010         2    1   194.7    97.7  25.8     20.7\n1480         3    1   193.1    87.7  23.5     20.7\n1479         3    1   192.7    91.7  24.7     19.2\n1982         4    1   192.5    75.1  20.3     26.1\n...        ...  ...     ...     ...   ...      ...\n3947         9    2   145.0    48.5  23.1     21.6\n3946         9    2   143.0    54.6  26.7     30.8\n3678         8    2   140.0    43.3  22.1     15.7\n3945         9    2   134.0    41.0  22.8     20.3\n2904         6    2   131.6    39.4  22.8     31.9\n\n[4034 rows x 6 columns]",
      "text/html": "<div>\n<style scoped>\n    .dataframe tbody tr th:only-of-type {\n        vertical-align: middle;\n    }\n\n    .dataframe tbody tr th {\n        vertical-align: top;\n    }\n\n    .dataframe thead th {\n        text-align: right;\n    }\n</style>\n<table border=\"1\" class=\"dataframe\">\n  <thead>\n    <tr style=\"text-align: right;\">\n      <th></th>\n      <th>ageGroup</th>\n      <th>sex</th>\n      <th>height</th>\n      <th>weight</th>\n      <th>BMI</th>\n      <th>bodyFat</th>\n    </tr>\n  </thead>\n  <tbody>\n    <tr>\n      <th>1009</th>\n      <td>2</td>\n      <td>1</td>\n      <td>194.7</td>\n      <td>97.7</td>\n      <td>25.8</td>\n      <td>17.9</td>\n    </tr>\n    <tr>\n      <th>1010</th>\n      <td>2</td>\n      <td>1</td>\n      <td>194.7</td>\n      <td>97.7</td>\n      <td>25.8</td>\n      <td>20.7</td>\n    </tr>\n    <tr>\n      <th>1480</th>\n      <td>3</td>\n      <td>1</td>\n      <td>193.1</td>\n      <td>87.7</td>\n      <td>23.5</td>\n      <td>20.7</td>\n    </tr>\n    <tr>\n      <th>1479</th>\n      <td>3</td>\n      <td>1</td>\n      <td>192.7</td>\n      <td>91.7</td>\n      <td>24.7</td>\n      <td>19.2</td>\n    </tr>\n    <tr>\n      <th>1982</th>\n      <td>4</td>\n      <td>1</td>\n      <td>192.5</td>\n      <td>75.1</td>\n      <td>20.3</td>\n      <td>26.1</td>\n    </tr>\n    <tr>\n      <th>...</th>\n      <td>...</td>\n      <td>...</td>\n      <td>...</td>\n      <td>...</td>\n      <td>...</td>\n      <td>...</td>\n    </tr>\n    <tr>\n      <th>3947</th>\n      <td>9</td>\n      <td>2</td>\n      <td>145.0</td>\n      <td>48.5</td>\n      <td>23.1</td>\n      <td>21.6</td>\n    </tr>\n    <tr>\n      <th>3946</th>\n      <td>9</td>\n      <td>2</td>\n      <td>143.0</td>\n      <td>54.6</td>\n      <td>26.7</td>\n      <td>30.8</td>\n    </tr>\n    <tr>\n      <th>3678</th>\n      <td>8</td>\n      <td>2</td>\n      <td>140.0</td>\n      <td>43.3</td>\n      <td>22.1</td>\n      <td>15.7</td>\n    </tr>\n    <tr>\n      <th>3945</th>\n      <td>9</td>\n      <td>2</td>\n      <td>134.0</td>\n      <td>41.0</td>\n      <td>22.8</td>\n      <td>20.3</td>\n    </tr>\n    <tr>\n      <th>2904</th>\n      <td>6</td>\n      <td>2</td>\n      <td>131.6</td>\n      <td>39.4</td>\n      <td>22.8</td>\n      <td>31.9</td>\n    </tr>\n  </tbody>\n</table>\n<p>4034 rows × 6 columns</p>\n</div>"
     },
     "metadata": {},
     "output_type": "display_data"
    }
   ],
   "source": [
    "dfheight = df.sort_values(by = 'height', ascending=False)\n",
    "display(dfheight)"
   ],
   "metadata": {
    "collapsed": false,
    "pycharm": {
     "name": "#%%\n"
    }
   }
  },
  {
   "cell_type": "markdown",
   "source": [
    "(4) BMI 30이상인 비만자만 ageGroup,height,weight,bodyFat을 추출하여 파일(obese.csv)로 저장"
   ],
   "metadata": {
    "collapsed": false,
    "pycharm": {
     "name": "#%% md\n"
    }
   }
  },
  {
   "cell_type": "code",
   "execution_count": 50,
   "outputs": [
    {
     "data": {
      "text/plain": "      ageGroup  height  weight  bodyFat\n5            1   161.0    78.0     22.6\n60           1   168.9    89.0     29.0\n102          1   170.2    90.4     18.4\n103          1   170.2    98.0     20.8\n143          1   171.7    97.5     23.4\n...        ...     ...     ...      ...\n3898         9   168.0    90.0     32.5\n3958         9   150.4    72.4     31.9\n3969         9   152.6    75.8     38.8\n3981         9   154.2    71.6     40.0\n3992         9   156.0    73.0     43.4\n\n[104 rows x 4 columns]",
      "text/html": "<div>\n<style scoped>\n    .dataframe tbody tr th:only-of-type {\n        vertical-align: middle;\n    }\n\n    .dataframe tbody tr th {\n        vertical-align: top;\n    }\n\n    .dataframe thead th {\n        text-align: right;\n    }\n</style>\n<table border=\"1\" class=\"dataframe\">\n  <thead>\n    <tr style=\"text-align: right;\">\n      <th></th>\n      <th>ageGroup</th>\n      <th>height</th>\n      <th>weight</th>\n      <th>bodyFat</th>\n    </tr>\n  </thead>\n  <tbody>\n    <tr>\n      <th>5</th>\n      <td>1</td>\n      <td>161.0</td>\n      <td>78.0</td>\n      <td>22.6</td>\n    </tr>\n    <tr>\n      <th>60</th>\n      <td>1</td>\n      <td>168.9</td>\n      <td>89.0</td>\n      <td>29.0</td>\n    </tr>\n    <tr>\n      <th>102</th>\n      <td>1</td>\n      <td>170.2</td>\n      <td>90.4</td>\n      <td>18.4</td>\n    </tr>\n    <tr>\n      <th>103</th>\n      <td>1</td>\n      <td>170.2</td>\n      <td>98.0</td>\n      <td>20.8</td>\n    </tr>\n    <tr>\n      <th>143</th>\n      <td>1</td>\n      <td>171.7</td>\n      <td>97.5</td>\n      <td>23.4</td>\n    </tr>\n    <tr>\n      <th>...</th>\n      <td>...</td>\n      <td>...</td>\n      <td>...</td>\n      <td>...</td>\n    </tr>\n    <tr>\n      <th>3898</th>\n      <td>9</td>\n      <td>168.0</td>\n      <td>90.0</td>\n      <td>32.5</td>\n    </tr>\n    <tr>\n      <th>3958</th>\n      <td>9</td>\n      <td>150.4</td>\n      <td>72.4</td>\n      <td>31.9</td>\n    </tr>\n    <tr>\n      <th>3969</th>\n      <td>9</td>\n      <td>152.6</td>\n      <td>75.8</td>\n      <td>38.8</td>\n    </tr>\n    <tr>\n      <th>3981</th>\n      <td>9</td>\n      <td>154.2</td>\n      <td>71.6</td>\n      <td>40.0</td>\n    </tr>\n    <tr>\n      <th>3992</th>\n      <td>9</td>\n      <td>156.0</td>\n      <td>73.0</td>\n      <td>43.4</td>\n    </tr>\n  </tbody>\n</table>\n<p>104 rows × 4 columns</p>\n</div>"
     },
     "metadata": {},
     "output_type": "display_data"
    }
   ],
   "source": [
    "obese = df.loc[df.BMI >= 30, ['ageGroup', 'height', 'weight', 'bodyFat']]\n",
    "display(obese)\n",
    "\n",
    "obese.to_csv('C:/Users/서지희/OneDrive - 강원대학교/대학/WorkSpace/Python/데이터마이닝/data/obese.csv')"
   ],
   "metadata": {
    "collapsed": false,
    "pycharm": {
     "name": "#%%\n"
    }
   }
  },
  {
   "cell_type": "markdown",
   "source": [
    "(5) (4)에서 추출된 데이터 셋에서 ageGroup 속성으로 그룹을 분리"
   ],
   "metadata": {
    "collapsed": false,
    "pycharm": {
     "name": "#%% md\n"
    }
   }
  },
  {
   "cell_type": "code",
   "execution_count": 51,
   "outputs": [
    {
     "name": "stdout",
     "output_type": "stream",
     "text": [
      "groupname:  1\n",
      "groupdata:\n",
      "     ageGroup  height  weight  bodyFat\n",
      "5           1   161.0    78.0     22.6\n",
      "60          1   168.9    89.0     29.0\n",
      "102         1   170.2    90.4     18.4\n",
      "103         1   170.2    98.0     20.8\n",
      "143         1   171.7    97.5     23.4\n",
      "193         1   173.0    95.0     31.0\n",
      "211         1   173.9    91.5     37.3\n",
      "263         1   175.5   100.6     26.3\n",
      "283         1   176.1    98.2     30.4\n",
      "308         1   177.0    98.0     25.4\n",
      "310         1   177.2    98.2     22.1\n",
      "334         1   178.0    96.5     24.7\n",
      "392         1   181.2    98.5     24.7\n",
      "407         1   182.2   122.5     21.2\n",
      "689         1   166.7    88.3     32.3 \n",
      "\n",
      "groupname:  2\n",
      "groupdata:\n",
      "      ageGroup  height  weight  bodyFat\n",
      "757          2   167.1    85.7     22.9\n",
      "824          2   172.4    99.2     26.1\n",
      "827          2   172.8    91.5     26.6\n",
      "930          2   178.4   101.0     29.3\n",
      "977          2   181.2   101.5     20.4\n",
      "995          2   184.3   109.5     31.2\n",
      "1006         2   187.5   120.5     30.5\n",
      "1008         2   189.5   119.2     28.2\n",
      "1102         2   162.9    91.0     37.1\n",
      "1118         2   165.4    88.3     35.5 \n",
      "\n",
      "groupname:  3\n",
      "groupdata:\n",
      "      ageGroup  height  weight  bodyFat\n",
      "1153         3   151.6    74.1     16.7\n",
      "1154         3   151.6    89.5     26.0\n",
      "1155         3   152.0    86.0     13.2\n",
      "1156         3   152.1    74.9     17.9\n",
      "1160         3   156.5    93.7     19.8\n",
      "1161         3   157.4    78.4     17.6\n",
      "1164         3   159.3    79.2     17.6\n",
      "1165         3   159.9    80.1     16.5\n",
      "1166         3   160.4    87.8     20.6\n",
      "1170         3   161.9    98.1     25.0\n",
      "1172         3   162.6    81.0     30.3\n",
      "1178         3   165.6    88.3     18.6\n",
      "1203         3   169.0    88.4     21.4\n",
      "1226         3   170.3    90.4     24.7\n",
      "1229         3   170.5    88.7     24.7\n",
      "1243         3   171.0    93.4     26.1\n",
      "1261         3   172.0    96.0     21.8\n",
      "1285         3   173.0    92.1     25.9\n",
      "1301         3   174.0    91.0     21.4\n",
      "1323         3   175.0    98.7     25.5\n",
      "1342         3   176.0    96.0     25.5\n",
      "1372         3   177.9    97.0     22.8\n",
      "1390         3   178.2    95.6     33.0\n",
      "1422         3   180.4    97.9     11.3\n",
      "1467         3   184.7   110.0     27.6\n",
      "1489         3   151.8    78.6     29.7 \n",
      "\n",
      "groupname:  4\n",
      "groupdata:\n",
      "      ageGroup  height  weight  bodyFat\n",
      "1679         4   157.9    77.8     20.8\n",
      "1690         4   164.0    87.0     23.0\n",
      "1698         4   165.3    82.6     18.8\n",
      "1699         4   165.5    89.9     27.1\n",
      "1758         4   170.2    87.6     26.6\n",
      "1759         4   170.5    91.0     30.8\n",
      "1761         4   170.6    90.1     19.0\n",
      "1790         4   172.3    92.0     21.4\n",
      "1795         4   172.4    94.0     18.9\n",
      "1866         4   176.2   103.0     27.7\n",
      "1899         4   177.5    96.3     24.9\n",
      "1923         4   178.6   110.4     23.3\n",
      "1934         4   180.0   102.0     16.9\n",
      "2026         4   156.5    81.3     45.0\n",
      "2065         4   160.5    78.0     40.9 \n",
      "\n",
      "groupname:  5\n",
      "groupdata:\n",
      "      ageGroup  height  weight  bodyFat\n",
      "2176         5   164.0    80.6     19.1\n",
      "2177         5   164.4    81.3     28.1\n",
      "2187         5   166.0    90.2     25.1\n",
      "2188         5   166.0    90.2     26.4\n",
      "2312         5   174.8    95.1     15.3\n",
      "2349         5   176.9    94.6     15.4\n",
      "2574         5   163.8    88.0     40.6 \n",
      "\n",
      "groupname:  6\n",
      "groupdata:\n",
      "      ageGroup  height  weight  bodyFat\n",
      "2656         6   165.6    83.6     26.6\n",
      "2680         6   167.0    87.0     20.0\n",
      "2732         6   169.2    92.7     18.8\n",
      "2836         6   175.5    94.0     17.6\n",
      "2861         6   177.4    98.6     22.6\n",
      "3041         6   163.8    84.7     34.4 \n",
      "\n",
      "groupname:  7\n",
      "groupdata:\n",
      "      ageGroup  height  weight  bodyFat\n",
      "3090         7   160.8    80.4     26.1\n",
      "3097         7   162.0    92.0     24.0\n",
      "3145         7   166.4    86.7     29.2\n",
      "3193         7   169.6    89.7     19.4\n",
      "3202         7   170.0    93.0     22.5\n",
      "3207         7   170.4    88.1     26.0\n",
      "3233         7   172.0    90.1     29.9\n",
      "3234         7   172.0    90.4     25.4\n",
      "3235         7   172.0    92.3     26.2\n",
      "3383         7   155.0    83.0     40.9\n",
      "3386         7   155.6    80.4     35.0\n",
      "3453         7   162.8    86.6     32.4 \n",
      "\n",
      "groupname:  8\n",
      "groupdata:\n",
      "      ageGroup  height  weight  bodyFat\n",
      "3558         8   167.6    85.1     21.5\n",
      "3643         8   173.6    94.6     21.0\n",
      "3693         8   150.8    70.3     37.6\n",
      "3719         8   153.5    74.0     30.3\n",
      "3749         8   156.0    87.0     26.5\n",
      "3759         8   157.0    75.4     20.9\n",
      "3798         8   160.5    86.2     40.8\n",
      "3822         8   163.1    93.8     40.5 \n",
      "\n",
      "groupname:  9\n",
      "groupdata:\n",
      "      ageGroup  height  weight  bodyFat\n",
      "3898         9   168.0    90.0     32.5\n",
      "3958         9   150.4    72.4     31.9\n",
      "3969         9   152.6    75.8     38.8\n",
      "3981         9   154.2    71.6     40.0\n",
      "3992         9   156.0    73.0     43.4 \n",
      "\n"
     ]
    }
   ],
   "source": [
    "grouped = obese.groupby('ageGroup')\n",
    "for name, group in grouped:\n",
    "    print('groupname: ', name)\n",
    "    print('groupdata:')\n",
    "    print(group,'\\n')"
   ],
   "metadata": {
    "collapsed": false,
    "pycharm": {
     "name": "#%%\n"
    }
   }
  },
  {
   "cell_type": "markdown",
   "source": [
    "(6) (5)그룹에 대한 요약 통계 (median, mean, std)\n"
   ],
   "metadata": {
    "collapsed": false,
    "pycharm": {
     "name": "#%% md\n"
    }
   }
  },
  {
   "cell_type": "code",
   "execution_count": 52,
   "outputs": [
    {
     "name": "stdout",
     "output_type": "stream",
     "text": [
      "\n",
      "#grouped.median() = \n",
      "          height  weight  bodyFat\n",
      "ageGroup                         \n",
      "1         173.90   97.50    24.70\n",
      "2         175.60  100.10    28.75\n",
      "3         167.30   89.95    22.30\n",
      "4         170.50   90.10    23.30\n",
      "5         166.00   90.20    25.10\n",
      "6         168.10   89.85    21.30\n",
      "7         168.00   88.90    26.15\n",
      "8         158.75   85.65    28.40\n",
      "9         154.20   73.00    38.80 \n",
      "\n",
      "\n",
      "#grouped.mean() = \n",
      "              height      weight    bodyFat\n",
      "ageGroup                                   \n",
      "1         173.520000   96.013333  25.973333\n",
      "2         176.150000  100.740000  28.780000\n",
      "3         165.950000   89.419231  22.353846\n",
      "4         169.200000   90.866667  25.673333\n",
      "5         167.985714   88.571429  24.285714\n",
      "6         169.750000   90.100000  23.333333\n",
      "7         165.716667   87.725000  28.083333\n",
      "8         160.262500   83.300000  29.887500\n",
      "9         156.240000   76.560000  37.320000 \n",
      "\n",
      "\n",
      "#grouped.std() = \n",
      "             height     weight   bodyFat\n",
      "ageGroup                                \n",
      "1          5.612512   9.391247  5.112515\n",
      "2          9.441898  12.347667  5.169741\n",
      "3         10.123132   8.596140  5.287512\n",
      "4          7.406561   9.322221  8.056361\n",
      "5          5.477965   5.788124  8.873449\n",
      "6          5.514980   5.920135  6.296242\n",
      "7          6.309853   4.429473  5.858612\n",
      "8          7.596228   9.111845  8.725568\n",
      "9          6.889702   7.677760  4.973630 \n",
      "\n"
     ]
    }
   ],
   "source": [
    "print('\\n#grouped.median() = ')\n",
    "print(grouped.median(),'\\n')\n",
    "print('\\n#grouped.mean() = ')\n",
    "print(grouped.mean(),'\\n')\n",
    "print('\\n#grouped.std() = ')\n",
    "print(grouped.std(),'\\n')\n",
    "\n"
   ],
   "metadata": {
    "collapsed": false,
    "pycharm": {
     "name": "#%%\n"
    }
   }
  },
  {
   "cell_type": "markdown",
   "source": [
    "(7) 남녀 각각 20명씩 추출하여 하나의 데이터 프레임으로 결합 , 요약통계확인"
   ],
   "metadata": {
    "collapsed": false,
    "pycharm": {
     "name": "#%% md\n"
    }
   }
  },
  {
   "cell_type": "code",
   "execution_count": 53,
   "outputs": [
    {
     "data": {
      "text/plain": "      ageGroup  sex  height  weight   BMI  bodyFat\n1850         4    1   175.3    67.0  21.8      9.6\n826          2    1   172.6    71.6  24.0     16.1\n243          1    1   175.0    66.3  21.6     11.5\n1810         4    1   173.1    81.2  27.1     25.1\n2268         5    1   172.6    83.4  28.0     24.7\n3618         8    1   171.5    69.0  23.5     25.9\n3223         7    1   171.8    72.9  24.7     15.6\n228          1    1   174.2    76.0  25.0     13.0\n3095         7    1   162.0    66.0  25.1     21.1\n3159         7    1   168.0    62.6  22.2     13.4\n1441         3    1   181.5    78.0  23.7     16.6\n301          1    1   177.0    70.0  22.3     11.5\n965          2    1   180.9    74.1  22.6      7.8\n20           1    1   166.0    64.0  23.2     13.1\n3919         9    1   171.0    70.5  24.1     23.4\n3            1    1   160.0    66.0  25.8     18.6\n43           1    1   168.0    60.0  21.3     15.7\n3241         7    1   172.7    57.4  19.2      9.3\n810          2    1   171.3    61.8  21.1      7.7\n3584         8    1   169.3    79.4  27.7     19.0\n3724         8    2   154.0    53.0  22.3     21.5\n544          1    2   159.6    52.1  20.5     18.5\n3795         8    2   160.0    62.0  24.2     21.2\n3817         8    2   163.0    55.0  20.7     22.1\n2087         4    2   161.7    65.6  25.1     27.9\n2077         4    2   161.1    53.7  20.7     29.6\n2425         5    2   151.5    54.5  23.7     21.8\n1619         3    2   165.1    62.9  23.1     25.0\n2476         5    2   158.0    43.0  17.2     18.8\n2452         5    2   155.0    51.0  21.2     28.0\n3333         7    2   151.0    62.4  27.4     23.6\n3035         6    2   163.0    52.0  19.6     20.1\n3434         7    2   160.9    61.3  23.7     33.4\n2916         6    2   152.0    54.0  23.4     23.1\n4020         9    2   159.1    56.6  22.4     27.9\n3757         8    2   157.0    57.0  23.1     19.6\n3711         8    2   153.0    54.4  23.2     18.7\n1073         2    2   160.0    52.0  20.3     26.0\n2039         4    2   158.0    59.9  24.0     27.2\n4025         9    2   160.5    75.5  29.3     31.0",
      "text/html": "<div>\n<style scoped>\n    .dataframe tbody tr th:only-of-type {\n        vertical-align: middle;\n    }\n\n    .dataframe tbody tr th {\n        vertical-align: top;\n    }\n\n    .dataframe thead th {\n        text-align: right;\n    }\n</style>\n<table border=\"1\" class=\"dataframe\">\n  <thead>\n    <tr style=\"text-align: right;\">\n      <th></th>\n      <th>ageGroup</th>\n      <th>sex</th>\n      <th>height</th>\n      <th>weight</th>\n      <th>BMI</th>\n      <th>bodyFat</th>\n    </tr>\n  </thead>\n  <tbody>\n    <tr>\n      <th>1850</th>\n      <td>4</td>\n      <td>1</td>\n      <td>175.3</td>\n      <td>67.0</td>\n      <td>21.8</td>\n      <td>9.6</td>\n    </tr>\n    <tr>\n      <th>826</th>\n      <td>2</td>\n      <td>1</td>\n      <td>172.6</td>\n      <td>71.6</td>\n      <td>24.0</td>\n      <td>16.1</td>\n    </tr>\n    <tr>\n      <th>243</th>\n      <td>1</td>\n      <td>1</td>\n      <td>175.0</td>\n      <td>66.3</td>\n      <td>21.6</td>\n      <td>11.5</td>\n    </tr>\n    <tr>\n      <th>1810</th>\n      <td>4</td>\n      <td>1</td>\n      <td>173.1</td>\n      <td>81.2</td>\n      <td>27.1</td>\n      <td>25.1</td>\n    </tr>\n    <tr>\n      <th>2268</th>\n      <td>5</td>\n      <td>1</td>\n      <td>172.6</td>\n      <td>83.4</td>\n      <td>28.0</td>\n      <td>24.7</td>\n    </tr>\n    <tr>\n      <th>3618</th>\n      <td>8</td>\n      <td>1</td>\n      <td>171.5</td>\n      <td>69.0</td>\n      <td>23.5</td>\n      <td>25.9</td>\n    </tr>\n    <tr>\n      <th>3223</th>\n      <td>7</td>\n      <td>1</td>\n      <td>171.8</td>\n      <td>72.9</td>\n      <td>24.7</td>\n      <td>15.6</td>\n    </tr>\n    <tr>\n      <th>228</th>\n      <td>1</td>\n      <td>1</td>\n      <td>174.2</td>\n      <td>76.0</td>\n      <td>25.0</td>\n      <td>13.0</td>\n    </tr>\n    <tr>\n      <th>3095</th>\n      <td>7</td>\n      <td>1</td>\n      <td>162.0</td>\n      <td>66.0</td>\n      <td>25.1</td>\n      <td>21.1</td>\n    </tr>\n    <tr>\n      <th>3159</th>\n      <td>7</td>\n      <td>1</td>\n      <td>168.0</td>\n      <td>62.6</td>\n      <td>22.2</td>\n      <td>13.4</td>\n    </tr>\n    <tr>\n      <th>1441</th>\n      <td>3</td>\n      <td>1</td>\n      <td>181.5</td>\n      <td>78.0</td>\n      <td>23.7</td>\n      <td>16.6</td>\n    </tr>\n    <tr>\n      <th>301</th>\n      <td>1</td>\n      <td>1</td>\n      <td>177.0</td>\n      <td>70.0</td>\n      <td>22.3</td>\n      <td>11.5</td>\n    </tr>\n    <tr>\n      <th>965</th>\n      <td>2</td>\n      <td>1</td>\n      <td>180.9</td>\n      <td>74.1</td>\n      <td>22.6</td>\n      <td>7.8</td>\n    </tr>\n    <tr>\n      <th>20</th>\n      <td>1</td>\n      <td>1</td>\n      <td>166.0</td>\n      <td>64.0</td>\n      <td>23.2</td>\n      <td>13.1</td>\n    </tr>\n    <tr>\n      <th>3919</th>\n      <td>9</td>\n      <td>1</td>\n      <td>171.0</td>\n      <td>70.5</td>\n      <td>24.1</td>\n      <td>23.4</td>\n    </tr>\n    <tr>\n      <th>3</th>\n      <td>1</td>\n      <td>1</td>\n      <td>160.0</td>\n      <td>66.0</td>\n      <td>25.8</td>\n      <td>18.6</td>\n    </tr>\n    <tr>\n      <th>43</th>\n      <td>1</td>\n      <td>1</td>\n      <td>168.0</td>\n      <td>60.0</td>\n      <td>21.3</td>\n      <td>15.7</td>\n    </tr>\n    <tr>\n      <th>3241</th>\n      <td>7</td>\n      <td>1</td>\n      <td>172.7</td>\n      <td>57.4</td>\n      <td>19.2</td>\n      <td>9.3</td>\n    </tr>\n    <tr>\n      <th>810</th>\n      <td>2</td>\n      <td>1</td>\n      <td>171.3</td>\n      <td>61.8</td>\n      <td>21.1</td>\n      <td>7.7</td>\n    </tr>\n    <tr>\n      <th>3584</th>\n      <td>8</td>\n      <td>1</td>\n      <td>169.3</td>\n      <td>79.4</td>\n      <td>27.7</td>\n      <td>19.0</td>\n    </tr>\n    <tr>\n      <th>3724</th>\n      <td>8</td>\n      <td>2</td>\n      <td>154.0</td>\n      <td>53.0</td>\n      <td>22.3</td>\n      <td>21.5</td>\n    </tr>\n    <tr>\n      <th>544</th>\n      <td>1</td>\n      <td>2</td>\n      <td>159.6</td>\n      <td>52.1</td>\n      <td>20.5</td>\n      <td>18.5</td>\n    </tr>\n    <tr>\n      <th>3795</th>\n      <td>8</td>\n      <td>2</td>\n      <td>160.0</td>\n      <td>62.0</td>\n      <td>24.2</td>\n      <td>21.2</td>\n    </tr>\n    <tr>\n      <th>3817</th>\n      <td>8</td>\n      <td>2</td>\n      <td>163.0</td>\n      <td>55.0</td>\n      <td>20.7</td>\n      <td>22.1</td>\n    </tr>\n    <tr>\n      <th>2087</th>\n      <td>4</td>\n      <td>2</td>\n      <td>161.7</td>\n      <td>65.6</td>\n      <td>25.1</td>\n      <td>27.9</td>\n    </tr>\n    <tr>\n      <th>2077</th>\n      <td>4</td>\n      <td>2</td>\n      <td>161.1</td>\n      <td>53.7</td>\n      <td>20.7</td>\n      <td>29.6</td>\n    </tr>\n    <tr>\n      <th>2425</th>\n      <td>5</td>\n      <td>2</td>\n      <td>151.5</td>\n      <td>54.5</td>\n      <td>23.7</td>\n      <td>21.8</td>\n    </tr>\n    <tr>\n      <th>1619</th>\n      <td>3</td>\n      <td>2</td>\n      <td>165.1</td>\n      <td>62.9</td>\n      <td>23.1</td>\n      <td>25.0</td>\n    </tr>\n    <tr>\n      <th>2476</th>\n      <td>5</td>\n      <td>2</td>\n      <td>158.0</td>\n      <td>43.0</td>\n      <td>17.2</td>\n      <td>18.8</td>\n    </tr>\n    <tr>\n      <th>2452</th>\n      <td>5</td>\n      <td>2</td>\n      <td>155.0</td>\n      <td>51.0</td>\n      <td>21.2</td>\n      <td>28.0</td>\n    </tr>\n    <tr>\n      <th>3333</th>\n      <td>7</td>\n      <td>2</td>\n      <td>151.0</td>\n      <td>62.4</td>\n      <td>27.4</td>\n      <td>23.6</td>\n    </tr>\n    <tr>\n      <th>3035</th>\n      <td>6</td>\n      <td>2</td>\n      <td>163.0</td>\n      <td>52.0</td>\n      <td>19.6</td>\n      <td>20.1</td>\n    </tr>\n    <tr>\n      <th>3434</th>\n      <td>7</td>\n      <td>2</td>\n      <td>160.9</td>\n      <td>61.3</td>\n      <td>23.7</td>\n      <td>33.4</td>\n    </tr>\n    <tr>\n      <th>2916</th>\n      <td>6</td>\n      <td>2</td>\n      <td>152.0</td>\n      <td>54.0</td>\n      <td>23.4</td>\n      <td>23.1</td>\n    </tr>\n    <tr>\n      <th>4020</th>\n      <td>9</td>\n      <td>2</td>\n      <td>159.1</td>\n      <td>56.6</td>\n      <td>22.4</td>\n      <td>27.9</td>\n    </tr>\n    <tr>\n      <th>3757</th>\n      <td>8</td>\n      <td>2</td>\n      <td>157.0</td>\n      <td>57.0</td>\n      <td>23.1</td>\n      <td>19.6</td>\n    </tr>\n    <tr>\n      <th>3711</th>\n      <td>8</td>\n      <td>2</td>\n      <td>153.0</td>\n      <td>54.4</td>\n      <td>23.2</td>\n      <td>18.7</td>\n    </tr>\n    <tr>\n      <th>1073</th>\n      <td>2</td>\n      <td>2</td>\n      <td>160.0</td>\n      <td>52.0</td>\n      <td>20.3</td>\n      <td>26.0</td>\n    </tr>\n    <tr>\n      <th>2039</th>\n      <td>4</td>\n      <td>2</td>\n      <td>158.0</td>\n      <td>59.9</td>\n      <td>24.0</td>\n      <td>27.2</td>\n    </tr>\n    <tr>\n      <th>4025</th>\n      <td>9</td>\n      <td>2</td>\n      <td>160.5</td>\n      <td>75.5</td>\n      <td>29.3</td>\n      <td>31.0</td>\n    </tr>\n  </tbody>\n</table>\n</div>"
     },
     "metadata": {},
     "output_type": "display_data"
    },
    {
     "name": "stdout",
     "output_type": "stream",
     "text": [
      "\n",
      "요약통계: \n",
      "         ageGroup       sex      height    weight        BMI    bodyFat\n",
      "count  40.000000  40.00000   40.000000  40.00000  40.000000  40.000000\n",
      "mean    4.950000   1.50000  164.932500  63.37750  23.227500  20.092500\n",
      "std     2.763777   0.50637    8.312931   9.56126   2.532353   6.610419\n",
      "min     1.000000   1.00000  151.000000  43.00000  17.200000   7.700000\n",
      "25%     2.000000   1.00000  159.475000  54.87500  21.525000  15.675000\n",
      "50%     5.000000   1.50000  163.000000  62.50000  23.200000  20.600000\n",
      "75%     7.250000   2.00000  172.000000  70.12500  24.325000  25.025000\n",
      "max     9.000000   2.00000  181.500000  83.40000  29.300000  33.400000\n"
     ]
    }
   ],
   "source": [
    "#남여 나누기\n",
    "\n",
    "grouped = df.groupby('sex')\n",
    "\n",
    "\n",
    "f = grouped.get_group(name = 2)\n",
    "m = grouped.get_group(name = 1)\n",
    "\n",
    "df20f = f.sample(n = 20)\n",
    "df20m = m.sample(n = 20)\n",
    "\n",
    "df3 = df20m.append(df20f)\n",
    "display(df3)\n",
    "\n",
    "print('\\n요약통계: \\n', df3.describe())"
   ],
   "metadata": {
    "collapsed": false,
    "pycharm": {
     "name": "#%%\n"
    }
   }
  },
  {
   "cell_type": "markdown",
   "source": [
    "(8) 나이에 따른 성별의 BMI 평균 집계 테이블 생성 및 확인"
   ],
   "metadata": {
    "collapsed": false,
    "pycharm": {
     "name": "#%% md\n"
    }
   }
  },
  {
   "cell_type": "code",
   "execution_count": 54,
   "outputs": [
    {
     "data": {
      "text/plain": "sex               1          2\nageGroup                      \n1         23.271678  20.707746\n2         23.785075  20.837324\n3         24.876524  21.368528\n4         25.228852  22.240556\n5         24.047266  22.720874\n6         24.446595  23.329697\n7         24.874390  23.379290\n8         24.470619  23.954375\n9         24.558879  24.397753",
      "text/html": "<div>\n<style scoped>\n    .dataframe tbody tr th:only-of-type {\n        vertical-align: middle;\n    }\n\n    .dataframe tbody tr th {\n        vertical-align: top;\n    }\n\n    .dataframe thead th {\n        text-align: right;\n    }\n</style>\n<table border=\"1\" class=\"dataframe\">\n  <thead>\n    <tr style=\"text-align: right;\">\n      <th>sex</th>\n      <th>1</th>\n      <th>2</th>\n    </tr>\n    <tr>\n      <th>ageGroup</th>\n      <th></th>\n      <th></th>\n    </tr>\n  </thead>\n  <tbody>\n    <tr>\n      <th>1</th>\n      <td>23.271678</td>\n      <td>20.707746</td>\n    </tr>\n    <tr>\n      <th>2</th>\n      <td>23.785075</td>\n      <td>20.837324</td>\n    </tr>\n    <tr>\n      <th>3</th>\n      <td>24.876524</td>\n      <td>21.368528</td>\n    </tr>\n    <tr>\n      <th>4</th>\n      <td>25.228852</td>\n      <td>22.240556</td>\n    </tr>\n    <tr>\n      <th>5</th>\n      <td>24.047266</td>\n      <td>22.720874</td>\n    </tr>\n    <tr>\n      <th>6</th>\n      <td>24.446595</td>\n      <td>23.329697</td>\n    </tr>\n    <tr>\n      <th>7</th>\n      <td>24.874390</td>\n      <td>23.379290</td>\n    </tr>\n    <tr>\n      <th>8</th>\n      <td>24.470619</td>\n      <td>23.954375</td>\n    </tr>\n    <tr>\n      <th>9</th>\n      <td>24.558879</td>\n      <td>24.397753</td>\n    </tr>\n  </tbody>\n</table>\n</div>"
     },
     "execution_count": 54,
     "metadata": {},
     "output_type": "execute_result"
    }
   ],
   "source": [
    "df.pivot_table(index = 'ageGroup', columns = 'sex', values = 'BMI', aggfunc=np.mean)"
   ],
   "metadata": {
    "collapsed": false,
    "pycharm": {
     "name": "#%%\n"
    }
   }
  },
  {
   "cell_type": "code",
   "execution_count": null,
   "outputs": [],
   "source": [],
   "metadata": {
    "collapsed": false,
    "pycharm": {
     "name": "#%%\n"
    }
   }
  }
 ],
 "metadata": {
  "kernelspec": {
   "display_name": "Python 3",
   "language": "python",
   "name": "python3"
  },
  "language_info": {
   "codemirror_mode": {
    "name": "ipython",
    "version": 2
   },
   "file_extension": ".py",
   "mimetype": "text/x-python",
   "name": "python",
   "nbconvert_exporter": "python",
   "pygments_lexer": "ipython2",
   "version": "2.7.6"
  }
 },
 "nbformat": 4,
 "nbformat_minor": 0
}