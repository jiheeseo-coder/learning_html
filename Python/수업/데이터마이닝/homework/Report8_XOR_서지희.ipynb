{
 "cells": [
  {
   "cell_type": "code",
   "execution_count": 1,
   "metadata": {
    "collapsed": true
   },
   "outputs": [],
   "source": [
    "import numpy as np\n",
    "import matplotlib.pyplot as plt"
   ]
  },
  {
   "cell_type": "code",
   "execution_count": 3,
   "outputs": [],
   "source": [
    "def step(x) :\n",
    "    return np.array(x > 0, dtype = np.int)\n",
    "\n",
    "def NAND (x1, x2):\n",
    "    w1, w2, b = -1, -1, 1.5\n",
    "    s = x1*w1 + x2*w2 + b\n",
    "    y = step(s)\n",
    "    return y\n",
    "\n",
    "def OR (x1, x2):\n",
    "    w1, w2, b = 1, 1, -0.5\n",
    "    s = x1*w1 + x2*w2 + b\n",
    "    y = step(s)\n",
    "    return y\n",
    "\n",
    "def AND_b (x1, x2):\n",
    "    w1, w2, b = 1, 1, -1.5\n",
    "    s = x1*w1 + x2*w2 + b\n",
    "    y = step(s)\n",
    "    return y"
   ],
   "metadata": {
    "collapsed": false,
    "pycharm": {
     "name": "#%%\n"
    }
   }
  },
  {
   "cell_type": "code",
   "execution_count": 5,
   "outputs": [
    {
     "name": "stdout",
     "output_type": "stream",
     "text": [
      "[[0, 0], [0, 1], [1, 0], [1, 1]]\n",
      "XOR\n",
      "([0, 0]) -> 0\n",
      "([0, 1]) -> 1\n",
      "([1, 0]) -> 1\n",
      "([1, 1]) -> 0\n"
     ]
    }
   ],
   "source": [
    "inputs = [[0,0], [0,1], [1,0], [1,1]]\n",
    "print(inputs)\n",
    "\n",
    "#XOR 문제 해결을 위한 다층 퍼셉트론\n",
    "#NAND, OR, AND 연산을 조합하여 XOR 연산 처리\n",
    "print(\"XOR\")\n",
    "for x in inputs :\n",
    "    s1 = NAND(x[0], x[1])\n",
    "    s2 = OR(x[0], x[1])\n",
    "    s = np.array([s1, s2])\n",
    "    #y = AND(s)\n",
    "    y = AND_b(s1, s2)\n",
    "    print('({x}) -> {y}'.format(x=x, y=y))"
   ],
   "metadata": {
    "collapsed": false,
    "pycharm": {
     "name": "#%%\n"
    }
   }
  }
 ],
 "metadata": {
  "kernelspec": {
   "display_name": "Python 3",
   "language": "python",
   "name": "python3"
  },
  "language_info": {
   "codemirror_mode": {
    "name": "ipython",
    "version": 2
   },
   "file_extension": ".py",
   "mimetype": "text/x-python",
   "name": "python",
   "nbconvert_exporter": "python",
   "pygments_lexer": "ipython2",
   "version": "2.7.6"
  }
 },
 "nbformat": 4,
 "nbformat_minor": 0
}