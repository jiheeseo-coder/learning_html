{
 "cells": [
  {
   "cell_type": "code",
   "execution_count": 3,
   "metadata": {
    "collapsed": true
   },
   "outputs": [],
   "source": [
    "import numpy as np\n",
    "import pandas as pd\n",
    "from IPython.display import display\n",
    "import sklearn.datasets as ds\n",
    "\n",
    "boston = ds.load_boston()"
   ]
  },
  {
   "cell_type": "code",
   "execution_count": 4,
   "outputs": [],
   "source": [
    "df = pd.DataFrame(boston.data, columns=boston.feature_names)\n",
    "df['MEDV'] = boston.target"
   ],
   "metadata": {
    "collapsed": false,
    "pycharm": {
     "name": "#%%\n"
    }
   }
  },
  {
   "cell_type": "code",
   "execution_count": 5,
   "outputs": [
    {
     "data": {
      "text/plain": "             CRIM        ZN     INDUS      CHAS       NOX        RM       AGE  \\\nCRIM     1.000000 -0.200469  0.406583 -0.055892  0.420972 -0.219247  0.352734   \nZN      -0.200469  1.000000 -0.533828 -0.042697 -0.516604  0.311991 -0.569537   \nINDUS    0.406583 -0.533828  1.000000  0.062938  0.763651 -0.391676  0.644779   \nCHAS    -0.055892 -0.042697  0.062938  1.000000  0.091203  0.091251  0.086518   \nNOX      0.420972 -0.516604  0.763651  0.091203  1.000000 -0.302188  0.731470   \nRM      -0.219247  0.311991 -0.391676  0.091251 -0.302188  1.000000 -0.240265   \nAGE      0.352734 -0.569537  0.644779  0.086518  0.731470 -0.240265  1.000000   \nDIS     -0.379670  0.664408 -0.708027 -0.099176 -0.769230  0.205246 -0.747881   \nRAD      0.625505 -0.311948  0.595129 -0.007368  0.611441 -0.209847  0.456022   \nTAX      0.582764 -0.314563  0.720760 -0.035587  0.668023 -0.292048  0.506456   \nPTRATIO  0.289946 -0.391679  0.383248 -0.121515  0.188933 -0.355501  0.261515   \nB       -0.385064  0.175520 -0.356977  0.048788 -0.380051  0.128069 -0.273534   \nLSTAT    0.455621 -0.412995  0.603800 -0.053929  0.590879 -0.613808  0.602339   \nMEDV    -0.388305  0.360445 -0.483725  0.175260 -0.427321  0.695360 -0.376955   \n\n              DIS       RAD       TAX   PTRATIO         B     LSTAT      MEDV  \nCRIM    -0.379670  0.625505  0.582764  0.289946 -0.385064  0.455621 -0.388305  \nZN       0.664408 -0.311948 -0.314563 -0.391679  0.175520 -0.412995  0.360445  \nINDUS   -0.708027  0.595129  0.720760  0.383248 -0.356977  0.603800 -0.483725  \nCHAS    -0.099176 -0.007368 -0.035587 -0.121515  0.048788 -0.053929  0.175260  \nNOX     -0.769230  0.611441  0.668023  0.188933 -0.380051  0.590879 -0.427321  \nRM       0.205246 -0.209847 -0.292048 -0.355501  0.128069 -0.613808  0.695360  \nAGE     -0.747881  0.456022  0.506456  0.261515 -0.273534  0.602339 -0.376955  \nDIS      1.000000 -0.494588 -0.534432 -0.232471  0.291512 -0.496996  0.249929  \nRAD     -0.494588  1.000000  0.910228  0.464741 -0.444413  0.488676 -0.381626  \nTAX     -0.534432  0.910228  1.000000  0.460853 -0.441808  0.543993 -0.468536  \nPTRATIO -0.232471  0.464741  0.460853  1.000000 -0.177383  0.374044 -0.507787  \nB        0.291512 -0.444413 -0.441808 -0.177383  1.000000 -0.366087  0.333461  \nLSTAT   -0.496996  0.488676  0.543993  0.374044 -0.366087  1.000000 -0.737663  \nMEDV     0.249929 -0.381626 -0.468536 -0.507787  0.333461 -0.737663  1.000000  ",
      "text/html": "<div>\n<style scoped>\n    .dataframe tbody tr th:only-of-type {\n        vertical-align: middle;\n    }\n\n    .dataframe tbody tr th {\n        vertical-align: top;\n    }\n\n    .dataframe thead th {\n        text-align: right;\n    }\n</style>\n<table border=\"1\" class=\"dataframe\">\n  <thead>\n    <tr style=\"text-align: right;\">\n      <th></th>\n      <th>CRIM</th>\n      <th>ZN</th>\n      <th>INDUS</th>\n      <th>CHAS</th>\n      <th>NOX</th>\n      <th>RM</th>\n      <th>AGE</th>\n      <th>DIS</th>\n      <th>RAD</th>\n      <th>TAX</th>\n      <th>PTRATIO</th>\n      <th>B</th>\n      <th>LSTAT</th>\n      <th>MEDV</th>\n    </tr>\n  </thead>\n  <tbody>\n    <tr>\n      <th>CRIM</th>\n      <td>1.000000</td>\n      <td>-0.200469</td>\n      <td>0.406583</td>\n      <td>-0.055892</td>\n      <td>0.420972</td>\n      <td>-0.219247</td>\n      <td>0.352734</td>\n      <td>-0.379670</td>\n      <td>0.625505</td>\n      <td>0.582764</td>\n      <td>0.289946</td>\n      <td>-0.385064</td>\n      <td>0.455621</td>\n      <td>-0.388305</td>\n    </tr>\n    <tr>\n      <th>ZN</th>\n      <td>-0.200469</td>\n      <td>1.000000</td>\n      <td>-0.533828</td>\n      <td>-0.042697</td>\n      <td>-0.516604</td>\n      <td>0.311991</td>\n      <td>-0.569537</td>\n      <td>0.664408</td>\n      <td>-0.311948</td>\n      <td>-0.314563</td>\n      <td>-0.391679</td>\n      <td>0.175520</td>\n      <td>-0.412995</td>\n      <td>0.360445</td>\n    </tr>\n    <tr>\n      <th>INDUS</th>\n      <td>0.406583</td>\n      <td>-0.533828</td>\n      <td>1.000000</td>\n      <td>0.062938</td>\n      <td>0.763651</td>\n      <td>-0.391676</td>\n      <td>0.644779</td>\n      <td>-0.708027</td>\n      <td>0.595129</td>\n      <td>0.720760</td>\n      <td>0.383248</td>\n      <td>-0.356977</td>\n      <td>0.603800</td>\n      <td>-0.483725</td>\n    </tr>\n    <tr>\n      <th>CHAS</th>\n      <td>-0.055892</td>\n      <td>-0.042697</td>\n      <td>0.062938</td>\n      <td>1.000000</td>\n      <td>0.091203</td>\n      <td>0.091251</td>\n      <td>0.086518</td>\n      <td>-0.099176</td>\n      <td>-0.007368</td>\n      <td>-0.035587</td>\n      <td>-0.121515</td>\n      <td>0.048788</td>\n      <td>-0.053929</td>\n      <td>0.175260</td>\n    </tr>\n    <tr>\n      <th>NOX</th>\n      <td>0.420972</td>\n      <td>-0.516604</td>\n      <td>0.763651</td>\n      <td>0.091203</td>\n      <td>1.000000</td>\n      <td>-0.302188</td>\n      <td>0.731470</td>\n      <td>-0.769230</td>\n      <td>0.611441</td>\n      <td>0.668023</td>\n      <td>0.188933</td>\n      <td>-0.380051</td>\n      <td>0.590879</td>\n      <td>-0.427321</td>\n    </tr>\n    <tr>\n      <th>RM</th>\n      <td>-0.219247</td>\n      <td>0.311991</td>\n      <td>-0.391676</td>\n      <td>0.091251</td>\n      <td>-0.302188</td>\n      <td>1.000000</td>\n      <td>-0.240265</td>\n      <td>0.205246</td>\n      <td>-0.209847</td>\n      <td>-0.292048</td>\n      <td>-0.355501</td>\n      <td>0.128069</td>\n      <td>-0.613808</td>\n      <td>0.695360</td>\n    </tr>\n    <tr>\n      <th>AGE</th>\n      <td>0.352734</td>\n      <td>-0.569537</td>\n      <td>0.644779</td>\n      <td>0.086518</td>\n      <td>0.731470</td>\n      <td>-0.240265</td>\n      <td>1.000000</td>\n      <td>-0.747881</td>\n      <td>0.456022</td>\n      <td>0.506456</td>\n      <td>0.261515</td>\n      <td>-0.273534</td>\n      <td>0.602339</td>\n      <td>-0.376955</td>\n    </tr>\n    <tr>\n      <th>DIS</th>\n      <td>-0.379670</td>\n      <td>0.664408</td>\n      <td>-0.708027</td>\n      <td>-0.099176</td>\n      <td>-0.769230</td>\n      <td>0.205246</td>\n      <td>-0.747881</td>\n      <td>1.000000</td>\n      <td>-0.494588</td>\n      <td>-0.534432</td>\n      <td>-0.232471</td>\n      <td>0.291512</td>\n      <td>-0.496996</td>\n      <td>0.249929</td>\n    </tr>\n    <tr>\n      <th>RAD</th>\n      <td>0.625505</td>\n      <td>-0.311948</td>\n      <td>0.595129</td>\n      <td>-0.007368</td>\n      <td>0.611441</td>\n      <td>-0.209847</td>\n      <td>0.456022</td>\n      <td>-0.494588</td>\n      <td>1.000000</td>\n      <td>0.910228</td>\n      <td>0.464741</td>\n      <td>-0.444413</td>\n      <td>0.488676</td>\n      <td>-0.381626</td>\n    </tr>\n    <tr>\n      <th>TAX</th>\n      <td>0.582764</td>\n      <td>-0.314563</td>\n      <td>0.720760</td>\n      <td>-0.035587</td>\n      <td>0.668023</td>\n      <td>-0.292048</td>\n      <td>0.506456</td>\n      <td>-0.534432</td>\n      <td>0.910228</td>\n      <td>1.000000</td>\n      <td>0.460853</td>\n      <td>-0.441808</td>\n      <td>0.543993</td>\n      <td>-0.468536</td>\n    </tr>\n    <tr>\n      <th>PTRATIO</th>\n      <td>0.289946</td>\n      <td>-0.391679</td>\n      <td>0.383248</td>\n      <td>-0.121515</td>\n      <td>0.188933</td>\n      <td>-0.355501</td>\n      <td>0.261515</td>\n      <td>-0.232471</td>\n      <td>0.464741</td>\n      <td>0.460853</td>\n      <td>1.000000</td>\n      <td>-0.177383</td>\n      <td>0.374044</td>\n      <td>-0.507787</td>\n    </tr>\n    <tr>\n      <th>B</th>\n      <td>-0.385064</td>\n      <td>0.175520</td>\n      <td>-0.356977</td>\n      <td>0.048788</td>\n      <td>-0.380051</td>\n      <td>0.128069</td>\n      <td>-0.273534</td>\n      <td>0.291512</td>\n      <td>-0.444413</td>\n      <td>-0.441808</td>\n      <td>-0.177383</td>\n      <td>1.000000</td>\n      <td>-0.366087</td>\n      <td>0.333461</td>\n    </tr>\n    <tr>\n      <th>LSTAT</th>\n      <td>0.455621</td>\n      <td>-0.412995</td>\n      <td>0.603800</td>\n      <td>-0.053929</td>\n      <td>0.590879</td>\n      <td>-0.613808</td>\n      <td>0.602339</td>\n      <td>-0.496996</td>\n      <td>0.488676</td>\n      <td>0.543993</td>\n      <td>0.374044</td>\n      <td>-0.366087</td>\n      <td>1.000000</td>\n      <td>-0.737663</td>\n    </tr>\n    <tr>\n      <th>MEDV</th>\n      <td>-0.388305</td>\n      <td>0.360445</td>\n      <td>-0.483725</td>\n      <td>0.175260</td>\n      <td>-0.427321</td>\n      <td>0.695360</td>\n      <td>-0.376955</td>\n      <td>0.249929</td>\n      <td>-0.381626</td>\n      <td>-0.468536</td>\n      <td>-0.507787</td>\n      <td>0.333461</td>\n      <td>-0.737663</td>\n      <td>1.000000</td>\n    </tr>\n  </tbody>\n</table>\n</div>"
     },
     "metadata": {},
     "output_type": "display_data"
    }
   ],
   "source": [
    "#pearson 상관계수 확인\n",
    "\n",
    "corr = df.corr(method= 'pearson')\n",
    "display(corr)"
   ],
   "metadata": {
    "collapsed": false,
    "pycharm": {
     "name": "#%%\n"
    }
   }
  },
  {
   "cell_type": "code",
   "execution_count": 6,
   "outputs": [
    {
     "data": {
      "text/plain": "CRIM      -0.388305\nZN         0.360445\nINDUS     -0.483725\nCHAS       0.175260\nNOX       -0.427321\nRM         0.695360\nAGE       -0.376955\nDIS        0.249929\nRAD       -0.381626\nTAX       -0.468536\nPTRATIO   -0.507787\nB          0.333461\nLSTAT     -0.737663\nMEDV       1.000000\nName: MEDV, dtype: float64"
     },
     "metadata": {},
     "output_type": "display_data"
    }
   ],
   "source": [
    "corrMEDV = corr['MEDV']\n",
    "display(corrMEDV)"
   ],
   "metadata": {
    "collapsed": false,
    "pycharm": {
     "name": "#%%\n"
    }
   }
  },
  {
   "cell_type": "code",
   "execution_count": 7,
   "outputs": [
    {
     "data": {
      "text/plain": "RM       0.695360\nLSTAT   -0.737663\nMEDV     1.000000\nName: MEDV, dtype: float64"
     },
     "metadata": {},
     "output_type": "display_data"
    }
   ],
   "source": [
    "sub = corrMEDV[corrMEDV.abs() > 0.6]\n",
    "display(sub)"
   ],
   "metadata": {
    "collapsed": false,
    "pycharm": {
     "name": "#%%\n"
    }
   }
  },
  {
   "cell_type": "code",
   "execution_count": null,
   "outputs": [],
   "source": [],
   "metadata": {
    "collapsed": false,
    "pycharm": {
     "name": "#%%\n"
    }
   }
  }
 ],
 "metadata": {
  "kernelspec": {
   "display_name": "Python 3",
   "language": "python",
   "name": "python3"
  },
  "language_info": {
   "codemirror_mode": {
    "name": "ipython",
    "version": 2
   },
   "file_extension": ".py",
   "mimetype": "text/x-python",
   "name": "python",
   "nbconvert_exporter": "python",
   "pygments_lexer": "ipython2",
   "version": "2.7.6"
  }
 },
 "nbformat": 4,
 "nbformat_minor": 0
}