{
  "nbformat": 4,
  "nbformat_minor": 0,
  "metadata": {
    "colab": {
      "name": "기계학습11주차실습자료.ipynb",
      "provenance": [],
      "collapsed_sections": []
    },
    "kernelspec": {
      "name": "python3",
      "display_name": "Python 3"
    },
    "language_info": {
      "name": "python"
    }
  },
  "cells": [
    {
      "cell_type": "markdown",
      "metadata": {
        "id": "Ztqgs-Il-KVD"
      },
      "source": [
        "# 기계학습 11주차 실습 자료\n",
        "#### 조교 : 김도경"
      ]
    },
    {
      "cell_type": "markdown",
      "metadata": {
        "id": "8DyLlZoy-SSm"
      },
      "source": [
        "지난주 내용 \n",
        "\n",
        "1. sklean이란?\n",
        "    - Scikit-learn \n",
        "    - 머신러닝에 사용되는 지도/비지도 학습 알고리즘을 제공하는 파이썬 라이브러리\n",
        "\n",
        "2. OR 데이터 인식\n",
        "\n",
        "    OR 데이터에 퍼셉트론 적용\n",
        "    - from sklearn.linear_model import Perceptron\n",
        "\n",
        "3. 필기 숫자 데이터 인식\n",
        "\n",
        "    3-1. sklearn이 제공하는 숫자 데이터에 퍼셉트론 \n",
        "    - from sklearn.linear_model import Perceptron\n",
        "    - accuracy : 93.74%\n",
        "    \n",
        "- 퍼셉트론의 한계\n",
        "    - 은닉층을 추가한 다층 퍼셉트론으로 비선형 확장이 필요하다 \n",
        "- 다층 퍼셉트론의 구조\n",
        "\n",
        "    3-2. sklearn이 제공하는 숫자 데이터에 다층 퍼셉트론 적용\n",
        "    - from sklearn.neural_network import MLPClassifier\n",
        "    - accuracy : 96.24%\n",
        "\n",
        "- 하이퍼 매개변수란 ?\n",
        "\n",
        "    모델의 구조와 모델의 학습 과정을 제어하는 역할\n",
        "\n",
        "4. MNIST 데이터셋으로 확장하기\n",
        "    - MNIST 필기 숫자 데이터셋\n",
        "    - 훈련 집합 60000자 + 테스트 집합 10000자\n",
        "    - 샘플은 28*28 맵으로 표현\n",
        "    \n",
        "    - from sklearn.neural_network import MLPClassifier\n",
        "    - accuracy : 97.77%\n",
        "\n",
        "-  하이퍼 매개변수 설정 가이드라인\n",
        "\n",
        "    - 논문이나 공식 문서를 참고  \n",
        "    - 라이브러리 함수가 제공하는 기본값 사용\n",
        "    - 중요한 하이퍼 매개변수를 골라 최적화"
      ]
    },
    {
      "cell_type": "code",
      "metadata": {
        "id": "Cy-aZe81-GG5"
      },
      "source": [
        "from sklearn.datasets import fetch_openml\n",
        "from sklearn.neural_network import MLPClassifier\n",
        "import matplotlib.pyplot as plt\n",
        "import numpy as np\n",
        "\n",
        "# MNIST 데이터셋을 읽고 훈련 집합과 테스트 집합으로 분할\n",
        "mnist = fetch_openml('mnist_784')\n",
        "mnist.data = mnist.data/255.0 # [0,255] 범위를 [0,1] 범위로 변환\n",
        "x_train = mnist.data[:60000]\n",
        "x_test = mnist.data[60000:]\n",
        "y_train = np.int16(mnist.target[:60000])\n",
        "y_test = np.int16(mnist.target[60000:])"
      ],
      "execution_count": null,
      "outputs": []
    },
    {
      "cell_type": "code",
      "metadata": {
        "colab": {
          "base_uri": "https://localhost:8080/"
        },
        "id": "qIh1ZagwDJ3T",
        "outputId": "a908f37f-5fa4-441e-a2d5-978e423b8567"
      },
      "source": [
        "print(x_train.shape)\n",
        "print(x_test.shape)\n",
        "print(y_train.shape)\n",
        "print(y_test.shape)"
      ],
      "execution_count": null,
      "outputs": [
        {
          "output_type": "stream",
          "text": [
            "(60000, 784)\n",
            "(10000, 784)\n",
            "(60000,)\n",
            "(10000,)\n"
          ],
          "name": "stdout"
        }
      ]
    },
    {
      "cell_type": "code",
      "metadata": {
        "colab": {
          "base_uri": "https://localhost:8080/",
          "height": 333
        },
        "id": "IRjiTIH5CieK",
        "outputId": "10e6ceb2-3a47-4a19-b3f8-aa115d436944"
      },
      "source": [
        "import matplotlib.pyplot as plt\n",
        "%matplotlib inline\n",
        "\n",
        "# 랜덤하게 몇 가지 data 가져오기\n",
        "random_pick = np.random.randint(low=0, high=10000, size=10)\n",
        "random_pick\n",
        "# array([3898, 6815, 6640, 2924,  451, 2688,  633, 6563, 5993, 4024])\n",
        "\n",
        "\n",
        "figure = plt.figure()\n",
        "figure.set_size_inches(12, 5)\n",
        "\n",
        "axes = []\n",
        "for i in range(1, 11):\n",
        "    axes.append(figure.add_subplot(2, 5, i))\n",
        "\n",
        "tmp_list = []\n",
        "for i in range(10):\n",
        "    tmp = mnist.data[60000 + random_pick[i]]\n",
        "    tmp = tmp.reshape(-1, 28)\n",
        "    tmp_list.append(tmp)\n",
        "    \n",
        "print(y_test[random_pick])\n",
        "\n",
        "for i in range(10):\n",
        "    axes[i].matshow(tmp_list[i])"
      ],
      "execution_count": null,
      "outputs": [
        {
          "output_type": "stream",
          "text": [
            "[3 2 6 1 7 8 5 0 9 1]\n"
          ],
          "name": "stdout"
        },
        {
          "output_type": "display_data",
          "data": {
            "image/png": "[encoded data removed]",
            "text/plain": [
              "<Figure size 864x360 with 10 Axes>"
            ]
          },
          "metadata": {
            "tags": [],
            "needs_background": "light"
          }
        }
      ]
    },
    {
      "cell_type": "code",
      "metadata": {
        "colab": {
          "base_uri": "https://localhost:8080/"
        },
        "id": "ndMJZCKrCfEC",
        "outputId": "c03d36b5-3ac2-41e9-aa75-3dda15c05722"
      },
      "source": [
        "\n",
        "# MLP 분류기 모델을 학습\n",
        "mlp = MLPClassifier(hidden_layer_sizes = (100), learning_rate_init = 0.001, batch_size = 512, max_iter = 300, solver = 'adam', verbose = True)\n",
        "mlp.fit(x_train, y_train) # digit 데이터로 모델링 (모델 학습)\n",
        "\n",
        "# 테스트 집합으로 예측\n",
        "res = mlp.predict(x_test)  \n",
        "\n",
        "# 혼동 행렬 \n",
        "conf = np.zeros((10,10))\n",
        "\n",
        "for i in range(len(res)):\n",
        "  conf[res[i]][y_test[i]] += 1\n",
        "print(conf)\n",
        "\n",
        "# 정확률 계산\n",
        "no_correct = 0\n",
        "for i in range(10):\n",
        "  no_correct += conf[i][i]\n",
        "accuracy = no_correct/len(res)\n",
        "print('\\n테스트 집합에 대한 정확률은 ', accuracy*100,\"%입니다.\")"
      ],
      "execution_count": null,
      "outputs": [
        {
          "output_type": "stream",
          "text": [
            "Iteration 1, loss = 0.61333281\n",
            "Iteration 2, loss = 0.26001243\n",
            "Iteration 3, loss = 0.20418999\n",
            "Iteration 4, loss = 0.17009150\n",
            "Iteration 5, loss = 0.14638391\n",
            "Iteration 6, loss = 0.12873058\n",
            "Iteration 7, loss = 0.11479032\n",
            "Iteration 8, loss = 0.10232744\n",
            "Iteration 9, loss = 0.09203160\n",
            "Iteration 10, loss = 0.08428087\n",
            "Iteration 11, loss = 0.07635587\n",
            "Iteration 12, loss = 0.07091434\n",
            "Iteration 13, loss = 0.06468958\n",
            "Iteration 14, loss = 0.06059511\n",
            "Iteration 15, loss = 0.05487767\n",
            "Iteration 16, loss = 0.05119480\n",
            "Iteration 17, loss = 0.04720889\n",
            "Iteration 18, loss = 0.04507401\n",
            "Iteration 19, loss = 0.04098583\n",
            "Iteration 20, loss = 0.03899074\n",
            "Iteration 21, loss = 0.03586293\n",
            "Iteration 22, loss = 0.03324938\n",
            "Iteration 23, loss = 0.03100882\n",
            "Iteration 24, loss = 0.02889978\n",
            "Iteration 25, loss = 0.02673655\n",
            "Iteration 26, loss = 0.02489685\n",
            "Iteration 27, loss = 0.02328528\n",
            "Iteration 28, loss = 0.02124257\n",
            "Iteration 29, loss = 0.02041403\n",
            "Iteration 30, loss = 0.01889248\n",
            "Iteration 31, loss = 0.01734721\n",
            "Iteration 32, loss = 0.01604144\n",
            "Iteration 33, loss = 0.01509249\n",
            "Iteration 34, loss = 0.01405010\n",
            "Iteration 35, loss = 0.01336599\n",
            "Iteration 36, loss = 0.01206935\n",
            "Iteration 37, loss = 0.01130807\n",
            "Iteration 38, loss = 0.01103169\n",
            "Iteration 39, loss = 0.00976296\n",
            "Iteration 40, loss = 0.00922583\n",
            "Iteration 41, loss = 0.00842533\n",
            "Iteration 42, loss = 0.00796385\n",
            "Iteration 43, loss = 0.00745962\n",
            "Iteration 44, loss = 0.00679517\n",
            "Iteration 45, loss = 0.00641245\n",
            "Iteration 46, loss = 0.00619445\n",
            "Iteration 47, loss = 0.00568724\n",
            "Iteration 48, loss = 0.00557903\n",
            "Iteration 49, loss = 0.00516688\n",
            "Iteration 50, loss = 0.00470913\n",
            "Iteration 51, loss = 0.00417806\n",
            "Iteration 52, loss = 0.00409630\n",
            "Iteration 53, loss = 0.00374761\n",
            "Iteration 54, loss = 0.00368975\n",
            "Iteration 55, loss = 0.00345459\n",
            "Iteration 56, loss = 0.00315124\n",
            "Iteration 57, loss = 0.00291812\n",
            "Iteration 58, loss = 0.00268730\n",
            "Iteration 59, loss = 0.00246718\n",
            "Iteration 60, loss = 0.00280536\n",
            "Iteration 61, loss = 0.00229530\n",
            "Iteration 62, loss = 0.00203733\n",
            "Iteration 63, loss = 0.00193226\n",
            "Iteration 64, loss = 0.00183994\n",
            "Iteration 65, loss = 0.00175497\n",
            "Iteration 66, loss = 0.00165317\n",
            "Iteration 67, loss = 0.00164557\n",
            "Iteration 68, loss = 0.00151063\n",
            "Iteration 69, loss = 0.00141775\n",
            "Iteration 70, loss = 0.00131880\n",
            "Iteration 71, loss = 0.00125932\n",
            "Iteration 72, loss = 0.00120647\n",
            "Iteration 73, loss = 0.00119616\n",
            "Iteration 74, loss = 0.00108193\n",
            "Iteration 75, loss = 0.00101820\n",
            "Iteration 76, loss = 0.00097723\n",
            "Iteration 77, loss = 0.00093821\n",
            "Iteration 78, loss = 0.00091854\n",
            "Iteration 79, loss = 0.00087794\n",
            "Iteration 80, loss = 0.00084602\n",
            "Iteration 81, loss = 0.00080548\n",
            "Iteration 82, loss = 0.00079868\n",
            "Iteration 83, loss = 0.00077073\n",
            "Iteration 84, loss = 0.00071114\n",
            "Iteration 85, loss = 0.00068385\n",
            "Training loss did not improve more than tol=0.000100 for 10 consecutive epochs. Stopping.\n",
            "[[9.710e+02 0.000e+00 7.000e+00 0.000e+00 0.000e+00 2.000e+00 4.000e+00\n",
            "  0.000e+00 5.000e+00 2.000e+00]\n",
            " [1.000e+00 1.123e+03 1.000e+00 1.000e+00 0.000e+00 0.000e+00 2.000e+00\n",
            "  1.000e+00 0.000e+00 2.000e+00]\n",
            " [0.000e+00 4.000e+00 1.007e+03 3.000e+00 1.000e+00 1.000e+00 3.000e+00\n",
            "  9.000e+00 3.000e+00 0.000e+00]\n",
            " [0.000e+00 1.000e+00 3.000e+00 9.890e+02 1.000e+00 9.000e+00 1.000e+00\n",
            "  2.000e+00 8.000e+00 7.000e+00]\n",
            " [2.000e+00 0.000e+00 2.000e+00 0.000e+00 9.630e+02 2.000e+00 4.000e+00\n",
            "  0.000e+00 6.000e+00 7.000e+00]\n",
            " [2.000e+00 1.000e+00 0.000e+00 5.000e+00 0.000e+00 8.690e+02 1.000e+01\n",
            "  0.000e+00 2.000e+00 4.000e+00]\n",
            " [1.000e+00 2.000e+00 2.000e+00 1.000e+00 5.000e+00 2.000e+00 9.320e+02\n",
            "  0.000e+00 1.000e+00 1.000e+00]\n",
            " [1.000e+00 1.000e+00 6.000e+00 4.000e+00 3.000e+00 1.000e+00 1.000e+00\n",
            "  1.008e+03 5.000e+00 7.000e+00]\n",
            " [1.000e+00 3.000e+00 4.000e+00 2.000e+00 1.000e+00 3.000e+00 1.000e+00\n",
            "  3.000e+00 9.420e+02 3.000e+00]\n",
            " [1.000e+00 0.000e+00 0.000e+00 5.000e+00 8.000e+00 3.000e+00 0.000e+00\n",
            "  5.000e+00 2.000e+00 9.760e+02]]\n",
            "\n",
            "테스트 집합에 대한 정확률은  97.8 %입니다.\n"
          ],
          "name": "stdout"
        }
      ]
    },
    {
      "cell_type": "code",
      "metadata": {
        "id": "aC_-AdBSGJGl"
      },
      "source": [
        ""
      ],
      "execution_count": null,
      "outputs": []
    },
    {
      "cell_type": "markdown",
      "metadata": {
        "id": "fLvtRJ3NGJ9Y"
      },
      "source": [
        "##1. 단일 하이퍼 파라메터 최적화 : validation_curve 함수 이용\n",
        "\n",
        "- validation_curve 함수로 최적의 은닉 노드 개수 찾기\n",
        "- 병렬 처리를 이용해 학습 시간 단축하기"
      ]
    },
    {
      "cell_type": "code",
      "metadata": {
        "colab": {
          "base_uri": "https://localhost:8080/",
          "height": 295
        },
        "id": "Pvy9G2NiChgY",
        "outputId": "6846ca89-ebf4-4aa9-8de0-a3ca83d3a493"
      },
      "source": [
        "from sklearn import datasets \n",
        "from sklearn.neural_network import MLPClassifier\n",
        "from sklearn.model_selection import train_test_split, validation_curve\n",
        "import matplotlib.pyplot as plt\n",
        "import numpy as np\n",
        "import time\n",
        "\n",
        "# 데이터셋을 읽고 훈련 집합과 테스트 집합으로 분할\n",
        "digit = datasets.load_digits()\n",
        "x_train, x_test, y_train, y_test = train_test_split(digit.data, digit.target, train_size = 0.6)# 훈련,테스트를 6:4로 분할\n",
        "\n",
        "# 다층 퍼셉트론을 교차 검증으로 성능평가 (소요 시간 측정 포함)\n",
        "start = time.time() # 시작 시각\n",
        "mlp = MLPClassifier(learning_rate_init=0.001, batch_size=32, max_iter=300,solver='sgd')\n",
        "prange = range(50,1001,50)# 50에서 시작하여 50씩 증가시키면서 1000까지 조사\n",
        "# 코어 4개를 사용하여 병렬 처리 , 10겹 교차 검증으로 성능 측정\n",
        "train_score,test_score = validation_curve(mlp,x_train,y_train,param_name=\"hidden_layer_sizes\",param_range=prange,cv=10,scoring='accuracy',n_jobs=4)\n",
        "end = time.time() #끝난 시각 \n",
        "\n",
        "\n",
        "# 교차 검증 결과의 평균과 분산 구하기 \n",
        "train_mean = np.mean(train_score,axis = 1)\n",
        "train_std = np.std(train_score, axis = 1)\n",
        "test_mean = np.mean(test_score,axis = 1)\n",
        "test_std = np.std(test_score, axis = 1)\n",
        "\n",
        "# 성능 그래프 그리기 \n",
        "plt.plot(prange, train_mean, label = 'Train score', color='r')\n",
        "plt.plot(prange, test_mean, label = 'Test score', color='b')\n",
        "plt.fill_between(prange, train_mean-train_std, train_mean+train_std,alpha=0.2,color='r')\n",
        "plt.fill_between(prange, test_mean-test_std, test_mean+test_std,alpha=0.2,color='r')\n",
        "plt.legend(loc='best')\n",
        "plt.title('Validation Curve with MLP')\n",
        "plt.xlabel('Number of hidden nodes')\n",
        "plt.ylabel('Accuracy')\n",
        "plt.ylim(0.9,1.01)\n",
        "plt.grid(axis='both')\n",
        "plt.show()"
      ],
      "execution_count": 2,
      "outputs": [
        {
          "output_type": "display_data",
          "data": {
            "image/png": "[encoded data removed]",
            "text/plain": [
              "<Figure size 432x288 with 1 Axes>"
            ]
          },
          "metadata": {
            "tags": [],
            "needs_background": "light"
          }
        }
      ]
    },
    {
      "cell_type": "code",
      "metadata": {
        "colab": {
          "base_uri": "https://localhost:8080/"
        },
        "id": "oxJfL9jq7BbH",
        "outputId": "f826bb6e-f98d-4438-f940-6573fda8669b"
      },
      "source": [
        "end - start"
      ],
      "execution_count": 5,
      "outputs": [
        {
          "output_type": "execute_result",
          "data": {
            "text/plain": [
              "724.2898695468903"
            ]
          },
          "metadata": {
            "tags": []
          },
          "execution_count": 5
        }
      ]
    },
    {
      "cell_type": "code",
      "metadata": {
        "colab": {
          "base_uri": "https://localhost:8080/"
        },
        "id": "bD8VYJHkI-TH",
        "outputId": "e8f027f2-19b2-48bf-ba82-a5cfa8fa2beb"
      },
      "source": [
        "best_number_nodes = prange[np.argmax(test_mean)]  #최적의 은닉 노드 개수\n",
        "print('\\n최적의 은닉층의 노드 개수는 %d개입니다.\\n'% best_number_nodes)\n",
        "\n",
        "# 최적의 은닉 노드 개수로 모델링 \n",
        "\n",
        "mlp = MLPClassifier(hidden_layer_sizes = (best_number_nodes), learning_rate_init = 0.001, batch_size = 512, max_iter = 300, solver = 'adam', verbose = True)\n",
        "mlp.fit(x_train, y_train) # digit 데이터로 모델링 (모델 학습)\n",
        "\n",
        "# 테스트 집합으로 예측\n",
        "res = mlp.predict(x_test)  \n",
        "\n",
        "# 혼동 행렬 \n",
        "conf = np.zeros((10,10))\n",
        "\n",
        "for i in range(len(res)):\n",
        "  conf[res[i]][y_test[i]] += 1\n",
        "print(conf)\n",
        "\n",
        "# 정확률 계산\n",
        "no_correct = 0\n",
        "for i in range(10):\n",
        "  no_correct += conf[i][i]\n",
        "accuracy = no_correct/len(res)\n",
        "print('\\n테스트 집합에 대한 정확률은 ', accuracy*100,\"%입니다.\")"
      ],
      "execution_count": 3,
      "outputs": [
        {
          "output_type": "stream",
          "text": [
            "\n",
            "최적의 은닉층의 노드 개수는 900개입니다.\n",
            "\n",
            "Iteration 1, loss = 4.65010450\n",
            "Iteration 2, loss = 2.09435622\n",
            "Iteration 3, loss = 0.86955751\n",
            "Iteration 4, loss = 0.53330853\n",
            "Iteration 5, loss = 0.38482900\n",
            "Iteration 6, loss = 0.22967788\n",
            "Iteration 7, loss = 0.20260748\n",
            "Iteration 8, loss = 0.16785629\n",
            "Iteration 9, loss = 0.15347828\n",
            "Iteration 10, loss = 0.10893468\n",
            "Iteration 11, loss = 0.07680581\n",
            "Iteration 12, loss = 0.08281106\n",
            "Iteration 13, loss = 0.08162733\n",
            "Iteration 14, loss = 0.06544231\n",
            "Iteration 15, loss = 0.05982703\n",
            "Iteration 16, loss = 0.05357637\n",
            "Iteration 17, loss = 0.04631789\n",
            "Iteration 18, loss = 0.04186189\n",
            "Iteration 19, loss = 0.03642762\n",
            "Iteration 20, loss = 0.03722675\n",
            "Iteration 21, loss = 0.03550029\n",
            "Iteration 22, loss = 0.03047436\n",
            "Iteration 23, loss = 0.02689981\n",
            "Iteration 24, loss = 0.02556187\n",
            "Iteration 25, loss = 0.02402029\n",
            "Iteration 26, loss = 0.02207543\n",
            "Iteration 27, loss = 0.02090854\n",
            "Iteration 28, loss = 0.02034799\n",
            "Iteration 29, loss = 0.01924357\n",
            "Iteration 30, loss = 0.01808072\n",
            "Iteration 31, loss = 0.01726965\n",
            "Iteration 32, loss = 0.01639414\n",
            "Iteration 33, loss = 0.01574169\n",
            "Iteration 34, loss = 0.01500011\n",
            "Iteration 35, loss = 0.01432583\n",
            "Iteration 36, loss = 0.01396105\n",
            "Iteration 37, loss = 0.01439110\n",
            "Iteration 38, loss = 0.01348135\n",
            "Iteration 39, loss = 0.01246988\n",
            "Iteration 40, loss = 0.01256563\n",
            "Iteration 41, loss = 0.01222035\n",
            "Iteration 42, loss = 0.01109594\n",
            "Iteration 43, loss = 0.01069059\n",
            "Iteration 44, loss = 0.01031769\n",
            "Iteration 45, loss = 0.00998002\n",
            "Iteration 46, loss = 0.00997881\n",
            "Iteration 47, loss = 0.00932945\n",
            "Iteration 48, loss = 0.00923116\n",
            "Iteration 49, loss = 0.00956791\n",
            "Iteration 50, loss = 0.00916066\n",
            "Iteration 51, loss = 0.00834955\n",
            "Iteration 52, loss = 0.00810343\n",
            "Iteration 53, loss = 0.00798354\n",
            "Iteration 54, loss = 0.00760999\n",
            "Iteration 55, loss = 0.00717782\n",
            "Iteration 56, loss = 0.00700271\n",
            "Iteration 57, loss = 0.00689243\n",
            "Iteration 58, loss = 0.00680890\n",
            "Iteration 59, loss = 0.00652817\n",
            "Iteration 60, loss = 0.00623250\n",
            "Iteration 61, loss = 0.00597596\n",
            "Iteration 62, loss = 0.00579006\n",
            "Iteration 63, loss = 0.00576554\n",
            "Iteration 64, loss = 0.00559900\n",
            "Iteration 65, loss = 0.00530601\n",
            "Iteration 66, loss = 0.00515403\n",
            "Iteration 67, loss = 0.00507224\n",
            "Iteration 68, loss = 0.00486448\n",
            "Iteration 69, loss = 0.00470760\n",
            "Iteration 70, loss = 0.00460364\n",
            "Iteration 71, loss = 0.00449416\n",
            "Iteration 72, loss = 0.00433453\n",
            "Iteration 73, loss = 0.00417673\n",
            "Iteration 74, loss = 0.00404456\n",
            "Iteration 75, loss = 0.00392543\n",
            "Iteration 76, loss = 0.00380945\n",
            "Iteration 77, loss = 0.00370484\n",
            "Iteration 78, loss = 0.00363140\n",
            "Iteration 79, loss = 0.00350252\n",
            "Iteration 80, loss = 0.00341740\n",
            "Iteration 81, loss = 0.00332267\n",
            "Iteration 82, loss = 0.00323739\n",
            "Iteration 83, loss = 0.00312928\n",
            "Iteration 84, loss = 0.00305274\n",
            "Iteration 85, loss = 0.00297970\n",
            "Iteration 86, loss = 0.00288670\n",
            "Iteration 87, loss = 0.00279039\n",
            "Iteration 88, loss = 0.00273574\n",
            "Iteration 89, loss = 0.00267990\n",
            "Iteration 90, loss = 0.00257963\n",
            "Iteration 91, loss = 0.00253218\n",
            "Iteration 92, loss = 0.00261657\n",
            "Iteration 93, loss = 0.00249187\n",
            "Iteration 94, loss = 0.00239029\n",
            "Iteration 95, loss = 0.00234370\n",
            "Iteration 96, loss = 0.00226254\n",
            "Iteration 97, loss = 0.00219687\n",
            "Iteration 98, loss = 0.00213783\n",
            "Iteration 99, loss = 0.00209040\n",
            "Iteration 100, loss = 0.00204025\n",
            "Iteration 101, loss = 0.00197859\n",
            "Iteration 102, loss = 0.00197577\n",
            "Iteration 103, loss = 0.00203817\n",
            "Iteration 104, loss = 0.00194511\n",
            "Iteration 105, loss = 0.00182241\n",
            "Iteration 106, loss = 0.00181336\n",
            "Iteration 107, loss = 0.00184593\n",
            "Iteration 108, loss = 0.00171477\n",
            "Iteration 109, loss = 0.00184457\n",
            "Iteration 110, loss = 0.00184789\n",
            "Iteration 111, loss = 0.00163794\n",
            "Iteration 112, loss = 0.00161857\n",
            "Iteration 113, loss = 0.00169444\n",
            "Iteration 114, loss = 0.00157000\n",
            "Iteration 115, loss = 0.00146582\n",
            "Iteration 116, loss = 0.00145288\n",
            "Iteration 117, loss = 0.00142158\n",
            "Iteration 118, loss = 0.00137241\n",
            "Iteration 119, loss = 0.00133658\n",
            "Iteration 120, loss = 0.00132377\n",
            "Iteration 121, loss = 0.00130231\n",
            "Iteration 122, loss = 0.00126643\n",
            "Iteration 123, loss = 0.00124651\n",
            "Iteration 124, loss = 0.00121941\n",
            "Iteration 125, loss = 0.00120823\n",
            "Iteration 126, loss = 0.00119901\n",
            "Training loss did not improve more than tol=0.000100 for 10 consecutive epochs. Stopping.\n",
            "[[66.  0.  0.  0.  0.  0.  0.  0.  0.  0.]\n",
            " [ 0. 69.  0.  0.  0.  0.  0.  0.  2.  0.]\n",
            " [ 0.  0. 72.  1.  0.  0.  0.  0.  0.  0.]\n",
            " [ 0.  0.  0. 79.  0.  0.  0.  0.  0.  0.]\n",
            " [ 0.  0.  0.  0. 68.  0.  0.  0.  0.  0.]\n",
            " [ 0.  0.  0.  0.  0. 79.  0.  0.  0.  1.]\n",
            " [ 0.  0.  0.  0.  0.  0. 68.  0.  0.  0.]\n",
            " [ 0.  0.  0.  0.  0.  0.  0. 70.  0.  1.]\n",
            " [ 0.  0.  0.  0.  0.  0.  1.  1. 70.  3.]\n",
            " [ 0.  0.  0.  0.  0.  0.  0.  1.  0. 67.]]\n",
            "\n",
            "테스트 집합에 대한 정확률은  98.47009735744089 %입니다.\n"
          ],
          "name": "stdout"
        }
      ]
    },
    {
      "cell_type": "markdown",
      "metadata": {
        "id": "4072yA9HJzK5"
      },
      "source": [
        "- 병렬 처리를 이용해 학습 시간 단축하기 \n",
        "    - 데이터가 크거나 하이퍼 파라메터 최적화를 위해 학습을 여러번 수행하는 등 시간이 많이 걸리는 프로그래밍일 경우 병렬처리 기능을 활용해 실행 시간을 줄이는데 신경 써야 된다. \n",
        "    - GPU를 장착하지 않아도 멀티 코어 마이크로프로세서를 CPU로 사용하기때문에 쿼드 코어 마이크로프로세서가 장착되어 있다면 4개의 작업을 병렬로 실행할 수 있다. \n",
        "    - validation_curve 함수의 마지막 매개변수인 n_jobs=4는 작업 4개를 동시에 병렬로 실행하라는 설정이다. \n",
        "    - 코어를 하나로 작업했을 때에 비해 4개를 병렬로 실행함으로써 속도를 두배 정도 높일 수 있다 \n",
        "\n",
        "        - __직접 해보기!__"
      ]
    },
    {
      "cell_type": "code",
      "metadata": {
        "id": "uAwiMpJvJsei"
      },
      "source": [
        ""
      ],
      "execution_count": null,
      "outputs": []
    }
  ]
}