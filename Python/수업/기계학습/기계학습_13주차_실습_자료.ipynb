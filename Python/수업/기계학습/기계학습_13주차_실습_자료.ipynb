{
  "nbformat": 4,
  "nbformat_minor": 0,
  "metadata": {
    "colab": {
      "name": "기계학습 13주차 실습 자료.ipynb",
      "provenance": [],
      "collapsed_sections": []
    },
    "kernelspec": {
      "name": "python3",
      "display_name": "Python 3"
    },
    "language_info": {
      "name": "python"
    }
  },
  "cells": [
    {
      "cell_type": "markdown",
      "metadata": {
        "id": "P48i3gy6_GMN"
      },
      "source": [
        "# 기계학습 13주차 실습 자료\n",
        "#### 조교 : 김도경"
      ]
    },
    {
      "cell_type": "markdown",
      "metadata": {
        "id": "NSOeX-Ju_cjx"
      },
      "source": [
        "# 지난주 내용\n",
        "1. Tensorflow란?\n",
        "    - 구글에서 만든, 딥러닝 프로그램을 쉽게 구현할 수 있도록 다양한 기능을 제공해주는 라이브러리\n",
        "2. Tensorflow 장점\n",
        "3. tensorflow와 numpy 호환 확인\n",
        "4. 딥러닝에서 텐서\n",
        "5. tensorflow가 제공하는 데이터셋의 텐서 구조\n",
        "    - MNIST, cifar10, Boston housing, Reuters 데이터셋의 텐서 구조 확인\n",
        "6. tensorflow 프로그래밍 : 퍼셉트론 학습\n",
        "    - Variable 함수는 기울기를 구하고 가중치를 갱신하는 연산을 제공\n",
        "7. Keras 사용하기\n",
        "8. 케라스 프로그래밍 : 퍼셉트론 학습\n",
        "    - 데이터 구축 -> 신경망 구조 설계 -> 학습 -> 예측\n",
        "9. 다층 퍼셉트론으로 MNIST 데이터를 인식하는 프로그래밍\n",
        "10. 학습 곡선 시각화\n",
        "    - hist 객체가 가진 정보를 이용하여 학습 곡선을 그림\n"
      ]
    },
    {
      "cell_type": "markdown",
      "metadata": {
        "id": "b1sOKaf0BFNp"
      },
      "source": [
        "# fashion MNIST 데이터\n",
        "- MNIST와 비슷\n",
        "- 내용이 패션 관련 그림이고 레이블이 {T-shirt/top, Trouser, Pullover, Dress, Coat, Sandal, Shirt, Sneaker, Bag, Ankle boot}인 점만 다름\n"
      ]
    },
    {
      "cell_type": "markdown",
      "metadata": {
        "id": "md-0fXokBgep"
      },
      "source": [
        "# fashion MNIST를 인식하는 프로그램 \n",
        "- 단계 1: 데이터 준비"
      ]
    },
    {
      "cell_type": "code",
      "metadata": {
        "id": "qzbsUnynBktj"
      },
      "source": [
        "import numpy as np\n",
        "import tensorflow as tf\n",
        "from tensorflow.keras.datasets import fashion_mnist\n",
        "\n",
        "from tensorflow.keras.models import Sequential # 층을 한 줄로 쌓는데 사용 \n",
        "from tensorflow.keras.layers import Dense\n",
        "from tensorflow.keras.optimizers import Adam\n",
        "\n",
        "# fashion_mnist 읽어 와서 신경망에 입력할 형태로 변환 \n",
        "(x_train, y_train), (x_test,y_test) = fashion_mnist.load_data()\n",
        "x_train = x_train.reshape(60000,784) # reshape 함수로 2차원 구조의 텐서를 1차원 구조로 변환 \n",
        "x_test = x_test.reshape(10000,784)\n",
        "x_train = x_train.astype(np.float32)/255.0 # float 32 데이터형으로 변환하고 [0,255] 범위를 [0,1] 범위로 정규화\n",
        "x_test=x_test.astype(np.float32)/255.0 # ndarray로 변환 \n",
        "y_train = tf.keras.utils.to_categorical(y_train,10) # 레이블을 원핫 코드로 변환 \n",
        "y_test = tf.keras.utils.to_categorical(y_test,10)\n"
      ],
      "execution_count": null,
      "outputs": []
    },
    {
      "cell_type": "code",
      "metadata": {
        "colab": {
          "base_uri": "https://localhost:8080/",
          "height": 495
        },
        "id": "nGItoij3G71V",
        "outputId": "4e3d075d-2d70-4c4f-c621-3baa3d2a4e71"
      },
      "source": [
        "import matplotlib.pyplot as plt\n",
        "%matplotlib inline\n",
        "\n",
        "# 랜덤하게 몇 가지 data 가져오기\n",
        "random_pick = np.random.randint(low=0, high=10000, size=10)\n",
        "random_pick\n",
        "# array([3898, 6815, 6640, 2924,  451, 2688,  633, 6563, 5993, 4024])\n",
        "\n",
        "\n",
        "figure = plt.figure()\n",
        "figure.set_size_inches(12, 5)\n",
        "\n",
        "axes = []\n",
        "for i in range(1, 11):\n",
        "    axes.append(figure.add_subplot(2, 5, i))\n",
        "\n",
        "tmp_list = []\n",
        "for i in range(10):\n",
        "    tmp = x_train[60000 - random_pick[i]]\n",
        "    tmp = tmp.reshape(-1, 28)\n",
        "    tmp_list.append(tmp)\n",
        "    \n",
        "print(y_test[random_pick])\n",
        "\n",
        "for i in range(10):\n",
        "    axes[i].matshow(tmp_list[i])"
      ],
      "execution_count": null,
      "outputs": [
        {
          "output_type": "stream",
          "text": [
            "[[0. 0. 1. 0. 0. 0. 0. 0. 0. 0.]\n",
            " [0. 0. 0. 0. 0. 0. 1. 0. 0. 0.]\n",
            " [0. 0. 0. 0. 0. 0. 0. 0. 0. 1.]\n",
            " [0. 0. 0. 0. 0. 0. 0. 1. 0. 0.]\n",
            " [0. 0. 0. 0. 0. 1. 0. 0. 0. 0.]\n",
            " [0. 0. 1. 0. 0. 0. 0. 0. 0. 0.]\n",
            " [0. 0. 0. 0. 1. 0. 0. 0. 0. 0.]\n",
            " [0. 0. 0. 1. 0. 0. 0. 0. 0. 0.]\n",
            " [0. 0. 0. 0. 0. 0. 0. 1. 0. 0.]\n",
            " [0. 0. 0. 0. 0. 0. 1. 0. 0. 0.]]\n"
          ],
          "name": "stdout"
        },
        {
          "output_type": "display_data",
          "data": {
            "image/png": "[encoded data removed]",
            "text/plain": [
              "<Figure size 864x360 with 10 Axes>"
            ]
          },
          "metadata": {
            "tags": [],
            "needs_background": "light"
          }
        }
      ]
    },
    {
      "cell_type": "markdown",
      "metadata": {
        "id": "csxH6ApYB5lm"
      },
      "source": [
        "- 단계 2 : 신경망 구조 설계\n",
        "  - 신경망의 입력층, 은닉층, 출력층의 노드 개수 설정 \n",
        "  - Sequential 모델을 생성하여 mlp 객체에 저장 \n",
        "  - 은닉층을 추가 (input_shape은 입력층, units은 현재 쌓고 있는 은닉층으로 설정) \n",
        "  - 출력층을 추가 (input_shape은 생략 가능, units은 현재 쌓고 있는 출력층으로 설정) "
      ]
    },
    {
      "cell_type": "code",
      "metadata": {
        "id": "gcJO3wk6B6F6"
      },
      "source": [
        "n_input = 784\n",
        "n_hidden=1024\n",
        "n_output=10\n",
        "\n",
        "mlp = Sequential()\n",
        "mlp.add(Dense(units = n_hidden, activation='tanh', input_shape=(n_input,),kernel_initializer='random_uniform',bias_initializer='zeros'))\n",
        "mlp.add(Dense(units = n_output, activation='tanh', kernel_initializer='random_uniform',bias_initializer='zeros'))"
      ],
      "execution_count": null,
      "outputs": []
    },
    {
      "cell_type": "markdown",
      "metadata": {
        "id": "AQhcwnMMCFTp"
      },
      "source": [
        "- 단계 3 : 신경망 학습 \n",
        "  - compile 함수로 학습을 준비함 (loss 매개변수는 손실함수, optimizers는 옵티마이저 설정) \n",
        "  - fit 함수는 실제 학습을 수행(batch_size는 미니배치 크기, epochs는 최대 학습수, validation_data는 학습 도중에 사용할 검증 집합 설정)\n",
        "\n",
        "- 단계 4 : 예측\n",
        "  - evaluate 함수로 accuracy 측정 "
      ]
    },
    {
      "cell_type": "code",
      "metadata": {
        "colab": {
          "base_uri": "https://localhost:8080/"
        },
        "id": "chs3FVXwB9B5",
        "outputId": "caad46b9-7265-4685-fa9a-bd457af2db2f"
      },
      "source": [
        "# 신경망 학습\n",
        "mlp.compile(loss='mean_squared_error',optimizer = Adam(learning_rate=0.001),metrics=['accuracy'])\n",
        "hist = mlp.fit(x_train,y_train,batch_size = 128, epochs=30,validation_data = (x_test,y_test),verbose=2)\n",
        "\n",
        "# 학습된 신경망으로 예측\n",
        "res = mlp.evaluate(x_test,y_test,verbose = 0)\n",
        "print('accuracy = ',res[1]*100)"
      ],
      "execution_count": null,
      "outputs": [
        {
          "output_type": "stream",
          "text": [
            "Epoch 1/30\n",
            "469/469 - 6s - loss: 0.0723 - accuracy: 0.7099 - val_loss: 0.0335 - val_accuracy: 0.8261\n",
            "Epoch 2/30\n",
            "469/469 - 6s - loss: 0.0302 - accuracy: 0.8439 - val_loss: 0.0302 - val_accuracy: 0.8380\n",
            "Epoch 3/30\n",
            "469/469 - 6s - loss: 0.0267 - accuracy: 0.8587 - val_loss: 0.0264 - val_accuracy: 0.8496\n",
            "Epoch 4/30\n",
            "469/469 - 6s - loss: 0.0249 - accuracy: 0.8677 - val_loss: 0.0292 - val_accuracy: 0.8498\n",
            "Epoch 5/30\n",
            "469/469 - 6s - loss: 0.0236 - accuracy: 0.8751 - val_loss: 0.0254 - val_accuracy: 0.8594\n",
            "Epoch 6/30\n",
            "469/469 - 6s - loss: 0.0225 - accuracy: 0.8808 - val_loss: 0.0258 - val_accuracy: 0.8660\n",
            "Epoch 7/30\n",
            "469/469 - 6s - loss: 0.0213 - accuracy: 0.8861 - val_loss: 0.0257 - val_accuracy: 0.8668\n",
            "Epoch 8/30\n",
            "469/469 - 6s - loss: 0.0206 - accuracy: 0.8901 - val_loss: 0.0223 - val_accuracy: 0.8745\n",
            "Epoch 9/30\n",
            "469/469 - 6s - loss: 0.0198 - accuracy: 0.8947 - val_loss: 0.0224 - val_accuracy: 0.8770\n",
            "Epoch 10/30\n",
            "469/469 - 6s - loss: 0.0194 - accuracy: 0.8962 - val_loss: 0.0236 - val_accuracy: 0.8785\n",
            "Epoch 11/30\n",
            "469/469 - 6s - loss: 0.0189 - accuracy: 0.9010 - val_loss: 0.0204 - val_accuracy: 0.8802\n",
            "Epoch 12/30\n",
            "469/469 - 6s - loss: 0.0184 - accuracy: 0.9025 - val_loss: 0.0203 - val_accuracy: 0.8824\n",
            "Epoch 13/30\n",
            "469/469 - 6s - loss: 0.0179 - accuracy: 0.9064 - val_loss: 0.0216 - val_accuracy: 0.8788\n",
            "Epoch 14/30\n",
            "469/469 - 6s - loss: 0.0177 - accuracy: 0.9093 - val_loss: 0.0224 - val_accuracy: 0.8822\n",
            "Epoch 15/30\n",
            "469/469 - 6s - loss: 0.0170 - accuracy: 0.9117 - val_loss: 0.0193 - val_accuracy: 0.8868\n",
            "Epoch 16/30\n",
            "469/469 - 6s - loss: 0.0169 - accuracy: 0.9138 - val_loss: 0.0205 - val_accuracy: 0.8846\n",
            "Epoch 17/30\n",
            "469/469 - 6s - loss: 0.0165 - accuracy: 0.9160 - val_loss: 0.0208 - val_accuracy: 0.8825\n",
            "Epoch 18/30\n",
            "469/469 - 6s - loss: 0.0162 - accuracy: 0.9188 - val_loss: 0.0203 - val_accuracy: 0.8902\n",
            "Epoch 19/30\n",
            "469/469 - 6s - loss: 0.0159 - accuracy: 0.9199 - val_loss: 0.0201 - val_accuracy: 0.8879\n",
            "Epoch 20/30\n",
            "469/469 - 6s - loss: 0.0154 - accuracy: 0.9237 - val_loss: 0.0204 - val_accuracy: 0.8900\n",
            "Epoch 21/30\n",
            "469/469 - 6s - loss: 0.0153 - accuracy: 0.9247 - val_loss: 0.0196 - val_accuracy: 0.8892\n",
            "Epoch 22/30\n",
            "469/469 - 6s - loss: 0.0149 - accuracy: 0.9270 - val_loss: 0.0190 - val_accuracy: 0.8937\n",
            "Epoch 23/30\n",
            "469/469 - 6s - loss: 0.0148 - accuracy: 0.9291 - val_loss: 0.0190 - val_accuracy: 0.8924\n",
            "Epoch 24/30\n",
            "469/469 - 6s - loss: 0.0146 - accuracy: 0.9313 - val_loss: 0.0201 - val_accuracy: 0.8911\n",
            "Epoch 25/30\n",
            "469/469 - 6s - loss: 0.0139 - accuracy: 0.9332 - val_loss: 0.0189 - val_accuracy: 0.8917\n",
            "Epoch 26/30\n",
            "469/469 - 6s - loss: 0.0140 - accuracy: 0.9346 - val_loss: 0.0202 - val_accuracy: 0.8950\n",
            "Epoch 27/30\n",
            "469/469 - 6s - loss: 0.0137 - accuracy: 0.9362 - val_loss: 0.0192 - val_accuracy: 0.8945\n",
            "Epoch 28/30\n",
            "469/469 - 6s - loss: 0.0135 - accuracy: 0.9369 - val_loss: 0.0185 - val_accuracy: 0.8941\n",
            "Epoch 29/30\n",
            "469/469 - 6s - loss: 0.0133 - accuracy: 0.9399 - val_loss: 0.0196 - val_accuracy: 0.8941\n",
            "Epoch 30/30\n",
            "469/469 - 6s - loss: 0.0130 - accuracy: 0.9410 - val_loss: 0.0199 - val_accuracy: 0.8931\n",
            "accuracy =  89.31000232696533\n"
          ],
          "name": "stdout"
        }
      ]
    },
    {
      "cell_type": "markdown",
      "metadata": {
        "id": "R1ocBnYkCPXx"
      },
      "source": [
        "## 학습 곡선 시각화 \n",
        "- hist 객체가 가진 정보를 이용하여 학습 곡선을 그림 "
      ]
    },
    {
      "cell_type": "code",
      "metadata": {
        "colab": {
          "base_uri": "https://localhost:8080/",
          "height": 573
        },
        "id": "2Of-JyfyCH0h",
        "outputId": "cb8fa897-ba9e-4216-e305-b07525652156"
      },
      "source": [
        "import matplotlib.pyplot as plt\n",
        "\n",
        "# accuracy 곡선 \n",
        "plt.plot(hist.history['accuracy'])\n",
        "plt.plot(hist.history['val_accuracy'])\n",
        "plt.title('Model accuracy')\n",
        "plt.ylabel('Accuracy')\n",
        "plt.xlabel('Epoch')\n",
        "plt.legend(['Train','Validation'],loc = 'upper left')\n",
        "plt.grid()\n",
        "plt.show()\n",
        "\n",
        "# 손실 함수 곡선\n",
        "plt.plot(hist.history['loss'])\n",
        "plt.plot(hist.history['val_loss'])\n",
        "plt.title('Model loss')\n",
        "plt.ylabel('Loss')\n",
        "plt.xlabel('Epoch')\n",
        "plt.legend(['Train','Validation'],loc = 'upper right')\n",
        "plt.grid()\n",
        "plt.show()"
      ],
      "execution_count": null,
      "outputs": [
        {
          "output_type": "display_data",
          "data": {
            "image/png": "[encoded data removed]",
            "text/plain": [
              "<Figure size 432x288 with 1 Axes>"
            ]
          },
          "metadata": {
            "tags": [],
            "needs_background": "light"
          }
        },
        {
          "output_type": "display_data",
          "data": {
            "image/png": "[encoded data removed]",
            "text/plain": [
              "<Figure size 432x288 with 1 Axes>"
            ]
          },
          "metadata": {
            "tags": [],
            "needs_background": "light"
          }
        }
      ]
    },
    {
      "cell_type": "markdown",
      "metadata": {
        "id": "n1iLxB3zChSV"
      },
      "source": [
        "# 깊은 다층 퍼셉트론\n",
        "- 다층 퍼셉트론에 은닉층을 더 많이 추가하면 깊은 다층 퍼셉트론\n",
        "- 가장 쉽게 생각할 수 있는 딥러닝 모델\n",
        "\n",
        "#깊은 다층 퍼셉트론 프로그래밍\n",
        "- 깊은 다층 퍼셉트론으로 MNIST 인식\n",
        "- 단지 은닉층 1개가 4개로 확장된 차이"
      ]
    },
    {
      "cell_type": "code",
      "metadata": {
        "colab": {
          "base_uri": "https://localhost:8080/"
        },
        "id": "MtU6dqG4CR7r",
        "outputId": "c0598a51-efc1-4de2-a2fa-812d6c84c971"
      },
      "source": [
        "import numpy as np\n",
        "import tensorflow as tf\n",
        "from tensorflow.keras.datasets import mnist\n",
        "\n",
        "from tensorflow.keras.models import Sequential # 층을 한 줄로 쌓는데 사용 \n",
        "from tensorflow.keras.layers import Dense\n",
        "from tensorflow.keras.optimizers import Adam\n",
        "\n",
        "# fashion_mnist 읽어 와서 신경망에 입력할 형태로 변환 \n",
        "(x_train, y_train), (x_test,y_test) = mnist.load_data()\n",
        "x_train = x_train.reshape(60000,784) # reshape 함수로 2차원 구조의 텐서를 1차원 구조로 변환 \n",
        "x_test = x_test.reshape(10000,784)\n",
        "x_train = x_train.astype(np.float32)/255.0 # float 32 데이터형으로 변환하고 [0,255] 범위를 [0,1] 범위로 정규화\n",
        "x_test=x_test.astype(np.float32)/255.0 # ndarray로 변환 \n",
        "y_train = tf.keras.utils.to_categorical(y_train,10) # 레이블을 원핫 코드로 변환 \n",
        "y_test = tf.keras.utils.to_categorical(y_test,10)\n"
      ],
      "execution_count": null,
      "outputs": [
        {
          "output_type": "stream",
          "text": [
            "Downloading data from https://storage.googleapis.com/tensorflow/tf-keras-datasets/mnist.npz\n",
            "11493376/11490434 [==============================] - 0s 0us/step\n"
          ],
          "name": "stdout"
        }
      ]
    },
    {
      "cell_type": "code",
      "metadata": {
        "id": "Ecr2kJk9DLHQ"
      },
      "source": [
        "n_input = 784\n",
        "n_hidden1=1024\n",
        "n_hidden2=512\n",
        "n_hidden3=512\n",
        "n_hidden4=512\n",
        "n_output=10\n",
        "\n",
        "mlp = Sequential()\n",
        "mlp.add(Dense(units = n_hidden1, activation='tanh', input_shape=(n_input,),kernel_initializer='random_uniform',bias_initializer='zeros'))\n",
        "mlp.add(Dense(units = n_hidden2, activation='tanh', kernel_initializer='random_uniform',bias_initializer='zeros'))\n",
        "mlp.add(Dense(units = n_hidden3, activation='tanh', kernel_initializer='random_uniform',bias_initializer='zeros'))\n",
        "mlp.add(Dense(units = n_hidden4, activation='tanh', kernel_initializer='random_uniform',bias_initializer='zeros'))\n",
        "mlp.add(Dense(units = n_output, activation='tanh', kernel_initializer='random_uniform',bias_initializer='zeros'))"
      ],
      "execution_count": null,
      "outputs": []
    },
    {
      "cell_type": "code",
      "metadata": {
        "colab": {
          "base_uri": "https://localhost:8080/"
        },
        "id": "sGKVg1mfDi5B",
        "outputId": "64bbc6b7-38d5-41f5-89ca-1b7ef4797823"
      },
      "source": [
        "# 신경망 학습\n",
        "mlp.compile(loss='mean_squared_error',optimizer = Adam(learning_rate=0.001),metrics=['accuracy'])\n",
        "hist = mlp.fit(x_train,y_train,batch_size = 128, epochs=30,validation_data = (x_test,y_test),verbose=2)\n",
        "\n",
        "# 학습된 신경망으로 예측\n",
        "res = mlp.evaluate(x_test,y_test,verbose = 0)\n",
        "print('accuracy = ',res[1]*100)\n",
        "\n"
      ],
      "execution_count": null,
      "outputs": [
        {
          "output_type": "stream",
          "text": [
            "Epoch 1/30\n",
            "469/469 - 16s - loss: 0.0254 - accuracy: 0.8993 - val_loss: 0.0134 - val_accuracy: 0.9421\n",
            "Epoch 2/30\n",
            "469/469 - 15s - loss: 0.0104 - accuracy: 0.9536 - val_loss: 0.0081 - val_accuracy: 0.9622\n",
            "Epoch 3/30\n",
            "469/469 - 15s - loss: 0.0072 - accuracy: 0.9664 - val_loss: 0.0076 - val_accuracy: 0.9621\n",
            "Epoch 4/30\n",
            "469/469 - 15s - loss: 0.0056 - accuracy: 0.9736 - val_loss: 0.0057 - val_accuracy: 0.9731\n",
            "Epoch 5/30\n",
            "469/469 - 15s - loss: 0.0045 - accuracy: 0.9787 - val_loss: 0.0049 - val_accuracy: 0.9744\n",
            "Epoch 6/30\n",
            "469/469 - 15s - loss: 0.0038 - accuracy: 0.9820 - val_loss: 0.0053 - val_accuracy: 0.9719\n",
            "Epoch 7/30\n",
            "469/469 - 15s - loss: 0.0035 - accuracy: 0.9846 - val_loss: 0.0043 - val_accuracy: 0.9764\n",
            "Epoch 8/30\n",
            "469/469 - 15s - loss: 0.0030 - accuracy: 0.9864 - val_loss: 0.0043 - val_accuracy: 0.9769\n",
            "Epoch 9/30\n",
            "469/469 - 15s - loss: 0.0027 - accuracy: 0.9881 - val_loss: 0.0041 - val_accuracy: 0.9775\n",
            "Epoch 10/30\n",
            "469/469 - 15s - loss: 0.0024 - accuracy: 0.9895 - val_loss: 0.0045 - val_accuracy: 0.9742\n",
            "Epoch 11/30\n",
            "469/469 - 15s - loss: 0.0024 - accuracy: 0.9896 - val_loss: 0.0044 - val_accuracy: 0.9767\n",
            "Epoch 12/30\n",
            "469/469 - 15s - loss: 0.0023 - accuracy: 0.9897 - val_loss: 0.0039 - val_accuracy: 0.9796\n",
            "Epoch 13/30\n",
            "469/469 - 16s - loss: 0.0020 - accuracy: 0.9913 - val_loss: 0.0039 - val_accuracy: 0.9795\n",
            "Epoch 14/30\n",
            "469/469 - 15s - loss: 0.0018 - accuracy: 0.9918 - val_loss: 0.0037 - val_accuracy: 0.9804\n",
            "Epoch 15/30\n",
            "469/469 - 15s - loss: 0.0018 - accuracy: 0.9923 - val_loss: 0.0042 - val_accuracy: 0.9776\n",
            "Epoch 16/30\n",
            "469/469 - 15s - loss: 0.0016 - accuracy: 0.9932 - val_loss: 0.0038 - val_accuracy: 0.9793\n",
            "Epoch 17/30\n",
            "469/469 - 15s - loss: 0.0016 - accuracy: 0.9934 - val_loss: 0.0037 - val_accuracy: 0.9785\n",
            "Epoch 18/30\n",
            "469/469 - 15s - loss: 0.0013 - accuracy: 0.9945 - val_loss: 0.0042 - val_accuracy: 0.9773\n",
            "Epoch 19/30\n",
            "469/469 - 15s - loss: 0.0013 - accuracy: 0.9946 - val_loss: 0.0039 - val_accuracy: 0.9774\n",
            "Epoch 20/30\n",
            "469/469 - 15s - loss: 0.0013 - accuracy: 0.9946 - val_loss: 0.0039 - val_accuracy: 0.9790\n",
            "Epoch 21/30\n",
            "469/469 - 15s - loss: 0.0012 - accuracy: 0.9950 - val_loss: 0.0039 - val_accuracy: 0.9789\n",
            "Epoch 22/30\n",
            "469/469 - 15s - loss: 0.0012 - accuracy: 0.9955 - val_loss: 0.0039 - val_accuracy: 0.9774\n",
            "Epoch 23/30\n",
            "469/469 - 15s - loss: 0.0010 - accuracy: 0.9959 - val_loss: 0.0036 - val_accuracy: 0.9803\n",
            "Epoch 24/30\n",
            "469/469 - 15s - loss: 0.0011 - accuracy: 0.9958 - val_loss: 0.0038 - val_accuracy: 0.9792\n",
            "Epoch 25/30\n",
            "469/469 - 15s - loss: 9.1777e-04 - accuracy: 0.9965 - val_loss: 0.0042 - val_accuracy: 0.9770\n",
            "Epoch 26/30\n",
            "469/469 - 15s - loss: 9.7820e-04 - accuracy: 0.9965 - val_loss: 0.0041 - val_accuracy: 0.9777\n",
            "Epoch 27/30\n",
            "469/469 - 15s - loss: 9.2060e-04 - accuracy: 0.9966 - val_loss: 0.0034 - val_accuracy: 0.9811\n",
            "Epoch 28/30\n",
            "469/469 - 15s - loss: 9.3311e-04 - accuracy: 0.9964 - val_loss: 0.0041 - val_accuracy: 0.9777\n",
            "Epoch 29/30\n",
            "469/469 - 15s - loss: 9.3359e-04 - accuracy: 0.9963 - val_loss: 0.0044 - val_accuracy: 0.9768\n",
            "Epoch 30/30\n",
            "469/469 - 15s - loss: 9.5318e-04 - accuracy: 0.9963 - val_loss: 0.0036 - val_accuracy: 0.9810\n",
            "accuracy =  98.1000006198883\n"
          ],
          "name": "stdout"
        }
      ]
    },
    {
      "cell_type": "code",
      "metadata": {
        "colab": {
          "base_uri": "https://localhost:8080/",
          "height": 573
        },
        "id": "DNzMpC1kDr4e",
        "outputId": "708030bf-be18-4e29-9fd5-402a596192d9"
      },
      "source": [
        "import matplotlib.pyplot as plt\n",
        "\n",
        "# accuracy 곡선 \n",
        "plt.plot(hist.history['accuracy'])\n",
        "plt.plot(hist.history['val_accuracy'])\n",
        "plt.title('Model accuracy')\n",
        "plt.ylabel('Accuracy')\n",
        "plt.xlabel('Epoch')\n",
        "plt.legend(['Train','Validation'],loc = 'upper left')\n",
        "plt.grid()\n",
        "plt.show()\n",
        "\n",
        "# 손실 함수 곡선\n",
        "plt.plot(hist.history['loss'])\n",
        "plt.plot(hist.history['val_loss'])\n",
        "plt.title('Model loss')\n",
        "plt.ylabel('Loss')\n",
        "plt.xlabel('Epoch')\n",
        "plt.legend(['Train','Validation'],loc = 'upper right')\n",
        "plt.grid()\n",
        "plt.show()"
      ],
      "execution_count": null,
      "outputs": [
        {
          "output_type": "display_data",
          "data": {
            "image/png": "[encoded data removed]",
            "text/plain": [
              "<Figure size 432x288 with 1 Axes>"
            ]
          },
          "metadata": {
            "tags": [],
            "needs_background": "light"
          }
        },
        {
          "output_type": "display_data",
          "data": {
            "image/png": "[encoded data removed]",
            "text/plain": [
              "<Figure size 432x288 with 1 Axes>"
            ]
          },
          "metadata": {
            "tags": [],
            "needs_background": "light"
          }
        }
      ]
    },
    {
      "cell_type": "markdown",
      "metadata": {
        "id": "oIFYasqTDzRU"
      },
      "source": [
        "# 실험 결과 \n",
        "- 98.1\n",
        "- 다층 퍼셉트론의 97.79%에 비해 0.31% 향상"
      ]
    },
    {
      "cell_type": "markdown",
      "metadata": {
        "id": "ifjWAJE2E3Kf"
      },
      "source": [
        "# 가중치 초기화 방법 \n",
        "- kernel_initializer=‘random_uniform’으로 설정했으므로 균일 분포에서 난수 생성하여 가중치를 초기화함\n",
        "\n",
        "- Dense 함수의 API \n",
        "\n",
        "    - kernel_initializer의 기본값은 ‘glorot_uniform’\n",
        "    \n",
        "    Dense(units , activation=None, kernel_initializer=__'glorot_uniform'__,bias_initializer=__'zeros'__)\n",
        "\n",
        "    - glorot_uniform은 [Glorot2010]에서 유래하는데, 텐서플로는 좋은 성능이 입증되었다고 판단하여 기본값으로 제공함(보통 균일 분포보다 우수한 성능을 제공한다고 알려짐)\n",
        "- 이런 사실에 따라 앞으로는 생략하여 glorot_uniform을 사용\n",
        "    - 성능 향상 효과\n",
        "    - 파이썬 코드가 간결해지는 효과\n",
        "\n",
        "    \n",
        "    mlp.add(Dense(units = n_hidden1, activation='tanh', input_shape=(n_input,))\n",
        "    mlp.add(Dense(units = n_hidden2, activation='tanh')\n",
        "    mlp.add(Dense(units = n_hidden3, activation='tanh')\n",
        "    mlp.add(Dense(units = n_hidden4, activation='tanh')\n",
        "    mlp.add(Dense(units = n_output, activation='tanh')\n",
        "\n",
        "    \n",
        "\n"
      ]
    },
    {
      "cell_type": "markdown",
      "metadata": {
        "id": "3T6GDlTKKmDY"
      },
      "source": [
        "# 딥러닝의 학습 전략 \n",
        "\n",
        "- 층이 깊어지면 현실적인 문제 발생\n",
        "    - 그레이디언트 소멸 문제\n",
        "    - 과잉 적합 문제\n"
      ]
    },
    {
      "cell_type": "markdown",
      "metadata": {
        "id": "71BVXz6nK4hn"
      },
      "source": [
        "# 그레이디언트 소멸 문제와 해결책 \n",
        "- 그레이디언트 소멸 문제\n",
        "    - 미분의 연쇄 법칙chain rule에 따르면,\n",
        "l번째 층의 그레이디언트는 오른쪽에 있는 l+1번째 층의 그레이디언트에 자신 층에서 발생한 그레이디언트를 곱하여 구함\n",
        "    - 따라서 그레이디언트가 0.001처럼 작은 경우 왼쪽으로 진행하면서 점점 작아짐\n",
        "    - 왼쪽으로 갈수록 가중치 갱신이 느려져서 전체 신경망의 학습이 매우 느린 현상이 발생\n",
        "\n",
        "- 해결책 \n",
        "\n",
        "    1) 병렬 처리\n",
        "    - GPU 사용 또는 colab에서 TPU(Tensor Processing Unit) 설정\n",
        "        - 구글이 신경망 학습을 빠르게 할 목적으로 개발한 기계학습 전용 병렬 처리 기계\n",
        "\n",
        "  2) ReLU 함수 사용\n",
        "    - Tanh(s) 시그모이드 함수의 문제점\n",
        "    \n",
        "    s가 클 때 그레이디언트가 0에 가까워짐(s=8이면 그레이디언트 값은 0.0000004501)\n",
        "    - ReLU는 s가 음수일 때 그레이디언트는 0, 양수일 때 1\n",
        "\n",
        "\n",
        "\n"
      ]
    },
    {
      "cell_type": "markdown",
      "metadata": {
        "id": "3ya-lOHUMByT"
      },
      "source": [
        "## 과잉 적합과 과소 적합 회피 전략 \n",
        "- 모델로 1차 다항식을 사용하면 과소 적합(under fitting)\n",
        "    - 데이터에 비해 모델 용량이 작은 상황\n",
        "- 용량이 가장 큰 12차 다항식은 훈련 집합에 대해 가장 적은 오류을 내지만 과잉 적합(over fitting)\n",
        "    - 데이터의 복잡도에 비해 너무 큰 용량의 모델을 사용한 것  \n"
      ]
    },
    {
      "cell_type": "markdown",
      "metadata": {
        "id": "UAw1uEhJMnQb"
      },
      "source": [
        "# 딥러닝의 과잉 적합 회피 전략\n",
        "\n",
        "- 데이터 양을 늘림\n",
        "    - 데이터 양을 늘릴 수 없는 상황에서는 훈련 샘플을 변형하여 인위적으로 늘리는 데이터 증대(data augmentation) 사용\n",
        "- 규제 기법 적용 \n",
        "  - 데이터 증대, 가중치 감쇠, 드롭아웃, 앙상블 등 \n"
      ]
    },
    {
      "cell_type": "code",
      "metadata": {
        "id": "3_2JVGfNDtxc"
      },
      "source": [
        ""
      ],
      "execution_count": null,
      "outputs": []
    }
  ]
}