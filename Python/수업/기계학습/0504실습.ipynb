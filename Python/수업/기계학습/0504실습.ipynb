{
 "cells": [
  {
   "cell_type": "code",
   "execution_count": 5,
   "metadata": {
    "collapsed": true
   },
   "outputs": [
    {
     "name": "stdout",
     "output_type": "stream",
     "text": [
      "학습된 퍼셉트론의 매개변수:  [[2. 2.]] [-1.]\n",
      "훈련집합에 대한 예측:  [-1  1  1  1]\n",
      "정확률 측정 :  100.0 %\n"
     ]
    }
   ],
   "source": [
    "from sklearn.linear_model import Perceptron\n",
    "\n",
    "X = [[0,0], [0,1], [1,0], [1,1]]\n",
    "y = [-1, 1, 1, 1]\n",
    "\n",
    "p = Perceptron()\n",
    "p.fit(X, y)\n",
    "\n",
    "print('학습된 퍼셉트론의 매개변수: ', p.coef_, p.intercept_)\n",
    "print('훈련집합에 대한 예측: ', p.predict(X))\n",
    "print('정확률 측정 : ', p.score(X, y) * 100, \"%\")"
   ]
  },
  {
   "cell_type": "markdown",
   "source": [
    "## 필기 숫자 데이터 인식"
   ],
   "metadata": {
    "collapsed": false,
    "pycharm": {
     "name": "#%% md\n",
     "is_executing": true
    }
   }
  },
  {
   "cell_type": "code",
   "execution_count": 7,
   "outputs": [
    {
     "name": "stdout",
     "output_type": "stream",
     "text": [
      "[[71.  0.  0.  0.  0.  0.  0.  0.  0.  0.]\n",
      " [ 0. 54.  0.  0.  0.  0.  0.  0.  0.  0.]\n",
      " [ 0.  0. 74.  0.  0.  0.  0.  0.  2.  0.]\n",
      " [ 0.  0.  1. 65.  0.  1.  0.  0.  4.  2.]\n",
      " [ 2.  2.  0.  0. 75.  1.  0.  0.  0.  0.]\n",
      " [ 2.  1.  0.  0.  0. 79.  0.  0.  2.  2.]\n",
      " [ 0.  1.  0.  0.  0.  1. 77.  0.  3.  0.]\n",
      " [ 0.  0.  0.  0.  1.  0.  0. 64.  3.  1.]\n",
      " [ 0.  9.  0.  0.  2.  0.  2.  1. 59.  4.]\n",
      " [ 0.  0.  0.  0.  0.  0.  0.  0.  0. 51.]]\n",
      "\n",
      "테스트 집합에 대한 정확률은  93.04589707927677 %입니다.\n"
     ]
    }
   ],
   "source": [
    "from sklearn import datasets\n",
    "from sklearn.linear_model import Perceptron\n",
    "from sklearn.model_selection import train_test_split\n",
    "import numpy as np\n",
    "\n",
    "#데이터셋 읽고 분할\n",
    "digit = datasets.load_digits()\n",
    "X_train, X_test, y_train, y_test = train_test_split(digit.data, digit.target, train_size=0.6)\n",
    "\n",
    "#fit 으로 학습\n",
    "p = Perceptron(max_iter=100, eta0=0.001, verbose=0)\n",
    "p.fit(X_train, y_train)\n",
    "\n",
    "res = p.predict(X_test)\n",
    "\n",
    "#혼동 행렬\n",
    "conf = np.zeros((10, 10))\n",
    "\n",
    "for i in range(len(res)):\n",
    "    conf[res[i]][y_test[i]] += 1\n",
    "print(conf)\n",
    "\n",
    "#정확률 계산\n",
    "no_correct = 0\n",
    "for i in range(10):\n",
    "    no_correct += conf[i][i]\n",
    "accuracy = no_correct/len(res)\n",
    "\n",
    "print(\"\\n테스트 집합에 대한 정확률은 \", accuracy*100, '%입니다.')"
   ],
   "metadata": {
    "collapsed": false,
    "pycharm": {
     "name": "#%%\n"
    }
   }
  },
  {
   "cell_type": "markdown",
   "source": [
    "##### 퍼셉트론의 한계\n",
    "선형분리가 안되는 데이터에서는 높은 오류율\n",
    "다층 퍼셉트론으로 비선형 확장이 필요함\n",
    "\n",
    "##### 다층 퍼셉트론의 구조\n",
    "입력층, 은닉층, 출력층으로 구성\n"
   ],
   "metadata": {
    "collapsed": false,
    "pycharm": {
     "name": "#%% md\n"
    }
   }
  },
  {
   "cell_type": "code",
   "execution_count": null,
   "outputs": [],
   "source": [],
   "metadata": {
    "collapsed": false,
    "pycharm": {
     "name": "#%%\n"
    }
   }
  }
 ],
 "metadata": {
  "kernelspec": {
   "display_name": "Python 3",
   "language": "python",
   "name": "python3"
  },
  "language_info": {
   "codemirror_mode": {
    "name": "ipython",
    "version": 2
   },
   "file_extension": ".py",
   "mimetype": "text/x-python",
   "name": "python",
   "nbconvert_exporter": "python",
   "pygments_lexer": "ipython2",
   "version": "2.7.6"
  }
 },
 "nbformat": 4,
 "nbformat_minor": 0
}